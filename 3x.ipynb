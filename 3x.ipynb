{
 "cells": [
  {
   "cell_type": "code",
   "execution_count": 1,
   "metadata": {},
   "outputs": [
    {
     "name": "stdout",
     "output_type": "stream",
     "text": [
      "Populating the interactive namespace from numpy and matplotlib\n"
     ]
    }
   ],
   "source": [
    "%pylab inline\n",
    "from app.analysis import Quote"
   ]
  },
  {
   "cell_type": "code",
   "execution_count": 2,
   "metadata": {},
   "outputs": [
    {
     "name": "stdout",
     "output_type": "stream",
     "text": [
      "0.5495 0.4505\n"
     ]
    },
    {
     "data": {
      "text/html": [
       "<div>\n",
       "<style scoped>\n",
       "    .dataframe tbody tr th:only-of-type {\n",
       "        vertical-align: middle;\n",
       "    }\n",
       "\n",
       "    .dataframe tbody tr th {\n",
       "        vertical-align: top;\n",
       "    }\n",
       "\n",
       "    .dataframe thead th {\n",
       "        text-align: right;\n",
       "    }\n",
       "</style>\n",
       "<table border=\"1\" class=\"dataframe\">\n",
       "  <thead>\n",
       "    <tr style=\"text-align: right;\">\n",
       "      <th></th>\n",
       "      <th>21-len</th>\n",
       "      <th>21-mean</th>\n",
       "      <th>21-std</th>\n",
       "      <th>21-shrp</th>\n",
       "      <th>drawdown</th>\n",
       "    </tr>\n",
       "    <tr>\n",
       "      <th>symbol</th>\n",
       "      <th></th>\n",
       "      <th></th>\n",
       "      <th></th>\n",
       "      <th></th>\n",
       "      <th></th>\n",
       "    </tr>\n",
       "  </thead>\n",
       "  <tbody>\n",
       "    <tr>\n",
       "      <th>TMF</th>\n",
       "      <td>64</td>\n",
       "      <td>7.589277</td>\n",
       "      <td>7.328197</td>\n",
       "      <td>1.011746</td>\n",
       "      <td>9.589673</td>\n",
       "    </tr>\n",
       "    <tr>\n",
       "      <th>UPRO</th>\n",
       "      <td>64</td>\n",
       "      <td>1.821289</td>\n",
       "      <td>8.938400</td>\n",
       "      <td>0.184182</td>\n",
       "      <td>19.546279</td>\n",
       "    </tr>\n",
       "  </tbody>\n",
       "</table>\n",
       "</div>"
      ],
      "text/plain": [
       "        21-len   21-mean    21-std   21-shrp   drawdown\n",
       "symbol                                                 \n",
       "TMF         64  7.589277  7.328197  1.011746   9.589673\n",
       "UPRO        64  1.821289  8.938400  0.184182  19.546279"
      ]
     },
     "execution_count": 2,
     "metadata": {},
     "output_type": "execute_result"
    }
   ],
   "source": [
    "quote = Quote(['TMF', 'UPRO'], 120)\n",
    "stat = quote.statistics(21)\n",
    "tmf, upro = stat['21-std']['TMF'], stat['21-std']['UPRO']\n",
    "print(f\"{upro / (tmf + upro):.4f} {tmf / (tmf + upro):.4f}\")\n",
    "stat"
   ]
  },
  {
   "cell_type": "code",
   "execution_count": null,
   "metadata": {},
   "outputs": [],
   "source": [
    "quote.graph(21, {'TMF': 0.5515, 'UPRO': 0.4485})"
   ]
  },
  {
   "cell_type": "code",
   "execution_count": null,
   "metadata": {},
   "outputs": [],
   "source": [
    "Quote(['MUB', 'PGX', 'BXMT', 'VNQ', 'SPLV', 'TMF', 'UPRO', 'MCD'], 120).graph(\n",
    "    21, {'MUB': .156, 'PGX': .144,\n",
    "         'BXMT': .12, 'VNQ': .08,\n",
    "         'SPLV': .20,\n",
    "         'TMF': .11, 'UPRO': .09,\n",
    "         'MCD': .1})"
   ]
  },
  {
   "cell_type": "code",
   "execution_count": null,
   "metadata": {},
   "outputs": [],
   "source": []
  }
 ],
 "metadata": {
  "kernelspec": {
   "display_name": "Python 3",
   "language": "python",
   "name": "python3"
  },
  "language_info": {
   "codemirror_mode": {
    "name": "ipython",
    "version": 3
   },
   "file_extension": ".py",
   "mimetype": "text/x-python",
   "name": "python",
   "nbconvert_exporter": "python",
   "pygments_lexer": "ipython3",
   "version": "3.7.3"
  }
 },
 "nbformat": 4,
 "nbformat_minor": 2
}
