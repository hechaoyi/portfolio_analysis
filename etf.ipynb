{
 "cells": [
  {
   "cell_type": "code",
   "execution_count": 1,
   "metadata": {},
   "outputs": [
    {
     "name": "stdout",
     "output_type": "stream",
     "text": [
      "Populating the interactive namespace from numpy and matplotlib\n"
     ]
    },
    {
     "data": {
      "text/plain": [
       "'from 2019-02-27 to 2019-06-07'"
      ]
     },
     "execution_count": 1,
     "metadata": {},
     "output_type": "execute_result"
    }
   ],
   "source": [
    "%pylab inline\n",
    "from datetime import date\n",
    "from app import create_app\n",
    "from app.instrument import Instrument\n",
    "from app.analysis import Quote\n",
    "with create_app().app_context():\n",
    "    quote = Quote([b.symbol for b in Instrument.find_etfs(100)], 100)\n",
    "f'from {quote.start.date()} to {date.today()}'"
   ]
  },
  {
   "cell_type": "code",
   "execution_count": 2,
   "metadata": {},
   "outputs": [
    {
     "data": {
      "text/html": [
       "<div>\n",
       "<style scoped>\n",
       "    .dataframe tbody tr th:only-of-type {\n",
       "        vertical-align: middle;\n",
       "    }\n",
       "\n",
       "    .dataframe tbody tr th {\n",
       "        vertical-align: top;\n",
       "    }\n",
       "\n",
       "    .dataframe thead th {\n",
       "        text-align: right;\n",
       "    }\n",
       "</style>\n",
       "<table border=\"1\" class=\"dataframe\">\n",
       "  <thead>\n",
       "    <tr style=\"text-align: right;\">\n",
       "      <th></th>\n",
       "      <th>21-len</th>\n",
       "      <th>21-mean</th>\n",
       "      <th>21-std</th>\n",
       "      <th>21-shrp</th>\n",
       "      <th>drawdown</th>\n",
       "    </tr>\n",
       "    <tr>\n",
       "      <th>Symbols</th>\n",
       "      <th></th>\n",
       "      <th></th>\n",
       "      <th></th>\n",
       "      <th></th>\n",
       "      <th></th>\n",
       "    </tr>\n",
       "  </thead>\n",
       "  <tbody>\n",
       "    <tr>\n",
       "      <th>SPLV</th>\n",
       "      <td>50</td>\n",
       "      <td>1.605716</td>\n",
       "      <td>1.148190</td>\n",
       "      <td>1.244321</td>\n",
       "      <td>1.971361</td>\n",
       "    </tr>\n",
       "    <tr>\n",
       "      <th>FINX</th>\n",
       "      <td>50</td>\n",
       "      <td>1.983492</td>\n",
       "      <td>2.492357</td>\n",
       "      <td>0.724813</td>\n",
       "      <td>5.312173</td>\n",
       "    </tr>\n",
       "    <tr>\n",
       "      <th>XLU</th>\n",
       "      <td>50</td>\n",
       "      <td>0.935085</td>\n",
       "      <td>1.711674</td>\n",
       "      <td>0.442891</td>\n",
       "      <td>3.426052</td>\n",
       "    </tr>\n",
       "    <tr>\n",
       "      <th>ICLN</th>\n",
       "      <td>50</td>\n",
       "      <td>1.263639</td>\n",
       "      <td>2.457692</td>\n",
       "      <td>0.442138</td>\n",
       "      <td>4.109590</td>\n",
       "    </tr>\n",
       "    <tr>\n",
       "      <th>VIG</th>\n",
       "      <td>50</td>\n",
       "      <td>1.118844</td>\n",
       "      <td>2.437347</td>\n",
       "      <td>0.386422</td>\n",
       "      <td>4.634193</td>\n",
       "    </tr>\n",
       "    <tr>\n",
       "      <th>ITA</th>\n",
       "      <td>50</td>\n",
       "      <td>1.276430</td>\n",
       "      <td>3.042686</td>\n",
       "      <td>0.361335</td>\n",
       "      <td>6.911841</td>\n",
       "    </tr>\n",
       "    <tr>\n",
       "      <th>VOOG</th>\n",
       "      <td>50</td>\n",
       "      <td>1.037793</td>\n",
       "      <td>3.066414</td>\n",
       "      <td>0.280716</td>\n",
       "      <td>6.391444</td>\n",
       "    </tr>\n",
       "    <tr>\n",
       "      <th>SPYG</th>\n",
       "      <td>50</td>\n",
       "      <td>1.029170</td>\n",
       "      <td>3.043674</td>\n",
       "      <td>0.279981</td>\n",
       "      <td>6.359873</td>\n",
       "    </tr>\n",
       "    <tr>\n",
       "      <th>XLF</th>\n",
       "      <td>50</td>\n",
       "      <td>1.204323</td>\n",
       "      <td>4.161100</td>\n",
       "      <td>0.246887</td>\n",
       "      <td>7.338794</td>\n",
       "    </tr>\n",
       "    <tr>\n",
       "      <th>VFH</th>\n",
       "      <td>50</td>\n",
       "      <td>1.095032</td>\n",
       "      <td>4.091124</td>\n",
       "      <td>0.224396</td>\n",
       "      <td>7.299370</td>\n",
       "    </tr>\n",
       "  </tbody>\n",
       "</table>\n",
       "</div>"
      ],
      "text/plain": [
       "         21-len   21-mean    21-std   21-shrp  drawdown\n",
       "Symbols                                                \n",
       "SPLV         50  1.605716  1.148190  1.244321  1.971361\n",
       "FINX         50  1.983492  2.492357  0.724813  5.312173\n",
       "XLU          50  0.935085  1.711674  0.442891  3.426052\n",
       "ICLN         50  1.263639  2.457692  0.442138  4.109590\n",
       "VIG          50  1.118844  2.437347  0.386422  4.634193\n",
       "ITA          50  1.276430  3.042686  0.361335  6.911841\n",
       "VOOG         50  1.037793  3.066414  0.280716  6.391444\n",
       "SPYG         50  1.029170  3.043674  0.279981  6.359873\n",
       "XLF          50  1.204323  4.161100  0.246887  7.338794\n",
       "VFH          50  1.095032  4.091124  0.224396  7.299370"
      ]
     },
     "execution_count": 2,
     "metadata": {},
     "output_type": "execute_result"
    }
   ],
   "source": [
    "stat = quote.statistics(21)\n",
    "stat = stat[(stat['drawdown'] < 8) & (stat['21-mean'] > 0.8)]\n",
    "stat"
   ]
  },
  {
   "cell_type": "code",
   "execution_count": 6,
   "metadata": {},
   "outputs": [
    {
     "name": "stdout",
     "output_type": "stream",
     "text": [
      "['SPLV'] -0.7514804135385182 0.0 0.49284013923112413 -1.2443205527696424\n"
     ]
    },
    {
     "data": {
      "text/plain": [
       "['SPLV']"
      ]
     },
     "execution_count": 6,
     "metadata": {},
     "output_type": "execute_result"
    }
   ],
   "source": [
    "quote.setup_mask(stat.index)\n",
    "quote.least_correlated_portfolio(21, 1)"
   ]
  },
  {
   "cell_type": "code",
   "execution_count": 7,
   "metadata": {},
   "outputs": [
    {
     "name": "stdout",
     "output_type": "stream",
     "text": [
      "['SPLV', 'FINX'] 0.9142932484349184 1.0625429270037445 1.8208834475592637 -1.9691331261280898\n",
      "['SPLV', 'ICLN'] 0.4836570643731981 0.6498781456505021 1.5202375592902166 -1.6864586405675206\n",
      "['XLU', 'ICLN'] 0.3865099970979694 -0.6123714754284411 1.8839105175532063 -0.8850290450267958\n"
     ]
    },
    {
     "data": {
      "text/plain": [
       "['XLU', 'ICLN']"
      ]
     },
     "execution_count": 7,
     "metadata": {},
     "output_type": "execute_result"
    }
   ],
   "source": [
    "quote.setup_mask(stat.index)\n",
    "quote.least_correlated_portfolio(21, 2)"
   ]
  },
  {
   "cell_type": "code",
   "execution_count": 8,
   "metadata": {},
   "outputs": [
    {
     "name": "stdout",
     "output_type": "stream",
     "text": [
      "['SPLV', 'FINX'] 0.9142932484349184 1.0625429270037445 1.8208834475592637 -1.9691331261280898\n",
      "['SPLV', 'ICLN'] 0.4836570643731981 0.6498781456505021 1.5202375592902166 -1.6864586405675206\n"
     ]
    },
    {
     "data": {
      "text/plain": [
       "['SPLV', 'ICLN']"
      ]
     },
     "execution_count": 8,
     "metadata": {},
     "output_type": "execute_result"
    }
   ],
   "source": [
    "quote.setup_mask(stat.index)\n",
    "quote.least_correlated_portfolio(21, 2, ['SPLV'])"
   ]
  },
  {
   "cell_type": "code",
   "execution_count": 6,
   "metadata": {},
   "outputs": [
    {
     "name": "stderr",
     "output_type": "stream",
     "text": [
      "/Users/chaoyi/.local/share/virtualenvs/portfolio_analysis-bdMx2S3t/lib/python3.7/site-packages/scipy/optimize/minpack.py:162: RuntimeWarning: The iteration is not making good progress, as measured by the \n",
      "  improvement from the last ten iterations.\n",
      "  warnings.warn(msg, RuntimeWarning)\n"
     ]
    },
    {
     "data": {
      "text/plain": [
       "(Symbols\n",
       " SPLV    0.927462\n",
       " ICLN    0.072538\n",
       " dtype: float64, 1.5809, 1.1354)"
      ]
     },
     "execution_count": 6,
     "metadata": {},
     "output_type": "execute_result"
    }
   ],
   "source": [
    "quote.setup_mask(['SPLV', 'ICLN'])\n",
    "quote.find_optimal_ratio(21, 1)"
   ]
  },
  {
   "cell_type": "code",
   "execution_count": 7,
   "metadata": {},
   "outputs": [
    {
     "data": {
      "text/html": [
       "<div>\n",
       "<style scoped>\n",
       "    .dataframe tbody tr th:only-of-type {\n",
       "        vertical-align: middle;\n",
       "    }\n",
       "\n",
       "    .dataframe tbody tr th {\n",
       "        vertical-align: top;\n",
       "    }\n",
       "\n",
       "    .dataframe thead th {\n",
       "        text-align: right;\n",
       "    }\n",
       "</style>\n",
       "<table border=\"1\" class=\"dataframe\">\n",
       "  <thead>\n",
       "    <tr style=\"text-align: right;\">\n",
       "      <th></th>\n",
       "      <th>count</th>\n",
       "      <th>mean</th>\n",
       "      <th>std</th>\n",
       "      <th>min</th>\n",
       "      <th>25%</th>\n",
       "      <th>50%</th>\n",
       "      <th>75%</th>\n",
       "      <th>max</th>\n",
       "      <th>shrp</th>\n",
       "      <th>drawdown</th>\n",
       "    </tr>\n",
       "  </thead>\n",
       "  <tbody>\n",
       "    <tr>\n",
       "      <th>SPLV</th>\n",
       "      <td>50.0</td>\n",
       "      <td>1.605716</td>\n",
       "      <td>1.148190</td>\n",
       "      <td>-0.950248</td>\n",
       "      <td>0.889543</td>\n",
       "      <td>1.733538</td>\n",
       "      <td>2.093110</td>\n",
       "      <td>4.955301</td>\n",
       "      <td>1.244321</td>\n",
       "      <td>1.971361</td>\n",
       "    </tr>\n",
       "    <tr>\n",
       "      <th>Portfolio</th>\n",
       "      <td>50.0</td>\n",
       "      <td>1.579435</td>\n",
       "      <td>1.134565</td>\n",
       "      <td>-0.966877</td>\n",
       "      <td>0.892208</td>\n",
       "      <td>1.692531</td>\n",
       "      <td>2.142835</td>\n",
       "      <td>4.832869</td>\n",
       "      <td>1.236099</td>\n",
       "      <td>1.942796</td>\n",
       "    </tr>\n",
       "    <tr>\n",
       "      <th>ICLN</th>\n",
       "      <td>50.0</td>\n",
       "      <td>1.263639</td>\n",
       "      <td>2.457692</td>\n",
       "      <td>-2.859960</td>\n",
       "      <td>-0.766495</td>\n",
       "      <td>1.367268</td>\n",
       "      <td>3.001491</td>\n",
       "      <td>6.210528</td>\n",
       "      <td>0.442138</td>\n",
       "      <td>4.109590</td>\n",
       "    </tr>\n",
       "  </tbody>\n",
       "</table>\n",
       "</div>"
      ],
      "text/plain": [
       "           count      mean       std       min       25%       50%       75%  \\\n",
       "SPLV        50.0  1.605716  1.148190 -0.950248  0.889543  1.733538  2.093110   \n",
       "Portfolio   50.0  1.579435  1.134565 -0.966877  0.892208  1.692531  2.142835   \n",
       "ICLN        50.0  1.263639  2.457692 -2.859960 -0.766495  1.367268  3.001491   \n",
       "\n",
       "                max      shrp  drawdown  \n",
       "SPLV       4.955301  1.244321  1.971361  \n",
       "Portfolio  4.832869  1.236099  1.942796  \n",
       "ICLN       6.210528  0.442138  4.109590  "
      ]
     },
     "execution_count": 7,
     "metadata": {},
     "output_type": "execute_result"
    },
    {
     "data": {
      "image/png": "[encoded data removed]",
      "text/plain": [
       "<Figure size 864x576 with 1 Axes>"
      ]
     },
     "metadata": {
      "needs_background": "light"
     },
     "output_type": "display_data"
    }
   ],
   "source": [
    "quote.graph(21, {'SPLV': 0.927462, 'ICLN': 0.072538})"
   ]
  },
  {
   "cell_type": "code",
   "execution_count": null,
   "metadata": {},
   "outputs": [],
   "source": []
  }
 ],
 "metadata": {
  "kernelspec": {
   "display_name": "Python 3",
   "language": "python",
   "name": "python3"
  },
  "language_info": {
   "codemirror_mode": {
    "name": "ipython",
    "version": 3
   },
   "file_extension": ".py",
   "mimetype": "text/x-python",
   "name": "python",
   "nbconvert_exporter": "python",
   "pygments_lexer": "ipython3",
   "version": "3.7.3"
  }
 },
 "nbformat": 4,
 "nbformat_minor": 2
}
