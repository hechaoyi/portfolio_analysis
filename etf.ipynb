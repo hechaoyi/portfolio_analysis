{
 "cells": [
  {
   "cell_type": "code",
   "execution_count": 1,
   "metadata": {},
   "outputs": [
    {
     "name": "stdout",
     "output_type": "stream",
     "text": [
      "Populating the interactive namespace from numpy and matplotlib\n"
     ]
    },
    {
     "data": {
      "text/plain": [
       "'from 2019-02-26 to 2019-06-06'"
      ]
     },
     "execution_count": 1,
     "metadata": {},
     "output_type": "execute_result"
    }
   ],
   "source": [
    "%pylab inline\n",
    "from datetime import date\n",
    "from app import create_app\n",
    "from app.instrument import Instrument\n",
    "from app.analysis import Quote\n",
    "with create_app().app_context():\n",
    "    quote = Quote([b.symbol for b in Instrument.find_etfs(100)], 100)\n",
    "f'from {quote.start.date()} to {date.today()}'"
   ]
  },
  {
   "cell_type": "code",
   "execution_count": 2,
   "metadata": {},
   "outputs": [
    {
     "data": {
      "text/html": [
       "<div>\n",
       "<style scoped>\n",
       "    .dataframe tbody tr th:only-of-type {\n",
       "        vertical-align: middle;\n",
       "    }\n",
       "\n",
       "    .dataframe tbody tr th {\n",
       "        vertical-align: top;\n",
       "    }\n",
       "\n",
       "    .dataframe thead th {\n",
       "        text-align: right;\n",
       "    }\n",
       "</style>\n",
       "<table border=\"1\" class=\"dataframe\">\n",
       "  <thead>\n",
       "    <tr style=\"text-align: right;\">\n",
       "      <th></th>\n",
       "      <th>21-len</th>\n",
       "      <th>21-mean</th>\n",
       "      <th>21-std</th>\n",
       "      <th>21-shrp</th>\n",
       "      <th>drawdown</th>\n",
       "    </tr>\n",
       "    <tr>\n",
       "      <th>Symbols</th>\n",
       "      <th></th>\n",
       "      <th></th>\n",
       "      <th></th>\n",
       "      <th></th>\n",
       "      <th></th>\n",
       "    </tr>\n",
       "  </thead>\n",
       "  <tbody>\n",
       "    <tr>\n",
       "      <th>SPLV</th>\n",
       "      <td>50</td>\n",
       "      <td>1.538644</td>\n",
       "      <td>1.017359</td>\n",
       "      <td>1.338493</td>\n",
       "      <td>1.971361</td>\n",
       "    </tr>\n",
       "    <tr>\n",
       "      <th>FINX</th>\n",
       "      <td>50</td>\n",
       "      <td>1.946531</td>\n",
       "      <td>2.489638</td>\n",
       "      <td>0.710792</td>\n",
       "      <td>5.312173</td>\n",
       "    </tr>\n",
       "    <tr>\n",
       "      <th>XLU</th>\n",
       "      <td>50</td>\n",
       "      <td>0.903662</td>\n",
       "      <td>1.639420</td>\n",
       "      <td>0.443294</td>\n",
       "      <td>3.426052</td>\n",
       "    </tr>\n",
       "    <tr>\n",
       "      <th>ICLN</th>\n",
       "      <td>50</td>\n",
       "      <td>1.147435</td>\n",
       "      <td>2.492229</td>\n",
       "      <td>0.389418</td>\n",
       "      <td>4.109590</td>\n",
       "    </tr>\n",
       "    <tr>\n",
       "      <th>VIG</th>\n",
       "      <td>50</td>\n",
       "      <td>1.064587</td>\n",
       "      <td>2.435680</td>\n",
       "      <td>0.364445</td>\n",
       "      <td>4.634193</td>\n",
       "    </tr>\n",
       "    <tr>\n",
       "      <th>ITA</th>\n",
       "      <td>50</td>\n",
       "      <td>1.110447</td>\n",
       "      <td>3.181820</td>\n",
       "      <td>0.293395</td>\n",
       "      <td>6.911841</td>\n",
       "    </tr>\n",
       "    <tr>\n",
       "      <th>VOOG</th>\n",
       "      <td>50</td>\n",
       "      <td>1.051095</td>\n",
       "      <td>3.073722</td>\n",
       "      <td>0.284404</td>\n",
       "      <td>6.391444</td>\n",
       "    </tr>\n",
       "    <tr>\n",
       "      <th>SPYG</th>\n",
       "      <td>50</td>\n",
       "      <td>1.040540</td>\n",
       "      <td>3.051404</td>\n",
       "      <td>0.283025</td>\n",
       "      <td>6.359873</td>\n",
       "    </tr>\n",
       "    <tr>\n",
       "      <th>XLF</th>\n",
       "      <td>50</td>\n",
       "      <td>1.141032</td>\n",
       "      <td>4.210893</td>\n",
       "      <td>0.228957</td>\n",
       "      <td>7.338794</td>\n",
       "    </tr>\n",
       "    <tr>\n",
       "      <th>VFH</th>\n",
       "      <td>50</td>\n",
       "      <td>1.028868</td>\n",
       "      <td>4.147785</td>\n",
       "      <td>0.205399</td>\n",
       "      <td>7.299370</td>\n",
       "    </tr>\n",
       "  </tbody>\n",
       "</table>\n",
       "</div>"
      ],
      "text/plain": [
       "         21-len   21-mean    21-std   21-shrp  drawdown\n",
       "Symbols                                                \n",
       "SPLV         50  1.538644  1.017359  1.338493  1.971361\n",
       "FINX         50  1.946531  2.489638  0.710792  5.312173\n",
       "XLU          50  0.903662  1.639420  0.443294  3.426052\n",
       "ICLN         50  1.147435  2.492229  0.389418  4.109590\n",
       "VIG          50  1.064587  2.435680  0.364445  4.634193\n",
       "ITA          50  1.110447  3.181820  0.293395  6.911841\n",
       "VOOG         50  1.051095  3.073722  0.284404  6.391444\n",
       "SPYG         50  1.040540  3.051404  0.283025  6.359873\n",
       "XLF          50  1.141032  4.210893  0.228957  7.338794\n",
       "VFH          50  1.028868  4.147785  0.205399  7.299370"
      ]
     },
     "execution_count": 2,
     "metadata": {},
     "output_type": "execute_result"
    }
   ],
   "source": [
    "stat = quote.statistics(21)\n",
    "stat = stat[(stat['drawdown'] < 8) & (stat['21-mean'] > 0.8)]\n",
    "stat"
   ]
  },
  {
   "cell_type": "code",
   "execution_count": 6,
   "metadata": {},
   "outputs": [
    {
     "name": "stdout",
     "output_type": "stream",
     "text": [
      "['SPLV'] -0.8456524821960396 0.0 0.49284013923112413 -1.3384926214271637\n"
     ]
    },
    {
     "data": {
      "text/plain": [
       "['SPLV']"
      ]
     },
     "execution_count": 6,
     "metadata": {},
     "output_type": "execute_result"
    }
   ],
   "source": [
    "quote.setup_mask(stat.index)\n",
    "quote.least_correlated_portfolio(21, 1)"
   ]
  },
  {
   "cell_type": "code",
   "execution_count": 4,
   "metadata": {},
   "outputs": [
    {
     "name": "stdout",
     "output_type": "stream",
     "text": [
      "['SPLV', 'FINX'] 0.8863379177372308 1.1147386691817092 1.8208834475592637 -2.049284199003742\n",
      "['SPLV', 'XLU'] 0.8326910472515361 1.2651245661951318 1.3493532367252379 -1.7817867556688336\n",
      "['SPLV', 'ICLN'] 0.36653719419000264 0.5742100782285138 1.5202375592902166 -1.7279104433287278\n"
     ]
    },
    {
     "data": {
      "text/plain": [
       "['SPLV', 'ICLN']"
      ]
     },
     "execution_count": 4,
     "metadata": {},
     "output_type": "execute_result"
    }
   ],
   "source": [
    "quote.setup_mask(stat.index)\n",
    "quote.least_correlated_portfolio(21, 2, ['SPLV'])"
   ]
  },
  {
   "cell_type": "code",
   "execution_count": 6,
   "metadata": {},
   "outputs": [
    {
     "name": "stderr",
     "output_type": "stream",
     "text": [
      "/Users/chaoyi/.local/share/virtualenvs/portfolio_analysis-bdMx2S3t/lib/python3.7/site-packages/scipy/optimize/minpack.py:162: RuntimeWarning: The iteration is not making good progress, as measured by the \n",
      "  improvement from the last ten iterations.\n",
      "  warnings.warn(msg, RuntimeWarning)\n"
     ]
    },
    {
     "data": {
      "text/plain": [
       "(Symbols\n",
       " SPLV    0.96362\n",
       " ICLN    0.03638\n",
       " dtype: float64, 1.4778, 0.9387)"
      ]
     },
     "execution_count": 6,
     "metadata": {},
     "output_type": "execute_result"
    }
   ],
   "source": [
    "quote.setup_mask(['SPLV', 'ICLN'])\n",
    "quote.find_optimal_ratio(21, 1)"
   ]
  },
  {
   "cell_type": "code",
   "execution_count": 7,
   "metadata": {},
   "outputs": [
    {
     "data": {
      "text/html": [
       "<div>\n",
       "<style scoped>\n",
       "    .dataframe tbody tr th:only-of-type {\n",
       "        vertical-align: middle;\n",
       "    }\n",
       "\n",
       "    .dataframe tbody tr th {\n",
       "        vertical-align: top;\n",
       "    }\n",
       "\n",
       "    .dataframe thead th {\n",
       "        text-align: right;\n",
       "    }\n",
       "</style>\n",
       "<table border=\"1\" class=\"dataframe\">\n",
       "  <thead>\n",
       "    <tr style=\"text-align: right;\">\n",
       "      <th></th>\n",
       "      <th>count</th>\n",
       "      <th>mean</th>\n",
       "      <th>std</th>\n",
       "      <th>min</th>\n",
       "      <th>25%</th>\n",
       "      <th>50%</th>\n",
       "      <th>75%</th>\n",
       "      <th>max</th>\n",
       "      <th>shrp</th>\n",
       "      <th>drawdown</th>\n",
       "    </tr>\n",
       "  </thead>\n",
       "  <tbody>\n",
       "    <tr>\n",
       "      <th>SPLV</th>\n",
       "      <td>50.0</td>\n",
       "      <td>1.492197</td>\n",
       "      <td>0.942371</td>\n",
       "      <td>-0.950248</td>\n",
       "      <td>0.889543</td>\n",
       "      <td>1.733538</td>\n",
       "      <td>2.087735</td>\n",
       "      <td>3.297558</td>\n",
       "      <td>1.395714</td>\n",
       "      <td>1.971361</td>\n",
       "    </tr>\n",
       "    <tr>\n",
       "      <th>Portfolio</th>\n",
       "      <td>50.0</td>\n",
       "      <td>1.475626</td>\n",
       "      <td>0.938141</td>\n",
       "      <td>-0.959367</td>\n",
       "      <td>0.895873</td>\n",
       "      <td>1.752130</td>\n",
       "      <td>2.021642</td>\n",
       "      <td>3.410588</td>\n",
       "      <td>1.384342</td>\n",
       "      <td>1.955696</td>\n",
       "    </tr>\n",
       "    <tr>\n",
       "      <th>ICLN</th>\n",
       "      <td>50.0</td>\n",
       "      <td>1.097211</td>\n",
       "      <td>2.512604</td>\n",
       "      <td>-2.859960</td>\n",
       "      <td>-1.160279</td>\n",
       "      <td>1.014302</td>\n",
       "      <td>2.745302</td>\n",
       "      <td>6.210528</td>\n",
       "      <td>0.366271</td>\n",
       "      <td>4.109590</td>\n",
       "    </tr>\n",
       "  </tbody>\n",
       "</table>\n",
       "</div>"
      ],
      "text/plain": [
       "           count      mean       std       min       25%       50%       75%  \\\n",
       "SPLV        50.0  1.492197  0.942371 -0.950248  0.889543  1.733538  2.087735   \n",
       "Portfolio   50.0  1.475626  0.938141 -0.959367  0.895873  1.752130  2.021642   \n",
       "ICLN        50.0  1.097211  2.512604 -2.859960 -1.160279  1.014302  2.745302   \n",
       "\n",
       "                max      shrp  drawdown  \n",
       "SPLV       3.297558  1.395714  1.971361  \n",
       "Portfolio  3.410588  1.384342  1.955696  \n",
       "ICLN       6.210528  0.366271  4.109590  "
      ]
     },
     "execution_count": 7,
     "metadata": {},
     "output_type": "execute_result"
    },
    {
     "data": {
      "image/png": "[encoded data removed]",
      "text/plain": [
       "<Figure size 864x576 with 1 Axes>"
      ]
     },
     "metadata": {
      "needs_background": "light"
     },
     "output_type": "display_data"
    }
   ],
   "source": [
    "quote.graph(21, {'SPLV': .96, 'ICLN': .04})"
   ]
  },
  {
   "cell_type": "code",
   "execution_count": null,
   "metadata": {},
   "outputs": [],
   "source": []
  }
 ],
 "metadata": {
  "kernelspec": {
   "display_name": "Python 3",
   "language": "python",
   "name": "python3"
  },
  "language_info": {
   "codemirror_mode": {
    "name": "ipython",
    "version": 3
   },
   "file_extension": ".py",
   "mimetype": "text/x-python",
   "name": "python",
   "nbconvert_exporter": "python",
   "pygments_lexer": "ipython3",
   "version": "3.7.3"
  }
 },
 "nbformat": 4,
 "nbformat_minor": 2
}
