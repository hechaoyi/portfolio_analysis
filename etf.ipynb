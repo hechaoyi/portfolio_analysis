{
 "cells": [
  {
   "cell_type": "code",
   "execution_count": 1,
   "metadata": {},
   "outputs": [
    {
     "name": "stdout",
     "output_type": "stream",
     "text": [
      "Populating the interactive namespace from numpy and matplotlib\n"
     ]
    },
    {
     "data": {
      "text/plain": [
       "'from 2019-02-25 to 2019-06-04'"
      ]
     },
     "execution_count": 1,
     "metadata": {},
     "output_type": "execute_result"
    }
   ],
   "source": [
    "%pylab inline\n",
    "from datetime import date\n",
    "from app import create_app\n",
    "from app.instrument import Instrument\n",
    "from app.analysis import Quote\n",
    "with create_app().app_context():\n",
    "    quote = Quote([b.symbol for b in Instrument.find_etfs(100)], 100)\n",
    "f'from {quote.start.date()} to {date.today()}'"
   ]
  },
  {
   "cell_type": "code",
   "execution_count": 2,
   "metadata": {},
   "outputs": [
    {
     "data": {
      "text/html": [
       "<div>\n",
       "<style scoped>\n",
       "    .dataframe tbody tr th:only-of-type {\n",
       "        vertical-align: middle;\n",
       "    }\n",
       "\n",
       "    .dataframe tbody tr th {\n",
       "        vertical-align: top;\n",
       "    }\n",
       "\n",
       "    .dataframe thead th {\n",
       "        text-align: right;\n",
       "    }\n",
       "</style>\n",
       "<table border=\"1\" class=\"dataframe\">\n",
       "  <thead>\n",
       "    <tr style=\"text-align: right;\">\n",
       "      <th></th>\n",
       "      <th>21-len</th>\n",
       "      <th>21-mean</th>\n",
       "      <th>21-std</th>\n",
       "      <th>21-shrp</th>\n",
       "      <th>drawdown</th>\n",
       "    </tr>\n",
       "    <tr>\n",
       "      <th>Symbols</th>\n",
       "      <th></th>\n",
       "      <th></th>\n",
       "      <th></th>\n",
       "      <th></th>\n",
       "      <th></th>\n",
       "    </tr>\n",
       "  </thead>\n",
       "  <tbody>\n",
       "    <tr>\n",
       "      <th>SPLV</th>\n",
       "      <td>49</td>\n",
       "      <td>1.476678</td>\n",
       "      <td>0.945659</td>\n",
       "      <td>1.378768</td>\n",
       "      <td>1.971361</td>\n",
       "    </tr>\n",
       "    <tr>\n",
       "      <th>FINX</th>\n",
       "      <td>49</td>\n",
       "      <td>2.003738</td>\n",
       "      <td>2.486934</td>\n",
       "      <td>0.736210</td>\n",
       "      <td>5.312173</td>\n",
       "    </tr>\n",
       "    <tr>\n",
       "      <th>XLU</th>\n",
       "      <td>49</td>\n",
       "      <td>0.856701</td>\n",
       "      <td>1.629206</td>\n",
       "      <td>0.419755</td>\n",
       "      <td>3.426052</td>\n",
       "    </tr>\n",
       "    <tr>\n",
       "      <th>VIG</th>\n",
       "      <td>49</td>\n",
       "      <td>1.086929</td>\n",
       "      <td>2.449655</td>\n",
       "      <td>0.373153</td>\n",
       "      <td>4.634193</td>\n",
       "    </tr>\n",
       "    <tr>\n",
       "      <th>ICLN</th>\n",
       "      <td>49</td>\n",
       "      <td>1.089174</td>\n",
       "      <td>2.537992</td>\n",
       "      <td>0.361049</td>\n",
       "      <td>4.109590</td>\n",
       "    </tr>\n",
       "    <tr>\n",
       "      <th>VOOG</th>\n",
       "      <td>49</td>\n",
       "      <td>1.206908</td>\n",
       "      <td>3.034131</td>\n",
       "      <td>0.340814</td>\n",
       "      <td>6.391444</td>\n",
       "    </tr>\n",
       "    <tr>\n",
       "      <th>SPYG</th>\n",
       "      <td>49</td>\n",
       "      <td>1.196746</td>\n",
       "      <td>3.011017</td>\n",
       "      <td>0.340055</td>\n",
       "      <td>6.359873</td>\n",
       "    </tr>\n",
       "    <tr>\n",
       "      <th>XLF</th>\n",
       "      <td>49</td>\n",
       "      <td>1.183871</td>\n",
       "      <td>4.248203</td>\n",
       "      <td>0.237992</td>\n",
       "      <td>7.338794</td>\n",
       "    </tr>\n",
       "    <tr>\n",
       "      <th>ITA</th>\n",
       "      <td>49</td>\n",
       "      <td>0.967758</td>\n",
       "      <td>3.370900</td>\n",
       "      <td>0.235820</td>\n",
       "      <td>6.965175</td>\n",
       "    </tr>\n",
       "    <tr>\n",
       "      <th>VFH</th>\n",
       "      <td>49</td>\n",
       "      <td>1.070163</td>\n",
       "      <td>4.188848</td>\n",
       "      <td>0.214219</td>\n",
       "      <td>7.299370</td>\n",
       "    </tr>\n",
       "  </tbody>\n",
       "</table>\n",
       "</div>"
      ],
      "text/plain": [
       "         21-len   21-mean    21-std   21-shrp  drawdown\n",
       "Symbols                                                \n",
       "SPLV         49  1.476678  0.945659  1.378768  1.971361\n",
       "FINX         49  2.003738  2.486934  0.736210  5.312173\n",
       "XLU          49  0.856701  1.629206  0.419755  3.426052\n",
       "VIG          49  1.086929  2.449655  0.373153  4.634193\n",
       "ICLN         49  1.089174  2.537992  0.361049  4.109590\n",
       "VOOG         49  1.206908  3.034131  0.340814  6.391444\n",
       "SPYG         49  1.196746  3.011017  0.340055  6.359873\n",
       "XLF          49  1.183871  4.248203  0.237992  7.338794\n",
       "ITA          49  0.967758  3.370900  0.235820  6.965175\n",
       "VFH          49  1.070163  4.188848  0.214219  7.299370"
      ]
     },
     "execution_count": 2,
     "metadata": {},
     "output_type": "execute_result"
    }
   ],
   "source": [
    "stat = quote.statistics(21)\n",
    "stat = stat[(stat['drawdown'] < 8) & (stat['21-mean'] > 0.8)]\n",
    "stat"
   ]
  },
  {
   "cell_type": "code",
   "execution_count": 5,
   "metadata": {},
   "outputs": [
    {
     "name": "stdout",
     "output_type": "stream",
     "text": [
      "['SPLV'] -0.8859276073669002 0.0 0.49284013923112413 -1.3787677465980244\n"
     ]
    },
    {
     "data": {
      "text/plain": [
       "['SPLV']"
      ]
     },
     "execution_count": 5,
     "metadata": {},
     "output_type": "execute_result"
    }
   ],
   "source": [
    "quote.setup_mask(stat.index)\n",
    "quote.least_correlated_portfolio(21, 1)"
   ]
  },
  {
   "cell_type": "code",
   "execution_count": 6,
   "metadata": {},
   "outputs": [
    {
     "name": "stdout",
     "output_type": "stream",
     "text": [
      "['SPLV', 'FINX'] 1.0128016832858462 1.3068956263123703 1.8208834475592637 -2.114977390585788\n",
      "['SPLV', 'XLU'] 0.6981730254680487 1.1473427852786333 1.3493532367252379 -1.7985229965358225\n",
      "['SPLV', 'ICLN'] 0.3591480835136045 0.5787276969230084 1.5202375592902166 -1.7398171726996206\n"
     ]
    },
    {
     "data": {
      "text/plain": [
       "['SPLV', 'ICLN']"
      ]
     },
     "execution_count": 6,
     "metadata": {},
     "output_type": "execute_result"
    }
   ],
   "source": [
    "quote.setup_mask(stat.index)\n",
    "quote.least_correlated_portfolio(21, 2, ['SPLV'])"
   ]
  },
  {
   "cell_type": "code",
   "execution_count": 7,
   "metadata": {},
   "outputs": [
    {
     "name": "stderr",
     "output_type": "stream",
     "text": [
      "/Users/chaoyi/.local/share/virtualenvs/portfolio_analysis-bdMx2S3t/lib/python3.7/site-packages/scipy/optimize/minpack.py:162: RuntimeWarning: The iteration is not making good progress, as measured by the \n",
      "  improvement from the last ten iterations.\n",
      "  warnings.warn(msg, RuntimeWarning)\n"
     ]
    },
    {
     "data": {
      "text/plain": [
       "(Symbols\n",
       " SPLV    0.967996\n",
       " ICLN    0.032004\n",
       " dtype: float64, 1.4643, 0.9421)"
      ]
     },
     "execution_count": 7,
     "metadata": {},
     "output_type": "execute_result"
    }
   ],
   "source": [
    "quote.setup_mask(['SPLV', 'ICLN'])\n",
    "quote.find_optimal_ratio(21, 1)"
   ]
  },
  {
   "cell_type": "code",
   "execution_count": 8,
   "metadata": {},
   "outputs": [
    {
     "data": {
      "text/html": [
       "<div>\n",
       "<style scoped>\n",
       "    .dataframe tbody tr th:only-of-type {\n",
       "        vertical-align: middle;\n",
       "    }\n",
       "\n",
       "    .dataframe tbody tr th {\n",
       "        vertical-align: top;\n",
       "    }\n",
       "\n",
       "    .dataframe thead th {\n",
       "        text-align: right;\n",
       "    }\n",
       "</style>\n",
       "<table border=\"1\" class=\"dataframe\">\n",
       "  <thead>\n",
       "    <tr style=\"text-align: right;\">\n",
       "      <th></th>\n",
       "      <th>count</th>\n",
       "      <th>mean</th>\n",
       "      <th>std</th>\n",
       "      <th>min</th>\n",
       "      <th>25%</th>\n",
       "      <th>50%</th>\n",
       "      <th>75%</th>\n",
       "      <th>max</th>\n",
       "      <th>shrp</th>\n",
       "      <th>drawdown</th>\n",
       "    </tr>\n",
       "  </thead>\n",
       "  <tbody>\n",
       "    <tr>\n",
       "      <th>SPLV</th>\n",
       "      <td>49.0</td>\n",
       "      <td>1.476678</td>\n",
       "      <td>0.945659</td>\n",
       "      <td>-0.950248</td>\n",
       "      <td>0.806854</td>\n",
       "      <td>1.729277</td>\n",
       "      <td>2.085358</td>\n",
       "      <td>3.297558</td>\n",
       "      <td>1.378768</td>\n",
       "      <td>1.971361</td>\n",
       "    </tr>\n",
       "    <tr>\n",
       "      <th>Portfolio</th>\n",
       "      <td>49.0</td>\n",
       "      <td>1.464448</td>\n",
       "      <td>0.941671</td>\n",
       "      <td>-0.957087</td>\n",
       "      <td>0.806486</td>\n",
       "      <td>1.788365</td>\n",
       "      <td>2.005003</td>\n",
       "      <td>3.382306</td>\n",
       "      <td>1.371620</td>\n",
       "      <td>1.959614</td>\n",
       "    </tr>\n",
       "    <tr>\n",
       "      <th>ICLN</th>\n",
       "      <td>49.0</td>\n",
       "      <td>1.089174</td>\n",
       "      <td>2.537992</td>\n",
       "      <td>-2.859960</td>\n",
       "      <td>-1.181101</td>\n",
       "      <td>0.801612</td>\n",
       "      <td>2.746698</td>\n",
       "      <td>6.210528</td>\n",
       "      <td>0.361049</td>\n",
       "      <td>4.109590</td>\n",
       "    </tr>\n",
       "  </tbody>\n",
       "</table>\n",
       "</div>"
      ],
      "text/plain": [
       "           count      mean       std       min       25%       50%       75%  \\\n",
       "SPLV        49.0  1.476678  0.945659 -0.950248  0.806854  1.729277  2.085358   \n",
       "Portfolio   49.0  1.464448  0.941671 -0.957087  0.806486  1.788365  2.005003   \n",
       "ICLN        49.0  1.089174  2.537992 -2.859960 -1.181101  0.801612  2.746698   \n",
       "\n",
       "                max      shrp  drawdown  \n",
       "SPLV       3.297558  1.378768  1.971361  \n",
       "Portfolio  3.382306  1.371620  1.959614  \n",
       "ICLN       6.210528  0.361049  4.109590  "
      ]
     },
     "execution_count": 8,
     "metadata": {},
     "output_type": "execute_result"
    },
    {
     "data": {
      "image/png": "[encoded data removed]",
      "text/plain": [
       "<Figure size 864x576 with 1 Axes>"
      ]
     },
     "metadata": {
      "needs_background": "light"
     },
     "output_type": "display_data"
    }
   ],
   "source": [
    "quote.graph(21, {'SPLV': .97, 'ICLN': .03})"
   ]
  },
  {
   "cell_type": "code",
   "execution_count": null,
   "metadata": {},
   "outputs": [],
   "source": []
  }
 ],
 "metadata": {
  "kernelspec": {
   "display_name": "Python 3",
   "language": "python",
   "name": "python3"
  },
  "language_info": {
   "codemirror_mode": {
    "name": "ipython",
    "version": 3
   },
   "file_extension": ".py",
   "mimetype": "text/x-python",
   "name": "python",
   "nbconvert_exporter": "python",
   "pygments_lexer": "ipython3",
   "version": "3.7.3"
  }
 },
 "nbformat": 4,
 "nbformat_minor": 2
}
