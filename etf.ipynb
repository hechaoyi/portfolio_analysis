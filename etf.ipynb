{
 "cells": [
  {
   "cell_type": "code",
   "execution_count": 1,
   "metadata": {},
   "outputs": [
    {
     "name": "stdout",
     "output_type": "stream",
     "text": [
      "Populating the interactive namespace from numpy and matplotlib\n"
     ]
    },
    {
     "data": {
      "text/plain": [
       "'from 2019-02-19 to 2019-06-17'"
      ]
     },
     "execution_count": 1,
     "metadata": {},
     "output_type": "execute_result"
    }
   ],
   "source": [
    "%pylab inline\n",
    "from datetime import date\n",
    "from app import create_app\n",
    "from app.instrument import Instrument\n",
    "from app.analysis import Quote\n",
    "with create_app().app_context():\n",
    "    quote = Quote([b.symbol for b in Instrument.find_etfs(100)], 120)\n",
    "f'from {quote.start.date()} to {date.today()}'"
   ]
  },
  {
   "cell_type": "code",
   "execution_count": 2,
   "metadata": {},
   "outputs": [
    {
     "data": {
      "text/html": [
       "<div>\n",
       "<style scoped>\n",
       "    .dataframe tbody tr th:only-of-type {\n",
       "        vertical-align: middle;\n",
       "    }\n",
       "\n",
       "    .dataframe tbody tr th {\n",
       "        vertical-align: top;\n",
       "    }\n",
       "\n",
       "    .dataframe thead th {\n",
       "        text-align: right;\n",
       "    }\n",
       "</style>\n",
       "<table border=\"1\" class=\"dataframe\">\n",
       "  <thead>\n",
       "    <tr style=\"text-align: right;\">\n",
       "      <th></th>\n",
       "      <th>21-len</th>\n",
       "      <th>21-mean</th>\n",
       "      <th>21-std</th>\n",
       "      <th>21-shrp</th>\n",
       "      <th>drawdown</th>\n",
       "    </tr>\n",
       "    <tr>\n",
       "      <th>Symbols</th>\n",
       "      <th></th>\n",
       "      <th></th>\n",
       "      <th></th>\n",
       "      <th></th>\n",
       "      <th></th>\n",
       "    </tr>\n",
       "  </thead>\n",
       "  <tbody>\n",
       "    <tr>\n",
       "      <th>SPLV</th>\n",
       "      <td>62</td>\n",
       "      <td>1.860188</td>\n",
       "      <td>1.281327</td>\n",
       "      <td>1.315190</td>\n",
       "      <td>1.971361</td>\n",
       "    </tr>\n",
       "    <tr>\n",
       "      <th>FINX</th>\n",
       "      <td>62</td>\n",
       "      <td>2.185703</td>\n",
       "      <td>2.400375</td>\n",
       "      <td>0.837662</td>\n",
       "      <td>5.312173</td>\n",
       "    </tr>\n",
       "    <tr>\n",
       "      <th>XLU</th>\n",
       "      <td>62</td>\n",
       "      <td>1.474261</td>\n",
       "      <td>1.925006</td>\n",
       "      <td>0.674939</td>\n",
       "      <td>3.426052</td>\n",
       "    </tr>\n",
       "    <tr>\n",
       "      <th>ICLN</th>\n",
       "      <td>62</td>\n",
       "      <td>1.454441</td>\n",
       "      <td>2.564500</td>\n",
       "      <td>0.498905</td>\n",
       "      <td>4.109590</td>\n",
       "    </tr>\n",
       "    <tr>\n",
       "      <th>XAR</th>\n",
       "      <td>62</td>\n",
       "      <td>1.916276</td>\n",
       "      <td>3.541096</td>\n",
       "      <td>0.491733</td>\n",
       "      <td>6.827853</td>\n",
       "    </tr>\n",
       "    <tr>\n",
       "      <th>VIG</th>\n",
       "      <td>62</td>\n",
       "      <td>1.164135</td>\n",
       "      <td>2.293197</td>\n",
       "      <td>0.431335</td>\n",
       "      <td>4.634193</td>\n",
       "    </tr>\n",
       "    <tr>\n",
       "      <th>VOOG</th>\n",
       "      <td>62</td>\n",
       "      <td>1.258964</td>\n",
       "      <td>2.819073</td>\n",
       "      <td>0.384511</td>\n",
       "      <td>6.391444</td>\n",
       "    </tr>\n",
       "    <tr>\n",
       "      <th>SPYG</th>\n",
       "      <td>62</td>\n",
       "      <td>1.249793</td>\n",
       "      <td>2.799133</td>\n",
       "      <td>0.383974</td>\n",
       "      <td>6.359873</td>\n",
       "    </tr>\n",
       "  </tbody>\n",
       "</table>\n",
       "</div>"
      ],
      "text/plain": [
       "         21-len   21-mean    21-std   21-shrp  drawdown\n",
       "Symbols                                                \n",
       "SPLV         62  1.860188  1.281327  1.315190  1.971361\n",
       "FINX         62  2.185703  2.400375  0.837662  5.312173\n",
       "XLU          62  1.474261  1.925006  0.674939  3.426052\n",
       "ICLN         62  1.454441  2.564500  0.498905  4.109590\n",
       "XAR          62  1.916276  3.541096  0.491733  6.827853\n",
       "VIG          62  1.164135  2.293197  0.431335  4.634193\n",
       "VOOG         62  1.258964  2.819073  0.384511  6.391444\n",
       "SPYG         62  1.249793  2.799133  0.383974  6.359873"
      ]
     },
     "execution_count": 2,
     "metadata": {},
     "output_type": "execute_result"
    }
   ],
   "source": [
    "stat = quote.statistics(21)\n",
    "stat = stat[(stat['drawdown'] < 8) & (stat['21-mean'] > 0.8)]\n",
    "stat"
   ]
  },
  {
   "cell_type": "code",
   "execution_count": 3,
   "metadata": {},
   "outputs": [
    {
     "name": "stdout",
     "output_type": "stream",
     "text": [
      "['SPLV'] -0.9209176545499651 0.0 0.3942721113848993 -1.3151897659348644\n"
     ]
    },
    {
     "data": {
      "text/plain": [
       "['SPLV']"
      ]
     },
     "execution_count": 3,
     "metadata": {},
     "output_type": "execute_result"
    }
   ],
   "source": [
    "quote.setup_mask(stat.index)\n",
    "quote.least_correlated_portfolio(21, 1)"
   ]
  },
  {
   "cell_type": "code",
   "execution_count": 4,
   "metadata": {},
   "outputs": [
    {
     "name": "stdout",
     "output_type": "stream",
     "text": [
      "['SPLV', 'FINX'] 1.8281409807615776 0.5337895904981216 1.456706758047411 -2.1528517163294874\n",
      "['SPLV', 'XLU'] 1.549884374568864 0.6905237917722915 1.0794825893801903 -1.9901283877360996\n",
      "['SPLV', 'ICLN'] 1.5203284956659469 0.45102134916556813 1.2161900474321734 -1.8140942975295362\n"
     ]
    },
    {
     "data": {
      "text/plain": [
       "['SPLV', 'ICLN']"
      ]
     },
     "execution_count": 4,
     "metadata": {},
     "output_type": "execute_result"
    }
   ],
   "source": [
    "quote.setup_mask(stat.index)\n",
    "quote.least_correlated_portfolio(21, 2, cr=2, dr=2)"
   ]
  },
  {
   "cell_type": "code",
   "execution_count": 5,
   "metadata": {},
   "outputs": [
    {
     "name": "stdout",
     "output_type": "stream",
     "text": [
      "['SPLV', 'FINX'] 1.8281409807615776 0.5337895904981216 1.456706758047411 -2.1528517163294874\n",
      "['SPLV', 'XLU'] 1.549884374568864 0.6905237917722915 1.0794825893801903 -1.9901283877360996\n",
      "['SPLV', 'ICLN'] 1.5203284956659469 0.45102134916556813 1.2161900474321734 -1.8140942975295362\n"
     ]
    },
    {
     "data": {
      "text/plain": [
       "['SPLV', 'ICLN']"
      ]
     },
     "execution_count": 5,
     "metadata": {},
     "output_type": "execute_result"
    }
   ],
   "source": [
    "quote.setup_mask(stat.index)\n",
    "quote.least_correlated_portfolio(21, 2, ['SPLV'], cr=2, dr=2)"
   ]
  },
  {
   "cell_type": "code",
   "execution_count": null,
   "metadata": {},
   "outputs": [],
   "source": []
  }
 ],
 "metadata": {
  "kernelspec": {
   "display_name": "Python 3",
   "language": "python",
   "name": "python3"
  },
  "language_info": {
   "codemirror_mode": {
    "name": "ipython",
    "version": 3
   },
   "file_extension": ".py",
   "mimetype": "text/x-python",
   "name": "python",
   "nbconvert_exporter": "python",
   "pygments_lexer": "ipython3",
   "version": "3.7.3"
  }
 },
 "nbformat": 4,
 "nbformat_minor": 2
}
