{
 "cells": [
  {
   "cell_type": "code",
   "execution_count": 1,
   "metadata": {},
   "outputs": [
    {
     "name": "stdout",
     "output_type": "stream",
     "text": [
      "Populating the interactive namespace from numpy and matplotlib\n"
     ]
    },
    {
     "data": {
      "text/plain": [
       "'from 2019-02-11 to 2019-06-11'"
      ]
     },
     "execution_count": 1,
     "metadata": {},
     "output_type": "execute_result"
    }
   ],
   "source": [
    "%pylab inline\n",
    "from datetime import date\n",
    "from app import create_app\n",
    "from app.instrument import Instrument\n",
    "from app.analysis import Quote\n",
    "with create_app().app_context():\n",
    "    quote = Quote([b.symbol for b in Instrument.find_etfs(100)], 120)\n",
    "f'from {quote.start.date()} to {date.today()}'"
   ]
  },
  {
   "cell_type": "code",
   "execution_count": 2,
   "metadata": {},
   "outputs": [
    {
     "data": {
      "text/html": [
       "<div>\n",
       "<style scoped>\n",
       "    .dataframe tbody tr th:only-of-type {\n",
       "        vertical-align: middle;\n",
       "    }\n",
       "\n",
       "    .dataframe tbody tr th {\n",
       "        vertical-align: top;\n",
       "    }\n",
       "\n",
       "    .dataframe thead th {\n",
       "        text-align: right;\n",
       "    }\n",
       "</style>\n",
       "<table border=\"1\" class=\"dataframe\">\n",
       "  <thead>\n",
       "    <tr style=\"text-align: right;\">\n",
       "      <th></th>\n",
       "      <th>21-len</th>\n",
       "      <th>21-mean</th>\n",
       "      <th>21-std</th>\n",
       "      <th>21-shrp</th>\n",
       "      <th>drawdown</th>\n",
       "    </tr>\n",
       "    <tr>\n",
       "      <th>Symbols</th>\n",
       "      <th></th>\n",
       "      <th></th>\n",
       "      <th></th>\n",
       "      <th></th>\n",
       "      <th></th>\n",
       "    </tr>\n",
       "  </thead>\n",
       "  <tbody>\n",
       "    <tr>\n",
       "      <th>SPLV</th>\n",
       "      <td>63</td>\n",
       "      <td>1.810029</td>\n",
       "      <td>1.193178</td>\n",
       "      <td>1.371362</td>\n",
       "      <td>1.971361</td>\n",
       "    </tr>\n",
       "    <tr>\n",
       "      <th>FINX</th>\n",
       "      <td>63</td>\n",
       "      <td>2.376857</td>\n",
       "      <td>2.497345</td>\n",
       "      <td>0.882180</td>\n",
       "      <td>5.312173</td>\n",
       "    </tr>\n",
       "    <tr>\n",
       "      <th>PFF</th>\n",
       "      <td>63</td>\n",
       "      <td>0.819574</td>\n",
       "      <td>0.743249</td>\n",
       "      <td>0.868920</td>\n",
       "      <td>1.003023</td>\n",
       "    </tr>\n",
       "    <tr>\n",
       "      <th>XLU</th>\n",
       "      <td>63</td>\n",
       "      <td>1.605230</td>\n",
       "      <td>2.054727</td>\n",
       "      <td>0.696676</td>\n",
       "      <td>3.426052</td>\n",
       "    </tr>\n",
       "    <tr>\n",
       "      <th>ICLN</th>\n",
       "      <td>63</td>\n",
       "      <td>1.380242</td>\n",
       "      <td>2.424896</td>\n",
       "      <td>0.497544</td>\n",
       "      <td>4.109590</td>\n",
       "    </tr>\n",
       "    <tr>\n",
       "      <th>SPYG</th>\n",
       "      <td>63</td>\n",
       "      <td>1.393756</td>\n",
       "      <td>2.844888</td>\n",
       "      <td>0.428841</td>\n",
       "      <td>6.359873</td>\n",
       "    </tr>\n",
       "    <tr>\n",
       "      <th>VOOG</th>\n",
       "      <td>63</td>\n",
       "      <td>1.398294</td>\n",
       "      <td>2.860199</td>\n",
       "      <td>0.428132</td>\n",
       "      <td>6.391444</td>\n",
       "    </tr>\n",
       "    <tr>\n",
       "      <th>VIG</th>\n",
       "      <td>63</td>\n",
       "      <td>1.111217</td>\n",
       "      <td>2.240266</td>\n",
       "      <td>0.418462</td>\n",
       "      <td>4.634193</td>\n",
       "    </tr>\n",
       "    <tr>\n",
       "      <th>AMLP</th>\n",
       "      <td>63</td>\n",
       "      <td>0.807017</td>\n",
       "      <td>1.943784</td>\n",
       "      <td>0.325791</td>\n",
       "      <td>4.270103</td>\n",
       "    </tr>\n",
       "    <tr>\n",
       "      <th>DGRO</th>\n",
       "      <td>63</td>\n",
       "      <td>0.850262</td>\n",
       "      <td>2.467931</td>\n",
       "      <td>0.274121</td>\n",
       "      <td>5.769737</td>\n",
       "    </tr>\n",
       "    <tr>\n",
       "      <th>VOO</th>\n",
       "      <td>63</td>\n",
       "      <td>0.884748</td>\n",
       "      <td>3.028943</td>\n",
       "      <td>0.234735</td>\n",
       "      <td>6.639509</td>\n",
       "    </tr>\n",
       "    <tr>\n",
       "      <th>IVV</th>\n",
       "      <td>63</td>\n",
       "      <td>0.883823</td>\n",
       "      <td>3.025047</td>\n",
       "      <td>0.234731</td>\n",
       "      <td>6.631534</td>\n",
       "    </tr>\n",
       "    <tr>\n",
       "      <th>SPY</th>\n",
       "      <td>63</td>\n",
       "      <td>0.875135</td>\n",
       "      <td>3.027382</td>\n",
       "      <td>0.231680</td>\n",
       "      <td>6.618369</td>\n",
       "    </tr>\n",
       "    <tr>\n",
       "      <th>SCHK</th>\n",
       "      <td>63</td>\n",
       "      <td>0.832238</td>\n",
       "      <td>3.020171</td>\n",
       "      <td>0.218030</td>\n",
       "      <td>6.746032</td>\n",
       "    </tr>\n",
       "    <tr>\n",
       "      <th>XLF</th>\n",
       "      <td>63</td>\n",
       "      <td>0.876295</td>\n",
       "      <td>3.957100</td>\n",
       "      <td>0.177540</td>\n",
       "      <td>7.338794</td>\n",
       "    </tr>\n",
       "  </tbody>\n",
       "</table>\n",
       "</div>"
      ],
      "text/plain": [
       "         21-len   21-mean    21-std   21-shrp  drawdown\n",
       "Symbols                                                \n",
       "SPLV         63  1.810029  1.193178  1.371362  1.971361\n",
       "FINX         63  2.376857  2.497345  0.882180  5.312173\n",
       "PFF          63  0.819574  0.743249  0.868920  1.003023\n",
       "XLU          63  1.605230  2.054727  0.696676  3.426052\n",
       "ICLN         63  1.380242  2.424896  0.497544  4.109590\n",
       "SPYG         63  1.393756  2.844888  0.428841  6.359873\n",
       "VOOG         63  1.398294  2.860199  0.428132  6.391444\n",
       "VIG          63  1.111217  2.240266  0.418462  4.634193\n",
       "AMLP         63  0.807017  1.943784  0.325791  4.270103\n",
       "DGRO         63  0.850262  2.467931  0.274121  5.769737\n",
       "VOO          63  0.884748  3.028943  0.234735  6.639509\n",
       "IVV          63  0.883823  3.025047  0.234731  6.631534\n",
       "SPY          63  0.875135  3.027382  0.231680  6.618369\n",
       "SCHK         63  0.832238  3.020171  0.218030  6.746032\n",
       "XLF          63  0.876295  3.957100  0.177540  7.338794"
      ]
     },
     "execution_count": 2,
     "metadata": {},
     "output_type": "execute_result"
    }
   ],
   "source": [
    "stat = quote.statistics(21)\n",
    "stat = stat[(stat['drawdown'] < 8) & (stat['21-mean'] > 0.8)]\n",
    "stat"
   ]
  },
  {
   "cell_type": "code",
   "execution_count": 3,
   "metadata": {},
   "outputs": [
    {
     "name": "stdout",
     "output_type": "stream",
     "text": [
      "['SPLV'] -0.9770894455254728 0.0 0.3942721113848993 -1.371361556910372\n"
     ]
    },
    {
     "data": {
      "text/plain": [
       "['SPLV']"
      ]
     },
     "execution_count": 3,
     "metadata": {},
     "output_type": "execute_result"
    }
   ],
   "source": [
    "quote.setup_mask(stat.index)\n",
    "quote.least_correlated_portfolio(21, 1)"
   ]
  },
  {
   "cell_type": "code",
   "execution_count": 17,
   "metadata": {},
   "outputs": [
    {
     "name": "stdout",
     "output_type": "stream",
     "text": [
      "['SPLV', 'FINX'] 1.5411426861841124 0.5844943487893475 1.456706758047411 -2.2535414670206886\n",
      "['SPLV', 'PFF'] 0.8422625192506543 0.6219168839649389 0.5948766466335217 -2.240281663242623\n",
      "['SPLV', 'XLF'] 0.7350556137976678 0.10548162866642197 1.8620309203187113 -1.5489018211867314\n",
      "['XLU', 'ICLN'] -0.22662051473777467 -0.13488215698540407 1.507128414042565 -1.1942203008387233\n",
      "['XLU', 'VIG'] -0.27049876367619063 -0.1918522720609407 1.6120490667907887 -1.1151387422232166\n",
      "['XLU', 'XLF'] -0.4087152682674542 -0.4218669478789606 2.152969286929103 -0.8742167636807145\n"
     ]
    },
    {
     "data": {
      "text/plain": [
       "['XLU', 'XLF']"
      ]
     },
     "execution_count": 17,
     "metadata": {},
     "output_type": "execute_result"
    }
   ],
   "source": [
    "quote.setup_mask(stat.index)\n",
    "quote.least_correlated_portfolio(21, 2, cr=4)"
   ]
  },
  {
   "cell_type": "code",
   "execution_count": 16,
   "metadata": {},
   "outputs": [
    {
     "name": "stdout",
     "output_type": "stream",
     "text": [
      "['SPLV', 'FINX'] 1.5411426861841124 0.5844943487893475 1.456706758047411 -2.2535414670206886\n",
      "['SPLV', 'PFF'] 0.8422625192506543 0.6219168839649389 0.5948766466335217 -2.240281663242623\n",
      "['SPLV', 'XLF'] 0.7350556137976678 0.10548162866642197 1.8620309203187113 -1.5489018211867314\n"
     ]
    },
    {
     "data": {
      "text/plain": [
       "['SPLV', 'XLF']"
      ]
     },
     "execution_count": 16,
     "metadata": {},
     "output_type": "execute_result"
    }
   ],
   "source": [
    "quote.setup_mask(stat.index)\n",
    "quote.least_correlated_portfolio(21, 2, ['SPLV'], cr=4)"
   ]
  },
  {
   "cell_type": "code",
   "execution_count": null,
   "metadata": {},
   "outputs": [],
   "source": []
  }
 ],
 "metadata": {
  "kernelspec": {
   "display_name": "Python 3",
   "language": "python",
   "name": "python3"
  },
  "language_info": {
   "codemirror_mode": {
    "name": "ipython",
    "version": 3
   },
   "file_extension": ".py",
   "mimetype": "text/x-python",
   "name": "python",
   "nbconvert_exporter": "python",
   "pygments_lexer": "ipython3",
   "version": "3.7.3"
  }
 },
 "nbformat": 4,
 "nbformat_minor": 2
}
