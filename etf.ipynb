{
 "cells": [
  {
   "cell_type": "code",
   "execution_count": 1,
   "metadata": {},
   "outputs": [
    {
     "name": "stdout",
     "output_type": "stream",
     "text": [
      "Populating the interactive namespace from numpy and matplotlib\n"
     ]
    },
    {
     "data": {
      "text/plain": [
       "'from 2019-02-19 to 2019-06-18'"
      ]
     },
     "execution_count": 1,
     "metadata": {},
     "output_type": "execute_result"
    }
   ],
   "source": [
    "%pylab inline\n",
    "from app import create_app\n",
    "from app.instrument import Instrument\n",
    "from app.analysis import Quote\n",
    "with create_app().app_context():\n",
    "    quote = Quote([b.symbol for b in Instrument.find_etfs(100)], 120)\n",
    "f'from {quote.start.date()} to {quote.end.date()}'"
   ]
  },
  {
   "cell_type": "code",
   "execution_count": 2,
   "metadata": {},
   "outputs": [
    {
     "data": {
      "text/html": [
       "<div>\n",
       "<style scoped>\n",
       "    .dataframe tbody tr th:only-of-type {\n",
       "        vertical-align: middle;\n",
       "    }\n",
       "\n",
       "    .dataframe tbody tr th {\n",
       "        vertical-align: top;\n",
       "    }\n",
       "\n",
       "    .dataframe thead th {\n",
       "        text-align: right;\n",
       "    }\n",
       "</style>\n",
       "<table border=\"1\" class=\"dataframe\">\n",
       "  <thead>\n",
       "    <tr style=\"text-align: right;\">\n",
       "      <th></th>\n",
       "      <th>21-len</th>\n",
       "      <th>21-mean</th>\n",
       "      <th>21-std</th>\n",
       "      <th>21-shrp</th>\n",
       "      <th>drawdown</th>\n",
       "    </tr>\n",
       "    <tr>\n",
       "      <th>Symbols</th>\n",
       "      <th></th>\n",
       "      <th></th>\n",
       "      <th></th>\n",
       "      <th></th>\n",
       "      <th></th>\n",
       "    </tr>\n",
       "  </thead>\n",
       "  <tbody>\n",
       "    <tr>\n",
       "      <th>SPLV</th>\n",
       "      <td>63</td>\n",
       "      <td>1.881234</td>\n",
       "      <td>1.281758</td>\n",
       "      <td>1.331167</td>\n",
       "      <td>1.971361</td>\n",
       "    </tr>\n",
       "    <tr>\n",
       "      <th>FINX</th>\n",
       "      <td>63</td>\n",
       "      <td>2.189318</td>\n",
       "      <td>2.379460</td>\n",
       "      <td>0.846544</td>\n",
       "      <td>5.312173</td>\n",
       "    </tr>\n",
       "    <tr>\n",
       "      <th>XLU</th>\n",
       "      <td>63</td>\n",
       "      <td>1.498001</td>\n",
       "      <td>1.920098</td>\n",
       "      <td>0.689028</td>\n",
       "      <td>3.426052</td>\n",
       "    </tr>\n",
       "    <tr>\n",
       "      <th>ICLN</th>\n",
       "      <td>63</td>\n",
       "      <td>1.551928</td>\n",
       "      <td>2.638602</td>\n",
       "      <td>0.521840</td>\n",
       "      <td>4.109596</td>\n",
       "    </tr>\n",
       "    <tr>\n",
       "      <th>XAR</th>\n",
       "      <td>63</td>\n",
       "      <td>1.948910</td>\n",
       "      <td>3.523677</td>\n",
       "      <td>0.503426</td>\n",
       "      <td>6.827853</td>\n",
       "    </tr>\n",
       "    <tr>\n",
       "      <th>VIG</th>\n",
       "      <td>63</td>\n",
       "      <td>1.200312</td>\n",
       "      <td>2.289864</td>\n",
       "      <td>0.447761</td>\n",
       "      <td>4.634193</td>\n",
       "    </tr>\n",
       "    <tr>\n",
       "      <th>VOOG</th>\n",
       "      <td>63</td>\n",
       "      <td>1.275409</td>\n",
       "      <td>2.799291</td>\n",
       "      <td>0.393103</td>\n",
       "      <td>6.391444</td>\n",
       "    </tr>\n",
       "    <tr>\n",
       "      <th>SPYG</th>\n",
       "      <td>63</td>\n",
       "      <td>1.263087</td>\n",
       "      <td>2.779376</td>\n",
       "      <td>0.391486</td>\n",
       "      <td>6.359873</td>\n",
       "    </tr>\n",
       "    <tr>\n",
       "      <th>DGRO</th>\n",
       "      <td>63</td>\n",
       "      <td>0.821438</td>\n",
       "      <td>2.448407</td>\n",
       "      <td>0.264024</td>\n",
       "      <td>5.769734</td>\n",
       "    </tr>\n",
       "  </tbody>\n",
       "</table>\n",
       "</div>"
      ],
      "text/plain": [
       "         21-len   21-mean    21-std   21-shrp  drawdown\n",
       "Symbols                                                \n",
       "SPLV         63  1.881234  1.281758  1.331167  1.971361\n",
       "FINX         63  2.189318  2.379460  0.846544  5.312173\n",
       "XLU          63  1.498001  1.920098  0.689028  3.426052\n",
       "ICLN         63  1.551928  2.638602  0.521840  4.109596\n",
       "XAR          63  1.948910  3.523677  0.503426  6.827853\n",
       "VIG          63  1.200312  2.289864  0.447761  4.634193\n",
       "VOOG         63  1.275409  2.799291  0.393103  6.391444\n",
       "SPYG         63  1.263087  2.779376  0.391486  6.359873\n",
       "DGRO         63  0.821438  2.448407  0.264024  5.769734"
      ]
     },
     "execution_count": 2,
     "metadata": {},
     "output_type": "execute_result"
    }
   ],
   "source": [
    "stat = quote.statistics(21)\n",
    "stat = stat[(stat['drawdown'] < 8) & (stat['21-mean'] > 0.8)]\n",
    "stat"
   ]
  },
  {
   "cell_type": "code",
   "execution_count": null,
   "metadata": {},
   "outputs": [],
   "source": [
    "quote.setup_mask(stat.index)\n",
    "quote.least_correlated_portfolio(21, 1, cr=2, dr=3)"
   ]
  },
  {
   "cell_type": "code",
   "execution_count": null,
   "metadata": {},
   "outputs": [],
   "source": [
    "quote.setup_mask(stat.index)\n",
    "quote.least_correlated_portfolio(21, 2, cr=2, dr=3)"
   ]
  },
  {
   "cell_type": "code",
   "execution_count": null,
   "metadata": {},
   "outputs": [],
   "source": []
  }
 ],
 "metadata": {
  "kernelspec": {
   "display_name": "Python 3",
   "language": "python",
   "name": "python3"
  },
  "language_info": {
   "codemirror_mode": {
    "name": "ipython",
    "version": 3
   },
   "file_extension": ".py",
   "mimetype": "text/x-python",
   "name": "python",
   "nbconvert_exporter": "python",
   "pygments_lexer": "ipython3",
   "version": "3.7.3"
  }
 },
 "nbformat": 4,
 "nbformat_minor": 2
}
