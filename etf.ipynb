{
 "cells": [
  {
   "cell_type": "code",
   "execution_count": 1,
   "metadata": {},
   "outputs": [
    {
     "name": "stdout",
     "output_type": "stream",
     "text": [
      "Populating the interactive namespace from numpy and matplotlib\n"
     ]
    },
    {
     "data": {
      "text/plain": [
       "'from 2019-02-26 to 2019-06-06'"
      ]
     },
     "execution_count": 1,
     "metadata": {},
     "output_type": "execute_result"
    }
   ],
   "source": [
    "%pylab inline\n",
    "from datetime import date\n",
    "from app import create_app\n",
    "from app.instrument import Instrument\n",
    "from app.analysis import Quote\n",
    "with create_app().app_context():\n",
    "    quote = Quote([b.symbol for b in Instrument.find_etfs(100)], 100)\n",
    "f'from {quote.start.date()} to {date.today()}'"
   ]
  },
  {
   "cell_type": "code",
   "execution_count": 2,
   "metadata": {},
   "outputs": [
    {
     "data": {
      "text/html": [
       "<div>\n",
       "<style scoped>\n",
       "    .dataframe tbody tr th:only-of-type {\n",
       "        vertical-align: middle;\n",
       "    }\n",
       "\n",
       "    .dataframe tbody tr th {\n",
       "        vertical-align: top;\n",
       "    }\n",
       "\n",
       "    .dataframe thead th {\n",
       "        text-align: right;\n",
       "    }\n",
       "</style>\n",
       "<table border=\"1\" class=\"dataframe\">\n",
       "  <thead>\n",
       "    <tr style=\"text-align: right;\">\n",
       "      <th></th>\n",
       "      <th>21-len</th>\n",
       "      <th>21-mean</th>\n",
       "      <th>21-std</th>\n",
       "      <th>21-shrp</th>\n",
       "      <th>drawdown</th>\n",
       "    </tr>\n",
       "    <tr>\n",
       "      <th>Symbols</th>\n",
       "      <th></th>\n",
       "      <th></th>\n",
       "      <th></th>\n",
       "      <th></th>\n",
       "      <th></th>\n",
       "    </tr>\n",
       "  </thead>\n",
       "  <tbody>\n",
       "    <tr>\n",
       "      <th>SPLV</th>\n",
       "      <td>50</td>\n",
       "      <td>1.548317</td>\n",
       "      <td>1.044365</td>\n",
       "      <td>1.312504</td>\n",
       "      <td>1.971361</td>\n",
       "    </tr>\n",
       "    <tr>\n",
       "      <th>FINX</th>\n",
       "      <td>50</td>\n",
       "      <td>1.960451</td>\n",
       "      <td>2.488300</td>\n",
       "      <td>0.716500</td>\n",
       "      <td>5.312173</td>\n",
       "    </tr>\n",
       "    <tr>\n",
       "      <th>XLU</th>\n",
       "      <td>50</td>\n",
       "      <td>0.911966</td>\n",
       "      <td>1.657786</td>\n",
       "      <td>0.442990</td>\n",
       "      <td>3.426052</td>\n",
       "    </tr>\n",
       "    <tr>\n",
       "      <th>ICLN</th>\n",
       "      <td>50</td>\n",
       "      <td>1.151368</td>\n",
       "      <td>2.491970</td>\n",
       "      <td>0.390769</td>\n",
       "      <td>4.109590</td>\n",
       "    </tr>\n",
       "    <tr>\n",
       "      <th>VIG</th>\n",
       "      <td>50</td>\n",
       "      <td>1.073390</td>\n",
       "      <td>2.435531</td>\n",
       "      <td>0.367808</td>\n",
       "      <td>4.634193</td>\n",
       "    </tr>\n",
       "    <tr>\n",
       "      <th>ITA</th>\n",
       "      <td>50</td>\n",
       "      <td>1.120183</td>\n",
       "      <td>3.185647</td>\n",
       "      <td>0.295889</td>\n",
       "      <td>6.911841</td>\n",
       "    </tr>\n",
       "    <tr>\n",
       "      <th>VOOG</th>\n",
       "      <td>50</td>\n",
       "      <td>1.059857</td>\n",
       "      <td>3.067848</td>\n",
       "      <td>0.287587</td>\n",
       "      <td>6.391444</td>\n",
       "    </tr>\n",
       "    <tr>\n",
       "      <th>SPYG</th>\n",
       "      <td>50</td>\n",
       "      <td>1.050247</td>\n",
       "      <td>3.044903</td>\n",
       "      <td>0.286598</td>\n",
       "      <td>6.359873</td>\n",
       "    </tr>\n",
       "    <tr>\n",
       "      <th>XLF</th>\n",
       "      <td>50</td>\n",
       "      <td>1.150879</td>\n",
       "      <td>4.205305</td>\n",
       "      <td>0.231445</td>\n",
       "      <td>7.338794</td>\n",
       "    </tr>\n",
       "    <tr>\n",
       "      <th>VFH</th>\n",
       "      <td>50</td>\n",
       "      <td>1.039326</td>\n",
       "      <td>4.141196</td>\n",
       "      <td>0.208090</td>\n",
       "      <td>7.299370</td>\n",
       "    </tr>\n",
       "  </tbody>\n",
       "</table>\n",
       "</div>"
      ],
      "text/plain": [
       "         21-len   21-mean    21-std   21-shrp  drawdown\n",
       "Symbols                                                \n",
       "SPLV         50  1.548317  1.044365  1.312504  1.971361\n",
       "FINX         50  1.960451  2.488300  0.716500  5.312173\n",
       "XLU          50  0.911966  1.657786  0.442990  3.426052\n",
       "ICLN         50  1.151368  2.491970  0.390769  4.109590\n",
       "VIG          50  1.073390  2.435531  0.367808  4.634193\n",
       "ITA          50  1.120183  3.185647  0.295889  6.911841\n",
       "VOOG         50  1.059857  3.067848  0.287587  6.391444\n",
       "SPYG         50  1.050247  3.044903  0.286598  6.359873\n",
       "XLF          50  1.150879  4.205305  0.231445  7.338794\n",
       "VFH          50  1.039326  4.141196  0.208090  7.299370"
      ]
     },
     "execution_count": 2,
     "metadata": {},
     "output_type": "execute_result"
    }
   ],
   "source": [
    "stat = quote.statistics(21)\n",
    "stat = stat[(stat['drawdown'] < 8) & (stat['21-mean'] > 0.8)]\n",
    "stat"
   ]
  },
  {
   "cell_type": "code",
   "execution_count": 3,
   "metadata": {},
   "outputs": [
    {
     "name": "stdout",
     "output_type": "stream",
     "text": [
      "['SPLV', 'FINX'] 0.9074263257932116 1.115547171662521 1.8208834475592637 -2.029004293428573\n",
      "['SPLV', 'XLU'] 0.8809667444732125 1.28710784225171 1.3493532367252379 -1.7554943345037353\n",
      "['SPLV', 'ICLN'] 0.38386234167794075 0.5668978164253056 1.5202375592902166 -1.7032730340375815\n",
      "['XLU', 'ICLN'] 0.2215821635679418 -0.8285692706035004 1.8839105175532063 -0.8337590833817641\n"
     ]
    },
    {
     "data": {
      "text/plain": [
       "['XLU', 'ICLN']"
      ]
     },
     "execution_count": 3,
     "metadata": {},
     "output_type": "execute_result"
    }
   ],
   "source": [
    "quote.setup_mask(stat.index)\n",
    "quote.least_correlated_portfolio(21, 2)"
   ]
  },
  {
   "cell_type": "code",
   "execution_count": 4,
   "metadata": {},
   "outputs": [
    {
     "name": "stdout",
     "output_type": "stream",
     "text": [
      "['SPLV', 'FINX'] 0.9074263257932116 1.115547171662521 1.8208834475592637 -2.029004293428573\n",
      "['SPLV', 'XLU'] 0.8809667444732125 1.28710784225171 1.3493532367252379 -1.7554943345037353\n",
      "['SPLV', 'ICLN'] 0.38386234167794075 0.5668978164253056 1.5202375592902166 -1.7032730340375815\n"
     ]
    },
    {
     "data": {
      "text/plain": [
       "['SPLV', 'ICLN']"
      ]
     },
     "execution_count": 4,
     "metadata": {},
     "output_type": "execute_result"
    }
   ],
   "source": [
    "quote.setup_mask(stat.index)\n",
    "quote.least_correlated_portfolio(21, 2, ['SPLV'])"
   ]
  },
  {
   "cell_type": "code",
   "execution_count": 5,
   "metadata": {},
   "outputs": [
    {
     "name": "stderr",
     "output_type": "stream",
     "text": [
      "/Users/chaoyi/.local/share/virtualenvs/portfolio_analysis-bdMx2S3t/lib/python3.7/site-packages/scipy/optimize/minpack.py:162: RuntimeWarning: The iteration is not making good progress, as measured by the \n",
      "  improvement from the last ten iterations.\n",
      "  warnings.warn(msg, RuntimeWarning)\n"
     ]
    },
    {
     "data": {
      "text/plain": [
       "(Symbols\n",
       " SPLV    0.938392\n",
       " ICLN    0.061608\n",
       " dtype: float64, 1.5239, 1.0341)"
      ]
     },
     "execution_count": 5,
     "metadata": {},
     "output_type": "execute_result"
    }
   ],
   "source": [
    "quote.setup_mask(['SPLV', 'ICLN'])\n",
    "quote.find_optimal_ratio(21, 1)"
   ]
  },
  {
   "cell_type": "code",
   "execution_count": 6,
   "metadata": {},
   "outputs": [
    {
     "data": {
      "text/html": [
       "<div>\n",
       "<style scoped>\n",
       "    .dataframe tbody tr th:only-of-type {\n",
       "        vertical-align: middle;\n",
       "    }\n",
       "\n",
       "    .dataframe tbody tr th {\n",
       "        vertical-align: top;\n",
       "    }\n",
       "\n",
       "    .dataframe thead th {\n",
       "        text-align: right;\n",
       "    }\n",
       "</style>\n",
       "<table border=\"1\" class=\"dataframe\">\n",
       "  <thead>\n",
       "    <tr style=\"text-align: right;\">\n",
       "      <th></th>\n",
       "      <th>count</th>\n",
       "      <th>mean</th>\n",
       "      <th>std</th>\n",
       "      <th>min</th>\n",
       "      <th>25%</th>\n",
       "      <th>50%</th>\n",
       "      <th>75%</th>\n",
       "      <th>max</th>\n",
       "      <th>shrp</th>\n",
       "      <th>drawdown</th>\n",
       "    </tr>\n",
       "  </thead>\n",
       "  <tbody>\n",
       "    <tr>\n",
       "      <th>SPLV</th>\n",
       "      <td>50.0</td>\n",
       "      <td>1.548317</td>\n",
       "      <td>1.044365</td>\n",
       "      <td>-0.950248</td>\n",
       "      <td>0.889543</td>\n",
       "      <td>1.733538</td>\n",
       "      <td>2.087735</td>\n",
       "      <td>4.605752</td>\n",
       "      <td>1.312504</td>\n",
       "      <td>1.971361</td>\n",
       "    </tr>\n",
       "    <tr>\n",
       "      <th>Portfolio</th>\n",
       "      <td>50.0</td>\n",
       "      <td>1.523427</td>\n",
       "      <td>1.033255</td>\n",
       "      <td>-0.963897</td>\n",
       "      <td>0.898490</td>\n",
       "      <td>1.692032</td>\n",
       "      <td>1.990542</td>\n",
       "      <td>4.394984</td>\n",
       "      <td>1.302528</td>\n",
       "      <td>1.947916</td>\n",
       "    </tr>\n",
       "    <tr>\n",
       "      <th>ICLN</th>\n",
       "      <td>50.0</td>\n",
       "      <td>1.151368</td>\n",
       "      <td>2.491970</td>\n",
       "      <td>-2.859960</td>\n",
       "      <td>-1.020986</td>\n",
       "      <td>1.156973</td>\n",
       "      <td>2.745302</td>\n",
       "      <td>6.210528</td>\n",
       "      <td>0.390769</td>\n",
       "      <td>4.109590</td>\n",
       "    </tr>\n",
       "  </tbody>\n",
       "</table>\n",
       "</div>"
      ],
      "text/plain": [
       "           count      mean       std       min       25%       50%       75%  \\\n",
       "SPLV        50.0  1.548317  1.044365 -0.950248  0.889543  1.733538  2.087735   \n",
       "Portfolio   50.0  1.523427  1.033255 -0.963897  0.898490  1.692032  1.990542   \n",
       "ICLN        50.0  1.151368  2.491970 -2.859960 -1.020986  1.156973  2.745302   \n",
       "\n",
       "                max      shrp  drawdown  \n",
       "SPLV       4.605752  1.312504  1.971361  \n",
       "Portfolio  4.394984  1.302528  1.947916  \n",
       "ICLN       6.210528  0.390769  4.109590  "
      ]
     },
     "execution_count": 6,
     "metadata": {},
     "output_type": "execute_result"
    },
    {
     "data": {
      "image/png": "[encoded data removed]",
      "text/plain": [
       "<Figure size 864x576 with 1 Axes>"
      ]
     },
     "metadata": {
      "needs_background": "light"
     },
     "output_type": "display_data"
    }
   ],
   "source": [
    "quote.graph(21, {'SPLV': .94, 'ICLN': .06})"
   ]
  },
  {
   "cell_type": "code",
   "execution_count": null,
   "metadata": {},
   "outputs": [],
   "source": []
  }
 ],
 "metadata": {
  "kernelspec": {
   "display_name": "Python 3",
   "language": "python",
   "name": "python3"
  },
  "language_info": {
   "codemirror_mode": {
    "name": "ipython",
    "version": 3
   },
   "file_extension": ".py",
   "mimetype": "text/x-python",
   "name": "python",
   "nbconvert_exporter": "python",
   "pygments_lexer": "ipython3",
   "version": "3.7.3"
  }
 },
 "nbformat": 4,
 "nbformat_minor": 2
}
