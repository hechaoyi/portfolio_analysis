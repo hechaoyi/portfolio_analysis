{
 "cells": [
  {
   "cell_type": "code",
   "execution_count": 1,
   "metadata": {},
   "outputs": [
    {
     "name": "stdout",
     "output_type": "stream",
     "text": [
      "Populating the interactive namespace from numpy and matplotlib\n"
     ]
    }
   ],
   "source": [
    "%pylab inline\n",
    "from requests import post\n",
    "from app.analysis import Quote\n",
    "def screen_funds(*filter, min_assets=1, max_expense=1):\n",
    "    query = 'query screen($filter:[String!]!,$limit:[FundLimitOptionInput!]!){viewer{screenFunds(filterCategory:$filter,limit:$limit,sort:{type:FUND_TOTAL_ASSETS,direction:DESC},first:100){edges{node{symbol}}}}}'\n",
    "    variables = {'filter':filter,'limit':[{'type':'FUND_TOTAL_ASSETS','min':min_assets*1000000000,'inclusive':True},{'type':'FUND_NET_EXPENSE_RATIO','max':max_expense,'inclusive':True}]}\n",
    "    r = post('https://lens.m1finance.com/graphql', json={'query': query, 'variables': variables}).json()\n",
    "    return [n['node']['symbol'] for n in r['data']['viewer']['screenFunds']['edges']]"
   ]
  },
  {
   "cell_type": "code",
   "execution_count": 2,
   "metadata": {},
   "outputs": [
    {
     "name": "stdout",
     "output_type": "stream",
     "text": [
      "from 2019-05-20 to 2019-07-05 - 12\n"
     ]
    }
   ],
   "source": [
    "quote = Quote(screen_funds('Alternatives'), 50, 5)\n",
    "print(f'from {quote.start.date()} to {quote.end.date()} - {len(quote.data.columns)}')"
   ]
  },
  {
   "cell_type": "code",
   "execution_count": 3,
   "metadata": {},
   "outputs": [
    {
     "name": "stdout",
     "output_type": "stream",
     "text": [
      "12\n"
     ]
    },
    {
     "data": {
      "text/html": [
       "<div>\n",
       "<style scoped>\n",
       "    .dataframe tbody tr th:only-of-type {\n",
       "        vertical-align: middle;\n",
       "    }\n",
       "\n",
       "    .dataframe tbody tr th {\n",
       "        vertical-align: top;\n",
       "    }\n",
       "\n",
       "    .dataframe thead th {\n",
       "        text-align: right;\n",
       "    }\n",
       "</style>\n",
       "<table border=\"1\" class=\"dataframe\">\n",
       "  <thead>\n",
       "    <tr style=\"text-align: right;\">\n",
       "      <th></th>\n",
       "      <th>len</th>\n",
       "      <th>mean</th>\n",
       "      <th>std</th>\n",
       "      <th>shrp</th>\n",
       "      <th>drawdown</th>\n",
       "    </tr>\n",
       "    <tr>\n",
       "      <th>Symbols</th>\n",
       "      <th></th>\n",
       "      <th></th>\n",
       "      <th></th>\n",
       "      <th></th>\n",
       "      <th></th>\n",
       "    </tr>\n",
       "  </thead>\n",
       "  <tbody>\n",
       "    <tr>\n",
       "      <th>VNQI</th>\n",
       "      <td>28</td>\n",
       "      <td>0.639983</td>\n",
       "      <td>1.040997</td>\n",
       "      <td>0.576659</td>\n",
       "      <td>1.201963</td>\n",
       "    </tr>\n",
       "    <tr>\n",
       "      <th>RWX</th>\n",
       "      <td>28</td>\n",
       "      <td>0.391291</td>\n",
       "      <td>0.982035</td>\n",
       "      <td>0.358041</td>\n",
       "      <td>1.438101</td>\n",
       "    </tr>\n",
       "    <tr>\n",
       "      <th>XLRE</th>\n",
       "      <td>28</td>\n",
       "      <td>0.563354</td>\n",
       "      <td>2.226184</td>\n",
       "      <td>0.235233</td>\n",
       "      <td>4.835459</td>\n",
       "    </tr>\n",
       "    <tr>\n",
       "      <th>REM</th>\n",
       "      <td>28</td>\n",
       "      <td>0.290853</td>\n",
       "      <td>1.304723</td>\n",
       "      <td>0.192509</td>\n",
       "      <td>3.645715</td>\n",
       "    </tr>\n",
       "    <tr>\n",
       "      <th>RWO</th>\n",
       "      <td>28</td>\n",
       "      <td>0.328881</td>\n",
       "      <td>1.565427</td>\n",
       "      <td>0.184741</td>\n",
       "      <td>3.132428</td>\n",
       "    </tr>\n",
       "    <tr>\n",
       "      <th>VNQ</th>\n",
       "      <td>28</td>\n",
       "      <td>0.431719</td>\n",
       "      <td>2.235251</td>\n",
       "      <td>0.175388</td>\n",
       "      <td>5.135487</td>\n",
       "    </tr>\n",
       "    <tr>\n",
       "      <th>REET</th>\n",
       "      <td>28</td>\n",
       "      <td>0.328747</td>\n",
       "      <td>1.672523</td>\n",
       "      <td>0.172831</td>\n",
       "      <td>3.361345</td>\n",
       "    </tr>\n",
       "    <tr>\n",
       "      <th>IYR</th>\n",
       "      <td>28</td>\n",
       "      <td>0.404385</td>\n",
       "      <td>2.218952</td>\n",
       "      <td>0.164358</td>\n",
       "      <td>4.963136</td>\n",
       "    </tr>\n",
       "    <tr>\n",
       "      <th>ICF</th>\n",
       "      <td>28</td>\n",
       "      <td>0.356912</td>\n",
       "      <td>2.227113</td>\n",
       "      <td>0.142440</td>\n",
       "      <td>4.991450</td>\n",
       "    </tr>\n",
       "    <tr>\n",
       "      <th>SCHH</th>\n",
       "      <td>28</td>\n",
       "      <td>0.242543</td>\n",
       "      <td>2.273402</td>\n",
       "      <td>0.089232</td>\n",
       "      <td>4.980762</td>\n",
       "    </tr>\n",
       "    <tr>\n",
       "      <th>USRT</th>\n",
       "      <td>28</td>\n",
       "      <td>0.242450</td>\n",
       "      <td>2.281485</td>\n",
       "      <td>0.088875</td>\n",
       "      <td>5.198662</td>\n",
       "    </tr>\n",
       "    <tr>\n",
       "      <th>RWR</th>\n",
       "      <td>28</td>\n",
       "      <td>0.237335</td>\n",
       "      <td>2.235504</td>\n",
       "      <td>0.088415</td>\n",
       "      <td>4.950217</td>\n",
       "    </tr>\n",
       "  </tbody>\n",
       "</table>\n",
       "</div>"
      ],
      "text/plain": [
       "         len      mean       std      shrp  drawdown\n",
       "Symbols                                             \n",
       "VNQI      28  0.639983  1.040997  0.576659  1.201963\n",
       "RWX       28  0.391291  0.982035  0.358041  1.438101\n",
       "XLRE      28  0.563354  2.226184  0.235233  4.835459\n",
       "REM       28  0.290853  1.304723  0.192509  3.645715\n",
       "RWO       28  0.328881  1.565427  0.184741  3.132428\n",
       "VNQ       28  0.431719  2.235251  0.175388  5.135487\n",
       "REET      28  0.328747  1.672523  0.172831  3.361345\n",
       "IYR       28  0.404385  2.218952  0.164358  4.963136\n",
       "ICF       28  0.356912  2.227113  0.142440  4.991450\n",
       "SCHH      28  0.242543  2.273402  0.089232  4.980762\n",
       "USRT      28  0.242450  2.281485  0.088875  5.198662\n",
       "RWR       28  0.237335  2.235504  0.088415  4.950217"
      ]
     },
     "execution_count": 3,
     "metadata": {},
     "output_type": "execute_result"
    }
   ],
   "source": [
    "stats = quote.statistics()\n",
    "stats = stats[stats['shrp'] > 0]\n",
    "print(len(stats))\n",
    "stats"
   ]
  },
  {
   "cell_type": "code",
   "execution_count": 4,
   "metadata": {},
   "outputs": [
    {
     "name": "stdout",
     "output_type": "stream",
     "text": [
      "evicted REM 0.5323365300555439\n",
      "evicted XLRE 0.5566041174213188\n",
      "retry backlogs ['ICF', 'USRT', 'IYR', 'RWO', 'RWX', 'REET', 'RWR', 'SCHH', 'VNQ'] at 0.905 - 0.5766593794393816\n",
      "evicted VNQ 0.5709693777249284\n",
      "retry backlogs ['USRT', 'ICF', 'RWO', 'RWR', 'SCHH', 'REET', 'RWX', 'IYR'] at 0.91 - 0.5766593794393816\n",
      "evicted IYR 0.5713199511388563\n",
      "retry backlogs ['RWO', 'RWX', 'REET', 'USRT', 'RWR', 'SCHH', 'ICF'] at 0.915 - 0.5766593794393816\n",
      "evicted ICF 0.5625081784945498\n",
      "retry backlogs ['RWO', 'RWX', 'REET', 'RWR', 'USRT', 'SCHH'] at 0.92 - 0.5766593794393816\n",
      "evicted USRT 0.5799335000256175\n",
      "retry backlogs ['RWO', 'RWX', 'REET', 'RWR', 'SCHH'] at 0.925 - 0.5766593794393816\n",
      "evicted SCHH 0.5847638192024078\n",
      "retry backlogs ['RWO', 'RWX', 'REET', 'RWR'] at 0.93 - 0.5766593794393816\n",
      "evicted RWR 0.5868007798184146\n",
      "retry backlogs ['RWO', 'RWX', 'REET'] at 0.935 - 0.5766593794393816\n",
      "evicted RWX 0.9314764885618805\n",
      "evicted REET 0.7214774382769524\n",
      "retry backlogs ['RWO'] at 0.9400000000000001 - 0.5766593794393816\n",
      "evicted RWO 0.7491140822166754\n",
      "{'VNQI': 1} 0.5766593794393816\n"
     ]
    },
    {
     "data": {
      "text/html": [
       "<div>\n",
       "<style scoped>\n",
       "    .dataframe tbody tr th:only-of-type {\n",
       "        vertical-align: middle;\n",
       "    }\n",
       "\n",
       "    .dataframe tbody tr th {\n",
       "        vertical-align: top;\n",
       "    }\n",
       "\n",
       "    .dataframe thead th {\n",
       "        text-align: right;\n",
       "    }\n",
       "</style>\n",
       "<table border=\"1\" class=\"dataframe\">\n",
       "  <thead>\n",
       "    <tr style=\"text-align: right;\">\n",
       "      <th></th>\n",
       "      <th>count</th>\n",
       "      <th>mean</th>\n",
       "      <th>std</th>\n",
       "      <th>min</th>\n",
       "      <th>25%</th>\n",
       "      <th>50%</th>\n",
       "      <th>75%</th>\n",
       "      <th>max</th>\n",
       "      <th>shrp</th>\n",
       "      <th>drawdown</th>\n",
       "    </tr>\n",
       "  </thead>\n",
       "  <tbody>\n",
       "    <tr>\n",
       "      <th>VNQI</th>\n",
       "      <td>28.0</td>\n",
       "      <td>0.639983</td>\n",
       "      <td>1.040997</td>\n",
       "      <td>-0.877046</td>\n",
       "      <td>-0.235906</td>\n",
       "      <td>0.645188</td>\n",
       "      <td>1.614544</td>\n",
       "      <td>2.348139</td>\n",
       "      <td>0.576659</td>\n",
       "      <td>1.201963</td>\n",
       "    </tr>\n",
       "    <tr>\n",
       "      <th>Portfolio</th>\n",
       "      <td>28.0</td>\n",
       "      <td>0.639983</td>\n",
       "      <td>1.040997</td>\n",
       "      <td>-0.877046</td>\n",
       "      <td>-0.235906</td>\n",
       "      <td>0.645188</td>\n",
       "      <td>1.614544</td>\n",
       "      <td>2.348139</td>\n",
       "      <td>0.576659</td>\n",
       "      <td>1.201963</td>\n",
       "    </tr>\n",
       "  </tbody>\n",
       "</table>\n",
       "</div>"
      ],
      "text/plain": [
       "           count      mean       std       min       25%       50%       75%  \\\n",
       "VNQI        28.0  0.639983  1.040997 -0.877046 -0.235906  0.645188  1.614544   \n",
       "Portfolio   28.0  0.639983  1.040997 -0.877046 -0.235906  0.645188  1.614544   \n",
       "\n",
       "                max      shrp  drawdown  \n",
       "VNQI       2.348139  0.576659  1.201963  \n",
       "Portfolio  2.348139  0.576659  1.201963  "
      ]
     },
     "execution_count": 4,
     "metadata": {},
     "output_type": "execute_result"
    },
    {
     "data": {
      "image/png": "[encoded data removed]",
      "text/plain": [
       "<Figure size 864x576 with 1 Axes>"
      ]
     },
     "metadata": {
      "needs_background": "light"
     },
     "output_type": "display_data"
    }
   ],
   "source": [
    "quote.setup_mask(stats.index)\n",
    "ratio, shrp = quote.optimize_portfolio(.1)\n",
    "print(ratio, shrp)\n",
    "quote.setup_mask(ratio)\n",
    "quote.graph(ratio)"
   ]
  },
  {
   "cell_type": "code",
   "execution_count": null,
   "metadata": {},
   "outputs": [],
   "source": []
  }
 ],
 "metadata": {
  "kernelspec": {
   "display_name": "Python 3",
   "language": "python",
   "name": "python3"
  },
  "language_info": {
   "codemirror_mode": {
    "name": "ipython",
    "version": 3
   },
   "file_extension": ".py",
   "mimetype": "text/x-python",
   "name": "python",
   "nbconvert_exporter": "python",
   "pygments_lexer": "ipython3",
   "version": "3.7.3"
  }
 },
 "nbformat": 4,
 "nbformat_minor": 2
}
