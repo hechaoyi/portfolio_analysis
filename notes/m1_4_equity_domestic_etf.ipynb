{
 "cells": [
  {
   "cell_type": "code",
   "execution_count": 1,
   "metadata": {},
   "outputs": [],
   "source": [
    "from requests import post\n",
    "from app.analysis import Quote\n",
    "query = 'query UnknownFile($limit_0:[FundLimitOptionInput!]!) {viewer {...Fe}} fragment Fe on Viewer {_screenFunds4s9d1a:screenFunds(filterCategory:[\"$$\"],limit:$limit_0,first:100) {edges {node {symbol}}}}'\n",
    "variables = {'limit_0':[{'type':'FUND_TOTAL_ASSETS','min':2000000000,'inclusive':True},{'type':'FUND_NET_EXPENSE_RATIO','max':.5,'inclusive':True}]}\n",
    "r = post('https://lens.m1finance.com/graphql', json={'query': query.replace('$$', 'Equities\",\"Domestic'), 'variables': variables}).json()\n",
    "symbols = [n['node']['symbol'] for n in r['data']['viewer']['_screenFunds4s9d1a']['edges']]"
   ]
  },
  {
   "cell_type": "code",
   "execution_count": 2,
   "metadata": {},
   "outputs": [
    {
     "data": {
      "text/plain": [
       "'from 2019-02-28 to 2019-06-28 - 86'"
      ]
     },
     "execution_count": 2,
     "metadata": {},
     "output_type": "execute_result"
    }
   ],
   "source": [
    "quote = Quote(symbols, 120)\n",
    "f'from {quote.start.date()} to {quote.end.date()} - {len(quote.data.columns)}'"
   ]
  },
  {
   "cell_type": "code",
   "execution_count": 3,
   "metadata": {},
   "outputs": [
    {
     "data": {
      "text/html": [
       "<div>\n",
       "<style scoped>\n",
       "    .dataframe tbody tr th:only-of-type {\n",
       "        vertical-align: middle;\n",
       "    }\n",
       "\n",
       "    .dataframe tbody tr th {\n",
       "        vertical-align: top;\n",
       "    }\n",
       "\n",
       "    .dataframe thead th {\n",
       "        text-align: right;\n",
       "    }\n",
       "</style>\n",
       "<table border=\"1\" class=\"dataframe\">\n",
       "  <thead>\n",
       "    <tr style=\"text-align: right;\">\n",
       "      <th></th>\n",
       "      <th>21-len</th>\n",
       "      <th>21-mean</th>\n",
       "      <th>21-std</th>\n",
       "      <th>21-shrp</th>\n",
       "      <th>drawdown</th>\n",
       "    </tr>\n",
       "    <tr>\n",
       "      <th>Symbols</th>\n",
       "      <th></th>\n",
       "      <th></th>\n",
       "      <th></th>\n",
       "      <th></th>\n",
       "      <th></th>\n",
       "    </tr>\n",
       "  </thead>\n",
       "  <tbody>\n",
       "    <tr>\n",
       "      <th>PGX</th>\n",
       "      <td>64</td>\n",
       "      <td>0.800158</td>\n",
       "      <td>0.431449</td>\n",
       "      <td>1.468289</td>\n",
       "      <td>1.237116</td>\n",
       "    </tr>\n",
       "    <tr>\n",
       "      <th>SPLV</th>\n",
       "      <td>64</td>\n",
       "      <td>2.097328</td>\n",
       "      <td>1.395772</td>\n",
       "      <td>1.383221</td>\n",
       "      <td>2.660443</td>\n",
       "    </tr>\n",
       "    <tr>\n",
       "      <th>USMV</th>\n",
       "      <td>64</td>\n",
       "      <td>2.173729</td>\n",
       "      <td>1.743270</td>\n",
       "      <td>1.151320</td>\n",
       "      <td>2.180427</td>\n",
       "    </tr>\n",
       "    <tr>\n",
       "      <th>PFF</th>\n",
       "      <td>64</td>\n",
       "      <td>0.801404</td>\n",
       "      <td>0.672079</td>\n",
       "      <td>0.944438</td>\n",
       "      <td>1.003023</td>\n",
       "    </tr>\n",
       "    <tr>\n",
       "      <th>MTUM</th>\n",
       "      <td>64</td>\n",
       "      <td>2.125345</td>\n",
       "      <td>2.093397</td>\n",
       "      <td>0.935646</td>\n",
       "      <td>2.859384</td>\n",
       "    </tr>\n",
       "    <tr>\n",
       "      <th>XMLV</th>\n",
       "      <td>64</td>\n",
       "      <td>1.318236</td>\n",
       "      <td>1.560093</td>\n",
       "      <td>0.738142</td>\n",
       "      <td>3.688597</td>\n",
       "    </tr>\n",
       "    <tr>\n",
       "      <th>VIG</th>\n",
       "      <td>64</td>\n",
       "      <td>1.761311</td>\n",
       "      <td>2.502991</td>\n",
       "      <td>0.637095</td>\n",
       "      <td>4.634193</td>\n",
       "    </tr>\n",
       "    <tr>\n",
       "      <th>VOT</th>\n",
       "      <td>64</td>\n",
       "      <td>1.674926</td>\n",
       "      <td>3.180653</td>\n",
       "      <td>0.474198</td>\n",
       "      <td>5.627906</td>\n",
       "    </tr>\n",
       "    <tr>\n",
       "      <th>VOOG</th>\n",
       "      <td>64</td>\n",
       "      <td>1.478941</td>\n",
       "      <td>2.899947</td>\n",
       "      <td>0.452517</td>\n",
       "      <td>6.391441</td>\n",
       "    </tr>\n",
       "    <tr>\n",
       "      <th>SPYG</th>\n",
       "      <td>64</td>\n",
       "      <td>1.465999</td>\n",
       "      <td>2.880943</td>\n",
       "      <td>0.451010</td>\n",
       "      <td>6.359871</td>\n",
       "    </tr>\n",
       "    <tr>\n",
       "      <th>IVW</th>\n",
       "      <td>64</td>\n",
       "      <td>1.457323</td>\n",
       "      <td>2.883230</td>\n",
       "      <td>0.447643</td>\n",
       "      <td>6.382862</td>\n",
       "    </tr>\n",
       "    <tr>\n",
       "      <th>IUSG</th>\n",
       "      <td>64</td>\n",
       "      <td>1.428928</td>\n",
       "      <td>2.902380</td>\n",
       "      <td>0.434906</td>\n",
       "      <td>6.410461</td>\n",
       "    </tr>\n",
       "    <tr>\n",
       "      <th>DGRO</th>\n",
       "      <td>64</td>\n",
       "      <td>1.270235</td>\n",
       "      <td>2.643666</td>\n",
       "      <td>0.417439</td>\n",
       "      <td>5.769734</td>\n",
       "    </tr>\n",
       "    <tr>\n",
       "      <th>IWP</th>\n",
       "      <td>64</td>\n",
       "      <td>1.642729</td>\n",
       "      <td>3.560633</td>\n",
       "      <td>0.414550</td>\n",
       "      <td>6.491853</td>\n",
       "    </tr>\n",
       "  </tbody>\n",
       "</table>\n",
       "</div>"
      ],
      "text/plain": [
       "         21-len   21-mean    21-std   21-shrp  drawdown\n",
       "Symbols                                                \n",
       "PGX          64  0.800158  0.431449  1.468289  1.237116\n",
       "SPLV         64  2.097328  1.395772  1.383221  2.660443\n",
       "USMV         64  2.173729  1.743270  1.151320  2.180427\n",
       "PFF          64  0.801404  0.672079  0.944438  1.003023\n",
       "MTUM         64  2.125345  2.093397  0.935646  2.859384\n",
       "XMLV         64  1.318236  1.560093  0.738142  3.688597\n",
       "VIG          64  1.761311  2.502991  0.637095  4.634193\n",
       "VOT          64  1.674926  3.180653  0.474198  5.627906\n",
       "VOOG         64  1.478941  2.899947  0.452517  6.391441\n",
       "SPYG         64  1.465999  2.880943  0.451010  6.359871\n",
       "IVW          64  1.457323  2.883230  0.447643  6.382862\n",
       "IUSG         64  1.428928  2.902380  0.434906  6.410461\n",
       "DGRO         64  1.270235  2.643666  0.417439  5.769734\n",
       "IWP          64  1.642729  3.560633  0.414550  6.491853"
      ]
     },
     "execution_count": 3,
     "metadata": {},
     "output_type": "execute_result"
    }
   ],
   "source": [
    "stat = quote.statistics(21)\n",
    "stat = stat[(stat['drawdown'] < 8) & (stat['21-shrp'] > 0.4)]\n",
    "stat"
   ]
  },
  {
   "cell_type": "code",
   "execution_count": 4,
   "metadata": {},
   "outputs": [
    {
     "name": "stdout",
     "output_type": "stream",
     "text": [
      "['PGX'] -0.4208655143722255 0.6 0.24742325575833032 1.468288770130556\n",
      "['PGX', 'SPLV'] -0.5549503159022314 0.4810487588032717 0.38975592885216226 1.4257550035576654\n"
     ]
    },
    {
     "data": {
      "text/plain": [
       "['PGX', 'SPLV']"
      ]
     },
     "execution_count": 4,
     "metadata": {},
     "output_type": "execute_result"
    }
   ],
   "source": [
    "quote.setup_mask(stat.index)\n",
    "quote.least_correlated_portfolio(21, 2)"
   ]
  },
  {
   "cell_type": "code",
   "execution_count": 5,
   "metadata": {},
   "outputs": [
    {
     "name": "stderr",
     "output_type": "stream",
     "text": [
      "/Users/chaoyi/.local/share/virtualenvs/portfolio_analysis-bdMx2S3t/lib/python3.7/site-packages/scipy/optimize/minpack.py:162: RuntimeWarning: The iteration is not making good progress, as measured by the \n",
      "  improvement from the last ten iterations.\n",
      "  warnings.warn(msg, RuntimeWarning)\n"
     ]
    },
    {
     "data": {
      "text/plain": [
       "({'PGX': 1.07, 'SPLV': -0.07}, 0.7141, 0.4234)"
      ]
     },
     "execution_count": 5,
     "metadata": {},
     "output_type": "execute_result"
    }
   ],
   "source": [
    "quote.setup_mask(['PGX', 'SPLV'])\n",
    "quote.find_optimal_ratio(21, 2)"
   ]
  },
  {
   "cell_type": "code",
   "execution_count": null,
   "metadata": {},
   "outputs": [],
   "source": []
  }
 ],
 "metadata": {
  "kernelspec": {
   "display_name": "Python 3",
   "language": "python",
   "name": "python3"
  },
  "language_info": {
   "codemirror_mode": {
    "name": "ipython",
    "version": 3
   },
   "file_extension": ".py",
   "mimetype": "text/x-python",
   "name": "python",
   "nbconvert_exporter": "python",
   "pygments_lexer": "ipython3",
   "version": "3.7.3"
  }
 },
 "nbformat": 4,
 "nbformat_minor": 2
}
