{
 "cells": [
  {
   "cell_type": "code",
   "execution_count": 1,
   "metadata": {},
   "outputs": [],
   "source": [
    "from requests import post\n",
    "from app.analysis import Quote\n",
    "query = 'query UnknownFile($limit_0:[FundLimitOptionInput!]!) {viewer {...Fe}} fragment Fe on Viewer {_screenFunds4s9d1a:screenFunds(filterCategory:[\"$$\"],limit:$limit_0,first:100) {edges {node {symbol}}}}'\n",
    "variables = {'limit_0':[{'type':'FUND_TOTAL_ASSETS','min':2000000000,'inclusive':True},{'type':'FUND_NET_EXPENSE_RATIO','max':.5,'inclusive':True}]}\n",
    "r = post('https://lens.m1finance.com/graphql', json={'query': query.replace('$$', 'Equities\",\"Domestic'), 'variables': variables}).json()\n",
    "symbols = [n['node']['symbol'] for n in r['data']['viewer']['_screenFunds4s9d1a']['edges']]"
   ]
  },
  {
   "cell_type": "code",
   "execution_count": 2,
   "metadata": {},
   "outputs": [
    {
     "data": {
      "text/plain": [
       "'from 2019-05-02 to 2019-07-01 - 86'"
      ]
     },
     "execution_count": 2,
     "metadata": {},
     "output_type": "execute_result"
    }
   ],
   "source": [
    "quote = Quote(symbols, 60)\n",
    "f'from {quote.start.date()} to {quote.end.date()} - {len(quote.data.columns)}'"
   ]
  },
  {
   "cell_type": "code",
   "execution_count": 21,
   "metadata": {},
   "outputs": [
    {
     "data": {
      "text/html": [
       "<div>\n",
       "<style scoped>\n",
       "    .dataframe tbody tr th:only-of-type {\n",
       "        vertical-align: middle;\n",
       "    }\n",
       "\n",
       "    .dataframe tbody tr th {\n",
       "        vertical-align: top;\n",
       "    }\n",
       "\n",
       "    .dataframe thead th {\n",
       "        text-align: right;\n",
       "    }\n",
       "</style>\n",
       "<table border=\"1\" class=\"dataframe\">\n",
       "  <thead>\n",
       "    <tr style=\"text-align: right;\">\n",
       "      <th></th>\n",
       "      <th>21-len</th>\n",
       "      <th>21-mean</th>\n",
       "      <th>21-std</th>\n",
       "      <th>21-shrp</th>\n",
       "      <th>drawdown</th>\n",
       "    </tr>\n",
       "    <tr>\n",
       "      <th>Symbols</th>\n",
       "      <th></th>\n",
       "      <th></th>\n",
       "      <th></th>\n",
       "      <th></th>\n",
       "      <th></th>\n",
       "    </tr>\n",
       "  </thead>\n",
       "  <tbody>\n",
       "    <tr>\n",
       "      <th>PGX</th>\n",
       "      <td>21</td>\n",
       "      <td>1.083169</td>\n",
       "      <td>0.255608</td>\n",
       "      <td>3.585583</td>\n",
       "      <td>0.582894</td>\n",
       "    </tr>\n",
       "    <tr>\n",
       "      <th>SPLV</th>\n",
       "      <td>21</td>\n",
       "      <td>3.522489</td>\n",
       "      <td>1.145884</td>\n",
       "      <td>2.928589</td>\n",
       "      <td>2.660443</td>\n",
       "    </tr>\n",
       "    <tr>\n",
       "      <th>USMV</th>\n",
       "      <td>21</td>\n",
       "      <td>3.779888</td>\n",
       "      <td>1.393812</td>\n",
       "      <td>2.592331</td>\n",
       "      <td>1.936934</td>\n",
       "    </tr>\n",
       "    <tr>\n",
       "      <th>PFF</th>\n",
       "      <td>21</td>\n",
       "      <td>1.262855</td>\n",
       "      <td>0.445029</td>\n",
       "      <td>2.463185</td>\n",
       "      <td>0.754917</td>\n",
       "    </tr>\n",
       "    <tr>\n",
       "      <th>MTUM</th>\n",
       "      <td>21</td>\n",
       "      <td>4.138636</td>\n",
       "      <td>2.265894</td>\n",
       "      <td>1.752937</td>\n",
       "      <td>2.757652</td>\n",
       "    </tr>\n",
       "    <tr>\n",
       "      <th>VIG</th>\n",
       "      <td>21</td>\n",
       "      <td>2.934158</td>\n",
       "      <td>2.617638</td>\n",
       "      <td>1.057248</td>\n",
       "      <td>4.381940</td>\n",
       "    </tr>\n",
       "    <tr>\n",
       "      <th>NOBL</th>\n",
       "      <td>21</td>\n",
       "      <td>2.735681</td>\n",
       "      <td>2.707646</td>\n",
       "      <td>0.948800</td>\n",
       "      <td>5.389307</td>\n",
       "    </tr>\n",
       "    <tr>\n",
       "      <th>XMLV</th>\n",
       "      <td>21</td>\n",
       "      <td>1.454464</td>\n",
       "      <td>1.579327</td>\n",
       "      <td>0.815409</td>\n",
       "      <td>3.688597</td>\n",
       "    </tr>\n",
       "    <tr>\n",
       "      <th>DGRO</th>\n",
       "      <td>21</td>\n",
       "      <td>2.142740</td>\n",
       "      <td>2.887998</td>\n",
       "      <td>0.684236</td>\n",
       "      <td>5.720286</td>\n",
       "    </tr>\n",
       "    <tr>\n",
       "      <th>VOT</th>\n",
       "      <td>21</td>\n",
       "      <td>2.204265</td>\n",
       "      <td>2.986445</td>\n",
       "      <td>0.682282</td>\n",
       "      <td>5.627906</td>\n",
       "    </tr>\n",
       "    <tr>\n",
       "      <th>HDV</th>\n",
       "      <td>21</td>\n",
       "      <td>1.748890</td>\n",
       "      <td>2.473846</td>\n",
       "      <td>0.639580</td>\n",
       "      <td>5.510398</td>\n",
       "    </tr>\n",
       "    <tr>\n",
       "      <th>MGV</th>\n",
       "      <td>21</td>\n",
       "      <td>1.898913</td>\n",
       "      <td>2.850728</td>\n",
       "      <td>0.607651</td>\n",
       "      <td>5.861889</td>\n",
       "    </tr>\n",
       "  </tbody>\n",
       "</table>\n",
       "</div>"
      ],
      "text/plain": [
       "         21-len   21-mean    21-std   21-shrp  drawdown\n",
       "Symbols                                                \n",
       "PGX          21  1.083169  0.255608  3.585583  0.582894\n",
       "SPLV         21  3.522489  1.145884  2.928589  2.660443\n",
       "USMV         21  3.779888  1.393812  2.592331  1.936934\n",
       "PFF          21  1.262855  0.445029  2.463185  0.754917\n",
       "MTUM         21  4.138636  2.265894  1.752937  2.757652\n",
       "VIG          21  2.934158  2.617638  1.057248  4.381940\n",
       "NOBL         21  2.735681  2.707646  0.948800  5.389307\n",
       "XMLV         21  1.454464  1.579327  0.815409  3.688597\n",
       "DGRO         21  2.142740  2.887998  0.684236  5.720286\n",
       "VOT          21  2.204265  2.986445  0.682282  5.627906\n",
       "HDV          21  1.748890  2.473846  0.639580  5.510398\n",
       "MGV          21  1.898913  2.850728  0.607651  5.861889"
      ]
     },
     "execution_count": 21,
     "metadata": {},
     "output_type": "execute_result"
    }
   ],
   "source": [
    "stat = quote.statistics(21)\n",
    "stat = stat[(stat['drawdown'] < 6) & (stat['21-shrp'] > 0.6)]\n",
    "stat"
   ]
  },
  {
   "cell_type": "code",
   "execution_count": 28,
   "metadata": {},
   "outputs": [
    {
     "name": "stdout",
     "output_type": "stream",
     "text": [
      "['PGX'] -2.4690036966892794 0.8 0.11657883883222667 3.585582535521506\n",
      "['PGX', 'SPLV'] -2.539787193344022 0.3929650060069265 0.32433372038911046 3.2570859197400592\n"
     ]
    },
    {
     "data": {
      "text/plain": [
       "['PGX', 'SPLV']"
      ]
     },
     "execution_count": 28,
     "metadata": {},
     "output_type": "execute_result"
    }
   ],
   "source": [
    "quote.setup_mask(stat.index)\n",
    "quote.least_correlated_portfolio(21, 2)"
   ]
  },
  {
   "cell_type": "code",
   "execution_count": 31,
   "metadata": {},
   "outputs": [
    {
     "data": {
      "text/plain": [
       "({'PGX': 0.88, 'SPLV': 0.12}, 1.3813, 0.3076, 3.9481)"
      ]
     },
     "execution_count": 31,
     "metadata": {},
     "output_type": "execute_result"
    }
   ],
   "source": [
    "quote.setup_mask(['PGX', 'SPLV'])\n",
    "quote.find_optimal_ratio(21)"
   ]
  },
  {
   "cell_type": "code",
   "execution_count": 32,
   "metadata": {},
   "outputs": [
    {
     "name": "stdout",
     "output_type": "stream",
     "text": [
      "Populating the interactive namespace from numpy and matplotlib\n"
     ]
    },
    {
     "data": {
      "text/html": [
       "<div>\n",
       "<style scoped>\n",
       "    .dataframe tbody tr th:only-of-type {\n",
       "        vertical-align: middle;\n",
       "    }\n",
       "\n",
       "    .dataframe tbody tr th {\n",
       "        vertical-align: top;\n",
       "    }\n",
       "\n",
       "    .dataframe thead th {\n",
       "        text-align: right;\n",
       "    }\n",
       "</style>\n",
       "<table border=\"1\" class=\"dataframe\">\n",
       "  <thead>\n",
       "    <tr style=\"text-align: right;\">\n",
       "      <th></th>\n",
       "      <th>count</th>\n",
       "      <th>mean</th>\n",
       "      <th>std</th>\n",
       "      <th>min</th>\n",
       "      <th>25%</th>\n",
       "      <th>50%</th>\n",
       "      <th>75%</th>\n",
       "      <th>max</th>\n",
       "      <th>shrp</th>\n",
       "      <th>drawdown</th>\n",
       "    </tr>\n",
       "  </thead>\n",
       "  <tbody>\n",
       "    <tr>\n",
       "      <th>Portfolio</th>\n",
       "      <td>21.0</td>\n",
       "      <td>1.375362</td>\n",
       "      <td>0.306411</td>\n",
       "      <td>0.611131</td>\n",
       "      <td>1.214024</td>\n",
       "      <td>1.324129</td>\n",
       "      <td>1.628351</td>\n",
       "      <td>1.918824</td>\n",
       "      <td>3.944685</td>\n",
       "      <td>0.599159</td>\n",
       "    </tr>\n",
       "    <tr>\n",
       "      <th>PGX</th>\n",
       "      <td>21.0</td>\n",
       "      <td>1.083169</td>\n",
       "      <td>0.255608</td>\n",
       "      <td>0.584441</td>\n",
       "      <td>0.932998</td>\n",
       "      <td>1.069305</td>\n",
       "      <td>1.275265</td>\n",
       "      <td>1.587307</td>\n",
       "      <td>3.585583</td>\n",
       "      <td>0.582894</td>\n",
       "    </tr>\n",
       "    <tr>\n",
       "      <th>SPLV</th>\n",
       "      <td>21.0</td>\n",
       "      <td>3.522489</td>\n",
       "      <td>1.145884</td>\n",
       "      <td>0.709695</td>\n",
       "      <td>3.206919</td>\n",
       "      <td>3.658218</td>\n",
       "      <td>4.339692</td>\n",
       "      <td>4.955302</td>\n",
       "      <td>2.928589</td>\n",
       "      <td>2.660443</td>\n",
       "    </tr>\n",
       "  </tbody>\n",
       "</table>\n",
       "</div>"
      ],
      "text/plain": [
       "           count      mean       std       min       25%       50%       75%  \\\n",
       "Portfolio   21.0  1.375362  0.306411  0.611131  1.214024  1.324129  1.628351   \n",
       "PGX         21.0  1.083169  0.255608  0.584441  0.932998  1.069305  1.275265   \n",
       "SPLV        21.0  3.522489  1.145884  0.709695  3.206919  3.658218  4.339692   \n",
       "\n",
       "                max      shrp  drawdown  \n",
       "Portfolio  1.918824  3.944685  0.599159  \n",
       "PGX        1.587307  3.585583  0.582894  \n",
       "SPLV       4.955302  2.928589  2.660443  "
      ]
     },
     "execution_count": 32,
     "metadata": {},
     "output_type": "execute_result"
    },
    {
     "data": {
      "image/png": "[encoded data removed]",
      "text/plain": [
       "<Figure size 864x576 with 1 Axes>"
      ]
     },
     "metadata": {
      "needs_background": "light"
     },
     "output_type": "display_data"
    }
   ],
   "source": [
    "%pylab inline\n",
    "quote.setup_mask(['PGX', 'SPLV'])\n",
    "quote.graph(21, {'PGX': 0.88, 'SPLV': 0.12})"
   ]
  },
  {
   "cell_type": "code",
   "execution_count": null,
   "metadata": {},
   "outputs": [],
   "source": []
  }
 ],
 "metadata": {
  "kernelspec": {
   "display_name": "Python 3",
   "language": "python",
   "name": "python3"
  },
  "language_info": {
   "codemirror_mode": {
    "name": "ipython",
    "version": 3
   },
   "file_extension": ".py",
   "mimetype": "text/x-python",
   "name": "python",
   "nbconvert_exporter": "python",
   "pygments_lexer": "ipython3",
   "version": "3.7.3"
  }
 },
 "nbformat": 4,
 "nbformat_minor": 2
}
