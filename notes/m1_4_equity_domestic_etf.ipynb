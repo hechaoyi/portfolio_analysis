{
 "cells": [
  {
   "cell_type": "code",
   "execution_count": 1,
   "metadata": {},
   "outputs": [],
   "source": [
    "from requests import post\n",
    "from app.analysis import Quote\n",
    "query = 'query UnknownFile($limit_0:[FundLimitOptionInput!]!) {viewer {...Fe}} fragment Fe on Viewer {_screenFunds4s9d1a:screenFunds(filterCategory:[\"$$\"],limit:$limit_0,first:100) {edges {node {symbol}}}}'\n",
    "variables = {'limit_0':[{'type':'FUND_TOTAL_ASSETS','min':2000000000,'inclusive':True},{'type':'FUND_NET_EXPENSE_RATIO','max':.5,'inclusive':True}]}\n",
    "r = post('https://lens.m1finance.com/graphql', json={'query': query.replace('$$', 'Equities\",\"Domestic'), 'variables': variables}).json()\n",
    "symbols = [n['node']['symbol'] for n in r['data']['viewer']['_screenFunds4s9d1a']['edges']]"
   ]
  },
  {
   "cell_type": "code",
   "execution_count": 2,
   "metadata": {},
   "outputs": [
    {
     "data": {
      "text/plain": [
       "'from 2019-03-04 to 2019-06-28 - 86'"
      ]
     },
     "execution_count": 2,
     "metadata": {},
     "output_type": "execute_result"
    }
   ],
   "source": [
    "quote = Quote(symbols, 120)\n",
    "f'from {quote.start.date()} to {quote.end.date()} - {len(quote.data.columns)}'"
   ]
  },
  {
   "cell_type": "code",
   "execution_count": 3,
   "metadata": {},
   "outputs": [
    {
     "data": {
      "text/html": [
       "<div>\n",
       "<style scoped>\n",
       "    .dataframe tbody tr th:only-of-type {\n",
       "        vertical-align: middle;\n",
       "    }\n",
       "\n",
       "    .dataframe tbody tr th {\n",
       "        vertical-align: top;\n",
       "    }\n",
       "\n",
       "    .dataframe thead th {\n",
       "        text-align: right;\n",
       "    }\n",
       "</style>\n",
       "<table border=\"1\" class=\"dataframe\">\n",
       "  <thead>\n",
       "    <tr style=\"text-align: right;\">\n",
       "      <th></th>\n",
       "      <th>21-len</th>\n",
       "      <th>21-mean</th>\n",
       "      <th>21-std</th>\n",
       "      <th>21-shrp</th>\n",
       "      <th>drawdown</th>\n",
       "    </tr>\n",
       "    <tr>\n",
       "      <th>Symbols</th>\n",
       "      <th></th>\n",
       "      <th></th>\n",
       "      <th></th>\n",
       "      <th></th>\n",
       "      <th></th>\n",
       "    </tr>\n",
       "  </thead>\n",
       "  <tbody>\n",
       "    <tr>\n",
       "      <th>PGX</th>\n",
       "      <td>62</td>\n",
       "      <td>0.792361</td>\n",
       "      <td>0.436035</td>\n",
       "      <td>1.434961</td>\n",
       "      <td>1.237116</td>\n",
       "    </tr>\n",
       "    <tr>\n",
       "      <th>SPLV</th>\n",
       "      <td>62</td>\n",
       "      <td>2.100320</td>\n",
       "      <td>1.418272</td>\n",
       "      <td>1.363386</td>\n",
       "      <td>2.660443</td>\n",
       "    </tr>\n",
       "    <tr>\n",
       "      <th>USMV</th>\n",
       "      <td>62</td>\n",
       "      <td>2.159025</td>\n",
       "      <td>1.769566</td>\n",
       "      <td>1.125902</td>\n",
       "      <td>2.180427</td>\n",
       "    </tr>\n",
       "    <tr>\n",
       "      <th>MTUM</th>\n",
       "      <td>62</td>\n",
       "      <td>2.128084</td>\n",
       "      <td>2.127335</td>\n",
       "      <td>0.922006</td>\n",
       "      <td>2.859384</td>\n",
       "    </tr>\n",
       "    <tr>\n",
       "      <th>PFF</th>\n",
       "      <td>62</td>\n",
       "      <td>0.782232</td>\n",
       "      <td>0.674081</td>\n",
       "      <td>0.913192</td>\n",
       "      <td>1.003023</td>\n",
       "    </tr>\n",
       "    <tr>\n",
       "      <th>XMLV</th>\n",
       "      <td>62</td>\n",
       "      <td>1.338605</td>\n",
       "      <td>1.580594</td>\n",
       "      <td>0.741454</td>\n",
       "      <td>3.688597</td>\n",
       "    </tr>\n",
       "    <tr>\n",
       "      <th>VIG</th>\n",
       "      <td>62</td>\n",
       "      <td>1.773538</td>\n",
       "      <td>2.542372</td>\n",
       "      <td>0.632036</td>\n",
       "      <td>4.634193</td>\n",
       "    </tr>\n",
       "    <tr>\n",
       "      <th>VOT</th>\n",
       "      <td>62</td>\n",
       "      <td>1.641305</td>\n",
       "      <td>3.226571</td>\n",
       "      <td>0.457029</td>\n",
       "      <td>5.627906</td>\n",
       "    </tr>\n",
       "    <tr>\n",
       "      <th>VOOG</th>\n",
       "      <td>62</td>\n",
       "      <td>1.434180</td>\n",
       "      <td>2.935914</td>\n",
       "      <td>0.431727</td>\n",
       "      <td>6.391441</td>\n",
       "    </tr>\n",
       "    <tr>\n",
       "      <th>SPYG</th>\n",
       "      <td>62</td>\n",
       "      <td>1.422784</td>\n",
       "      <td>2.917369</td>\n",
       "      <td>0.430565</td>\n",
       "      <td>6.359871</td>\n",
       "    </tr>\n",
       "    <tr>\n",
       "      <th>IVW</th>\n",
       "      <td>62</td>\n",
       "      <td>1.414045</td>\n",
       "      <td>2.919611</td>\n",
       "      <td>0.427241</td>\n",
       "      <td>6.382862</td>\n",
       "    </tr>\n",
       "    <tr>\n",
       "      <th>IUSG</th>\n",
       "      <td>62</td>\n",
       "      <td>1.387591</td>\n",
       "      <td>2.940084</td>\n",
       "      <td>0.415269</td>\n",
       "      <td>6.410461</td>\n",
       "    </tr>\n",
       "    <tr>\n",
       "      <th>DGRO</th>\n",
       "      <td>62</td>\n",
       "      <td>1.267338</td>\n",
       "      <td>2.686055</td>\n",
       "      <td>0.409773</td>\n",
       "      <td>5.769734</td>\n",
       "    </tr>\n",
       "    <tr>\n",
       "      <th>IWP</th>\n",
       "      <td>62</td>\n",
       "      <td>1.641442</td>\n",
       "      <td>3.618118</td>\n",
       "      <td>0.407608</td>\n",
       "      <td>6.491853</td>\n",
       "    </tr>\n",
       "  </tbody>\n",
       "</table>\n",
       "</div>"
      ],
      "text/plain": [
       "         21-len   21-mean    21-std   21-shrp  drawdown\n",
       "Symbols                                                \n",
       "PGX          62  0.792361  0.436035  1.434961  1.237116\n",
       "SPLV         62  2.100320  1.418272  1.363386  2.660443\n",
       "USMV         62  2.159025  1.769566  1.125902  2.180427\n",
       "MTUM         62  2.128084  2.127335  0.922006  2.859384\n",
       "PFF          62  0.782232  0.674081  0.913192  1.003023\n",
       "XMLV         62  1.338605  1.580594  0.741454  3.688597\n",
       "VIG          62  1.773538  2.542372  0.632036  4.634193\n",
       "VOT          62  1.641305  3.226571  0.457029  5.627906\n",
       "VOOG         62  1.434180  2.935914  0.431727  6.391441\n",
       "SPYG         62  1.422784  2.917369  0.430565  6.359871\n",
       "IVW          62  1.414045  2.919611  0.427241  6.382862\n",
       "IUSG         62  1.387591  2.940084  0.415269  6.410461\n",
       "DGRO         62  1.267338  2.686055  0.409773  5.769734\n",
       "IWP          62  1.641442  3.618118  0.407608  6.491853"
      ]
     },
     "execution_count": 3,
     "metadata": {},
     "output_type": "execute_result"
    }
   ],
   "source": [
    "stat = quote.statistics(21)\n",
    "stat = stat[(stat['drawdown'] < 8) & (stat['21-shrp'] > 0.4)]\n",
    "stat"
   ]
  },
  {
   "cell_type": "code",
   "execution_count": 4,
   "metadata": {},
   "outputs": [
    {
     "name": "stdout",
     "output_type": "stream",
     "text": [
      "['PGX'] -0.38753817198258056 0.6 0.24742325575833032 1.434961427740911\n",
      "['PGX', 'SPLV'] -0.5240759022552762 0.4853419746047747 0.38975592885216226 1.3991738057122132\n"
     ]
    },
    {
     "data": {
      "text/plain": [
       "['PGX', 'SPLV']"
      ]
     },
     "execution_count": 4,
     "metadata": {},
     "output_type": "execute_result"
    }
   ],
   "source": [
    "quote.setup_mask(stat.index)\n",
    "quote.least_correlated_portfolio(21, 2)"
   ]
  },
  {
   "cell_type": "code",
   "execution_count": 5,
   "metadata": {},
   "outputs": [
    {
     "name": "stderr",
     "output_type": "stream",
     "text": [
      "/Users/chaoyi/.local/share/virtualenvs/portfolio_analysis-bdMx2S3t/lib/python3.7/site-packages/scipy/optimize/minpack.py:162: RuntimeWarning: The iteration is not making good progress, as measured by the \n",
      "  improvement from the last ten iterations.\n",
      "  warnings.warn(msg, RuntimeWarning)\n"
     ]
    },
    {
     "data": {
      "text/plain": [
       "({'PGX': 1.07, 'SPLV': -0.07}, 0.7028, 0.4273)"
      ]
     },
     "execution_count": 5,
     "metadata": {},
     "output_type": "execute_result"
    }
   ],
   "source": [
    "quote.setup_mask(['PGX', 'SPLV'])\n",
    "quote.find_optimal_ratio(21, 2)"
   ]
  },
  {
   "cell_type": "code",
   "execution_count": null,
   "metadata": {},
   "outputs": [],
   "source": []
  }
 ],
 "metadata": {
  "kernelspec": {
   "display_name": "Python 3",
   "language": "python",
   "name": "python3"
  },
  "language_info": {
   "codemirror_mode": {
    "name": "ipython",
    "version": 3
   },
   "file_extension": ".py",
   "mimetype": "text/x-python",
   "name": "python",
   "nbconvert_exporter": "python",
   "pygments_lexer": "ipython3",
   "version": "3.7.3"
  }
 },
 "nbformat": 4,
 "nbformat_minor": 2
}
