{
 "cells": [
  {
   "cell_type": "code",
   "execution_count": 1,
   "metadata": {},
   "outputs": [],
   "source": [
    "from requests import post\n",
    "from app.analysis import Quote\n",
    "query = 'query UnknownFile($limit_0:[FundLimitOptionInput!]!) {viewer {...Fe}} fragment Fe on Viewer {_screenFunds4s9d1a:screenFunds(filterCategory:[\"$$\"],limit:$limit_0,first:100) {edges {node {symbol}}}}'\n",
    "variables = {'limit_0':[{'type':'FUND_TOTAL_ASSETS','min':200000000,'inclusive':True}]}\n",
    "r = post('https://lens.m1finance.com/graphql', json={'query': query.replace('$$', 'Commodities'), 'variables': variables}).json()\n",
    "symbols = [n['node']['symbol'] for n in r['data']['viewer']['_screenFunds4s9d1a']['edges']]"
   ]
  },
  {
   "cell_type": "code",
   "execution_count": 2,
   "metadata": {},
   "outputs": [
    {
     "data": {
      "text/plain": [
       "'from 2019-04-23 to 2019-07-02 - 28'"
      ]
     },
     "execution_count": 2,
     "metadata": {},
     "output_type": "execute_result"
    }
   ],
   "source": [
    "quote = Quote(symbols, 70, 20)\n",
    "f'from {quote.start.date()} to {quote.end.date()} - {len(quote.data.columns)}'"
   ]
  },
  {
   "cell_type": "code",
   "execution_count": 3,
   "metadata": {},
   "outputs": [
    {
     "data": {
      "text/html": [
       "<div>\n",
       "<style scoped>\n",
       "    .dataframe tbody tr th:only-of-type {\n",
       "        vertical-align: middle;\n",
       "    }\n",
       "\n",
       "    .dataframe tbody tr th {\n",
       "        vertical-align: top;\n",
       "    }\n",
       "\n",
       "    .dataframe thead th {\n",
       "        text-align: right;\n",
       "    }\n",
       "</style>\n",
       "<table border=\"1\" class=\"dataframe\">\n",
       "  <thead>\n",
       "    <tr style=\"text-align: right;\">\n",
       "      <th></th>\n",
       "      <th>len</th>\n",
       "      <th>mean</th>\n",
       "      <th>std</th>\n",
       "      <th>shrp</th>\n",
       "      <th>drawdown</th>\n",
       "    </tr>\n",
       "    <tr>\n",
       "      <th>Symbols</th>\n",
       "      <th></th>\n",
       "      <th></th>\n",
       "      <th></th>\n",
       "      <th></th>\n",
       "      <th></th>\n",
       "    </tr>\n",
       "  </thead>\n",
       "  <tbody>\n",
       "    <tr>\n",
       "      <th>PHYS</th>\n",
       "      <td>30</td>\n",
       "      <td>4.748886</td>\n",
       "      <td>3.612003</td>\n",
       "      <td>1.270806</td>\n",
       "      <td>2.631572</td>\n",
       "    </tr>\n",
       "    <tr>\n",
       "      <th>GLD</th>\n",
       "      <td>30</td>\n",
       "      <td>4.437626</td>\n",
       "      <td>3.426029</td>\n",
       "      <td>1.248937</td>\n",
       "      <td>2.667662</td>\n",
       "    </tr>\n",
       "    <tr>\n",
       "      <th>SGOL</th>\n",
       "      <td>30</td>\n",
       "      <td>4.451038</td>\n",
       "      <td>3.450076</td>\n",
       "      <td>1.244120</td>\n",
       "      <td>2.692057</td>\n",
       "    </tr>\n",
       "    <tr>\n",
       "      <th>BAR</th>\n",
       "      <td>30</td>\n",
       "      <td>4.421840</td>\n",
       "      <td>3.436865</td>\n",
       "      <td>1.240407</td>\n",
       "      <td>2.700990</td>\n",
       "    </tr>\n",
       "    <tr>\n",
       "      <th>GLDM</th>\n",
       "      <td>30</td>\n",
       "      <td>4.429662</td>\n",
       "      <td>3.468255</td>\n",
       "      <td>1.231435</td>\n",
       "      <td>2.746475</td>\n",
       "    </tr>\n",
       "    <tr>\n",
       "      <th>IAU</th>\n",
       "      <td>30</td>\n",
       "      <td>4.446399</td>\n",
       "      <td>3.483991</td>\n",
       "      <td>1.230677</td>\n",
       "      <td>2.716592</td>\n",
       "    </tr>\n",
       "    <tr>\n",
       "      <th>DBA</th>\n",
       "      <td>30</td>\n",
       "      <td>2.888229</td>\n",
       "      <td>2.555572</td>\n",
       "      <td>1.068058</td>\n",
       "      <td>5.528548</td>\n",
       "    </tr>\n",
       "    <tr>\n",
       "      <th>CEF</th>\n",
       "      <td>30</td>\n",
       "      <td>3.633739</td>\n",
       "      <td>3.466767</td>\n",
       "      <td>1.002377</td>\n",
       "      <td>2.663438</td>\n",
       "    </tr>\n",
       "    <tr>\n",
       "      <th>GLTR</th>\n",
       "      <td>30</td>\n",
       "      <td>3.304593</td>\n",
       "      <td>3.993578</td>\n",
       "      <td>0.787730</td>\n",
       "      <td>3.584793</td>\n",
       "    </tr>\n",
       "    <tr>\n",
       "      <th>PSLV</th>\n",
       "      <td>30</td>\n",
       "      <td>3.121041</td>\n",
       "      <td>4.773222</td>\n",
       "      <td>0.620610</td>\n",
       "      <td>4.805911</td>\n",
       "    </tr>\n",
       "  </tbody>\n",
       "</table>\n",
       "</div>"
      ],
      "text/plain": [
       "         len      mean       std      shrp  drawdown\n",
       "Symbols                                             \n",
       "PHYS      30  4.748886  3.612003  1.270806  2.631572\n",
       "GLD       30  4.437626  3.426029  1.248937  2.667662\n",
       "SGOL      30  4.451038  3.450076  1.244120  2.692057\n",
       "BAR       30  4.421840  3.436865  1.240407  2.700990\n",
       "GLDM      30  4.429662  3.468255  1.231435  2.746475\n",
       "IAU       30  4.446399  3.483991  1.230677  2.716592\n",
       "DBA       30  2.888229  2.555572  1.068058  5.528548\n",
       "CEF       30  3.633739  3.466767  1.002377  2.663438\n",
       "GLTR      30  3.304593  3.993578  0.787730  3.584793\n",
       "PSLV      30  3.121041  4.773222  0.620610  4.805911"
      ]
     },
     "execution_count": 3,
     "metadata": {},
     "output_type": "execute_result"
    }
   ],
   "source": [
    "stat = quote.statistics()\n",
    "stat = stat[(stat['drawdown'] < 8) & (stat['shrp'] > 0.4)]\n",
    "stat"
   ]
  },
  {
   "cell_type": "code",
   "execution_count": 4,
   "metadata": {},
   "outputs": [
    {
     "name": "stdout",
     "output_type": "stream",
     "text": [
      "['PHYS'] 0.055508295812429775 0.8 0.5263144685950855 1.2708061727826556\n",
      "['PHYS', 'DBA'] -0.5083098336599531 -0.054889756641377074 0.8160120000042005 1.1694320770227766\n",
      "['GLD', 'DBA'] -0.5465666730183193 -0.10768994745920846 0.8196209290796279 1.1584976546387389\n"
     ]
    },
    {
     "data": {
      "text/plain": [
       "['GLD', 'DBA']"
      ]
     },
     "execution_count": 4,
     "metadata": {},
     "output_type": "execute_result"
    }
   ],
   "source": [
    "quote.setup_mask(stat.index)\n",
    "quote.least_correlated_portfolio(2)"
   ]
  },
  {
   "cell_type": "code",
   "execution_count": 5,
   "metadata": {},
   "outputs": [
    {
     "data": {
      "text/plain": [
       "({'GLD': 0.46, 'DBA': 0.54}, 3.5983, 1.9783, 1.7387)"
      ]
     },
     "execution_count": 5,
     "metadata": {},
     "output_type": "execute_result"
    }
   ],
   "source": [
    "quote.setup_mask(['GLD', 'DBA'])\n",
    "quote.find_optimal_ratio()"
   ]
  },
  {
   "cell_type": "code",
   "execution_count": 6,
   "metadata": {},
   "outputs": [
    {
     "name": "stdout",
     "output_type": "stream",
     "text": [
      "Populating the interactive namespace from numpy and matplotlib\n"
     ]
    },
    {
     "data": {
      "text/html": [
       "<div>\n",
       "<style scoped>\n",
       "    .dataframe tbody tr th:only-of-type {\n",
       "        vertical-align: middle;\n",
       "    }\n",
       "\n",
       "    .dataframe tbody tr th {\n",
       "        vertical-align: top;\n",
       "    }\n",
       "\n",
       "    .dataframe thead th {\n",
       "        text-align: right;\n",
       "    }\n",
       "</style>\n",
       "<table border=\"1\" class=\"dataframe\">\n",
       "  <thead>\n",
       "    <tr style=\"text-align: right;\">\n",
       "      <th></th>\n",
       "      <th>count</th>\n",
       "      <th>mean</th>\n",
       "      <th>std</th>\n",
       "      <th>min</th>\n",
       "      <th>25%</th>\n",
       "      <th>50%</th>\n",
       "      <th>75%</th>\n",
       "      <th>max</th>\n",
       "      <th>shrp</th>\n",
       "      <th>drawdown</th>\n",
       "    </tr>\n",
       "  </thead>\n",
       "  <tbody>\n",
       "    <tr>\n",
       "      <th>Portfolio</th>\n",
       "      <td>30.0</td>\n",
       "      <td>3.597466</td>\n",
       "      <td>1.978235</td>\n",
       "      <td>-0.728263</td>\n",
       "      <td>2.562288</td>\n",
       "      <td>4.293980</td>\n",
       "      <td>4.897473</td>\n",
       "      <td>6.189151</td>\n",
       "      <td>1.738285</td>\n",
       "      <td>2.352525</td>\n",
       "    </tr>\n",
       "    <tr>\n",
       "      <th>GLD</th>\n",
       "      <td>30.0</td>\n",
       "      <td>4.437626</td>\n",
       "      <td>3.426029</td>\n",
       "      <td>-0.272272</td>\n",
       "      <td>2.222587</td>\n",
       "      <td>3.903566</td>\n",
       "      <td>6.514119</td>\n",
       "      <td>11.065129</td>\n",
       "      <td>1.248937</td>\n",
       "      <td>2.667662</td>\n",
       "    </tr>\n",
       "    <tr>\n",
       "      <th>DBA</th>\n",
       "      <td>30.0</td>\n",
       "      <td>2.888229</td>\n",
       "      <td>2.555572</td>\n",
       "      <td>-1.518834</td>\n",
       "      <td>0.550932</td>\n",
       "      <td>3.185664</td>\n",
       "      <td>4.790743</td>\n",
       "      <td>7.138261</td>\n",
       "      <td>1.068058</td>\n",
       "      <td>5.528548</td>\n",
       "    </tr>\n",
       "  </tbody>\n",
       "</table>\n",
       "</div>"
      ],
      "text/plain": [
       "           count      mean       std       min       25%       50%       75%  \\\n",
       "Portfolio   30.0  3.597466  1.978235 -0.728263  2.562288  4.293980  4.897473   \n",
       "GLD         30.0  4.437626  3.426029 -0.272272  2.222587  3.903566  6.514119   \n",
       "DBA         30.0  2.888229  2.555572 -1.518834  0.550932  3.185664  4.790743   \n",
       "\n",
       "                 max      shrp  drawdown  \n",
       "Portfolio   6.189151  1.738285  2.352525  \n",
       "GLD        11.065129  1.248937  2.667662  \n",
       "DBA         7.138261  1.068058  5.528548  "
      ]
     },
     "execution_count": 6,
     "metadata": {},
     "output_type": "execute_result"
    },
    {
     "data": {
      "image/png": "[encoded data removed]",
      "text/plain": [
       "<Figure size 864x576 with 1 Axes>"
      ]
     },
     "metadata": {
      "needs_background": "light"
     },
     "output_type": "display_data"
    }
   ],
   "source": [
    "%pylab inline\n",
    "quote.setup_mask(['GLD', 'DBA'])\n",
    "quote.graph({'GLD': 0.46, 'DBA': 0.54})"
   ]
  },
  {
   "cell_type": "code",
   "execution_count": null,
   "metadata": {},
   "outputs": [],
   "source": []
  }
 ],
 "metadata": {
  "kernelspec": {
   "display_name": "Python 3",
   "language": "python",
   "name": "python3"
  },
  "language_info": {
   "codemirror_mode": {
    "name": "ipython",
    "version": 3
   },
   "file_extension": ".py",
   "mimetype": "text/x-python",
   "name": "python",
   "nbconvert_exporter": "python",
   "pygments_lexer": "ipython3",
   "version": "3.7.3"
  }
 },
 "nbformat": 4,
 "nbformat_minor": 2
}
