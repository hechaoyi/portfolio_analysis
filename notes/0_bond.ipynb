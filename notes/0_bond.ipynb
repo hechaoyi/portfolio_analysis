{
 "cells": [
  {
   "cell_type": "code",
   "execution_count": 1,
   "metadata": {},
   "outputs": [
    {
     "data": {
      "text/plain": [
       "'from 2019-02-25 to 2019-06-24 - 24'"
      ]
     },
     "execution_count": 1,
     "metadata": {},
     "output_type": "execute_result"
    }
   ],
   "source": [
    "from app import create_app\n",
    "from app.instrument import Instrument\n",
    "from app.analysis import Quote\n",
    "with create_app().app_context():\n",
    "    quote = Quote([b.symbol for b in Instrument.find_bonds()], 120)\n",
    "f'from {quote.start.date()} to {quote.end.date()} - {len(quote.data.columns)}'"
   ]
  },
  {
   "cell_type": "code",
   "execution_count": 2,
   "metadata": {},
   "outputs": [
    {
     "data": {
      "text/html": [
       "<div>\n",
       "<style scoped>\n",
       "    .dataframe tbody tr th:only-of-type {\n",
       "        vertical-align: middle;\n",
       "    }\n",
       "\n",
       "    .dataframe tbody tr th {\n",
       "        vertical-align: top;\n",
       "    }\n",
       "\n",
       "    .dataframe thead th {\n",
       "        text-align: right;\n",
       "    }\n",
       "</style>\n",
       "<table border=\"1\" class=\"dataframe\">\n",
       "  <thead>\n",
       "    <tr style=\"text-align: right;\">\n",
       "      <th></th>\n",
       "      <th>21-len</th>\n",
       "      <th>21-mean</th>\n",
       "      <th>21-std</th>\n",
       "      <th>21-shrp</th>\n",
       "      <th>drawdown</th>\n",
       "    </tr>\n",
       "    <tr>\n",
       "      <th>Symbols</th>\n",
       "      <th></th>\n",
       "      <th></th>\n",
       "      <th></th>\n",
       "      <th></th>\n",
       "      <th></th>\n",
       "    </tr>\n",
       "  </thead>\n",
       "  <tbody>\n",
       "    <tr>\n",
       "      <th>VTEB</th>\n",
       "      <td>63</td>\n",
       "      <td>1.031805</td>\n",
       "      <td>0.384833</td>\n",
       "      <td>2.248087</td>\n",
       "      <td>0.333713</td>\n",
       "    </tr>\n",
       "    <tr>\n",
       "      <th>MUB</th>\n",
       "      <td>63</td>\n",
       "      <td>1.008338</td>\n",
       "      <td>0.382916</td>\n",
       "      <td>2.198056</td>\n",
       "      <td>0.409122</td>\n",
       "    </tr>\n",
       "    <tr>\n",
       "      <th>VCIT</th>\n",
       "      <td>63</td>\n",
       "      <td>1.431940</td>\n",
       "      <td>0.812751</td>\n",
       "      <td>1.556780</td>\n",
       "      <td>0.502684</td>\n",
       "    </tr>\n",
       "    <tr>\n",
       "      <th>PGX</th>\n",
       "      <td>63</td>\n",
       "      <td>0.785229</td>\n",
       "      <td>0.427122</td>\n",
       "      <td>1.448208</td>\n",
       "      <td>1.237112</td>\n",
       "    </tr>\n",
       "    <tr>\n",
       "      <th>BLV</th>\n",
       "      <td>63</td>\n",
       "      <td>2.526546</td>\n",
       "      <td>1.653943</td>\n",
       "      <td>1.426821</td>\n",
       "      <td>1.732519</td>\n",
       "    </tr>\n",
       "    <tr>\n",
       "      <th>BND</th>\n",
       "      <td>63</td>\n",
       "      <td>1.149471</td>\n",
       "      <td>0.699047</td>\n",
       "      <td>1.405921</td>\n",
       "      <td>0.703167</td>\n",
       "    </tr>\n",
       "    <tr>\n",
       "      <th>VCLT</th>\n",
       "      <td>63</td>\n",
       "      <td>2.310793</td>\n",
       "      <td>1.532051</td>\n",
       "      <td>1.399514</td>\n",
       "      <td>1.036422</td>\n",
       "    </tr>\n",
       "    <tr>\n",
       "      <th>LQD</th>\n",
       "      <td>63</td>\n",
       "      <td>1.678662</td>\n",
       "      <td>1.092073</td>\n",
       "      <td>1.384519</td>\n",
       "      <td>0.743382</td>\n",
       "    </tr>\n",
       "    <tr>\n",
       "      <th>VCSH</th>\n",
       "      <td>63</td>\n",
       "      <td>0.681318</td>\n",
       "      <td>0.378117</td>\n",
       "      <td>1.361088</td>\n",
       "      <td>0.282660</td>\n",
       "    </tr>\n",
       "    <tr>\n",
       "      <th>BIV</th>\n",
       "      <td>63</td>\n",
       "      <td>1.375583</td>\n",
       "      <td>0.891643</td>\n",
       "      <td>1.355829</td>\n",
       "      <td>0.804345</td>\n",
       "    </tr>\n",
       "    <tr>\n",
       "      <th>AGG</th>\n",
       "      <td>63</td>\n",
       "      <td>1.136326</td>\n",
       "      <td>0.732016</td>\n",
       "      <td>1.324642</td>\n",
       "      <td>0.705739</td>\n",
       "    </tr>\n",
       "    <tr>\n",
       "      <th>BNDX</th>\n",
       "      <td>63</td>\n",
       "      <td>1.009026</td>\n",
       "      <td>0.656747</td>\n",
       "      <td>1.282624</td>\n",
       "      <td>0.639687</td>\n",
       "    </tr>\n",
       "    <tr>\n",
       "      <th>VGSH</th>\n",
       "      <td>63</td>\n",
       "      <td>0.518776</td>\n",
       "      <td>0.277482</td>\n",
       "      <td>1.268944</td>\n",
       "      <td>0.221755</td>\n",
       "    </tr>\n",
       "    <tr>\n",
       "      <th>BSV</th>\n",
       "      <td>63</td>\n",
       "      <td>0.662035</td>\n",
       "      <td>0.398512</td>\n",
       "      <td>1.243043</td>\n",
       "      <td>0.359614</td>\n",
       "    </tr>\n",
       "    <tr>\n",
       "      <th>SHY</th>\n",
       "      <td>63</td>\n",
       "      <td>0.496770</td>\n",
       "      <td>0.269065</td>\n",
       "      <td>1.226855</td>\n",
       "      <td>0.209349</td>\n",
       "    </tr>\n",
       "    <tr>\n",
       "      <th>IEF</th>\n",
       "      <td>63</td>\n",
       "      <td>1.507873</td>\n",
       "      <td>1.242330</td>\n",
       "      <td>1.079589</td>\n",
       "      <td>1.474038</td>\n",
       "    </tr>\n",
       "    <tr>\n",
       "      <th>PFF</th>\n",
       "      <td>63</td>\n",
       "      <td>0.793987</td>\n",
       "      <td>0.675217</td>\n",
       "      <td>0.929065</td>\n",
       "      <td>1.003023</td>\n",
       "    </tr>\n",
       "    <tr>\n",
       "      <th>VWOB</th>\n",
       "      <td>63</td>\n",
       "      <td>1.056334</td>\n",
       "      <td>1.074036</td>\n",
       "      <td>0.828341</td>\n",
       "      <td>0.872573</td>\n",
       "    </tr>\n",
       "    <tr>\n",
       "      <th>EMB</th>\n",
       "      <td>63</td>\n",
       "      <td>1.128909</td>\n",
       "      <td>1.226128</td>\n",
       "      <td>0.784781</td>\n",
       "      <td>1.202512</td>\n",
       "    </tr>\n",
       "  </tbody>\n",
       "</table>\n",
       "</div>"
      ],
      "text/plain": [
       "         21-len   21-mean    21-std   21-shrp  drawdown\n",
       "Symbols                                                \n",
       "VTEB         63  1.031805  0.384833  2.248087  0.333713\n",
       "MUB          63  1.008338  0.382916  2.198056  0.409122\n",
       "VCIT         63  1.431940  0.812751  1.556780  0.502684\n",
       "PGX          63  0.785229  0.427122  1.448208  1.237112\n",
       "BLV          63  2.526546  1.653943  1.426821  1.732519\n",
       "BND          63  1.149471  0.699047  1.405921  0.703167\n",
       "VCLT         63  2.310793  1.532051  1.399514  1.036422\n",
       "LQD          63  1.678662  1.092073  1.384519  0.743382\n",
       "VCSH         63  0.681318  0.378117  1.361088  0.282660\n",
       "BIV          63  1.375583  0.891643  1.355829  0.804345\n",
       "AGG          63  1.136326  0.732016  1.324642  0.705739\n",
       "BNDX         63  1.009026  0.656747  1.282624  0.639687\n",
       "VGSH         63  0.518776  0.277482  1.268944  0.221755\n",
       "BSV          63  0.662035  0.398512  1.243043  0.359614\n",
       "SHY          63  0.496770  0.269065  1.226855  0.209349\n",
       "IEF          63  1.507873  1.242330  1.079589  1.474038\n",
       "PFF          63  0.793987  0.675217  0.929065  1.003023\n",
       "VWOB         63  1.056334  1.074036  0.828341  0.872573\n",
       "EMB          63  1.128909  1.226128  0.784781  1.202512"
      ]
     },
     "execution_count": 2,
     "metadata": {},
     "output_type": "execute_result"
    }
   ],
   "source": [
    "stat = quote.statistics(21)\n",
    "stat = stat[(stat['drawdown'] < 2) & (stat['21-mean'] > 0.4) & (stat['21-shrp'] > 0.6)]\n",
    "stat"
   ]
  },
  {
   "cell_type": "code",
   "execution_count": 3,
   "metadata": {},
   "outputs": [
    {
     "name": "stdout",
     "output_type": "stream",
     "text": [
      "['VTEB'] -0.9813441984201468 1 0.0667426153458621 2.2480868137660086\n",
      "['VTEB', 'MUB'] -1.1752817562221527 0.9735060503573312 0.0742835250491988 2.2230713316286828\n",
      "['VTEB', 'VCIT'] -1.648938382661308 0.16985525667692136 0.08363965998706574 1.902433299325295\n",
      "['VTEB', 'PGX'] -2.031216464266644 -0.34015174387278846 0.15708251150619126 1.848147231900047\n",
      "['MUB', 'PGX'] -2.0808707096795285 -0.4223623811263353 0.16462342120952794 1.8231317497627213\n"
     ]
    },
    {
     "data": {
      "text/plain": [
       "['MUB', 'PGX']"
      ]
     },
     "execution_count": 3,
     "metadata": {},
     "output_type": "execute_result"
    }
   ],
   "source": [
    "quote.setup_mask(stat.index)\n",
    "quote.least_correlated_portfolio(21, 2, sr=1)"
   ]
  },
  {
   "cell_type": "code",
   "execution_count": 4,
   "metadata": {},
   "outputs": [
    {
     "name": "stdout",
     "output_type": "stream",
     "text": [
      "['MUB', 'PGX'] -0.25773895991680734 -0.4223623811263353 0.16462342120952794 1.8231317497627213\n",
      "['MUB', 'PGX', 'VTEB', 'VCIT'] -0.5323685889155616 0.14349987048614166 0.12413154059829683 1.862782524544008\n",
      "['MUB', 'PGX', 'VTEB', 'VCLT'] -0.5692372626476693 0.07994425953614422 0.15081847781618657 1.8234659918689267\n",
      "['MUB', 'PGX', 'VTEB', 'PFF'] -0.6044642253137543 0.046387276432860634 0.1491484982533851 1.70585377049837\n"
     ]
    },
    {
     "data": {
      "text/plain": [
       "['MUB', 'PGX', 'VTEB', 'PFF']"
      ]
     },
     "execution_count": 4,
     "metadata": {},
     "output_type": "execute_result"
    }
   ],
   "source": [
    "quote.setup_mask(stat.index)\n",
    "quote.least_correlated_portfolio(21, 4, ['MUB', 'PGX'], sr=0)"
   ]
  },
  {
   "cell_type": "code",
   "execution_count": 5,
   "metadata": {},
   "outputs": [
    {
     "name": "stdout",
     "output_type": "stream",
     "text": [
      "     fun: 0.047039356766578805\n",
      "     jac: array([0.09407508, 0.09408296])\n",
      " message: 'Optimization terminated successfully.'\n",
      "    nfev: 8\n",
      "     nit: 2\n",
      "    njev: 2\n",
      "  status: 0\n",
      " success: True\n",
      "       x: array([0.53831288, 0.46168712])\n"
     ]
    },
    {
     "name": "stderr",
     "output_type": "stream",
     "text": [
      "/Users/chaoyi/.local/share/virtualenvs/portfolio_analysis-bdMx2S3t/lib/python3.7/site-packages/scipy/optimize/minpack.py:162: RuntimeWarning: The iteration is not making good progress, as measured by the \n",
      "  improvement from the last ten iterations.\n",
      "  warnings.warn(msg, RuntimeWarning)\n"
     ]
    },
    {
     "data": {
      "text/plain": [
       "({'MUB': 0.54, 'PGX': 0.46}, 0.9053, 0.2169)"
      ]
     },
     "execution_count": 5,
     "metadata": {},
     "output_type": "execute_result"
    }
   ],
   "source": [
    "quote.setup_mask(['MUB', 'PGX'])\n",
    "quote.find_optimal_ratio(21, 1)"
   ]
  },
  {
   "cell_type": "code",
   "execution_count": null,
   "metadata": {},
   "outputs": [],
   "source": [
    "%pylab inline\n",
    "quote.setup_mask(['MUB', 'PGX'])\n",
    "quote.graph(21, {'MUB': 0.54, 'PGX': 0.46})"
   ]
  },
  {
   "cell_type": "code",
   "execution_count": null,
   "metadata": {},
   "outputs": [],
   "source": [
    "quote.drop_mask()\n",
    "stat = quote.statistics(21)\n",
    "stat = stat[stat['drawdown'] < 0.3]\n",
    "stat"
   ]
  },
  {
   "cell_type": "code",
   "execution_count": null,
   "metadata": {},
   "outputs": [],
   "source": []
  }
 ],
 "metadata": {
  "kernelspec": {
   "display_name": "Python 3",
   "language": "python",
   "name": "python3"
  },
  "language_info": {
   "codemirror_mode": {
    "name": "ipython",
    "version": 3
   },
   "file_extension": ".py",
   "mimetype": "text/x-python",
   "name": "python",
   "nbconvert_exporter": "python",
   "pygments_lexer": "ipython3",
   "version": "3.7.3"
  }
 },
 "nbformat": 4,
 "nbformat_minor": 2
}
