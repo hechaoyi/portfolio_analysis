{
 "cells": [
  {
   "cell_type": "code",
   "execution_count": 1,
   "metadata": {},
   "outputs": [
    {
     "data": {
      "text/plain": [
       "'from 2019-02-25 to 2019-06-21 - 24'"
      ]
     },
     "execution_count": 1,
     "metadata": {},
     "output_type": "execute_result"
    }
   ],
   "source": [
    "from app import create_app\n",
    "from app.instrument import Instrument\n",
    "from app.analysis import Quote\n",
    "with create_app().app_context():\n",
    "    quote = Quote([b.symbol for b in Instrument.find_bonds()], 120)\n",
    "f'from {quote.start.date()} to {quote.end.date()} - {len(quote.data.columns)}'"
   ]
  },
  {
   "cell_type": "code",
   "execution_count": 2,
   "metadata": {},
   "outputs": [
    {
     "data": {
      "text/html": [
       "<div>\n",
       "<style scoped>\n",
       "    .dataframe tbody tr th:only-of-type {\n",
       "        vertical-align: middle;\n",
       "    }\n",
       "\n",
       "    .dataframe tbody tr th {\n",
       "        vertical-align: top;\n",
       "    }\n",
       "\n",
       "    .dataframe thead th {\n",
       "        text-align: right;\n",
       "    }\n",
       "</style>\n",
       "<table border=\"1\" class=\"dataframe\">\n",
       "  <thead>\n",
       "    <tr style=\"text-align: right;\">\n",
       "      <th></th>\n",
       "      <th>21-len</th>\n",
       "      <th>21-mean</th>\n",
       "      <th>21-std</th>\n",
       "      <th>21-shrp</th>\n",
       "      <th>drawdown</th>\n",
       "    </tr>\n",
       "    <tr>\n",
       "      <th>Symbols</th>\n",
       "      <th></th>\n",
       "      <th></th>\n",
       "      <th></th>\n",
       "      <th></th>\n",
       "      <th></th>\n",
       "    </tr>\n",
       "  </thead>\n",
       "  <tbody>\n",
       "    <tr>\n",
       "      <th>VTEB</th>\n",
       "      <td>62</td>\n",
       "      <td>1.036634</td>\n",
       "      <td>0.386046</td>\n",
       "      <td>2.253531</td>\n",
       "      <td>0.333713</td>\n",
       "    </tr>\n",
       "    <tr>\n",
       "      <th>MUB</th>\n",
       "      <td>62</td>\n",
       "      <td>1.013113</td>\n",
       "      <td>0.384147</td>\n",
       "      <td>2.203447</td>\n",
       "      <td>0.409122</td>\n",
       "    </tr>\n",
       "    <tr>\n",
       "      <th>VCIT</th>\n",
       "      <td>62</td>\n",
       "      <td>1.405348</td>\n",
       "      <td>0.791273</td>\n",
       "      <td>1.565429</td>\n",
       "      <td>0.502684</td>\n",
       "    </tr>\n",
       "    <tr>\n",
       "      <th>PGX</th>\n",
       "      <td>62</td>\n",
       "      <td>0.783463</td>\n",
       "      <td>0.430377</td>\n",
       "      <td>1.433152</td>\n",
       "      <td>1.237112</td>\n",
       "    </tr>\n",
       "    <tr>\n",
       "      <th>BLV</th>\n",
       "      <td>62</td>\n",
       "      <td>2.492144</td>\n",
       "      <td>1.644563</td>\n",
       "      <td>1.414040</td>\n",
       "      <td>1.732519</td>\n",
       "    </tr>\n",
       "    <tr>\n",
       "      <th>VCLT</th>\n",
       "      <td>62</td>\n",
       "      <td>2.254913</td>\n",
       "      <td>1.478414</td>\n",
       "      <td>1.412491</td>\n",
       "      <td>1.036422</td>\n",
       "    </tr>\n",
       "    <tr>\n",
       "      <th>LQD</th>\n",
       "      <td>62</td>\n",
       "      <td>1.640242</td>\n",
       "      <td>1.057192</td>\n",
       "      <td>1.393858</td>\n",
       "      <td>0.743382</td>\n",
       "    </tr>\n",
       "    <tr>\n",
       "      <th>BND</th>\n",
       "      <td>62</td>\n",
       "      <td>1.136251</td>\n",
       "      <td>0.696768</td>\n",
       "      <td>1.391545</td>\n",
       "      <td>0.703167</td>\n",
       "    </tr>\n",
       "    <tr>\n",
       "      <th>VCSH</th>\n",
       "      <td>62</td>\n",
       "      <td>0.669476</td>\n",
       "      <td>0.369240</td>\n",
       "      <td>1.361743</td>\n",
       "      <td>0.282660</td>\n",
       "    </tr>\n",
       "    <tr>\n",
       "      <th>BIV</th>\n",
       "      <td>62</td>\n",
       "      <td>1.355216</td>\n",
       "      <td>0.884025</td>\n",
       "      <td>1.344475</td>\n",
       "      <td>0.804345</td>\n",
       "    </tr>\n",
       "    <tr>\n",
       "      <th>AGG</th>\n",
       "      <td>62</td>\n",
       "      <td>1.122021</td>\n",
       "      <td>0.729061</td>\n",
       "      <td>1.310391</td>\n",
       "      <td>0.705739</td>\n",
       "    </tr>\n",
       "    <tr>\n",
       "      <th>BNDX</th>\n",
       "      <td>62</td>\n",
       "      <td>0.991537</td>\n",
       "      <td>0.647149</td>\n",
       "      <td>1.274622</td>\n",
       "      <td>0.639687</td>\n",
       "    </tr>\n",
       "    <tr>\n",
       "      <th>VGSH</th>\n",
       "      <td>62</td>\n",
       "      <td>0.513434</td>\n",
       "      <td>0.276462</td>\n",
       "      <td>1.254303</td>\n",
       "      <td>0.221755</td>\n",
       "    </tr>\n",
       "    <tr>\n",
       "      <th>BSV</th>\n",
       "      <td>62</td>\n",
       "      <td>0.653722</td>\n",
       "      <td>0.396221</td>\n",
       "      <td>1.229253</td>\n",
       "      <td>0.359614</td>\n",
       "    </tr>\n",
       "    <tr>\n",
       "      <th>SHY</th>\n",
       "      <td>62</td>\n",
       "      <td>0.491387</td>\n",
       "      <td>0.267819</td>\n",
       "      <td>1.212461</td>\n",
       "      <td>0.209349</td>\n",
       "    </tr>\n",
       "    <tr>\n",
       "      <th>IEF</th>\n",
       "      <td>62</td>\n",
       "      <td>1.491114</td>\n",
       "      <td>1.245272</td>\n",
       "      <td>1.063581</td>\n",
       "      <td>1.474038</td>\n",
       "    </tr>\n",
       "    <tr>\n",
       "      <th>PFF</th>\n",
       "      <td>62</td>\n",
       "      <td>0.781198</td>\n",
       "      <td>0.672992</td>\n",
       "      <td>0.913133</td>\n",
       "      <td>1.003023</td>\n",
       "    </tr>\n",
       "    <tr>\n",
       "      <th>VWOB</th>\n",
       "      <td>62</td>\n",
       "      <td>1.012208</td>\n",
       "      <td>1.023613</td>\n",
       "      <td>0.826036</td>\n",
       "      <td>0.872573</td>\n",
       "    </tr>\n",
       "    <tr>\n",
       "      <th>EMB</th>\n",
       "      <td>62</td>\n",
       "      <td>1.085854</td>\n",
       "      <td>1.187156</td>\n",
       "      <td>0.774277</td>\n",
       "      <td>1.202512</td>\n",
       "    </tr>\n",
       "  </tbody>\n",
       "</table>\n",
       "</div>"
      ],
      "text/plain": [
       "         21-len   21-mean    21-std   21-shrp  drawdown\n",
       "Symbols                                                \n",
       "VTEB         62  1.036634  0.386046  2.253531  0.333713\n",
       "MUB          62  1.013113  0.384147  2.203447  0.409122\n",
       "VCIT         62  1.405348  0.791273  1.565429  0.502684\n",
       "PGX          62  0.783463  0.430377  1.433152  1.237112\n",
       "BLV          62  2.492144  1.644563  1.414040  1.732519\n",
       "VCLT         62  2.254913  1.478414  1.412491  1.036422\n",
       "LQD          62  1.640242  1.057192  1.393858  0.743382\n",
       "BND          62  1.136251  0.696768  1.391545  0.703167\n",
       "VCSH         62  0.669476  0.369240  1.361743  0.282660\n",
       "BIV          62  1.355216  0.884025  1.344475  0.804345\n",
       "AGG          62  1.122021  0.729061  1.310391  0.705739\n",
       "BNDX         62  0.991537  0.647149  1.274622  0.639687\n",
       "VGSH         62  0.513434  0.276462  1.254303  0.221755\n",
       "BSV          62  0.653722  0.396221  1.229253  0.359614\n",
       "SHY          62  0.491387  0.267819  1.212461  0.209349\n",
       "IEF          62  1.491114  1.245272  1.063581  1.474038\n",
       "PFF          62  0.781198  0.672992  0.913133  1.003023\n",
       "VWOB         62  1.012208  1.023613  0.826036  0.872573\n",
       "EMB          62  1.085854  1.187156  0.774277  1.202512"
      ]
     },
     "execution_count": 2,
     "metadata": {},
     "output_type": "execute_result"
    }
   ],
   "source": [
    "stat = quote.statistics(21)\n",
    "stat = stat[(stat['drawdown'] < 2) & (stat['21-mean'] > 0.4) & (stat['21-shrp'] > 0.6)]\n",
    "stat"
   ]
  },
  {
   "cell_type": "code",
   "execution_count": 3,
   "metadata": {},
   "outputs": [
    {
     "name": "stdout",
     "output_type": "stream",
     "text": [
      "['VTEB'] -0.9867887064527558 1 0.0667426153458621 2.2535313217986177\n",
      "['VTEB', 'MUB'] -1.1809629989204435 0.9732424820898524 0.0742835250491988 2.228489006059495\n",
      "['VTEB', 'VCIT'] -1.6221570061144623 0.20368361024624937 0.08363965998706574 1.9094802763477774\n",
      "['VTEB', 'PGX'] -2.025008871870194 -0.33874956183062976 0.15708251150619126 1.8433418215457555\n",
      "['MUB', 'PGX'] -2.075085885404136 -0.42140980080703105 0.16462342120952794 1.818299505806633\n"
     ]
    },
    {
     "data": {
      "text/plain": [
       "['MUB', 'PGX']"
      ]
     },
     "execution_count": 3,
     "metadata": {},
     "output_type": "execute_result"
    }
   ],
   "source": [
    "quote.setup_mask(stat.index)\n",
    "quote.least_correlated_portfolio(21, 2, sr=1)"
   ]
  },
  {
   "cell_type": "code",
   "execution_count": 4,
   "metadata": {},
   "outputs": [
    {
     "name": "stdout",
     "output_type": "stream",
     "text": [
      "['MUB', 'PGX'] -0.2567863795975031 -0.42140980080703105 0.16462342120952794 1.818299505806633\n",
      "['MUB', 'PGX', 'VTEB', 'VCIT'] -0.5204478952980982 0.15542056410360497 0.12413154059829683 1.8638898910772053\n",
      "['MUB', 'PGX', 'VTEB', 'VCLT'] -0.558583537029123 0.09059798515469053 0.15081847781618657 1.8256553116461778\n",
      "['MUB', 'PGX', 'VTEB', 'PFF'] -0.6003018350317312 0.05054966671488378 0.1491484982533851 1.7008157308546554\n"
     ]
    },
    {
     "data": {
      "text/plain": [
       "['MUB', 'PGX', 'VTEB', 'PFF']"
      ]
     },
     "execution_count": 4,
     "metadata": {},
     "output_type": "execute_result"
    }
   ],
   "source": [
    "quote.setup_mask(stat.index)\n",
    "quote.least_correlated_portfolio(21, 4, ['MUB', 'PGX'], sr=0)"
   ]
  },
  {
   "cell_type": "code",
   "execution_count": 3,
   "metadata": {},
   "outputs": [
    {
     "name": "stdout",
     "output_type": "stream",
     "text": [
      "     fun: 0.04761206546364076\n",
      "     jac: array([0.09515823, 0.09530142])\n",
      " message: 'Optimization terminated successfully.'\n",
      "    nfev: 8\n",
      "     nit: 2\n",
      "    njev: 2\n",
      "  status: 0\n",
      " success: True\n",
      "       x: array([0.53972678, 0.46027322])\n"
     ]
    },
    {
     "name": "stderr",
     "output_type": "stream",
     "text": [
      "/Users/chaoyi/.local/share/virtualenvs/portfolio_analysis-bdMx2S3t/lib/python3.7/site-packages/scipy/optimize/minpack.py:162: RuntimeWarning: The iteration is not making good progress, as measured by the \n",
      "  improvement from the last ten iterations.\n",
      "  warnings.warn(msg, RuntimeWarning)\n"
     ]
    },
    {
     "data": {
      "text/plain": [
       "({'MUB': 0.54, 'PGX': 0.46}, 0.9074, 0.2182)"
      ]
     },
     "execution_count": 3,
     "metadata": {},
     "output_type": "execute_result"
    }
   ],
   "source": [
    "quote.setup_mask(['MUB', 'PGX'])\n",
    "quote.find_optimal_ratio(21, 1)"
   ]
  },
  {
   "cell_type": "code",
   "execution_count": null,
   "metadata": {},
   "outputs": [],
   "source": [
    "%pylab inline\n",
    "quote.setup_mask(['MUB', 'PGX'])\n",
    "quote.graph(21, {'MUB': 0.54, 'PGX': 0.46})"
   ]
  },
  {
   "cell_type": "code",
   "execution_count": null,
   "metadata": {},
   "outputs": [],
   "source": [
    "quote.drop_mask()\n",
    "stat = quote.statistics(21)\n",
    "stat = stat[stat['drawdown'] < 0.3]\n",
    "stat"
   ]
  },
  {
   "cell_type": "code",
   "execution_count": null,
   "metadata": {},
   "outputs": [],
   "source": []
  }
 ],
 "metadata": {
  "kernelspec": {
   "display_name": "Python 3",
   "language": "python",
   "name": "python3"
  },
  "language_info": {
   "codemirror_mode": {
    "name": "ipython",
    "version": 3
   },
   "file_extension": ".py",
   "mimetype": "text/x-python",
   "name": "python",
   "nbconvert_exporter": "python",
   "pygments_lexer": "ipython3",
   "version": "3.7.3"
  }
 },
 "nbformat": 4,
 "nbformat_minor": 2
}
