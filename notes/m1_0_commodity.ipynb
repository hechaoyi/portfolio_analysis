{
 "cells": [
  {
   "cell_type": "code",
   "execution_count": 1,
   "metadata": {},
   "outputs": [],
   "source": [
    "from requests import post\n",
    "from app.analysis import Quote\n",
    "query = 'query UnknownFile($limit_0:[FundLimitOptionInput!]!) {viewer {...Fe}} fragment Fe on Viewer {_screenFunds4s9d1a:screenFunds(filterCategory:[\"$$\"],limit:$limit_0,first:100) {edges {node {symbol}}}}'\n",
    "variables = {'limit_0':[{'type':'FUND_TOTAL_ASSETS','min':1000000000,'inclusive':True}]}\n",
    "r = post('https://lens.m1finance.com/graphql', json={'query': query.replace('$$', 'Commodities'), 'variables': variables}).json()\n",
    "symbols = [n['node']['symbol'] for n in r['data']['viewer']['_screenFunds4s9d1a']['edges']]"
   ]
  },
  {
   "cell_type": "code",
   "execution_count": 2,
   "metadata": {},
   "outputs": [
    {
     "data": {
      "text/plain": [
       "'from 2019-02-26 to 2019-06-26 - 9'"
      ]
     },
     "execution_count": 2,
     "metadata": {},
     "output_type": "execute_result"
    }
   ],
   "source": [
    "quote = Quote(symbols, 120)\n",
    "f'from {quote.start.date()} to {quote.end.date()} - {len(quote.data.columns)}'"
   ]
  },
  {
   "cell_type": "code",
   "execution_count": 3,
   "metadata": {},
   "outputs": [
    {
     "data": {
      "text/html": [
       "<div>\n",
       "<style scoped>\n",
       "    .dataframe tbody tr th:only-of-type {\n",
       "        vertical-align: middle;\n",
       "    }\n",
       "\n",
       "    .dataframe tbody tr th {\n",
       "        vertical-align: top;\n",
       "    }\n",
       "\n",
       "    .dataframe thead th {\n",
       "        text-align: right;\n",
       "    }\n",
       "</style>\n",
       "<table border=\"1\" class=\"dataframe\">\n",
       "  <thead>\n",
       "    <tr style=\"text-align: right;\">\n",
       "      <th></th>\n",
       "      <th>21-len</th>\n",
       "      <th>21-mean</th>\n",
       "      <th>21-std</th>\n",
       "      <th>21-shrp</th>\n",
       "      <th>drawdown</th>\n",
       "    </tr>\n",
       "    <tr>\n",
       "      <th>Symbols</th>\n",
       "      <th></th>\n",
       "      <th></th>\n",
       "      <th></th>\n",
       "      <th></th>\n",
       "      <th></th>\n",
       "    </tr>\n",
       "  </thead>\n",
       "  <tbody>\n",
       "    <tr>\n",
       "      <th>GLD</th>\n",
       "      <td>64</td>\n",
       "      <td>1.072969</td>\n",
       "      <td>3.435194</td>\n",
       "      <td>0.263828</td>\n",
       "      <td>4.491160</td>\n",
       "    </tr>\n",
       "    <tr>\n",
       "      <th>IAU</th>\n",
       "      <td>64</td>\n",
       "      <td>1.075549</td>\n",
       "      <td>3.456630</td>\n",
       "      <td>0.262939</td>\n",
       "      <td>4.399053</td>\n",
       "    </tr>\n",
       "    <tr>\n",
       "      <th>PHYS</th>\n",
       "      <td>64</td>\n",
       "      <td>0.816574</td>\n",
       "      <td>3.879115</td>\n",
       "      <td>0.167540</td>\n",
       "      <td>5.684992</td>\n",
       "    </tr>\n",
       "    <tr>\n",
       "      <th>CEF</th>\n",
       "      <td>64</td>\n",
       "      <td>0.061571</td>\n",
       "      <td>3.691234</td>\n",
       "      <td>-0.028472</td>\n",
       "      <td>7.373272</td>\n",
       "    </tr>\n",
       "    <tr>\n",
       "      <th>USO</th>\n",
       "      <td>64</td>\n",
       "      <td>-1.454831</td>\n",
       "      <td>9.649577</td>\n",
       "      <td>-0.168038</td>\n",
       "      <td>22.842637</td>\n",
       "    </tr>\n",
       "    <tr>\n",
       "      <th>GSG</th>\n",
       "      <td>64</td>\n",
       "      <td>-1.122568</td>\n",
       "      <td>4.594657</td>\n",
       "      <td>-0.280594</td>\n",
       "      <td>12.269215</td>\n",
       "    </tr>\n",
       "    <tr>\n",
       "      <th>SLV</th>\n",
       "      <td>64</td>\n",
       "      <td>-0.948498</td>\n",
       "      <td>2.771781</td>\n",
       "      <td>-0.402328</td>\n",
       "      <td>9.906289</td>\n",
       "    </tr>\n",
       "    <tr>\n",
       "      <th>PDBC</th>\n",
       "      <td>64</td>\n",
       "      <td>-1.183288</td>\n",
       "      <td>2.737008</td>\n",
       "      <td>-0.493223</td>\n",
       "      <td>9.245172</td>\n",
       "    </tr>\n",
       "    <tr>\n",
       "      <th>DBC</th>\n",
       "      <td>64</td>\n",
       "      <td>-1.175256</td>\n",
       "      <td>2.587144</td>\n",
       "      <td>-0.518689</td>\n",
       "      <td>9.057530</td>\n",
       "    </tr>\n",
       "  </tbody>\n",
       "</table>\n",
       "</div>"
      ],
      "text/plain": [
       "         21-len   21-mean    21-std   21-shrp   drawdown\n",
       "Symbols                                                 \n",
       "GLD          64  1.072969  3.435194  0.263828   4.491160\n",
       "IAU          64  1.075549  3.456630  0.262939   4.399053\n",
       "PHYS         64  0.816574  3.879115  0.167540   5.684992\n",
       "CEF          64  0.061571  3.691234 -0.028472   7.373272\n",
       "USO          64 -1.454831  9.649577 -0.168038  22.842637\n",
       "GSG          64 -1.122568  4.594657 -0.280594  12.269215\n",
       "SLV          64 -0.948498  2.771781 -0.402328   9.906289\n",
       "PDBC         64 -1.183288  2.737008 -0.493223   9.245172\n",
       "DBC          64 -1.175256  2.587144 -0.518689   9.057530"
      ]
     },
     "execution_count": 3,
     "metadata": {},
     "output_type": "execute_result"
    }
   ],
   "source": [
    "quote.statistics(21)"
   ]
  },
  {
   "cell_type": "code",
   "execution_count": null,
   "metadata": {},
   "outputs": [],
   "source": []
  }
 ],
 "metadata": {
  "kernelspec": {
   "display_name": "Python 3",
   "language": "python",
   "name": "python3"
  },
  "language_info": {
   "codemirror_mode": {
    "name": "ipython",
    "version": 3
   },
   "file_extension": ".py",
   "mimetype": "text/x-python",
   "name": "python",
   "nbconvert_exporter": "python",
   "pygments_lexer": "ipython3",
   "version": "3.7.3"
  }
 },
 "nbformat": 4,
 "nbformat_minor": 2
}
