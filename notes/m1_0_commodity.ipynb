{
 "cells": [
  {
   "cell_type": "code",
   "execution_count": 1,
   "metadata": {},
   "outputs": [],
   "source": [
    "from requests import post\n",
    "from app.analysis import Quote\n",
    "query = 'query UnknownFile($limit_0:[FundLimitOptionInput!]!) {viewer {...Fe}} fragment Fe on Viewer {_screenFunds4s9d1a:screenFunds(filterCategory:[\"$$\"],limit:$limit_0,first:100) {edges {node {symbol}}}}'\n",
    "variables = {'limit_0':[{'type':'FUND_TOTAL_ASSETS','min':1000000000,'inclusive':True}]}\n",
    "r = post('https://lens.m1finance.com/graphql', json={'query': query.replace('$$', 'Commodities'), 'variables': variables}).json()\n",
    "symbols = [n['node']['symbol'] for n in r['data']['viewer']['_screenFunds4s9d1a']['edges']]"
   ]
  },
  {
   "cell_type": "code",
   "execution_count": 2,
   "metadata": {},
   "outputs": [
    {
     "data": {
      "text/plain": [
       "'from 2019-02-25 to 2019-06-25 - 9'"
      ]
     },
     "execution_count": 2,
     "metadata": {},
     "output_type": "execute_result"
    }
   ],
   "source": [
    "quote = Quote(symbols, 120)\n",
    "f'from {quote.start.date()} to {quote.end.date()} - {len(quote.data.columns)}'"
   ]
  },
  {
   "cell_type": "code",
   "execution_count": 3,
   "metadata": {},
   "outputs": [
    {
     "data": {
      "text/html": [
       "<div>\n",
       "<style scoped>\n",
       "    .dataframe tbody tr th:only-of-type {\n",
       "        vertical-align: middle;\n",
       "    }\n",
       "\n",
       "    .dataframe tbody tr th {\n",
       "        vertical-align: top;\n",
       "    }\n",
       "\n",
       "    .dataframe thead th {\n",
       "        text-align: right;\n",
       "    }\n",
       "</style>\n",
       "<table border=\"1\" class=\"dataframe\">\n",
       "  <thead>\n",
       "    <tr style=\"text-align: right;\">\n",
       "      <th></th>\n",
       "      <th>21-len</th>\n",
       "      <th>21-mean</th>\n",
       "      <th>21-std</th>\n",
       "      <th>21-shrp</th>\n",
       "      <th>drawdown</th>\n",
       "    </tr>\n",
       "    <tr>\n",
       "      <th>Symbols</th>\n",
       "      <th></th>\n",
       "      <th></th>\n",
       "      <th></th>\n",
       "      <th></th>\n",
       "      <th></th>\n",
       "    </tr>\n",
       "  </thead>\n",
       "  <tbody>\n",
       "    <tr>\n",
       "      <th>GLD</th>\n",
       "      <td>64</td>\n",
       "      <td>0.902646</td>\n",
       "      <td>3.248329</td>\n",
       "      <td>0.226572</td>\n",
       "      <td>4.491160</td>\n",
       "    </tr>\n",
       "    <tr>\n",
       "      <th>IAU</th>\n",
       "      <td>64</td>\n",
       "      <td>0.903745</td>\n",
       "      <td>3.267498</td>\n",
       "      <td>0.225579</td>\n",
       "      <td>4.399053</td>\n",
       "    </tr>\n",
       "    <tr>\n",
       "      <th>PHYS</th>\n",
       "      <td>64</td>\n",
       "      <td>0.638278</td>\n",
       "      <td>3.676182</td>\n",
       "      <td>0.128288</td>\n",
       "      <td>5.684992</td>\n",
       "    </tr>\n",
       "    <tr>\n",
       "      <th>CEF</th>\n",
       "      <td>64</td>\n",
       "      <td>-0.105612</td>\n",
       "      <td>3.510691</td>\n",
       "      <td>-0.077557</td>\n",
       "      <td>7.373272</td>\n",
       "    </tr>\n",
       "    <tr>\n",
       "      <th>USO</th>\n",
       "      <td>64</td>\n",
       "      <td>-1.340954</td>\n",
       "      <td>9.715678</td>\n",
       "      <td>-0.155174</td>\n",
       "      <td>22.842637</td>\n",
       "    </tr>\n",
       "    <tr>\n",
       "      <th>GSG</th>\n",
       "      <td>64</td>\n",
       "      <td>-1.062135</td>\n",
       "      <td>4.633250</td>\n",
       "      <td>-0.265214</td>\n",
       "      <td>12.269215</td>\n",
       "    </tr>\n",
       "    <tr>\n",
       "      <th>SLV</th>\n",
       "      <td>64</td>\n",
       "      <td>-1.093423</td>\n",
       "      <td>2.620373</td>\n",
       "      <td>-0.480882</td>\n",
       "      <td>9.906289</td>\n",
       "    </tr>\n",
       "    <tr>\n",
       "      <th>PDBC</th>\n",
       "      <td>64</td>\n",
       "      <td>-1.173869</td>\n",
       "      <td>2.744933</td>\n",
       "      <td>-0.488367</td>\n",
       "      <td>9.245172</td>\n",
       "    </tr>\n",
       "    <tr>\n",
       "      <th>DBC</th>\n",
       "      <td>64</td>\n",
       "      <td>-1.171392</td>\n",
       "      <td>2.590458</td>\n",
       "      <td>-0.516534</td>\n",
       "      <td>9.057530</td>\n",
       "    </tr>\n",
       "  </tbody>\n",
       "</table>\n",
       "</div>"
      ],
      "text/plain": [
       "         21-len   21-mean    21-std   21-shrp   drawdown\n",
       "Symbols                                                 \n",
       "GLD          64  0.902646  3.248329  0.226572   4.491160\n",
       "IAU          64  0.903745  3.267498  0.225579   4.399053\n",
       "PHYS         64  0.638278  3.676182  0.128288   5.684992\n",
       "CEF          64 -0.105612  3.510691 -0.077557   7.373272\n",
       "USO          64 -1.340954  9.715678 -0.155174  22.842637\n",
       "GSG          64 -1.062135  4.633250 -0.265214  12.269215\n",
       "SLV          64 -1.093423  2.620373 -0.480882   9.906289\n",
       "PDBC         64 -1.173869  2.744933 -0.488367   9.245172\n",
       "DBC          64 -1.171392  2.590458 -0.516534   9.057530"
      ]
     },
     "execution_count": 3,
     "metadata": {},
     "output_type": "execute_result"
    }
   ],
   "source": [
    "quote.statistics(21)"
   ]
  },
  {
   "cell_type": "code",
   "execution_count": null,
   "metadata": {},
   "outputs": [],
   "source": []
  }
 ],
 "metadata": {
  "kernelspec": {
   "display_name": "Python 3",
   "language": "python",
   "name": "python3"
  },
  "language_info": {
   "codemirror_mode": {
    "name": "ipython",
    "version": 3
   },
   "file_extension": ".py",
   "mimetype": "text/x-python",
   "name": "python",
   "nbconvert_exporter": "python",
   "pygments_lexer": "ipython3",
   "version": "3.7.3"
  }
 },
 "nbformat": 4,
 "nbformat_minor": 2
}
