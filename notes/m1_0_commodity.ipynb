{
 "cells": [
  {
   "cell_type": "code",
   "execution_count": 1,
   "metadata": {},
   "outputs": [],
   "source": [
    "from requests import post\n",
    "from app.analysis import Quote\n",
    "query = 'query UnknownFile($limit_0:[FundLimitOptionInput!]!) {viewer {...Fe}} fragment Fe on Viewer {_screenFunds4s9d1a:screenFunds(filterCategory:[\"$$\"],limit:$limit_0,first:100) {edges {node {symbol}}}}'\n",
    "variables = {'limit_0':[{'type':'FUND_TOTAL_ASSETS','min':1000000000,'inclusive':True}]}\n",
    "r = post('https://lens.m1finance.com/graphql', json={'query': query.replace('$$', 'Commodities'), 'variables': variables}).json()\n",
    "symbols = [n['node']['symbol'] for n in r['data']['viewer']['_screenFunds4s9d1a']['edges']]"
   ]
  },
  {
   "cell_type": "code",
   "execution_count": 2,
   "metadata": {},
   "outputs": [
    {
     "data": {
      "text/plain": [
       "'from 2019-02-28 to 2019-06-28 - 9'"
      ]
     },
     "execution_count": 2,
     "metadata": {},
     "output_type": "execute_result"
    }
   ],
   "source": [
    "quote = Quote(symbols, 120)\n",
    "f'from {quote.start.date()} to {quote.end.date()} - {len(quote.data.columns)}'"
   ]
  },
  {
   "cell_type": "code",
   "execution_count": 3,
   "metadata": {},
   "outputs": [
    {
     "data": {
      "text/html": [
       "<div>\n",
       "<style scoped>\n",
       "    .dataframe tbody tr th:only-of-type {\n",
       "        vertical-align: middle;\n",
       "    }\n",
       "\n",
       "    .dataframe tbody tr th {\n",
       "        vertical-align: top;\n",
       "    }\n",
       "\n",
       "    .dataframe thead th {\n",
       "        text-align: right;\n",
       "    }\n",
       "</style>\n",
       "<table border=\"1\" class=\"dataframe\">\n",
       "  <thead>\n",
       "    <tr style=\"text-align: right;\">\n",
       "      <th></th>\n",
       "      <th>21-len</th>\n",
       "      <th>21-mean</th>\n",
       "      <th>21-std</th>\n",
       "      <th>21-shrp</th>\n",
       "      <th>drawdown</th>\n",
       "    </tr>\n",
       "    <tr>\n",
       "      <th>Symbols</th>\n",
       "      <th></th>\n",
       "      <th></th>\n",
       "      <th></th>\n",
       "      <th></th>\n",
       "      <th></th>\n",
       "    </tr>\n",
       "  </thead>\n",
       "  <tbody>\n",
       "    <tr>\n",
       "      <th>GLD</th>\n",
       "      <td>64</td>\n",
       "      <td>1.434470</td>\n",
       "      <td>3.706687</td>\n",
       "      <td>0.342031</td>\n",
       "      <td>3.986548</td>\n",
       "    </tr>\n",
       "    <tr>\n",
       "      <th>IAU</th>\n",
       "      <td>64</td>\n",
       "      <td>1.439845</td>\n",
       "      <td>3.732043</td>\n",
       "      <td>0.341148</td>\n",
       "      <td>3.946330</td>\n",
       "    </tr>\n",
       "    <tr>\n",
       "      <th>PHYS</th>\n",
       "      <td>64</td>\n",
       "      <td>1.187525</td>\n",
       "      <td>4.191311</td>\n",
       "      <td>0.243565</td>\n",
       "      <td>5.332083</td>\n",
       "    </tr>\n",
       "    <tr>\n",
       "      <th>CEF</th>\n",
       "      <td>64</td>\n",
       "      <td>0.419838</td>\n",
       "      <td>3.931924</td>\n",
       "      <td>0.064389</td>\n",
       "      <td>6.656344</td>\n",
       "    </tr>\n",
       "    <tr>\n",
       "      <th>USO</th>\n",
       "      <td>64</td>\n",
       "      <td>-1.567085</td>\n",
       "      <td>9.593393</td>\n",
       "      <td>-0.180724</td>\n",
       "      <td>22.842637</td>\n",
       "    </tr>\n",
       "    <tr>\n",
       "      <th>SLV</th>\n",
       "      <td>64</td>\n",
       "      <td>-0.639919</td>\n",
       "      <td>2.920424</td>\n",
       "      <td>-0.276188</td>\n",
       "      <td>7.997266</td>\n",
       "    </tr>\n",
       "    <tr>\n",
       "      <th>GSG</th>\n",
       "      <td>64</td>\n",
       "      <td>-1.169534</td>\n",
       "      <td>4.569955</td>\n",
       "      <td>-0.292388</td>\n",
       "      <td>12.269215</td>\n",
       "    </tr>\n",
       "    <tr>\n",
       "      <th>PDBC</th>\n",
       "      <td>64</td>\n",
       "      <td>-1.153707</td>\n",
       "      <td>2.753353</td>\n",
       "      <td>-0.479551</td>\n",
       "      <td>9.245172</td>\n",
       "    </tr>\n",
       "    <tr>\n",
       "      <th>DBC</th>\n",
       "      <td>64</td>\n",
       "      <td>-1.127469</td>\n",
       "      <td>2.616646</td>\n",
       "      <td>-0.494578</td>\n",
       "      <td>9.057530</td>\n",
       "    </tr>\n",
       "  </tbody>\n",
       "</table>\n",
       "</div>"
      ],
      "text/plain": [
       "         21-len   21-mean    21-std   21-shrp   drawdown\n",
       "Symbols                                                 \n",
       "GLD          64  1.434470  3.706687  0.342031   3.986548\n",
       "IAU          64  1.439845  3.732043  0.341148   3.946330\n",
       "PHYS         64  1.187525  4.191311  0.243565   5.332083\n",
       "CEF          64  0.419838  3.931924  0.064389   6.656344\n",
       "USO          64 -1.567085  9.593393 -0.180724  22.842637\n",
       "SLV          64 -0.639919  2.920424 -0.276188   7.997266\n",
       "GSG          64 -1.169534  4.569955 -0.292388  12.269215\n",
       "PDBC         64 -1.153707  2.753353 -0.479551   9.245172\n",
       "DBC          64 -1.127469  2.616646 -0.494578   9.057530"
      ]
     },
     "execution_count": 3,
     "metadata": {},
     "output_type": "execute_result"
    }
   ],
   "source": [
    "quote.statistics(21)"
   ]
  },
  {
   "cell_type": "code",
   "execution_count": null,
   "metadata": {},
   "outputs": [],
   "source": []
  }
 ],
 "metadata": {
  "kernelspec": {
   "display_name": "Python 3",
   "language": "python",
   "name": "python3"
  },
  "language_info": {
   "codemirror_mode": {
    "name": "ipython",
    "version": 3
   },
   "file_extension": ".py",
   "mimetype": "text/x-python",
   "name": "python",
   "nbconvert_exporter": "python",
   "pygments_lexer": "ipython3",
   "version": "3.7.3"
  }
 },
 "nbformat": 4,
 "nbformat_minor": 2
}
