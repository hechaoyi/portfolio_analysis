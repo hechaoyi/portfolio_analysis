{
 "cells": [
  {
   "cell_type": "code",
   "execution_count": 1,
   "metadata": {},
   "outputs": [
    {
     "name": "stdout",
     "output_type": "stream",
     "text": [
      "Populating the interactive namespace from numpy and matplotlib\n"
     ]
    }
   ],
   "source": [
    "%pylab inline\n",
    "from requests import post\n",
    "from app.analysis import Quote\n",
    "def screen_funds(*filter, min_assets=1, max_expense=1):\n",
    "    query = 'query screen($filter:[String!]!,$limit:[FundLimitOptionInput!]!){viewer{screenFunds(filterCategory:$filter,limit:$limit,sort:{type:FUND_TOTAL_ASSETS,direction:DESC},first:100){edges{node{symbol}}}}}'\n",
    "    variables = {'filter':filter,'limit':[{'type':'FUND_TOTAL_ASSETS','min':min_assets*1000000000,'inclusive':True},{'type':'FUND_NET_EXPENSE_RATIO','max':max_expense,'inclusive':True}]}\n",
    "    r = post('https://lens.m1finance.com/graphql', json={'query': query, 'variables': variables}).json()\n",
    "    return [n['node']['symbol'] for n in r['data']['viewer']['screenFunds']['edges']]"
   ]
  },
  {
   "cell_type": "code",
   "execution_count": 2,
   "metadata": {},
   "outputs": [
    {
     "name": "stdout",
     "output_type": "stream",
     "text": [
      "from 2019-04-25 to 2019-07-09 - 21\n"
     ]
    }
   ],
   "source": [
    "quote = Quote(screen_funds('Commodities', min_assets=.2), 75, 5)\n",
    "print(f'from {quote.start.date()} to {quote.end.date()} - {len(quote.data.columns)}')"
   ]
  },
  {
   "cell_type": "code",
   "execution_count": 3,
   "metadata": {},
   "outputs": [
    {
     "name": "stdout",
     "output_type": "stream",
     "text": [
      "10\n"
     ]
    },
    {
     "data": {
      "text/html": [
       "<div>\n",
       "<style scoped>\n",
       "    .dataframe tbody tr th:only-of-type {\n",
       "        vertical-align: middle;\n",
       "    }\n",
       "\n",
       "    .dataframe tbody tr th {\n",
       "        vertical-align: top;\n",
       "    }\n",
       "\n",
       "    .dataframe thead th {\n",
       "        text-align: right;\n",
       "    }\n",
       "</style>\n",
       "<table border=\"1\" class=\"dataframe\">\n",
       "  <thead>\n",
       "    <tr style=\"text-align: right;\">\n",
       "      <th></th>\n",
       "      <th>len</th>\n",
       "      <th>mean</th>\n",
       "      <th>std</th>\n",
       "      <th>shrp</th>\n",
       "      <th>yield</th>\n",
       "      <th>drawdown</th>\n",
       "    </tr>\n",
       "    <tr>\n",
       "      <th>Symbols</th>\n",
       "      <th></th>\n",
       "      <th></th>\n",
       "      <th></th>\n",
       "      <th></th>\n",
       "      <th></th>\n",
       "      <th></th>\n",
       "    </tr>\n",
       "  </thead>\n",
       "  <tbody>\n",
       "    <tr>\n",
       "      <th>BAR</th>\n",
       "      <td>47</td>\n",
       "      <td>1.004102</td>\n",
       "      <td>1.886833</td>\n",
       "      <td>0.511132</td>\n",
       "      <td>9.340664</td>\n",
       "      <td>2.700990</td>\n",
       "    </tr>\n",
       "    <tr>\n",
       "      <th>GLD</th>\n",
       "      <td>47</td>\n",
       "      <td>0.993981</td>\n",
       "      <td>1.880347</td>\n",
       "      <td>0.507512</td>\n",
       "      <td>9.272622</td>\n",
       "      <td>2.667662</td>\n",
       "    </tr>\n",
       "    <tr>\n",
       "      <th>SGOL</th>\n",
       "      <td>47</td>\n",
       "      <td>0.997715</td>\n",
       "      <td>1.895886</td>\n",
       "      <td>0.505322</td>\n",
       "      <td>9.282872</td>\n",
       "      <td>2.692057</td>\n",
       "    </tr>\n",
       "    <tr>\n",
       "      <th>IAU</th>\n",
       "      <td>47</td>\n",
       "      <td>0.998547</td>\n",
       "      <td>1.918676</td>\n",
       "      <td>0.499753</td>\n",
       "      <td>9.239576</td>\n",
       "      <td>2.716592</td>\n",
       "    </tr>\n",
       "    <tr>\n",
       "      <th>GLTR</th>\n",
       "      <td>47</td>\n",
       "      <td>0.723038</td>\n",
       "      <td>1.721781</td>\n",
       "      <td>0.396888</td>\n",
       "      <td>6.188009</td>\n",
       "      <td>3.584793</td>\n",
       "    </tr>\n",
       "    <tr>\n",
       "      <th>PALL</th>\n",
       "      <td>47</td>\n",
       "      <td>1.279616</td>\n",
       "      <td>3.259464</td>\n",
       "      <td>0.380410</td>\n",
       "      <td>9.452889</td>\n",
       "      <td>11.245765</td>\n",
       "    </tr>\n",
       "    <tr>\n",
       "      <th>PSLV</th>\n",
       "      <td>47</td>\n",
       "      <td>0.542643</td>\n",
       "      <td>1.972228</td>\n",
       "      <td>0.255021</td>\n",
       "      <td>4.452695</td>\n",
       "      <td>4.805911</td>\n",
       "    </tr>\n",
       "    <tr>\n",
       "      <th>DBA</th>\n",
       "      <td>47</td>\n",
       "      <td>0.319966</td>\n",
       "      <td>1.689790</td>\n",
       "      <td>0.165869</td>\n",
       "      <td>2.779486</td>\n",
       "      <td>4.012349</td>\n",
       "    </tr>\n",
       "    <tr>\n",
       "      <th>SIVR</th>\n",
       "      <td>47</td>\n",
       "      <td>0.179332</td>\n",
       "      <td>1.720579</td>\n",
       "      <td>0.081164</td>\n",
       "      <td>1.101927</td>\n",
       "      <td>4.517453</td>\n",
       "    </tr>\n",
       "    <tr>\n",
       "      <th>SLV</th>\n",
       "      <td>47</td>\n",
       "      <td>0.165680</td>\n",
       "      <td>1.717412</td>\n",
       "      <td>0.073365</td>\n",
       "      <td>1.000002</td>\n",
       "      <td>4.539009</td>\n",
       "    </tr>\n",
       "  </tbody>\n",
       "</table>\n",
       "</div>"
      ],
      "text/plain": [
       "         len      mean       std      shrp     yield   drawdown\n",
       "Symbols                                                        \n",
       "BAR       47  1.004102  1.886833  0.511132  9.340664   2.700990\n",
       "GLD       47  0.993981  1.880347  0.507512  9.272622   2.667662\n",
       "SGOL      47  0.997715  1.895886  0.505322  9.282872   2.692057\n",
       "IAU       47  0.998547  1.918676  0.499753  9.239576   2.716592\n",
       "GLTR      47  0.723038  1.721781  0.396888  6.188009   3.584793\n",
       "PALL      47  1.279616  3.259464  0.380410  9.452889  11.245765\n",
       "PSLV      47  0.542643  1.972228  0.255021  4.452695   4.805911\n",
       "DBA       47  0.319966  1.689790  0.165869  2.779486   4.012349\n",
       "SIVR      47  0.179332  1.720579  0.081164  1.101927   4.517453\n",
       "SLV       47  0.165680  1.717412  0.073365  1.000002   4.539009"
      ]
     },
     "execution_count": 3,
     "metadata": {},
     "output_type": "execute_result"
    }
   ],
   "source": [
    "stats = quote.statistics()\n",
    "stats = stats[stats['shrp'] > 0]\n",
    "print(len(stats))\n",
    "stats"
   ]
  },
  {
   "cell_type": "code",
   "execution_count": 4,
   "metadata": {},
   "outputs": [
    {
     "name": "stderr",
     "output_type": "stream",
     "text": [
      "/Users/chaoyi/.local/share/virtualenvs/portfolio_analysis-bdMx2S3t/lib/python3.7/site-packages/scipy/optimize/optimize.py:2341: RuntimeWarning: invalid value encountered in double_scalars\n",
      "  w = xb - ((xb - xc) * tmp2 - (xb - xa) * tmp1) / denom\n"
     ]
    },
    {
     "name": "stdout",
     "output_type": "stream",
     "text": [
      "evicted PSLV 0.867 -0.240\n",
      "evicted PALL 0.273 0.242\n",
      "retry backlogs ['GLTR', 'SLV', 'IAU', 'SGOL', 'GLD', 'SIVR'] at 0.905/-0.51 - 0.6\n",
      "evicted SIVR 0.899 -0.281\n",
      "retry backlogs ['IAU', 'SGOL', 'SLV', 'GLTR', 'GLD'] at 0.910/-0.52 - 0.6\n",
      "evicted SLV 0.904 -0.284\n",
      "retry backlogs ['IAU', 'SGOL', 'GLTR', 'GLD'] at 0.915/-0.53 - 0.6\n",
      "retry backlogs ['SGOL', 'IAU', 'GLTR', 'GLD'] at 0.920/-0.54 - 0.6\n",
      "retry backlogs ['SGOL', 'IAU', 'GLTR', 'GLD'] at 0.925/-0.55 - 0.6\n",
      "retry backlogs ['SGOL', 'IAU', 'GLTR', 'GLD'] at 0.930/-0.56 - 0.6\n",
      "retry backlogs ['SGOL', 'IAU', 'GLTR', 'GLD'] at 0.935/-0.57 - 0.6\n",
      "retry backlogs ['SGOL', 'IAU', 'GLTR', 'GLD'] at 0.940/-0.58 - 0.6\n",
      "retry backlogs ['SGOL', 'IAU', 'GLTR', 'GLD'] at 0.945/-0.59 - 0.6\n",
      "retry backlogs ['SGOL', 'IAU', 'GLTR', 'GLD'] at 0.950/-0.60 - 0.6\n",
      "retry backlogs ['SGOL', 'IAU', 'GLTR', 'GLD'] at 0.955/-0.61 - 0.6\n",
      "evicted GLTR 0.953 -0.185\n",
      "retry backlogs ['SGOL', 'IAU', 'GLD'] at 0.960/-0.62 - 0.6\n",
      "retry backlogs ['SGOL', 'IAU', 'GLD'] at 0.965/-0.63 - 0.6\n",
      "retry backlogs ['SGOL', 'IAU', 'GLD'] at 0.970/-0.64 - 0.6\n",
      "retry backlogs ['SGOL', 'IAU', 'GLD'] at 0.975/-0.65 - 0.6\n",
      "retry backlogs ['SGOL', 'IAU', 'GLD'] at 0.980/-0.66 - 0.6\n",
      "retry backlogs ['SGOL', 'IAU', 'GLD'] at 0.985/-0.67 - 0.6\n",
      "retry backlogs ['SGOL', 'IAU', 'GLD'] at 0.990/-0.68 - 0.6\n",
      "retry backlogs ['SGOL', 'IAU', 'GLD'] at 0.995/-0.69 - 0.6\n",
      "retry backlogs ['SGOL', 'IAU', 'GLD'] at 1.000/-0.70 - 0.6\n",
      "evicted SGOL 1.000 -0.261\n",
      "evicted IAU 0.999 -0.269\n",
      "evicted GLD 0.999 -0.261\n",
      "(0.6, 0.738) {'BAR': 0.611, 'DBA': 0.389}\n"
     ]
    },
    {
     "data": {
      "text/html": [
       "<div>\n",
       "<style scoped>\n",
       "    .dataframe tbody tr th:only-of-type {\n",
       "        vertical-align: middle;\n",
       "    }\n",
       "\n",
       "    .dataframe tbody tr th {\n",
       "        vertical-align: top;\n",
       "    }\n",
       "\n",
       "    .dataframe thead th {\n",
       "        text-align: right;\n",
       "    }\n",
       "</style>\n",
       "<table border=\"1\" class=\"dataframe\">\n",
       "  <thead>\n",
       "    <tr style=\"text-align: right;\">\n",
       "      <th></th>\n",
       "      <th>count</th>\n",
       "      <th>mean</th>\n",
       "      <th>std</th>\n",
       "      <th>min</th>\n",
       "      <th>25%</th>\n",
       "      <th>50%</th>\n",
       "      <th>75%</th>\n",
       "      <th>max</th>\n",
       "      <th>shrp</th>\n",
       "      <th>yield</th>\n",
       "      <th>drawdown</th>\n",
       "    </tr>\n",
       "  </thead>\n",
       "  <tbody>\n",
       "    <tr>\n",
       "      <th>Portfolio</th>\n",
       "      <td>47.0</td>\n",
       "      <td>0.734334</td>\n",
       "      <td>1.167439</td>\n",
       "      <td>-1.682729</td>\n",
       "      <td>-0.214040</td>\n",
       "      <td>0.741997</td>\n",
       "      <td>1.247048</td>\n",
       "      <td>3.228666</td>\n",
       "      <td>0.595022</td>\n",
       "      <td>6.788366</td>\n",
       "      <td>1.988458</td>\n",
       "    </tr>\n",
       "    <tr>\n",
       "      <th>BAR</th>\n",
       "      <td>47.0</td>\n",
       "      <td>1.004102</td>\n",
       "      <td>1.886833</td>\n",
       "      <td>-2.494698</td>\n",
       "      <td>0.000000</td>\n",
       "      <td>0.549017</td>\n",
       "      <td>1.564185</td>\n",
       "      <td>5.833955</td>\n",
       "      <td>0.511132</td>\n",
       "      <td>9.340664</td>\n",
       "      <td>2.700990</td>\n",
       "    </tr>\n",
       "    <tr>\n",
       "      <th>DBA</th>\n",
       "      <td>47.0</td>\n",
       "      <td>0.319966</td>\n",
       "      <td>1.689790</td>\n",
       "      <td>-3.039707</td>\n",
       "      <td>-0.864284</td>\n",
       "      <td>0.000000</td>\n",
       "      <td>1.955462</td>\n",
       "      <td>3.729897</td>\n",
       "      <td>0.165869</td>\n",
       "      <td>2.779486</td>\n",
       "      <td>4.012349</td>\n",
       "    </tr>\n",
       "  </tbody>\n",
       "</table>\n",
       "</div>"
      ],
      "text/plain": [
       "           count      mean       std       min       25%       50%       75%  \\\n",
       "Portfolio   47.0  0.734334  1.167439 -1.682729 -0.214040  0.741997  1.247048   \n",
       "BAR         47.0  1.004102  1.886833 -2.494698  0.000000  0.549017  1.564185   \n",
       "DBA         47.0  0.319966  1.689790 -3.039707 -0.864284  0.000000  1.955462   \n",
       "\n",
       "                max      shrp     yield  drawdown  \n",
       "Portfolio  3.228666  0.595022  6.788366  1.988458  \n",
       "BAR        5.833955  0.511132  9.340664  2.700990  \n",
       "DBA        3.729897  0.165869  2.779486  4.012349  "
      ]
     },
     "execution_count": 4,
     "metadata": {},
     "output_type": "execute_result"
    },
    {
     "data": {
      "image/png": "[encoded data removed]",
      "text/plain": [
       "<Figure size 864x576 with 1 Axes>"
      ]
     },
     "metadata": {
      "needs_background": "light"
     },
     "output_type": "display_data"
    }
   ],
   "source": [
    "quote.setup_mask(stats.index)\n",
    "sd = quote.optimize_portfolio(.1)\n",
    "for e in sd:\n",
    "    print(e, sd[e])\n",
    "_, ratio = sd.peekitem()\n",
    "quote.setup_mask(ratio)\n",
    "quote.graph(ratio)"
   ]
  },
  {
   "cell_type": "code",
   "execution_count": null,
   "metadata": {},
   "outputs": [],
   "source": []
  }
 ],
 "metadata": {
  "kernelspec": {
   "display_name": "Python 3",
   "language": "python",
   "name": "python3"
  },
  "language_info": {
   "codemirror_mode": {
    "name": "ipython",
    "version": 3
   },
   "file_extension": ".py",
   "mimetype": "text/x-python",
   "name": "python",
   "nbconvert_exporter": "python",
   "pygments_lexer": "ipython3",
   "version": "3.7.3"
  }
 },
 "nbformat": 4,
 "nbformat_minor": 2
}
