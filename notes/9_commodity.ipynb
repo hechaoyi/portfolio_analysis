{
 "cells": [
  {
   "cell_type": "code",
   "execution_count": 1,
   "metadata": {},
   "outputs": [
    {
     "name": "stdout",
     "output_type": "stream",
     "text": [
      "Populating the interactive namespace from numpy and matplotlib\n"
     ]
    }
   ],
   "source": [
    "%pylab inline\n",
    "from requests import post\n",
    "from app.analysis import Quote\n",
    "def screen_funds(*filter, min_assets=1, max_expense=1):\n",
    "    query = 'query screen($filter:[String!]!,$limit:[FundLimitOptionInput!]!){viewer{screenFunds(filterCategory:$filter,limit:$limit,sort:{type:FUND_TOTAL_ASSETS,direction:DESC},first:100){edges{node{symbol}}}}}'\n",
    "    variables = {'filter':filter,'limit':[{'type':'FUND_TOTAL_ASSETS','min':min_assets*1000000000,'inclusive':True},{'type':'FUND_NET_EXPENSE_RATIO','max':max_expense,'inclusive':True}]}\n",
    "    r = post('https://lens.m1finance.com/graphql', json={'query': query, 'variables': variables}).json()\n",
    "    return [n['node']['symbol'] for n in r['data']['viewer']['screenFunds']['edges']]"
   ]
  },
  {
   "cell_type": "code",
   "execution_count": 2,
   "metadata": {},
   "outputs": [
    {
     "name": "stdout",
     "output_type": "stream",
     "text": [
      "from 2019-04-24 to 2019-07-08 - 21\n"
     ]
    }
   ],
   "source": [
    "quote = Quote(screen_funds('Commodities', min_assets=.2), 75, 5)\n",
    "print(f'from {quote.start.date()} to {quote.end.date()} - {len(quote.data.columns)}')"
   ]
  },
  {
   "cell_type": "code",
   "execution_count": 3,
   "metadata": {},
   "outputs": [
    {
     "name": "stdout",
     "output_type": "stream",
     "text": [
      "10\n"
     ]
    },
    {
     "data": {
      "text/html": [
       "<div>\n",
       "<style scoped>\n",
       "    .dataframe tbody tr th:only-of-type {\n",
       "        vertical-align: middle;\n",
       "    }\n",
       "\n",
       "    .dataframe tbody tr th {\n",
       "        vertical-align: top;\n",
       "    }\n",
       "\n",
       "    .dataframe thead th {\n",
       "        text-align: right;\n",
       "    }\n",
       "</style>\n",
       "<table border=\"1\" class=\"dataframe\">\n",
       "  <thead>\n",
       "    <tr style=\"text-align: right;\">\n",
       "      <th></th>\n",
       "      <th>len</th>\n",
       "      <th>mean</th>\n",
       "      <th>std</th>\n",
       "      <th>shrp</th>\n",
       "      <th>drawdown</th>\n",
       "    </tr>\n",
       "    <tr>\n",
       "      <th>Symbols</th>\n",
       "      <th></th>\n",
       "      <th></th>\n",
       "      <th></th>\n",
       "      <th></th>\n",
       "      <th></th>\n",
       "    </tr>\n",
       "  </thead>\n",
       "  <tbody>\n",
       "    <tr>\n",
       "      <th>BAR</th>\n",
       "      <td>47</td>\n",
       "      <td>0.981921</td>\n",
       "      <td>1.893431</td>\n",
       "      <td>0.497635</td>\n",
       "      <td>2.700990</td>\n",
       "    </tr>\n",
       "    <tr>\n",
       "      <th>GLD</th>\n",
       "      <td>47</td>\n",
       "      <td>0.974338</td>\n",
       "      <td>1.886535</td>\n",
       "      <td>0.495435</td>\n",
       "      <td>2.667662</td>\n",
       "    </tr>\n",
       "    <tr>\n",
       "      <th>SGOL</th>\n",
       "      <td>47</td>\n",
       "      <td>0.978546</td>\n",
       "      <td>1.901600</td>\n",
       "      <td>0.493723</td>\n",
       "      <td>2.692057</td>\n",
       "    </tr>\n",
       "    <tr>\n",
       "      <th>IAU</th>\n",
       "      <td>47</td>\n",
       "      <td>0.979142</td>\n",
       "      <td>1.925017</td>\n",
       "      <td>0.488027</td>\n",
       "      <td>2.716592</td>\n",
       "    </tr>\n",
       "    <tr>\n",
       "      <th>GLTR</th>\n",
       "      <td>47</td>\n",
       "      <td>0.692311</td>\n",
       "      <td>1.740959</td>\n",
       "      <td>0.374867</td>\n",
       "      <td>3.584793</td>\n",
       "    </tr>\n",
       "    <tr>\n",
       "      <th>PALL</th>\n",
       "      <td>47</td>\n",
       "      <td>1.177593</td>\n",
       "      <td>3.374073</td>\n",
       "      <td>0.337251</td>\n",
       "      <td>11.245765</td>\n",
       "    </tr>\n",
       "    <tr>\n",
       "      <th>PSLV</th>\n",
       "      <td>47</td>\n",
       "      <td>0.499141</td>\n",
       "      <td>2.006706</td>\n",
       "      <td>0.228961</td>\n",
       "      <td>4.805911</td>\n",
       "    </tr>\n",
       "    <tr>\n",
       "      <th>DBA</th>\n",
       "      <td>47</td>\n",
       "      <td>0.284842</td>\n",
       "      <td>1.702148</td>\n",
       "      <td>0.144030</td>\n",
       "      <td>4.366544</td>\n",
       "    </tr>\n",
       "    <tr>\n",
       "      <th>SIVR</th>\n",
       "      <td>47</td>\n",
       "      <td>0.139768</td>\n",
       "      <td>1.745984</td>\n",
       "      <td>0.057323</td>\n",
       "      <td>4.517453</td>\n",
       "    </tr>\n",
       "    <tr>\n",
       "      <th>SLV</th>\n",
       "      <td>47</td>\n",
       "      <td>0.133688</td>\n",
       "      <td>1.739793</td>\n",
       "      <td>0.054032</td>\n",
       "      <td>4.539009</td>\n",
       "    </tr>\n",
       "  </tbody>\n",
       "</table>\n",
       "</div>"
      ],
      "text/plain": [
       "         len      mean       std      shrp   drawdown\n",
       "Symbols                                              \n",
       "BAR       47  0.981921  1.893431  0.497635   2.700990\n",
       "GLD       47  0.974338  1.886535  0.495435   2.667662\n",
       "SGOL      47  0.978546  1.901600  0.493723   2.692057\n",
       "IAU       47  0.979142  1.925017  0.488027   2.716592\n",
       "GLTR      47  0.692311  1.740959  0.374867   3.584793\n",
       "PALL      47  1.177593  3.374073  0.337251  11.245765\n",
       "PSLV      47  0.499141  2.006706  0.228961   4.805911\n",
       "DBA       47  0.284842  1.702148  0.144030   4.366544\n",
       "SIVR      47  0.139768  1.745984  0.057323   4.517453\n",
       "SLV       47  0.133688  1.739793  0.054032   4.539009"
      ]
     },
     "execution_count": 3,
     "metadata": {},
     "output_type": "execute_result"
    }
   ],
   "source": [
    "stats = quote.statistics()\n",
    "stats = stats[stats['shrp'] > 0]\n",
    "print(len(stats))\n",
    "stats"
   ]
  },
  {
   "cell_type": "code",
   "execution_count": 5,
   "metadata": {},
   "outputs": [
    {
     "name": "stdout",
     "output_type": "stream",
     "text": [
      "evicted PSLV 0.8651660310556918\n",
      "evicted PALL 0.2949164778052119\n",
      "retry backlogs ['GLTR', 'IAU', 'SLV', 'SGOL', 'SIVR', 'GLD'] at 0.905 - 0.571\n",
      "evicted SIVR 0.9012433722068453\n",
      "retry backlogs ['IAU', 'SGOL', 'SLV', 'GLTR', 'GLD'] at 0.91 - 0.571\n",
      "evicted SLV 0.906306046974189\n",
      "retry backlogs ['IAU', 'SGOL', 'GLTR', 'GLD'] at 0.915 - 0.571\n",
      "retry backlogs ['SGOL', 'IAU', 'GLTR', 'GLD'] at 0.92 - 0.571\n",
      "retry backlogs ['SGOL', 'IAU', 'GLTR', 'GLD'] at 0.925 - 0.571\n",
      "retry backlogs ['SGOL', 'IAU', 'GLTR', 'GLD'] at 0.93 - 0.571\n",
      "retry backlogs ['SGOL', 'IAU', 'GLTR', 'GLD'] at 0.935 - 0.571\n",
      "retry backlogs ['SGOL', 'IAU', 'GLTR', 'GLD'] at 0.9400000000000001 - 0.571\n",
      "retry backlogs ['SGOL', 'IAU', 'GLTR', 'GLD'] at 0.9450000000000001 - 0.571\n",
      "retry backlogs ['SGOL', 'IAU', 'GLTR', 'GLD'] at 0.9500000000000001 - 0.571\n",
      "retry backlogs ['SGOL', 'IAU', 'GLTR', 'GLD'] at 0.9550000000000001 - 0.571\n",
      "evicted GLTR 0.9511606177735401\n",
      "retry backlogs ['SGOL', 'IAU', 'GLD'] at 0.9600000000000001 - 0.571\n",
      "retry backlogs ['SGOL', 'IAU', 'GLD'] at 0.9650000000000001 - 0.571\n",
      "retry backlogs ['SGOL', 'IAU', 'GLD'] at 0.9700000000000001 - 0.571\n",
      "retry backlogs ['SGOL', 'IAU', 'GLD'] at 0.9750000000000001 - 0.571\n",
      "retry backlogs ['SGOL', 'IAU', 'GLD'] at 0.9800000000000001 - 0.571\n",
      "retry backlogs ['SGOL', 'IAU', 'GLD'] at 0.9850000000000001 - 0.571\n",
      "retry backlogs ['SGOL', 'IAU', 'GLD'] at 0.9900000000000001 - 0.571\n",
      "retry backlogs ['SGOL', 'IAU', 'GLD'] at 0.9950000000000001 - 0.571\n",
      "retry backlogs ['SGOL', 'IAU', 'GLD'] at 1.0 - 0.571\n",
      "evicted SGOL 0.9997389110083584\n",
      "evicted IAU 0.9992338124313158\n",
      "evicted GLD 0.9991301415503794\n",
      "{'BAR': 0.639, 'DBA': 0.361} 0.571\n"
     ]
    },
    {
     "data": {
      "text/html": [
       "<div>\n",
       "<style scoped>\n",
       "    .dataframe tbody tr th:only-of-type {\n",
       "        vertical-align: middle;\n",
       "    }\n",
       "\n",
       "    .dataframe tbody tr th {\n",
       "        vertical-align: top;\n",
       "    }\n",
       "\n",
       "    .dataframe thead th {\n",
       "        text-align: right;\n",
       "    }\n",
       "</style>\n",
       "<table border=\"1\" class=\"dataframe\">\n",
       "  <thead>\n",
       "    <tr style=\"text-align: right;\">\n",
       "      <th></th>\n",
       "      <th>count</th>\n",
       "      <th>mean</th>\n",
       "      <th>std</th>\n",
       "      <th>min</th>\n",
       "      <th>25%</th>\n",
       "      <th>50%</th>\n",
       "      <th>75%</th>\n",
       "      <th>max</th>\n",
       "      <th>shrp</th>\n",
       "      <th>drawdown</th>\n",
       "    </tr>\n",
       "  </thead>\n",
       "  <tbody>\n",
       "    <tr>\n",
       "      <th>Portfolio</th>\n",
       "      <td>47.0</td>\n",
       "      <td>0.727429</td>\n",
       "      <td>1.214611</td>\n",
       "      <td>-1.745360</td>\n",
       "      <td>-0.390645</td>\n",
       "      <td>0.656471</td>\n",
       "      <td>1.285250</td>\n",
       "      <td>3.418094</td>\n",
       "      <td>0.566228</td>\n",
       "      <td>2.043368</td>\n",
       "    </tr>\n",
       "    <tr>\n",
       "      <th>BAR</th>\n",
       "      <td>47.0</td>\n",
       "      <td>0.981921</td>\n",
       "      <td>1.893431</td>\n",
       "      <td>-2.494698</td>\n",
       "      <td>-0.039274</td>\n",
       "      <td>0.488719</td>\n",
       "      <td>1.564185</td>\n",
       "      <td>5.833955</td>\n",
       "      <td>0.497635</td>\n",
       "      <td>2.700990</td>\n",
       "    </tr>\n",
       "    <tr>\n",
       "      <th>DBA</th>\n",
       "      <td>47.0</td>\n",
       "      <td>0.284842</td>\n",
       "      <td>1.702148</td>\n",
       "      <td>-3.039707</td>\n",
       "      <td>-0.958965</td>\n",
       "      <td>0.000000</td>\n",
       "      <td>1.955462</td>\n",
       "      <td>3.729897</td>\n",
       "      <td>0.144030</td>\n",
       "      <td>4.366544</td>\n",
       "    </tr>\n",
       "  </tbody>\n",
       "</table>\n",
       "</div>"
      ],
      "text/plain": [
       "           count      mean       std       min       25%       50%       75%  \\\n",
       "Portfolio   47.0  0.727429  1.214611 -1.745360 -0.390645  0.656471  1.285250   \n",
       "BAR         47.0  0.981921  1.893431 -2.494698 -0.039274  0.488719  1.564185   \n",
       "DBA         47.0  0.284842  1.702148 -3.039707 -0.958965  0.000000  1.955462   \n",
       "\n",
       "                max      shrp  drawdown  \n",
       "Portfolio  3.418094  0.566228  2.043368  \n",
       "BAR        5.833955  0.497635  2.700990  \n",
       "DBA        3.729897  0.144030  4.366544  "
      ]
     },
     "execution_count": 5,
     "metadata": {},
     "output_type": "execute_result"
    },
    {
     "data": {
      "image/png": "[encoded data removed]",
      "text/plain": [
       "<Figure size 864x576 with 1 Axes>"
      ]
     },
     "metadata": {
      "needs_background": "light"
     },
     "output_type": "display_data"
    }
   ],
   "source": [
    "quote.setup_mask(stats.index)\n",
    "ratio, shrp = quote.optimize_portfolio(.1)\n",
    "print(ratio, shrp)\n",
    "quote.setup_mask(ratio)\n",
    "quote.graph(ratio)"
   ]
  },
  {
   "cell_type": "code",
   "execution_count": null,
   "metadata": {},
   "outputs": [],
   "source": []
  }
 ],
 "metadata": {
  "kernelspec": {
   "display_name": "Python 3",
   "language": "python",
   "name": "python3"
  },
  "language_info": {
   "codemirror_mode": {
    "name": "ipython",
    "version": 3
   },
   "file_extension": ".py",
   "mimetype": "text/x-python",
   "name": "python",
   "nbconvert_exporter": "python",
   "pygments_lexer": "ipython3",
   "version": "3.7.3"
  }
 },
 "nbformat": 4,
 "nbformat_minor": 2
}
