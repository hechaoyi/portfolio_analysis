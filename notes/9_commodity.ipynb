{
 "cells": [
  {
   "cell_type": "code",
   "execution_count": 1,
   "metadata": {},
   "outputs": [
    {
     "name": "stdout",
     "output_type": "stream",
     "text": [
      "Populating the interactive namespace from numpy and matplotlib\n"
     ]
    }
   ],
   "source": [
    "%pylab inline\n",
    "from requests import post\n",
    "from app.analysis import Quote\n",
    "def screen_funds(*filter, min_assets=1, max_expense=1):\n",
    "    query = 'query screen($filter:[String!]!,$limit:[FundLimitOptionInput!]!){viewer{screenFunds(filterCategory:$filter,limit:$limit,sort:{type:FUND_TOTAL_ASSETS,direction:DESC},first:100){edges{node{symbol}}}}}'\n",
    "    variables = {'filter':filter,'limit':[{'type':'FUND_TOTAL_ASSETS','min':min_assets*1000000000,'inclusive':True},{'type':'FUND_NET_EXPENSE_RATIO','max':max_expense,'inclusive':True}]}\n",
    "    r = post('https://lens.m1finance.com/graphql', json={'query': query, 'variables': variables}).json()\n",
    "    return [n['node']['symbol'] for n in r['data']['viewer']['screenFunds']['edges']]"
   ]
  },
  {
   "cell_type": "code",
   "execution_count": 2,
   "metadata": {},
   "outputs": [
    {
     "name": "stdout",
     "output_type": "stream",
     "text": [
      "from 2019-04-26 to 2019-07-10 - 21\n"
     ]
    }
   ],
   "source": [
    "quote = Quote(screen_funds('Commodities', min_assets=.2), 75, 5)\n",
    "print(f'from {quote.start.date()} to {quote.end.date()} - {len(quote.data.columns)}')"
   ]
  },
  {
   "cell_type": "code",
   "execution_count": 3,
   "metadata": {},
   "outputs": [
    {
     "name": "stdout",
     "output_type": "stream",
     "text": [
      "10\n"
     ]
    },
    {
     "data": {
      "text/html": [
       "<div>\n",
       "<style scoped>\n",
       "    .dataframe tbody tr th:only-of-type {\n",
       "        vertical-align: middle;\n",
       "    }\n",
       "\n",
       "    .dataframe tbody tr th {\n",
       "        vertical-align: top;\n",
       "    }\n",
       "\n",
       "    .dataframe thead th {\n",
       "        text-align: right;\n",
       "    }\n",
       "</style>\n",
       "<table border=\"1\" class=\"dataframe\">\n",
       "  <thead>\n",
       "    <tr style=\"text-align: right;\">\n",
       "      <th></th>\n",
       "      <th>len</th>\n",
       "      <th>mean</th>\n",
       "      <th>std</th>\n",
       "      <th>shrp</th>\n",
       "      <th>yield</th>\n",
       "      <th>drawdown</th>\n",
       "    </tr>\n",
       "    <tr>\n",
       "      <th>Symbols</th>\n",
       "      <th></th>\n",
       "      <th></th>\n",
       "      <th></th>\n",
       "      <th></th>\n",
       "      <th></th>\n",
       "      <th></th>\n",
       "    </tr>\n",
       "  </thead>\n",
       "  <tbody>\n",
       "    <tr>\n",
       "      <th>BAR</th>\n",
       "      <td>47</td>\n",
       "      <td>1.022590</td>\n",
       "      <td>1.875503</td>\n",
       "      <td>0.524077</td>\n",
       "      <td>10.218412</td>\n",
       "      <td>2.700990</td>\n",
       "    </tr>\n",
       "    <tr>\n",
       "      <th>GLD</th>\n",
       "      <td>47</td>\n",
       "      <td>1.011796</td>\n",
       "      <td>1.869603</td>\n",
       "      <td>0.519957</td>\n",
       "      <td>10.266127</td>\n",
       "      <td>2.667662</td>\n",
       "    </tr>\n",
       "    <tr>\n",
       "      <th>SGOL</th>\n",
       "      <td>47</td>\n",
       "      <td>1.015925</td>\n",
       "      <td>1.885233</td>\n",
       "      <td>0.517837</td>\n",
       "      <td>10.286406</td>\n",
       "      <td>2.692057</td>\n",
       "    </tr>\n",
       "    <tr>\n",
       "      <th>IAU</th>\n",
       "      <td>47</td>\n",
       "      <td>1.015275</td>\n",
       "      <td>1.908812</td>\n",
       "      <td>0.511099</td>\n",
       "      <td>10.325199</td>\n",
       "      <td>2.716592</td>\n",
       "    </tr>\n",
       "    <tr>\n",
       "      <th>GLTR</th>\n",
       "      <td>47</td>\n",
       "      <td>0.767865</td>\n",
       "      <td>1.686043</td>\n",
       "      <td>0.431888</td>\n",
       "      <td>6.764333</td>\n",
       "      <td>3.584793</td>\n",
       "    </tr>\n",
       "    <tr>\n",
       "      <th>PALL</th>\n",
       "      <td>47</td>\n",
       "      <td>1.400915</td>\n",
       "      <td>3.161162</td>\n",
       "      <td>0.430611</td>\n",
       "      <td>8.345951</td>\n",
       "      <td>11.245765</td>\n",
       "    </tr>\n",
       "    <tr>\n",
       "      <th>PSLV</th>\n",
       "      <td>47</td>\n",
       "      <td>0.586481</td>\n",
       "      <td>1.927521</td>\n",
       "      <td>0.283680</td>\n",
       "      <td>4.805919</td>\n",
       "      <td>4.805911</td>\n",
       "    </tr>\n",
       "    <tr>\n",
       "      <th>DBA</th>\n",
       "      <td>47</td>\n",
       "      <td>0.353710</td>\n",
       "      <td>1.690275</td>\n",
       "      <td>0.185785</td>\n",
       "      <td>2.839500</td>\n",
       "      <td>4.012349</td>\n",
       "    </tr>\n",
       "    <tr>\n",
       "      <th>SIVR</th>\n",
       "      <td>47</td>\n",
       "      <td>0.220453</td>\n",
       "      <td>1.686829</td>\n",
       "      <td>0.107166</td>\n",
       "      <td>1.300483</td>\n",
       "      <td>4.517453</td>\n",
       "    </tr>\n",
       "    <tr>\n",
       "      <th>SLV</th>\n",
       "      <td>47</td>\n",
       "      <td>0.205286</td>\n",
       "      <td>1.685874</td>\n",
       "      <td>0.098230</td>\n",
       "      <td>1.134751</td>\n",
       "      <td>4.539009</td>\n",
       "    </tr>\n",
       "  </tbody>\n",
       "</table>\n",
       "</div>"
      ],
      "text/plain": [
       "         len      mean       std      shrp      yield   drawdown\n",
       "Symbols                                                         \n",
       "BAR       47  1.022590  1.875503  0.524077  10.218412   2.700990\n",
       "GLD       47  1.011796  1.869603  0.519957  10.266127   2.667662\n",
       "SGOL      47  1.015925  1.885233  0.517837  10.286406   2.692057\n",
       "IAU       47  1.015275  1.908812  0.511099  10.325199   2.716592\n",
       "GLTR      47  0.767865  1.686043  0.431888   6.764333   3.584793\n",
       "PALL      47  1.400915  3.161162  0.430611   8.345951  11.245765\n",
       "PSLV      47  0.586481  1.927521  0.283680   4.805919   4.805911\n",
       "DBA       47  0.353710  1.690275  0.185785   2.839500   4.012349\n",
       "SIVR      47  0.220453  1.686829  0.107166   1.300483   4.517453\n",
       "SLV       47  0.205286  1.685874  0.098230   1.134751   4.539009"
      ]
     },
     "execution_count": 3,
     "metadata": {},
     "output_type": "execute_result"
    }
   ],
   "source": [
    "stats = quote.statistics()\n",
    "stats = stats[stats['shrp'] > 0]\n",
    "print(len(stats))\n",
    "stats"
   ]
  },
  {
   "cell_type": "code",
   "execution_count": 7,
   "metadata": {},
   "outputs": [
    {
     "name": "stdout",
     "output_type": "stream",
     "text": [
      "evicted PSLV 0.869 -0.266\n",
      "evicted PALL 0.265 0.219\n",
      "retry backlogs ['GLTR', 'SLV', 'IAU', 'SGOL', 'GLD', 'SIVR'] at 0.905/-0.51 - 0.629\n"
     ]
    },
    {
     "name": "stderr",
     "output_type": "stream",
     "text": [
      "/Users/chaoyi/.local/share/virtualenvs/portfolio_analysis-bdMx2S3t/lib/python3.7/site-packages/scipy/optimize/optimize.py:2341: RuntimeWarning: invalid value encountered in double_scalars\n",
      "  w = xb - ((xb - xc) * tmp2 - (xb - xa) * tmp1) / denom\n"
     ]
    },
    {
     "name": "stdout",
     "output_type": "stream",
     "text": [
      "evicted SIVR 0.894 -0.302\n",
      "retry backlogs ['IAU', 'SGOL', 'SLV', 'GLD', 'GLTR'] at 0.910/-0.52 - 0.629\n",
      "evicted SLV 0.900 -0.305\n",
      "retry backlogs ['IAU', 'SGOL', 'GLD', 'GLTR'] at 0.915/-0.53 - 0.629\n",
      "retry backlogs ['SGOL', 'IAU', 'GLD', 'GLTR'] at 0.920/-0.54 - 0.629\n",
      "retry backlogs ['SGOL', 'IAU', 'GLD', 'GLTR'] at 0.925/-0.55 - 0.629\n",
      "retry backlogs ['SGOL', 'IAU', 'GLD', 'GLTR'] at 0.930/-0.56 - 0.629\n",
      "retry backlogs ['SGOL', 'IAU', 'GLD', 'GLTR'] at 0.935/-0.57 - 0.629\n",
      "retry backlogs ['SGOL', 'IAU', 'GLD', 'GLTR'] at 0.940/-0.58 - 0.629\n",
      "retry backlogs ['SGOL', 'IAU', 'GLD', 'GLTR'] at 0.945/-0.59 - 0.629\n",
      "retry backlogs ['SGOL', 'IAU', 'GLD', 'GLTR'] at 0.950/-0.60 - 0.629\n",
      "retry backlogs ['SGOL', 'IAU', 'GLD', 'GLTR'] at 0.955/-0.61 - 0.629\n",
      "evicted GLTR 0.951 -0.204\n",
      "retry backlogs ['SGOL', 'IAU', 'GLD'] at 0.960/-0.62 - 0.629\n",
      "retry backlogs ['SGOL', 'IAU', 'GLD'] at 0.965/-0.63 - 0.629\n",
      "retry backlogs ['SGOL', 'IAU', 'GLD'] at 0.970/-0.64 - 0.629\n",
      "retry backlogs ['SGOL', 'IAU', 'GLD'] at 0.975/-0.65 - 0.629\n",
      "retry backlogs ['SGOL', 'IAU', 'GLD'] at 0.980/-0.66 - 0.629\n",
      "retry backlogs ['SGOL', 'IAU', 'GLD'] at 0.985/-0.67 - 0.629\n",
      "retry backlogs ['SGOL', 'IAU', 'GLD'] at 0.990/-0.68 - 0.629\n",
      "retry backlogs ['SGOL', 'IAU', 'GLD'] at 0.995/-0.69 - 0.629\n",
      "retry backlogs ['SGOL', 'IAU', 'GLD'] at 1.000/-0.70 - 0.629\n",
      "evicted SGOL 1.000 -0.274\n",
      "evicted IAU 0.999 -0.282\n",
      "evicted GLD 0.999 -0.275\n",
      "(0.629, 0.754) {'BAR': 0.598, 'DBA': 0.402}\n"
     ]
    },
    {
     "data": {
      "text/html": [
       "<div>\n",
       "<style scoped>\n",
       "    .dataframe tbody tr th:only-of-type {\n",
       "        vertical-align: middle;\n",
       "    }\n",
       "\n",
       "    .dataframe tbody tr th {\n",
       "        vertical-align: top;\n",
       "    }\n",
       "\n",
       "    .dataframe thead th {\n",
       "        text-align: right;\n",
       "    }\n",
       "</style>\n",
       "<table border=\"1\" class=\"dataframe\">\n",
       "  <thead>\n",
       "    <tr style=\"text-align: right;\">\n",
       "      <th></th>\n",
       "      <th>count</th>\n",
       "      <th>mean</th>\n",
       "      <th>std</th>\n",
       "      <th>min</th>\n",
       "      <th>25%</th>\n",
       "      <th>50%</th>\n",
       "      <th>75%</th>\n",
       "      <th>max</th>\n",
       "      <th>shrp</th>\n",
       "      <th>yield</th>\n",
       "      <th>drawdown</th>\n",
       "    </tr>\n",
       "  </thead>\n",
       "  <tbody>\n",
       "    <tr>\n",
       "      <th>Portfolio</th>\n",
       "      <td>47.0</td>\n",
       "      <td>0.748753</td>\n",
       "      <td>1.137796</td>\n",
       "      <td>-1.651803</td>\n",
       "      <td>-0.060680</td>\n",
       "      <td>0.769724</td>\n",
       "      <td>1.270341</td>\n",
       "      <td>3.135394</td>\n",
       "      <td>0.623197</td>\n",
       "      <td>7.252090</td>\n",
       "      <td>1.961347</td>\n",
       "    </tr>\n",
       "    <tr>\n",
       "      <th>BAR</th>\n",
       "      <td>47.0</td>\n",
       "      <td>1.022590</td>\n",
       "      <td>1.875503</td>\n",
       "      <td>-2.494698</td>\n",
       "      <td>0.039063</td>\n",
       "      <td>0.549017</td>\n",
       "      <td>1.564185</td>\n",
       "      <td>5.833955</td>\n",
       "      <td>0.524077</td>\n",
       "      <td>10.218412</td>\n",
       "      <td>2.700990</td>\n",
       "    </tr>\n",
       "    <tr>\n",
       "      <th>DBA</th>\n",
       "      <td>47.0</td>\n",
       "      <td>0.353710</td>\n",
       "      <td>1.690275</td>\n",
       "      <td>-3.039707</td>\n",
       "      <td>-0.864284</td>\n",
       "      <td>0.000000</td>\n",
       "      <td>1.955462</td>\n",
       "      <td>3.729897</td>\n",
       "      <td>0.185785</td>\n",
       "      <td>2.839500</td>\n",
       "      <td>4.012349</td>\n",
       "    </tr>\n",
       "  </tbody>\n",
       "</table>\n",
       "</div>"
      ],
      "text/plain": [
       "           count      mean       std       min       25%       50%       75%  \\\n",
       "Portfolio   47.0  0.748753  1.137796 -1.651803 -0.060680  0.769724  1.270341   \n",
       "BAR         47.0  1.022590  1.875503 -2.494698  0.039063  0.549017  1.564185   \n",
       "DBA         47.0  0.353710  1.690275 -3.039707 -0.864284  0.000000  1.955462   \n",
       "\n",
       "                max      shrp      yield  drawdown  \n",
       "Portfolio  3.135394  0.623197   7.252090  1.961347  \n",
       "BAR        5.833955  0.524077  10.218412  2.700990  \n",
       "DBA        3.729897  0.185785   2.839500  4.012349  "
      ]
     },
     "execution_count": 7,
     "metadata": {},
     "output_type": "execute_result"
    },
    {
     "data": {
      "image/png": "[encoded data removed]",
      "text/plain": [
       "<Figure size 864x576 with 1 Axes>"
      ]
     },
     "metadata": {
      "needs_background": "light"
     },
     "output_type": "display_data"
    }
   ],
   "source": [
    "quote.setup_mask(stats.index)\n",
    "sd = quote.optimize_portfolio(.15)\n",
    "for e in sd:\n",
    "    print(e, sd[e])\n",
    "_, ratio = sd.peekitem()\n",
    "quote.setup_mask(ratio)\n",
    "quote.graph(ratio)"
   ]
  },
  {
   "cell_type": "code",
   "execution_count": null,
   "metadata": {},
   "outputs": [],
   "source": []
  }
 ],
 "metadata": {
  "kernelspec": {
   "display_name": "Python 3",
   "language": "python",
   "name": "python3"
  },
  "language_info": {
   "codemirror_mode": {
    "name": "ipython",
    "version": 3
   },
   "file_extension": ".py",
   "mimetype": "text/x-python",
   "name": "python",
   "nbconvert_exporter": "python",
   "pygments_lexer": "ipython3",
   "version": "3.7.4"
  }
 },
 "nbformat": 4,
 "nbformat_minor": 4
}
