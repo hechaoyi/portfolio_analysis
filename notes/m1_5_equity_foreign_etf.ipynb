{
 "cells": [
  {
   "cell_type": "code",
   "execution_count": 2,
   "metadata": {},
   "outputs": [],
   "source": [
    "from requests import post\n",
    "from app.analysis import Quote\n",
    "query = 'query UnknownFile($limit_0:[FundLimitOptionInput!]!) {viewer {...Fe}} fragment Fe on Viewer {_screenFunds4s9d1a:screenFunds(filterCategory:[\"$$\"],limit:$limit_0,first:100) {edges {node {symbol}}}}'\n",
    "variables = {'limit_0':[{'type':'FUND_TOTAL_ASSETS','min':1000000000,'inclusive':True}]}\n",
    "r = post('https://lens.m1finance.com/graphql', json={'query': query.replace('$$', 'Equities\",\"Foreign'), 'variables': variables}).json()\n",
    "symbols = [n['node']['symbol'] for n in r['data']['viewer']['_screenFunds4s9d1a']['edges']]\n",
    "symbols += ['VT']"
   ]
  },
  {
   "cell_type": "code",
   "execution_count": 3,
   "metadata": {},
   "outputs": [
    {
     "data": {
      "text/plain": [
       "'from 2019-04-25 to 2019-07-03 - 76'"
      ]
     },
     "execution_count": 3,
     "metadata": {},
     "output_type": "execute_result"
    }
   ],
   "source": [
    "quote = Quote(symbols, 70, 20)\n",
    "f'from {quote.start.date()} to {quote.end.date()} - {len(quote.data.columns)}'"
   ]
  },
  {
   "cell_type": "code",
   "execution_count": 5,
   "metadata": {},
   "outputs": [
    {
     "data": {
      "text/html": [
       "<div>\n",
       "<style scoped>\n",
       "    .dataframe tbody tr th:only-of-type {\n",
       "        vertical-align: middle;\n",
       "    }\n",
       "\n",
       "    .dataframe tbody tr th {\n",
       "        vertical-align: top;\n",
       "    }\n",
       "\n",
       "    .dataframe thead th {\n",
       "        text-align: right;\n",
       "    }\n",
       "</style>\n",
       "<table border=\"1\" class=\"dataframe\">\n",
       "  <thead>\n",
       "    <tr style=\"text-align: right;\">\n",
       "      <th></th>\n",
       "      <th>len</th>\n",
       "      <th>mean</th>\n",
       "      <th>std</th>\n",
       "      <th>shrp</th>\n",
       "      <th>drawdown</th>\n",
       "    </tr>\n",
       "    <tr>\n",
       "      <th>Symbols</th>\n",
       "      <th></th>\n",
       "      <th></th>\n",
       "      <th></th>\n",
       "      <th></th>\n",
       "      <th></th>\n",
       "    </tr>\n",
       "  </thead>\n",
       "  <tbody>\n",
       "    <tr>\n",
       "      <th>RSX</th>\n",
       "      <td>29</td>\n",
       "      <td>6.402178</td>\n",
       "      <td>3.643633</td>\n",
       "      <td>1.713523</td>\n",
       "      <td>4.174395</td>\n",
       "    </tr>\n",
       "    <tr>\n",
       "      <th>EWL</th>\n",
       "      <td>29</td>\n",
       "      <td>3.775342</td>\n",
       "      <td>2.320469</td>\n",
       "      <td>1.558569</td>\n",
       "      <td>3.113807</td>\n",
       "    </tr>\n",
       "    <tr>\n",
       "      <th>EWA</th>\n",
       "      <td>29</td>\n",
       "      <td>3.120687</td>\n",
       "      <td>2.023173</td>\n",
       "      <td>1.464016</td>\n",
       "      <td>3.100777</td>\n",
       "    </tr>\n",
       "    <tr>\n",
       "      <th>EFAV</th>\n",
       "      <td>29</td>\n",
       "      <td>2.133655</td>\n",
       "      <td>1.910713</td>\n",
       "      <td>1.033607</td>\n",
       "      <td>2.819624</td>\n",
       "    </tr>\n",
       "    <tr>\n",
       "      <th>VIGI</th>\n",
       "      <td>29</td>\n",
       "      <td>2.273410</td>\n",
       "      <td>3.220449</td>\n",
       "      <td>0.656641</td>\n",
       "      <td>4.587566</td>\n",
       "    </tr>\n",
       "    <tr>\n",
       "      <th>FNDE</th>\n",
       "      <td>29</td>\n",
       "      <td>2.478709</td>\n",
       "      <td>4.745456</td>\n",
       "      <td>0.488884</td>\n",
       "      <td>7.045220</td>\n",
       "    </tr>\n",
       "    <tr>\n",
       "      <th>EFG</th>\n",
       "      <td>29</td>\n",
       "      <td>1.744543</td>\n",
       "      <td>3.442884</td>\n",
       "      <td>0.460606</td>\n",
       "      <td>4.537548</td>\n",
       "    </tr>\n",
       "    <tr>\n",
       "      <th>EPP</th>\n",
       "      <td>29</td>\n",
       "      <td>1.765376</td>\n",
       "      <td>3.548809</td>\n",
       "      <td>0.452728</td>\n",
       "      <td>4.599415</td>\n",
       "    </tr>\n",
       "    <tr>\n",
       "      <th>DEM</th>\n",
       "      <td>29</td>\n",
       "      <td>2.016418</td>\n",
       "      <td>4.570851</td>\n",
       "      <td>0.406421</td>\n",
       "      <td>6.447277</td>\n",
       "    </tr>\n",
       "  </tbody>\n",
       "</table>\n",
       "</div>"
      ],
      "text/plain": [
       "         len      mean       std      shrp  drawdown\n",
       "Symbols                                             \n",
       "RSX       29  6.402178  3.643633  1.713523  4.174395\n",
       "EWL       29  3.775342  2.320469  1.558569  3.113807\n",
       "EWA       29  3.120687  2.023173  1.464016  3.100777\n",
       "EFAV      29  2.133655  1.910713  1.033607  2.819624\n",
       "VIGI      29  2.273410  3.220449  0.656641  4.587566\n",
       "FNDE      29  2.478709  4.745456  0.488884  7.045220\n",
       "EFG       29  1.744543  3.442884  0.460606  4.537548\n",
       "EPP       29  1.765376  3.548809  0.452728  4.599415\n",
       "DEM       29  2.016418  4.570851  0.406421  6.447277"
      ]
     },
     "execution_count": 5,
     "metadata": {},
     "output_type": "execute_result"
    }
   ],
   "source": [
    "quote.drop_mask()\n",
    "stat = quote.statistics()\n",
    "stat = stat[(stat['drawdown'] < 8) & (stat['shrp'] > 0.4)]\n",
    "stat"
   ]
  },
  {
   "cell_type": "code",
   "execution_count": 11,
   "metadata": {},
   "outputs": [
    {
     "name": "stdout",
     "output_type": "stream",
     "text": [
      "Populating the interactive namespace from numpy and matplotlib\n",
      "evicted CWI 0.9962177471235963\n",
      "evicted SCHF 0.9998259640089087\n",
      "evicted VEA 0.9996732444683101\n",
      "evicted IEV 0.9996711743870936\n",
      "evicted EFA 0.9992226815812878\n",
      "evicted VGK 0.998060511327045\n",
      "evicted GSIE 0.9983659413817967\n",
      "evicted IDEV 0.9985361863044123\n",
      "evicted SPDW 0.997342574134036\n",
      "evicted FEZ 0.993223333784596\n",
      "evicted RODM 0.9907333969695665\n",
      "evicted PXH 0.9986626738200814\n",
      "evicted IPAC 0.9896079857241044\n",
      "evicted EEMV 0.9964805971855114\n",
      "evicted EFAV 0.977175690217915\n",
      "evicted FNDE 0.9928447650383988\n",
      "evicted DEM 0.9752605688390462\n",
      "evicted VIGI 0.9856072781575201\n",
      "evicted EFG 0.9857108309435014\n",
      "evicted EPP 0.979889920999083\n",
      "evicted EWC 0.8709395776399985\n",
      "evicted EWL 0.9284246444922702\n",
      "evicted EWA 0.8546869841628884\n",
      "{'RSX': 1.0}\n"
     ]
    },
    {
     "data": {
      "text/html": [
       "<div>\n",
       "<style scoped>\n",
       "    .dataframe tbody tr th:only-of-type {\n",
       "        vertical-align: middle;\n",
       "    }\n",
       "\n",
       "    .dataframe tbody tr th {\n",
       "        vertical-align: top;\n",
       "    }\n",
       "\n",
       "    .dataframe thead th {\n",
       "        text-align: right;\n",
       "    }\n",
       "</style>\n",
       "<table border=\"1\" class=\"dataframe\">\n",
       "  <thead>\n",
       "    <tr style=\"text-align: right;\">\n",
       "      <th></th>\n",
       "      <th>count</th>\n",
       "      <th>mean</th>\n",
       "      <th>std</th>\n",
       "      <th>min</th>\n",
       "      <th>25%</th>\n",
       "      <th>50%</th>\n",
       "      <th>75%</th>\n",
       "      <th>max</th>\n",
       "      <th>shrp</th>\n",
       "      <th>drawdown</th>\n",
       "    </tr>\n",
       "  </thead>\n",
       "  <tbody>\n",
       "    <tr>\n",
       "      <th>RSX</th>\n",
       "      <td>29.0</td>\n",
       "      <td>6.402178</td>\n",
       "      <td>3.643633</td>\n",
       "      <td>-0.696386</td>\n",
       "      <td>3.037381</td>\n",
       "      <td>7.845812</td>\n",
       "      <td>9.613616</td>\n",
       "      <td>10.560749</td>\n",
       "      <td>1.713523</td>\n",
       "      <td>4.174395</td>\n",
       "    </tr>\n",
       "    <tr>\n",
       "      <th>Portfolio</th>\n",
       "      <td>29.0</td>\n",
       "      <td>6.402178</td>\n",
       "      <td>3.643633</td>\n",
       "      <td>-0.696386</td>\n",
       "      <td>3.037381</td>\n",
       "      <td>7.845812</td>\n",
       "      <td>9.613616</td>\n",
       "      <td>10.560749</td>\n",
       "      <td>1.713523</td>\n",
       "      <td>4.174395</td>\n",
       "    </tr>\n",
       "  </tbody>\n",
       "</table>\n",
       "</div>"
      ],
      "text/plain": [
       "           count      mean       std       min       25%       50%       75%  \\\n",
       "RSX         29.0  6.402178  3.643633 -0.696386  3.037381  7.845812  9.613616   \n",
       "Portfolio   29.0  6.402178  3.643633 -0.696386  3.037381  7.845812  9.613616   \n",
       "\n",
       "                 max      shrp  drawdown  \n",
       "RSX        10.560749  1.713523  4.174395  \n",
       "Portfolio  10.560749  1.713523  4.174395  "
      ]
     },
     "execution_count": 11,
     "metadata": {},
     "output_type": "execute_result"
    },
    {
     "data": {
      "image/png": "[encoded data removed]",
      "text/plain": [
       "<Figure size 864x576 with 1 Axes>"
      ]
     },
     "metadata": {
      "needs_background": "light"
     },
     "output_type": "display_data"
    }
   ],
   "source": [
    "%pylab inline\n",
    "quote.drop_mask()\n",
    "ratio = quote.optimize_portfolio(stat.index)\n",
    "print(ratio)\n",
    "quote.setup_mask(ratio)\n",
    "quote.graph(ratio)"
   ]
  },
  {
   "cell_type": "code",
   "execution_count": null,
   "metadata": {},
   "outputs": [],
   "source": []
  }
 ],
 "metadata": {
  "kernelspec": {
   "display_name": "Python 3",
   "language": "python",
   "name": "python3"
  },
  "language_info": {
   "codemirror_mode": {
    "name": "ipython",
    "version": 3
   },
   "file_extension": ".py",
   "mimetype": "text/x-python",
   "name": "python",
   "nbconvert_exporter": "python",
   "pygments_lexer": "ipython3",
   "version": "3.7.3"
  }
 },
 "nbformat": 4,
 "nbformat_minor": 2
}
