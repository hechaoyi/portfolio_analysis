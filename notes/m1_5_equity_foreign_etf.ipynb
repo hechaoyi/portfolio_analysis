{
 "cells": [
  {
   "cell_type": "code",
   "execution_count": 1,
   "metadata": {},
   "outputs": [],
   "source": [
    "from requests import post\n",
    "from app.analysis import Quote\n",
    "query = 'query UnknownFile($limit_0:[FundLimitOptionInput!]!) {viewer {...Fe}} fragment Fe on Viewer {_screenFunds4s9d1a:screenFunds(filterCategory:[\"$$\"],limit:$limit_0,first:100) {edges {node {symbol}}}}'\n",
    "variables = {'limit_0':[{'type':'FUND_TOTAL_ASSETS','min':1000000000,'inclusive':True}]}\n",
    "r = post('https://lens.m1finance.com/graphql', json={'query': query.replace('$$', 'Equities\",\"Foreign'), 'variables': variables}).json()\n",
    "symbols = [n['node']['symbol'] for n in r['data']['viewer']['_screenFunds4s9d1a']['edges']]\n",
    "symbols += ['VT']"
   ]
  },
  {
   "cell_type": "code",
   "execution_count": 2,
   "metadata": {},
   "outputs": [
    {
     "data": {
      "text/plain": [
       "'from 2019-04-26 to 2019-07-05 - 76'"
      ]
     },
     "execution_count": 2,
     "metadata": {},
     "output_type": "execute_result"
    }
   ],
   "source": [
    "quote = Quote(symbols, 70, 20)\n",
    "f'from {quote.start.date()} to {quote.end.date()} - {len(quote.data.columns)}'"
   ]
  },
  {
   "cell_type": "code",
   "execution_count": 4,
   "metadata": {},
   "outputs": [
    {
     "name": "stdout",
     "output_type": "stream",
     "text": [
      "11\n"
     ]
    },
    {
     "data": {
      "text/html": [
       "<div>\n",
       "<style scoped>\n",
       "    .dataframe tbody tr th:only-of-type {\n",
       "        vertical-align: middle;\n",
       "    }\n",
       "\n",
       "    .dataframe tbody tr th {\n",
       "        vertical-align: top;\n",
       "    }\n",
       "\n",
       "    .dataframe thead th {\n",
       "        text-align: right;\n",
       "    }\n",
       "</style>\n",
       "<table border=\"1\" class=\"dataframe\">\n",
       "  <thead>\n",
       "    <tr style=\"text-align: right;\">\n",
       "      <th></th>\n",
       "      <th>len</th>\n",
       "      <th>mean</th>\n",
       "      <th>std</th>\n",
       "      <th>shrp</th>\n",
       "      <th>drawdown</th>\n",
       "    </tr>\n",
       "    <tr>\n",
       "      <th>Symbols</th>\n",
       "      <th></th>\n",
       "      <th></th>\n",
       "      <th></th>\n",
       "      <th></th>\n",
       "      <th></th>\n",
       "    </tr>\n",
       "  </thead>\n",
       "  <tbody>\n",
       "    <tr>\n",
       "      <th>RSX</th>\n",
       "      <td>29</td>\n",
       "      <td>6.667911</td>\n",
       "      <td>3.401365</td>\n",
       "      <td>1.913697</td>\n",
       "      <td>4.174395</td>\n",
       "    </tr>\n",
       "    <tr>\n",
       "      <th>EWL</th>\n",
       "      <td>29</td>\n",
       "      <td>3.864106</td>\n",
       "      <td>2.244230</td>\n",
       "      <td>1.651067</td>\n",
       "      <td>3.113807</td>\n",
       "    </tr>\n",
       "    <tr>\n",
       "      <th>EWA</th>\n",
       "      <td>29</td>\n",
       "      <td>3.294464</td>\n",
       "      <td>1.977738</td>\n",
       "      <td>1.585515</td>\n",
       "      <td>3.100777</td>\n",
       "    </tr>\n",
       "    <tr>\n",
       "      <th>EFAV</th>\n",
       "      <td>29</td>\n",
       "      <td>2.241393</td>\n",
       "      <td>1.878006</td>\n",
       "      <td>1.108976</td>\n",
       "      <td>2.819624</td>\n",
       "    </tr>\n",
       "    <tr>\n",
       "      <th>VIGI</th>\n",
       "      <td>29</td>\n",
       "      <td>2.502889</td>\n",
       "      <td>3.134952</td>\n",
       "      <td>0.747750</td>\n",
       "      <td>4.587566</td>\n",
       "    </tr>\n",
       "    <tr>\n",
       "      <th>FNDE</th>\n",
       "      <td>29</td>\n",
       "      <td>2.875824</td>\n",
       "      <td>4.497807</td>\n",
       "      <td>0.604093</td>\n",
       "      <td>7.045220</td>\n",
       "    </tr>\n",
       "    <tr>\n",
       "      <th>EPP</th>\n",
       "      <td>29</td>\n",
       "      <td>2.070127</td>\n",
       "      <td>3.552709</td>\n",
       "      <td>0.538011</td>\n",
       "      <td>4.599415</td>\n",
       "    </tr>\n",
       "    <tr>\n",
       "      <th>EFG</th>\n",
       "      <td>29</td>\n",
       "      <td>1.980660</td>\n",
       "      <td>3.413845</td>\n",
       "      <td>0.533689</td>\n",
       "      <td>4.537548</td>\n",
       "    </tr>\n",
       "    <tr>\n",
       "      <th>DEM</th>\n",
       "      <td>29</td>\n",
       "      <td>2.372966</td>\n",
       "      <td>4.375788</td>\n",
       "      <td>0.506020</td>\n",
       "      <td>6.447277</td>\n",
       "    </tr>\n",
       "    <tr>\n",
       "      <th>RODM</th>\n",
       "      <td>29</td>\n",
       "      <td>1.276020</td>\n",
       "      <td>2.537267</td>\n",
       "      <td>0.440352</td>\n",
       "      <td>3.686791</td>\n",
       "    </tr>\n",
       "    <tr>\n",
       "      <th>FEZ</th>\n",
       "      <td>29</td>\n",
       "      <td>1.836421</td>\n",
       "      <td>3.967890</td>\n",
       "      <td>0.422817</td>\n",
       "      <td>5.862513</td>\n",
       "    </tr>\n",
       "  </tbody>\n",
       "</table>\n",
       "</div>"
      ],
      "text/plain": [
       "         len      mean       std      shrp  drawdown\n",
       "Symbols                                             \n",
       "RSX       29  6.667911  3.401365  1.913697  4.174395\n",
       "EWL       29  3.864106  2.244230  1.651067  3.113807\n",
       "EWA       29  3.294464  1.977738  1.585515  3.100777\n",
       "EFAV      29  2.241393  1.878006  1.108976  2.819624\n",
       "VIGI      29  2.502889  3.134952  0.747750  4.587566\n",
       "FNDE      29  2.875824  4.497807  0.604093  7.045220\n",
       "EPP       29  2.070127  3.552709  0.538011  4.599415\n",
       "EFG       29  1.980660  3.413845  0.533689  4.537548\n",
       "DEM       29  2.372966  4.375788  0.506020  6.447277\n",
       "RODM      29  1.276020  2.537267  0.440352  3.686791\n",
       "FEZ       29  1.836421  3.967890  0.422817  5.862513"
      ]
     },
     "execution_count": 4,
     "metadata": {},
     "output_type": "execute_result"
    }
   ],
   "source": [
    "stat = quote.statistics()\n",
    "stat = stat[(stat['drawdown'] < 8) & (stat['shrp'] > 0.4)]\n",
    "print(len(stat))\n",
    "stat"
   ]
  },
  {
   "cell_type": "code",
   "execution_count": 5,
   "metadata": {},
   "outputs": [
    {
     "name": "stdout",
     "output_type": "stream",
     "text": [
      "Populating the interactive namespace from numpy and matplotlib\n",
      "evicted RODM 0.990892279512472\n",
      "evicted EFAV 0.9772271464763638\n",
      "evicted FNDE 0.9926142888533835\n",
      "evicted DEM 0.9748074367814429\n",
      "evicted VIGI 0.9859384801157058\n",
      "evicted FEZ 0.9931093711043995\n",
      "evicted EFG 0.9832943453877943\n",
      "evicted EPP 0.9037760729963312\n",
      "evicted EWL 0.92275459248016\n",
      "evicted EWA 0.8329753986490606\n",
      "{'RSX': 1.0}\n"
     ]
    },
    {
     "data": {
      "text/html": [
       "<div>\n",
       "<style scoped>\n",
       "    .dataframe tbody tr th:only-of-type {\n",
       "        vertical-align: middle;\n",
       "    }\n",
       "\n",
       "    .dataframe tbody tr th {\n",
       "        vertical-align: top;\n",
       "    }\n",
       "\n",
       "    .dataframe thead th {\n",
       "        text-align: right;\n",
       "    }\n",
       "</style>\n",
       "<table border=\"1\" class=\"dataframe\">\n",
       "  <thead>\n",
       "    <tr style=\"text-align: right;\">\n",
       "      <th></th>\n",
       "      <th>count</th>\n",
       "      <th>mean</th>\n",
       "      <th>std</th>\n",
       "      <th>min</th>\n",
       "      <th>25%</th>\n",
       "      <th>50%</th>\n",
       "      <th>75%</th>\n",
       "      <th>max</th>\n",
       "      <th>shrp</th>\n",
       "      <th>drawdown</th>\n",
       "    </tr>\n",
       "  </thead>\n",
       "  <tbody>\n",
       "    <tr>\n",
       "      <th>Portfolio</th>\n",
       "      <td>29.0</td>\n",
       "      <td>6.667911</td>\n",
       "      <td>3.401365</td>\n",
       "      <td>-0.696386</td>\n",
       "      <td>3.969755</td>\n",
       "      <td>7.845812</td>\n",
       "      <td>9.613616</td>\n",
       "      <td>10.560749</td>\n",
       "      <td>1.913697</td>\n",
       "      <td>4.174395</td>\n",
       "    </tr>\n",
       "    <tr>\n",
       "      <th>RSX</th>\n",
       "      <td>29.0</td>\n",
       "      <td>6.667911</td>\n",
       "      <td>3.401365</td>\n",
       "      <td>-0.696386</td>\n",
       "      <td>3.969755</td>\n",
       "      <td>7.845812</td>\n",
       "      <td>9.613616</td>\n",
       "      <td>10.560749</td>\n",
       "      <td>1.913697</td>\n",
       "      <td>4.174395</td>\n",
       "    </tr>\n",
       "  </tbody>\n",
       "</table>\n",
       "</div>"
      ],
      "text/plain": [
       "           count      mean       std       min       25%       50%       75%  \\\n",
       "Portfolio   29.0  6.667911  3.401365 -0.696386  3.969755  7.845812  9.613616   \n",
       "RSX         29.0  6.667911  3.401365 -0.696386  3.969755  7.845812  9.613616   \n",
       "\n",
       "                 max      shrp  drawdown  \n",
       "Portfolio  10.560749  1.913697  4.174395  \n",
       "RSX        10.560749  1.913697  4.174395  "
      ]
     },
     "execution_count": 5,
     "metadata": {},
     "output_type": "execute_result"
    },
    {
     "data": {
      "image/png": "[encoded data removed]",
      "text/plain": [
       "<Figure size 864x576 with 1 Axes>"
      ]
     },
     "metadata": {
      "needs_background": "light"
     },
     "output_type": "display_data"
    }
   ],
   "source": [
    "%pylab inline\n",
    "quote.drop_mask()\n",
    "ratio = quote.optimize_portfolio(stat.index)\n",
    "print(ratio)\n",
    "quote.setup_mask(ratio)\n",
    "quote.graph(ratio)"
   ]
  },
  {
   "cell_type": "code",
   "execution_count": null,
   "metadata": {},
   "outputs": [],
   "source": []
  }
 ],
 "metadata": {
  "kernelspec": {
   "display_name": "Python 3",
   "language": "python",
   "name": "python3"
  },
  "language_info": {
   "codemirror_mode": {
    "name": "ipython",
    "version": 3
   },
   "file_extension": ".py",
   "mimetype": "text/x-python",
   "name": "python",
   "nbconvert_exporter": "python",
   "pygments_lexer": "ipython3",
   "version": "3.7.3"
  }
 },
 "nbformat": 4,
 "nbformat_minor": 2
}
