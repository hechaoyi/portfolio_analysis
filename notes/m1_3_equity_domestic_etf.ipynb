{
 "cells": [
  {
   "cell_type": "code",
   "execution_count": 1,
   "metadata": {},
   "outputs": [],
   "source": [
    "from requests import post\n",
    "from app.analysis import Quote\n",
    "query = 'query UnknownFile($limit_0:[FundLimitOptionInput!]!) {viewer {...Fe}} fragment Fe on Viewer {_screenFunds4s9d1a:screenFunds(filterCategory:[\"$$\"],limit:$limit_0,first:100) {edges {node {symbol}}}}'\n",
    "variables = {'limit_0':[{'type':'FUND_TOTAL_ASSETS','min':2000000000,'inclusive':True},{'type':'FUND_NET_EXPENSE_RATIO','max':.5,'inclusive':True}]}\n",
    "r = post('https://lens.m1finance.com/graphql', json={'query': query.replace('$$', 'Equities\",\"Domestic'), 'variables': variables}).json()\n",
    "symbols = [n['node']['symbol'] for n in r['data']['viewer']['_screenFunds4s9d1a']['edges']]"
   ]
  },
  {
   "cell_type": "code",
   "execution_count": 2,
   "metadata": {},
   "outputs": [
    {
     "data": {
      "text/plain": [
       "'from 2019-02-26 to 2019-06-26 - 86'"
      ]
     },
     "execution_count": 2,
     "metadata": {},
     "output_type": "execute_result"
    }
   ],
   "source": [
    "quote = Quote(symbols, 120)\n",
    "f'from {quote.start.date()} to {quote.end.date()} - {len(quote.data.columns)}'"
   ]
  },
  {
   "cell_type": "code",
   "execution_count": 3,
   "metadata": {},
   "outputs": [
    {
     "data": {
      "text/html": [
       "<div>\n",
       "<style scoped>\n",
       "    .dataframe tbody tr th:only-of-type {\n",
       "        vertical-align: middle;\n",
       "    }\n",
       "\n",
       "    .dataframe tbody tr th {\n",
       "        vertical-align: top;\n",
       "    }\n",
       "\n",
       "    .dataframe thead th {\n",
       "        text-align: right;\n",
       "    }\n",
       "</style>\n",
       "<table border=\"1\" class=\"dataframe\">\n",
       "  <thead>\n",
       "    <tr style=\"text-align: right;\">\n",
       "      <th></th>\n",
       "      <th>21-len</th>\n",
       "      <th>21-mean</th>\n",
       "      <th>21-std</th>\n",
       "      <th>21-shrp</th>\n",
       "      <th>drawdown</th>\n",
       "    </tr>\n",
       "    <tr>\n",
       "      <th>Symbols</th>\n",
       "      <th></th>\n",
       "      <th></th>\n",
       "      <th></th>\n",
       "      <th></th>\n",
       "      <th></th>\n",
       "    </tr>\n",
       "  </thead>\n",
       "  <tbody>\n",
       "    <tr>\n",
       "      <th>PGX</th>\n",
       "      <td>64</td>\n",
       "      <td>0.801550</td>\n",
       "      <td>0.430560</td>\n",
       "      <td>1.474552</td>\n",
       "      <td>1.237116</td>\n",
       "    </tr>\n",
       "    <tr>\n",
       "      <th>SPLV</th>\n",
       "      <td>64</td>\n",
       "      <td>2.047368</td>\n",
       "      <td>1.367757</td>\n",
       "      <td>1.375025</td>\n",
       "      <td>2.660443</td>\n",
       "    </tr>\n",
       "    <tr>\n",
       "      <th>USMV</th>\n",
       "      <td>64</td>\n",
       "      <td>2.096795</td>\n",
       "      <td>1.684330</td>\n",
       "      <td>1.145933</td>\n",
       "      <td>2.180427</td>\n",
       "    </tr>\n",
       "    <tr>\n",
       "      <th>PFF</th>\n",
       "      <td>64</td>\n",
       "      <td>0.800996</td>\n",
       "      <td>0.671894</td>\n",
       "      <td>0.944091</td>\n",
       "      <td>1.003023</td>\n",
       "    </tr>\n",
       "    <tr>\n",
       "      <th>MTUM</th>\n",
       "      <td>64</td>\n",
       "      <td>1.999969</td>\n",
       "      <td>2.004367</td>\n",
       "      <td>0.914654</td>\n",
       "      <td>2.859384</td>\n",
       "    </tr>\n",
       "    <tr>\n",
       "      <th>XMLV</th>\n",
       "      <td>64</td>\n",
       "      <td>1.225758</td>\n",
       "      <td>1.527458</td>\n",
       "      <td>0.693368</td>\n",
       "      <td>3.688597</td>\n",
       "    </tr>\n",
       "    <tr>\n",
       "      <th>VIG</th>\n",
       "      <td>64</td>\n",
       "      <td>1.594973</td>\n",
       "      <td>2.414588</td>\n",
       "      <td>0.591532</td>\n",
       "      <td>4.634193</td>\n",
       "    </tr>\n",
       "    <tr>\n",
       "      <th>VOT</th>\n",
       "      <td>64</td>\n",
       "      <td>1.545600</td>\n",
       "      <td>3.106564</td>\n",
       "      <td>0.443877</td>\n",
       "      <td>5.627908</td>\n",
       "    </tr>\n",
       "    <tr>\n",
       "      <th>VOOG</th>\n",
       "      <td>64</td>\n",
       "      <td>1.389283</td>\n",
       "      <td>2.839960</td>\n",
       "      <td>0.430505</td>\n",
       "      <td>6.391444</td>\n",
       "    </tr>\n",
       "    <tr>\n",
       "      <th>SPYG</th>\n",
       "      <td>64</td>\n",
       "      <td>1.376953</td>\n",
       "      <td>2.821344</td>\n",
       "      <td>0.428975</td>\n",
       "      <td>6.359871</td>\n",
       "    </tr>\n",
       "    <tr>\n",
       "      <th>IVW</th>\n",
       "      <td>64</td>\n",
       "      <td>1.368477</td>\n",
       "      <td>2.823798</td>\n",
       "      <td>0.425601</td>\n",
       "      <td>6.382862</td>\n",
       "    </tr>\n",
       "    <tr>\n",
       "      <th>IUSG</th>\n",
       "      <td>64</td>\n",
       "      <td>1.333329</td>\n",
       "      <td>2.838618</td>\n",
       "      <td>0.410997</td>\n",
       "      <td>6.410461</td>\n",
       "    </tr>\n",
       "  </tbody>\n",
       "</table>\n",
       "</div>"
      ],
      "text/plain": [
       "         21-len   21-mean    21-std   21-shrp  drawdown\n",
       "Symbols                                                \n",
       "PGX          64  0.801550  0.430560  1.474552  1.237116\n",
       "SPLV         64  2.047368  1.367757  1.375025  2.660443\n",
       "USMV         64  2.096795  1.684330  1.145933  2.180427\n",
       "PFF          64  0.800996  0.671894  0.944091  1.003023\n",
       "MTUM         64  1.999969  2.004367  0.914654  2.859384\n",
       "XMLV         64  1.225758  1.527458  0.693368  3.688597\n",
       "VIG          64  1.594973  2.414588  0.591532  4.634193\n",
       "VOT          64  1.545600  3.106564  0.443877  5.627908\n",
       "VOOG         64  1.389283  2.839960  0.430505  6.391444\n",
       "SPYG         64  1.376953  2.821344  0.428975  6.359871\n",
       "IVW          64  1.368477  2.823798  0.425601  6.382862\n",
       "IUSG         64  1.333329  2.838618  0.410997  6.410461"
      ]
     },
     "execution_count": 3,
     "metadata": {},
     "output_type": "execute_result"
    }
   ],
   "source": [
    "stat = quote.statistics(21)\n",
    "stat = stat[(stat['drawdown'] < 8) & (stat['21-shrp'] > 0.4)]\n",
    "stat"
   ]
  },
  {
   "cell_type": "code",
   "execution_count": 4,
   "metadata": {},
   "outputs": [
    {
     "name": "stdout",
     "output_type": "stream",
     "text": [
      "['PGX'] -0.4271286042448976 0.6 0.24742325575833032 1.4745518600032281\n",
      "['PGX', 'SPLV'] -0.5453048111280064 0.48972787663328 0.38975592885216226 1.4247886166134487\n"
     ]
    },
    {
     "data": {
      "text/plain": [
       "['PGX', 'SPLV']"
      ]
     },
     "execution_count": 4,
     "metadata": {},
     "output_type": "execute_result"
    }
   ],
   "source": [
    "quote.setup_mask(stat.index)\n",
    "quote.least_correlated_portfolio(21, 2)"
   ]
  },
  {
   "cell_type": "code",
   "execution_count": 20,
   "metadata": {},
   "outputs": [
    {
     "data": {
      "text/plain": [
       "({'PGX': 0.19, 'SPLV': 0.71}, 1.6, 1.0083)"
      ]
     },
     "execution_count": 20,
     "metadata": {},
     "output_type": "execute_result"
    }
   ],
   "source": [
    "quote.setup_mask(['PGX', 'SPLV'])\n",
    "quote.optimize(21, 1.6, .9)"
   ]
  },
  {
   "cell_type": "code",
   "execution_count": 16,
   "metadata": {},
   "outputs": [
    {
     "name": "stdout",
     "output_type": "stream",
     "text": [
      "Populating the interactive namespace from numpy and matplotlib\n"
     ]
    },
    {
     "data": {
      "text/html": [
       "<div>\n",
       "<style scoped>\n",
       "    .dataframe tbody tr th:only-of-type {\n",
       "        vertical-align: middle;\n",
       "    }\n",
       "\n",
       "    .dataframe tbody tr th {\n",
       "        vertical-align: top;\n",
       "    }\n",
       "\n",
       "    .dataframe thead th {\n",
       "        text-align: right;\n",
       "    }\n",
       "</style>\n",
       "<table border=\"1\" class=\"dataframe\">\n",
       "  <thead>\n",
       "    <tr style=\"text-align: right;\">\n",
       "      <th></th>\n",
       "      <th>count</th>\n",
       "      <th>mean</th>\n",
       "      <th>std</th>\n",
       "      <th>min</th>\n",
       "      <th>25%</th>\n",
       "      <th>50%</th>\n",
       "      <th>75%</th>\n",
       "      <th>max</th>\n",
       "      <th>shrp</th>\n",
       "      <th>drawdown</th>\n",
       "    </tr>\n",
       "  </thead>\n",
       "  <tbody>\n",
       "    <tr>\n",
       "      <th>PGX</th>\n",
       "      <td>64.0</td>\n",
       "      <td>0.801550</td>\n",
       "      <td>0.430560</td>\n",
       "      <td>-0.362675</td>\n",
       "      <td>0.515299</td>\n",
       "      <td>0.903745</td>\n",
       "      <td>1.080485</td>\n",
       "      <td>1.719729</td>\n",
       "      <td>1.474552</td>\n",
       "      <td>1.237116</td>\n",
       "    </tr>\n",
       "    <tr>\n",
       "      <th>Portfolio</th>\n",
       "      <td>64.0</td>\n",
       "      <td>1.799837</td>\n",
       "      <td>1.141490</td>\n",
       "      <td>-0.568968</td>\n",
       "      <td>1.128444</td>\n",
       "      <td>1.715720</td>\n",
       "      <td>2.543455</td>\n",
       "      <td>4.224063</td>\n",
       "      <td>1.430735</td>\n",
       "      <td>2.207128</td>\n",
       "    </tr>\n",
       "    <tr>\n",
       "      <th>SPLV</th>\n",
       "      <td>64.0</td>\n",
       "      <td>2.047368</td>\n",
       "      <td>1.367757</td>\n",
       "      <td>-0.950251</td>\n",
       "      <td>1.191957</td>\n",
       "      <td>1.930746</td>\n",
       "      <td>2.964536</td>\n",
       "      <td>4.955302</td>\n",
       "      <td>1.375025</td>\n",
       "      <td>2.660443</td>\n",
       "    </tr>\n",
       "  </tbody>\n",
       "</table>\n",
       "</div>"
      ],
      "text/plain": [
       "           count      mean       std       min       25%       50%       75%  \\\n",
       "PGX         64.0  0.801550  0.430560 -0.362675  0.515299  0.903745  1.080485   \n",
       "Portfolio   64.0  1.799837  1.141490 -0.568968  1.128444  1.715720  2.543455   \n",
       "SPLV        64.0  2.047368  1.367757 -0.950251  1.191957  1.930746  2.964536   \n",
       "\n",
       "                max      shrp  drawdown  \n",
       "PGX        1.719729  1.474552  1.237116  \n",
       "Portfolio  4.224063  1.430735  2.207128  \n",
       "SPLV       4.955302  1.375025  2.660443  "
      ]
     },
     "execution_count": 16,
     "metadata": {},
     "output_type": "execute_result"
    },
    {
     "data": {
      "image/png": "[encoded data removed]",
      "text/plain": [
       "<Figure size 864x576 with 1 Axes>"
      ]
     },
     "metadata": {
      "needs_background": "light"
     },
     "output_type": "display_data"
    }
   ],
   "source": [
    "%pylab inline\n",
    "quote.setup_mask(['PGX', 'SPLV'])\n",
    "quote.graph(21, {'PGX': .2, 'SPLV': .8})"
   ]
  },
  {
   "cell_type": "code",
   "execution_count": null,
   "metadata": {},
   "outputs": [],
   "source": []
  }
 ],
 "metadata": {
  "kernelspec": {
   "display_name": "Python 3",
   "language": "python",
   "name": "python3"
  },
  "language_info": {
   "codemirror_mode": {
    "name": "ipython",
    "version": 3
   },
   "file_extension": ".py",
   "mimetype": "text/x-python",
   "name": "python",
   "nbconvert_exporter": "python",
   "pygments_lexer": "ipython3",
   "version": "3.7.3"
  }
 },
 "nbformat": 4,
 "nbformat_minor": 2
}
