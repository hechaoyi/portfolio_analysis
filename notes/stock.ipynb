{
 "cells": [
  {
   "cell_type": "code",
   "execution_count": 1,
   "metadata": {},
   "outputs": [
    {
     "data": {
      "text/plain": [
       "'from 2019-02-20 to 2019-06-19'"
      ]
     },
     "execution_count": 1,
     "metadata": {},
     "output_type": "execute_result"
    }
   ],
   "source": [
    "from app import create_app\n",
    "from app.instrument import Instrument\n",
    "from app.analysis import Quote\n",
    "mappings= {'BRK.B': 'BRK-B'}\n",
    "with create_app().app_context():\n",
    "    provided = ['SPLV']\n",
    "    quote = Quote([b.symbol if b.symbol not in mappings else mappings[b.symbol]\n",
    "                   for b in Instrument.find_stocks(200)] + provided, 120)\n",
    "f'from {quote.start.date()} to {quote.end.date()}'"
   ]
  },
  {
   "cell_type": "code",
   "execution_count": 2,
   "metadata": {},
   "outputs": [
    {
     "data": {
      "text/html": [
       "<div>\n",
       "<style scoped>\n",
       "    .dataframe tbody tr th:only-of-type {\n",
       "        vertical-align: middle;\n",
       "    }\n",
       "\n",
       "    .dataframe tbody tr th {\n",
       "        vertical-align: top;\n",
       "    }\n",
       "\n",
       "    .dataframe thead th {\n",
       "        text-align: right;\n",
       "    }\n",
       "</style>\n",
       "<table border=\"1\" class=\"dataframe\">\n",
       "  <thead>\n",
       "    <tr style=\"text-align: right;\">\n",
       "      <th></th>\n",
       "      <th>21-len</th>\n",
       "      <th>21-mean</th>\n",
       "      <th>21-std</th>\n",
       "      <th>21-shrp</th>\n",
       "      <th>drawdown</th>\n",
       "    </tr>\n",
       "    <tr>\n",
       "      <th>symbol</th>\n",
       "      <th></th>\n",
       "      <th></th>\n",
       "      <th></th>\n",
       "      <th></th>\n",
       "      <th></th>\n",
       "    </tr>\n",
       "  </thead>\n",
       "  <tbody>\n",
       "    <tr>\n",
       "      <th>MCD</th>\n",
       "      <td>63</td>\n",
       "      <td>3.505342</td>\n",
       "      <td>1.483910</td>\n",
       "      <td>2.249917</td>\n",
       "      <td>2.999189</td>\n",
       "    </tr>\n",
       "    <tr>\n",
       "      <th>KO</th>\n",
       "      <td>63</td>\n",
       "      <td>3.762449</td>\n",
       "      <td>1.651886</td>\n",
       "      <td>2.176774</td>\n",
       "      <td>3.383612</td>\n",
       "    </tr>\n",
       "    <tr>\n",
       "      <th>MA</th>\n",
       "      <td>63</td>\n",
       "      <td>4.425920</td>\n",
       "      <td>1.991565</td>\n",
       "      <td>2.138646</td>\n",
       "      <td>5.698715</td>\n",
       "    </tr>\n",
       "    <tr>\n",
       "      <th>WM</th>\n",
       "      <td>63</td>\n",
       "      <td>3.855504</td>\n",
       "      <td>2.004496</td>\n",
       "      <td>1.840282</td>\n",
       "      <td>3.316670</td>\n",
       "    </tr>\n",
       "    <tr>\n",
       "      <th>SHOP</th>\n",
       "      <td>63</td>\n",
       "      <td>14.976647</td>\n",
       "      <td>8.779361</td>\n",
       "      <td>1.686909</td>\n",
       "      <td>6.171441</td>\n",
       "    </tr>\n",
       "    <tr>\n",
       "      <th>SBUX</th>\n",
       "      <td>63</td>\n",
       "      <td>4.244580</td>\n",
       "      <td>2.771162</td>\n",
       "      <td>1.471553</td>\n",
       "      <td>4.600177</td>\n",
       "    </tr>\n",
       "    <tr>\n",
       "      <th>V</th>\n",
       "      <td>63</td>\n",
       "      <td>3.658915</td>\n",
       "      <td>2.438217</td>\n",
       "      <td>1.432296</td>\n",
       "      <td>4.317947</td>\n",
       "    </tr>\n",
       "    <tr>\n",
       "      <th>PYPL</th>\n",
       "      <td>63</td>\n",
       "      <td>4.878460</td>\n",
       "      <td>3.393191</td>\n",
       "      <td>1.388602</td>\n",
       "      <td>7.332924</td>\n",
       "    </tr>\n",
       "    <tr>\n",
       "      <th>SPLV</th>\n",
       "      <td>63</td>\n",
       "      <td>1.985890</td>\n",
       "      <td>1.324020</td>\n",
       "      <td>1.374015</td>\n",
       "      <td>1.971359</td>\n",
       "    </tr>\n",
       "    <tr>\n",
       "      <th>ENPH</th>\n",
       "      <td>63</td>\n",
       "      <td>24.845817</td>\n",
       "      <td>18.096010</td>\n",
       "      <td>1.363790</td>\n",
       "      <td>6.875384</td>\n",
       "    </tr>\n",
       "    <tr>\n",
       "      <th>PG</th>\n",
       "      <td>63</td>\n",
       "      <td>2.693403</td>\n",
       "      <td>1.909286</td>\n",
       "      <td>1.323393</td>\n",
       "      <td>4.809916</td>\n",
       "    </tr>\n",
       "    <tr>\n",
       "      <th>ZNGA</th>\n",
       "      <td>63</td>\n",
       "      <td>6.283886</td>\n",
       "      <td>4.715015</td>\n",
       "      <td>1.297391</td>\n",
       "      <td>7.241911</td>\n",
       "    </tr>\n",
       "    <tr>\n",
       "      <th>MSFT</th>\n",
       "      <td>63</td>\n",
       "      <td>4.642487</td>\n",
       "      <td>3.708225</td>\n",
       "      <td>1.206998</td>\n",
       "      <td>7.903950</td>\n",
       "    </tr>\n",
       "    <tr>\n",
       "      <th>NTDOY</th>\n",
       "      <td>63</td>\n",
       "      <td>8.704111</td>\n",
       "      <td>7.122233</td>\n",
       "      <td>1.198703</td>\n",
       "      <td>7.386102</td>\n",
       "    </tr>\n",
       "    <tr>\n",
       "      <th>COST</th>\n",
       "      <td>63</td>\n",
       "      <td>4.021847</td>\n",
       "      <td>4.066135</td>\n",
       "      <td>0.948119</td>\n",
       "      <td>4.141160</td>\n",
       "    </tr>\n",
       "    <tr>\n",
       "      <th>WMT</th>\n",
       "      <td>63</td>\n",
       "      <td>2.473741</td>\n",
       "      <td>3.060050</td>\n",
       "      <td>0.753933</td>\n",
       "      <td>3.342026</td>\n",
       "    </tr>\n",
       "    <tr>\n",
       "      <th>DIS</th>\n",
       "      <td>63</td>\n",
       "      <td>6.543168</td>\n",
       "      <td>9.831644</td>\n",
       "      <td>0.648569</td>\n",
       "      <td>6.132075</td>\n",
       "    </tr>\n",
       "    <tr>\n",
       "      <th>CMCSA</th>\n",
       "      <td>63</td>\n",
       "      <td>2.775581</td>\n",
       "      <td>4.068174</td>\n",
       "      <td>0.641299</td>\n",
       "      <td>5.925586</td>\n",
       "    </tr>\n",
       "    <tr>\n",
       "      <th>KMI</th>\n",
       "      <td>63</td>\n",
       "      <td>1.670178</td>\n",
       "      <td>2.465693</td>\n",
       "      <td>0.609772</td>\n",
       "      <td>5.044074</td>\n",
       "    </tr>\n",
       "    <tr>\n",
       "      <th>TMUS</th>\n",
       "      <td>63</td>\n",
       "      <td>1.707776</td>\n",
       "      <td>2.798109</td>\n",
       "      <td>0.550768</td>\n",
       "      <td>6.194916</td>\n",
       "    </tr>\n",
       "    <tr>\n",
       "      <th>T</th>\n",
       "      <td>63</td>\n",
       "      <td>2.160706</td>\n",
       "      <td>3.729847</td>\n",
       "      <td>0.534617</td>\n",
       "      <td>6.046512</td>\n",
       "    </tr>\n",
       "  </tbody>\n",
       "</table>\n",
       "</div>"
      ],
      "text/plain": [
       "        21-len    21-mean     21-std   21-shrp  drawdown\n",
       "symbol                                                  \n",
       "MCD         63   3.505342   1.483910  2.249917  2.999189\n",
       "KO          63   3.762449   1.651886  2.176774  3.383612\n",
       "MA          63   4.425920   1.991565  2.138646  5.698715\n",
       "WM          63   3.855504   2.004496  1.840282  3.316670\n",
       "SHOP        63  14.976647   8.779361  1.686909  6.171441\n",
       "SBUX        63   4.244580   2.771162  1.471553  4.600177\n",
       "V           63   3.658915   2.438217  1.432296  4.317947\n",
       "PYPL        63   4.878460   3.393191  1.388602  7.332924\n",
       "SPLV        63   1.985890   1.324020  1.374015  1.971359\n",
       "ENPH        63  24.845817  18.096010  1.363790  6.875384\n",
       "PG          63   2.693403   1.909286  1.323393  4.809916\n",
       "ZNGA        63   6.283886   4.715015  1.297391  7.241911\n",
       "MSFT        63   4.642487   3.708225  1.206998  7.903950\n",
       "NTDOY       63   8.704111   7.122233  1.198703  7.386102\n",
       "COST        63   4.021847   4.066135  0.948119  4.141160\n",
       "WMT         63   2.473741   3.060050  0.753933  3.342026\n",
       "DIS         63   6.543168   9.831644  0.648569  6.132075\n",
       "CMCSA       63   2.775581   4.068174  0.641299  5.925586\n",
       "KMI         63   1.670178   2.465693  0.609772  5.044074\n",
       "TMUS        63   1.707776   2.798109  0.550768  6.194916\n",
       "T           63   2.160706   3.729847  0.534617  6.046512"
      ]
     },
     "execution_count": 2,
     "metadata": {},
     "output_type": "execute_result"
    }
   ],
   "source": [
    "stat = quote.statistics(21)\n",
    "stat = stat[(stat['drawdown'] < 8) & (stat['21-mean'] > 0.8)]\n",
    "stat"
   ]
  },
  {
   "cell_type": "code",
   "execution_count": 3,
   "metadata": {},
   "outputs": [
    {
     "name": "stdout",
     "output_type": "stream",
     "text": [
      "['SPLV', 'MCD', 'KO'] 7.723907079019269 3.3191065255877383 2.0651040600314374 -7.174722212281957\n",
      "['SPLV', 'MCD', 'WM'] 7.620380695523838 3.1258740042822266 2.0517156535269523 -6.838229927148425\n",
      "['SPLV', 'MCD', 'SHOP'] 6.696077503493903 1.4451275076859824 2.6226698214873734 -6.684856797827555\n",
      "['SPLV', 'MCD', 'ENPH'] 6.547890227034438 0.9278971257045727 2.763458413485602 -6.361737678317116\n"
     ]
    },
    {
     "data": {
      "text/plain": [
       "['SPLV', 'MCD', 'ENPH']"
      ]
     },
     "execution_count": 3,
     "metadata": {},
     "output_type": "execute_result"
    }
   ],
   "source": [
    "quote.setup_mask([*stat.index, *provided])\n",
    "quote.least_correlated_portfolio(21, 3, provided, cr=2, dr=4)"
   ]
  },
  {
   "cell_type": "code",
   "execution_count": 4,
   "metadata": {},
   "outputs": [
    {
     "name": "stdout",
     "output_type": "stream",
     "text": [
      "     fun: 1.7614482449151982\n",
      "     jac: array([3.61105521, 3.51964207])\n",
      " message: 'Optimization terminated successfully.'\n",
      "    nfev: 8\n",
      "     nit: 2\n",
      "    njev: 2\n",
      "  status: 0\n",
      " success: True\n",
      "       x: array([0.03560364, 0.96439636])\n"
     ]
    },
    {
     "name": "stderr",
     "output_type": "stream",
     "text": [
      "/Users/chaoyi/.local/share/virtualenvs/portfolio_analysis-bdMx2S3t/lib/python3.7/site-packages/scipy/optimize/minpack.py:162: RuntimeWarning: The iteration is not making good progress, as measured by the \n",
      "  improvement from the last five Jacobian evaluations.\n",
      "  warnings.warn(msg, RuntimeWarning)\n"
     ]
    },
    {
     "data": {
      "text/plain": [
       "({'ENPH': 0.035603640401568604, 'MCD': 0.9643963595984314}, 4.2651, 1.3272)"
      ]
     },
     "execution_count": 4,
     "metadata": {},
     "output_type": "execute_result"
    }
   ],
   "source": [
    "quote.setup_mask(['ENPH', 'MCD'])\n",
    "quote.find_optimal_ratio(21, 8)"
   ]
  },
  {
   "cell_type": "code",
   "execution_count": null,
   "metadata": {},
   "outputs": [],
   "source": [
    "%pylab inline\n",
    "quote.graph(21, {'MCD': 0.96, 'ENPH': 0.04})"
   ]
  },
  {
   "cell_type": "code",
   "execution_count": null,
   "metadata": {},
   "outputs": [],
   "source": []
  }
 ],
 "metadata": {
  "kernelspec": {
   "display_name": "Python 3",
   "language": "python",
   "name": "python3"
  },
  "language_info": {
   "codemirror_mode": {
    "name": "ipython",
    "version": 3
   },
   "file_extension": ".py",
   "mimetype": "text/x-python",
   "name": "python",
   "nbconvert_exporter": "python",
   "pygments_lexer": "ipython3",
   "version": "3.7.3"
  }
 },
 "nbformat": 4,
 "nbformat_minor": 2
}
