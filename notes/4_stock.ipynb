{
 "cells": [
  {
   "cell_type": "code",
   "execution_count": 1,
   "metadata": {},
   "outputs": [
    {
     "data": {
      "text/plain": [
       "'from 2019-02-20 to 2019-06-20'"
      ]
     },
     "execution_count": 1,
     "metadata": {},
     "output_type": "execute_result"
    }
   ],
   "source": [
    "from app import create_app\n",
    "from app.instrument import Instrument\n",
    "from app.analysis import Quote\n",
    "mappings= {'BRK.B': 'BRK-B'}\n",
    "with create_app().app_context():\n",
    "    provided = ['SPLV']\n",
    "    quote = Quote([b.symbol if b.symbol not in mappings else mappings[b.symbol]\n",
    "                   for b in Instrument.find_stocks(200)] + provided, 120)\n",
    "f'from {quote.start.date()} to {quote.end.date()}'"
   ]
  },
  {
   "cell_type": "code",
   "execution_count": 16,
   "metadata": {},
   "outputs": [
    {
     "data": {
      "text/html": [
       "<div>\n",
       "<style scoped>\n",
       "    .dataframe tbody tr th:only-of-type {\n",
       "        vertical-align: middle;\n",
       "    }\n",
       "\n",
       "    .dataframe tbody tr th {\n",
       "        vertical-align: top;\n",
       "    }\n",
       "\n",
       "    .dataframe thead th {\n",
       "        text-align: right;\n",
       "    }\n",
       "</style>\n",
       "<table border=\"1\" class=\"dataframe\">\n",
       "  <thead>\n",
       "    <tr style=\"text-align: right;\">\n",
       "      <th></th>\n",
       "      <th>21-len</th>\n",
       "      <th>21-mean</th>\n",
       "      <th>21-std</th>\n",
       "      <th>21-shrp</th>\n",
       "      <th>drawdown</th>\n",
       "    </tr>\n",
       "    <tr>\n",
       "      <th>Symbols</th>\n",
       "      <th></th>\n",
       "      <th></th>\n",
       "      <th></th>\n",
       "      <th></th>\n",
       "      <th></th>\n",
       "    </tr>\n",
       "  </thead>\n",
       "  <tbody>\n",
       "    <tr>\n",
       "      <th>MCD</th>\n",
       "      <td>64</td>\n",
       "      <td>3.501918</td>\n",
       "      <td>1.472278</td>\n",
       "      <td>2.265368</td>\n",
       "      <td>2.999196</td>\n",
       "    </tr>\n",
       "    <tr>\n",
       "      <th>MA</th>\n",
       "      <td>64</td>\n",
       "      <td>4.426696</td>\n",
       "      <td>1.975705</td>\n",
       "      <td>2.156208</td>\n",
       "      <td>5.698715</td>\n",
       "    </tr>\n",
       "    <tr>\n",
       "      <th>KO</th>\n",
       "      <td>64</td>\n",
       "      <td>3.814283</td>\n",
       "      <td>1.691957</td>\n",
       "      <td>2.155857</td>\n",
       "      <td>3.383609</td>\n",
       "    </tr>\n",
       "    <tr>\n",
       "      <th>WM</th>\n",
       "      <td>64</td>\n",
       "      <td>3.900462</td>\n",
       "      <td>2.020398</td>\n",
       "      <td>1.848050</td>\n",
       "      <td>3.316666</td>\n",
       "    </tr>\n",
       "    <tr>\n",
       "      <th>SHOP</th>\n",
       "      <td>64</td>\n",
       "      <td>15.058791</td>\n",
       "      <td>8.734161</td>\n",
       "      <td>1.705043</td>\n",
       "      <td>6.171438</td>\n",
       "    </tr>\n",
       "    <tr>\n",
       "      <th>SBUX</th>\n",
       "      <td>64</td>\n",
       "      <td>4.323446</td>\n",
       "      <td>2.818152</td>\n",
       "      <td>1.475002</td>\n",
       "      <td>4.600183</td>\n",
       "    </tr>\n",
       "    <tr>\n",
       "      <th>V</th>\n",
       "      <td>64</td>\n",
       "      <td>3.696686</td>\n",
       "      <td>2.436573</td>\n",
       "      <td>1.448764</td>\n",
       "      <td>4.317938</td>\n",
       "    </tr>\n",
       "    <tr>\n",
       "      <th>PYPL</th>\n",
       "      <td>64</td>\n",
       "      <td>4.891330</td>\n",
       "      <td>3.366749</td>\n",
       "      <td>1.403331</td>\n",
       "      <td>7.332929</td>\n",
       "    </tr>\n",
       "    <tr>\n",
       "      <th>ENPH</th>\n",
       "      <td>64</td>\n",
       "      <td>24.827225</td>\n",
       "      <td>17.952433</td>\n",
       "      <td>1.373661</td>\n",
       "      <td>6.875388</td>\n",
       "    </tr>\n",
       "    <tr>\n",
       "      <th>SPLV</th>\n",
       "      <td>64</td>\n",
       "      <td>1.967792</td>\n",
       "      <td>1.337420</td>\n",
       "      <td>1.346717</td>\n",
       "      <td>1.971361</td>\n",
       "    </tr>\n",
       "    <tr>\n",
       "      <th>PG</th>\n",
       "      <td>64</td>\n",
       "      <td>2.730591</td>\n",
       "      <td>1.916744</td>\n",
       "      <td>1.337646</td>\n",
       "      <td>4.809913</td>\n",
       "    </tr>\n",
       "    <tr>\n",
       "      <th>ZNGA</th>\n",
       "      <td>64</td>\n",
       "      <td>6.160376</td>\n",
       "      <td>4.780668</td>\n",
       "      <td>1.253739</td>\n",
       "      <td>7.241908</td>\n",
       "    </tr>\n",
       "    <tr>\n",
       "      <th>MSFT</th>\n",
       "      <td>64</td>\n",
       "      <td>4.695399</td>\n",
       "      <td>3.700023</td>\n",
       "      <td>1.223974</td>\n",
       "      <td>7.899243</td>\n",
       "    </tr>\n",
       "    <tr>\n",
       "      <th>NTDOY</th>\n",
       "      <td>64</td>\n",
       "      <td>8.631589</td>\n",
       "      <td>7.088675</td>\n",
       "      <td>1.194147</td>\n",
       "      <td>7.386100</td>\n",
       "    </tr>\n",
       "    <tr>\n",
       "      <th>COST</th>\n",
       "      <td>64</td>\n",
       "      <td>4.068931</td>\n",
       "      <td>4.049781</td>\n",
       "      <td>0.963574</td>\n",
       "      <td>4.141156</td>\n",
       "    </tr>\n",
       "    <tr>\n",
       "      <th>WMT</th>\n",
       "      <td>64</td>\n",
       "      <td>2.576460</td>\n",
       "      <td>3.147104</td>\n",
       "      <td>0.765718</td>\n",
       "      <td>3.343207</td>\n",
       "    </tr>\n",
       "    <tr>\n",
       "      <th>DIS</th>\n",
       "      <td>64</td>\n",
       "      <td>6.533336</td>\n",
       "      <td>9.753620</td>\n",
       "      <td>0.652749</td>\n",
       "      <td>6.132077</td>\n",
       "    </tr>\n",
       "    <tr>\n",
       "      <th>CMCSA</th>\n",
       "      <td>64</td>\n",
       "      <td>2.745926</td>\n",
       "      <td>4.042228</td>\n",
       "      <td>0.638079</td>\n",
       "      <td>5.925590</td>\n",
       "    </tr>\n",
       "    <tr>\n",
       "      <th>KMI</th>\n",
       "      <td>64</td>\n",
       "      <td>1.699988</td>\n",
       "      <td>2.460253</td>\n",
       "      <td>0.623237</td>\n",
       "      <td>5.044082</td>\n",
       "    </tr>\n",
       "    <tr>\n",
       "      <th>TMUS</th>\n",
       "      <td>64</td>\n",
       "      <td>1.696889</td>\n",
       "      <td>2.777179</td>\n",
       "      <td>0.550999</td>\n",
       "      <td>6.194914</td>\n",
       "    </tr>\n",
       "    <tr>\n",
       "      <th>T</th>\n",
       "      <td>64</td>\n",
       "      <td>2.131050</td>\n",
       "      <td>3.706510</td>\n",
       "      <td>0.529982</td>\n",
       "      <td>6.046514</td>\n",
       "    </tr>\n",
       "  </tbody>\n",
       "</table>\n",
       "</div>"
      ],
      "text/plain": [
       "         21-len    21-mean     21-std   21-shrp  drawdown\n",
       "Symbols                                                  \n",
       "MCD          64   3.501918   1.472278  2.265368  2.999196\n",
       "MA           64   4.426696   1.975705  2.156208  5.698715\n",
       "KO           64   3.814283   1.691957  2.155857  3.383609\n",
       "WM           64   3.900462   2.020398  1.848050  3.316666\n",
       "SHOP         64  15.058791   8.734161  1.705043  6.171438\n",
       "SBUX         64   4.323446   2.818152  1.475002  4.600183\n",
       "V            64   3.696686   2.436573  1.448764  4.317938\n",
       "PYPL         64   4.891330   3.366749  1.403331  7.332929\n",
       "ENPH         64  24.827225  17.952433  1.373661  6.875388\n",
       "SPLV         64   1.967792   1.337420  1.346717  1.971361\n",
       "PG           64   2.730591   1.916744  1.337646  4.809913\n",
       "ZNGA         64   6.160376   4.780668  1.253739  7.241908\n",
       "MSFT         64   4.695399   3.700023  1.223974  7.899243\n",
       "NTDOY        64   8.631589   7.088675  1.194147  7.386100\n",
       "COST         64   4.068931   4.049781  0.963574  4.141156\n",
       "WMT          64   2.576460   3.147104  0.765718  3.343207\n",
       "DIS          64   6.533336   9.753620  0.652749  6.132077\n",
       "CMCSA        64   2.745926   4.042228  0.638079  5.925590\n",
       "KMI          64   1.699988   2.460253  0.623237  5.044082\n",
       "TMUS         64   1.696889   2.777179  0.550999  6.194914\n",
       "T            64   2.131050   3.706510  0.529982  6.046514"
      ]
     },
     "execution_count": 16,
     "metadata": {},
     "output_type": "execute_result"
    }
   ],
   "source": [
    "stat = quote.statistics(21)\n",
    "stat = stat[(stat['drawdown'] < 8) & (stat['21-mean'] > 0.8)]\n",
    "stat"
   ]
  },
  {
   "cell_type": "code",
   "execution_count": 20,
   "metadata": {},
   "outputs": [
    {
     "name": "stdout",
     "output_type": "stream",
     "text": [
      "['SPLV', 'MCD', 'MA'] 12.931332779731331 3.3112784642632613 2.528126554260313 -7.1150088300997085\n",
      "['SPLV', 'MCD', 'KO'] 11.186207527754444 3.3468147074754366 2.0651053446844507 -7.114657973409667\n",
      "['SPLV', 'MCD', 'WM'] 10.86921937734894 3.156400937835814 2.051716781232609 -6.806850561088936\n",
      "['SPLV', 'MCD', 'SHOP'] 8.392921389277411 1.5220270926899708 2.622671139547676 -6.663844446983206\n",
      "['SPLV', 'MCD', 'ENPH'] 7.601442042902912 0.9600198114606115 2.763461171279085 -6.332462076595263\n"
     ]
    },
    {
     "data": {
      "text/plain": [
       "['SPLV', 'MCD', 'ENPH']"
      ]
     },
     "execution_count": 20,
     "metadata": {},
     "output_type": "execute_result"
    }
   ],
   "source": [
    "quote.setup_mask([*stat.index, *provided])\n",
    "quote.least_correlated_portfolio(21, 3, provided, cr=3, dr=4)"
   ]
  },
  {
   "cell_type": "code",
   "execution_count": 21,
   "metadata": {},
   "outputs": [
    {
     "name": "stdout",
     "output_type": "stream",
     "text": [
      "     fun: 1.7339583160696483\n",
      "     jac: array([3.46909344, 3.43588126])\n",
      " message: 'Optimization terminated successfully.'\n",
      "    nfev: 8\n",
      "     nit: 2\n",
      "    njev: 2\n",
      "  status: 0\n",
      " success: True\n",
      "       x: array([0.96457267, 0.03542733])\n"
     ]
    },
    {
     "name": "stderr",
     "output_type": "stream",
     "text": [
      "/Users/chaoyi/.local/share/virtualenvs/portfolio_analysis-bdMx2S3t/lib/python3.7/site-packages/scipy/optimize/minpack.py:162: RuntimeWarning: The iteration is not making good progress, as measured by the \n",
      "  improvement from the last ten iterations.\n",
      "  warnings.warn(msg, RuntimeWarning)\n"
     ]
    },
    {
     "data": {
      "text/plain": [
       "({'MCD': 0.9645726695521555, 'ENPH': 0.03542733044784463}, 4.2574, 1.3168)"
      ]
     },
     "execution_count": 21,
     "metadata": {},
     "output_type": "execute_result"
    }
   ],
   "source": [
    "quote.setup_mask(['MCD', 'ENPH'])\n",
    "quote.find_optimal_ratio(21, 8)"
   ]
  },
  {
   "cell_type": "code",
   "execution_count": 22,
   "metadata": {},
   "outputs": [
    {
     "name": "stdout",
     "output_type": "stream",
     "text": [
      "Populating the interactive namespace from numpy and matplotlib\n"
     ]
    },
    {
     "data": {
      "text/html": [
       "<div>\n",
       "<style scoped>\n",
       "    .dataframe tbody tr th:only-of-type {\n",
       "        vertical-align: middle;\n",
       "    }\n",
       "\n",
       "    .dataframe tbody tr th {\n",
       "        vertical-align: top;\n",
       "    }\n",
       "\n",
       "    .dataframe thead th {\n",
       "        text-align: right;\n",
       "    }\n",
       "</style>\n",
       "<table border=\"1\" class=\"dataframe\">\n",
       "  <thead>\n",
       "    <tr style=\"text-align: right;\">\n",
       "      <th></th>\n",
       "      <th>count</th>\n",
       "      <th>mean</th>\n",
       "      <th>std</th>\n",
       "      <th>min</th>\n",
       "      <th>25%</th>\n",
       "      <th>50%</th>\n",
       "      <th>75%</th>\n",
       "      <th>max</th>\n",
       "      <th>shrp</th>\n",
       "      <th>drawdown</th>\n",
       "    </tr>\n",
       "  </thead>\n",
       "  <tbody>\n",
       "    <tr>\n",
       "      <th>Portfolio</th>\n",
       "      <td>64.0</td>\n",
       "      <td>4.498850</td>\n",
       "      <td>1.303120</td>\n",
       "      <td>1.802909</td>\n",
       "      <td>3.592294</td>\n",
       "      <td>4.624611</td>\n",
       "      <td>5.360425</td>\n",
       "      <td>7.203159</td>\n",
       "      <td>3.324471</td>\n",
       "      <td>3.172174</td>\n",
       "    </tr>\n",
       "    <tr>\n",
       "      <th>MCD</th>\n",
       "      <td>64.0</td>\n",
       "      <td>3.501918</td>\n",
       "      <td>1.472278</td>\n",
       "      <td>-0.558029</td>\n",
       "      <td>2.814227</td>\n",
       "      <td>3.754690</td>\n",
       "      <td>4.312614</td>\n",
       "      <td>6.412885</td>\n",
       "      <td>2.265368</td>\n",
       "      <td>2.999196</td>\n",
       "    </tr>\n",
       "    <tr>\n",
       "      <th>ENPH</th>\n",
       "      <td>64.0</td>\n",
       "      <td>24.827225</td>\n",
       "      <td>17.952433</td>\n",
       "      <td>-1.066102</td>\n",
       "      <td>9.973462</td>\n",
       "      <td>19.582932</td>\n",
       "      <td>39.813597</td>\n",
       "      <td>60.344833</td>\n",
       "      <td>1.373661</td>\n",
       "      <td>6.875388</td>\n",
       "    </tr>\n",
       "  </tbody>\n",
       "</table>\n",
       "</div>"
      ],
      "text/plain": [
       "           count       mean        std       min       25%        50%  \\\n",
       "Portfolio   64.0   4.498850   1.303120  1.802909  3.592294   4.624611   \n",
       "MCD         64.0   3.501918   1.472278 -0.558029  2.814227   3.754690   \n",
       "ENPH        64.0  24.827225  17.952433 -1.066102  9.973462  19.582932   \n",
       "\n",
       "                 75%        max      shrp  drawdown  \n",
       "Portfolio   5.360425   7.203159  3.324471  3.172174  \n",
       "MCD         4.312614   6.412885  2.265368  2.999196  \n",
       "ENPH       39.813597  60.344833  1.373661  6.875388  "
      ]
     },
     "execution_count": 22,
     "metadata": {},
     "output_type": "execute_result"
    },
    {
     "data": {
      "image/png": "[encoded data removed]",
      "text/plain": [
       "<Figure size 864x576 with 1 Axes>"
      ]
     },
     "metadata": {
      "needs_background": "light"
     },
     "output_type": "display_data"
    }
   ],
   "source": [
    "%pylab inline\n",
    "quote.graph(21, {'MCD': 0.96457267, 'ENPH': 0.03542733})"
   ]
  },
  {
   "cell_type": "code",
   "execution_count": null,
   "metadata": {},
   "outputs": [],
   "source": [
    "%pylab inline\n",
    "Quote(['MUB', 'PGX', 'BXMT', 'VNQ', 'SPLV', 'TMF', 'UPRO', 'MCD', 'ENPH', 'CTRP'], 120).graph(21,\n",
    "    {'MUB': .160, 'PGX': .140,\n",
    "     'BXMT': .120, 'VNQ': .080,\n",
    "     'SPLV': .200,\n",
    "     'TMF': .113, 'UPRO': .087,\n",
    "     'MCD': .096, 'ENPH': .004})"
   ]
  },
  {
   "cell_type": "code",
   "execution_count": null,
   "metadata": {},
   "outputs": [],
   "source": []
  }
 ],
 "metadata": {
  "kernelspec": {
   "display_name": "Python 3",
   "language": "python",
   "name": "python3"
  },
  "language_info": {
   "codemirror_mode": {
    "name": "ipython",
    "version": 3
   },
   "file_extension": ".py",
   "mimetype": "text/x-python",
   "name": "python",
   "nbconvert_exporter": "python",
   "pygments_lexer": "ipython3",
   "version": "3.7.3"
  }
 },
 "nbformat": 4,
 "nbformat_minor": 2
}
