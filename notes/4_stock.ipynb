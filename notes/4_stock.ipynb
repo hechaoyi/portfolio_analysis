{
 "cells": [
  {
   "cell_type": "code",
   "execution_count": 1,
   "metadata": {},
   "outputs": [
    {
     "data": {
      "text/plain": [
       "'from 2019-02-21 to 2019-06-21 - 201'"
      ]
     },
     "execution_count": 1,
     "metadata": {},
     "output_type": "execute_result"
    }
   ],
   "source": [
    "from app import create_app\n",
    "from app.instrument import Instrument\n",
    "from app.analysis import Quote\n",
    "mappings= {'BRK.B': 'BRK-B'}\n",
    "with create_app().app_context():\n",
    "    provided = ['SPLV']\n",
    "    quote = Quote([b.symbol if b.symbol not in mappings else mappings[b.symbol]\n",
    "                   for b in Instrument.find_stocks(200)] + provided, 120)\n",
    "f'from {quote.start.date()} to {quote.end.date()} - {len(quote.data.columns)}'"
   ]
  },
  {
   "cell_type": "code",
   "execution_count": 2,
   "metadata": {},
   "outputs": [
    {
     "data": {
      "text/html": [
       "<div>\n",
       "<style scoped>\n",
       "    .dataframe tbody tr th:only-of-type {\n",
       "        vertical-align: middle;\n",
       "    }\n",
       "\n",
       "    .dataframe tbody tr th {\n",
       "        vertical-align: top;\n",
       "    }\n",
       "\n",
       "    .dataframe thead th {\n",
       "        text-align: right;\n",
       "    }\n",
       "</style>\n",
       "<table border=\"1\" class=\"dataframe\">\n",
       "  <thead>\n",
       "    <tr style=\"text-align: right;\">\n",
       "      <th></th>\n",
       "      <th>21-len</th>\n",
       "      <th>21-mean</th>\n",
       "      <th>21-std</th>\n",
       "      <th>21-shrp</th>\n",
       "      <th>drawdown</th>\n",
       "    </tr>\n",
       "    <tr>\n",
       "      <th>Symbols</th>\n",
       "      <th></th>\n",
       "      <th></th>\n",
       "      <th></th>\n",
       "      <th></th>\n",
       "      <th></th>\n",
       "    </tr>\n",
       "  </thead>\n",
       "  <tbody>\n",
       "    <tr>\n",
       "      <th>MCD</th>\n",
       "      <td>64</td>\n",
       "      <td>3.483691</td>\n",
       "      <td>1.474300</td>\n",
       "      <td>2.249897</td>\n",
       "      <td>2.999196</td>\n",
       "    </tr>\n",
       "    <tr>\n",
       "      <th>KO</th>\n",
       "      <td>64</td>\n",
       "      <td>3.858772</td>\n",
       "      <td>1.675236</td>\n",
       "      <td>2.203931</td>\n",
       "      <td>3.383609</td>\n",
       "    </tr>\n",
       "    <tr>\n",
       "      <th>MA</th>\n",
       "      <td>64</td>\n",
       "      <td>4.368435</td>\n",
       "      <td>1.963279</td>\n",
       "      <td>2.140179</td>\n",
       "      <td>5.698715</td>\n",
       "    </tr>\n",
       "    <tr>\n",
       "      <th>WM</th>\n",
       "      <td>64</td>\n",
       "      <td>3.947654</td>\n",
       "      <td>2.041759</td>\n",
       "      <td>1.851828</td>\n",
       "      <td>3.316666</td>\n",
       "    </tr>\n",
       "    <tr>\n",
       "      <th>SHOP</th>\n",
       "      <td>64</td>\n",
       "      <td>15.101910</td>\n",
       "      <td>8.737623</td>\n",
       "      <td>1.709303</td>\n",
       "      <td>6.171438</td>\n",
       "    </tr>\n",
       "    <tr>\n",
       "      <th>SBUX</th>\n",
       "      <td>64</td>\n",
       "      <td>4.414825</td>\n",
       "      <td>2.857784</td>\n",
       "      <td>1.486522</td>\n",
       "      <td>4.600183</td>\n",
       "    </tr>\n",
       "    <tr>\n",
       "      <th>V</th>\n",
       "      <td>64</td>\n",
       "      <td>3.664699</td>\n",
       "      <td>2.396983</td>\n",
       "      <td>1.459348</td>\n",
       "      <td>4.317938</td>\n",
       "    </tr>\n",
       "    <tr>\n",
       "      <th>PYPL</th>\n",
       "      <td>64</td>\n",
       "      <td>4.787912</td>\n",
       "      <td>3.310260</td>\n",
       "      <td>1.396037</td>\n",
       "      <td>7.332929</td>\n",
       "    </tr>\n",
       "    <tr>\n",
       "      <th>ENPH</th>\n",
       "      <td>64</td>\n",
       "      <td>24.611020</td>\n",
       "      <td>17.975669</td>\n",
       "      <td>1.359858</td>\n",
       "      <td>6.170212</td>\n",
       "    </tr>\n",
       "    <tr>\n",
       "      <th>SPLV</th>\n",
       "      <td>64</td>\n",
       "      <td>1.989199</td>\n",
       "      <td>1.351612</td>\n",
       "      <td>1.348414</td>\n",
       "      <td>1.971361</td>\n",
       "    </tr>\n",
       "    <tr>\n",
       "      <th>PG</th>\n",
       "      <td>64</td>\n",
       "      <td>2.745664</td>\n",
       "      <td>1.924537</td>\n",
       "      <td>1.340061</td>\n",
       "      <td>4.809913</td>\n",
       "    </tr>\n",
       "    <tr>\n",
       "      <th>MSFT</th>\n",
       "      <td>64</td>\n",
       "      <td>4.618627</td>\n",
       "      <td>3.591259</td>\n",
       "      <td>1.239666</td>\n",
       "      <td>7.899243</td>\n",
       "    </tr>\n",
       "    <tr>\n",
       "      <th>NTDOY</th>\n",
       "      <td>64</td>\n",
       "      <td>8.630122</td>\n",
       "      <td>7.089819</td>\n",
       "      <td>1.193748</td>\n",
       "      <td>7.386100</td>\n",
       "    </tr>\n",
       "    <tr>\n",
       "      <th>ZNGA</th>\n",
       "      <td>64</td>\n",
       "      <td>6.002311</td>\n",
       "      <td>4.900086</td>\n",
       "      <td>1.190927</td>\n",
       "      <td>7.241908</td>\n",
       "    </tr>\n",
       "    <tr>\n",
       "      <th>COST</th>\n",
       "      <td>64</td>\n",
       "      <td>4.011586</td>\n",
       "      <td>3.985169</td>\n",
       "      <td>0.964807</td>\n",
       "      <td>4.141156</td>\n",
       "    </tr>\n",
       "    <tr>\n",
       "      <th>WMT</th>\n",
       "      <td>64</td>\n",
       "      <td>2.716978</td>\n",
       "      <td>3.217199</td>\n",
       "      <td>0.792712</td>\n",
       "      <td>3.343207</td>\n",
       "    </tr>\n",
       "    <tr>\n",
       "      <th>DIS</th>\n",
       "      <td>64</td>\n",
       "      <td>6.676812</td>\n",
       "      <td>9.657059</td>\n",
       "      <td>0.674133</td>\n",
       "      <td>6.132077</td>\n",
       "    </tr>\n",
       "    <tr>\n",
       "      <th>KMI</th>\n",
       "      <td>64</td>\n",
       "      <td>1.677995</td>\n",
       "      <td>2.422478</td>\n",
       "      <td>0.623877</td>\n",
       "      <td>5.044082</td>\n",
       "    </tr>\n",
       "    <tr>\n",
       "      <th>CMCSA</th>\n",
       "      <td>64</td>\n",
       "      <td>2.661864</td>\n",
       "      <td>4.029818</td>\n",
       "      <td>0.619184</td>\n",
       "      <td>5.925590</td>\n",
       "    </tr>\n",
       "    <tr>\n",
       "      <th>TMUS</th>\n",
       "      <td>64</td>\n",
       "      <td>1.694111</td>\n",
       "      <td>2.779676</td>\n",
       "      <td>0.549504</td>\n",
       "      <td>6.194914</td>\n",
       "    </tr>\n",
       "    <tr>\n",
       "      <th>T</th>\n",
       "      <td>64</td>\n",
       "      <td>2.128643</td>\n",
       "      <td>3.707516</td>\n",
       "      <td>0.529189</td>\n",
       "      <td>6.046514</td>\n",
       "    </tr>\n",
       "  </tbody>\n",
       "</table>\n",
       "</div>"
      ],
      "text/plain": [
       "         21-len    21-mean     21-std   21-shrp  drawdown\n",
       "Symbols                                                  \n",
       "MCD          64   3.483691   1.474300  2.249897  2.999196\n",
       "KO           64   3.858772   1.675236  2.203931  3.383609\n",
       "MA           64   4.368435   1.963279  2.140179  5.698715\n",
       "WM           64   3.947654   2.041759  1.851828  3.316666\n",
       "SHOP         64  15.101910   8.737623  1.709303  6.171438\n",
       "SBUX         64   4.414825   2.857784  1.486522  4.600183\n",
       "V            64   3.664699   2.396983  1.459348  4.317938\n",
       "PYPL         64   4.787912   3.310260  1.396037  7.332929\n",
       "ENPH         64  24.611020  17.975669  1.359858  6.170212\n",
       "SPLV         64   1.989199   1.351612  1.348414  1.971361\n",
       "PG           64   2.745664   1.924537  1.340061  4.809913\n",
       "MSFT         64   4.618627   3.591259  1.239666  7.899243\n",
       "NTDOY        64   8.630122   7.089819  1.193748  7.386100\n",
       "ZNGA         64   6.002311   4.900086  1.190927  7.241908\n",
       "COST         64   4.011586   3.985169  0.964807  4.141156\n",
       "WMT          64   2.716978   3.217199  0.792712  3.343207\n",
       "DIS          64   6.676812   9.657059  0.674133  6.132077\n",
       "KMI          64   1.677995   2.422478  0.623877  5.044082\n",
       "CMCSA        64   2.661864   4.029818  0.619184  5.925590\n",
       "TMUS         64   1.694111   2.779676  0.549504  6.194914\n",
       "T            64   2.128643   3.707516  0.529189  6.046514"
      ]
     },
     "execution_count": 2,
     "metadata": {},
     "output_type": "execute_result"
    }
   ],
   "source": [
    "stat = quote.statistics(21)\n",
    "stat = stat[(stat['drawdown'] < 8) & (stat['21-mean'] > 0.8)]\n",
    "stat"
   ]
  },
  {
   "cell_type": "code",
   "execution_count": 3,
   "metadata": {},
   "outputs": [
    {
     "name": "stdout",
     "output_type": "stream",
     "text": [
      "['SPLV', 'MCD', 'KO'] 11.157851971096632 3.3493622205841644 2.0651053446844507 -7.150656069393664\n",
      "['SPLV', 'MCD', 'WM'] 10.831383383431902 3.1410229762407003 2.051716781232609 -6.798552670220634\n",
      "['SPLV', 'MCD', 'SHOP'] 8.357378687826676 1.5075738417775604 2.622671139547676 -6.656027395696709\n",
      "['SPLV', 'MCD', 'ENPH'] 6.96252452731242 0.9264677584899799 2.6224259249455293 -6.306582447939638\n"
     ]
    },
    {
     "data": {
      "text/plain": [
       "['SPLV', 'MCD', 'ENPH']"
      ]
     },
     "execution_count": 3,
     "metadata": {},
     "output_type": "execute_result"
    }
   ],
   "source": [
    "quote.setup_mask([*stat.index, *provided])\n",
    "quote.least_correlated_portfolio(21, 3, provided, cr=3, dr=4)"
   ]
  },
  {
   "cell_type": "code",
   "execution_count": 4,
   "metadata": {},
   "outputs": [
    {
     "name": "stdout",
     "output_type": "stream",
     "text": [
      "     fun: 1.7453545436947384\n",
      "     jac: array([3.49108997, 3.4802753 ])\n",
      " message: 'Optimization terminated successfully.'\n",
      "    nfev: 8\n",
      "     nit: 2\n",
      "    njev: 2\n",
      "  status: 0\n",
      " success: True\n",
      "       x: array([0.96479904, 0.03520096])\n"
     ]
    },
    {
     "name": "stderr",
     "output_type": "stream",
     "text": [
      "/Users/chaoyi/.local/share/virtualenvs/portfolio_analysis-bdMx2S3t/lib/python3.7/site-packages/scipy/optimize/minpack.py:162: RuntimeWarning: The iteration is not making good progress, as measured by the \n",
      "  improvement from the last ten iterations.\n",
      "  warnings.warn(msg, RuntimeWarning)\n"
     ]
    },
    {
     "data": {
      "text/plain": [
       "({'MCD': 0.9647990415921806, 'ENPH': 0.03520095840781945}, 4.2274, 1.3211)"
      ]
     },
     "execution_count": 4,
     "metadata": {},
     "output_type": "execute_result"
    }
   ],
   "source": [
    "quote.setup_mask(['MCD', 'ENPH'])\n",
    "quote.find_optimal_ratio(21, 8)"
   ]
  },
  {
   "cell_type": "code",
   "execution_count": null,
   "metadata": {},
   "outputs": [],
   "source": [
    "%pylab inline\n",
    "quote.graph(21, {'MCD': 0.96457267, 'ENPH': 0.03542733})"
   ]
  },
  {
   "cell_type": "code",
   "execution_count": null,
   "metadata": {},
   "outputs": [],
   "source": []
  }
 ],
 "metadata": {
  "kernelspec": {
   "display_name": "Python 3",
   "language": "python",
   "name": "python3"
  },
  "language_info": {
   "codemirror_mode": {
    "name": "ipython",
    "version": 3
   },
   "file_extension": ".py",
   "mimetype": "text/x-python",
   "name": "python",
   "nbconvert_exporter": "python",
   "pygments_lexer": "ipython3",
   "version": "3.7.3"
  }
 },
 "nbformat": 4,
 "nbformat_minor": 2
}
