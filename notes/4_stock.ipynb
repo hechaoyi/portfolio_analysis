{
 "cells": [
  {
   "cell_type": "code",
   "execution_count": 1,
   "metadata": {},
   "outputs": [
    {
     "data": {
      "text/plain": [
       "'from 2019-02-25 to 2019-06-21 - 200'"
      ]
     },
     "execution_count": 1,
     "metadata": {},
     "output_type": "execute_result"
    }
   ],
   "source": [
    "from app import create_app, db\n",
    "from app.instrument import Instrument\n",
    "from app.analysis import Quote\n",
    "mappings= {'BRK.B': 'BRK-B'}\n",
    "with create_app().app_context():\n",
    "    instruments = {b.symbol if b.symbol not in mappings else mappings[b.symbol]:\n",
    "                   b for b in Instrument.find_stocks(200)}\n",
    "    quote = Quote([*instruments.keys()], 120)\n",
    "    quote.update_boosts(21, instruments)\n",
    "    db.session.commit()\n",
    "f'from {quote.start.date()} to {quote.end.date()} - {len(quote.data.columns)}'"
   ]
  },
  {
   "cell_type": "code",
   "execution_count": 6,
   "metadata": {},
   "outputs": [
    {
     "data": {
      "text/html": [
       "<div>\n",
       "<style scoped>\n",
       "    .dataframe tbody tr th:only-of-type {\n",
       "        vertical-align: middle;\n",
       "    }\n",
       "\n",
       "    .dataframe tbody tr th {\n",
       "        vertical-align: top;\n",
       "    }\n",
       "\n",
       "    .dataframe thead th {\n",
       "        text-align: right;\n",
       "    }\n",
       "</style>\n",
       "<table border=\"1\" class=\"dataframe\">\n",
       "  <thead>\n",
       "    <tr style=\"text-align: right;\">\n",
       "      <th></th>\n",
       "      <th>21-len</th>\n",
       "      <th>21-mean</th>\n",
       "      <th>21-std</th>\n",
       "      <th>21-shrp</th>\n",
       "      <th>drawdown</th>\n",
       "    </tr>\n",
       "    <tr>\n",
       "      <th>Symbols</th>\n",
       "      <th></th>\n",
       "      <th></th>\n",
       "      <th></th>\n",
       "      <th></th>\n",
       "      <th></th>\n",
       "    </tr>\n",
       "  </thead>\n",
       "  <tbody>\n",
       "    <tr>\n",
       "      <th>PEP</th>\n",
       "      <td>62</td>\n",
       "      <td>4.219495</td>\n",
       "      <td>1.702828</td>\n",
       "      <td>2.380058</td>\n",
       "      <td>2.206724</td>\n",
       "    </tr>\n",
       "    <tr>\n",
       "      <th>KO</th>\n",
       "      <td>62</td>\n",
       "      <td>3.925656</td>\n",
       "      <td>1.653503</td>\n",
       "      <td>2.273348</td>\n",
       "      <td>3.383609</td>\n",
       "    </tr>\n",
       "    <tr>\n",
       "      <th>MCD</th>\n",
       "      <td>62</td>\n",
       "      <td>3.517417</td>\n",
       "      <td>1.484106</td>\n",
       "      <td>2.257757</td>\n",
       "      <td>2.999196</td>\n",
       "    </tr>\n",
       "    <tr>\n",
       "      <th>MA</th>\n",
       "      <td>62</td>\n",
       "      <td>4.373865</td>\n",
       "      <td>1.986382</td>\n",
       "      <td>2.118020</td>\n",
       "      <td>5.698715</td>\n",
       "    </tr>\n",
       "    <tr>\n",
       "      <th>WM</th>\n",
       "      <td>62</td>\n",
       "      <td>3.976322</td>\n",
       "      <td>2.068442</td>\n",
       "      <td>1.841800</td>\n",
       "      <td>3.316666</td>\n",
       "    </tr>\n",
       "    <tr>\n",
       "      <th>SHOP</th>\n",
       "      <td>62</td>\n",
       "      <td>15.249269</td>\n",
       "      <td>8.838574</td>\n",
       "      <td>1.706452</td>\n",
       "      <td>6.171438</td>\n",
       "    </tr>\n",
       "    <tr>\n",
       "      <th>SBUX</th>\n",
       "      <td>62</td>\n",
       "      <td>4.505872</td>\n",
       "      <td>2.857253</td>\n",
       "      <td>1.518663</td>\n",
       "      <td>4.600183</td>\n",
       "    </tr>\n",
       "    <tr>\n",
       "      <th>V</th>\n",
       "      <td>62</td>\n",
       "      <td>3.602156</td>\n",
       "      <td>2.406417</td>\n",
       "      <td>1.427637</td>\n",
       "      <td>4.317938</td>\n",
       "    </tr>\n",
       "    <tr>\n",
       "      <th>PYPL</th>\n",
       "      <td>62</td>\n",
       "      <td>4.741584</td>\n",
       "      <td>3.352832</td>\n",
       "      <td>1.364493</td>\n",
       "      <td>7.332929</td>\n",
       "    </tr>\n",
       "    <tr>\n",
       "      <th>ENPH</th>\n",
       "      <td>62</td>\n",
       "      <td>24.747480</td>\n",
       "      <td>18.234668</td>\n",
       "      <td>1.348026</td>\n",
       "      <td>6.170212</td>\n",
       "    </tr>\n",
       "    <tr>\n",
       "      <th>PG</th>\n",
       "      <td>62</td>\n",
       "      <td>2.776365</td>\n",
       "      <td>1.947922</td>\n",
       "      <td>1.339734</td>\n",
       "      <td>4.809913</td>\n",
       "    </tr>\n",
       "    <tr>\n",
       "      <th>NTDOY</th>\n",
       "      <td>62</td>\n",
       "      <td>8.974972</td>\n",
       "      <td>6.931220</td>\n",
       "      <td>1.270816</td>\n",
       "      <td>7.386100</td>\n",
       "    </tr>\n",
       "    <tr>\n",
       "      <th>PLNT</th>\n",
       "      <td>62</td>\n",
       "      <td>6.802537</td>\n",
       "      <td>5.247857</td>\n",
       "      <td>1.264491</td>\n",
       "      <td>7.817143</td>\n",
       "    </tr>\n",
       "    <tr>\n",
       "      <th>MSFT</th>\n",
       "      <td>62</td>\n",
       "      <td>4.557751</td>\n",
       "      <td>3.632079</td>\n",
       "      <td>1.208973</td>\n",
       "      <td>7.899243</td>\n",
       "    </tr>\n",
       "    <tr>\n",
       "      <th>ZNGA</th>\n",
       "      <td>62</td>\n",
       "      <td>5.998840</td>\n",
       "      <td>4.978756</td>\n",
       "      <td>1.171412</td>\n",
       "      <td>7.241908</td>\n",
       "    </tr>\n",
       "    <tr>\n",
       "      <th>WEN</th>\n",
       "      <td>62</td>\n",
       "      <td>4.778642</td>\n",
       "      <td>4.127076</td>\n",
       "      <td>1.117492</td>\n",
       "      <td>5.885746</td>\n",
       "    </tr>\n",
       "    <tr>\n",
       "      <th>LMT</th>\n",
       "      <td>62</td>\n",
       "      <td>5.270168</td>\n",
       "      <td>4.669727</td>\n",
       "      <td>1.092891</td>\n",
       "      <td>5.015020</td>\n",
       "    </tr>\n",
       "    <tr>\n",
       "      <th>MAIN</th>\n",
       "      <td>62</td>\n",
       "      <td>3.067130</td>\n",
       "      <td>2.759472</td>\n",
       "      <td>1.051094</td>\n",
       "      <td>5.805606</td>\n",
       "    </tr>\n",
       "    <tr>\n",
       "      <th>COST</th>\n",
       "      <td>62</td>\n",
       "      <td>3.819440</td>\n",
       "      <td>3.898211</td>\n",
       "      <td>0.937039</td>\n",
       "      <td>4.141156</td>\n",
       "    </tr>\n",
       "    <tr>\n",
       "      <th>SMG</th>\n",
       "      <td>62</td>\n",
       "      <td>5.295612</td>\n",
       "      <td>5.482420</td>\n",
       "      <td>0.935526</td>\n",
       "      <td>6.552613</td>\n",
       "    </tr>\n",
       "    <tr>\n",
       "      <th>WMT</th>\n",
       "      <td>62</td>\n",
       "      <td>2.827855</td>\n",
       "      <td>3.207691</td>\n",
       "      <td>0.829627</td>\n",
       "      <td>3.343207</td>\n",
       "    </tr>\n",
       "  </tbody>\n",
       "</table>\n",
       "</div>"
      ],
      "text/plain": [
       "         21-len    21-mean     21-std   21-shrp  drawdown\n",
       "Symbols                                                  \n",
       "PEP          62   4.219495   1.702828  2.380058  2.206724\n",
       "KO           62   3.925656   1.653503  2.273348  3.383609\n",
       "MCD          62   3.517417   1.484106  2.257757  2.999196\n",
       "MA           62   4.373865   1.986382  2.118020  5.698715\n",
       "WM           62   3.976322   2.068442  1.841800  3.316666\n",
       "SHOP         62  15.249269   8.838574  1.706452  6.171438\n",
       "SBUX         62   4.505872   2.857253  1.518663  4.600183\n",
       "V            62   3.602156   2.406417  1.427637  4.317938\n",
       "PYPL         62   4.741584   3.352832  1.364493  7.332929\n",
       "ENPH         62  24.747480  18.234668  1.348026  6.170212\n",
       "PG           62   2.776365   1.947922  1.339734  4.809913\n",
       "NTDOY        62   8.974972   6.931220  1.270816  7.386100\n",
       "PLNT         62   6.802537   5.247857  1.264491  7.817143\n",
       "MSFT         62   4.557751   3.632079  1.208973  7.899243\n",
       "ZNGA         62   5.998840   4.978756  1.171412  7.241908\n",
       "WEN          62   4.778642   4.127076  1.117492  5.885746\n",
       "LMT          62   5.270168   4.669727  1.092891  5.015020\n",
       "MAIN         62   3.067130   2.759472  1.051094  5.805606\n",
       "COST         62   3.819440   3.898211  0.937039  4.141156\n",
       "SMG          62   5.295612   5.482420  0.935526  6.552613\n",
       "WMT          62   2.827855   3.207691  0.829627  3.343207"
      ]
     },
     "execution_count": 6,
     "metadata": {},
     "output_type": "execute_result"
    }
   ],
   "source": [
    "stat = quote.statistics(21)\n",
    "stat = stat[(stat['drawdown'] < 8) & (stat['21-mean'] > 0.8) & (stat['21-shrp'] > 0.8)]\n",
    "stat"
   ]
  },
  {
   "cell_type": "code",
   "execution_count": 20,
   "metadata": {},
   "outputs": [
    {
     "name": "stdout",
     "output_type": "stream",
     "text": [
      "['PEP'] -3.3187711497216297 1 0.4413447988943503 2.3800579743079897\n",
      "['PEP', 'KO'] -3.5271680297653676 0.5672048905946383 0.5590333297884935 2.32670312507425\n",
      "['PEP', 'MCD'] -3.5519433256609965 0.5652791621276787 0.5205920300631828 2.318907258925929\n",
      "['KO', 'MCD'] -3.739513569614577 0.15331068881247512 0.6382805609573261 2.265552409692189\n"
     ]
    },
    {
     "data": {
      "text/plain": [
       "['KO', 'MCD']"
      ]
     },
     "execution_count": 20,
     "metadata": {},
     "output_type": "execute_result"
    }
   ],
   "source": [
    "quote.setup_mask(stat.index)\n",
    "quote.least_correlated_portfolio(21, 2, sr=2)"
   ]
  },
  {
   "cell_type": "code",
   "execution_count": 13,
   "metadata": {},
   "outputs": [
    {
     "name": "stdout",
     "output_type": "stream",
     "text": [
      "['KO', 'MCD'] 0.7915912497698012 0.15331068881247512 0.6382805609573261 2.265552409692189\n",
      "['KO', 'MCD', 'PEP'] 0.6012335541145981 0.42859824717826395 0.5726353069363341 2.303720931230789\n",
      "['KO', 'MCD', 'PEP', 'MA'] 0.3896769480952266 0.4752647003283513 0.7144122477668754 2.2572957429214444\n",
      "['KO', 'MCD', 'PEP', 'WM'] 0.17315466452631584 0.37784486001636647 0.5953098045099494 2.1882406871239355\n",
      "['KO', 'MCD', 'PEP', 'SHOP'] 0.1140018156453396 0.1759534215566235 0.7380483940887161 2.154403715654764\n",
      "['KO', 'MCD', 'PEP', 'ENPH'] -0.034149378914528294 0.0278635306472923 0.7379870904381794 2.0647972930171505\n",
      "['KO', 'MCD', 'ENPH', 'COST'] -0.04789759548572553 -0.0826062853447556 0.8347086898590301 1.704042439155351\n"
     ]
    },
    {
     "data": {
      "text/plain": [
       "['KO', 'MCD', 'ENPH', 'COST']"
      ]
     },
     "execution_count": 13,
     "metadata": {},
     "output_type": "execute_result"
    }
   ],
   "source": [
    "quote.setup_mask(stat.index)\n",
    "quote.least_correlated_portfolio(21, 4, ['KO', 'MCD'], sr=0)"
   ]
  },
  {
   "cell_type": "code",
   "execution_count": 15,
   "metadata": {},
   "outputs": [
    {
     "name": "stdout",
     "output_type": "stream",
     "text": [
      "     fun: 1.405424160885521\n",
      "     jac: array([2.82369241, 2.80078834])\n",
      " message: 'Optimization terminated successfully.'\n",
      "    nfev: 8\n",
      "     nit: 2\n",
      "    njev: 2\n",
      "  status: 0\n",
      " success: True\n",
      "       x: array([0.439224, 0.560776])\n"
     ]
    },
    {
     "name": "stderr",
     "output_type": "stream",
     "text": [
      "/Users/chaoyi/.local/share/virtualenvs/portfolio_analysis-bdMx2S3t/lib/python3.7/site-packages/scipy/optimize/minpack.py:162: RuntimeWarning: The iteration is not making good progress, as measured by the \n",
      "  improvement from the last five Jacobian evaluations.\n",
      "  warnings.warn(msg, RuntimeWarning)\n"
     ]
    },
    {
     "data": {
      "text/plain": [
       "({'KO': 0.4392239971439615, 'MCD': 0.5607760028560385}, 3.6967, 1.1855)"
      ]
     },
     "execution_count": 15,
     "metadata": {},
     "output_type": "execute_result"
    }
   ],
   "source": [
    "quote.setup_mask(['KO', 'MCD'])\n",
    "quote.find_optimal_ratio(21, 4)"
   ]
  },
  {
   "cell_type": "code",
   "execution_count": 16,
   "metadata": {},
   "outputs": [
    {
     "name": "stdout",
     "output_type": "stream",
     "text": [
      "Populating the interactive namespace from numpy and matplotlib\n"
     ]
    },
    {
     "data": {
      "text/html": [
       "<div>\n",
       "<style scoped>\n",
       "    .dataframe tbody tr th:only-of-type {\n",
       "        vertical-align: middle;\n",
       "    }\n",
       "\n",
       "    .dataframe tbody tr th {\n",
       "        vertical-align: top;\n",
       "    }\n",
       "\n",
       "    .dataframe thead th {\n",
       "        text-align: right;\n",
       "    }\n",
       "</style>\n",
       "<table border=\"1\" class=\"dataframe\">\n",
       "  <thead>\n",
       "    <tr style=\"text-align: right;\">\n",
       "      <th></th>\n",
       "      <th>count</th>\n",
       "      <th>mean</th>\n",
       "      <th>std</th>\n",
       "      <th>min</th>\n",
       "      <th>25%</th>\n",
       "      <th>50%</th>\n",
       "      <th>75%</th>\n",
       "      <th>max</th>\n",
       "      <th>shrp</th>\n",
       "      <th>drawdown</th>\n",
       "    </tr>\n",
       "  </thead>\n",
       "  <tbody>\n",
       "    <tr>\n",
       "      <th>Portfolio</th>\n",
       "      <td>62.0</td>\n",
       "      <td>3.692969</td>\n",
       "      <td>1.184443</td>\n",
       "      <td>-0.139729</td>\n",
       "      <td>3.012735</td>\n",
       "      <td>3.824990</td>\n",
       "      <td>4.472466</td>\n",
       "      <td>5.781434</td>\n",
       "      <td>2.977182</td>\n",
       "      <td>2.025419</td>\n",
       "    </tr>\n",
       "    <tr>\n",
       "      <th>KO</th>\n",
       "      <td>62.0</td>\n",
       "      <td>3.925656</td>\n",
       "      <td>1.653503</td>\n",
       "      <td>0.387284</td>\n",
       "      <td>2.890540</td>\n",
       "      <td>3.874527</td>\n",
       "      <td>4.693330</td>\n",
       "      <td>8.396620</td>\n",
       "      <td>2.273348</td>\n",
       "      <td>3.383609</td>\n",
       "    </tr>\n",
       "    <tr>\n",
       "      <th>MCD</th>\n",
       "      <td>62.0</td>\n",
       "      <td>3.517417</td>\n",
       "      <td>1.484106</td>\n",
       "      <td>-0.558029</td>\n",
       "      <td>2.811135</td>\n",
       "      <td>3.754690</td>\n",
       "      <td>4.320519</td>\n",
       "      <td>6.412885</td>\n",
       "      <td>2.257757</td>\n",
       "      <td>2.999196</td>\n",
       "    </tr>\n",
       "  </tbody>\n",
       "</table>\n",
       "</div>"
      ],
      "text/plain": [
       "           count      mean       std       min       25%       50%       75%  \\\n",
       "Portfolio   62.0  3.692969  1.184443 -0.139729  3.012735  3.824990  4.472466   \n",
       "KO          62.0  3.925656  1.653503  0.387284  2.890540  3.874527  4.693330   \n",
       "MCD         62.0  3.517417  1.484106 -0.558029  2.811135  3.754690  4.320519   \n",
       "\n",
       "                max      shrp  drawdown  \n",
       "Portfolio  5.781434  2.977182  2.025419  \n",
       "KO         8.396620  2.273348  3.383609  \n",
       "MCD        6.412885  2.257757  2.999196  "
      ]
     },
     "execution_count": 16,
     "metadata": {},
     "output_type": "execute_result"
    },
    {
     "data": {
      "image/png": "[encoded data removed]",
      "text/plain": [
       "<Figure size 864x576 with 1 Axes>"
      ]
     },
     "metadata": {
      "needs_background": "light"
     },
     "output_type": "display_data"
    }
   ],
   "source": [
    "%pylab inline\n",
    "quote.graph(21, {'MCD': 0.56, 'KO': 0.44})"
   ]
  },
  {
   "cell_type": "code",
   "execution_count": null,
   "metadata": {},
   "outputs": [],
   "source": []
  }
 ],
 "metadata": {
  "kernelspec": {
   "display_name": "Python 3",
   "language": "python",
   "name": "python3"
  },
  "language_info": {
   "codemirror_mode": {
    "name": "ipython",
    "version": 3
   },
   "file_extension": ".py",
   "mimetype": "text/x-python",
   "name": "python",
   "nbconvert_exporter": "python",
   "pygments_lexer": "ipython3",
   "version": "3.7.3"
  }
 },
 "nbformat": 4,
 "nbformat_minor": 2
}
