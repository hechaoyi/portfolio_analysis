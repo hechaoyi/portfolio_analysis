{
 "cells": [
  {
   "cell_type": "code",
   "execution_count": 1,
   "metadata": {},
   "outputs": [
    {
     "name": "stdout",
     "output_type": "stream",
     "text": [
      "Populating the interactive namespace from numpy and matplotlib\n"
     ]
    },
    {
     "name": "stderr",
     "output_type": "stream",
     "text": [
      "/Users/che/.local/share/virtualenvs/portfolio_analysis-cXHJLPF2/lib/python3.7/site-packages/pandas_datareader/compat/__init__.py:7: FutureWarning: pandas.util.testing is deprecated. Use the functions in the public API at pandas.testing instead.\n",
      "  from pandas.util.testing import assert_frame_equal\n"
     ]
    }
   ],
   "source": [
    "%pylab inline\n",
    "from wallet.util.analysis import Analysis\n",
    "sectors = ['FCOM','FDIS','FSTA','FENY','FNCL','FHLC','FIDU','FMAT','FTEC','FUTY','ICLN','GII','SCHG']"
   ]
  },
  {
   "cell_type": "code",
   "execution_count": 2,
   "metadata": {},
   "outputs": [
    {
     "name": "stdout",
     "output_type": "stream",
     "text": [
      "from 2019-10-28 to 2020-05-05 - 13 symbols\n"
     ]
    },
    {
     "data": {
      "text/html": [
       "<div>\n",
       "<style scoped>\n",
       "    .dataframe tbody tr th:only-of-type {\n",
       "        vertical-align: middle;\n",
       "    }\n",
       "\n",
       "    .dataframe tbody tr th {\n",
       "        vertical-align: top;\n",
       "    }\n",
       "\n",
       "    .dataframe thead th {\n",
       "        text-align: right;\n",
       "    }\n",
       "</style>\n",
       "<table border=\"1\" class=\"dataframe\">\n",
       "  <thead>\n",
       "    <tr style=\"text-align: right;\">\n",
       "      <th></th>\n",
       "      <th>count</th>\n",
       "      <th>mean</th>\n",
       "      <th>std</th>\n",
       "      <th>min</th>\n",
       "      <th>25%</th>\n",
       "      <th>50%</th>\n",
       "      <th>75%</th>\n",
       "      <th>max</th>\n",
       "      <th>shrp</th>\n",
       "      <th>yield</th>\n",
       "      <th>down</th>\n",
       "      <th>skew</th>\n",
       "    </tr>\n",
       "    <tr>\n",
       "      <th>Symbols</th>\n",
       "      <th></th>\n",
       "      <th></th>\n",
       "      <th></th>\n",
       "      <th></th>\n",
       "      <th></th>\n",
       "      <th></th>\n",
       "      <th></th>\n",
       "      <th></th>\n",
       "      <th></th>\n",
       "      <th></th>\n",
       "      <th></th>\n",
       "      <th></th>\n",
       "    </tr>\n",
       "  </thead>\n",
       "  <tbody>\n",
       "    <tr>\n",
       "      <th>FHLC</th>\n",
       "      <td>126.0</td>\n",
       "      <td>0.062023</td>\n",
       "      <td>0.923110</td>\n",
       "      <td>-2.949084</td>\n",
       "      <td>-0.107279</td>\n",
       "      <td>0.184662</td>\n",
       "      <td>0.446704</td>\n",
       "      <td>3.504791</td>\n",
       "      <td>0.583044</td>\n",
       "      <td>9.914582</td>\n",
       "      <td>28.755333</td>\n",
       "      <td>-0.499346</td>\n",
       "    </tr>\n",
       "    <tr>\n",
       "      <th>FSTA</th>\n",
       "      <td>126.0</td>\n",
       "      <td>-0.032230</td>\n",
       "      <td>0.787567</td>\n",
       "      <td>-3.344873</td>\n",
       "      <td>-0.170780</td>\n",
       "      <td>0.093633</td>\n",
       "      <td>0.283484</td>\n",
       "      <td>2.720554</td>\n",
       "      <td>0.563711</td>\n",
       "      <td>-4.778350</td>\n",
       "      <td>25.126864</td>\n",
       "      <td>-1.062206</td>\n",
       "    </tr>\n",
       "    <tr>\n",
       "      <th>ICLN</th>\n",
       "      <td>126.0</td>\n",
       "      <td>0.008315</td>\n",
       "      <td>1.448610</td>\n",
       "      <td>-6.175533</td>\n",
       "      <td>-0.164126</td>\n",
       "      <td>0.261506</td>\n",
       "      <td>0.685905</td>\n",
       "      <td>3.129192</td>\n",
       "      <td>0.334462</td>\n",
       "      <td>-2.329313</td>\n",
       "      <td>41.502809</td>\n",
       "      <td>-1.744385</td>\n",
       "    </tr>\n",
       "    <tr>\n",
       "      <th>FUTY</th>\n",
       "      <td>126.0</td>\n",
       "      <td>-0.079348</td>\n",
       "      <td>1.203164</td>\n",
       "      <td>-4.084782</td>\n",
       "      <td>-0.309172</td>\n",
       "      <td>0.050924</td>\n",
       "      <td>0.339823</td>\n",
       "      <td>4.961214</td>\n",
       "      <td>0.329832</td>\n",
       "      <td>-10.033968</td>\n",
       "      <td>36.439544</td>\n",
       "      <td>-0.188725</td>\n",
       "    </tr>\n",
       "    <tr>\n",
       "      <th>FMAT</th>\n",
       "      <td>126.0</td>\n",
       "      <td>-0.102284</td>\n",
       "      <td>1.234499</td>\n",
       "      <td>-4.602123</td>\n",
       "      <td>-0.432991</td>\n",
       "      <td>0.035892</td>\n",
       "      <td>0.312782</td>\n",
       "      <td>3.388961</td>\n",
       "      <td>0.302881</td>\n",
       "      <td>-13.677336</td>\n",
       "      <td>38.835164</td>\n",
       "      <td>-0.525076</td>\n",
       "    </tr>\n",
       "    <tr>\n",
       "      <th>FNCL</th>\n",
       "      <td>126.0</td>\n",
       "      <td>-0.196307</td>\n",
       "      <td>1.354261</td>\n",
       "      <td>-5.160738</td>\n",
       "      <td>-0.609742</td>\n",
       "      <td>0.032007</td>\n",
       "      <td>0.321041</td>\n",
       "      <td>3.869467</td>\n",
       "      <td>0.206669</td>\n",
       "      <td>-24.691876</td>\n",
       "      <td>44.383081</td>\n",
       "      <td>-0.712603</td>\n",
       "    </tr>\n",
       "    <tr>\n",
       "      <th>FENY</th>\n",
       "      <td>126.0</td>\n",
       "      <td>-0.308108</td>\n",
       "      <td>1.982779</td>\n",
       "      <td>-8.292978</td>\n",
       "      <td>-0.688865</td>\n",
       "      <td>-0.051781</td>\n",
       "      <td>0.501689</td>\n",
       "      <td>4.232534</td>\n",
       "      <td>0.084771</td>\n",
       "      <td>-34.827601</td>\n",
       "      <td>61.339892</td>\n",
       "      <td>-1.300364</td>\n",
       "    </tr>\n",
       "  </tbody>\n",
       "</table>\n",
       "</div>"
      ],
      "text/plain": [
       "         count      mean       std       min       25%       50%       75%  \\\n",
       "Symbols                                                                      \n",
       "FHLC     126.0  0.062023  0.923110 -2.949084 -0.107279  0.184662  0.446704   \n",
       "FSTA     126.0 -0.032230  0.787567 -3.344873 -0.170780  0.093633  0.283484   \n",
       "ICLN     126.0  0.008315  1.448610 -6.175533 -0.164126  0.261506  0.685905   \n",
       "FUTY     126.0 -0.079348  1.203164 -4.084782 -0.309172  0.050924  0.339823   \n",
       "FMAT     126.0 -0.102284  1.234499 -4.602123 -0.432991  0.035892  0.312782   \n",
       "FNCL     126.0 -0.196307  1.354261 -5.160738 -0.609742  0.032007  0.321041   \n",
       "FENY     126.0 -0.308108  1.982779 -8.292978 -0.688865 -0.051781  0.501689   \n",
       "\n",
       "              max      shrp      yield       down      skew  \n",
       "Symbols                                                      \n",
       "FHLC     3.504791  0.583044   9.914582  28.755333 -0.499346  \n",
       "FSTA     2.720554  0.563711  -4.778350  25.126864 -1.062206  \n",
       "ICLN     3.129192  0.334462  -2.329313  41.502809 -1.744385  \n",
       "FUTY     4.961214  0.329832 -10.033968  36.439544 -0.188725  \n",
       "FMAT     3.388961  0.302881 -13.677336  38.835164 -0.525076  \n",
       "FNCL     3.869467  0.206669 -24.691876  44.383081 -0.712603  \n",
       "FENY     4.232534  0.084771 -34.827601  61.339892 -1.300364  "
      ]
     },
     "execution_count": 2,
     "metadata": {},
     "output_type": "execute_result"
    }
   ],
   "source": [
    "ana = Analysis(sectors, 126, 5)\n",
    "print(ana)\n",
    "corr = ana.data.rolling(5).mean().pct_change().corr().loc['SCHG']\n",
    "ana.setup_mask(corr[corr <= corr.median()].index)\n",
    "ana.screen()"
   ]
  },
  {
   "cell_type": "code",
   "execution_count": 3,
   "metadata": {},
   "outputs": [
    {
     "data": {
      "text/plain": [
       "([(0.2067, {'FNCL': 1}),\n",
       "  (0.3029, {'FMAT': 1}),\n",
       "  (0.3345, {'ICLN': 1}),\n",
       "  (0.3347, {'FMAT': 0.284, 'FUTY': 0.716}),\n",
       "  (0.3513, {'ICLN': 0.487, 'FUTY': 0.513}),\n",
       "  (0.3711, {'FDIS': 1}),\n",
       "  (0.3785, {'FUTY': 0.296, 'FDIS': 0.704}),\n",
       "  (0.5637, {'FSTA': 1}),\n",
       "  (0.583, {'FHLC': 1}),\n",
       "  (0.5881, {'FHLC': 0.6181, 'FSTA': 0.3819})],\n",
       " [(1, 0, [[{'FHLC': 62, 'FSTA': 38}, {'FSTA'}]]),\n",
       "  (1, 1, [[{'FUTY': 30, 'FDIS': 70}, {'FDIS'}]])])"
      ]
     },
     "execution_count": 3,
     "metadata": {},
     "output_type": "execute_result"
    }
   ],
   "source": [
    "ana.optimize_iteration([100], additions=['FSTA','FDIS'])"
   ]
  },
  {
   "cell_type": "code",
   "execution_count": 4,
   "metadata": {},
   "outputs": [
    {
     "data": {
      "text/html": [
       "<div>\n",
       "<style scoped>\n",
       "    .dataframe tbody tr th:only-of-type {\n",
       "        vertical-align: middle;\n",
       "    }\n",
       "\n",
       "    .dataframe tbody tr th {\n",
       "        vertical-align: top;\n",
       "    }\n",
       "\n",
       "    .dataframe thead th {\n",
       "        text-align: right;\n",
       "    }\n",
       "</style>\n",
       "<table border=\"1\" class=\"dataframe\">\n",
       "  <thead>\n",
       "    <tr style=\"text-align: right;\">\n",
       "      <th></th>\n",
       "      <th>count</th>\n",
       "      <th>mean</th>\n",
       "      <th>std</th>\n",
       "      <th>min</th>\n",
       "      <th>25%</th>\n",
       "      <th>50%</th>\n",
       "      <th>75%</th>\n",
       "      <th>max</th>\n",
       "      <th>shrp</th>\n",
       "      <th>yield</th>\n",
       "      <th>down</th>\n",
       "      <th>skew</th>\n",
       "    </tr>\n",
       "  </thead>\n",
       "  <tbody>\n",
       "    <tr>\n",
       "      <th>Portfolio</th>\n",
       "      <td>126.0</td>\n",
       "      <td>0.027530</td>\n",
       "      <td>0.856322</td>\n",
       "      <td>-3.095762</td>\n",
       "      <td>-0.135074</td>\n",
       "      <td>0.154188</td>\n",
       "      <td>0.351646</td>\n",
       "      <td>3.215210</td>\n",
       "      <td>0.588237</td>\n",
       "      <td>4.331268</td>\n",
       "      <td>27.332685</td>\n",
       "      <td>-0.673320</td>\n",
       "    </tr>\n",
       "    <tr>\n",
       "      <th>FHLC</th>\n",
       "      <td>126.0</td>\n",
       "      <td>0.062023</td>\n",
       "      <td>0.923110</td>\n",
       "      <td>-2.949084</td>\n",
       "      <td>-0.107279</td>\n",
       "      <td>0.184662</td>\n",
       "      <td>0.446704</td>\n",
       "      <td>3.504791</td>\n",
       "      <td>0.583044</td>\n",
       "      <td>9.914582</td>\n",
       "      <td>28.755333</td>\n",
       "      <td>-0.499346</td>\n",
       "    </tr>\n",
       "    <tr>\n",
       "      <th>FSTA</th>\n",
       "      <td>126.0</td>\n",
       "      <td>-0.032230</td>\n",
       "      <td>0.787567</td>\n",
       "      <td>-3.344873</td>\n",
       "      <td>-0.170780</td>\n",
       "      <td>0.093633</td>\n",
       "      <td>0.283484</td>\n",
       "      <td>2.720554</td>\n",
       "      <td>0.563711</td>\n",
       "      <td>-4.778350</td>\n",
       "      <td>25.126864</td>\n",
       "      <td>-1.062206</td>\n",
       "    </tr>\n",
       "  </tbody>\n",
       "</table>\n",
       "</div>"
      ],
      "text/plain": [
       "           count      mean       std       min       25%       50%       75%  \\\n",
       "Portfolio  126.0  0.027530  0.856322 -3.095762 -0.135074  0.154188  0.351646   \n",
       "FHLC       126.0  0.062023  0.923110 -2.949084 -0.107279  0.184662  0.446704   \n",
       "FSTA       126.0 -0.032230  0.787567 -3.344873 -0.170780  0.093633  0.283484   \n",
       "\n",
       "                max      shrp     yield       down      skew  \n",
       "Portfolio  3.215210  0.588237  4.331268  27.332685 -0.673320  \n",
       "FHLC       3.504791  0.583044  9.914582  28.755333 -0.499346  \n",
       "FSTA       2.720554  0.563711 -4.778350  25.126864 -1.062206  "
      ]
     },
     "execution_count": 4,
     "metadata": {},
     "output_type": "execute_result"
    },
    {
     "data": {
      "image/png": "[encoded data removed]",
      "text/plain": [
       "<Figure size 1080x360 with 1 Axes>"
      ]
     },
     "metadata": {
      "needs_background": "light"
     },
     "output_type": "display_data"
    }
   ],
   "source": [
    "ana.graph({'FHLC': 62, 'FSTA': 38})"
   ]
  },
  {
   "cell_type": "code",
   "execution_count": null,
   "metadata": {},
   "outputs": [],
   "source": [
    "ana.setup_mask(['FSTA','FDIS'])\n",
    "ana.optimize_iteration([100])"
   ]
  },
  {
   "cell_type": "code",
   "execution_count": null,
   "metadata": {},
   "outputs": [],
   "source": [
    "ana.graph({'FDIS': 46, 'FSTA': 54})"
   ]
  },
  {
   "cell_type": "code",
   "execution_count": null,
   "metadata": {},
   "outputs": [],
   "source": []
  }
 ],
 "metadata": {
  "kernelspec": {
   "display_name": "Python 3",
   "language": "python",
   "name": "python3"
  },
  "language_info": {
   "codemirror_mode": {
    "name": "ipython",
    "version": 3
   },
   "file_extension": ".py",
   "mimetype": "text/x-python",
   "name": "python",
   "nbconvert_exporter": "python",
   "pygments_lexer": "ipython3",
   "version": "3.7.7"
  }
 },
 "nbformat": 4,
 "nbformat_minor": 4
}
