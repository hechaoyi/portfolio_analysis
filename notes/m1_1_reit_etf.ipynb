{
 "cells": [
  {
   "cell_type": "code",
   "execution_count": 1,
   "metadata": {},
   "outputs": [],
   "source": [
    "from requests import post\n",
    "from app.analysis import Quote\n",
    "query = 'query UnknownFile($limit_0:[FundLimitOptionInput!]!) {viewer {...Fe}} fragment Fe on Viewer {_screenFunds4s9d1a:screenFunds(filterCategory:[\"$$\"],limit:$limit_0,first:100) {edges {node {symbol}}}}'\n",
    "variables = {'limit_0':[{'type':'FUND_TOTAL_ASSETS','min':1000000000,'inclusive':True}]}\n",
    "r = post('https://lens.m1finance.com/graphql', json={'query': query.replace('$$', 'Alternatives'), 'variables': variables}).json()\n",
    "symbols = [n['node']['symbol'] for n in r['data']['viewer']['_screenFunds4s9d1a']['edges']]"
   ]
  },
  {
   "cell_type": "code",
   "execution_count": 2,
   "metadata": {},
   "outputs": [
    {
     "data": {
      "text/plain": [
       "'from 2019-02-28 to 2019-06-28 - 13'"
      ]
     },
     "execution_count": 2,
     "metadata": {},
     "output_type": "execute_result"
    }
   ],
   "source": [
    "quote = Quote(symbols, 120)\n",
    "f'from {quote.start.date()} to {quote.end.date()} - {len(quote.data.columns)}'"
   ]
  },
  {
   "cell_type": "code",
   "execution_count": 3,
   "metadata": {},
   "outputs": [
    {
     "data": {
      "text/html": [
       "<div>\n",
       "<style scoped>\n",
       "    .dataframe tbody tr th:only-of-type {\n",
       "        vertical-align: middle;\n",
       "    }\n",
       "\n",
       "    .dataframe tbody tr th {\n",
       "        vertical-align: top;\n",
       "    }\n",
       "\n",
       "    .dataframe thead th {\n",
       "        text-align: right;\n",
       "    }\n",
       "</style>\n",
       "<table border=\"1\" class=\"dataframe\">\n",
       "  <thead>\n",
       "    <tr style=\"text-align: right;\">\n",
       "      <th></th>\n",
       "      <th>21-len</th>\n",
       "      <th>21-mean</th>\n",
       "      <th>21-std</th>\n",
       "      <th>21-shrp</th>\n",
       "      <th>drawdown</th>\n",
       "    </tr>\n",
       "    <tr>\n",
       "      <th>Symbols</th>\n",
       "      <th></th>\n",
       "      <th></th>\n",
       "      <th></th>\n",
       "      <th></th>\n",
       "      <th></th>\n",
       "    </tr>\n",
       "  </thead>\n",
       "  <tbody>\n",
       "    <tr>\n",
       "      <th>ICF</th>\n",
       "      <td>64</td>\n",
       "      <td>1.801371</td>\n",
       "      <td>2.091464</td>\n",
       "      <td>0.781608</td>\n",
       "      <td>4.991450</td>\n",
       "    </tr>\n",
       "    <tr>\n",
       "      <th>XLRE</th>\n",
       "      <td>64</td>\n",
       "      <td>1.979032</td>\n",
       "      <td>2.353223</td>\n",
       "      <td>0.770163</td>\n",
       "      <td>4.835459</td>\n",
       "    </tr>\n",
       "    <tr>\n",
       "      <th>VNQ</th>\n",
       "      <td>64</td>\n",
       "      <td>1.632762</td>\n",
       "      <td>2.029539</td>\n",
       "      <td>0.722378</td>\n",
       "      <td>5.135487</td>\n",
       "    </tr>\n",
       "    <tr>\n",
       "      <th>IYR</th>\n",
       "      <td>64</td>\n",
       "      <td>1.581922</td>\n",
       "      <td>2.012916</td>\n",
       "      <td>0.703087</td>\n",
       "      <td>4.963136</td>\n",
       "    </tr>\n",
       "    <tr>\n",
       "      <th>USRT</th>\n",
       "      <td>64</td>\n",
       "      <td>1.406170</td>\n",
       "      <td>1.865112</td>\n",
       "      <td>0.664573</td>\n",
       "      <td>5.198662</td>\n",
       "    </tr>\n",
       "    <tr>\n",
       "      <th>REET</th>\n",
       "      <td>64</td>\n",
       "      <td>1.077794</td>\n",
       "      <td>1.638473</td>\n",
       "      <td>0.556083</td>\n",
       "      <td>3.361345</td>\n",
       "    </tr>\n",
       "    <tr>\n",
       "      <th>SCHH</th>\n",
       "      <td>64</td>\n",
       "      <td>1.135009</td>\n",
       "      <td>1.822567</td>\n",
       "      <td>0.531307</td>\n",
       "      <td>4.980762</td>\n",
       "    </tr>\n",
       "    <tr>\n",
       "      <th>RWR</th>\n",
       "      <td>64</td>\n",
       "      <td>1.120860</td>\n",
       "      <td>1.808710</td>\n",
       "      <td>0.527555</td>\n",
       "      <td>4.950217</td>\n",
       "    </tr>\n",
       "  </tbody>\n",
       "</table>\n",
       "</div>"
      ],
      "text/plain": [
       "         21-len   21-mean    21-std   21-shrp  drawdown\n",
       "Symbols                                                \n",
       "ICF          64  1.801371  2.091464  0.781608  4.991450\n",
       "XLRE         64  1.979032  2.353223  0.770163  4.835459\n",
       "VNQ          64  1.632762  2.029539  0.722378  5.135487\n",
       "IYR          64  1.581922  2.012916  0.703087  4.963136\n",
       "USRT         64  1.406170  1.865112  0.664573  5.198662\n",
       "REET         64  1.077794  1.638473  0.556083  3.361345\n",
       "SCHH         64  1.135009  1.822567  0.531307  4.980762\n",
       "RWR          64  1.120860  1.808710  0.527555  4.950217"
      ]
     },
     "execution_count": 3,
     "metadata": {},
     "output_type": "execute_result"
    }
   ],
   "source": [
    "stat = quote.statistics(21)\n",
    "stat = stat[(stat['drawdown'] < 6) & (stat['21-shrp'] > 0.4)]\n",
    "stat"
   ]
  },
  {
   "cell_type": "code",
   "execution_count": null,
   "metadata": {},
   "outputs": [],
   "source": []
  }
 ],
 "metadata": {
  "kernelspec": {
   "display_name": "Python 3",
   "language": "python",
   "name": "python3"
  },
  "language_info": {
   "codemirror_mode": {
    "name": "ipython",
    "version": 3
   },
   "file_extension": ".py",
   "mimetype": "text/x-python",
   "name": "python",
   "nbconvert_exporter": "python",
   "pygments_lexer": "ipython3",
   "version": "3.7.3"
  }
 },
 "nbformat": 4,
 "nbformat_minor": 2
}
