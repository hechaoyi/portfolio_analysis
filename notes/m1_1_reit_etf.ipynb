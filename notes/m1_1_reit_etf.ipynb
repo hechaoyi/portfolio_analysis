{
 "cells": [
  {
   "cell_type": "code",
   "execution_count": 4,
   "metadata": {},
   "outputs": [],
   "source": [
    "from requests import post\n",
    "from app.analysis import Quote\n",
    "query = 'query UnknownFile($limit_0:[FundLimitOptionInput!]!) {viewer {...Fe}} fragment Fe on Viewer {_screenFunds4s9d1a:screenFunds(filterCategory:[\"$$\"],limit:$limit_0,first:100) {edges {node {symbol}}}}'\n",
    "variables = {'limit_0':[{'type':'FUND_TOTAL_ASSETS','min':1000000000,'inclusive':True},{'type':'FUND_NET_EXPENSE_RATIO','max':1,'inclusive':True}]}\n",
    "r = post('https://lens.m1finance.com/graphql', json={'query': query.replace('$$', 'Alternatives'), 'variables': variables}).json()\n",
    "symbols = [n['node']['symbol'] for n in r['data']['viewer']['_screenFunds4s9d1a']['edges']]"
   ]
  },
  {
   "cell_type": "code",
   "execution_count": 5,
   "metadata": {},
   "outputs": [
    {
     "data": {
      "text/plain": [
       "'from 2019-05-02 to 2019-07-01 - 12'"
      ]
     },
     "execution_count": 5,
     "metadata": {},
     "output_type": "execute_result"
    }
   ],
   "source": [
    "quote = Quote(symbols, 60)\n",
    "f'from {quote.start.date()} to {quote.end.date()} - {len(quote.data.columns)}'"
   ]
  },
  {
   "cell_type": "code",
   "execution_count": 6,
   "metadata": {},
   "outputs": [
    {
     "data": {
      "text/html": [
       "<div>\n",
       "<style scoped>\n",
       "    .dataframe tbody tr th:only-of-type {\n",
       "        vertical-align: middle;\n",
       "    }\n",
       "\n",
       "    .dataframe tbody tr th {\n",
       "        vertical-align: top;\n",
       "    }\n",
       "\n",
       "    .dataframe thead th {\n",
       "        text-align: right;\n",
       "    }\n",
       "</style>\n",
       "<table border=\"1\" class=\"dataframe\">\n",
       "  <thead>\n",
       "    <tr style=\"text-align: right;\">\n",
       "      <th></th>\n",
       "      <th>21-len</th>\n",
       "      <th>21-mean</th>\n",
       "      <th>21-std</th>\n",
       "      <th>21-shrp</th>\n",
       "      <th>drawdown</th>\n",
       "    </tr>\n",
       "    <tr>\n",
       "      <th>Symbols</th>\n",
       "      <th></th>\n",
       "      <th></th>\n",
       "      <th></th>\n",
       "      <th></th>\n",
       "      <th></th>\n",
       "    </tr>\n",
       "  </thead>\n",
       "  <tbody>\n",
       "    <tr>\n",
       "      <th>XLRE</th>\n",
       "      <td>21</td>\n",
       "      <td>3.318015</td>\n",
       "      <td>1.608263</td>\n",
       "      <td>1.959472</td>\n",
       "      <td>4.835459</td>\n",
       "    </tr>\n",
       "    <tr>\n",
       "      <th>RWX</th>\n",
       "      <td>21</td>\n",
       "      <td>1.453671</td>\n",
       "      <td>0.665036</td>\n",
       "      <td>1.935241</td>\n",
       "      <td>1.438101</td>\n",
       "    </tr>\n",
       "    <tr>\n",
       "      <th>IYR</th>\n",
       "      <td>21</td>\n",
       "      <td>2.367693</td>\n",
       "      <td>1.519495</td>\n",
       "      <td>1.448525</td>\n",
       "      <td>4.963136</td>\n",
       "    </tr>\n",
       "    <tr>\n",
       "      <th>ICF</th>\n",
       "      <td>21</td>\n",
       "      <td>2.579626</td>\n",
       "      <td>1.672211</td>\n",
       "      <td>1.442976</td>\n",
       "      <td>4.991450</td>\n",
       "    </tr>\n",
       "    <tr>\n",
       "      <th>REET</th>\n",
       "      <td>21</td>\n",
       "      <td>1.652828</td>\n",
       "      <td>1.059584</td>\n",
       "      <td>1.402590</td>\n",
       "      <td>3.361345</td>\n",
       "    </tr>\n",
       "    <tr>\n",
       "      <th>VNQ</th>\n",
       "      <td>21</td>\n",
       "      <td>2.329384</td>\n",
       "      <td>1.567454</td>\n",
       "      <td>1.379764</td>\n",
       "      <td>5.135487</td>\n",
       "    </tr>\n",
       "    <tr>\n",
       "      <th>RWO</th>\n",
       "      <td>21</td>\n",
       "      <td>1.425818</td>\n",
       "      <td>1.042820</td>\n",
       "      <td>1.207448</td>\n",
       "      <td>3.132428</td>\n",
       "    </tr>\n",
       "    <tr>\n",
       "      <th>VNQI</th>\n",
       "      <td>21</td>\n",
       "      <td>1.755540</td>\n",
       "      <td>1.441270</td>\n",
       "      <td>1.102412</td>\n",
       "      <td>2.604699</td>\n",
       "    </tr>\n",
       "    <tr>\n",
       "      <th>USRT</th>\n",
       "      <td>21</td>\n",
       "      <td>1.630737</td>\n",
       "      <td>1.493529</td>\n",
       "      <td>0.980275</td>\n",
       "      <td>5.198662</td>\n",
       "    </tr>\n",
       "    <tr>\n",
       "      <th>SCHH</th>\n",
       "      <td>21</td>\n",
       "      <td>1.467878</td>\n",
       "      <td>1.465447</td>\n",
       "      <td>0.887928</td>\n",
       "      <td>4.980762</td>\n",
       "    </tr>\n",
       "    <tr>\n",
       "      <th>RWR</th>\n",
       "      <td>21</td>\n",
       "      <td>1.435649</td>\n",
       "      <td>1.446194</td>\n",
       "      <td>0.877463</td>\n",
       "      <td>4.950217</td>\n",
       "    </tr>\n",
       "  </tbody>\n",
       "</table>\n",
       "</div>"
      ],
      "text/plain": [
       "         21-len   21-mean    21-std   21-shrp  drawdown\n",
       "Symbols                                                \n",
       "XLRE         21  3.318015  1.608263  1.959472  4.835459\n",
       "RWX          21  1.453671  0.665036  1.935241  1.438101\n",
       "IYR          21  2.367693  1.519495  1.448525  4.963136\n",
       "ICF          21  2.579626  1.672211  1.442976  4.991450\n",
       "REET         21  1.652828  1.059584  1.402590  3.361345\n",
       "VNQ          21  2.329384  1.567454  1.379764  5.135487\n",
       "RWO          21  1.425818  1.042820  1.207448  3.132428\n",
       "VNQI         21  1.755540  1.441270  1.102412  2.604699\n",
       "USRT         21  1.630737  1.493529  0.980275  5.198662\n",
       "SCHH         21  1.467878  1.465447  0.887928  4.980762\n",
       "RWR          21  1.435649  1.446194  0.877463  4.950217"
      ]
     },
     "execution_count": 6,
     "metadata": {},
     "output_type": "execute_result"
    }
   ],
   "source": [
    "stat = quote.statistics(21)\n",
    "stat = stat[(stat['drawdown'] < 8) & (stat['21-shrp'] > 0.4)]\n",
    "stat"
   ]
  },
  {
   "cell_type": "code",
   "execution_count": null,
   "metadata": {},
   "outputs": [],
   "source": []
  }
 ],
 "metadata": {
  "kernelspec": {
   "display_name": "Python 3",
   "language": "python",
   "name": "python3"
  },
  "language_info": {
   "codemirror_mode": {
    "name": "ipython",
    "version": 3
   },
   "file_extension": ".py",
   "mimetype": "text/x-python",
   "name": "python",
   "nbconvert_exporter": "python",
   "pygments_lexer": "ipython3",
   "version": "3.7.3"
  }
 },
 "nbformat": 4,
 "nbformat_minor": 2
}
