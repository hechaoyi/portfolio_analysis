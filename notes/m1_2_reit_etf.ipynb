{
 "cells": [
  {
   "cell_type": "code",
   "execution_count": 1,
   "metadata": {},
   "outputs": [],
   "source": [
    "from requests import post\n",
    "from app.analysis import Quote\n",
    "query = 'query UnknownFile($limit_0:[FundLimitOptionInput!]!) {viewer {...Fe}} fragment Fe on Viewer {_screenFunds4s9d1a:screenFunds(filterCategory:[\"$$\"],limit:$limit_0,first:100) {edges {node {symbol}}}}'\n",
    "variables = {'limit_0':[{'type':'FUND_TOTAL_ASSETS','min':1000000000,'inclusive':True},{'type':'FUND_NET_EXPENSE_RATIO','max':1,'inclusive':True}]}\n",
    "r = post('https://lens.m1finance.com/graphql', json={'query': query.replace('$$', 'Alternatives'), 'variables': variables}).json()\n",
    "symbols = [n['node']['symbol'] for n in r['data']['viewer']['_screenFunds4s9d1a']['edges']]"
   ]
  },
  {
   "cell_type": "code",
   "execution_count": 2,
   "metadata": {},
   "outputs": [
    {
     "data": {
      "text/plain": [
       "'from 2019-02-25 to 2019-06-25 - 12'"
      ]
     },
     "execution_count": 2,
     "metadata": {},
     "output_type": "execute_result"
    }
   ],
   "source": [
    "quote = Quote(symbols, 120)\n",
    "f'from {quote.start.date()} to {quote.end.date()} - {len(quote.data.columns)}'"
   ]
  },
  {
   "cell_type": "code",
   "execution_count": 8,
   "metadata": {},
   "outputs": [
    {
     "data": {
      "text/html": [
       "<div>\n",
       "<style scoped>\n",
       "    .dataframe tbody tr th:only-of-type {\n",
       "        vertical-align: middle;\n",
       "    }\n",
       "\n",
       "    .dataframe tbody tr th {\n",
       "        vertical-align: top;\n",
       "    }\n",
       "\n",
       "    .dataframe thead th {\n",
       "        text-align: right;\n",
       "    }\n",
       "</style>\n",
       "<table border=\"1\" class=\"dataframe\">\n",
       "  <thead>\n",
       "    <tr style=\"text-align: right;\">\n",
       "      <th></th>\n",
       "      <th>21-len</th>\n",
       "      <th>21-mean</th>\n",
       "      <th>21-std</th>\n",
       "      <th>21-shrp</th>\n",
       "      <th>drawdown</th>\n",
       "    </tr>\n",
       "    <tr>\n",
       "      <th>Symbols</th>\n",
       "      <th></th>\n",
       "      <th></th>\n",
       "      <th></th>\n",
       "      <th></th>\n",
       "      <th></th>\n",
       "    </tr>\n",
       "  </thead>\n",
       "  <tbody>\n",
       "    <tr>\n",
       "      <th>ICF</th>\n",
       "      <td>64</td>\n",
       "      <td>1.951614</td>\n",
       "      <td>2.130513</td>\n",
       "      <td>0.837802</td>\n",
       "      <td>4.165182</td>\n",
       "    </tr>\n",
       "    <tr>\n",
       "      <th>XLRE</th>\n",
       "      <td>64</td>\n",
       "      <td>2.098014</td>\n",
       "      <td>2.409941</td>\n",
       "      <td>0.801409</td>\n",
       "      <td>4.250690</td>\n",
       "    </tr>\n",
       "    <tr>\n",
       "      <th>VNQ</th>\n",
       "      <td>64</td>\n",
       "      <td>1.738370</td>\n",
       "      <td>2.057564</td>\n",
       "      <td>0.763866</td>\n",
       "      <td>3.975014</td>\n",
       "    </tr>\n",
       "    <tr>\n",
       "      <th>IYR</th>\n",
       "      <td>64</td>\n",
       "      <td>1.700149</td>\n",
       "      <td>2.054348</td>\n",
       "      <td>0.746457</td>\n",
       "      <td>3.822151</td>\n",
       "    </tr>\n",
       "    <tr>\n",
       "      <th>USRT</th>\n",
       "      <td>64</td>\n",
       "      <td>1.516771</td>\n",
       "      <td>1.867974</td>\n",
       "      <td>0.722764</td>\n",
       "      <td>4.162691</td>\n",
       "    </tr>\n",
       "    <tr>\n",
       "      <th>REET</th>\n",
       "      <td>64</td>\n",
       "      <td>1.149146</td>\n",
       "      <td>1.674407</td>\n",
       "      <td>0.586762</td>\n",
       "      <td>3.265309</td>\n",
       "    </tr>\n",
       "    <tr>\n",
       "      <th>SCHH</th>\n",
       "      <td>64</td>\n",
       "      <td>1.232048</td>\n",
       "      <td>1.832933</td>\n",
       "      <td>0.581244</td>\n",
       "      <td>4.332364</td>\n",
       "    </tr>\n",
       "    <tr>\n",
       "      <th>RWR</th>\n",
       "      <td>64</td>\n",
       "      <td>1.210802</td>\n",
       "      <td>1.814588</td>\n",
       "      <td>0.575412</td>\n",
       "      <td>4.320491</td>\n",
       "    </tr>\n",
       "  </tbody>\n",
       "</table>\n",
       "</div>"
      ],
      "text/plain": [
       "         21-len   21-mean    21-std   21-shrp  drawdown\n",
       "Symbols                                                \n",
       "ICF          64  1.951614  2.130513  0.837802  4.165182\n",
       "XLRE         64  2.098014  2.409941  0.801409  4.250690\n",
       "VNQ          64  1.738370  2.057564  0.763866  3.975014\n",
       "IYR          64  1.700149  2.054348  0.746457  3.822151\n",
       "USRT         64  1.516771  1.867974  0.722764  4.162691\n",
       "REET         64  1.149146  1.674407  0.586762  3.265309\n",
       "SCHH         64  1.232048  1.832933  0.581244  4.332364\n",
       "RWR          64  1.210802  1.814588  0.575412  4.320491"
      ]
     },
     "execution_count": 8,
     "metadata": {},
     "output_type": "execute_result"
    }
   ],
   "source": [
    "stat = quote.statistics(21)\n",
    "stat = stat[(stat['drawdown'] < 5) & (stat['21-shrp'] > 0.4)]\n",
    "stat"
   ]
  },
  {
   "cell_type": "code",
   "execution_count": 9,
   "metadata": {},
   "outputs": [
    {
     "name": "stdout",
     "output_type": "stream",
     "text": [
      "['VNQ'] 0.8311366291897575 0.6 0.7950028117415554 0.7638661825517981\n",
      "['VNQ', 'ICF', 'XLRE'] 0.7980233732926465 0.9729898090726357 0.8260590307954873 0.8010254665754765\n",
      "['VNQ', 'ICF', 'IYR'] 0.7942024844533857 0.9794208540391457 0.7974898095689047 0.7827081791546647\n"
     ]
    },
    {
     "data": {
      "text/plain": [
       "['VNQ', 'ICF', 'IYR']"
      ]
     },
     "execution_count": 9,
     "metadata": {},
     "output_type": "execute_result"
    }
   ],
   "source": [
    "quote.setup_mask(stat.index)\n",
    "quote.least_correlated_portfolio(21, 3, ['VNQ'])"
   ]
  },
  {
   "cell_type": "code",
   "execution_count": 10,
   "metadata": {},
   "outputs": [
    {
     "name": "stderr",
     "output_type": "stream",
     "text": [
      "/Users/chaoyi/.local/share/virtualenvs/portfolio_analysis-bdMx2S3t/lib/python3.7/site-packages/scipy/optimize/minpack.py:162: RuntimeWarning: The iteration is not making good progress, as measured by the \n",
      "  improvement from the last ten iterations.\n",
      "  warnings.warn(msg, RuntimeWarning)\n"
     ]
    },
    {
     "data": {
      "text/plain": [
       "(Symbols\n",
       " VNQ   -0.072858\n",
       " ICF   -0.153780\n",
       " IYR    1.226638\n",
       " dtype: float64, 1.6587, 2.0529)"
      ]
     },
     "execution_count": 10,
     "metadata": {},
     "output_type": "execute_result"
    }
   ],
   "source": [
    "quote.setup_mask(['VNQ', 'ICF', 'IYR'])\n",
    "quote.find_optimal_ratio(21, 2)"
   ]
  },
  {
   "cell_type": "code",
   "execution_count": null,
   "metadata": {},
   "outputs": [],
   "source": []
  }
 ],
 "metadata": {
  "kernelspec": {
   "display_name": "Python 3",
   "language": "python",
   "name": "python3"
  },
  "language_info": {
   "codemirror_mode": {
    "name": "ipython",
    "version": 3
   },
   "file_extension": ".py",
   "mimetype": "text/x-python",
   "name": "python",
   "nbconvert_exporter": "python",
   "pygments_lexer": "ipython3",
   "version": "3.7.3"
  }
 },
 "nbformat": 4,
 "nbformat_minor": 2
}
