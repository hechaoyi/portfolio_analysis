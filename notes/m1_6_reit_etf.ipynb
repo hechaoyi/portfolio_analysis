{
 "cells": [
  {
   "cell_type": "code",
   "execution_count": 1,
   "metadata": {},
   "outputs": [],
   "source": [
    "from requests import post\n",
    "from app.analysis import Quote\n",
    "query = 'query UnknownFile($limit_0:[FundLimitOptionInput!]!) {viewer {...Fe}} fragment Fe on Viewer {_screenFunds4s9d1a:screenFunds(filterCategory:[\"$$\"],limit:$limit_0,first:100) {edges {node {symbol}}}}'\n",
    "variables = {'limit_0':[{'type':'FUND_TOTAL_ASSETS','min':1000000000,'inclusive':True},{'type':'FUND_NET_EXPENSE_RATIO','max':1,'inclusive':True}]}\n",
    "r = post('https://lens.m1finance.com/graphql', json={'query': query.replace('$$', 'Alternatives'), 'variables': variables}).json()\n",
    "symbols = [n['node']['symbol'] for n in r['data']['viewer']['_screenFunds4s9d1a']['edges']]"
   ]
  },
  {
   "cell_type": "code",
   "execution_count": 2,
   "metadata": {},
   "outputs": [
    {
     "data": {
      "text/plain": [
       "'from 2019-04-23 to 2019-07-02 - 12'"
      ]
     },
     "execution_count": 2,
     "metadata": {},
     "output_type": "execute_result"
    }
   ],
   "source": [
    "quote = Quote(symbols, 70, 20)\n",
    "f'from {quote.start.date()} to {quote.end.date()} - {len(quote.data.columns)}'"
   ]
  },
  {
   "cell_type": "code",
   "execution_count": 3,
   "metadata": {},
   "outputs": [
    {
     "data": {
      "text/html": [
       "<div>\n",
       "<style scoped>\n",
       "    .dataframe tbody tr th:only-of-type {\n",
       "        vertical-align: middle;\n",
       "    }\n",
       "\n",
       "    .dataframe tbody tr th {\n",
       "        vertical-align: top;\n",
       "    }\n",
       "\n",
       "    .dataframe thead th {\n",
       "        text-align: right;\n",
       "    }\n",
       "</style>\n",
       "<table border=\"1\" class=\"dataframe\">\n",
       "  <thead>\n",
       "    <tr style=\"text-align: right;\">\n",
       "      <th></th>\n",
       "      <th>len</th>\n",
       "      <th>mean</th>\n",
       "      <th>std</th>\n",
       "      <th>shrp</th>\n",
       "      <th>drawdown</th>\n",
       "    </tr>\n",
       "    <tr>\n",
       "      <th>Symbols</th>\n",
       "      <th></th>\n",
       "      <th></th>\n",
       "      <th></th>\n",
       "      <th></th>\n",
       "      <th></th>\n",
       "    </tr>\n",
       "  </thead>\n",
       "  <tbody>\n",
       "    <tr>\n",
       "      <th>XLRE</th>\n",
       "      <td>30</td>\n",
       "      <td>2.802276</td>\n",
       "      <td>1.567077</td>\n",
       "      <td>1.686927</td>\n",
       "      <td>4.835459</td>\n",
       "    </tr>\n",
       "    <tr>\n",
       "      <th>ICF</th>\n",
       "      <td>30</td>\n",
       "      <td>2.337230</td>\n",
       "      <td>1.462619</td>\n",
       "      <td>1.489452</td>\n",
       "      <td>4.991450</td>\n",
       "    </tr>\n",
       "    <tr>\n",
       "      <th>IYR</th>\n",
       "      <td>30</td>\n",
       "      <td>1.971093</td>\n",
       "      <td>1.491408</td>\n",
       "      <td>1.215203</td>\n",
       "      <td>4.963136</td>\n",
       "    </tr>\n",
       "    <tr>\n",
       "      <th>VNQ</th>\n",
       "      <td>30</td>\n",
       "      <td>1.967225</td>\n",
       "      <td>1.500779</td>\n",
       "      <td>1.205037</td>\n",
       "      <td>5.135487</td>\n",
       "    </tr>\n",
       "    <tr>\n",
       "      <th>REET</th>\n",
       "      <td>30</td>\n",
       "      <td>1.458697</td>\n",
       "      <td>1.092246</td>\n",
       "      <td>1.190178</td>\n",
       "      <td>3.361345</td>\n",
       "    </tr>\n",
       "    <tr>\n",
       "      <th>USRT</th>\n",
       "      <td>30</td>\n",
       "      <td>1.584514</td>\n",
       "      <td>1.350996</td>\n",
       "      <td>1.055357</td>\n",
       "      <td>5.198662</td>\n",
       "    </tr>\n",
       "    <tr>\n",
       "      <th>RWX</th>\n",
       "      <td>30</td>\n",
       "      <td>1.048836</td>\n",
       "      <td>0.896623</td>\n",
       "      <td>0.992731</td>\n",
       "      <td>1.910171</td>\n",
       "    </tr>\n",
       "    <tr>\n",
       "      <th>RWO</th>\n",
       "      <td>30</td>\n",
       "      <td>1.178267</td>\n",
       "      <td>1.099847</td>\n",
       "      <td>0.926981</td>\n",
       "      <td>3.132428</td>\n",
       "    </tr>\n",
       "    <tr>\n",
       "      <th>RWR</th>\n",
       "      <td>30</td>\n",
       "      <td>1.336957</td>\n",
       "      <td>1.394844</td>\n",
       "      <td>0.844702</td>\n",
       "      <td>4.950217</td>\n",
       "    </tr>\n",
       "    <tr>\n",
       "      <th>SCHH</th>\n",
       "      <td>30</td>\n",
       "      <td>1.361493</td>\n",
       "      <td>1.440371</td>\n",
       "      <td>0.835037</td>\n",
       "      <td>4.980762</td>\n",
       "    </tr>\n",
       "    <tr>\n",
       "      <th>VNQI</th>\n",
       "      <td>30</td>\n",
       "      <td>1.061600</td>\n",
       "      <td>1.813214</td>\n",
       "      <td>0.497939</td>\n",
       "      <td>2.604699</td>\n",
       "    </tr>\n",
       "  </tbody>\n",
       "</table>\n",
       "</div>"
      ],
      "text/plain": [
       "         len      mean       std      shrp  drawdown\n",
       "Symbols                                             \n",
       "XLRE      30  2.802276  1.567077  1.686927  4.835459\n",
       "ICF       30  2.337230  1.462619  1.489452  4.991450\n",
       "IYR       30  1.971093  1.491408  1.215203  4.963136\n",
       "VNQ       30  1.967225  1.500779  1.205037  5.135487\n",
       "REET      30  1.458697  1.092246  1.190178  3.361345\n",
       "USRT      30  1.584514  1.350996  1.055357  5.198662\n",
       "RWX       30  1.048836  0.896623  0.992731  1.910171\n",
       "RWO       30  1.178267  1.099847  0.926981  3.132428\n",
       "RWR       30  1.336957  1.394844  0.844702  4.950217\n",
       "SCHH      30  1.361493  1.440371  0.835037  4.980762\n",
       "VNQI      30  1.061600  1.813214  0.497939  2.604699"
      ]
     },
     "execution_count": 3,
     "metadata": {},
     "output_type": "execute_result"
    }
   ],
   "source": [
    "stat = quote.statistics()\n",
    "stat = stat[(stat['drawdown'] < 8) & (stat['shrp'] > 0.4)]\n",
    "stat"
   ]
  },
  {
   "cell_type": "code",
   "execution_count": null,
   "metadata": {},
   "outputs": [],
   "source": []
  }
 ],
 "metadata": {
  "kernelspec": {
   "display_name": "Python 3",
   "language": "python",
   "name": "python3"
  },
  "language_info": {
   "codemirror_mode": {
    "name": "ipython",
    "version": 3
   },
   "file_extension": ".py",
   "mimetype": "text/x-python",
   "name": "python",
   "nbconvert_exporter": "python",
   "pygments_lexer": "ipython3",
   "version": "3.7.3"
  }
 },
 "nbformat": 4,
 "nbformat_minor": 2
}
