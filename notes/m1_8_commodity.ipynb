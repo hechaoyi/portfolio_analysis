{
 "cells": [
  {
   "cell_type": "code",
   "execution_count": 1,
   "metadata": {},
   "outputs": [
    {
     "name": "stdout",
     "output_type": "stream",
     "text": [
      "Populating the interactive namespace from numpy and matplotlib\n"
     ]
    }
   ],
   "source": [
    "%pylab inline\n",
    "from requests import post\n",
    "from app.analysis import Quote\n",
    "def screen_funds(*filter, min_assets=1000000000, max_expense=1):\n",
    "    query = 'query screen($filter:[String!]!,$limit:[FundLimitOptionInput!]!){viewer{screenFunds(filterCategory:$filter,limit:$limit,sort:{type:FUND_TOTAL_ASSETS,direction:DESC},first:100){edges{node{symbol}}}}}'\n",
    "    variables = {'filter':filter,'limit':[{'type':'FUND_TOTAL_ASSETS','min':min_assets,'inclusive':True},{'type':'FUND_NET_EXPENSE_RATIO','max':max_expense,'inclusive':True}]}\n",
    "    r = post('https://lens.m1finance.com/graphql', json={'query': query, 'variables': variables}).json()\n",
    "    return [n['node']['symbol'].replace('.', '-') for n in r['data']['viewer']['screenFunds']['edges']]"
   ]
  },
  {
   "cell_type": "code",
   "execution_count": 2,
   "metadata": {},
   "outputs": [
    {
     "name": "stdout",
     "output_type": "stream",
     "text": [
      "from 2019-04-22 to 2019-07-05 - 21\n"
     ]
    }
   ],
   "source": [
    "quote = Quote(screen_funds('Commodities', min_assets=200000000), 75, 21)\n",
    "print(f'from {quote.start.date()} to {quote.end.date()} - {len(quote.data.columns)}')"
   ]
  },
  {
   "cell_type": "code",
   "execution_count": 3,
   "metadata": {},
   "outputs": [
    {
     "name": "stdout",
     "output_type": "stream",
     "text": [
      "10\n"
     ]
    },
    {
     "data": {
      "text/html": [
       "<div>\n",
       "<style scoped>\n",
       "    .dataframe tbody tr th:only-of-type {\n",
       "        vertical-align: middle;\n",
       "    }\n",
       "\n",
       "    .dataframe tbody tr th {\n",
       "        vertical-align: top;\n",
       "    }\n",
       "\n",
       "    .dataframe thead th {\n",
       "        text-align: right;\n",
       "    }\n",
       "</style>\n",
       "<table border=\"1\" class=\"dataframe\">\n",
       "  <thead>\n",
       "    <tr style=\"text-align: right;\">\n",
       "      <th></th>\n",
       "      <th>len</th>\n",
       "      <th>mean</th>\n",
       "      <th>std</th>\n",
       "      <th>shrp</th>\n",
       "      <th>drawdown</th>\n",
       "    </tr>\n",
       "    <tr>\n",
       "      <th>Symbols</th>\n",
       "      <th></th>\n",
       "      <th></th>\n",
       "      <th></th>\n",
       "      <th></th>\n",
       "      <th></th>\n",
       "    </tr>\n",
       "  </thead>\n",
       "  <tbody>\n",
       "    <tr>\n",
       "      <th>GLD</th>\n",
       "      <td>32</td>\n",
       "      <td>4.668413</td>\n",
       "      <td>3.441557</td>\n",
       "      <td>1.308055</td>\n",
       "      <td>2.667662</td>\n",
       "    </tr>\n",
       "    <tr>\n",
       "      <th>BAR</th>\n",
       "      <td>32</td>\n",
       "      <td>4.669267</td>\n",
       "      <td>3.451754</td>\n",
       "      <td>1.304438</td>\n",
       "      <td>2.700990</td>\n",
       "    </tr>\n",
       "    <tr>\n",
       "      <th>SGOL</th>\n",
       "      <td>32</td>\n",
       "      <td>4.685466</td>\n",
       "      <td>3.465798</td>\n",
       "      <td>1.303826</td>\n",
       "      <td>2.692057</td>\n",
       "    </tr>\n",
       "    <tr>\n",
       "      <th>IAU</th>\n",
       "      <td>32</td>\n",
       "      <td>4.676491</td>\n",
       "      <td>3.504588</td>\n",
       "      <td>1.286834</td>\n",
       "      <td>2.716592</td>\n",
       "    </tr>\n",
       "    <tr>\n",
       "      <th>DBA</th>\n",
       "      <td>32</td>\n",
       "      <td>2.773809</td>\n",
       "      <td>2.656083</td>\n",
       "      <td>0.981574</td>\n",
       "      <td>5.928617</td>\n",
       "    </tr>\n",
       "    <tr>\n",
       "      <th>GLTR</th>\n",
       "      <td>32</td>\n",
       "      <td>3.530215</td>\n",
       "      <td>4.059945</td>\n",
       "      <td>0.828471</td>\n",
       "      <td>3.584793</td>\n",
       "    </tr>\n",
       "    <tr>\n",
       "      <th>PALL</th>\n",
       "      <td>32</td>\n",
       "      <td>6.393535</td>\n",
       "      <td>8.711188</td>\n",
       "      <td>0.714813</td>\n",
       "      <td>11.245765</td>\n",
       "    </tr>\n",
       "    <tr>\n",
       "      <th>PSLV</th>\n",
       "      <td>32</td>\n",
       "      <td>3.206193</td>\n",
       "      <td>4.807412</td>\n",
       "      <td>0.632258</td>\n",
       "      <td>4.805911</td>\n",
       "    </tr>\n",
       "    <tr>\n",
       "      <th>SIVR</th>\n",
       "      <td>32</td>\n",
       "      <td>1.315764</td>\n",
       "      <td>3.300424</td>\n",
       "      <td>0.348167</td>\n",
       "      <td>4.517453</td>\n",
       "    </tr>\n",
       "    <tr>\n",
       "      <th>SLV</th>\n",
       "      <td>32</td>\n",
       "      <td>1.289454</td>\n",
       "      <td>3.346228</td>\n",
       "      <td>0.335538</td>\n",
       "      <td>4.539009</td>\n",
       "    </tr>\n",
       "  </tbody>\n",
       "</table>\n",
       "</div>"
      ],
      "text/plain": [
       "         len      mean       std      shrp   drawdown\n",
       "Symbols                                              \n",
       "GLD       32  4.668413  3.441557  1.308055   2.667662\n",
       "BAR       32  4.669267  3.451754  1.304438   2.700990\n",
       "SGOL      32  4.685466  3.465798  1.303826   2.692057\n",
       "IAU       32  4.676491  3.504588  1.286834   2.716592\n",
       "DBA       32  2.773809  2.656083  0.981574   5.928617\n",
       "GLTR      32  3.530215  4.059945  0.828471   3.584793\n",
       "PALL      32  6.393535  8.711188  0.714813  11.245765\n",
       "PSLV      32  3.206193  4.807412  0.632258   4.805911\n",
       "SIVR      32  1.315764  3.300424  0.348167   4.517453\n",
       "SLV       32  1.289454  3.346228  0.335538   4.539009"
      ]
     },
     "execution_count": 3,
     "metadata": {},
     "output_type": "execute_result"
    }
   ],
   "source": [
    "stats = quote.statistics()\n",
    "stats = stats[stats['shrp'] > 0.2]\n",
    "print(len(stats))\n",
    "stats"
   ]
  },
  {
   "cell_type": "code",
   "execution_count": 4,
   "metadata": {},
   "outputs": [
    {
     "name": "stdout",
     "output_type": "stream",
     "text": [
      "evicted PALL 0.8346950088745034\n",
      "retry backlogs ['GLTR', 'IAU', 'SGOL', 'BAR', 'SIVR', 'SLV', 'PSLV'] at 0.96\n",
      "retry backlogs ['IAU', 'SGOL', 'BAR', 'SIVR', 'SLV', 'PSLV', 'GLTR'] at 0.97\n",
      "retry backlogs ['IAU', 'SGOL', 'BAR', 'SIVR', 'SLV', 'PSLV', 'GLTR'] at 0.98\n",
      "retry backlogs ['IAU', 'SGOL', 'BAR', 'SIVR', 'SLV', 'PSLV', 'GLTR'] at 0.99\n",
      "evicted SLV 0.984877523694228\n",
      "evicted PSLV 0.9851117286596296\n",
      "evicted GLTR 0.9804327272196267\n",
      "retry backlogs ['IAU', 'SGOL', 'BAR', 'SIVR'] at 1.0\n",
      "evicted IAU 0.9998643152550487\n",
      "evicted SGOL 0.999926697050518\n",
      "evicted BAR 0.9997332827497829\n",
      "evicted SIVR 0.9654721684532972\n",
      "{'DBA': 0.5, 'GLD': 0.5}\n"
     ]
    },
    {
     "data": {
      "text/html": [
       "<div>\n",
       "<style scoped>\n",
       "    .dataframe tbody tr th:only-of-type {\n",
       "        vertical-align: middle;\n",
       "    }\n",
       "\n",
       "    .dataframe tbody tr th {\n",
       "        vertical-align: top;\n",
       "    }\n",
       "\n",
       "    .dataframe thead th {\n",
       "        text-align: right;\n",
       "    }\n",
       "</style>\n",
       "<table border=\"1\" class=\"dataframe\">\n",
       "  <thead>\n",
       "    <tr style=\"text-align: right;\">\n",
       "      <th></th>\n",
       "      <th>count</th>\n",
       "      <th>mean</th>\n",
       "      <th>std</th>\n",
       "      <th>min</th>\n",
       "      <th>25%</th>\n",
       "      <th>50%</th>\n",
       "      <th>75%</th>\n",
       "      <th>max</th>\n",
       "      <th>shrp</th>\n",
       "      <th>drawdown</th>\n",
       "    </tr>\n",
       "  </thead>\n",
       "  <tbody>\n",
       "    <tr>\n",
       "      <th>Portfolio</th>\n",
       "      <td>32.0</td>\n",
       "      <td>3.721605</td>\n",
       "      <td>2.105995</td>\n",
       "      <td>-0.972097</td>\n",
       "      <td>2.860773</td>\n",
       "      <td>4.359582</td>\n",
       "      <td>4.945136</td>\n",
       "      <td>6.850901</td>\n",
       "      <td>1.688009</td>\n",
       "      <td>2.403009</td>\n",
       "    </tr>\n",
       "    <tr>\n",
       "      <th>GLD</th>\n",
       "      <td>32.0</td>\n",
       "      <td>4.668413</td>\n",
       "      <td>3.441557</td>\n",
       "      <td>-0.444921</td>\n",
       "      <td>2.540404</td>\n",
       "      <td>3.973749</td>\n",
       "      <td>6.669591</td>\n",
       "      <td>10.634784</td>\n",
       "      <td>1.308055</td>\n",
       "      <td>2.667662</td>\n",
       "    </tr>\n",
       "    <tr>\n",
       "      <th>DBA</th>\n",
       "      <td>32.0</td>\n",
       "      <td>2.773809</td>\n",
       "      <td>2.656083</td>\n",
       "      <td>-1.935884</td>\n",
       "      <td>0.849485</td>\n",
       "      <td>2.978608</td>\n",
       "      <td>5.022087</td>\n",
       "      <td>7.717040</td>\n",
       "      <td>0.981574</td>\n",
       "      <td>5.928617</td>\n",
       "    </tr>\n",
       "  </tbody>\n",
       "</table>\n",
       "</div>"
      ],
      "text/plain": [
       "           count      mean       std       min       25%       50%       75%  \\\n",
       "Portfolio   32.0  3.721605  2.105995 -0.972097  2.860773  4.359582  4.945136   \n",
       "GLD         32.0  4.668413  3.441557 -0.444921  2.540404  3.973749  6.669591   \n",
       "DBA         32.0  2.773809  2.656083 -1.935884  0.849485  2.978608  5.022087   \n",
       "\n",
       "                 max      shrp  drawdown  \n",
       "Portfolio   6.850901  1.688009  2.403009  \n",
       "GLD        10.634784  1.308055  2.667662  \n",
       "DBA         7.717040  0.981574  5.928617  "
      ]
     },
     "execution_count": 4,
     "metadata": {},
     "output_type": "execute_result"
    },
    {
     "data": {
      "image/png": "[encoded data removed]",
      "text/plain": [
       "<Figure size 864x576 with 1 Axes>"
      ]
     },
     "metadata": {
      "needs_background": "light"
     },
     "output_type": "display_data"
    }
   ],
   "source": [
    "quote.setup_mask(stats.index)\n",
    "ratio = quote.optimize_portfolio()\n",
    "print(ratio)\n",
    "quote.setup_mask(ratio)\n",
    "quote.graph(ratio)"
   ]
  },
  {
   "cell_type": "code",
   "execution_count": null,
   "metadata": {},
   "outputs": [],
   "source": []
  }
 ],
 "metadata": {
  "kernelspec": {
   "display_name": "Python 3",
   "language": "python",
   "name": "python3"
  },
  "language_info": {
   "codemirror_mode": {
    "name": "ipython",
    "version": 3
   },
   "file_extension": ".py",
   "mimetype": "text/x-python",
   "name": "python",
   "nbconvert_exporter": "python",
   "pygments_lexer": "ipython3",
   "version": "3.7.3"
  }
 },
 "nbformat": 4,
 "nbformat_minor": 2
}
