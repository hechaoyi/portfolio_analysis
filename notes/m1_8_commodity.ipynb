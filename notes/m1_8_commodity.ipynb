{
 "cells": [
  {
   "cell_type": "code",
   "execution_count": 17,
   "metadata": {},
   "outputs": [],
   "source": [
    "from requests import post\n",
    "from app.analysis import Quote\n",
    "query = 'query UnknownFile($limit_0:[FundLimitOptionInput!]!) {viewer {...Fe}} fragment Fe on Viewer {_screenFunds4s9d1a:screenFunds(filterCategory:[\"$$\"],limit:$limit_0,first:100) {edges {node {symbol}}}}'\n",
    "variables = {'limit_0':[{'type':'FUND_TOTAL_ASSETS','min':200000000,'inclusive':True}]}\n",
    "r = post('https://lens.m1finance.com/graphql', json={'query': query.replace('$$', 'Commodities'), 'variables': variables}).json()\n",
    "symbols = [n['node']['symbol'] for n in r['data']['viewer']['_screenFunds4s9d1a']['edges']]"
   ]
  },
  {
   "cell_type": "code",
   "execution_count": 18,
   "metadata": {},
   "outputs": [
    {
     "data": {
      "text/plain": [
       "'from 2019-05-02 to 2019-07-01 - 29'"
      ]
     },
     "execution_count": 18,
     "metadata": {},
     "output_type": "execute_result"
    }
   ],
   "source": [
    "quote = Quote(symbols, 60)\n",
    "f'from {quote.start.date()} to {quote.end.date()} - {len(quote.data.columns)}'"
   ]
  },
  {
   "cell_type": "code",
   "execution_count": 19,
   "metadata": {},
   "outputs": [
    {
     "data": {
      "text/html": [
       "<div>\n",
       "<style scoped>\n",
       "    .dataframe tbody tr th:only-of-type {\n",
       "        vertical-align: middle;\n",
       "    }\n",
       "\n",
       "    .dataframe tbody tr th {\n",
       "        vertical-align: top;\n",
       "    }\n",
       "\n",
       "    .dataframe thead th {\n",
       "        text-align: right;\n",
       "    }\n",
       "</style>\n",
       "<table border=\"1\" class=\"dataframe\">\n",
       "  <thead>\n",
       "    <tr style=\"text-align: right;\">\n",
       "      <th></th>\n",
       "      <th>21-len</th>\n",
       "      <th>21-mean</th>\n",
       "      <th>21-std</th>\n",
       "      <th>21-shrp</th>\n",
       "      <th>drawdown</th>\n",
       "    </tr>\n",
       "    <tr>\n",
       "      <th>Symbols</th>\n",
       "      <th></th>\n",
       "      <th></th>\n",
       "      <th></th>\n",
       "      <th></th>\n",
       "      <th></th>\n",
       "    </tr>\n",
       "  </thead>\n",
       "  <tbody>\n",
       "    <tr>\n",
       "      <th>PHYS</th>\n",
       "      <td>21</td>\n",
       "      <td>6.549914</td>\n",
       "      <td>2.881847</td>\n",
       "      <td>2.214985</td>\n",
       "      <td>2.631572</td>\n",
       "    </tr>\n",
       "    <tr>\n",
       "      <th>GLD</th>\n",
       "      <td>21</td>\n",
       "      <td>6.045668</td>\n",
       "      <td>2.931286</td>\n",
       "      <td>2.005605</td>\n",
       "      <td>2.667662</td>\n",
       "    </tr>\n",
       "    <tr>\n",
       "      <th>SGOL</th>\n",
       "      <td>21</td>\n",
       "      <td>6.076145</td>\n",
       "      <td>2.951936</td>\n",
       "      <td>2.001899</td>\n",
       "      <td>2.684765</td>\n",
       "    </tr>\n",
       "    <tr>\n",
       "      <th>BAR</th>\n",
       "      <td>21</td>\n",
       "      <td>6.036539</td>\n",
       "      <td>2.951990</td>\n",
       "      <td>1.988446</td>\n",
       "      <td>2.644570</td>\n",
       "    </tr>\n",
       "    <tr>\n",
       "      <th>IAU</th>\n",
       "      <td>21</td>\n",
       "      <td>6.081661</td>\n",
       "      <td>2.987182</td>\n",
       "      <td>1.980125</td>\n",
       "      <td>2.716592</td>\n",
       "    </tr>\n",
       "    <tr>\n",
       "      <th>GLDM</th>\n",
       "      <td>21</td>\n",
       "      <td>6.043567</td>\n",
       "      <td>2.989959</td>\n",
       "      <td>1.965546</td>\n",
       "      <td>2.746475</td>\n",
       "    </tr>\n",
       "    <tr>\n",
       "      <th>CEF</th>\n",
       "      <td>21</td>\n",
       "      <td>5.446521</td>\n",
       "      <td>2.721004</td>\n",
       "      <td>1.940407</td>\n",
       "      <td>2.663438</td>\n",
       "    </tr>\n",
       "    <tr>\n",
       "      <th>DBA</th>\n",
       "      <td>21</td>\n",
       "      <td>3.811146</td>\n",
       "      <td>2.335042</td>\n",
       "      <td>1.560777</td>\n",
       "      <td>3.535984</td>\n",
       "    </tr>\n",
       "    <tr>\n",
       "      <th>GLTR</th>\n",
       "      <td>21</td>\n",
       "      <td>5.104107</td>\n",
       "      <td>3.216583</td>\n",
       "      <td>1.534995</td>\n",
       "      <td>2.274879</td>\n",
       "    </tr>\n",
       "    <tr>\n",
       "      <th>PSLV</th>\n",
       "      <td>21</td>\n",
       "      <td>5.276712</td>\n",
       "      <td>3.662420</td>\n",
       "      <td>1.395265</td>\n",
       "      <td>3.738314</td>\n",
       "    </tr>\n",
       "    <tr>\n",
       "      <th>PALL</th>\n",
       "      <td>21</td>\n",
       "      <td>8.914803</td>\n",
       "      <td>6.305087</td>\n",
       "      <td>1.387473</td>\n",
       "      <td>4.657111</td>\n",
       "    </tr>\n",
       "    <tr>\n",
       "      <th>SIVR</th>\n",
       "      <td>21</td>\n",
       "      <td>2.713406</td>\n",
       "      <td>2.702817</td>\n",
       "      <td>0.942254</td>\n",
       "      <td>3.726708</td>\n",
       "    </tr>\n",
       "    <tr>\n",
       "      <th>SLV</th>\n",
       "      <td>21</td>\n",
       "      <td>2.705490</td>\n",
       "      <td>2.747467</td>\n",
       "      <td>0.924060</td>\n",
       "      <td>3.719596</td>\n",
       "    </tr>\n",
       "  </tbody>\n",
       "</table>\n",
       "</div>"
      ],
      "text/plain": [
       "         21-len   21-mean    21-std   21-shrp  drawdown\n",
       "Symbols                                                \n",
       "PHYS         21  6.549914  2.881847  2.214985  2.631572\n",
       "GLD          21  6.045668  2.931286  2.005605  2.667662\n",
       "SGOL         21  6.076145  2.951936  2.001899  2.684765\n",
       "BAR          21  6.036539  2.951990  1.988446  2.644570\n",
       "IAU          21  6.081661  2.987182  1.980125  2.716592\n",
       "GLDM         21  6.043567  2.989959  1.965546  2.746475\n",
       "CEF          21  5.446521  2.721004  1.940407  2.663438\n",
       "DBA          21  3.811146  2.335042  1.560777  3.535984\n",
       "GLTR         21  5.104107  3.216583  1.534995  2.274879\n",
       "PSLV         21  5.276712  3.662420  1.395265  3.738314\n",
       "PALL         21  8.914803  6.305087  1.387473  4.657111\n",
       "SIVR         21  2.713406  2.702817  0.942254  3.726708\n",
       "SLV          21  2.705490  2.747467  0.924060  3.719596"
      ]
     },
     "execution_count": 19,
     "metadata": {},
     "output_type": "execute_result"
    }
   ],
   "source": [
    "stat = quote.statistics(21)\n",
    "stat = stat[(stat['drawdown'] < 8) & (stat['21-shrp'] > 0.4)]\n",
    "stat"
   ]
  },
  {
   "cell_type": "code",
   "execution_count": 20,
   "metadata": {},
   "outputs": [
    {
     "name": "stdout",
     "output_type": "stream",
     "text": [
      "['PHYS'] -0.6886704454307051 0.8 0.5263144685950855 2.2149849140257905\n",
      "['PHYS', 'DBA'] -2.015947741535264 -0.7448224145865947 0.6167556330713495 1.8878809600200186\n"
     ]
    },
    {
     "data": {
      "text/plain": [
       "['PHYS', 'DBA']"
      ]
     },
     "execution_count": 20,
     "metadata": {},
     "output_type": "execute_result"
    }
   ],
   "source": [
    "quote.setup_mask(stat.index)\n",
    "quote.least_correlated_portfolio(21, 2)"
   ]
  },
  {
   "cell_type": "code",
   "execution_count": 21,
   "metadata": {},
   "outputs": [
    {
     "data": {
      "text/plain": [
       "({'PHYS': 0.46, 'DBA': 0.54}, 5.0714, 0.926, 5.2969)"
      ]
     },
     "execution_count": 21,
     "metadata": {},
     "output_type": "execute_result"
    }
   ],
   "source": [
    "quote.setup_mask(['PHYS', 'DBA'])\n",
    "quote.find_optimal_ratio(21)"
   ]
  },
  {
   "cell_type": "code",
   "execution_count": 22,
   "metadata": {},
   "outputs": [
    {
     "name": "stdout",
     "output_type": "stream",
     "text": [
      "Populating the interactive namespace from numpy and matplotlib\n"
     ]
    },
    {
     "data": {
      "text/html": [
       "<div>\n",
       "<style scoped>\n",
       "    .dataframe tbody tr th:only-of-type {\n",
       "        vertical-align: middle;\n",
       "    }\n",
       "\n",
       "    .dataframe tbody tr th {\n",
       "        vertical-align: top;\n",
       "    }\n",
       "\n",
       "    .dataframe thead th {\n",
       "        text-align: right;\n",
       "    }\n",
       "</style>\n",
       "<table border=\"1\" class=\"dataframe\">\n",
       "  <thead>\n",
       "    <tr style=\"text-align: right;\">\n",
       "      <th></th>\n",
       "      <th>count</th>\n",
       "      <th>mean</th>\n",
       "      <th>std</th>\n",
       "      <th>min</th>\n",
       "      <th>25%</th>\n",
       "      <th>50%</th>\n",
       "      <th>75%</th>\n",
       "      <th>max</th>\n",
       "      <th>shrp</th>\n",
       "      <th>drawdown</th>\n",
       "    </tr>\n",
       "  </thead>\n",
       "  <tbody>\n",
       "    <tr>\n",
       "      <th>Portfolio</th>\n",
       "      <td>21.0</td>\n",
       "      <td>5.058186</td>\n",
       "      <td>0.928554</td>\n",
       "      <td>2.862935</td>\n",
       "      <td>4.854192</td>\n",
       "      <td>5.163975</td>\n",
       "      <td>5.542234</td>\n",
       "      <td>6.529329</td>\n",
       "      <td>5.267887</td>\n",
       "      <td>1.670584</td>\n",
       "    </tr>\n",
       "    <tr>\n",
       "      <th>PHYS</th>\n",
       "      <td>21.0</td>\n",
       "      <td>6.549914</td>\n",
       "      <td>2.881847</td>\n",
       "      <td>2.799228</td>\n",
       "      <td>4.403129</td>\n",
       "      <td>5.304518</td>\n",
       "      <td>9.950742</td>\n",
       "      <td>11.219508</td>\n",
       "      <td>2.214985</td>\n",
       "      <td>2.631572</td>\n",
       "    </tr>\n",
       "    <tr>\n",
       "      <th>DBA</th>\n",
       "      <td>21.0</td>\n",
       "      <td>3.811146</td>\n",
       "      <td>2.335042</td>\n",
       "      <td>-1.074629</td>\n",
       "      <td>2.537128</td>\n",
       "      <td>3.781777</td>\n",
       "      <td>5.590448</td>\n",
       "      <td>7.717040</td>\n",
       "      <td>1.560777</td>\n",
       "      <td>3.535984</td>\n",
       "    </tr>\n",
       "  </tbody>\n",
       "</table>\n",
       "</div>"
      ],
      "text/plain": [
       "           count      mean       std       min       25%       50%       75%  \\\n",
       "Portfolio   21.0  5.058186  0.928554  2.862935  4.854192  5.163975  5.542234   \n",
       "PHYS        21.0  6.549914  2.881847  2.799228  4.403129  5.304518  9.950742   \n",
       "DBA         21.0  3.811146  2.335042 -1.074629  2.537128  3.781777  5.590448   \n",
       "\n",
       "                 max      shrp  drawdown  \n",
       "Portfolio   6.529329  5.267887  1.670584  \n",
       "PHYS       11.219508  2.214985  2.631572  \n",
       "DBA         7.717040  1.560777  3.535984  "
      ]
     },
     "execution_count": 22,
     "metadata": {},
     "output_type": "execute_result"
    },
    {
     "data": {
      "image/png": "[encoded data removed]",
      "text/plain": [
       "<Figure size 864x576 with 1 Axes>"
      ]
     },
     "metadata": {
      "needs_background": "light"
     },
     "output_type": "display_data"
    }
   ],
   "source": [
    "%pylab inline\n",
    "quote.setup_mask(['PHYS', 'DBA'])\n",
    "quote.graph(21, {'PHYS': 0.46, 'DBA': 0.54})"
   ]
  },
  {
   "cell_type": "code",
   "execution_count": null,
   "metadata": {},
   "outputs": [],
   "source": []
  }
 ],
 "metadata": {
  "kernelspec": {
   "display_name": "Python 3",
   "language": "python",
   "name": "python3"
  },
  "language_info": {
   "codemirror_mode": {
    "name": "ipython",
    "version": 3
   },
   "file_extension": ".py",
   "mimetype": "text/x-python",
   "name": "python",
   "nbconvert_exporter": "python",
   "pygments_lexer": "ipython3",
   "version": "3.7.3"
  }
 },
 "nbformat": 4,
 "nbformat_minor": 2
}
