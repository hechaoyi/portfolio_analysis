{
 "cells": [
  {
   "cell_type": "code",
   "execution_count": 1,
   "metadata": {},
   "outputs": [],
   "source": [
    "from requests import post\n",
    "from app.analysis import Quote\n",
    "query = 'query UnknownFile($limit_0:[FundLimitOptionInput!]!) {viewer {...Fe}} fragment Fe on Viewer {_screenFunds4s9d1a:screenFunds(filterCategory:[\"$$\"],limit:$limit_0,first:100) {edges {node {symbol}}}}'\n",
    "variables = {'limit_0':[{'type':'FUND_TOTAL_ASSETS','min':1000000000,'inclusive':True}]}\n",
    "r = post('https://lens.m1finance.com/graphql', json={'query': query.replace('$$', 'Equities\",\"Foreign'), 'variables': variables}).json()\n",
    "symbols = [n['node']['symbol'] for n in r['data']['viewer']['_screenFunds4s9d1a']['edges']]\n",
    "symbols += ['VT']"
   ]
  },
  {
   "cell_type": "code",
   "execution_count": 2,
   "metadata": {},
   "outputs": [
    {
     "data": {
      "text/plain": [
       "'from 2019-02-26 to 2019-06-26 - 76'"
      ]
     },
     "execution_count": 2,
     "metadata": {},
     "output_type": "execute_result"
    }
   ],
   "source": [
    "quote = Quote(symbols, 120)\n",
    "f'from {quote.start.date()} to {quote.end.date()} - {len(quote.data.columns)}'"
   ]
  },
  {
   "cell_type": "code",
   "execution_count": 3,
   "metadata": {},
   "outputs": [
    {
     "data": {
      "text/html": [
       "<div>\n",
       "<style scoped>\n",
       "    .dataframe tbody tr th:only-of-type {\n",
       "        vertical-align: middle;\n",
       "    }\n",
       "\n",
       "    .dataframe tbody tr th {\n",
       "        vertical-align: top;\n",
       "    }\n",
       "\n",
       "    .dataframe thead th {\n",
       "        text-align: right;\n",
       "    }\n",
       "</style>\n",
       "<table border=\"1\" class=\"dataframe\">\n",
       "  <thead>\n",
       "    <tr style=\"text-align: right;\">\n",
       "      <th></th>\n",
       "      <th>21-len</th>\n",
       "      <th>21-mean</th>\n",
       "      <th>21-std</th>\n",
       "      <th>21-shrp</th>\n",
       "      <th>drawdown</th>\n",
       "    </tr>\n",
       "    <tr>\n",
       "      <th>Symbols</th>\n",
       "      <th></th>\n",
       "      <th></th>\n",
       "      <th></th>\n",
       "      <th></th>\n",
       "      <th></th>\n",
       "    </tr>\n",
       "  </thead>\n",
       "  <tbody>\n",
       "    <tr>\n",
       "      <th>EWL</th>\n",
       "      <td>64</td>\n",
       "      <td>2.270857</td>\n",
       "      <td>2.055807</td>\n",
       "      <td>1.023535</td>\n",
       "      <td>3.113807</td>\n",
       "    </tr>\n",
       "    <tr>\n",
       "      <th>RSX</th>\n",
       "      <td>64</td>\n",
       "      <td>3.054404</td>\n",
       "      <td>3.900883</td>\n",
       "      <td>0.740278</td>\n",
       "      <td>5.962674</td>\n",
       "    </tr>\n",
       "    <tr>\n",
       "      <th>EWA</th>\n",
       "      <td>64</td>\n",
       "      <td>1.424561</td>\n",
       "      <td>1.919099</td>\n",
       "      <td>0.655461</td>\n",
       "      <td>3.321207</td>\n",
       "    </tr>\n",
       "    <tr>\n",
       "      <th>VIGI</th>\n",
       "      <td>64</td>\n",
       "      <td>1.525143</td>\n",
       "      <td>2.583339</td>\n",
       "      <td>0.525861</td>\n",
       "      <td>4.587566</td>\n",
       "    </tr>\n",
       "    <tr>\n",
       "      <th>EFG</th>\n",
       "      <td>64</td>\n",
       "      <td>1.270322</td>\n",
       "      <td>2.429450</td>\n",
       "      <td>0.454282</td>\n",
       "      <td>4.537548</td>\n",
       "    </tr>\n",
       "  </tbody>\n",
       "</table>\n",
       "</div>"
      ],
      "text/plain": [
       "         21-len   21-mean    21-std   21-shrp  drawdown\n",
       "Symbols                                                \n",
       "EWL          64  2.270857  2.055807  1.023535  3.113807\n",
       "RSX          64  3.054404  3.900883  0.740278  5.962674\n",
       "EWA          64  1.424561  1.919099  0.655461  3.321207\n",
       "VIGI         64  1.525143  2.583339  0.525861  4.587566\n",
       "EFG          64  1.270322  2.429450  0.454282  4.537548"
      ]
     },
     "execution_count": 3,
     "metadata": {},
     "output_type": "execute_result"
    }
   ],
   "source": [
    "stat = quote.statistics(21)\n",
    "stat = stat[(stat['drawdown'] < 8) & (stat['21-shrp'] > 0.4)]\n",
    "stat"
   ]
  },
  {
   "cell_type": "code",
   "execution_count": 4,
   "metadata": {},
   "outputs": [
    {
     "name": "stdout",
     "output_type": "stream",
     "text": [
      "['EWL'] 0.3992263442248922 0.6 0.6227613129125379 1.0235349686876458\n"
     ]
    },
    {
     "data": {
      "text/plain": [
       "['EWL']"
      ]
     },
     "execution_count": 4,
     "metadata": {},
     "output_type": "execute_result"
    }
   ],
   "source": [
    "quote.setup_mask(stat.index)\n",
    "quote.least_correlated_portfolio(21, 2)"
   ]
  },
  {
   "cell_type": "code",
   "execution_count": null,
   "metadata": {},
   "outputs": [],
   "source": []
  }
 ],
 "metadata": {
  "kernelspec": {
   "display_name": "Python 3",
   "language": "python",
   "name": "python3"
  },
  "language_info": {
   "codemirror_mode": {
    "name": "ipython",
    "version": 3
   },
   "file_extension": ".py",
   "mimetype": "text/x-python",
   "name": "python",
   "nbconvert_exporter": "python",
   "pygments_lexer": "ipython3",
   "version": "3.7.3"
  }
 },
 "nbformat": 4,
 "nbformat_minor": 2
}
