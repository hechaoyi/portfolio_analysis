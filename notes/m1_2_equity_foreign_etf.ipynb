{
 "cells": [
  {
   "cell_type": "code",
   "execution_count": 1,
   "metadata": {},
   "outputs": [],
   "source": [
    "from requests import post\n",
    "from app.analysis import Quote\n",
    "query = 'query UnknownFile($limit_0:[FundLimitOptionInput!]!) {viewer {...Fe}} fragment Fe on Viewer {_screenFunds4s9d1a:screenFunds(filterCategory:[\"$$\"],limit:$limit_0,first:100) {edges {node {symbol}}}}'\n",
    "variables = {'limit_0':[{'type':'FUND_TOTAL_ASSETS','min':1000000000,'inclusive':True}]}\n",
    "r = post('https://lens.m1finance.com/graphql', json={'query': query.replace('$$', 'Equities\",\"Foreign'), 'variables': variables}).json()\n",
    "symbols = [n['node']['symbol'] for n in r['data']['viewer']['_screenFunds4s9d1a']['edges']]\n",
    "symbols += ['VT']"
   ]
  },
  {
   "cell_type": "code",
   "execution_count": 2,
   "metadata": {},
   "outputs": [
    {
     "data": {
      "text/plain": [
       "'from 2019-05-02 to 2019-07-01 - 76'"
      ]
     },
     "execution_count": 2,
     "metadata": {},
     "output_type": "execute_result"
    }
   ],
   "source": [
    "quote = Quote(symbols, 60)\n",
    "f'from {quote.start.date()} to {quote.end.date()} - {len(quote.data.columns)}'"
   ]
  },
  {
   "cell_type": "code",
   "execution_count": 5,
   "metadata": {},
   "outputs": [
    {
     "data": {
      "text/html": [
       "<div>\n",
       "<style scoped>\n",
       "    .dataframe tbody tr th:only-of-type {\n",
       "        vertical-align: middle;\n",
       "    }\n",
       "\n",
       "    .dataframe tbody tr th {\n",
       "        vertical-align: top;\n",
       "    }\n",
       "\n",
       "    .dataframe thead th {\n",
       "        text-align: right;\n",
       "    }\n",
       "</style>\n",
       "<table border=\"1\" class=\"dataframe\">\n",
       "  <thead>\n",
       "    <tr style=\"text-align: right;\">\n",
       "      <th></th>\n",
       "      <th>21-len</th>\n",
       "      <th>21-mean</th>\n",
       "      <th>21-std</th>\n",
       "      <th>21-shrp</th>\n",
       "      <th>drawdown</th>\n",
       "    </tr>\n",
       "    <tr>\n",
       "      <th>Symbols</th>\n",
       "      <th></th>\n",
       "      <th></th>\n",
       "      <th></th>\n",
       "      <th></th>\n",
       "      <th></th>\n",
       "    </tr>\n",
       "  </thead>\n",
       "  <tbody>\n",
       "    <tr>\n",
       "      <th>RSX</th>\n",
       "      <td>21</td>\n",
       "      <td>8.034714</td>\n",
       "      <td>2.674957</td>\n",
       "      <td>2.941373</td>\n",
       "      <td>4.174395</td>\n",
       "    </tr>\n",
       "    <tr>\n",
       "      <th>EWL</th>\n",
       "      <td>21</td>\n",
       "      <td>4.760950</td>\n",
       "      <td>1.662047</td>\n",
       "      <td>2.764232</td>\n",
       "      <td>3.113807</td>\n",
       "    </tr>\n",
       "    <tr>\n",
       "      <th>EWA</th>\n",
       "      <td>21</td>\n",
       "      <td>3.759874</td>\n",
       "      <td>1.496320</td>\n",
       "      <td>2.401363</td>\n",
       "      <td>2.656897</td>\n",
       "    </tr>\n",
       "    <tr>\n",
       "      <th>EFAV</th>\n",
       "      <td>21</td>\n",
       "      <td>2.722518</td>\n",
       "      <td>1.407748</td>\n",
       "      <td>1.815561</td>\n",
       "      <td>2.819624</td>\n",
       "    </tr>\n",
       "    <tr>\n",
       "      <th>VIGI</th>\n",
       "      <td>21</td>\n",
       "      <td>3.252784</td>\n",
       "      <td>2.449498</td>\n",
       "      <td>1.259898</td>\n",
       "      <td>4.587566</td>\n",
       "    </tr>\n",
       "    <tr>\n",
       "      <th>EFG</th>\n",
       "      <td>21</td>\n",
       "      <td>2.481375</td>\n",
       "      <td>2.744365</td>\n",
       "      <td>0.843440</td>\n",
       "      <td>4.537548</td>\n",
       "    </tr>\n",
       "    <tr>\n",
       "      <th>RODM</th>\n",
       "      <td>21</td>\n",
       "      <td>1.752923</td>\n",
       "      <td>1.938339</td>\n",
       "      <td>0.818359</td>\n",
       "      <td>3.686791</td>\n",
       "    </tr>\n",
       "    <tr>\n",
       "      <th>EPP</th>\n",
       "      <td>21</td>\n",
       "      <td>2.409384</td>\n",
       "      <td>2.890335</td>\n",
       "      <td>0.775937</td>\n",
       "      <td>4.599415</td>\n",
       "    </tr>\n",
       "    <tr>\n",
       "      <th>FEZ</th>\n",
       "      <td>21</td>\n",
       "      <td>2.442479</td>\n",
       "      <td>3.192286</td>\n",
       "      <td>0.712910</td>\n",
       "      <td>5.593129</td>\n",
       "    </tr>\n",
       "    <tr>\n",
       "      <th>GSIE</th>\n",
       "      <td>21</td>\n",
       "      <td>1.783909</td>\n",
       "      <td>2.534465</td>\n",
       "      <td>0.638100</td>\n",
       "      <td>4.712410</td>\n",
       "    </tr>\n",
       "    <tr>\n",
       "      <th>IEV</th>\n",
       "      <td>21</td>\n",
       "      <td>1.905629</td>\n",
       "      <td>2.825617</td>\n",
       "      <td>0.615427</td>\n",
       "      <td>5.278408</td>\n",
       "    </tr>\n",
       "    <tr>\n",
       "      <th>EWC</th>\n",
       "      <td>21</td>\n",
       "      <td>1.619356</td>\n",
       "      <td>2.393855</td>\n",
       "      <td>0.606841</td>\n",
       "      <td>3.699790</td>\n",
       "    </tr>\n",
       "  </tbody>\n",
       "</table>\n",
       "</div>"
      ],
      "text/plain": [
       "         21-len   21-mean    21-std   21-shrp  drawdown\n",
       "Symbols                                                \n",
       "RSX          21  8.034714  2.674957  2.941373  4.174395\n",
       "EWL          21  4.760950  1.662047  2.764232  3.113807\n",
       "EWA          21  3.759874  1.496320  2.401363  2.656897\n",
       "EFAV         21  2.722518  1.407748  1.815561  2.819624\n",
       "VIGI         21  3.252784  2.449498  1.259898  4.587566\n",
       "EFG          21  2.481375  2.744365  0.843440  4.537548\n",
       "RODM         21  1.752923  1.938339  0.818359  3.686791\n",
       "EPP          21  2.409384  2.890335  0.775937  4.599415\n",
       "FEZ          21  2.442479  3.192286  0.712910  5.593129\n",
       "GSIE         21  1.783909  2.534465  0.638100  4.712410\n",
       "IEV          21  1.905629  2.825617  0.615427  5.278408\n",
       "EWC          21  1.619356  2.393855  0.606841  3.699790"
      ]
     },
     "execution_count": 5,
     "metadata": {},
     "output_type": "execute_result"
    }
   ],
   "source": [
    "stat = quote.statistics(21)\n",
    "stat = stat[(stat['drawdown'] < 6) & (stat['21-shrp'] > 0.6)]\n",
    "stat"
   ]
  },
  {
   "cell_type": "code",
   "execution_count": 6,
   "metadata": {},
   "outputs": [
    {
     "name": "stdout",
     "output_type": "stream",
     "text": [
      "['RSX'] -1.1064937226883873 0.8 0.8348790731205472 2.941372795808934\n",
      "['RSX', 'EWL'] -1.2720370898180873 0.851945347287185 0.7288201930165426 2.852802630121815\n"
     ]
    },
    {
     "data": {
      "text/plain": [
       "['RSX', 'EWL']"
      ]
     },
     "execution_count": 6,
     "metadata": {},
     "output_type": "execute_result"
    }
   ],
   "source": [
    "quote.setup_mask(stat.index)\n",
    "quote.least_correlated_portfolio(21, 2)"
   ]
  },
  {
   "cell_type": "code",
   "execution_count": 7,
   "metadata": {},
   "outputs": [
    {
     "data": {
      "text/plain": [
       "({'RSX': 0.59, 'EWL': 0.41}, 6.6765, 2.1827, 2.9825)"
      ]
     },
     "execution_count": 7,
     "metadata": {},
     "output_type": "execute_result"
    }
   ],
   "source": [
    "quote.setup_mask(['RSX', 'EWL'])\n",
    "quote.find_optimal_ratio(21)"
   ]
  },
  {
   "cell_type": "code",
   "execution_count": 8,
   "metadata": {},
   "outputs": [
    {
     "name": "stdout",
     "output_type": "stream",
     "text": [
      "Populating the interactive namespace from numpy and matplotlib\n"
     ]
    },
    {
     "data": {
      "text/html": [
       "<div>\n",
       "<style scoped>\n",
       "    .dataframe tbody tr th:only-of-type {\n",
       "        vertical-align: middle;\n",
       "    }\n",
       "\n",
       "    .dataframe tbody tr th {\n",
       "        vertical-align: top;\n",
       "    }\n",
       "\n",
       "    .dataframe thead th {\n",
       "        text-align: right;\n",
       "    }\n",
       "</style>\n",
       "<table border=\"1\" class=\"dataframe\">\n",
       "  <thead>\n",
       "    <tr style=\"text-align: right;\">\n",
       "      <th></th>\n",
       "      <th>count</th>\n",
       "      <th>mean</th>\n",
       "      <th>std</th>\n",
       "      <th>min</th>\n",
       "      <th>25%</th>\n",
       "      <th>50%</th>\n",
       "      <th>75%</th>\n",
       "      <th>max</th>\n",
       "      <th>shrp</th>\n",
       "      <th>drawdown</th>\n",
       "    </tr>\n",
       "  </thead>\n",
       "  <tbody>\n",
       "    <tr>\n",
       "      <th>Portfolio</th>\n",
       "      <td>21.0</td>\n",
       "      <td>6.694892</td>\n",
       "      <td>2.189984</td>\n",
       "      <td>1.692830</td>\n",
       "      <td>5.904527</td>\n",
       "      <td>7.228540</td>\n",
       "      <td>7.996263</td>\n",
       "      <td>9.182945</td>\n",
       "      <td>2.980946</td>\n",
       "      <td>3.740816</td>\n",
       "    </tr>\n",
       "    <tr>\n",
       "      <th>RSX</th>\n",
       "      <td>21.0</td>\n",
       "      <td>8.034714</td>\n",
       "      <td>2.674957</td>\n",
       "      <td>2.272726</td>\n",
       "      <td>7.652342</td>\n",
       "      <td>8.894002</td>\n",
       "      <td>9.759555</td>\n",
       "      <td>11.407202</td>\n",
       "      <td>2.941373</td>\n",
       "      <td>4.174395</td>\n",
       "    </tr>\n",
       "    <tr>\n",
       "      <th>EWL</th>\n",
       "      <td>21.0</td>\n",
       "      <td>4.760950</td>\n",
       "      <td>1.662047</td>\n",
       "      <td>0.854228</td>\n",
       "      <td>4.340222</td>\n",
       "      <td>5.445814</td>\n",
       "      <td>6.179888</td>\n",
       "      <td>6.313994</td>\n",
       "      <td>2.764232</td>\n",
       "      <td>3.113807</td>\n",
       "    </tr>\n",
       "  </tbody>\n",
       "</table>\n",
       "</div>"
      ],
      "text/plain": [
       "           count      mean       std       min       25%       50%       75%  \\\n",
       "Portfolio   21.0  6.694892  2.189984  1.692830  5.904527  7.228540  7.996263   \n",
       "RSX         21.0  8.034714  2.674957  2.272726  7.652342  8.894002  9.759555   \n",
       "EWL         21.0  4.760950  1.662047  0.854228  4.340222  5.445814  6.179888   \n",
       "\n",
       "                 max      shrp  drawdown  \n",
       "Portfolio   9.182945  2.980946  3.740816  \n",
       "RSX        11.407202  2.941373  4.174395  \n",
       "EWL         6.313994  2.764232  3.113807  "
      ]
     },
     "execution_count": 8,
     "metadata": {},
     "output_type": "execute_result"
    },
    {
     "data": {
      "image/png": "[encoded data removed]",
      "text/plain": [
       "<Figure size 864x576 with 1 Axes>"
      ]
     },
     "metadata": {
      "needs_background": "light"
     },
     "output_type": "display_data"
    }
   ],
   "source": [
    "%pylab inline\n",
    "quote.setup_mask(['RSX', 'EWL'])\n",
    "quote.graph(21, {'RSX': 0.59, 'EWL': 0.41})"
   ]
  },
  {
   "cell_type": "code",
   "execution_count": null,
   "metadata": {},
   "outputs": [],
   "source": []
  }
 ],
 "metadata": {
  "kernelspec": {
   "display_name": "Python 3",
   "language": "python",
   "name": "python3"
  },
  "language_info": {
   "codemirror_mode": {
    "name": "ipython",
    "version": 3
   },
   "file_extension": ".py",
   "mimetype": "text/x-python",
   "name": "python",
   "nbconvert_exporter": "python",
   "pygments_lexer": "ipython3",
   "version": "3.7.3"
  }
 },
 "nbformat": 4,
 "nbformat_minor": 2
}
