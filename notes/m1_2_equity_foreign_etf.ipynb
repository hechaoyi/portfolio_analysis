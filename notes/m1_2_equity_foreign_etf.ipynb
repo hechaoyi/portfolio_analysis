{
 "cells": [
  {
   "cell_type": "code",
   "execution_count": 1,
   "metadata": {},
   "outputs": [],
   "source": [
    "from requests import post\n",
    "from app.analysis import Quote\n",
    "query = 'query UnknownFile($limit_0:[FundLimitOptionInput!]!) {viewer {...Fe}} fragment Fe on Viewer {_screenFunds4s9d1a:screenFunds(filterCategory:[\"$$\"],limit:$limit_0,first:100) {edges {node {symbol}}}}'\n",
    "variables = {'limit_0':[{'type':'FUND_TOTAL_ASSETS','min':1000000000,'inclusive':True}]}\n",
    "r = post('https://lens.m1finance.com/graphql', json={'query': query.replace('$$', 'Equities\",\"Foreign'), 'variables': variables}).json()\n",
    "symbols = [n['node']['symbol'] for n in r['data']['viewer']['_screenFunds4s9d1a']['edges']]\n",
    "symbols += ['VT']"
   ]
  },
  {
   "cell_type": "code",
   "execution_count": 2,
   "metadata": {},
   "outputs": [
    {
     "data": {
      "text/plain": [
       "'from 2019-02-28 to 2019-06-28 - 76'"
      ]
     },
     "execution_count": 2,
     "metadata": {},
     "output_type": "execute_result"
    }
   ],
   "source": [
    "quote = Quote(symbols, 120)\n",
    "f'from {quote.start.date()} to {quote.end.date()} - {len(quote.data.columns)}'"
   ]
  },
  {
   "cell_type": "code",
   "execution_count": 3,
   "metadata": {},
   "outputs": [
    {
     "data": {
      "text/html": [
       "<div>\n",
       "<style scoped>\n",
       "    .dataframe tbody tr th:only-of-type {\n",
       "        vertical-align: middle;\n",
       "    }\n",
       "\n",
       "    .dataframe tbody tr th {\n",
       "        vertical-align: top;\n",
       "    }\n",
       "\n",
       "    .dataframe thead th {\n",
       "        text-align: right;\n",
       "    }\n",
       "</style>\n",
       "<table border=\"1\" class=\"dataframe\">\n",
       "  <thead>\n",
       "    <tr style=\"text-align: right;\">\n",
       "      <th></th>\n",
       "      <th>21-len</th>\n",
       "      <th>21-mean</th>\n",
       "      <th>21-std</th>\n",
       "      <th>21-shrp</th>\n",
       "      <th>drawdown</th>\n",
       "    </tr>\n",
       "    <tr>\n",
       "      <th>Symbols</th>\n",
       "      <th></th>\n",
       "      <th></th>\n",
       "      <th></th>\n",
       "      <th></th>\n",
       "      <th></th>\n",
       "    </tr>\n",
       "  </thead>\n",
       "  <tbody>\n",
       "    <tr>\n",
       "      <th>EWL</th>\n",
       "      <td>64</td>\n",
       "      <td>2.426048</td>\n",
       "      <td>2.158214</td>\n",
       "      <td>1.046875</td>\n",
       "      <td>3.113807</td>\n",
       "    </tr>\n",
       "    <tr>\n",
       "      <th>RSX</th>\n",
       "      <td>64</td>\n",
       "      <td>3.322369</td>\n",
       "      <td>4.022798</td>\n",
       "      <td>0.784454</td>\n",
       "      <td>5.962674</td>\n",
       "    </tr>\n",
       "    <tr>\n",
       "      <th>EWA</th>\n",
       "      <td>64</td>\n",
       "      <td>1.611048</td>\n",
       "      <td>2.028334</td>\n",
       "      <td>0.712102</td>\n",
       "      <td>3.321207</td>\n",
       "    </tr>\n",
       "    <tr>\n",
       "      <th>VIGI</th>\n",
       "      <td>64</td>\n",
       "      <td>1.640485</td>\n",
       "      <td>2.682432</td>\n",
       "      <td>0.549434</td>\n",
       "      <td>4.587566</td>\n",
       "    </tr>\n",
       "    <tr>\n",
       "      <th>EFG</th>\n",
       "      <td>64</td>\n",
       "      <td>1.410822</td>\n",
       "      <td>2.542873</td>\n",
       "      <td>0.489271</td>\n",
       "      <td>4.537548</td>\n",
       "    </tr>\n",
       "  </tbody>\n",
       "</table>\n",
       "</div>"
      ],
      "text/plain": [
       "         21-len   21-mean    21-std   21-shrp  drawdown\n",
       "Symbols                                                \n",
       "EWL          64  2.426048  2.158214  1.046875  3.113807\n",
       "RSX          64  3.322369  4.022798  0.784454  5.962674\n",
       "EWA          64  1.611048  2.028334  0.712102  3.321207\n",
       "VIGI         64  1.640485  2.682432  0.549434  4.587566\n",
       "EFG          64  1.410822  2.542873  0.489271  4.537548"
      ]
     },
     "execution_count": 3,
     "metadata": {},
     "output_type": "execute_result"
    }
   ],
   "source": [
    "stat = quote.statistics(21)\n",
    "stat = stat[(stat['drawdown'] < 8) & (stat['21-shrp'] > 0.4)]\n",
    "stat"
   ]
  },
  {
   "cell_type": "code",
   "execution_count": null,
   "metadata": {},
   "outputs": [],
   "source": []
  }
 ],
 "metadata": {
  "kernelspec": {
   "display_name": "Python 3",
   "language": "python",
   "name": "python3"
  },
  "language_info": {
   "codemirror_mode": {
    "name": "ipython",
    "version": 3
   },
   "file_extension": ".py",
   "mimetype": "text/x-python",
   "name": "python",
   "nbconvert_exporter": "python",
   "pygments_lexer": "ipython3",
   "version": "3.7.3"
  }
 },
 "nbformat": 4,
 "nbformat_minor": 2
}
