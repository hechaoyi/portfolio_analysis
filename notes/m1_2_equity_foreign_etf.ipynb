{
 "cells": [
  {
   "cell_type": "code",
   "execution_count": 1,
   "metadata": {},
   "outputs": [],
   "source": [
    "from requests import post\n",
    "from app.analysis import Quote\n",
    "query = 'query UnknownFile($limit_0:[FundLimitOptionInput!]!) {viewer {...Fe}} fragment Fe on Viewer {_screenFunds4s9d1a:screenFunds(filterCategory:[\"$$\"],limit:$limit_0,first:100) {edges {node {symbol}}}}'\n",
    "variables = {'limit_0':[{'type':'FUND_TOTAL_ASSETS','min':1000000000,'inclusive':True}]}\n",
    "r = post('https://lens.m1finance.com/graphql', json={'query': query.replace('$$', 'Equities\",\"Foreign'), 'variables': variables}).json()\n",
    "symbols = [n['node']['symbol'] for n in r['data']['viewer']['_screenFunds4s9d1a']['edges']]\n",
    "symbols += ['VT']"
   ]
  },
  {
   "cell_type": "code",
   "execution_count": 2,
   "metadata": {},
   "outputs": [
    {
     "data": {
      "text/plain": [
       "'from 2019-03-04 to 2019-06-28 - 76'"
      ]
     },
     "execution_count": 2,
     "metadata": {},
     "output_type": "execute_result"
    }
   ],
   "source": [
    "quote = Quote(symbols, 120)\n",
    "f'from {quote.start.date()} to {quote.end.date()} - {len(quote.data.columns)}'"
   ]
  },
  {
   "cell_type": "code",
   "execution_count": 3,
   "metadata": {},
   "outputs": [
    {
     "data": {
      "text/html": [
       "<div>\n",
       "<style scoped>\n",
       "    .dataframe tbody tr th:only-of-type {\n",
       "        vertical-align: middle;\n",
       "    }\n",
       "\n",
       "    .dataframe tbody tr th {\n",
       "        vertical-align: top;\n",
       "    }\n",
       "\n",
       "    .dataframe thead th {\n",
       "        text-align: right;\n",
       "    }\n",
       "</style>\n",
       "<table border=\"1\" class=\"dataframe\">\n",
       "  <thead>\n",
       "    <tr style=\"text-align: right;\">\n",
       "      <th></th>\n",
       "      <th>21-len</th>\n",
       "      <th>21-mean</th>\n",
       "      <th>21-std</th>\n",
       "      <th>21-shrp</th>\n",
       "      <th>drawdown</th>\n",
       "    </tr>\n",
       "    <tr>\n",
       "      <th>Symbols</th>\n",
       "      <th></th>\n",
       "      <th></th>\n",
       "      <th></th>\n",
       "      <th></th>\n",
       "      <th></th>\n",
       "    </tr>\n",
       "  </thead>\n",
       "  <tbody>\n",
       "    <tr>\n",
       "      <th>EWL</th>\n",
       "      <td>62</td>\n",
       "      <td>2.430852</td>\n",
       "      <td>2.193128</td>\n",
       "      <td>1.032400</td>\n",
       "      <td>3.113807</td>\n",
       "    </tr>\n",
       "    <tr>\n",
       "      <th>RSX</th>\n",
       "      <td>62</td>\n",
       "      <td>3.368768</td>\n",
       "      <td>4.075601</td>\n",
       "      <td>0.785676</td>\n",
       "      <td>5.962674</td>\n",
       "    </tr>\n",
       "    <tr>\n",
       "      <th>EWA</th>\n",
       "      <td>62</td>\n",
       "      <td>1.619990</td>\n",
       "      <td>2.060349</td>\n",
       "      <td>0.705377</td>\n",
       "      <td>3.321207</td>\n",
       "    </tr>\n",
       "    <tr>\n",
       "      <th>VIGI</th>\n",
       "      <td>62</td>\n",
       "      <td>1.591193</td>\n",
       "      <td>2.710403</td>\n",
       "      <td>0.525577</td>\n",
       "      <td>4.587566</td>\n",
       "    </tr>\n",
       "    <tr>\n",
       "      <th>EFG</th>\n",
       "      <td>62</td>\n",
       "      <td>1.383652</td>\n",
       "      <td>2.579558</td>\n",
       "      <td>0.471780</td>\n",
       "      <td>4.537548</td>\n",
       "    </tr>\n",
       "  </tbody>\n",
       "</table>\n",
       "</div>"
      ],
      "text/plain": [
       "         21-len   21-mean    21-std   21-shrp  drawdown\n",
       "Symbols                                                \n",
       "EWL          62  2.430852  2.193128  1.032400  3.113807\n",
       "RSX          62  3.368768  4.075601  0.785676  5.962674\n",
       "EWA          62  1.619990  2.060349  0.705377  3.321207\n",
       "VIGI         62  1.591193  2.710403  0.525577  4.587566\n",
       "EFG          62  1.383652  2.579558  0.471780  4.537548"
      ]
     },
     "execution_count": 3,
     "metadata": {},
     "output_type": "execute_result"
    }
   ],
   "source": [
    "stat = quote.statistics(21)\n",
    "stat = stat[(stat['drawdown'] < 8) & (stat['21-shrp'] > 0.4)]\n",
    "stat"
   ]
  },
  {
   "cell_type": "code",
   "execution_count": null,
   "metadata": {},
   "outputs": [],
   "source": []
  }
 ],
 "metadata": {
  "kernelspec": {
   "display_name": "Python 3",
   "language": "python",
   "name": "python3"
  },
  "language_info": {
   "codemirror_mode": {
    "name": "ipython",
    "version": 3
   },
   "file_extension": ".py",
   "mimetype": "text/x-python",
   "name": "python",
   "nbconvert_exporter": "python",
   "pygments_lexer": "ipython3",
   "version": "3.7.3"
  }
 },
 "nbformat": 4,
 "nbformat_minor": 2
}
