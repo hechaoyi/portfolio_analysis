{
 "cells": [
  {
   "cell_type": "code",
   "execution_count": 1,
   "metadata": {},
   "outputs": [
    {
     "name": "stdout",
     "output_type": "stream",
     "text": [
      "Populating the interactive namespace from numpy and matplotlib\n"
     ]
    },
    {
     "name": "stderr",
     "output_type": "stream",
     "text": [
      "/Users/che/.local/share/virtualenvs/portfolio_analysis-cXHJLPF2/lib/python3.7/site-packages/pandas_datareader/compat/__init__.py:7: FutureWarning: pandas.util.testing is deprecated. Use the functions in the public API at pandas.testing instead.\n",
      "  from pandas.util.testing import assert_frame_equal\n"
     ]
    },
    {
     "name": "stdout",
     "output_type": "stream",
     "text": [
      "from 2019-12-10 to 2020-02-28 - 2 symbols\n"
     ]
    },
    {
     "data": {
      "text/html": [
       "<div>\n",
       "<style scoped>\n",
       "    .dataframe tbody tr th:only-of-type {\n",
       "        vertical-align: middle;\n",
       "    }\n",
       "\n",
       "    .dataframe tbody tr th {\n",
       "        vertical-align: top;\n",
       "    }\n",
       "\n",
       "    .dataframe thead th {\n",
       "        text-align: right;\n",
       "    }\n",
       "</style>\n",
       "<table border=\"1\" class=\"dataframe\">\n",
       "  <thead>\n",
       "    <tr style=\"text-align: right;\">\n",
       "      <th></th>\n",
       "      <th>count</th>\n",
       "      <th>mean</th>\n",
       "      <th>std</th>\n",
       "      <th>min</th>\n",
       "      <th>25%</th>\n",
       "      <th>50%</th>\n",
       "      <th>75%</th>\n",
       "      <th>max</th>\n",
       "      <th>shrp</th>\n",
       "      <th>yield</th>\n",
       "      <th>down</th>\n",
       "      <th>skew</th>\n",
       "    </tr>\n",
       "    <tr>\n",
       "      <th>Symbols</th>\n",
       "      <th></th>\n",
       "      <th></th>\n",
       "      <th></th>\n",
       "      <th></th>\n",
       "      <th></th>\n",
       "      <th></th>\n",
       "      <th></th>\n",
       "      <th></th>\n",
       "      <th></th>\n",
       "      <th></th>\n",
       "      <th></th>\n",
       "      <th></th>\n",
       "    </tr>\n",
       "  </thead>\n",
       "  <tbody>\n",
       "    <tr>\n",
       "      <th>TMF</th>\n",
       "      <td>50.0</td>\n",
       "      <td>0.526539</td>\n",
       "      <td>0.971408</td>\n",
       "      <td>-1.460120</td>\n",
       "      <td>-0.189124</td>\n",
       "      <td>0.430853</td>\n",
       "      <td>1.225208</td>\n",
       "      <td>2.644721</td>\n",
       "      <td>0.533867</td>\n",
       "      <td>36.184107</td>\n",
       "      <td>8.906758</td>\n",
       "      <td>0.401725</td>\n",
       "    </tr>\n",
       "    <tr>\n",
       "      <th>SPXL</th>\n",
       "      <td>50.0</td>\n",
       "      <td>-0.153948</td>\n",
       "      <td>1.942700</td>\n",
       "      <td>-7.278663</td>\n",
       "      <td>-0.137169</td>\n",
       "      <td>0.543000</td>\n",
       "      <td>0.806761</td>\n",
       "      <td>1.857236</td>\n",
       "      <td>-0.083330</td>\n",
       "      <td>-16.813970</td>\n",
       "      <td>33.720167</td>\n",
       "      <td>-2.540645</td>\n",
       "    </tr>\n",
       "  </tbody>\n",
       "</table>\n",
       "</div>"
      ],
      "text/plain": [
       "         count      mean       std       min       25%       50%       75%  \\\n",
       "Symbols                                                                      \n",
       "TMF       50.0  0.526539  0.971408 -1.460120 -0.189124  0.430853  1.225208   \n",
       "SPXL      50.0 -0.153948  1.942700 -7.278663 -0.137169  0.543000  0.806761   \n",
       "\n",
       "              max      shrp      yield       down      skew  \n",
       "Symbols                                                      \n",
       "TMF      2.644721  0.533867  36.184107   8.906758  0.401725  \n",
       "SPXL     1.857236 -0.083330 -16.813970  33.720167 -2.540645  "
      ]
     },
     "execution_count": 1,
     "metadata": {},
     "output_type": "execute_result"
    }
   ],
   "source": [
    "%pylab inline\n",
    "from wallet.util.analysis import Analysis\n",
    "ana = Analysis(['SPXL','TMF'], 50, 5)\n",
    "print(ana)\n",
    "ana.screen()"
   ]
  },
  {
   "cell_type": "code",
   "execution_count": 2,
   "metadata": {},
   "outputs": [
    {
     "data": {
      "text/plain": [
       "([(0.71, {'SPXL': 0.2492, 'TMF': 0.7508})],\n",
       " [(0, 0, [[{'SPXL': 25, 'TMF': 75}, set()]])])"
      ]
     },
     "execution_count": 2,
     "metadata": {},
     "output_type": "execute_result"
    }
   ],
   "source": [
    "ana.optimize_iteration([100], max_count=2)"
   ]
  },
  {
   "cell_type": "code",
   "execution_count": 4,
   "metadata": {},
   "outputs": [
    {
     "data": {
      "text/html": [
       "<div>\n",
       "<style scoped>\n",
       "    .dataframe tbody tr th:only-of-type {\n",
       "        vertical-align: middle;\n",
       "    }\n",
       "\n",
       "    .dataframe tbody tr th {\n",
       "        vertical-align: top;\n",
       "    }\n",
       "\n",
       "    .dataframe thead th {\n",
       "        text-align: right;\n",
       "    }\n",
       "</style>\n",
       "<table border=\"1\" class=\"dataframe\">\n",
       "  <thead>\n",
       "    <tr style=\"text-align: right;\">\n",
       "      <th></th>\n",
       "      <th>count</th>\n",
       "      <th>mean</th>\n",
       "      <th>std</th>\n",
       "      <th>min</th>\n",
       "      <th>25%</th>\n",
       "      <th>50%</th>\n",
       "      <th>75%</th>\n",
       "      <th>max</th>\n",
       "      <th>shrp</th>\n",
       "      <th>yield</th>\n",
       "      <th>down</th>\n",
       "      <th>skew</th>\n",
       "    </tr>\n",
       "  </thead>\n",
       "  <tbody>\n",
       "    <tr>\n",
       "      <th>TMF</th>\n",
       "      <td>50.0</td>\n",
       "      <td>0.526539</td>\n",
       "      <td>0.971408</td>\n",
       "      <td>-1.460120</td>\n",
       "      <td>-0.189124</td>\n",
       "      <td>0.430853</td>\n",
       "      <td>1.225208</td>\n",
       "      <td>2.644721</td>\n",
       "      <td>0.533867</td>\n",
       "      <td>36.184107</td>\n",
       "      <td>8.906758</td>\n",
       "      <td>0.401725</td>\n",
       "    </tr>\n",
       "    <tr>\n",
       "      <th>Portfolio</th>\n",
       "      <td>50.0</td>\n",
       "      <td>0.200648</td>\n",
       "      <td>0.625079</td>\n",
       "      <td>-2.340230</td>\n",
       "      <td>0.170152</td>\n",
       "      <td>0.326470</td>\n",
       "      <td>0.541522</td>\n",
       "      <td>0.930094</td>\n",
       "      <td>0.308299</td>\n",
       "      <td>9.685069</td>\n",
       "      <td>11.302303</td>\n",
       "      <td>-2.599598</td>\n",
       "    </tr>\n",
       "    <tr>\n",
       "      <th>SPXL</th>\n",
       "      <td>50.0</td>\n",
       "      <td>-0.153948</td>\n",
       "      <td>1.942700</td>\n",
       "      <td>-7.278663</td>\n",
       "      <td>-0.137169</td>\n",
       "      <td>0.543000</td>\n",
       "      <td>0.806761</td>\n",
       "      <td>1.857236</td>\n",
       "      <td>-0.083330</td>\n",
       "      <td>-16.813970</td>\n",
       "      <td>33.720167</td>\n",
       "      <td>-2.540645</td>\n",
       "    </tr>\n",
       "  </tbody>\n",
       "</table>\n",
       "</div>"
      ],
      "text/plain": [
       "           count      mean       std       min       25%       50%       75%  \\\n",
       "TMF         50.0  0.526539  0.971408 -1.460120 -0.189124  0.430853  1.225208   \n",
       "Portfolio   50.0  0.200648  0.625079 -2.340230  0.170152  0.326470  0.541522   \n",
       "SPXL        50.0 -0.153948  1.942700 -7.278663 -0.137169  0.543000  0.806761   \n",
       "\n",
       "                max      shrp      yield       down      skew  \n",
       "TMF        2.644721  0.533867  36.184107   8.906758  0.401725  \n",
       "Portfolio  0.930094  0.308299   9.685069  11.302303 -2.599598  \n",
       "SPXL       1.857236 -0.083330 -16.813970  33.720167 -2.540645  "
      ]
     },
     "execution_count": 4,
     "metadata": {},
     "output_type": "execute_result"
    },
    {
     "data": {
      "image/png": "[encoded data removed]",
      "text/plain": [
       "<Figure size 1080x360 with 1 Axes>"
      ]
     },
     "metadata": {
      "needs_background": "light"
     },
     "output_type": "display_data"
    }
   ],
   "source": [
    "ana.graph({'SPXL': 50, 'TMF': 50})"
   ]
  },
  {
   "cell_type": "code",
   "execution_count": null,
   "metadata": {},
   "outputs": [],
   "source": []
  }
 ],
 "metadata": {
  "kernelspec": {
   "display_name": "Python 3",
   "language": "python",
   "name": "python3"
  },
  "language_info": {
   "codemirror_mode": {
    "name": "ipython",
    "version": 3
   },
   "file_extension": ".py",
   "mimetype": "text/x-python",
   "name": "python",
   "nbconvert_exporter": "python",
   "pygments_lexer": "ipython3",
   "version": "3.7.6"
  }
 },
 "nbformat": 4,
 "nbformat_minor": 4
}
