{
 "cells": [
  {
   "cell_type": "code",
   "execution_count": 2,
   "metadata": {},
   "outputs": [
    {
     "name": "stdout",
     "output_type": "stream",
     "text": [
      "Populating the interactive namespace from numpy and matplotlib\n",
      "from 2019-12-24 to 2020-03-13 - 2 symbols\n"
     ]
    },
    {
     "data": {
      "text/html": [
       "<div>\n",
       "<style scoped>\n",
       "    .dataframe tbody tr th:only-of-type {\n",
       "        vertical-align: middle;\n",
       "    }\n",
       "\n",
       "    .dataframe tbody tr th {\n",
       "        vertical-align: top;\n",
       "    }\n",
       "\n",
       "    .dataframe thead th {\n",
       "        text-align: right;\n",
       "    }\n",
       "</style>\n",
       "<table border=\"1\" class=\"dataframe\">\n",
       "  <thead>\n",
       "    <tr style=\"text-align: right;\">\n",
       "      <th></th>\n",
       "      <th>count</th>\n",
       "      <th>mean</th>\n",
       "      <th>std</th>\n",
       "      <th>min</th>\n",
       "      <th>25%</th>\n",
       "      <th>50%</th>\n",
       "      <th>75%</th>\n",
       "      <th>max</th>\n",
       "      <th>shrp</th>\n",
       "      <th>yield</th>\n",
       "      <th>down</th>\n",
       "      <th>skew</th>\n",
       "    </tr>\n",
       "    <tr>\n",
       "      <th>Symbols</th>\n",
       "      <th></th>\n",
       "      <th></th>\n",
       "      <th></th>\n",
       "      <th></th>\n",
       "      <th></th>\n",
       "      <th></th>\n",
       "      <th></th>\n",
       "      <th></th>\n",
       "      <th></th>\n",
       "      <th></th>\n",
       "      <th></th>\n",
       "      <th></th>\n",
       "    </tr>\n",
       "  </thead>\n",
       "  <tbody>\n",
       "    <tr>\n",
       "      <th>TMF</th>\n",
       "      <td>50.0</td>\n",
       "      <td>0.927921</td>\n",
       "      <td>1.606364</td>\n",
       "      <td>-4.697803</td>\n",
       "      <td>0.173088</td>\n",
       "      <td>0.589179</td>\n",
       "      <td>1.693389</td>\n",
       "      <td>6.885180</td>\n",
       "      <td>0.826663</td>\n",
       "      <td>38.678188</td>\n",
       "      <td>28.388597</td>\n",
       "      <td>0.475088</td>\n",
       "    </tr>\n",
       "    <tr>\n",
       "      <th>SPXL</th>\n",
       "      <td>50.0</td>\n",
       "      <td>-1.156235</td>\n",
       "      <td>3.049967</td>\n",
       "      <td>-11.498918</td>\n",
       "      <td>-1.494311</td>\n",
       "      <td>0.192300</td>\n",
       "      <td>0.664667</td>\n",
       "      <td>1.857236</td>\n",
       "      <td>-0.247948</td>\n",
       "      <td>-48.251746</td>\n",
       "      <td>64.644601</td>\n",
       "      <td>-1.760001</td>\n",
       "    </tr>\n",
       "  </tbody>\n",
       "</table>\n",
       "</div>"
      ],
      "text/plain": [
       "         count      mean       std        min       25%       50%       75%  \\\n",
       "Symbols                                                                       \n",
       "TMF       50.0  0.927921  1.606364  -4.697803  0.173088  0.589179  1.693389   \n",
       "SPXL      50.0 -1.156235  3.049967 -11.498918 -1.494311  0.192300  0.664667   \n",
       "\n",
       "              max      shrp      yield       down      skew  \n",
       "Symbols                                                      \n",
       "TMF      6.885180  0.826663  38.678188  28.388597  0.475088  \n",
       "SPXL     1.857236 -0.247948 -48.251746  64.644601 -1.760001  "
      ]
     },
     "execution_count": 2,
     "metadata": {},
     "output_type": "execute_result"
    }
   ],
   "source": [
    "%pylab inline\n",
    "from wallet.util.analysis import Analysis\n",
    "ana = Analysis(['SPXL','TMF'], 50, 5)\n",
    "print(ana)\n",
    "ana.screen()"
   ]
  },
  {
   "cell_type": "code",
   "execution_count": 3,
   "metadata": {},
   "outputs": [
    {
     "data": {
      "text/plain": [
       "([(-0.2479, {'SPXL': 1}), (0.8267, {'TMF': 1})], [])"
      ]
     },
     "execution_count": 3,
     "metadata": {},
     "output_type": "execute_result"
    }
   ],
   "source": [
    "ana.optimize_iteration([100])"
   ]
  },
  {
   "cell_type": "code",
   "execution_count": 4,
   "metadata": {},
   "outputs": [
    {
     "data": {
      "text/html": [
       "<div>\n",
       "<style scoped>\n",
       "    .dataframe tbody tr th:only-of-type {\n",
       "        vertical-align: middle;\n",
       "    }\n",
       "\n",
       "    .dataframe tbody tr th {\n",
       "        vertical-align: top;\n",
       "    }\n",
       "\n",
       "    .dataframe thead th {\n",
       "        text-align: right;\n",
       "    }\n",
       "</style>\n",
       "<table border=\"1\" class=\"dataframe\">\n",
       "  <thead>\n",
       "    <tr style=\"text-align: right;\">\n",
       "      <th></th>\n",
       "      <th>count</th>\n",
       "      <th>mean</th>\n",
       "      <th>std</th>\n",
       "      <th>min</th>\n",
       "      <th>25%</th>\n",
       "      <th>50%</th>\n",
       "      <th>75%</th>\n",
       "      <th>max</th>\n",
       "      <th>shrp</th>\n",
       "      <th>yield</th>\n",
       "      <th>down</th>\n",
       "      <th>skew</th>\n",
       "    </tr>\n",
       "  </thead>\n",
       "  <tbody>\n",
       "    <tr>\n",
       "      <th>TMF</th>\n",
       "      <td>50.0</td>\n",
       "      <td>0.927921</td>\n",
       "      <td>1.606364</td>\n",
       "      <td>-4.697803</td>\n",
       "      <td>0.173088</td>\n",
       "      <td>0.589179</td>\n",
       "      <td>1.693389</td>\n",
       "      <td>6.885180</td>\n",
       "      <td>0.826663</td>\n",
       "      <td>38.678188</td>\n",
       "      <td>28.388597</td>\n",
       "      <td>0.475088</td>\n",
       "    </tr>\n",
       "    <tr>\n",
       "      <th>Portfolio</th>\n",
       "      <td>50.0</td>\n",
       "      <td>0.218736</td>\n",
       "      <td>1.283204</td>\n",
       "      <td>-5.446544</td>\n",
       "      <td>0.191384</td>\n",
       "      <td>0.456925</td>\n",
       "      <td>0.599522</td>\n",
       "      <td>3.308554</td>\n",
       "      <td>0.482181</td>\n",
       "      <td>-0.440282</td>\n",
       "      <td>24.979788</td>\n",
       "      <td>-2.013182</td>\n",
       "    </tr>\n",
       "    <tr>\n",
       "      <th>SPXL</th>\n",
       "      <td>50.0</td>\n",
       "      <td>-1.156235</td>\n",
       "      <td>3.049967</td>\n",
       "      <td>-11.498918</td>\n",
       "      <td>-1.494311</td>\n",
       "      <td>0.192300</td>\n",
       "      <td>0.664667</td>\n",
       "      <td>1.857236</td>\n",
       "      <td>-0.247948</td>\n",
       "      <td>-48.251746</td>\n",
       "      <td>64.644601</td>\n",
       "      <td>-1.760001</td>\n",
       "    </tr>\n",
       "  </tbody>\n",
       "</table>\n",
       "</div>"
      ],
      "text/plain": [
       "           count      mean       std        min       25%       50%       75%  \\\n",
       "TMF         50.0  0.927921  1.606364  -4.697803  0.173088  0.589179  1.693389   \n",
       "Portfolio   50.0  0.218736  1.283204  -5.446544  0.191384  0.456925  0.599522   \n",
       "SPXL        50.0 -1.156235  3.049967 -11.498918 -1.494311  0.192300  0.664667   \n",
       "\n",
       "                max      shrp      yield       down      skew  \n",
       "TMF        6.885180  0.826663  38.678188  28.388597  0.475088  \n",
       "Portfolio  3.308554  0.482181  -0.440282  24.979788 -2.013182  \n",
       "SPXL       1.857236 -0.247948 -48.251746  64.644601 -1.760001  "
      ]
     },
     "execution_count": 4,
     "metadata": {},
     "output_type": "execute_result"
    },
    {
     "data": {
      "image/png": "[encoded data removed]",
      "text/plain": [
       "<Figure size 1080x360 with 1 Axes>"
      ]
     },
     "metadata": {
      "needs_background": "light"
     },
     "output_type": "display_data"
    }
   ],
   "source": [
    "ana.graph({'SPXL': 45, 'TMF': 55})"
   ]
  },
  {
   "cell_type": "code",
   "execution_count": null,
   "metadata": {},
   "outputs": [],
   "source": []
  }
 ],
 "metadata": {
  "kernelspec": {
   "display_name": "Python 3",
   "language": "python",
   "name": "python3"
  },
  "language_info": {
   "codemirror_mode": {
    "name": "ipython",
    "version": 3
   },
   "file_extension": ".py",
   "mimetype": "text/x-python",
   "name": "python",
   "nbconvert_exporter": "python",
   "pygments_lexer": "ipython3",
   "version": "3.7.7"
  }
 },
 "nbformat": 4,
 "nbformat_minor": 4
}
