{
 "cells": [
  {
   "cell_type": "code",
   "execution_count": 1,
   "metadata": {},
   "outputs": [
    {
     "name": "stdout",
     "output_type": "stream",
     "text": [
      "Populating the interactive namespace from numpy and matplotlib\n"
     ]
    },
    {
     "name": "stderr",
     "output_type": "stream",
     "text": [
      "/Users/che/.local/share/virtualenvs/portfolio_analysis-cXHJLPF2/lib/python3.7/site-packages/pandas_datareader/compat/__init__.py:7: FutureWarning: pandas.util.testing is deprecated. Use the functions in the public API at pandas.testing instead.\n",
      "  from pandas.util.testing import assert_frame_equal\n"
     ]
    },
    {
     "name": "stdout",
     "output_type": "stream",
     "text": [
      "from 2019-12-17 to 2020-03-06 - 2 symbols\n"
     ]
    },
    {
     "data": {
      "text/html": [
       "<div>\n",
       "<style scoped>\n",
       "    .dataframe tbody tr th:only-of-type {\n",
       "        vertical-align: middle;\n",
       "    }\n",
       "\n",
       "    .dataframe tbody tr th {\n",
       "        vertical-align: top;\n",
       "    }\n",
       "\n",
       "    .dataframe thead th {\n",
       "        text-align: right;\n",
       "    }\n",
       "</style>\n",
       "<table border=\"1\" class=\"dataframe\">\n",
       "  <thead>\n",
       "    <tr style=\"text-align: right;\">\n",
       "      <th></th>\n",
       "      <th>count</th>\n",
       "      <th>mean</th>\n",
       "      <th>std</th>\n",
       "      <th>min</th>\n",
       "      <th>25%</th>\n",
       "      <th>50%</th>\n",
       "      <th>75%</th>\n",
       "      <th>max</th>\n",
       "      <th>shrp</th>\n",
       "      <th>yield</th>\n",
       "      <th>down</th>\n",
       "      <th>skew</th>\n",
       "    </tr>\n",
       "    <tr>\n",
       "      <th>Symbols</th>\n",
       "      <th></th>\n",
       "      <th></th>\n",
       "      <th></th>\n",
       "      <th></th>\n",
       "      <th></th>\n",
       "      <th></th>\n",
       "      <th></th>\n",
       "      <th></th>\n",
       "      <th></th>\n",
       "      <th></th>\n",
       "      <th></th>\n",
       "      <th></th>\n",
       "    </tr>\n",
       "  </thead>\n",
       "  <tbody>\n",
       "    <tr>\n",
       "      <th>TMF</th>\n",
       "      <td>50.0</td>\n",
       "      <td>0.859813</td>\n",
       "      <td>1.104893</td>\n",
       "      <td>-0.956328</td>\n",
       "      <td>0.111677</td>\n",
       "      <td>0.524223</td>\n",
       "      <td>1.540416</td>\n",
       "      <td>4.926412</td>\n",
       "      <td>0.771003</td>\n",
       "      <td>74.848852</td>\n",
       "      <td>7.377307</td>\n",
       "      <td>1.107890</td>\n",
       "    </tr>\n",
       "    <tr>\n",
       "      <th>SPXL</th>\n",
       "      <td>50.0</td>\n",
       "      <td>-0.354709</td>\n",
       "      <td>1.988035</td>\n",
       "      <td>-7.278663</td>\n",
       "      <td>-0.612329</td>\n",
       "      <td>0.352128</td>\n",
       "      <td>0.688021</td>\n",
       "      <td>1.857236</td>\n",
       "      <td>-0.182414</td>\n",
       "      <td>-22.191770</td>\n",
       "      <td>34.458658</td>\n",
       "      <td>-2.186948</td>\n",
       "    </tr>\n",
       "  </tbody>\n",
       "</table>\n",
       "</div>"
      ],
      "text/plain": [
       "         count      mean       std       min       25%       50%       75%  \\\n",
       "Symbols                                                                      \n",
       "TMF       50.0  0.859813  1.104893 -0.956328  0.111677  0.524223  1.540416   \n",
       "SPXL      50.0 -0.354709  1.988035 -7.278663 -0.612329  0.352128  0.688021   \n",
       "\n",
       "              max      shrp      yield       down      skew  \n",
       "Symbols                                                      \n",
       "TMF      4.926412  0.771003  74.848852   7.377307  1.107890  \n",
       "SPXL     1.857236 -0.182414 -22.191770  34.458658 -2.186948  "
      ]
     },
     "execution_count": 1,
     "metadata": {},
     "output_type": "execute_result"
    }
   ],
   "source": [
    "%pylab inline\n",
    "from wallet.util.analysis import Analysis\n",
    "ana = Analysis(['SPXL','TMF'], 50, 5)\n",
    "print(ana)\n",
    "ana.screen()"
   ]
  },
  {
   "cell_type": "code",
   "execution_count": 2,
   "metadata": {},
   "outputs": [
    {
     "data": {
      "text/plain": [
       "([(-0.1824, {'SPXL': 1}), (0.771, {'TMF': 1})], [])"
      ]
     },
     "execution_count": 2,
     "metadata": {},
     "output_type": "execute_result"
    }
   ],
   "source": [
    "ana.optimize_iteration([100], max_count=2)"
   ]
  },
  {
   "cell_type": "code",
   "execution_count": 3,
   "metadata": {},
   "outputs": [
    {
     "data": {
      "text/html": [
       "<div>\n",
       "<style scoped>\n",
       "    .dataframe tbody tr th:only-of-type {\n",
       "        vertical-align: middle;\n",
       "    }\n",
       "\n",
       "    .dataframe tbody tr th {\n",
       "        vertical-align: top;\n",
       "    }\n",
       "\n",
       "    .dataframe thead th {\n",
       "        text-align: right;\n",
       "    }\n",
       "</style>\n",
       "<table border=\"1\" class=\"dataframe\">\n",
       "  <thead>\n",
       "    <tr style=\"text-align: right;\">\n",
       "      <th></th>\n",
       "      <th>count</th>\n",
       "      <th>mean</th>\n",
       "      <th>std</th>\n",
       "      <th>min</th>\n",
       "      <th>25%</th>\n",
       "      <th>50%</th>\n",
       "      <th>75%</th>\n",
       "      <th>max</th>\n",
       "      <th>shrp</th>\n",
       "      <th>yield</th>\n",
       "      <th>down</th>\n",
       "      <th>skew</th>\n",
       "    </tr>\n",
       "  </thead>\n",
       "  <tbody>\n",
       "    <tr>\n",
       "      <th>TMF</th>\n",
       "      <td>50.0</td>\n",
       "      <td>0.859813</td>\n",
       "      <td>1.104893</td>\n",
       "      <td>-0.956328</td>\n",
       "      <td>0.111677</td>\n",
       "      <td>0.524223</td>\n",
       "      <td>1.540416</td>\n",
       "      <td>4.926412</td>\n",
       "      <td>0.771003</td>\n",
       "      <td>74.848852</td>\n",
       "      <td>7.377307</td>\n",
       "      <td>1.107890</td>\n",
       "    </tr>\n",
       "    <tr>\n",
       "      <th>Portfolio</th>\n",
       "      <td>50.0</td>\n",
       "      <td>0.382563</td>\n",
       "      <td>0.688323</td>\n",
       "      <td>-1.698946</td>\n",
       "      <td>0.195941</td>\n",
       "      <td>0.442542</td>\n",
       "      <td>0.597467</td>\n",
       "      <td>3.259111</td>\n",
       "      <td>0.544260</td>\n",
       "      <td>31.180572</td>\n",
       "      <td>8.388120</td>\n",
       "      <td>0.734173</td>\n",
       "    </tr>\n",
       "    <tr>\n",
       "      <th>SPXL</th>\n",
       "      <td>50.0</td>\n",
       "      <td>-0.354709</td>\n",
       "      <td>1.988035</td>\n",
       "      <td>-7.278663</td>\n",
       "      <td>-0.612329</td>\n",
       "      <td>0.352128</td>\n",
       "      <td>0.688021</td>\n",
       "      <td>1.857236</td>\n",
       "      <td>-0.182414</td>\n",
       "      <td>-22.191770</td>\n",
       "      <td>34.458658</td>\n",
       "      <td>-2.186948</td>\n",
       "    </tr>\n",
       "  </tbody>\n",
       "</table>\n",
       "</div>"
      ],
      "text/plain": [
       "           count      mean       std       min       25%       50%       75%  \\\n",
       "TMF         50.0  0.859813  1.104893 -0.956328  0.111677  0.524223  1.540416   \n",
       "Portfolio   50.0  0.382563  0.688323 -1.698946  0.195941  0.442542  0.597467   \n",
       "SPXL        50.0 -0.354709  1.988035 -7.278663 -0.612329  0.352128  0.688021   \n",
       "\n",
       "                max      shrp      yield       down      skew  \n",
       "TMF        4.926412  0.771003  74.848852   7.377307  1.107890  \n",
       "Portfolio  3.259111  0.544260  31.180572   8.388120  0.734173  \n",
       "SPXL       1.857236 -0.182414 -22.191770  34.458658 -2.186948  "
      ]
     },
     "execution_count": 3,
     "metadata": {},
     "output_type": "execute_result"
    },
    {
     "data": {
      "image/png": "[encoded data removed]",
      "text/plain": [
       "<Figure size 1080x360 with 1 Axes>"
      ]
     },
     "metadata": {
      "needs_background": "light"
     },
     "output_type": "display_data"
    }
   ],
   "source": [
    "ana.graph({'SPXL': 45, 'TMF': 55})"
   ]
  },
  {
   "cell_type": "code",
   "execution_count": null,
   "metadata": {},
   "outputs": [],
   "source": []
  }
 ],
 "metadata": {
  "kernelspec": {
   "display_name": "Python 3",
   "language": "python",
   "name": "python3"
  },
  "language_info": {
   "codemirror_mode": {
    "name": "ipython",
    "version": 3
   },
   "file_extension": ".py",
   "mimetype": "text/x-python",
   "name": "python",
   "nbconvert_exporter": "python",
   "pygments_lexer": "ipython3",
   "version": "3.7.6"
  }
 },
 "nbformat": 4,
 "nbformat_minor": 4
}
