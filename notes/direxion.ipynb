{
 "cells": [
  {
   "cell_type": "code",
   "execution_count": 1,
   "metadata": {},
   "outputs": [
    {
     "name": "stdout",
     "output_type": "stream",
     "text": [
      "Populating the interactive namespace from numpy and matplotlib\n"
     ]
    },
    {
     "name": "stderr",
     "output_type": "stream",
     "text": [
      "/Users/che/.local/share/virtualenvs/portfolio_analysis-cXHJLPF2/lib/python3.7/site-packages/pandas_datareader/compat/__init__.py:7: FutureWarning: pandas.util.testing is deprecated. Use the functions in the public API at pandas.testing instead.\n",
      "  from pandas.util.testing import assert_frame_equal\n"
     ]
    },
    {
     "name": "stdout",
     "output_type": "stream",
     "text": [
      "from 2019-12-03 to 2020-02-21 - 2 symbols\n"
     ]
    },
    {
     "data": {
      "text/html": [
       "<div>\n",
       "<style scoped>\n",
       "    .dataframe tbody tr th:only-of-type {\n",
       "        vertical-align: middle;\n",
       "    }\n",
       "\n",
       "    .dataframe tbody tr th {\n",
       "        vertical-align: top;\n",
       "    }\n",
       "\n",
       "    .dataframe thead th {\n",
       "        text-align: right;\n",
       "    }\n",
       "</style>\n",
       "<table border=\"1\" class=\"dataframe\">\n",
       "  <thead>\n",
       "    <tr style=\"text-align: right;\">\n",
       "      <th></th>\n",
       "      <th>count</th>\n",
       "      <th>mean</th>\n",
       "      <th>std</th>\n",
       "      <th>min</th>\n",
       "      <th>25%</th>\n",
       "      <th>50%</th>\n",
       "      <th>75%</th>\n",
       "      <th>max</th>\n",
       "      <th>shrp</th>\n",
       "      <th>yield</th>\n",
       "      <th>down</th>\n",
       "      <th>skew</th>\n",
       "    </tr>\n",
       "    <tr>\n",
       "      <th>Symbols</th>\n",
       "      <th></th>\n",
       "      <th></th>\n",
       "      <th></th>\n",
       "      <th></th>\n",
       "      <th></th>\n",
       "      <th></th>\n",
       "      <th></th>\n",
       "      <th></th>\n",
       "      <th></th>\n",
       "      <th></th>\n",
       "      <th></th>\n",
       "      <th></th>\n",
       "    </tr>\n",
       "  </thead>\n",
       "  <tbody>\n",
       "    <tr>\n",
       "      <th>SPXL</th>\n",
       "      <td>50.0</td>\n",
       "      <td>0.448920</td>\n",
       "      <td>0.703335</td>\n",
       "      <td>-1.550713</td>\n",
       "      <td>0.145436</td>\n",
       "      <td>0.593175</td>\n",
       "      <td>0.877063</td>\n",
       "      <td>1.857236</td>\n",
       "      <td>0.626989</td>\n",
       "      <td>24.699345</td>\n",
       "      <td>9.342561</td>\n",
       "      <td>-0.914397</td>\n",
       "    </tr>\n",
       "    <tr>\n",
       "      <th>TMF</th>\n",
       "      <td>50.0</td>\n",
       "      <td>0.263451</td>\n",
       "      <td>0.837692</td>\n",
       "      <td>-1.460120</td>\n",
       "      <td>-0.339587</td>\n",
       "      <td>0.238297</td>\n",
       "      <td>0.590238</td>\n",
       "      <td>2.644721</td>\n",
       "      <td>0.305022</td>\n",
       "      <td>14.120602</td>\n",
       "      <td>11.763120</td>\n",
       "      <td>0.477120</td>\n",
       "    </tr>\n",
       "  </tbody>\n",
       "</table>\n",
       "</div>"
      ],
      "text/plain": [
       "         count      mean       std       min       25%       50%       75%  \\\n",
       "Symbols                                                                      \n",
       "SPXL      50.0  0.448920  0.703335 -1.550713  0.145436  0.593175  0.877063   \n",
       "TMF       50.0  0.263451  0.837692 -1.460120 -0.339587  0.238297  0.590238   \n",
       "\n",
       "              max      shrp      yield       down      skew  \n",
       "Symbols                                                      \n",
       "SPXL     1.857236  0.626989  24.699345   9.342561 -0.914397  \n",
       "TMF      2.644721  0.305022  14.120602  11.763120  0.477120  "
      ]
     },
     "execution_count": 1,
     "metadata": {},
     "output_type": "execute_result"
    }
   ],
   "source": [
    "%pylab inline\n",
    "from wallet.util.analysis import Analysis\n",
    "ana = Analysis(['SPXL','TMF'], 50, 5)\n",
    "print(ana)\n",
    "ana.screen(std_skew=False)"
   ]
  },
  {
   "cell_type": "code",
   "execution_count": 2,
   "metadata": {},
   "outputs": [
    {
     "data": {
      "text/plain": [
       "([(1.453, {'SPXL': 0.5637, 'TMF': 0.4363})],\n",
       " [(0, 0, [[{'SPXL': 56, 'TMF': 44}, set()]])])"
      ]
     },
     "execution_count": 2,
     "metadata": {},
     "output_type": "execute_result"
    }
   ],
   "source": [
    "ana.optimize_iteration([100], max_count=2)"
   ]
  },
  {
   "cell_type": "code",
   "execution_count": 3,
   "metadata": {},
   "outputs": [
    {
     "data": {
      "text/html": [
       "<div>\n",
       "<style scoped>\n",
       "    .dataframe tbody tr th:only-of-type {\n",
       "        vertical-align: middle;\n",
       "    }\n",
       "\n",
       "    .dataframe tbody tr th {\n",
       "        vertical-align: top;\n",
       "    }\n",
       "\n",
       "    .dataframe thead th {\n",
       "        text-align: right;\n",
       "    }\n",
       "</style>\n",
       "<table border=\"1\" class=\"dataframe\">\n",
       "  <thead>\n",
       "    <tr style=\"text-align: right;\">\n",
       "      <th></th>\n",
       "      <th>count</th>\n",
       "      <th>mean</th>\n",
       "      <th>std</th>\n",
       "      <th>min</th>\n",
       "      <th>25%</th>\n",
       "      <th>50%</th>\n",
       "      <th>75%</th>\n",
       "      <th>max</th>\n",
       "      <th>shrp</th>\n",
       "      <th>yield</th>\n",
       "      <th>down</th>\n",
       "      <th>skew</th>\n",
       "    </tr>\n",
       "  </thead>\n",
       "  <tbody>\n",
       "    <tr>\n",
       "      <th>Portfolio</th>\n",
       "      <td>50.0</td>\n",
       "      <td>0.369786</td>\n",
       "      <td>0.260305</td>\n",
       "      <td>-0.146381</td>\n",
       "      <td>0.211561</td>\n",
       "      <td>0.304046</td>\n",
       "      <td>0.557039</td>\n",
       "      <td>0.966701</td>\n",
       "      <td>1.390100</td>\n",
       "      <td>20.044698</td>\n",
       "      <td>2.130185</td>\n",
       "      <td>0.239528</td>\n",
       "    </tr>\n",
       "    <tr>\n",
       "      <th>SPXL</th>\n",
       "      <td>50.0</td>\n",
       "      <td>0.448920</td>\n",
       "      <td>0.703335</td>\n",
       "      <td>-1.550713</td>\n",
       "      <td>0.145436</td>\n",
       "      <td>0.593175</td>\n",
       "      <td>0.877063</td>\n",
       "      <td>1.857236</td>\n",
       "      <td>0.626989</td>\n",
       "      <td>24.699345</td>\n",
       "      <td>9.342561</td>\n",
       "      <td>-0.914397</td>\n",
       "    </tr>\n",
       "    <tr>\n",
       "      <th>TMF</th>\n",
       "      <td>50.0</td>\n",
       "      <td>0.263451</td>\n",
       "      <td>0.837692</td>\n",
       "      <td>-1.460120</td>\n",
       "      <td>-0.339587</td>\n",
       "      <td>0.238297</td>\n",
       "      <td>0.590238</td>\n",
       "      <td>2.644721</td>\n",
       "      <td>0.305022</td>\n",
       "      <td>14.120602</td>\n",
       "      <td>11.763120</td>\n",
       "      <td>0.477120</td>\n",
       "    </tr>\n",
       "  </tbody>\n",
       "</table>\n",
       "</div>"
      ],
      "text/plain": [
       "           count      mean       std       min       25%       50%       75%  \\\n",
       "Portfolio   50.0  0.369786  0.260305 -0.146381  0.211561  0.304046  0.557039   \n",
       "SPXL        50.0  0.448920  0.703335 -1.550713  0.145436  0.593175  0.877063   \n",
       "TMF         50.0  0.263451  0.837692 -1.460120 -0.339587  0.238297  0.590238   \n",
       "\n",
       "                max      shrp      yield       down      skew  \n",
       "Portfolio  0.966701  1.390100  20.044698   2.130185  0.239528  \n",
       "SPXL       1.857236  0.626989  24.699345   9.342561 -0.914397  \n",
       "TMF        2.644721  0.305022  14.120602  11.763120  0.477120  "
      ]
     },
     "execution_count": 3,
     "metadata": {},
     "output_type": "execute_result"
    },
    {
     "data": {
      "image/png": "[encoded data removed]",
      "text/plain": [
       "<Figure size 1080x360 with 1 Axes>"
      ]
     },
     "metadata": {
      "needs_background": "light"
     },
     "output_type": "display_data"
    }
   ],
   "source": [
    "ana.graph({'SPXL': 56, 'TMF': 44})"
   ]
  },
  {
   "cell_type": "code",
   "execution_count": null,
   "metadata": {},
   "outputs": [],
   "source": []
  }
 ],
 "metadata": {
  "kernelspec": {
   "display_name": "Python 3",
   "language": "python",
   "name": "python3"
  },
  "language_info": {
   "codemirror_mode": {
    "name": "ipython",
    "version": 3
   },
   "file_extension": ".py",
   "mimetype": "text/x-python",
   "name": "python",
   "nbconvert_exporter": "python",
   "pygments_lexer": "ipython3",
   "version": "3.7.6"
  }
 },
 "nbformat": 4,
 "nbformat_minor": 4
}
