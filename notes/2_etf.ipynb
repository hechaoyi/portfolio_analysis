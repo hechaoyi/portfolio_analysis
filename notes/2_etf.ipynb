{
 "cells": [
  {
   "cell_type": "code",
   "execution_count": 1,
   "metadata": {},
   "outputs": [
    {
     "data": {
      "text/plain": [
       "'from 2019-02-25 to 2019-06-21 - 100'"
      ]
     },
     "execution_count": 1,
     "metadata": {},
     "output_type": "execute_result"
    }
   ],
   "source": [
    "from app import create_app, db\n",
    "from app.instrument import Instrument\n",
    "from app.analysis import Quote\n",
    "with create_app().app_context():\n",
    "    instruments = {b.symbol: b for b in Instrument.find_etfs(100)}\n",
    "    quote = Quote([*instruments.keys()], 120)\n",
    "    quote.update_boosts(21, instruments)\n",
    "    db.session.commit()\n",
    "f'from {quote.start.date()} to {quote.end.date()} - {len(quote.data.columns)}'"
   ]
  },
  {
   "cell_type": "code",
   "execution_count": 2,
   "metadata": {},
   "outputs": [
    {
     "data": {
      "text/html": [
       "<div>\n",
       "<style scoped>\n",
       "    .dataframe tbody tr th:only-of-type {\n",
       "        vertical-align: middle;\n",
       "    }\n",
       "\n",
       "    .dataframe tbody tr th {\n",
       "        vertical-align: top;\n",
       "    }\n",
       "\n",
       "    .dataframe thead th {\n",
       "        text-align: right;\n",
       "    }\n",
       "</style>\n",
       "<table border=\"1\" class=\"dataframe\">\n",
       "  <thead>\n",
       "    <tr style=\"text-align: right;\">\n",
       "      <th></th>\n",
       "      <th>21-len</th>\n",
       "      <th>21-mean</th>\n",
       "      <th>21-std</th>\n",
       "      <th>21-shrp</th>\n",
       "      <th>drawdown</th>\n",
       "    </tr>\n",
       "    <tr>\n",
       "      <th>Symbols</th>\n",
       "      <th></th>\n",
       "      <th></th>\n",
       "      <th></th>\n",
       "      <th></th>\n",
       "      <th></th>\n",
       "    </tr>\n",
       "  </thead>\n",
       "  <tbody>\n",
       "    <tr>\n",
       "      <th>XLP</th>\n",
       "      <td>62</td>\n",
       "      <td>2.271503</td>\n",
       "      <td>1.545243</td>\n",
       "      <td>1.362139</td>\n",
       "      <td>4.021399</td>\n",
       "    </tr>\n",
       "    <tr>\n",
       "      <th>SPLV</th>\n",
       "      <td>62</td>\n",
       "      <td>2.006881</td>\n",
       "      <td>1.369318</td>\n",
       "      <td>1.343892</td>\n",
       "      <td>1.971361</td>\n",
       "    </tr>\n",
       "    <tr>\n",
       "      <th>IPAY</th>\n",
       "      <td>62</td>\n",
       "      <td>3.000988</td>\n",
       "      <td>2.515622</td>\n",
       "      <td>1.126688</td>\n",
       "      <td>5.347951</td>\n",
       "    </tr>\n",
       "    <tr>\n",
       "      <th>USMV</th>\n",
       "      <td>62</td>\n",
       "      <td>2.005298</td>\n",
       "      <td>1.652544</td>\n",
       "      <td>1.112606</td>\n",
       "      <td>2.180427</td>\n",
       "    </tr>\n",
       "    <tr>\n",
       "      <th>MTUM</th>\n",
       "      <td>62</td>\n",
       "      <td>1.855401</td>\n",
       "      <td>1.922174</td>\n",
       "      <td>0.878555</td>\n",
       "      <td>2.859384</td>\n",
       "    </tr>\n",
       "    <tr>\n",
       "      <th>PPA</th>\n",
       "      <td>62</td>\n",
       "      <td>2.635153</td>\n",
       "      <td>2.833582</td>\n",
       "      <td>0.871154</td>\n",
       "      <td>4.581305</td>\n",
       "    </tr>\n",
       "    <tr>\n",
       "      <th>FINX</th>\n",
       "      <td>62</td>\n",
       "      <td>2.200034</td>\n",
       "      <td>2.380889</td>\n",
       "      <td>0.854037</td>\n",
       "      <td>5.312173</td>\n",
       "    </tr>\n",
       "    <tr>\n",
       "      <th>XAR</th>\n",
       "      <td>62</td>\n",
       "      <td>2.549642</td>\n",
       "      <td>3.037169</td>\n",
       "      <td>0.784604</td>\n",
       "      <td>6.769803</td>\n",
       "    </tr>\n",
       "    <tr>\n",
       "      <th>VPU</th>\n",
       "      <td>62</td>\n",
       "      <td>1.417281</td>\n",
       "      <td>1.820403</td>\n",
       "      <td>0.686998</td>\n",
       "      <td>3.258989</td>\n",
       "    </tr>\n",
       "    <tr>\n",
       "      <th>XLU</th>\n",
       "      <td>62</td>\n",
       "      <td>1.460759</td>\n",
       "      <td>1.911888</td>\n",
       "      <td>0.676866</td>\n",
       "      <td>3.426057</td>\n",
       "    </tr>\n",
       "    <tr>\n",
       "      <th>ICLN</th>\n",
       "      <td>62</td>\n",
       "      <td>1.871566</td>\n",
       "      <td>2.873818</td>\n",
       "      <td>0.593252</td>\n",
       "      <td>4.109596</td>\n",
       "    </tr>\n",
       "    <tr>\n",
       "      <th>ESPO</th>\n",
       "      <td>62</td>\n",
       "      <td>2.600498</td>\n",
       "      <td>4.462469</td>\n",
       "      <td>0.545400</td>\n",
       "      <td>5.770387</td>\n",
       "    </tr>\n",
       "    <tr>\n",
       "      <th>VIG</th>\n",
       "      <td>62</td>\n",
       "      <td>1.420060</td>\n",
       "      <td>2.359189</td>\n",
       "      <td>0.531282</td>\n",
       "      <td>4.634193</td>\n",
       "    </tr>\n",
       "  </tbody>\n",
       "</table>\n",
       "</div>"
      ],
      "text/plain": [
       "         21-len   21-mean    21-std   21-shrp  drawdown\n",
       "Symbols                                                \n",
       "XLP          62  2.271503  1.545243  1.362139  4.021399\n",
       "SPLV         62  2.006881  1.369318  1.343892  1.971361\n",
       "IPAY         62  3.000988  2.515622  1.126688  5.347951\n",
       "USMV         62  2.005298  1.652544  1.112606  2.180427\n",
       "MTUM         62  1.855401  1.922174  0.878555  2.859384\n",
       "PPA          62  2.635153  2.833582  0.871154  4.581305\n",
       "FINX         62  2.200034  2.380889  0.854037  5.312173\n",
       "XAR          62  2.549642  3.037169  0.784604  6.769803\n",
       "VPU          62  1.417281  1.820403  0.686998  3.258989\n",
       "XLU          62  1.460759  1.911888  0.676866  3.426057\n",
       "ICLN         62  1.871566  2.873818  0.593252  4.109596\n",
       "ESPO         62  2.600498  4.462469  0.545400  5.770387\n",
       "VIG          62  1.420060  2.359189  0.531282  4.634193"
      ]
     },
     "execution_count": 2,
     "metadata": {},
     "output_type": "execute_result"
    }
   ],
   "source": [
    "stat = quote.statistics(21)\n",
    "stat = stat[(stat['drawdown'] < 8) & (stat['21-mean'] > 0.8) & (stat['21-shrp'] > 0.4)]\n",
    "stat"
   ]
  },
  {
   "cell_type": "code",
   "execution_count": 8,
   "metadata": {},
   "outputs": [
    {
     "name": "stdout",
     "output_type": "stream",
     "text": [
      "['XLP'] -0.9199988735421805 1 0.8042797087596598 1.36213929115092\n",
      "['XLP', 'SPLV'] -1.6173547495202074 0.48940037970150096 0.5992759100722795 1.353015519646994\n"
     ]
    },
    {
     "data": {
      "text/plain": [
       "['XLP', 'SPLV']"
      ]
     },
     "execution_count": 8,
     "metadata": {},
     "output_type": "execute_result"
    }
   ],
   "source": [
    "quote.setup_mask(stat.index)\n",
    "quote.least_correlated_portfolio(21, 2, sr=2)"
   ]
  },
  {
   "cell_type": "code",
   "execution_count": 9,
   "metadata": {},
   "outputs": [
    {
     "name": "stdout",
     "output_type": "stream",
     "text": [
      "['XLP', 'SPLV'] 1.0886762897737805 0.48940037970150096 0.5992759100722795 1.353015519646994\n",
      "['XLP', 'SPLV', 'IPAY'] 0.9866392733403107 0.6305919092462718 0.7560473640940389 1.2775730128264142\n",
      "['XLP', 'SPLV', 'IPAY', 'USMV'] 0.6033673787034911 0.7273105175063485 0.6760568611971427 1.2363312807488303\n",
      "['XLP', 'SPLV', 'IPAY', 'PPA'] 0.3980868916806413 0.4019861281968036 0.7961007634838377 1.1759682540888543\n",
      "['XLP', 'SPLV', 'USMV', 'PPA'] 0.2729190449674856 0.4351945113914237 0.637724533576062 1.1724477754215603\n",
      "['XLP', 'SPLV', 'PPA', 'VPU'] 0.1360437532035592 0.244391122012488 0.6916526311910712 1.0660458538288422\n"
     ]
    },
    {
     "data": {
      "text/plain": [
       "['XLP', 'SPLV', 'PPA', 'VPU']"
      ]
     },
     "execution_count": 9,
     "metadata": {},
     "output_type": "execute_result"
    }
   ],
   "source": [
    "quote.setup_mask(stat.index)\n",
    "quote.least_correlated_portfolio(21, 4, ['XLP', 'SPLV'], sr=0)"
   ]
  },
  {
   "cell_type": "code",
   "execution_count": 11,
   "metadata": {},
   "outputs": [
    {
     "name": "stdout",
     "output_type": "stream",
     "text": [
      "     fun: 1.5534829848859117\n",
      "     jac: array([3.10538721, 3.10949907])\n",
      " message: 'Optimization terminated successfully.'\n",
      "    nfev: 8\n",
      "     nit: 2\n",
      "    njev: 2\n",
      "  status: 0\n",
      " success: True\n",
      "       x: array([0.61603439, 0.38396561])\n"
     ]
    },
    {
     "data": {
      "text/plain": [
       "({'SPLV': 0.6160343943186752, 'XLP': 0.38396560568132476}, 2.1085, 1.2464)"
      ]
     },
     "execution_count": 11,
     "metadata": {},
     "output_type": "execute_result"
    }
   ],
   "source": [
    "quote.setup_mask(['SPLV', 'XLP'])\n",
    "quote.find_optimal_ratio(21, 2)"
   ]
  },
  {
   "cell_type": "code",
   "execution_count": 12,
   "metadata": {},
   "outputs": [
    {
     "name": "stdout",
     "output_type": "stream",
     "text": [
      "Populating the interactive namespace from numpy and matplotlib\n"
     ]
    },
    {
     "data": {
      "text/html": [
       "<div>\n",
       "<style scoped>\n",
       "    .dataframe tbody tr th:only-of-type {\n",
       "        vertical-align: middle;\n",
       "    }\n",
       "\n",
       "    .dataframe tbody tr th {\n",
       "        vertical-align: top;\n",
       "    }\n",
       "\n",
       "    .dataframe thead th {\n",
       "        text-align: right;\n",
       "    }\n",
       "</style>\n",
       "<table border=\"1\" class=\"dataframe\">\n",
       "  <thead>\n",
       "    <tr style=\"text-align: right;\">\n",
       "      <th></th>\n",
       "      <th>count</th>\n",
       "      <th>mean</th>\n",
       "      <th>std</th>\n",
       "      <th>min</th>\n",
       "      <th>25%</th>\n",
       "      <th>50%</th>\n",
       "      <th>75%</th>\n",
       "      <th>max</th>\n",
       "      <th>shrp</th>\n",
       "      <th>drawdown</th>\n",
       "    </tr>\n",
       "  </thead>\n",
       "  <tbody>\n",
       "    <tr>\n",
       "      <th>Portfolio</th>\n",
       "      <td>62.0</td>\n",
       "      <td>2.105104</td>\n",
       "      <td>1.245923</td>\n",
       "      <td>-1.451733</td>\n",
       "      <td>1.723659</td>\n",
       "      <td>2.257250</td>\n",
       "      <td>2.694654</td>\n",
       "      <td>4.335144</td>\n",
       "      <td>1.555824</td>\n",
       "      <td>2.325203</td>\n",
       "    </tr>\n",
       "    <tr>\n",
       "      <th>XLP</th>\n",
       "      <td>62.0</td>\n",
       "      <td>2.271503</td>\n",
       "      <td>1.545243</td>\n",
       "      <td>-2.438597</td>\n",
       "      <td>1.639601</td>\n",
       "      <td>2.695942</td>\n",
       "      <td>3.313481</td>\n",
       "      <td>4.497904</td>\n",
       "      <td>1.362139</td>\n",
       "      <td>4.021399</td>\n",
       "    </tr>\n",
       "    <tr>\n",
       "      <th>SPLV</th>\n",
       "      <td>62.0</td>\n",
       "      <td>2.006881</td>\n",
       "      <td>1.369318</td>\n",
       "      <td>-0.950248</td>\n",
       "      <td>1.177570</td>\n",
       "      <td>1.909380</td>\n",
       "      <td>2.779976</td>\n",
       "      <td>4.955301</td>\n",
       "      <td>1.343892</td>\n",
       "      <td>1.971361</td>\n",
       "    </tr>\n",
       "  </tbody>\n",
       "</table>\n",
       "</div>"
      ],
      "text/plain": [
       "           count      mean       std       min       25%       50%       75%  \\\n",
       "Portfolio   62.0  2.105104  1.245923 -1.451733  1.723659  2.257250  2.694654   \n",
       "XLP         62.0  2.271503  1.545243 -2.438597  1.639601  2.695942  3.313481   \n",
       "SPLV        62.0  2.006881  1.369318 -0.950248  1.177570  1.909380  2.779976   \n",
       "\n",
       "                max      shrp  drawdown  \n",
       "Portfolio  4.335144  1.555824  2.325203  \n",
       "XLP        4.497904  1.362139  4.021399  \n",
       "SPLV       4.955301  1.343892  1.971361  "
      ]
     },
     "execution_count": 12,
     "metadata": {},
     "output_type": "execute_result"
    },
    {
     "data": {
      "image/png": "[encoded data removed]",
      "text/plain": [
       "<Figure size 864x576 with 1 Axes>"
      ]
     },
     "metadata": {
      "needs_background": "light"
     },
     "output_type": "display_data"
    }
   ],
   "source": [
    "%pylab inline\n",
    "quote.graph(21, {'SPLV': 0.62, 'XLP': 0.38})"
   ]
  },
  {
   "cell_type": "code",
   "execution_count": null,
   "metadata": {},
   "outputs": [],
   "source": []
  }
 ],
 "metadata": {
  "kernelspec": {
   "display_name": "Python 3",
   "language": "python",
   "name": "python3"
  },
  "language_info": {
   "codemirror_mode": {
    "name": "ipython",
    "version": 3
   },
   "file_extension": ".py",
   "mimetype": "text/x-python",
   "name": "python",
   "nbconvert_exporter": "python",
   "pygments_lexer": "ipython3",
   "version": "3.7.3"
  }
 },
 "nbformat": 4,
 "nbformat_minor": 2
}
