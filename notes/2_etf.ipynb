{
 "cells": [
  {
   "cell_type": "code",
   "execution_count": 1,
   "metadata": {},
   "outputs": [
    {
     "data": {
      "text/plain": [
       "'from 2019-02-21 to 2019-06-21 - 85'"
      ]
     },
     "execution_count": 1,
     "metadata": {},
     "output_type": "execute_result"
    }
   ],
   "source": [
    "from app import create_app\n",
    "from app.instrument import Instrument\n",
    "from app.analysis import Quote\n",
    "with create_app().app_context():\n",
    "    quote = Quote([b.symbol for b in Instrument.find_etfs(100)], 120)\n",
    "f'from {quote.start.date()} to {quote.end.date()} - {len(quote.data.columns)}'"
   ]
  },
  {
   "cell_type": "code",
   "execution_count": 2,
   "metadata": {},
   "outputs": [
    {
     "data": {
      "text/html": [
       "<div>\n",
       "<style scoped>\n",
       "    .dataframe tbody tr th:only-of-type {\n",
       "        vertical-align: middle;\n",
       "    }\n",
       "\n",
       "    .dataframe tbody tr th {\n",
       "        vertical-align: top;\n",
       "    }\n",
       "\n",
       "    .dataframe thead th {\n",
       "        text-align: right;\n",
       "    }\n",
       "</style>\n",
       "<table border=\"1\" class=\"dataframe\">\n",
       "  <thead>\n",
       "    <tr style=\"text-align: right;\">\n",
       "      <th></th>\n",
       "      <th>21-len</th>\n",
       "      <th>21-mean</th>\n",
       "      <th>21-std</th>\n",
       "      <th>21-shrp</th>\n",
       "      <th>drawdown</th>\n",
       "    </tr>\n",
       "    <tr>\n",
       "      <th>Symbols</th>\n",
       "      <th></th>\n",
       "      <th></th>\n",
       "      <th></th>\n",
       "      <th></th>\n",
       "      <th></th>\n",
       "    </tr>\n",
       "  </thead>\n",
       "  <tbody>\n",
       "    <tr>\n",
       "      <th>SPLV</th>\n",
       "      <td>64</td>\n",
       "      <td>1.989199</td>\n",
       "      <td>1.351612</td>\n",
       "      <td>1.348414</td>\n",
       "      <td>1.971361</td>\n",
       "    </tr>\n",
       "    <tr>\n",
       "      <th>FINX</th>\n",
       "      <td>64</td>\n",
       "      <td>2.192274</td>\n",
       "      <td>2.360783</td>\n",
       "      <td>0.858024</td>\n",
       "      <td>5.312173</td>\n",
       "    </tr>\n",
       "    <tr>\n",
       "      <th>XLU</th>\n",
       "      <td>64</td>\n",
       "      <td>1.516285</td>\n",
       "      <td>1.910099</td>\n",
       "      <td>0.706570</td>\n",
       "      <td>3.426052</td>\n",
       "    </tr>\n",
       "    <tr>\n",
       "      <th>XAR</th>\n",
       "      <td>64</td>\n",
       "      <td>2.275932</td>\n",
       "      <td>3.360279</td>\n",
       "      <td>0.627706</td>\n",
       "      <td>6.827853</td>\n",
       "    </tr>\n",
       "    <tr>\n",
       "      <th>ICLN</th>\n",
       "      <td>64</td>\n",
       "      <td>1.782633</td>\n",
       "      <td>2.873275</td>\n",
       "      <td>0.562413</td>\n",
       "      <td>4.109596</td>\n",
       "    </tr>\n",
       "    <tr>\n",
       "      <th>VIG</th>\n",
       "      <td>64</td>\n",
       "      <td>1.357317</td>\n",
       "      <td>2.348643</td>\n",
       "      <td>0.506952</td>\n",
       "      <td>4.634193</td>\n",
       "    </tr>\n",
       "    <tr>\n",
       "      <th>VOOG</th>\n",
       "      <td>64</td>\n",
       "      <td>1.309920</td>\n",
       "      <td>2.788859</td>\n",
       "      <td>0.409936</td>\n",
       "      <td>6.391444</td>\n",
       "    </tr>\n",
       "    <tr>\n",
       "      <th>SPYG</th>\n",
       "      <td>64</td>\n",
       "      <td>1.299128</td>\n",
       "      <td>2.770475</td>\n",
       "      <td>0.408761</td>\n",
       "      <td>6.359873</td>\n",
       "    </tr>\n",
       "    <tr>\n",
       "      <th>DGRO</th>\n",
       "      <td>64</td>\n",
       "      <td>0.925188</td>\n",
       "      <td>2.483952</td>\n",
       "      <td>0.305369</td>\n",
       "      <td>5.769734</td>\n",
       "    </tr>\n",
       "    <tr>\n",
       "      <th>CGW</th>\n",
       "      <td>64</td>\n",
       "      <td>0.848081</td>\n",
       "      <td>2.582278</td>\n",
       "      <td>0.263881</td>\n",
       "      <td>4.602741</td>\n",
       "    </tr>\n",
       "    <tr>\n",
       "      <th>ITA</th>\n",
       "      <td>64</td>\n",
       "      <td>0.937070</td>\n",
       "      <td>3.298910</td>\n",
       "      <td>0.233533</td>\n",
       "      <td>6.969614</td>\n",
       "    </tr>\n",
       "    <tr>\n",
       "      <th>VOO</th>\n",
       "      <td>64</td>\n",
       "      <td>0.864664</td>\n",
       "      <td>2.995188</td>\n",
       "      <td>0.233040</td>\n",
       "      <td>6.639509</td>\n",
       "    </tr>\n",
       "    <tr>\n",
       "      <th>IVV</th>\n",
       "      <td>64</td>\n",
       "      <td>0.861755</td>\n",
       "      <td>2.988823</td>\n",
       "      <td>0.232563</td>\n",
       "      <td>6.631532</td>\n",
       "    </tr>\n",
       "    <tr>\n",
       "      <th>SPY</th>\n",
       "      <td>64</td>\n",
       "      <td>0.849207</td>\n",
       "      <td>2.988838</td>\n",
       "      <td>0.228363</td>\n",
       "      <td>6.618369</td>\n",
       "    </tr>\n",
       "    <tr>\n",
       "      <th>SCHK</th>\n",
       "      <td>64</td>\n",
       "      <td>0.833147</td>\n",
       "      <td>2.999470</td>\n",
       "      <td>0.222199</td>\n",
       "      <td>6.746032</td>\n",
       "    </tr>\n",
       "    <tr>\n",
       "      <th>XLF</th>\n",
       "      <td>64</td>\n",
       "      <td>0.839397</td>\n",
       "      <td>3.874252</td>\n",
       "      <td>0.173641</td>\n",
       "      <td>7.338794</td>\n",
       "    </tr>\n",
       "  </tbody>\n",
       "</table>\n",
       "</div>"
      ],
      "text/plain": [
       "         21-len   21-mean    21-std   21-shrp  drawdown\n",
       "Symbols                                                \n",
       "SPLV         64  1.989199  1.351612  1.348414  1.971361\n",
       "FINX         64  2.192274  2.360783  0.858024  5.312173\n",
       "XLU          64  1.516285  1.910099  0.706570  3.426052\n",
       "XAR          64  2.275932  3.360279  0.627706  6.827853\n",
       "ICLN         64  1.782633  2.873275  0.562413  4.109596\n",
       "VIG          64  1.357317  2.348643  0.506952  4.634193\n",
       "VOOG         64  1.309920  2.788859  0.409936  6.391444\n",
       "SPYG         64  1.299128  2.770475  0.408761  6.359873\n",
       "DGRO         64  0.925188  2.483952  0.305369  5.769734\n",
       "CGW          64  0.848081  2.582278  0.263881  4.602741\n",
       "ITA          64  0.937070  3.298910  0.233533  6.969614\n",
       "VOO          64  0.864664  2.995188  0.233040  6.639509\n",
       "IVV          64  0.861755  2.988823  0.232563  6.631532\n",
       "SPY          64  0.849207  2.988838  0.228363  6.618369\n",
       "SCHK         64  0.833147  2.999470  0.222199  6.746032\n",
       "XLF          64  0.839397  3.874252  0.173641  7.338794"
      ]
     },
     "execution_count": 2,
     "metadata": {},
     "output_type": "execute_result"
    }
   ],
   "source": [
    "stat = quote.statistics(21)\n",
    "stat = stat[(stat['drawdown'] < 8) & (stat['21-mean'] > 0.8)]\n",
    "stat"
   ]
  },
  {
   "cell_type": "code",
   "execution_count": 7,
   "metadata": {},
   "outputs": [
    {
     "name": "stdout",
     "output_type": "stream",
     "text": [
      "['SPLV', 'FINX'] 3.788149944225284 0.54148906839553 1.456706758047411 -2.206437535103539\n",
      "['SPLV', 'XLU'] 3.367608777719975 0.7280483184802429 1.0794825893801903 -2.054983945861325\n"
     ]
    },
    {
     "data": {
      "text/plain": [
       "['SPLV', 'XLU']"
      ]
     },
     "execution_count": 7,
     "metadata": {},
     "output_type": "execute_result"
    }
   ],
   "source": [
    "quote.setup_mask(stat.index)\n",
    "quote.least_correlated_portfolio(21, 2, ['SPLV'], cr=3, dr=3)"
   ]
  },
  {
   "cell_type": "code",
   "execution_count": 11,
   "metadata": {},
   "outputs": [
    {
     "name": "stdout",
     "output_type": "stream",
     "text": [
      "     fun: 1.8252326449006429\n",
      "     jac: array([3.65044618, 3.64982736])\n",
      " message: 'Optimization terminated successfully.'\n",
      "    nfev: 16\n",
      "     nit: 8\n",
      "    njev: 4\n",
      "  status: 0\n",
      " success: True\n",
      "       x: array([ 1.03092219, -0.03092219])\n"
     ]
    },
    {
     "data": {
      "text/plain": [
       "({'SPLV': 1.030922192223077, 'XLU': -0.030922192223076916}, 2.0038, 1.351)"
      ]
     },
     "execution_count": 11,
     "metadata": {},
     "output_type": "execute_result"
    }
   ],
   "source": [
    "quote.setup_mask(['SPLV', 'XLU'])\n",
    "quote.find_optimal_ratio(21, 1)"
   ]
  },
  {
   "cell_type": "code",
   "execution_count": null,
   "metadata": {},
   "outputs": [],
   "source": []
  }
 ],
 "metadata": {
  "kernelspec": {
   "display_name": "Python 3",
   "language": "python",
   "name": "python3"
  },
  "language_info": {
   "codemirror_mode": {
    "name": "ipython",
    "version": 3
   },
   "file_extension": ".py",
   "mimetype": "text/x-python",
   "name": "python",
   "nbconvert_exporter": "python",
   "pygments_lexer": "ipython3",
   "version": "3.7.3"
  }
 },
 "nbformat": 4,
 "nbformat_minor": 2
}
