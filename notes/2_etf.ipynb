{
 "cells": [
  {
   "cell_type": "code",
   "execution_count": 1,
   "metadata": {},
   "outputs": [
    {
     "data": {
      "text/plain": [
       "'from 2019-02-25 to 2019-06-24 - 100'"
      ]
     },
     "execution_count": 1,
     "metadata": {},
     "output_type": "execute_result"
    }
   ],
   "source": [
    "from app import create_app, db\n",
    "from app.instrument import Instrument\n",
    "from app.analysis import Quote\n",
    "with create_app().app_context():\n",
    "    instruments = {b.symbol: b for b in Instrument.find_etfs(100)}\n",
    "    quote = Quote([*instruments.keys()], 120)\n",
    "    quote.update_boosts(21, instruments)\n",
    "    db.session.commit()\n",
    "f'from {quote.start.date()} to {quote.end.date()} - {len(quote.data.columns)}'"
   ]
  },
  {
   "cell_type": "code",
   "execution_count": 2,
   "metadata": {},
   "outputs": [
    {
     "data": {
      "text/html": [
       "<div>\n",
       "<style scoped>\n",
       "    .dataframe tbody tr th:only-of-type {\n",
       "        vertical-align: middle;\n",
       "    }\n",
       "\n",
       "    .dataframe tbody tr th {\n",
       "        vertical-align: top;\n",
       "    }\n",
       "\n",
       "    .dataframe thead th {\n",
       "        text-align: right;\n",
       "    }\n",
       "</style>\n",
       "<table border=\"1\" class=\"dataframe\">\n",
       "  <thead>\n",
       "    <tr style=\"text-align: right;\">\n",
       "      <th></th>\n",
       "      <th>21-len</th>\n",
       "      <th>21-mean</th>\n",
       "      <th>21-std</th>\n",
       "      <th>21-shrp</th>\n",
       "      <th>drawdown</th>\n",
       "    </tr>\n",
       "    <tr>\n",
       "      <th>Symbols</th>\n",
       "      <th></th>\n",
       "      <th></th>\n",
       "      <th></th>\n",
       "      <th></th>\n",
       "      <th></th>\n",
       "    </tr>\n",
       "  </thead>\n",
       "  <tbody>\n",
       "    <tr>\n",
       "      <th>XLP</th>\n",
       "      <td>63</td>\n",
       "      <td>2.279128</td>\n",
       "      <td>1.533925</td>\n",
       "      <td>1.377161</td>\n",
       "      <td>4.021399</td>\n",
       "    </tr>\n",
       "    <tr>\n",
       "      <th>SPLV</th>\n",
       "      <td>63</td>\n",
       "      <td>2.030147</td>\n",
       "      <td>1.370726</td>\n",
       "      <td>1.359484</td>\n",
       "      <td>1.971361</td>\n",
       "    </tr>\n",
       "    <tr>\n",
       "      <th>IPAY</th>\n",
       "      <td>63</td>\n",
       "      <td>3.050166</td>\n",
       "      <td>2.525599</td>\n",
       "      <td>1.141709</td>\n",
       "      <td>5.347951</td>\n",
       "    </tr>\n",
       "    <tr>\n",
       "      <th>USMV</th>\n",
       "      <td>63</td>\n",
       "      <td>2.045203</td>\n",
       "      <td>1.669484</td>\n",
       "      <td>1.125219</td>\n",
       "      <td>2.180427</td>\n",
       "    </tr>\n",
       "    <tr>\n",
       "      <th>PPA</th>\n",
       "      <td>63</td>\n",
       "      <td>2.717626</td>\n",
       "      <td>2.854002</td>\n",
       "      <td>0.893818</td>\n",
       "      <td>4.581305</td>\n",
       "    </tr>\n",
       "    <tr>\n",
       "      <th>MTUM</th>\n",
       "      <td>63</td>\n",
       "      <td>1.916874</td>\n",
       "      <td>1.968053</td>\n",
       "      <td>0.889309</td>\n",
       "      <td>2.859384</td>\n",
       "    </tr>\n",
       "    <tr>\n",
       "      <th>FINX</th>\n",
       "      <td>63</td>\n",
       "      <td>2.223117</td>\n",
       "      <td>2.368706</td>\n",
       "      <td>0.868175</td>\n",
       "      <td>5.312173</td>\n",
       "    </tr>\n",
       "    <tr>\n",
       "      <th>XAR</th>\n",
       "      <td>63</td>\n",
       "      <td>2.609237</td>\n",
       "      <td>3.049486</td>\n",
       "      <td>0.800978</td>\n",
       "      <td>6.769803</td>\n",
       "    </tr>\n",
       "    <tr>\n",
       "      <th>VPU</th>\n",
       "      <td>63</td>\n",
       "      <td>1.436676</td>\n",
       "      <td>1.812214</td>\n",
       "      <td>0.700806</td>\n",
       "      <td>3.258989</td>\n",
       "    </tr>\n",
       "    <tr>\n",
       "      <th>XLU</th>\n",
       "      <td>63</td>\n",
       "      <td>1.479348</td>\n",
       "      <td>1.902138</td>\n",
       "      <td>0.690108</td>\n",
       "      <td>3.426057</td>\n",
       "    </tr>\n",
       "    <tr>\n",
       "      <th>ICLN</th>\n",
       "      <td>63</td>\n",
       "      <td>1.977225</td>\n",
       "      <td>2.971356</td>\n",
       "      <td>0.609338</td>\n",
       "      <td>4.109596</td>\n",
       "    </tr>\n",
       "    <tr>\n",
       "      <th>ESPO</th>\n",
       "      <td>63</td>\n",
       "      <td>2.638786</td>\n",
       "      <td>4.436756</td>\n",
       "      <td>0.557191</td>\n",
       "      <td>5.770387</td>\n",
       "    </tr>\n",
       "    <tr>\n",
       "      <th>VIG</th>\n",
       "      <td>63</td>\n",
       "      <td>1.478630</td>\n",
       "      <td>2.385815</td>\n",
       "      <td>0.549901</td>\n",
       "      <td>4.634193</td>\n",
       "    </tr>\n",
       "    <tr>\n",
       "      <th>VOOG</th>\n",
       "      <td>63</td>\n",
       "      <td>1.338723</td>\n",
       "      <td>2.840370</td>\n",
       "      <td>0.412642</td>\n",
       "      <td>6.391444</td>\n",
       "    </tr>\n",
       "    <tr>\n",
       "      <th>SPYG</th>\n",
       "      <td>63</td>\n",
       "      <td>1.320526</td>\n",
       "      <td>2.814367</td>\n",
       "      <td>0.409989</td>\n",
       "      <td>6.359873</td>\n",
       "    </tr>\n",
       "  </tbody>\n",
       "</table>\n",
       "</div>"
      ],
      "text/plain": [
       "         21-len   21-mean    21-std   21-shrp  drawdown\n",
       "Symbols                                                \n",
       "XLP          63  2.279128  1.533925  1.377161  4.021399\n",
       "SPLV         63  2.030147  1.370726  1.359484  1.971361\n",
       "IPAY         63  3.050166  2.525599  1.141709  5.347951\n",
       "USMV         63  2.045203  1.669484  1.125219  2.180427\n",
       "PPA          63  2.717626  2.854002  0.893818  4.581305\n",
       "MTUM         63  1.916874  1.968053  0.889309  2.859384\n",
       "FINX         63  2.223117  2.368706  0.868175  5.312173\n",
       "XAR          63  2.609237  3.049486  0.800978  6.769803\n",
       "VPU          63  1.436676  1.812214  0.700806  3.258989\n",
       "XLU          63  1.479348  1.902138  0.690108  3.426057\n",
       "ICLN         63  1.977225  2.971356  0.609338  4.109596\n",
       "ESPO         63  2.638786  4.436756  0.557191  5.770387\n",
       "VIG          63  1.478630  2.385815  0.549901  4.634193\n",
       "VOOG         63  1.338723  2.840370  0.412642  6.391444\n",
       "SPYG         63  1.320526  2.814367  0.409989  6.359873"
      ]
     },
     "execution_count": 2,
     "metadata": {},
     "output_type": "execute_result"
    }
   ],
   "source": [
    "stat = quote.statistics(21)\n",
    "stat = stat[(stat['drawdown'] < 8) & (stat['21-mean'] > 0.8) & (stat['21-shrp'] > 0.4)]\n",
    "stat"
   ]
  },
  {
   "cell_type": "code",
   "execution_count": 3,
   "metadata": {},
   "outputs": [
    {
     "name": "stdout",
     "output_type": "stream",
     "text": [
      "['XLP'] -0.9500419692241495 1 0.8042797087596598 1.3771608389919046\n",
      "['XLP', 'SPLV'] -1.6474920838839837 0.48987708710074607 0.5992759100722795 1.3683225405285047\n"
     ]
    },
    {
     "data": {
      "text/plain": [
       "['XLP', 'SPLV']"
      ]
     },
     "execution_count": 3,
     "metadata": {},
     "output_type": "execute_result"
    }
   ],
   "source": [
    "quote.setup_mask(stat.index)\n",
    "quote.least_correlated_portfolio(21, 2, sr=2)"
   ]
  },
  {
   "cell_type": "code",
   "execution_count": 4,
   "metadata": {},
   "outputs": [
    {
     "name": "stdout",
     "output_type": "stream",
     "text": [
      "['XLP', 'SPLV'] 1.0891529971730256 0.48987708710074607 0.5992759100722795 1.3683225405285047\n",
      "['XLP', 'SPLV', 'IPAY'] 0.987677089382824 0.6316297252887851 0.7560473640940389 1.2927847491018272\n",
      "['XLP', 'SPLV', 'IPAY', 'USMV'] 0.6035529158550198 0.7274960546578771 0.6760568611971427 1.250893367881158\n",
      "['XLP', 'SPLV', 'IPAY', 'PPA'] 0.4072972958338954 0.4111965323500577 0.7961007634838377 1.193043169829674\n",
      "['XLP', 'SPLV', 'USMV', 'PPA'] 0.28184200444903557 0.44411747087297365 0.637724533576062 1.1889206843223437\n",
      "['XLP', 'SPLV', 'PPA', 'VPU'] 0.1447709997044075 0.2531183685133363 0.6916526311910712 1.0828173173033726\n"
     ]
    },
    {
     "data": {
      "text/plain": [
       "['XLP', 'SPLV', 'PPA', 'VPU']"
      ]
     },
     "execution_count": 4,
     "metadata": {},
     "output_type": "execute_result"
    }
   ],
   "source": [
    "quote.setup_mask(stat.index)\n",
    "quote.least_correlated_portfolio(21, 4, ['XLP', 'SPLV'], sr=0)"
   ]
  },
  {
   "cell_type": "code",
   "execution_count": 5,
   "metadata": {},
   "outputs": [
    {
     "name": "stdout",
     "output_type": "stream",
     "text": [
      "     fun: 1.5470925697943878\n",
      "     jac: array([3.09392206, 3.09459493])\n",
      " message: 'Optimization terminated successfully.'\n",
      "    nfev: 8\n",
      "     nit: 2\n",
      "    njev: 2\n",
      "  status: 0\n",
      " success: True\n",
      "       x: array([0.60898005, 0.39101995])\n"
     ]
    },
    {
     "name": "stderr",
     "output_type": "stream",
     "text": [
      "/Users/chaoyi/.local/share/virtualenvs/portfolio_analysis-bdMx2S3t/lib/python3.7/site-packages/scipy/optimize/minpack.py:162: RuntimeWarning: The iteration is not making good progress, as measured by the \n",
      "  improvement from the last ten iterations.\n",
      "  warnings.warn(msg, RuntimeWarning)\n"
     ]
    },
    {
     "data": {
      "text/plain": [
       "({'SPLV': 0.61, 'XLP': 0.39}, 2.1275, 1.2438)"
      ]
     },
     "execution_count": 5,
     "metadata": {},
     "output_type": "execute_result"
    }
   ],
   "source": [
    "quote.setup_mask(['SPLV', 'XLP'])\n",
    "quote.find_optimal_ratio(21, 2)"
   ]
  },
  {
   "cell_type": "code",
   "execution_count": 6,
   "metadata": {},
   "outputs": [
    {
     "name": "stdout",
     "output_type": "stream",
     "text": [
      "Populating the interactive namespace from numpy and matplotlib\n"
     ]
    },
    {
     "data": {
      "text/html": [
       "<div>\n",
       "<style scoped>\n",
       "    .dataframe tbody tr th:only-of-type {\n",
       "        vertical-align: middle;\n",
       "    }\n",
       "\n",
       "    .dataframe tbody tr th {\n",
       "        vertical-align: top;\n",
       "    }\n",
       "\n",
       "    .dataframe thead th {\n",
       "        text-align: right;\n",
       "    }\n",
       "</style>\n",
       "<table border=\"1\" class=\"dataframe\">\n",
       "  <thead>\n",
       "    <tr style=\"text-align: right;\">\n",
       "      <th></th>\n",
       "      <th>count</th>\n",
       "      <th>mean</th>\n",
       "      <th>std</th>\n",
       "      <th>min</th>\n",
       "      <th>25%</th>\n",
       "      <th>50%</th>\n",
       "      <th>75%</th>\n",
       "      <th>max</th>\n",
       "      <th>shrp</th>\n",
       "      <th>drawdown</th>\n",
       "    </tr>\n",
       "  </thead>\n",
       "  <tbody>\n",
       "    <tr>\n",
       "      <th>Portfolio</th>\n",
       "      <td>63.0</td>\n",
       "      <td>2.124881</td>\n",
       "      <td>1.243392</td>\n",
       "      <td>-1.464820</td>\n",
       "      <td>1.736245</td>\n",
       "      <td>2.273114</td>\n",
       "      <td>2.725186</td>\n",
       "      <td>4.322885</td>\n",
       "      <td>1.574897</td>\n",
       "      <td>2.347700</td>\n",
       "    </tr>\n",
       "    <tr>\n",
       "      <th>XLP</th>\n",
       "      <td>63.0</td>\n",
       "      <td>2.279128</td>\n",
       "      <td>1.533925</td>\n",
       "      <td>-2.438597</td>\n",
       "      <td>1.642454</td>\n",
       "      <td>2.722190</td>\n",
       "      <td>3.302938</td>\n",
       "      <td>4.497904</td>\n",
       "      <td>1.377161</td>\n",
       "      <td>4.021399</td>\n",
       "    </tr>\n",
       "    <tr>\n",
       "      <th>SPLV</th>\n",
       "      <td>63.0</td>\n",
       "      <td>2.030147</td>\n",
       "      <td>1.370726</td>\n",
       "      <td>-0.950248</td>\n",
       "      <td>1.184766</td>\n",
       "      <td>1.914527</td>\n",
       "      <td>2.935136</td>\n",
       "      <td>4.955301</td>\n",
       "      <td>1.359484</td>\n",
       "      <td>1.971361</td>\n",
       "    </tr>\n",
       "  </tbody>\n",
       "</table>\n",
       "</div>"
      ],
      "text/plain": [
       "           count      mean       std       min       25%       50%       75%  \\\n",
       "Portfolio   63.0  2.124881  1.243392 -1.464820  1.736245  2.273114  2.725186   \n",
       "XLP         63.0  2.279128  1.533925 -2.438597  1.642454  2.722190  3.302938   \n",
       "SPLV        63.0  2.030147  1.370726 -0.950248  1.184766  1.914527  2.935136   \n",
       "\n",
       "                max      shrp  drawdown  \n",
       "Portfolio  4.322885  1.574897  2.347700  \n",
       "XLP        4.497904  1.377161  4.021399  \n",
       "SPLV       4.955301  1.359484  1.971361  "
      ]
     },
     "execution_count": 6,
     "metadata": {},
     "output_type": "execute_result"
    },
    {
     "data": {
      "image/png": "[encoded data removed]",
      "text/plain": [
       "<Figure size 864x576 with 1 Axes>"
      ]
     },
     "metadata": {
      "needs_background": "light"
     },
     "output_type": "display_data"
    }
   ],
   "source": [
    "%pylab inline\n",
    "quote.graph(21, {'SPLV': 0.61, 'XLP': 0.39})"
   ]
  },
  {
   "cell_type": "code",
   "execution_count": null,
   "metadata": {},
   "outputs": [],
   "source": []
  }
 ],
 "metadata": {
  "kernelspec": {
   "display_name": "Python 3",
   "language": "python",
   "name": "python3"
  },
  "language_info": {
   "codemirror_mode": {
    "name": "ipython",
    "version": 3
   },
   "file_extension": ".py",
   "mimetype": "text/x-python",
   "name": "python",
   "nbconvert_exporter": "python",
   "pygments_lexer": "ipython3",
   "version": "3.7.3"
  }
 },
 "nbformat": 4,
 "nbformat_minor": 2
}
