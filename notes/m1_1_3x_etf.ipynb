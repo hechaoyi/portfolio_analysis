{
 "cells": [
  {
   "cell_type": "code",
   "execution_count": 6,
   "metadata": {},
   "outputs": [
    {
     "name": "stdout",
     "output_type": "stream",
     "text": [
      "Populating the interactive namespace from numpy and matplotlib\n"
     ]
    },
    {
     "data": {
      "text/html": [
       "<div>\n",
       "<style scoped>\n",
       "    .dataframe tbody tr th:only-of-type {\n",
       "        vertical-align: middle;\n",
       "    }\n",
       "\n",
       "    .dataframe tbody tr th {\n",
       "        vertical-align: top;\n",
       "    }\n",
       "\n",
       "    .dataframe thead th {\n",
       "        text-align: right;\n",
       "    }\n",
       "</style>\n",
       "<table border=\"1\" class=\"dataframe\">\n",
       "  <thead>\n",
       "    <tr style=\"text-align: right;\">\n",
       "      <th></th>\n",
       "      <th>len</th>\n",
       "      <th>mean</th>\n",
       "      <th>std</th>\n",
       "      <th>shrp</th>\n",
       "      <th>drawdown</th>\n",
       "    </tr>\n",
       "    <tr>\n",
       "      <th>Symbols</th>\n",
       "      <th></th>\n",
       "      <th></th>\n",
       "      <th></th>\n",
       "      <th></th>\n",
       "      <th></th>\n",
       "    </tr>\n",
       "  </thead>\n",
       "  <tbody>\n",
       "    <tr>\n",
       "      <th>TLT</th>\n",
       "      <td>26</td>\n",
       "      <td>1.975864</td>\n",
       "      <td>1.555736</td>\n",
       "      <td>1.219037</td>\n",
       "      <td>1.698879</td>\n",
       "    </tr>\n",
       "    <tr>\n",
       "      <th>TMF</th>\n",
       "      <td>26</td>\n",
       "      <td>5.694811</td>\n",
       "      <td>4.829214</td>\n",
       "      <td>1.162808</td>\n",
       "      <td>5.014042</td>\n",
       "    </tr>\n",
       "    <tr>\n",
       "      <th>EDV</th>\n",
       "      <td>26</td>\n",
       "      <td>2.529820</td>\n",
       "      <td>2.190957</td>\n",
       "      <td>1.118440</td>\n",
       "      <td>2.610604</td>\n",
       "    </tr>\n",
       "    <tr>\n",
       "      <th>VOO</th>\n",
       "      <td>26</td>\n",
       "      <td>1.505219</td>\n",
       "      <td>2.598479</td>\n",
       "      <td>0.548726</td>\n",
       "      <td>4.575909</td>\n",
       "    </tr>\n",
       "    <tr>\n",
       "      <th>SPXL</th>\n",
       "      <td>26</td>\n",
       "      <td>4.348582</td>\n",
       "      <td>7.842994</td>\n",
       "      <td>0.544335</td>\n",
       "      <td>13.410120</td>\n",
       "    </tr>\n",
       "    <tr>\n",
       "      <th>QQQ</th>\n",
       "      <td>26</td>\n",
       "      <td>1.654323</td>\n",
       "      <td>3.872774</td>\n",
       "      <td>0.406674</td>\n",
       "      <td>8.008436</td>\n",
       "    </tr>\n",
       "  </tbody>\n",
       "</table>\n",
       "</div>"
      ],
      "text/plain": [
       "         len      mean       std      shrp   drawdown\n",
       "Symbols                                              \n",
       "TLT       26  1.975864  1.555736  1.219037   1.698879\n",
       "TMF       26  5.694811  4.829214  1.162808   5.014042\n",
       "EDV       26  2.529820  2.190957  1.118440   2.610604\n",
       "VOO       26  1.505219  2.598479  0.548726   4.575909\n",
       "SPXL      26  4.348582  7.842994  0.544335  13.410120\n",
       "QQQ       26  1.654323  3.872774  0.406674   8.008436"
      ]
     },
     "execution_count": 6,
     "metadata": {},
     "output_type": "execute_result"
    }
   ],
   "source": [
    "%pylab inline\n",
    "from app.analysis import Quote\n",
    "quote = Quote(['TMF', 'SPXL', 'EDV', 'QQQ', 'TLT', 'VOO'], 50, 10)\n",
    "quote.statistics()"
   ]
  },
  {
   "cell_type": "code",
   "execution_count": null,
   "metadata": {},
   "outputs": [],
   "source": [
    "quote.setup_mask(['TMF', 'SPXL'])\n",
    "quote.find_optimal_ratio()"
   ]
  },
  {
   "cell_type": "code",
   "execution_count": null,
   "metadata": {},
   "outputs": [],
   "source": [
    "quote.graph({'TMF': 0.63, 'SPXL': 0.37})"
   ]
  },
  {
   "cell_type": "code",
   "execution_count": null,
   "metadata": {},
   "outputs": [],
   "source": [
    "quote.setup_mask(['EDV', 'QQQ'])\n",
    "quote.find_optimal_ratio(.9)"
   ]
  },
  {
   "cell_type": "code",
   "execution_count": null,
   "metadata": {},
   "outputs": [],
   "source": [
    "quote.graph({'EDV': 0.65, 'QQQ': 0.35})"
   ]
  },
  {
   "cell_type": "code",
   "execution_count": null,
   "metadata": {},
   "outputs": [],
   "source": [
    "quote.setup_mask(['TLT', 'VOO'])\n",
    "quote.find_optimal_ratio()"
   ]
  },
  {
   "cell_type": "code",
   "execution_count": null,
   "metadata": {},
   "outputs": [],
   "source": [
    "quote.graph({'TLT': 0.64, 'VOO': 0.36})"
   ]
  },
  {
   "cell_type": "code",
   "execution_count": null,
   "metadata": {},
   "outputs": [],
   "source": []
  }
 ],
 "metadata": {
  "kernelspec": {
   "display_name": "Python 3",
   "language": "python",
   "name": "python3"
  },
  "language_info": {
   "codemirror_mode": {
    "name": "ipython",
    "version": 3
   },
   "file_extension": ".py",
   "mimetype": "text/x-python",
   "name": "python",
   "nbconvert_exporter": "python",
   "pygments_lexer": "ipython3",
   "version": "3.7.3"
  }
 },
 "nbformat": 4,
 "nbformat_minor": 2
}
