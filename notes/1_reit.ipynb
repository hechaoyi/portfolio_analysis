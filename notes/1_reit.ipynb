{
 "cells": [
  {
   "cell_type": "code",
   "execution_count": 4,
   "metadata": {},
   "outputs": [
    {
     "data": {
      "text/plain": [
       "'from 2019-02-25 to 2019-06-21 - 113'"
      ]
     },
     "execution_count": 4,
     "metadata": {},
     "output_type": "execute_result"
    }
   ],
   "source": [
    "from app import create_app\n",
    "from app.instrument import Instrument\n",
    "from app.analysis import Quote\n",
    "with create_app().app_context():\n",
    "    quote = Quote([b.symbol for b in Instrument.find_reits()], 120)\n",
    "f'from {quote.start.date()} to {quote.end.date()} - {len(quote.data.columns)}'"
   ]
  },
  {
   "cell_type": "code",
   "execution_count": 5,
   "metadata": {},
   "outputs": [
    {
     "data": {
      "text/html": [
       "<div>\n",
       "<style scoped>\n",
       "    .dataframe tbody tr th:only-of-type {\n",
       "        vertical-align: middle;\n",
       "    }\n",
       "\n",
       "    .dataframe tbody tr th {\n",
       "        vertical-align: top;\n",
       "    }\n",
       "\n",
       "    .dataframe thead th {\n",
       "        text-align: right;\n",
       "    }\n",
       "</style>\n",
       "<table border=\"1\" class=\"dataframe\">\n",
       "  <thead>\n",
       "    <tr style=\"text-align: right;\">\n",
       "      <th></th>\n",
       "      <th>21-len</th>\n",
       "      <th>21-mean</th>\n",
       "      <th>21-std</th>\n",
       "      <th>21-shrp</th>\n",
       "      <th>drawdown</th>\n",
       "    </tr>\n",
       "    <tr>\n",
       "      <th>Symbols</th>\n",
       "      <th></th>\n",
       "      <th></th>\n",
       "      <th></th>\n",
       "      <th></th>\n",
       "      <th></th>\n",
       "    </tr>\n",
       "  </thead>\n",
       "  <tbody>\n",
       "    <tr>\n",
       "      <th>AMH</th>\n",
       "      <td>62</td>\n",
       "      <td>3.622740</td>\n",
       "      <td>1.483322</td>\n",
       "      <td>2.329956</td>\n",
       "      <td>3.088962</td>\n",
       "    </tr>\n",
       "    <tr>\n",
       "      <th>BXMT</th>\n",
       "      <td>62</td>\n",
       "      <td>2.197840</td>\n",
       "      <td>1.149105</td>\n",
       "      <td>1.767614</td>\n",
       "      <td>2.677343</td>\n",
       "    </tr>\n",
       "    <tr>\n",
       "      <th>INVH</th>\n",
       "      <td>62</td>\n",
       "      <td>4.512376</td>\n",
       "      <td>2.712470</td>\n",
       "      <td>1.602122</td>\n",
       "      <td>3.809150</td>\n",
       "    </tr>\n",
       "    <tr>\n",
       "      <th>EQIX</th>\n",
       "      <td>62</td>\n",
       "      <td>4.891242</td>\n",
       "      <td>3.101193</td>\n",
       "      <td>1.523470</td>\n",
       "      <td>4.324717</td>\n",
       "    </tr>\n",
       "    <tr>\n",
       "      <th>WPC</th>\n",
       "      <td>62</td>\n",
       "      <td>4.245635</td>\n",
       "      <td>2.870104</td>\n",
       "      <td>1.421192</td>\n",
       "      <td>4.296338</td>\n",
       "    </tr>\n",
       "    <tr>\n",
       "      <th>BRG</th>\n",
       "      <td>62</td>\n",
       "      <td>3.925321</td>\n",
       "      <td>2.656299</td>\n",
       "      <td>1.414997</td>\n",
       "      <td>4.026292</td>\n",
       "    </tr>\n",
       "    <tr>\n",
       "      <th>PMT</th>\n",
       "      <td>62</td>\n",
       "      <td>2.267613</td>\n",
       "      <td>1.780430</td>\n",
       "      <td>1.180022</td>\n",
       "      <td>4.901510</td>\n",
       "    </tr>\n",
       "    <tr>\n",
       "      <th>PSA</th>\n",
       "      <td>62</td>\n",
       "      <td>4.133223</td>\n",
       "      <td>3.411108</td>\n",
       "      <td>1.162835</td>\n",
       "      <td>4.410452</td>\n",
       "    </tr>\n",
       "    <tr>\n",
       "      <th>AMT</th>\n",
       "      <td>62</td>\n",
       "      <td>4.775928</td>\n",
       "      <td>4.199378</td>\n",
       "      <td>1.097606</td>\n",
       "      <td>4.096795</td>\n",
       "    </tr>\n",
       "    <tr>\n",
       "      <th>STAG</th>\n",
       "      <td>62</td>\n",
       "      <td>3.033394</td>\n",
       "      <td>3.075923</td>\n",
       "      <td>0.931989</td>\n",
       "      <td>4.545462</td>\n",
       "    </tr>\n",
       "    <tr>\n",
       "      <th>GLPI</th>\n",
       "      <td>62</td>\n",
       "      <td>3.342282</td>\n",
       "      <td>3.539016</td>\n",
       "      <td>0.897316</td>\n",
       "      <td>4.020722</td>\n",
       "    </tr>\n",
       "    <tr>\n",
       "      <th>VICI</th>\n",
       "      <td>62</td>\n",
       "      <td>2.220724</td>\n",
       "      <td>2.408920</td>\n",
       "      <td>0.852688</td>\n",
       "      <td>4.418199</td>\n",
       "    </tr>\n",
       "    <tr>\n",
       "      <th>EPR</th>\n",
       "      <td>62</td>\n",
       "      <td>2.312212</td>\n",
       "      <td>2.558590</td>\n",
       "      <td>0.838565</td>\n",
       "      <td>4.396561</td>\n",
       "    </tr>\n",
       "    <tr>\n",
       "      <th>VNQ</th>\n",
       "      <td>62</td>\n",
       "      <td>1.745606</td>\n",
       "      <td>2.084080</td>\n",
       "      <td>0.757619</td>\n",
       "      <td>3.975014</td>\n",
       "    </tr>\n",
       "    <tr>\n",
       "      <th>ARI</th>\n",
       "      <td>62</td>\n",
       "      <td>1.649355</td>\n",
       "      <td>2.006970</td>\n",
       "      <td>0.738770</td>\n",
       "      <td>3.719230</td>\n",
       "    </tr>\n",
       "    <tr>\n",
       "      <th>DEA</th>\n",
       "      <td>62</td>\n",
       "      <td>1.927065</td>\n",
       "      <td>2.431180</td>\n",
       "      <td>0.724092</td>\n",
       "      <td>4.901962</td>\n",
       "    </tr>\n",
       "    <tr>\n",
       "      <th>NYMT</th>\n",
       "      <td>62</td>\n",
       "      <td>2.188302</td>\n",
       "      <td>3.175255</td>\n",
       "      <td>0.636685</td>\n",
       "      <td>4.437393</td>\n",
       "    </tr>\n",
       "    <tr>\n",
       "      <th>SCHH</th>\n",
       "      <td>62</td>\n",
       "      <td>1.253457</td>\n",
       "      <td>1.849519</td>\n",
       "      <td>0.587607</td>\n",
       "      <td>4.332364</td>\n",
       "    </tr>\n",
       "    <tr>\n",
       "      <th>DRE</th>\n",
       "      <td>62</td>\n",
       "      <td>1.477602</td>\n",
       "      <td>2.509754</td>\n",
       "      <td>0.522336</td>\n",
       "      <td>4.068454</td>\n",
       "    </tr>\n",
       "    <tr>\n",
       "      <th>STWD</th>\n",
       "      <td>62</td>\n",
       "      <td>1.116515</td>\n",
       "      <td>2.018463</td>\n",
       "      <td>0.470580</td>\n",
       "      <td>4.338395</td>\n",
       "    </tr>\n",
       "  </tbody>\n",
       "</table>\n",
       "</div>"
      ],
      "text/plain": [
       "         21-len   21-mean    21-std   21-shrp  drawdown\n",
       "Symbols                                                \n",
       "AMH          62  3.622740  1.483322  2.329956  3.088962\n",
       "BXMT         62  2.197840  1.149105  1.767614  2.677343\n",
       "INVH         62  4.512376  2.712470  1.602122  3.809150\n",
       "EQIX         62  4.891242  3.101193  1.523470  4.324717\n",
       "WPC          62  4.245635  2.870104  1.421192  4.296338\n",
       "BRG          62  3.925321  2.656299  1.414997  4.026292\n",
       "PMT          62  2.267613  1.780430  1.180022  4.901510\n",
       "PSA          62  4.133223  3.411108  1.162835  4.410452\n",
       "AMT          62  4.775928  4.199378  1.097606  4.096795\n",
       "STAG         62  3.033394  3.075923  0.931989  4.545462\n",
       "GLPI         62  3.342282  3.539016  0.897316  4.020722\n",
       "VICI         62  2.220724  2.408920  0.852688  4.418199\n",
       "EPR          62  2.312212  2.558590  0.838565  4.396561\n",
       "VNQ          62  1.745606  2.084080  0.757619  3.975014\n",
       "ARI          62  1.649355  2.006970  0.738770  3.719230\n",
       "DEA          62  1.927065  2.431180  0.724092  4.901962\n",
       "NYMT         62  2.188302  3.175255  0.636685  4.437393\n",
       "SCHH         62  1.253457  1.849519  0.587607  4.332364\n",
       "DRE          62  1.477602  2.509754  0.522336  4.068454\n",
       "STWD         62  1.116515  2.018463  0.470580  4.338395"
      ]
     },
     "execution_count": 5,
     "metadata": {},
     "output_type": "execute_result"
    }
   ],
   "source": [
    "stat = quote.statistics(21)\n",
    "stat = stat[(stat['drawdown'] < 5) & (stat['21-mean'] > 1)]\n",
    "stat"
   ]
  },
  {
   "cell_type": "code",
   "execution_count": 6,
   "metadata": {},
   "outputs": [
    {
     "name": "stdout",
     "output_type": "stream",
     "text": [
      "['VNQ', 'AMH', 'BXMT'] 2.609306517616764 1.1893225788092536 1.9482637325085448 -4.855188683828087\n",
      "['VNQ', 'BXMT', 'INVH'] 1.9188145198727948 0.6205225145373858 2.092301298184514 -4.127355620108391\n",
      "['VNQ', 'BXMT', 'PSA'] 1.1808303588371207 0.1479250664806262 2.21256164395103 -3.6880681285068175\n"
     ]
    },
    {
     "data": {
      "text/plain": [
       "['VNQ', 'BXMT', 'PSA']"
      ]
     },
     "execution_count": 6,
     "metadata": {},
     "output_type": "execute_result"
    }
   ],
   "source": [
    "quote.setup_mask(stat.index)\n",
    "quote.least_correlated_portfolio(21, 3, ['VNQ'], cr=3, dr=2)"
   ]
  },
  {
   "cell_type": "code",
   "execution_count": 8,
   "metadata": {},
   "outputs": [
    {
     "name": "stdout",
     "output_type": "stream",
     "text": [
      "     fun: 0.8334526280066538\n",
      "     jac: array([1.66349873, 1.68288171])\n",
      " message: 'Optimization terminated successfully.'\n",
      "    nfev: 8\n",
      "     nit: 2\n",
      "    njev: 2\n",
      "  status: 0\n",
      " success: True\n",
      "       x: array([0.8242493, 0.1757507])\n"
     ]
    },
    {
     "name": "stderr",
     "output_type": "stream",
     "text": [
      "/Users/chaoyi/.local/share/virtualenvs/portfolio_analysis-bdMx2S3t/lib/python3.7/site-packages/scipy/optimize/minpack.py:162: RuntimeWarning: The iteration is not making good progress, as measured by the \n",
      "  improvement from the last five Jacobian evaluations.\n",
      "  warnings.warn(msg, RuntimeWarning)\n"
     ]
    },
    {
     "data": {
      "text/plain": [
       "({'BXMT': 0.824249297435979, 'PSA': 0.17575070256402103}, 2.538, 0.9129)"
      ]
     },
     "execution_count": 8,
     "metadata": {},
     "output_type": "execute_result"
    }
   ],
   "source": [
    "quote.setup_mask(['BXMT', 'PSA'])\n",
    "quote.find_optimal_ratio(21, 2)"
   ]
  },
  {
   "cell_type": "code",
   "execution_count": null,
   "metadata": {},
   "outputs": [],
   "source": [
    "%pylab inline\n",
    "quote.setup_mask(['BXMT', 'PSA', 'VNQ'])\n",
    "quote.graph(21, {'BXMT': 0.49, 'VNQ': 0.4, 'PSA': 0.11})"
   ]
  },
  {
   "cell_type": "code",
   "execution_count": null,
   "metadata": {},
   "outputs": [],
   "source": []
  }
 ],
 "metadata": {
  "kernelspec": {
   "display_name": "Python 3",
   "language": "python",
   "name": "python3"
  },
  "language_info": {
   "codemirror_mode": {
    "name": "ipython",
    "version": 3
   },
   "file_extension": ".py",
   "mimetype": "text/x-python",
   "name": "python",
   "nbconvert_exporter": "python",
   "pygments_lexer": "ipython3",
   "version": "3.7.3"
  }
 },
 "nbformat": 4,
 "nbformat_minor": 2
}
