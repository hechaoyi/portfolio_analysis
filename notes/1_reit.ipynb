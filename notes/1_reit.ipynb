{
 "cells": [
  {
   "cell_type": "code",
   "execution_count": 1,
   "metadata": {},
   "outputs": [
    {
     "data": {
      "text/plain": [
       "'from 2019-02-20 to 2019-06-20'"
      ]
     },
     "execution_count": 1,
     "metadata": {},
     "output_type": "execute_result"
    }
   ],
   "source": [
    "from app import create_app\n",
    "from app.instrument import Instrument\n",
    "from app.analysis import Quote\n",
    "with create_app().app_context():\n",
    "    quote = Quote([b.symbol for b in Instrument.find_reits()], 120)\n",
    "f'from {quote.start.date()} to {quote.end.date()}'"
   ]
  },
  {
   "cell_type": "code",
   "execution_count": 2,
   "metadata": {},
   "outputs": [
    {
     "data": {
      "text/html": [
       "<div>\n",
       "<style scoped>\n",
       "    .dataframe tbody tr th:only-of-type {\n",
       "        vertical-align: middle;\n",
       "    }\n",
       "\n",
       "    .dataframe tbody tr th {\n",
       "        vertical-align: top;\n",
       "    }\n",
       "\n",
       "    .dataframe thead th {\n",
       "        text-align: right;\n",
       "    }\n",
       "</style>\n",
       "<table border=\"1\" class=\"dataframe\">\n",
       "  <thead>\n",
       "    <tr style=\"text-align: right;\">\n",
       "      <th></th>\n",
       "      <th>21-len</th>\n",
       "      <th>21-mean</th>\n",
       "      <th>21-std</th>\n",
       "      <th>21-shrp</th>\n",
       "      <th>drawdown</th>\n",
       "    </tr>\n",
       "    <tr>\n",
       "      <th>symbol</th>\n",
       "      <th></th>\n",
       "      <th></th>\n",
       "      <th></th>\n",
       "      <th></th>\n",
       "      <th></th>\n",
       "    </tr>\n",
       "  </thead>\n",
       "  <tbody>\n",
       "    <tr>\n",
       "      <th>AMH</th>\n",
       "      <td>64</td>\n",
       "      <td>3.502907</td>\n",
       "      <td>1.601826</td>\n",
       "      <td>2.082773</td>\n",
       "      <td>4.649123</td>\n",
       "    </tr>\n",
       "    <tr>\n",
       "      <th>BXMT</th>\n",
       "      <td>64</td>\n",
       "      <td>2.217364</td>\n",
       "      <td>1.124843</td>\n",
       "      <td>1.823097</td>\n",
       "      <td>2.677339</td>\n",
       "    </tr>\n",
       "    <tr>\n",
       "      <th>INVH</th>\n",
       "      <td>64</td>\n",
       "      <td>4.429997</td>\n",
       "      <td>2.666122</td>\n",
       "      <td>1.599075</td>\n",
       "      <td>3.809142</td>\n",
       "    </tr>\n",
       "    <tr>\n",
       "      <th>EQIX</th>\n",
       "      <td>64</td>\n",
       "      <td>4.975136</td>\n",
       "      <td>3.055818</td>\n",
       "      <td>1.573546</td>\n",
       "      <td>4.324718</td>\n",
       "    </tr>\n",
       "    <tr>\n",
       "      <th>WPC</th>\n",
       "      <td>64</td>\n",
       "      <td>4.254013</td>\n",
       "      <td>2.826191</td>\n",
       "      <td>1.446239</td>\n",
       "      <td>4.296334</td>\n",
       "    </tr>\n",
       "    <tr>\n",
       "      <th>BRG</th>\n",
       "      <td>64</td>\n",
       "      <td>3.782431</td>\n",
       "      <td>2.728998</td>\n",
       "      <td>1.324942</td>\n",
       "      <td>4.035088</td>\n",
       "    </tr>\n",
       "    <tr>\n",
       "      <th>PMT</th>\n",
       "      <td>64</td>\n",
       "      <td>2.310457</td>\n",
       "      <td>1.783291</td>\n",
       "      <td>1.202154</td>\n",
       "      <td>4.901512</td>\n",
       "    </tr>\n",
       "    <tr>\n",
       "      <th>PSA</th>\n",
       "      <td>64</td>\n",
       "      <td>4.451048</td>\n",
       "      <td>3.685018</td>\n",
       "      <td>1.162649</td>\n",
       "      <td>4.410453</td>\n",
       "    </tr>\n",
       "    <tr>\n",
       "      <th>AMT</th>\n",
       "      <td>64</td>\n",
       "      <td>4.985417</td>\n",
       "      <td>4.280970</td>\n",
       "      <td>1.125621</td>\n",
       "      <td>4.096787</td>\n",
       "    </tr>\n",
       "    <tr>\n",
       "      <th>STAG</th>\n",
       "      <td>64</td>\n",
       "      <td>2.957990</td>\n",
       "      <td>3.014515</td>\n",
       "      <td>0.925961</td>\n",
       "      <td>4.545455</td>\n",
       "    </tr>\n",
       "    <tr>\n",
       "      <th>GLPI</th>\n",
       "      <td>64</td>\n",
       "      <td>3.351169</td>\n",
       "      <td>3.490823</td>\n",
       "      <td>0.912250</td>\n",
       "      <td>4.020720</td>\n",
       "    </tr>\n",
       "    <tr>\n",
       "      <th>EPR</th>\n",
       "      <td>64</td>\n",
       "      <td>2.391909</td>\n",
       "      <td>2.513801</td>\n",
       "      <td>0.885210</td>\n",
       "      <td>4.396573</td>\n",
       "    </tr>\n",
       "    <tr>\n",
       "      <th>VNQ</th>\n",
       "      <td>64</td>\n",
       "      <td>1.736077</td>\n",
       "      <td>2.047738</td>\n",
       "      <td>0.766412</td>\n",
       "      <td>3.975014</td>\n",
       "    </tr>\n",
       "    <tr>\n",
       "      <th>ARI</th>\n",
       "      <td>64</td>\n",
       "      <td>1.654669</td>\n",
       "      <td>1.966045</td>\n",
       "      <td>0.756851</td>\n",
       "      <td>3.719225</td>\n",
       "    </tr>\n",
       "    <tr>\n",
       "      <th>DEA</th>\n",
       "      <td>64</td>\n",
       "      <td>1.927350</td>\n",
       "      <td>2.381595</td>\n",
       "      <td>0.739288</td>\n",
       "      <td>4.901961</td>\n",
       "    </tr>\n",
       "    <tr>\n",
       "      <th>SCHH</th>\n",
       "      <td>64</td>\n",
       "      <td>1.237639</td>\n",
       "      <td>1.822427</td>\n",
       "      <td>0.587663</td>\n",
       "      <td>4.332371</td>\n",
       "    </tr>\n",
       "    <tr>\n",
       "      <th>DRE</th>\n",
       "      <td>64</td>\n",
       "      <td>1.475144</td>\n",
       "      <td>2.459032</td>\n",
       "      <td>0.532111</td>\n",
       "      <td>4.068453</td>\n",
       "    </tr>\n",
       "    <tr>\n",
       "      <th>STWD</th>\n",
       "      <td>64</td>\n",
       "      <td>1.167056</td>\n",
       "      <td>2.006581</td>\n",
       "      <td>0.498554</td>\n",
       "      <td>4.338395</td>\n",
       "    </tr>\n",
       "  </tbody>\n",
       "</table>\n",
       "</div>"
      ],
      "text/plain": [
       "        21-len   21-mean    21-std   21-shrp  drawdown\n",
       "symbol                                                \n",
       "AMH         64  3.502907  1.601826  2.082773  4.649123\n",
       "BXMT        64  2.217364  1.124843  1.823097  2.677339\n",
       "INVH        64  4.429997  2.666122  1.599075  3.809142\n",
       "EQIX        64  4.975136  3.055818  1.573546  4.324718\n",
       "WPC         64  4.254013  2.826191  1.446239  4.296334\n",
       "BRG         64  3.782431  2.728998  1.324942  4.035088\n",
       "PMT         64  2.310457  1.783291  1.202154  4.901512\n",
       "PSA         64  4.451048  3.685018  1.162649  4.410453\n",
       "AMT         64  4.985417  4.280970  1.125621  4.096787\n",
       "STAG        64  2.957990  3.014515  0.925961  4.545455\n",
       "GLPI        64  3.351169  3.490823  0.912250  4.020720\n",
       "EPR         64  2.391909  2.513801  0.885210  4.396573\n",
       "VNQ         64  1.736077  2.047738  0.766412  3.975014\n",
       "ARI         64  1.654669  1.966045  0.756851  3.719225\n",
       "DEA         64  1.927350  2.381595  0.739288  4.901961\n",
       "SCHH        64  1.237639  1.822427  0.587663  4.332371\n",
       "DRE         64  1.475144  2.459032  0.532111  4.068453\n",
       "STWD        64  1.167056  2.006581  0.498554  4.338395"
      ]
     },
     "execution_count": 2,
     "metadata": {},
     "output_type": "execute_result"
    }
   ],
   "source": [
    "stat = quote.statistics(21)\n",
    "stat = stat[(stat['drawdown'] < 5) & (stat['21-mean'] > 1)]\n",
    "stat"
   ]
  },
  {
   "cell_type": "code",
   "execution_count": 5,
   "metadata": {},
   "outputs": [
    {
     "name": "stdout",
     "output_type": "stream",
     "text": [
      "['VNQ', 'AMH'] 2.10729042069258 0.5022735341096838 1.7248274006989768 -2.8491849830344247\n",
      "['VNQ', 'BXMT'] 0.5140674999599133 0.14754492163101895 1.3304706836237592 -2.589508632180662\n"
     ]
    },
    {
     "data": {
      "text/plain": [
       "['VNQ', 'BXMT']"
      ]
     },
     "execution_count": 5,
     "metadata": {},
     "output_type": "execute_result"
    }
   ],
   "source": [
    "quote.setup_mask(stat.index)\n",
    "quote.least_correlated_portfolio(21, 2, ['VNQ'], cr=3, dr=2)"
   ]
  },
  {
   "cell_type": "code",
   "execution_count": 7,
   "metadata": {},
   "outputs": [
    {
     "name": "stdout",
     "output_type": "stream",
     "text": [
      "     fun: 1.0860632061618976\n",
      "     jac: array([2.17223413, 2.17167783])\n",
      " message: 'Optimization terminated successfully.'\n",
      "    nfev: 8\n",
      "     nit: 2\n",
      "    njev: 2\n",
      "  status: 0\n",
      " success: True\n",
      "       x: array([0.80640725, 0.19359275])\n"
     ]
    },
    {
     "data": {
      "text/plain": [
       "({'BXMT': 0.806407247298591, 'VNQ': 0.19359275270140897}, 2.1242, 1.0421)"
      ]
     },
     "execution_count": 7,
     "metadata": {},
     "output_type": "execute_result"
    }
   ],
   "source": [
    "quote.setup_mask(['BXMT', 'VNQ'])\n",
    "quote.find_optimal_ratio(21, 2)"
   ]
  },
  {
   "cell_type": "code",
   "execution_count": 8,
   "metadata": {},
   "outputs": [
    {
     "name": "stdout",
     "output_type": "stream",
     "text": [
      "Populating the interactive namespace from numpy and matplotlib\n"
     ]
    },
    {
     "data": {
      "text/html": [
       "<div>\n",
       "<style scoped>\n",
       "    .dataframe tbody tr th:only-of-type {\n",
       "        vertical-align: middle;\n",
       "    }\n",
       "\n",
       "    .dataframe tbody tr th {\n",
       "        vertical-align: top;\n",
       "    }\n",
       "\n",
       "    .dataframe thead th {\n",
       "        text-align: right;\n",
       "    }\n",
       "</style>\n",
       "<table border=\"1\" class=\"dataframe\">\n",
       "  <thead>\n",
       "    <tr style=\"text-align: right;\">\n",
       "      <th></th>\n",
       "      <th>count</th>\n",
       "      <th>mean</th>\n",
       "      <th>std</th>\n",
       "      <th>min</th>\n",
       "      <th>25%</th>\n",
       "      <th>50%</th>\n",
       "      <th>75%</th>\n",
       "      <th>max</th>\n",
       "      <th>shrp</th>\n",
       "      <th>drawdown</th>\n",
       "    </tr>\n",
       "  </thead>\n",
       "  <tbody>\n",
       "    <tr>\n",
       "      <th>Portfolio</th>\n",
       "      <td>64.0</td>\n",
       "      <td>2.122159</td>\n",
       "      <td>1.041856</td>\n",
       "      <td>-0.696555</td>\n",
       "      <td>1.650288</td>\n",
       "      <td>2.358637</td>\n",
       "      <td>2.736578</td>\n",
       "      <td>4.079408</td>\n",
       "      <td>1.876931</td>\n",
       "      <td>2.424268</td>\n",
       "    </tr>\n",
       "    <tr>\n",
       "      <th>BXMT</th>\n",
       "      <td>64.0</td>\n",
       "      <td>2.217364</td>\n",
       "      <td>1.124843</td>\n",
       "      <td>-0.871521</td>\n",
       "      <td>1.709116</td>\n",
       "      <td>2.252804</td>\n",
       "      <td>3.108012</td>\n",
       "      <td>4.386002</td>\n",
       "      <td>1.823097</td>\n",
       "      <td>2.677339</td>\n",
       "    </tr>\n",
       "    <tr>\n",
       "      <th>VNQ</th>\n",
       "      <td>64.0</td>\n",
       "      <td>1.736077</td>\n",
       "      <td>2.047738</td>\n",
       "      <td>-2.311020</td>\n",
       "      <td>0.084891</td>\n",
       "      <td>2.065982</td>\n",
       "      <td>3.124952</td>\n",
       "      <td>5.600953</td>\n",
       "      <td>0.766412</td>\n",
       "      <td>3.975014</td>\n",
       "    </tr>\n",
       "  </tbody>\n",
       "</table>\n",
       "</div>"
      ],
      "text/plain": [
       "           count      mean       std       min       25%       50%       75%  \\\n",
       "Portfolio   64.0  2.122159  1.041856 -0.696555  1.650288  2.358637  2.736578   \n",
       "BXMT        64.0  2.217364  1.124843 -0.871521  1.709116  2.252804  3.108012   \n",
       "VNQ         64.0  1.736077  2.047738 -2.311020  0.084891  2.065982  3.124952   \n",
       "\n",
       "                max      shrp  drawdown  \n",
       "Portfolio  4.079408  1.876931  2.424268  \n",
       "BXMT       4.386002  1.823097  2.677339  \n",
       "VNQ        5.600953  0.766412  3.975014  "
      ]
     },
     "execution_count": 8,
     "metadata": {},
     "output_type": "execute_result"
    },
    {
     "data": {
      "image/png": "[encoded data removed]",
      "text/plain": [
       "<Figure size 864x576 with 1 Axes>"
      ]
     },
     "metadata": {
      "needs_background": "light"
     },
     "output_type": "display_data"
    }
   ],
   "source": [
    "%pylab inline\n",
    "quote.graph(21, {'BXMT': 0.80640725, 'VNQ': 0.19359275})"
   ]
  },
  {
   "cell_type": "code",
   "execution_count": null,
   "metadata": {},
   "outputs": [],
   "source": []
  }
 ],
 "metadata": {
  "kernelspec": {
   "display_name": "Python 3",
   "language": "python",
   "name": "python3"
  },
  "language_info": {
   "codemirror_mode": {
    "name": "ipython",
    "version": 3
   },
   "file_extension": ".py",
   "mimetype": "text/x-python",
   "name": "python",
   "nbconvert_exporter": "python",
   "pygments_lexer": "ipython3",
   "version": "3.7.3"
  }
 },
 "nbformat": 4,
 "nbformat_minor": 2
}
