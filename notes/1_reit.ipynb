{
 "cells": [
  {
   "cell_type": "code",
   "execution_count": 1,
   "metadata": {},
   "outputs": [
    {
     "data": {
      "text/plain": [
       "'from 2019-02-25 to 2019-06-24 - 113'"
      ]
     },
     "execution_count": 1,
     "metadata": {},
     "output_type": "execute_result"
    }
   ],
   "source": [
    "from app import create_app\n",
    "from app.instrument import Instrument\n",
    "from app.analysis import Quote\n",
    "with create_app().app_context():\n",
    "    quote = Quote([b.symbol for b in Instrument.find_reits()], 120)\n",
    "f'from {quote.start.date()} to {quote.end.date()} - {len(quote.data.columns)}'"
   ]
  },
  {
   "cell_type": "code",
   "execution_count": 2,
   "metadata": {},
   "outputs": [
    {
     "data": {
      "text/html": [
       "<div>\n",
       "<style scoped>\n",
       "    .dataframe tbody tr th:only-of-type {\n",
       "        vertical-align: middle;\n",
       "    }\n",
       "\n",
       "    .dataframe tbody tr th {\n",
       "        vertical-align: top;\n",
       "    }\n",
       "\n",
       "    .dataframe thead th {\n",
       "        text-align: right;\n",
       "    }\n",
       "</style>\n",
       "<table border=\"1\" class=\"dataframe\">\n",
       "  <thead>\n",
       "    <tr style=\"text-align: right;\">\n",
       "      <th></th>\n",
       "      <th>21-len</th>\n",
       "      <th>21-mean</th>\n",
       "      <th>21-std</th>\n",
       "      <th>21-shrp</th>\n",
       "      <th>drawdown</th>\n",
       "    </tr>\n",
       "    <tr>\n",
       "      <th>Symbols</th>\n",
       "      <th></th>\n",
       "      <th></th>\n",
       "      <th></th>\n",
       "      <th></th>\n",
       "      <th></th>\n",
       "    </tr>\n",
       "  </thead>\n",
       "  <tbody>\n",
       "    <tr>\n",
       "      <th>AMH</th>\n",
       "      <td>63</td>\n",
       "      <td>3.605934</td>\n",
       "      <td>1.477345</td>\n",
       "      <td>2.328005</td>\n",
       "      <td>3.088962</td>\n",
       "    </tr>\n",
       "    <tr>\n",
       "      <th>BXMT</th>\n",
       "      <td>63</td>\n",
       "      <td>2.171797</td>\n",
       "      <td>1.158393</td>\n",
       "      <td>1.730958</td>\n",
       "      <td>2.677343</td>\n",
       "    </tr>\n",
       "    <tr>\n",
       "      <th>INVH</th>\n",
       "      <td>63</td>\n",
       "      <td>4.530903</td>\n",
       "      <td>2.694522</td>\n",
       "      <td>1.619670</td>\n",
       "      <td>3.809150</td>\n",
       "    </tr>\n",
       "    <tr>\n",
       "      <th>EQIX</th>\n",
       "      <td>63</td>\n",
       "      <td>4.857679</td>\n",
       "      <td>3.087596</td>\n",
       "      <td>1.519309</td>\n",
       "      <td>4.324717</td>\n",
       "    </tr>\n",
       "    <tr>\n",
       "      <th>WPC</th>\n",
       "      <td>63</td>\n",
       "      <td>4.229732</td>\n",
       "      <td>2.849661</td>\n",
       "      <td>1.425806</td>\n",
       "      <td>4.296338</td>\n",
       "    </tr>\n",
       "    <tr>\n",
       "      <th>PMT</th>\n",
       "      <td>63</td>\n",
       "      <td>2.266158</td>\n",
       "      <td>1.766051</td>\n",
       "      <td>1.188806</td>\n",
       "      <td>4.901510</td>\n",
       "    </tr>\n",
       "    <tr>\n",
       "      <th>PSA</th>\n",
       "      <td>63</td>\n",
       "      <td>4.117820</td>\n",
       "      <td>3.385696</td>\n",
       "      <td>1.167014</td>\n",
       "      <td>4.410452</td>\n",
       "    </tr>\n",
       "    <tr>\n",
       "      <th>AMT</th>\n",
       "      <td>63</td>\n",
       "      <td>4.798336</td>\n",
       "      <td>4.169170</td>\n",
       "      <td>1.110933</td>\n",
       "      <td>4.096795</td>\n",
       "    </tr>\n",
       "    <tr>\n",
       "      <th>STAG</th>\n",
       "      <td>63</td>\n",
       "      <td>3.061213</td>\n",
       "      <td>3.059303</td>\n",
       "      <td>0.946146</td>\n",
       "      <td>4.545455</td>\n",
       "    </tr>\n",
       "    <tr>\n",
       "      <th>GLPI</th>\n",
       "      <td>63</td>\n",
       "      <td>3.324573</td>\n",
       "      <td>3.513172</td>\n",
       "      <td>0.898876</td>\n",
       "      <td>4.020722</td>\n",
       "    </tr>\n",
       "    <tr>\n",
       "      <th>VICI</th>\n",
       "      <td>63</td>\n",
       "      <td>2.163000</td>\n",
       "      <td>2.432946</td>\n",
       "      <td>0.820542</td>\n",
       "      <td>4.418199</td>\n",
       "    </tr>\n",
       "    <tr>\n",
       "      <th>EPR</th>\n",
       "      <td>63</td>\n",
       "      <td>2.240861</td>\n",
       "      <td>2.600293</td>\n",
       "      <td>0.797677</td>\n",
       "      <td>4.422017</td>\n",
       "    </tr>\n",
       "    <tr>\n",
       "      <th>VNQ</th>\n",
       "      <td>63</td>\n",
       "      <td>1.756410</td>\n",
       "      <td>2.068982</td>\n",
       "      <td>0.768370</td>\n",
       "      <td>3.975014</td>\n",
       "    </tr>\n",
       "    <tr>\n",
       "      <th>ARI</th>\n",
       "      <td>63</td>\n",
       "      <td>1.625729</td>\n",
       "      <td>1.999531</td>\n",
       "      <td>0.729702</td>\n",
       "      <td>3.719230</td>\n",
       "    </tr>\n",
       "    <tr>\n",
       "      <th>DEA</th>\n",
       "      <td>63</td>\n",
       "      <td>1.891203</td>\n",
       "      <td>2.428235</td>\n",
       "      <td>0.710201</td>\n",
       "      <td>4.901962</td>\n",
       "    </tr>\n",
       "    <tr>\n",
       "      <th>NYMT</th>\n",
       "      <td>63</td>\n",
       "      <td>2.217908</td>\n",
       "      <td>3.158298</td>\n",
       "      <td>0.649477</td>\n",
       "      <td>4.437393</td>\n",
       "    </tr>\n",
       "  </tbody>\n",
       "</table>\n",
       "</div>"
      ],
      "text/plain": [
       "         21-len   21-mean    21-std   21-shrp  drawdown\n",
       "Symbols                                                \n",
       "AMH          63  3.605934  1.477345  2.328005  3.088962\n",
       "BXMT         63  2.171797  1.158393  1.730958  2.677343\n",
       "INVH         63  4.530903  2.694522  1.619670  3.809150\n",
       "EQIX         63  4.857679  3.087596  1.519309  4.324717\n",
       "WPC          63  4.229732  2.849661  1.425806  4.296338\n",
       "PMT          63  2.266158  1.766051  1.188806  4.901510\n",
       "PSA          63  4.117820  3.385696  1.167014  4.410452\n",
       "AMT          63  4.798336  4.169170  1.110933  4.096795\n",
       "STAG         63  3.061213  3.059303  0.946146  4.545455\n",
       "GLPI         63  3.324573  3.513172  0.898876  4.020722\n",
       "VICI         63  2.163000  2.432946  0.820542  4.418199\n",
       "EPR          63  2.240861  2.600293  0.797677  4.422017\n",
       "VNQ          63  1.756410  2.068982  0.768370  3.975014\n",
       "ARI          63  1.625729  1.999531  0.729702  3.719230\n",
       "DEA          63  1.891203  2.428235  0.710201  4.901962\n",
       "NYMT         63  2.217908  3.158298  0.649477  4.437393"
      ]
     },
     "execution_count": 2,
     "metadata": {},
     "output_type": "execute_result"
    }
   ],
   "source": [
    "stat = quote.statistics(21)\n",
    "stat = stat[(stat['drawdown'] < 5) & (stat['21-mean'] > 1) & (stat['21-shrp'] > 0.6)]\n",
    "stat"
   ]
  },
  {
   "cell_type": "code",
   "execution_count": 3,
   "metadata": {},
   "outputs": [
    {
     "name": "stdout",
     "output_type": "stream",
     "text": [
      "['VNQ'] 1.2266332038561205 1 0.7950028117415554 0.7683696078854348\n",
      "['VNQ', 'AMH'] -0.2788427867834704 0.5629470033918098 0.7063976037759322 1.5481873939512125\n",
      "['VNQ', 'BXMT'] -0.46957705393790783 0.11485086869111982 0.6652356683491181 1.2496635909781457\n"
     ]
    },
    {
     "data": {
      "text/plain": [
       "['VNQ', 'BXMT']"
      ]
     },
     "execution_count": 3,
     "metadata": {},
     "output_type": "execute_result"
    }
   ],
   "source": [
    "quote.setup_mask(stat.index)\n",
    "quote.least_correlated_portfolio(21, 2, ['VNQ'], sr=1)"
   ]
  },
  {
   "cell_type": "code",
   "execution_count": 4,
   "metadata": {},
   "outputs": [
    {
     "name": "stdout",
     "output_type": "stream",
     "text": [
      "['VNQ', 'BXMT'] 0.7800865370402379 0.11485086869111982 0.6652356683491181 1.2496635909781457\n",
      "['VNQ', 'BXMT', 'AMH'] 0.6425672585840041 0.3931460144144891 0.649421244169515 1.6091107873244272\n",
      "['VNQ', 'BXMT', 'AMH', 'INVH'] 0.23428625514124984 0.35676283164254424 0.6775234234987056 1.611750564771139\n",
      "['VNQ', 'BXMT', 'AMH', 'EQIX'] 0.18614959129349234 0.282847788012139 0.7033018032813534 1.5866603183096066\n",
      "['VNQ', 'BXMT', 'AMH', 'PSA'] 0.13158237421153304 0.22399386427119836 0.7075885099403347 1.4985865024542087\n",
      "['VNQ', 'BXMT', 'INVH', 'ARI'] 0.1041956793895891 0.19515886030543164 0.7090368190841575 1.2121748550018925\n",
      "['VNQ', 'BXMT', 'PSA', 'GLPI'] 0.039890547431107704 0.08571405416547366 0.7541764932656341 1.1413042072713988\n",
      "['VNQ', 'BXMT', 'PSA', 'ARI'] 0.0095261667364675 0.0704242612106812 0.7391019055257864 1.0990107926849622\n"
     ]
    },
    {
     "data": {
      "text/plain": [
       "['VNQ', 'BXMT', 'PSA', 'ARI']"
      ]
     },
     "execution_count": 4,
     "metadata": {},
     "output_type": "execute_result"
    }
   ],
   "source": [
    "quote.setup_mask(stat.index)\n",
    "quote.least_correlated_portfolio(21, 4, ['VNQ', 'BXMT'], sr=0)"
   ]
  },
  {
   "cell_type": "code",
   "execution_count": 5,
   "metadata": {},
   "outputs": [
    {
     "name": "stdout",
     "output_type": "stream",
     "text": [
      "     fun: 1.1175749785293378\n",
      "     jac: array([2.23239174, 2.23588297])\n",
      " message: 'Optimization terminated successfully.'\n",
      "    nfev: 12\n",
      "     nit: 7\n",
      "    njev: 3\n",
      "  status: 0\n",
      " success: True\n",
      "       x: array([0.20994857, 0.79005143])\n"
     ]
    },
    {
     "name": "stderr",
     "output_type": "stream",
     "text": [
      "/Users/chaoyi/.local/share/virtualenvs/portfolio_analysis-bdMx2S3t/lib/python3.7/site-packages/scipy/optimize/minpack.py:162: RuntimeWarning: The iteration is not making good progress, as measured by the \n",
      "  improvement from the last ten iterations.\n",
      "  warnings.warn(msg, RuntimeWarning)\n"
     ]
    },
    {
     "data": {
      "text/plain": [
       "({'VNQ': 0.21, 'BXMT': 0.79}, 2.0846, 1.0572)"
      ]
     },
     "execution_count": 5,
     "metadata": {},
     "output_type": "execute_result"
    }
   ],
   "source": [
    "quote.setup_mask(['VNQ', 'BXMT'])\n",
    "quote.find_optimal_ratio(21, 2, {0: .4})"
   ]
  },
  {
   "cell_type": "code",
   "execution_count": 9,
   "metadata": {},
   "outputs": [
    {
     "name": "stdout",
     "output_type": "stream",
     "text": [
      "Populating the interactive namespace from numpy and matplotlib\n"
     ]
    },
    {
     "data": {
      "text/html": [
       "<div>\n",
       "<style scoped>\n",
       "    .dataframe tbody tr th:only-of-type {\n",
       "        vertical-align: middle;\n",
       "    }\n",
       "\n",
       "    .dataframe tbody tr th {\n",
       "        vertical-align: top;\n",
       "    }\n",
       "\n",
       "    .dataframe thead th {\n",
       "        text-align: right;\n",
       "    }\n",
       "</style>\n",
       "<table border=\"1\" class=\"dataframe\">\n",
       "  <thead>\n",
       "    <tr style=\"text-align: right;\">\n",
       "      <th></th>\n",
       "      <th>count</th>\n",
       "      <th>mean</th>\n",
       "      <th>std</th>\n",
       "      <th>min</th>\n",
       "      <th>25%</th>\n",
       "      <th>50%</th>\n",
       "      <th>75%</th>\n",
       "      <th>max</th>\n",
       "      <th>shrp</th>\n",
       "      <th>drawdown</th>\n",
       "    </tr>\n",
       "  </thead>\n",
       "  <tbody>\n",
       "    <tr>\n",
       "      <th>BXMT</th>\n",
       "      <td>62.0</td>\n",
       "      <td>2.197840</td>\n",
       "      <td>1.149105</td>\n",
       "      <td>-0.871525</td>\n",
       "      <td>1.600847</td>\n",
       "      <td>2.252276</td>\n",
       "      <td>3.068974</td>\n",
       "      <td>4.384921</td>\n",
       "      <td>1.767614</td>\n",
       "      <td>2.677343</td>\n",
       "    </tr>\n",
       "    <tr>\n",
       "      <th>Portfolio</th>\n",
       "      <td>62.0</td>\n",
       "      <td>2.011600</td>\n",
       "      <td>1.146871</td>\n",
       "      <td>-0.503897</td>\n",
       "      <td>1.276775</td>\n",
       "      <td>2.139973</td>\n",
       "      <td>2.806189</td>\n",
       "      <td>4.474868</td>\n",
       "      <td>1.608667</td>\n",
       "      <td>2.145118</td>\n",
       "    </tr>\n",
       "    <tr>\n",
       "      <th>VNQ</th>\n",
       "      <td>62.0</td>\n",
       "      <td>1.745606</td>\n",
       "      <td>2.084080</td>\n",
       "      <td>-2.311019</td>\n",
       "      <td>0.077226</td>\n",
       "      <td>2.246910</td>\n",
       "      <td>3.205952</td>\n",
       "      <td>5.608280</td>\n",
       "      <td>0.757619</td>\n",
       "      <td>3.975014</td>\n",
       "    </tr>\n",
       "  </tbody>\n",
       "</table>\n",
       "</div>"
      ],
      "text/plain": [
       "           count      mean       std       min       25%       50%       75%  \\\n",
       "BXMT        62.0  2.197840  1.149105 -0.871525  1.600847  2.252276  3.068974   \n",
       "Portfolio   62.0  2.011600  1.146871 -0.503897  1.276775  2.139973  2.806189   \n",
       "VNQ         62.0  1.745606  2.084080 -2.311019  0.077226  2.246910  3.205952   \n",
       "\n",
       "                max      shrp  drawdown  \n",
       "BXMT       4.384921  1.767614  2.677343  \n",
       "Portfolio  4.474868  1.608667  2.145118  \n",
       "VNQ        5.608280  0.757619  3.975014  "
      ]
     },
     "execution_count": 9,
     "metadata": {},
     "output_type": "execute_result"
    },
    {
     "data": {
      "image/png": "[encoded data removed]",
      "text/plain": [
       "<Figure size 864x576 with 1 Axes>"
      ]
     },
     "metadata": {
      "needs_background": "light"
     },
     "output_type": "display_data"
    }
   ],
   "source": [
    "%pylab inline\n",
    "quote.setup_mask(['VNQ', 'BXMT'])\n",
    "quote.graph(21, {'VNQ': 0.4, 'BXMT': 0.6})"
   ]
  },
  {
   "cell_type": "code",
   "execution_count": null,
   "metadata": {},
   "outputs": [],
   "source": []
  }
 ],
 "metadata": {
  "kernelspec": {
   "display_name": "Python 3",
   "language": "python",
   "name": "python3"
  },
  "language_info": {
   "codemirror_mode": {
    "name": "ipython",
    "version": 3
   },
   "file_extension": ".py",
   "mimetype": "text/x-python",
   "name": "python",
   "nbconvert_exporter": "python",
   "pygments_lexer": "ipython3",
   "version": "3.7.3"
  }
 },
 "nbformat": 4,
 "nbformat_minor": 2
}
