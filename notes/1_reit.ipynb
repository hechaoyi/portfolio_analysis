{
 "cells": [
  {
   "cell_type": "code",
   "execution_count": 1,
   "metadata": {},
   "outputs": [
    {
     "data": {
      "text/plain": [
       "'from 2019-02-21 to 2019-06-21'"
      ]
     },
     "execution_count": 1,
     "metadata": {},
     "output_type": "execute_result"
    }
   ],
   "source": [
    "from app import create_app\n",
    "from app.instrument import Instrument\n",
    "from app.analysis import Quote\n",
    "with create_app().app_context():\n",
    "    quote = Quote([b.symbol for b in Instrument.find_reits()], 120)\n",
    "f'from {quote.start.date()} to {quote.end.date()} - {len(quote.data.columns)}'"
   ]
  },
  {
   "cell_type": "code",
   "execution_count": 2,
   "metadata": {},
   "outputs": [
    {
     "data": {
      "text/html": [
       "<div>\n",
       "<style scoped>\n",
       "    .dataframe tbody tr th:only-of-type {\n",
       "        vertical-align: middle;\n",
       "    }\n",
       "\n",
       "    .dataframe tbody tr th {\n",
       "        vertical-align: top;\n",
       "    }\n",
       "\n",
       "    .dataframe thead th {\n",
       "        text-align: right;\n",
       "    }\n",
       "</style>\n",
       "<table border=\"1\" class=\"dataframe\">\n",
       "  <thead>\n",
       "    <tr style=\"text-align: right;\">\n",
       "      <th></th>\n",
       "      <th>21-len</th>\n",
       "      <th>21-mean</th>\n",
       "      <th>21-std</th>\n",
       "      <th>21-shrp</th>\n",
       "      <th>drawdown</th>\n",
       "    </tr>\n",
       "    <tr>\n",
       "      <th>Symbols</th>\n",
       "      <th></th>\n",
       "      <th></th>\n",
       "      <th></th>\n",
       "      <th></th>\n",
       "      <th></th>\n",
       "    </tr>\n",
       "  </thead>\n",
       "  <tbody>\n",
       "    <tr>\n",
       "      <th>AMH</th>\n",
       "      <td>64</td>\n",
       "      <td>3.549919</td>\n",
       "      <td>1.556821</td>\n",
       "      <td>2.173180</td>\n",
       "      <td>4.649118</td>\n",
       "    </tr>\n",
       "    <tr>\n",
       "      <th>BXMT</th>\n",
       "      <td>64</td>\n",
       "      <td>2.176331</td>\n",
       "      <td>1.138051</td>\n",
       "      <td>1.765882</td>\n",
       "      <td>2.677343</td>\n",
       "    </tr>\n",
       "    <tr>\n",
       "      <th>INVH</th>\n",
       "      <td>64</td>\n",
       "      <td>4.494340</td>\n",
       "      <td>2.672412</td>\n",
       "      <td>1.619389</td>\n",
       "      <td>3.809150</td>\n",
       "    </tr>\n",
       "    <tr>\n",
       "      <th>EQIX</th>\n",
       "      <td>64</td>\n",
       "      <td>4.915719</td>\n",
       "      <td>3.059424</td>\n",
       "      <td>1.552270</td>\n",
       "      <td>4.324717</td>\n",
       "    </tr>\n",
       "    <tr>\n",
       "      <th>WPC</th>\n",
       "      <td>64</td>\n",
       "      <td>4.250205</td>\n",
       "      <td>2.824402</td>\n",
       "      <td>1.445806</td>\n",
       "      <td>4.296338</td>\n",
       "    </tr>\n",
       "    <tr>\n",
       "      <th>BRG</th>\n",
       "      <td>64</td>\n",
       "      <td>3.801204</td>\n",
       "      <td>2.705681</td>\n",
       "      <td>1.343298</td>\n",
       "      <td>4.026292</td>\n",
       "    </tr>\n",
       "    <tr>\n",
       "      <th>PMT</th>\n",
       "      <td>64</td>\n",
       "      <td>2.254487</td>\n",
       "      <td>1.755826</td>\n",
       "      <td>1.189082</td>\n",
       "      <td>4.901510</td>\n",
       "    </tr>\n",
       "    <tr>\n",
       "      <th>PSA</th>\n",
       "      <td>64</td>\n",
       "      <td>4.384197</td>\n",
       "      <td>3.640570</td>\n",
       "      <td>1.158481</td>\n",
       "      <td>4.410452</td>\n",
       "    </tr>\n",
       "    <tr>\n",
       "      <th>AMT</th>\n",
       "      <td>64</td>\n",
       "      <td>4.947015</td>\n",
       "      <td>4.243348</td>\n",
       "      <td>1.126551</td>\n",
       "      <td>4.096795</td>\n",
       "    </tr>\n",
       "    <tr>\n",
       "      <th>STAG</th>\n",
       "      <td>64</td>\n",
       "      <td>3.005080</td>\n",
       "      <td>3.031684</td>\n",
       "      <td>0.936250</td>\n",
       "      <td>4.545462</td>\n",
       "    </tr>\n",
       "    <tr>\n",
       "      <th>GLPI</th>\n",
       "      <td>64</td>\n",
       "      <td>3.329400</td>\n",
       "      <td>3.484042</td>\n",
       "      <td>0.907777</td>\n",
       "      <td>4.020722</td>\n",
       "    </tr>\n",
       "    <tr>\n",
       "      <th>EPR</th>\n",
       "      <td>64</td>\n",
       "      <td>2.332980</td>\n",
       "      <td>2.520490</td>\n",
       "      <td>0.859481</td>\n",
       "      <td>4.396561</td>\n",
       "    </tr>\n",
       "    <tr>\n",
       "      <th>VICI</th>\n",
       "      <td>64</td>\n",
       "      <td>2.200661</td>\n",
       "      <td>2.374529</td>\n",
       "      <td>0.856589</td>\n",
       "      <td>4.418199</td>\n",
       "    </tr>\n",
       "    <tr>\n",
       "      <th>VNQ</th>\n",
       "      <td>64</td>\n",
       "      <td>1.745487</td>\n",
       "      <td>2.053014</td>\n",
       "      <td>0.769025</td>\n",
       "      <td>3.975014</td>\n",
       "    </tr>\n",
       "    <tr>\n",
       "      <th>ARI</th>\n",
       "      <td>64</td>\n",
       "      <td>1.641875</td>\n",
       "      <td>1.976062</td>\n",
       "      <td>0.746540</td>\n",
       "      <td>3.719230</td>\n",
       "    </tr>\n",
       "    <tr>\n",
       "      <th>DEA</th>\n",
       "      <td>64</td>\n",
       "      <td>1.903041</td>\n",
       "      <td>2.396333</td>\n",
       "      <td>0.724596</td>\n",
       "      <td>4.901962</td>\n",
       "    </tr>\n",
       "    <tr>\n",
       "      <th>SCHH</th>\n",
       "      <td>64</td>\n",
       "      <td>1.238120</td>\n",
       "      <td>1.822742</td>\n",
       "      <td>0.587825</td>\n",
       "      <td>4.332364</td>\n",
       "    </tr>\n",
       "    <tr>\n",
       "      <th>DRE</th>\n",
       "      <td>64</td>\n",
       "      <td>1.495935</td>\n",
       "      <td>2.472002</td>\n",
       "      <td>0.537729</td>\n",
       "      <td>4.068454</td>\n",
       "    </tr>\n",
       "    <tr>\n",
       "      <th>STWD</th>\n",
       "      <td>64</td>\n",
       "      <td>1.150897</td>\n",
       "      <td>1.995940</td>\n",
       "      <td>0.493116</td>\n",
       "      <td>4.338395</td>\n",
       "    </tr>\n",
       "  </tbody>\n",
       "</table>\n",
       "</div>"
      ],
      "text/plain": [
       "         21-len   21-mean    21-std   21-shrp  drawdown\n",
       "Symbols                                                \n",
       "AMH          64  3.549919  1.556821  2.173180  4.649118\n",
       "BXMT         64  2.176331  1.138051  1.765882  2.677343\n",
       "INVH         64  4.494340  2.672412  1.619389  3.809150\n",
       "EQIX         64  4.915719  3.059424  1.552270  4.324717\n",
       "WPC          64  4.250205  2.824402  1.445806  4.296338\n",
       "BRG          64  3.801204  2.705681  1.343298  4.026292\n",
       "PMT          64  2.254487  1.755826  1.189082  4.901510\n",
       "PSA          64  4.384197  3.640570  1.158481  4.410452\n",
       "AMT          64  4.947015  4.243348  1.126551  4.096795\n",
       "STAG         64  3.005080  3.031684  0.936250  4.545462\n",
       "GLPI         64  3.329400  3.484042  0.907777  4.020722\n",
       "EPR          64  2.332980  2.520490  0.859481  4.396561\n",
       "VICI         64  2.200661  2.374529  0.856589  4.418199\n",
       "VNQ          64  1.745487  2.053014  0.769025  3.975014\n",
       "ARI          64  1.641875  1.976062  0.746540  3.719230\n",
       "DEA          64  1.903041  2.396333  0.724596  4.901962\n",
       "SCHH         64  1.238120  1.822742  0.587825  4.332364\n",
       "DRE          64  1.495935  2.472002  0.537729  4.068454\n",
       "STWD         64  1.150897  1.995940  0.493116  4.338395"
      ]
     },
     "execution_count": 2,
     "metadata": {},
     "output_type": "execute_result"
    }
   ],
   "source": [
    "stat = quote.statistics(21)\n",
    "stat = stat[(stat['drawdown'] < 5) & (stat['21-mean'] > 1)]\n",
    "stat"
   ]
  },
  {
   "cell_type": "code",
   "execution_count": 3,
   "metadata": {},
   "outputs": [
    {
     "name": "stdout",
     "output_type": "stream",
     "text": [
      "['VNQ', 'AMH'] 2.0994537497316235 0.5306686067148301 1.7248264534507065 -2.94220497731428\n",
      "['VNQ', 'BXMT'] 0.49538655887303706 0.1231172704490422 1.3304713366982361 -2.5349079258705616\n"
     ]
    },
    {
     "data": {
      "text/plain": [
       "['VNQ', 'BXMT']"
      ]
     },
     "execution_count": 3,
     "metadata": {},
     "output_type": "execute_result"
    }
   ],
   "source": [
    "quote.setup_mask(stat.index)\n",
    "quote.least_correlated_portfolio(21, 2, ['VNQ'], cr=3, dr=2)"
   ]
  },
  {
   "cell_type": "code",
   "execution_count": 4,
   "metadata": {},
   "outputs": [
    {
     "name": "stdout",
     "output_type": "stream",
     "text": [
      "     fun: 1.0894611072781093\n",
      "     jac: array([2.17920762, 2.17780887])\n",
      " message: 'Optimization terminated successfully.'\n",
      "    nfev: 8\n",
      "     nit: 2\n",
      "    njev: 2\n",
      "  status: 0\n",
      " success: True\n",
      "       x: array([0.79597507, 0.20402493])\n"
     ]
    },
    {
     "name": "stderr",
     "output_type": "stream",
     "text": [
      "/Users/chaoyi/.local/share/virtualenvs/portfolio_analysis-bdMx2S3t/lib/python3.7/site-packages/scipy/optimize/minpack.py:162: RuntimeWarning: The iteration is not making good progress, as measured by the \n",
      "  improvement from the last ten iterations.\n",
      "  warnings.warn(msg, RuntimeWarning)\n"
     ]
    },
    {
     "data": {
      "text/plain": [
       "({'BXMT': 0.7959750720664514, 'VNQ': 0.2040249279335486}, 2.0884, 1.0438)"
      ]
     },
     "execution_count": 4,
     "metadata": {},
     "output_type": "execute_result"
    }
   ],
   "source": [
    "quote.setup_mask(['BXMT', 'VNQ'])\n",
    "quote.find_optimal_ratio(21, 2)"
   ]
  },
  {
   "cell_type": "code",
   "execution_count": null,
   "metadata": {},
   "outputs": [],
   "source": [
    "%pylab inline\n",
    "quote.graph(21, {'BXMT': 0.80640725, 'VNQ': 0.19359275})"
   ]
  },
  {
   "cell_type": "code",
   "execution_count": null,
   "metadata": {},
   "outputs": [],
   "source": []
  }
 ],
 "metadata": {
  "kernelspec": {
   "display_name": "Python 3",
   "language": "python",
   "name": "python3"
  },
  "language_info": {
   "codemirror_mode": {
    "name": "ipython",
    "version": 3
   },
   "file_extension": ".py",
   "mimetype": "text/x-python",
   "name": "python",
   "nbconvert_exporter": "python",
   "pygments_lexer": "ipython3",
   "version": "3.7.3"
  }
 },
 "nbformat": 4,
 "nbformat_minor": 2
}
