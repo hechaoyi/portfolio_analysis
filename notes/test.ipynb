{
 "cells": [
  {
   "cell_type": "code",
   "execution_count": null,
   "metadata": {},
   "outputs": [],
   "source": [
    "from IPython.display import JSON\n",
    "from app import create_app\n",
    "r = create_app().robinhood"
   ]
  },
  {
   "cell_type": "code",
   "execution_count": null,
   "metadata": {},
   "outputs": [],
   "source": [
    "JSON(r.get('https://api.robinhood.com/accounts/').json())"
   ]
  },
  {
   "cell_type": "code",
   "execution_count": null,
   "metadata": {},
   "outputs": [],
   "source": [
    "JSON(r.get('https://api.robinhood.com/portfolios/').json())"
   ]
  },
  {
   "cell_type": "code",
   "execution_count": null,
   "metadata": {},
   "outputs": [],
   "source": [
    "JSON(r.get('https://nummus.robinhood.com/portfolios/').json())"
   ]
  },
  {
   "cell_type": "code",
   "execution_count": null,
   "metadata": {},
   "outputs": [],
   "source": [
    "JSON(r.get('https://api.robinhood.com/marketdata/forex/quotes/3d961844-d360-45fc-989b-f6fca761d511/').json())"
   ]
  },
  {
   "cell_type": "code",
   "execution_count": null,
   "metadata": {},
   "outputs": [],
   "source": [
    "JSON(r.get('https://api.robinhood.com/quotes/71d81e7d-783c-4b8c-b574-ee50fcc4ce3a/').json())"
   ]
  },
  {
   "cell_type": "code",
   "execution_count": null,
   "metadata": {},
   "outputs": [],
   "source": [
    "JSON(r.get('https://api.robinhood.com/positions/?nonzero=true').json())"
   ]
  },
  {
   "cell_type": "code",
   "execution_count": null,
   "metadata": {},
   "outputs": [],
   "source": [
    "JSON(r.get('https://api.robinhood.com/dividends/').json())"
   ]
  },
  {
   "cell_type": "code",
   "execution_count": null,
   "metadata": {},
   "outputs": [],
   "source": [
    "%pylab inline\n",
    "from app.analysis import Quote\n",
    "Quote(['MUB', 'PGX', 'BXMT', 'VNQ', 'SPLV', 'TMF', 'UPRO', 'MCD', 'ENPH', 'CTRP'], 120).graph(21,\n",
    "    {'MUB': .161, 'PGX': .139,\n",
    "     'BXMT': .120, 'VNQ': .080,\n",
    "     'SPLV': .200,\n",
    "     'TMF': .113, 'UPRO': .087,\n",
    "     'MCD': .096, 'ENPH': .004}, True)"
   ]
  },
  {
   "cell_type": "code",
   "execution_count": null,
   "metadata": {},
   "outputs": [],
   "source": []
  }
 ],
 "metadata": {
  "kernelspec": {
   "display_name": "Python 3",
   "language": "python",
   "name": "python3"
  },
  "language_info": {
   "codemirror_mode": {
    "name": "ipython",
    "version": 3
   },
   "file_extension": ".py",
   "mimetype": "text/x-python",
   "name": "python",
   "nbconvert_exporter": "python",
   "pygments_lexer": "ipython3",
   "version": "3.7.3"
  }
 },
 "nbformat": 4,
 "nbformat_minor": 2
}
