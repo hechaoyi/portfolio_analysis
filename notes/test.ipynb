{
 "cells": [
  {
   "cell_type": "code",
   "execution_count": null,
   "metadata": {},
   "outputs": [],
   "source": [
    "from IPython.display import JSON\n",
    "from app import create_app\n",
    "r = create_app().robinhood"
   ]
  },
  {
   "cell_type": "code",
   "execution_count": null,
   "metadata": {},
   "outputs": [],
   "source": [
    "JSON(r.get('https://api.robinhood.com/accounts/').json())"
   ]
  },
  {
   "cell_type": "code",
   "execution_count": null,
   "metadata": {},
   "outputs": [],
   "source": [
    "JSON(r.get('https://api.robinhood.com/portfolios/').json())"
   ]
  },
  {
   "cell_type": "code",
   "execution_count": null,
   "metadata": {},
   "outputs": [],
   "source": [
    "JSON(r.get('https://nummus.robinhood.com/portfolios/').json())"
   ]
  },
  {
   "cell_type": "code",
   "execution_count": null,
   "metadata": {},
   "outputs": [],
   "source": [
    "JSON(r.get('https://api.robinhood.com/marketdata/forex/quotes/3d961844-d360-45fc-989b-f6fca761d511/').json())"
   ]
  },
  {
   "cell_type": "code",
   "execution_count": null,
   "metadata": {},
   "outputs": [],
   "source": [
    "JSON(r.get('https://api.robinhood.com/quotes/71d81e7d-783c-4b8c-b574-ee50fcc4ce3a/').json())"
   ]
  },
  {
   "cell_type": "code",
   "execution_count": null,
   "metadata": {},
   "outputs": [],
   "source": [
    "JSON(r.get('https://api.robinhood.com/positions/?nonzero=true').json())"
   ]
  },
  {
   "cell_type": "code",
   "execution_count": null,
   "metadata": {},
   "outputs": [],
   "source": [
    "JSON(r.get('https://api.robinhood.com/dividends/').json())"
   ]
  },
  {
   "cell_type": "code",
   "execution_count": 1,
   "metadata": {},
   "outputs": [
    {
     "name": "stdout",
     "output_type": "stream",
     "text": [
      "Populating the interactive namespace from numpy and matplotlib\n"
     ]
    }
   ],
   "source": [
    "%pylab inline\n",
    "from app.analysis import Quote"
   ]
  },
  {
   "cell_type": "code",
   "execution_count": 2,
   "metadata": {},
   "outputs": [
    {
     "data": {
      "text/html": [
       "<div>\n",
       "<style scoped>\n",
       "    .dataframe tbody tr th:only-of-type {\n",
       "        vertical-align: middle;\n",
       "    }\n",
       "\n",
       "    .dataframe tbody tr th {\n",
       "        vertical-align: top;\n",
       "    }\n",
       "\n",
       "    .dataframe thead th {\n",
       "        text-align: right;\n",
       "    }\n",
       "</style>\n",
       "<table border=\"1\" class=\"dataframe\">\n",
       "  <thead>\n",
       "    <tr style=\"text-align: right;\">\n",
       "      <th></th>\n",
       "      <th>len</th>\n",
       "      <th>mean</th>\n",
       "      <th>std</th>\n",
       "      <th>shrp</th>\n",
       "      <th>drawdown</th>\n",
       "    </tr>\n",
       "    <tr>\n",
       "      <th>Symbols</th>\n",
       "      <th></th>\n",
       "      <th></th>\n",
       "      <th></th>\n",
       "      <th></th>\n",
       "      <th></th>\n",
       "    </tr>\n",
       "  </thead>\n",
       "  <tbody>\n",
       "    <tr>\n",
       "      <th>QQQ</th>\n",
       "      <td>245</td>\n",
       "      <td>12.775269</td>\n",
       "      <td>10.117516</td>\n",
       "      <td>1.065011</td>\n",
       "      <td>22.796651</td>\n",
       "    </tr>\n",
       "    <tr>\n",
       "      <th>VOO</th>\n",
       "      <td>245</td>\n",
       "      <td>8.380735</td>\n",
       "      <td>7.376472</td>\n",
       "      <td>0.865012</td>\n",
       "      <td>19.476758</td>\n",
       "    </tr>\n",
       "    <tr>\n",
       "      <th>SPXL</th>\n",
       "      <td>245</td>\n",
       "      <td>13.943205</td>\n",
       "      <td>24.465997</td>\n",
       "      <td>0.488155</td>\n",
       "      <td>50.167051</td>\n",
       "    </tr>\n",
       "    <tr>\n",
       "      <th>TLT</th>\n",
       "      <td>245</td>\n",
       "      <td>1.441175</td>\n",
       "      <td>6.257361</td>\n",
       "      <td>-0.089307</td>\n",
       "      <td>10.688603</td>\n",
       "    </tr>\n",
       "    <tr>\n",
       "      <th>EDV</th>\n",
       "      <td>245</td>\n",
       "      <td>1.285370</td>\n",
       "      <td>7.755665</td>\n",
       "      <td>-0.092143</td>\n",
       "      <td>15.110580</td>\n",
       "    </tr>\n",
       "    <tr>\n",
       "      <th>TMF</th>\n",
       "      <td>245</td>\n",
       "      <td>-1.402248</td>\n",
       "      <td>18.181857</td>\n",
       "      <td>-0.187123</td>\n",
       "      <td>33.904114</td>\n",
       "    </tr>\n",
       "  </tbody>\n",
       "</table>\n",
       "</div>"
      ],
      "text/plain": [
       "         len       mean        std      shrp   drawdown\n",
       "Symbols                                                \n",
       "QQQ      245  12.775269  10.117516  1.065011  22.796651\n",
       "VOO      245   8.380735   7.376472  0.865012  19.476758\n",
       "SPXL     245  13.943205  24.465997  0.488155  50.167051\n",
       "TLT      245   1.441175   6.257361 -0.089307  10.688603\n",
       "EDV      245   1.285370   7.755665 -0.092143  15.110580\n",
       "TMF      245  -1.402248  18.181857 -0.187123  33.904114"
      ]
     },
     "execution_count": 2,
     "metadata": {},
     "output_type": "execute_result"
    }
   ],
   "source": [
    "quote = Quote(['TMF', 'SPXL', 'EDV', 'TLT', 'QQQ', 'VOO'], 720, 252)\n",
    "quote.statistics()"
   ]
  },
  {
   "cell_type": "code",
   "execution_count": 3,
   "metadata": {},
   "outputs": [
    {
     "data": {
      "text/html": [
       "<div>\n",
       "<style scoped>\n",
       "    .dataframe tbody tr th:only-of-type {\n",
       "        vertical-align: middle;\n",
       "    }\n",
       "\n",
       "    .dataframe tbody tr th {\n",
       "        vertical-align: top;\n",
       "    }\n",
       "\n",
       "    .dataframe thead th {\n",
       "        text-align: right;\n",
       "    }\n",
       "</style>\n",
       "<table border=\"1\" class=\"dataframe\">\n",
       "  <thead>\n",
       "    <tr style=\"text-align: right;\">\n",
       "      <th>Symbols</th>\n",
       "      <th>EDV</th>\n",
       "      <th>QQQ</th>\n",
       "      <th>SPXL</th>\n",
       "      <th>TLT</th>\n",
       "      <th>TMF</th>\n",
       "      <th>VOO</th>\n",
       "    </tr>\n",
       "    <tr>\n",
       "      <th>Symbols</th>\n",
       "      <th></th>\n",
       "      <th></th>\n",
       "      <th></th>\n",
       "      <th></th>\n",
       "      <th></th>\n",
       "      <th></th>\n",
       "    </tr>\n",
       "  </thead>\n",
       "  <tbody>\n",
       "    <tr>\n",
       "      <th>EDV</th>\n",
       "      <td>1.000000</td>\n",
       "      <td>-0.266071</td>\n",
       "      <td>-0.155741</td>\n",
       "      <td>0.995784</td>\n",
       "      <td>0.995003</td>\n",
       "      <td>-0.098611</td>\n",
       "    </tr>\n",
       "    <tr>\n",
       "      <th>QQQ</th>\n",
       "      <td>-0.266071</td>\n",
       "      <td>1.000000</td>\n",
       "      <td>0.976177</td>\n",
       "      <td>-0.326865</td>\n",
       "      <td>-0.322096</td>\n",
       "      <td>0.961234</td>\n",
       "    </tr>\n",
       "    <tr>\n",
       "      <th>SPXL</th>\n",
       "      <td>-0.155741</td>\n",
       "      <td>0.976177</td>\n",
       "      <td>1.000000</td>\n",
       "      <td>-0.217655</td>\n",
       "      <td>-0.207744</td>\n",
       "      <td>0.994117</td>\n",
       "    </tr>\n",
       "    <tr>\n",
       "      <th>TLT</th>\n",
       "      <td>0.995784</td>\n",
       "      <td>-0.326865</td>\n",
       "      <td>-0.217655</td>\n",
       "      <td>1.000000</td>\n",
       "      <td>0.998716</td>\n",
       "      <td>-0.157094</td>\n",
       "    </tr>\n",
       "    <tr>\n",
       "      <th>TMF</th>\n",
       "      <td>0.995003</td>\n",
       "      <td>-0.322096</td>\n",
       "      <td>-0.207744</td>\n",
       "      <td>0.998716</td>\n",
       "      <td>1.000000</td>\n",
       "      <td>-0.146215</td>\n",
       "    </tr>\n",
       "    <tr>\n",
       "      <th>VOO</th>\n",
       "      <td>-0.098611</td>\n",
       "      <td>0.961234</td>\n",
       "      <td>0.994117</td>\n",
       "      <td>-0.157094</td>\n",
       "      <td>-0.146215</td>\n",
       "      <td>1.000000</td>\n",
       "    </tr>\n",
       "  </tbody>\n",
       "</table>\n",
       "</div>"
      ],
      "text/plain": [
       "Symbols       EDV       QQQ      SPXL       TLT       TMF       VOO\n",
       "Symbols                                                            \n",
       "EDV      1.000000 -0.266071 -0.155741  0.995784  0.995003 -0.098611\n",
       "QQQ     -0.266071  1.000000  0.976177 -0.326865 -0.322096  0.961234\n",
       "SPXL    -0.155741  0.976177  1.000000 -0.217655 -0.207744  0.994117\n",
       "TLT      0.995784 -0.326865 -0.217655  1.000000  0.998716 -0.157094\n",
       "TMF      0.995003 -0.322096 -0.207744  0.998716  1.000000 -0.146215\n",
       "VOO     -0.098611  0.961234  0.994117 -0.157094 -0.146215  1.000000"
      ]
     },
     "execution_count": 3,
     "metadata": {},
     "output_type": "execute_result"
    }
   ],
   "source": [
    "quote.data.pct_change(quote.period).corr()"
   ]
  },
  {
   "cell_type": "code",
   "execution_count": null,
   "metadata": {},
   "outputs": [],
   "source": []
  }
 ],
 "metadata": {
  "kernelspec": {
   "display_name": "Python 3",
   "language": "python",
   "name": "python3"
  },
  "language_info": {
   "codemirror_mode": {
    "name": "ipython",
    "version": 3
   },
   "file_extension": ".py",
   "mimetype": "text/x-python",
   "name": "python",
   "nbconvert_exporter": "python",
   "pygments_lexer": "ipython3",
   "version": "3.7.3"
  }
 },
 "nbformat": 4,
 "nbformat_minor": 2
}
