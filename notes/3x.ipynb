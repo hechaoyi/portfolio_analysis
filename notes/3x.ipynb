{
 "cells": [
  {
   "cell_type": "code",
   "execution_count": null,
   "metadata": {},
   "outputs": [],
   "source": [
    "from app.analysis import Quote\n",
    "quote = Quote(['TMF', 'UPRO'], 120)\n",
    "stat = quote.statistics(21)\n",
    "tmf, upro = stat['21-std']['TMF'], stat['21-std']['UPRO']\n",
    "print(f\"{upro / (tmf + upro):.4f} {tmf / (tmf + upro):.4f}\")\n",
    "stat"
   ]
  },
  {
   "cell_type": "code",
   "execution_count": null,
   "metadata": {},
   "outputs": [],
   "source": [
    "%pylab inline\n",
    "quote.graph(21, {'TMF': 0.5515, 'UPRO': 0.4485})"
   ]
  },
  {
   "cell_type": "code",
   "execution_count": null,
   "metadata": {},
   "outputs": [],
   "source": [
    "%pylab inline\n",
    "Quote(['MUB', 'PGX', 'BXMT', 'VNQ', 'SPLV', 'TMF', 'UPRO', 'MCD', 'CTRP'], 30).graph(1,\n",
    "    {'MUB': .159, 'PGX': .141,\n",
    "     'BXMT': .12, 'VNQ': .08,\n",
    "     'SPLV': .20,\n",
    "     'TMF': .11, 'UPRO': .09,\n",
    "     'MCD': .1})"
   ]
  },
  {
   "cell_type": "code",
   "execution_count": null,
   "metadata": {},
   "outputs": [],
   "source": []
  }
 ],
 "metadata": {
  "kernelspec": {
   "display_name": "Python 3",
   "language": "python",
   "name": "python3"
  },
  "language_info": {
   "codemirror_mode": {
    "name": "ipython",
    "version": 3
   },
   "file_extension": ".py",
   "mimetype": "text/x-python",
   "name": "python",
   "nbconvert_exporter": "python",
   "pygments_lexer": "ipython3",
   "version": "3.7.3"
  }
 },
 "nbformat": 4,
 "nbformat_minor": 2
}
