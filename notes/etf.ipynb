{
 "cells": [
  {
   "cell_type": "code",
   "execution_count": 1,
   "metadata": {},
   "outputs": [
    {
     "name": "stdout",
     "output_type": "stream",
     "text": [
      "Populating the interactive namespace from numpy and matplotlib\n"
     ]
    },
    {
     "data": {
      "text/plain": [
       "'from 2019-02-19 to 2019-06-19'"
      ]
     },
     "execution_count": 1,
     "metadata": {},
     "output_type": "execute_result"
    }
   ],
   "source": [
    "from app import create_app\n",
    "from app.instrument import Instrument\n",
    "from app.analysis import Quote\n",
    "with create_app().app_context():\n",
    "    quote = Quote([b.symbol for b in Instrument.find_etfs(100)], 120)\n",
    "f'from {quote.start.date()} to {quote.end.date()}'"
   ]
  },
  {
   "cell_type": "code",
   "execution_count": 2,
   "metadata": {},
   "outputs": [
    {
     "data": {
      "text/html": [
       "<div>\n",
       "<style scoped>\n",
       "    .dataframe tbody tr th:only-of-type {\n",
       "        vertical-align: middle;\n",
       "    }\n",
       "\n",
       "    .dataframe tbody tr th {\n",
       "        vertical-align: top;\n",
       "    }\n",
       "\n",
       "    .dataframe thead th {\n",
       "        text-align: right;\n",
       "    }\n",
       "</style>\n",
       "<table border=\"1\" class=\"dataframe\">\n",
       "  <thead>\n",
       "    <tr style=\"text-align: right;\">\n",
       "      <th></th>\n",
       "      <th>21-len</th>\n",
       "      <th>21-mean</th>\n",
       "      <th>21-std</th>\n",
       "      <th>21-shrp</th>\n",
       "      <th>drawdown</th>\n",
       "    </tr>\n",
       "    <tr>\n",
       "      <th>symbol</th>\n",
       "      <th></th>\n",
       "      <th></th>\n",
       "      <th></th>\n",
       "      <th></th>\n",
       "      <th></th>\n",
       "    </tr>\n",
       "  </thead>\n",
       "  <tbody>\n",
       "    <tr>\n",
       "      <th>SPLV</th>\n",
       "      <td>64</td>\n",
       "      <td>1.976495</td>\n",
       "      <td>1.315619</td>\n",
       "      <td>1.369313</td>\n",
       "      <td>1.971359</td>\n",
       "    </tr>\n",
       "    <tr>\n",
       "      <th>FINX</th>\n",
       "      <td>64</td>\n",
       "      <td>2.221623</td>\n",
       "      <td>2.374574</td>\n",
       "      <td>0.861890</td>\n",
       "      <td>5.312177</td>\n",
       "    </tr>\n",
       "    <tr>\n",
       "      <th>XLU</th>\n",
       "      <td>64</td>\n",
       "      <td>1.526755</td>\n",
       "      <td>1.919041</td>\n",
       "      <td>0.704391</td>\n",
       "      <td>3.426052</td>\n",
       "    </tr>\n",
       "    <tr>\n",
       "      <th>ICLN</th>\n",
       "      <td>64</td>\n",
       "      <td>1.643594</td>\n",
       "      <td>2.717949</td>\n",
       "      <td>0.540331</td>\n",
       "      <td>4.109589</td>\n",
       "    </tr>\n",
       "    <tr>\n",
       "      <th>XAR</th>\n",
       "      <td>64</td>\n",
       "      <td>2.040710</td>\n",
       "      <td>3.462046</td>\n",
       "      <td>0.538904</td>\n",
       "      <td>6.667349</td>\n",
       "    </tr>\n",
       "    <tr>\n",
       "      <th>YYY</th>\n",
       "      <td>64</td>\n",
       "      <td>0.903750</td>\n",
       "      <td>1.364473</td>\n",
       "      <td>0.534089</td>\n",
       "      <td>3.806427</td>\n",
       "    </tr>\n",
       "    <tr>\n",
       "      <th>VIG</th>\n",
       "      <td>64</td>\n",
       "      <td>1.241226</td>\n",
       "      <td>2.295435</td>\n",
       "      <td>0.464498</td>\n",
       "      <td>4.634189</td>\n",
       "    </tr>\n",
       "    <tr>\n",
       "      <th>VOOG</th>\n",
       "      <td>64</td>\n",
       "      <td>1.310519</td>\n",
       "      <td>2.791242</td>\n",
       "      <td>0.406815</td>\n",
       "      <td>6.391445</td>\n",
       "    </tr>\n",
       "    <tr>\n",
       "      <th>SPYG</th>\n",
       "      <td>64</td>\n",
       "      <td>1.297981</td>\n",
       "      <td>2.771319</td>\n",
       "      <td>0.405215</td>\n",
       "      <td>6.359876</td>\n",
       "    </tr>\n",
       "    <tr>\n",
       "      <th>DGRO</th>\n",
       "      <td>64</td>\n",
       "      <td>0.859505</td>\n",
       "      <td>2.447055</td>\n",
       "      <td>0.279726</td>\n",
       "      <td>5.769735</td>\n",
       "    </tr>\n",
       "    <tr>\n",
       "      <th>IVV</th>\n",
       "      <td>64</td>\n",
       "      <td>0.828845</td>\n",
       "      <td>2.968246</td>\n",
       "      <td>0.220280</td>\n",
       "      <td>6.631533</td>\n",
       "    </tr>\n",
       "    <tr>\n",
       "      <th>VOO</th>\n",
       "      <td>64</td>\n",
       "      <td>0.826427</td>\n",
       "      <td>2.970801</td>\n",
       "      <td>0.219276</td>\n",
       "      <td>6.639511</td>\n",
       "    </tr>\n",
       "    <tr>\n",
       "      <th>SPY</th>\n",
       "      <td>64</td>\n",
       "      <td>0.822106</td>\n",
       "      <td>2.972905</td>\n",
       "      <td>0.217668</td>\n",
       "      <td>6.618372</td>\n",
       "    </tr>\n",
       "  </tbody>\n",
       "</table>\n",
       "</div>"
      ],
      "text/plain": [
       "        21-len   21-mean    21-std   21-shrp  drawdown\n",
       "symbol                                                \n",
       "SPLV        64  1.976495  1.315619  1.369313  1.971359\n",
       "FINX        64  2.221623  2.374574  0.861890  5.312177\n",
       "XLU         64  1.526755  1.919041  0.704391  3.426052\n",
       "ICLN        64  1.643594  2.717949  0.540331  4.109589\n",
       "XAR         64  2.040710  3.462046  0.538904  6.667349\n",
       "YYY         64  0.903750  1.364473  0.534089  3.806427\n",
       "VIG         64  1.241226  2.295435  0.464498  4.634189\n",
       "VOOG        64  1.310519  2.791242  0.406815  6.391445\n",
       "SPYG        64  1.297981  2.771319  0.405215  6.359876\n",
       "DGRO        64  0.859505  2.447055  0.279726  5.769735\n",
       "IVV         64  0.828845  2.968246  0.220280  6.631533\n",
       "VOO         64  0.826427  2.970801  0.219276  6.639511\n",
       "SPY         64  0.822106  2.972905  0.217668  6.618372"
      ]
     },
     "execution_count": 2,
     "metadata": {},
     "output_type": "execute_result"
    }
   ],
   "source": [
    "stat = quote.statistics(21)\n",
    "stat = stat[(stat['drawdown'] < 8) & (stat['21-mean'] > 0.8)]\n",
    "stat"
   ]
  },
  {
   "cell_type": "code",
   "execution_count": null,
   "metadata": {},
   "outputs": [],
   "source": [
    "quote.setup_mask(stat.index)\n",
    "quote.least_correlated_portfolio(21, 1, cr=2, dr=3)"
   ]
  },
  {
   "cell_type": "code",
   "execution_count": null,
   "metadata": {},
   "outputs": [],
   "source": [
    "quote.setup_mask(stat.index)\n",
    "quote.least_correlated_portfolio(21, 2, cr=2, dr=3)"
   ]
  },
  {
   "cell_type": "code",
   "execution_count": null,
   "metadata": {},
   "outputs": [],
   "source": []
  }
 ],
 "metadata": {
  "kernelspec": {
   "display_name": "Python 3",
   "language": "python",
   "name": "python3"
  },
  "language_info": {
   "codemirror_mode": {
    "name": "ipython",
    "version": 3
   },
   "file_extension": ".py",
   "mimetype": "text/x-python",
   "name": "python",
   "nbconvert_exporter": "python",
   "pygments_lexer": "ipython3",
   "version": "3.7.3"
  }
 },
 "nbformat": 4,
 "nbformat_minor": 2
}
