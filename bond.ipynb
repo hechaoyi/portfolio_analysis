{
 "cells": [
  {
   "cell_type": "code",
   "execution_count": 1,
   "metadata": {},
   "outputs": [
    {
     "name": "stdout",
     "output_type": "stream",
     "text": [
      "Populating the interactive namespace from numpy and matplotlib\n"
     ]
    },
    {
     "data": {
      "text/plain": [
       "'from 2019-02-25 to 2019-06-04'"
      ]
     },
     "execution_count": 1,
     "metadata": {},
     "output_type": "execute_result"
    }
   ],
   "source": [
    "%pylab inline\n",
    "from datetime import date\n",
    "from app import create_app\n",
    "from app.instrument import Instrument\n",
    "from app.analysis import Quote\n",
    "with create_app().app_context():\n",
    "    quote = Quote([b.symbol for b in Instrument.find_bonds()], 100)\n",
    "f'from {quote.start.date()} to {date.today()}'"
   ]
  },
  {
   "cell_type": "code",
   "execution_count": 2,
   "metadata": {},
   "outputs": [
    {
     "data": {
      "text/html": [
       "<div>\n",
       "<style scoped>\n",
       "    .dataframe tbody tr th:only-of-type {\n",
       "        vertical-align: middle;\n",
       "    }\n",
       "\n",
       "    .dataframe tbody tr th {\n",
       "        vertical-align: top;\n",
       "    }\n",
       "\n",
       "    .dataframe thead th {\n",
       "        text-align: right;\n",
       "    }\n",
       "</style>\n",
       "<table border=\"1\" class=\"dataframe\">\n",
       "  <thead>\n",
       "    <tr style=\"text-align: right;\">\n",
       "      <th></th>\n",
       "      <th>21-len</th>\n",
       "      <th>21-mean</th>\n",
       "      <th>21-std</th>\n",
       "      <th>21-shrp</th>\n",
       "      <th>drawdown</th>\n",
       "    </tr>\n",
       "    <tr>\n",
       "      <th>Symbols</th>\n",
       "      <th></th>\n",
       "      <th></th>\n",
       "      <th></th>\n",
       "      <th></th>\n",
       "      <th></th>\n",
       "    </tr>\n",
       "  </thead>\n",
       "  <tbody>\n",
       "    <tr>\n",
       "      <th>MUB</th>\n",
       "      <td>49</td>\n",
       "      <td>1.067598</td>\n",
       "      <td>0.398244</td>\n",
       "      <td>2.246773</td>\n",
       "      <td>0.409122</td>\n",
       "    </tr>\n",
       "    <tr>\n",
       "      <th>VTEB</th>\n",
       "      <td>49</td>\n",
       "      <td>1.081739</td>\n",
       "      <td>0.405533</td>\n",
       "      <td>2.241262</td>\n",
       "      <td>0.333713</td>\n",
       "    </tr>\n",
       "    <tr>\n",
       "      <th>VCIT</th>\n",
       "      <td>49</td>\n",
       "      <td>1.165268</td>\n",
       "      <td>0.661761</td>\n",
       "      <td>1.499686</td>\n",
       "      <td>0.502684</td>\n",
       "    </tr>\n",
       "    <tr>\n",
       "      <th>LQD</th>\n",
       "      <td>49</td>\n",
       "      <td>1.331217</td>\n",
       "      <td>0.873500</td>\n",
       "      <td>1.326141</td>\n",
       "      <td>0.743382</td>\n",
       "    </tr>\n",
       "    <tr>\n",
       "      <th>VCLT</th>\n",
       "      <td>49</td>\n",
       "      <td>1.873830</td>\n",
       "      <td>1.283240</td>\n",
       "      <td>1.325548</td>\n",
       "      <td>1.036422</td>\n",
       "    </tr>\n",
       "    <tr>\n",
       "      <th>BLV</th>\n",
       "      <td>49</td>\n",
       "      <td>2.041889</td>\n",
       "      <td>1.503917</td>\n",
       "      <td>1.242792</td>\n",
       "      <td>1.732519</td>\n",
       "    </tr>\n",
       "    <tr>\n",
       "      <th>VCSH</th>\n",
       "      <td>49</td>\n",
       "      <td>0.555295</td>\n",
       "      <td>0.311864</td>\n",
       "      <td>1.226374</td>\n",
       "      <td>0.282660</td>\n",
       "    </tr>\n",
       "    <tr>\n",
       "      <th>PGX</th>\n",
       "      <td>49</td>\n",
       "      <td>0.680772</td>\n",
       "      <td>0.414408</td>\n",
       "      <td>1.225696</td>\n",
       "      <td>1.237112</td>\n",
       "    </tr>\n",
       "    <tr>\n",
       "      <th>BND</th>\n",
       "      <td>49</td>\n",
       "      <td>0.934804</td>\n",
       "      <td>0.626915</td>\n",
       "      <td>1.215429</td>\n",
       "      <td>0.703167</td>\n",
       "    </tr>\n",
       "    <tr>\n",
       "      <th>BIV</th>\n",
       "      <td>49</td>\n",
       "      <td>1.078591</td>\n",
       "      <td>0.761045</td>\n",
       "      <td>1.190151</td>\n",
       "      <td>0.804345</td>\n",
       "    </tr>\n",
       "    <tr>\n",
       "      <th>SCHZ</th>\n",
       "      <td>49</td>\n",
       "      <td>0.904855</td>\n",
       "      <td>0.632420</td>\n",
       "      <td>1.157493</td>\n",
       "      <td>0.643092</td>\n",
       "    </tr>\n",
       "    <tr>\n",
       "      <th>BNDX</th>\n",
       "      <td>49</td>\n",
       "      <td>0.764096</td>\n",
       "      <td>0.513490</td>\n",
       "      <td>1.151459</td>\n",
       "      <td>0.639687</td>\n",
       "    </tr>\n",
       "    <tr>\n",
       "      <th>AGG</th>\n",
       "      <td>49</td>\n",
       "      <td>0.917976</td>\n",
       "      <td>0.669701</td>\n",
       "      <td>1.112650</td>\n",
       "      <td>0.705739</td>\n",
       "    </tr>\n",
       "    <tr>\n",
       "      <th>VGSH</th>\n",
       "      <td>49</td>\n",
       "      <td>0.421704</td>\n",
       "      <td>0.228517</td>\n",
       "      <td>1.089071</td>\n",
       "      <td>0.221755</td>\n",
       "    </tr>\n",
       "    <tr>\n",
       "      <th>BSV</th>\n",
       "      <td>49</td>\n",
       "      <td>0.525857</td>\n",
       "      <td>0.334986</td>\n",
       "      <td>1.053847</td>\n",
       "      <td>0.359614</td>\n",
       "    </tr>\n",
       "    <tr>\n",
       "      <th>SHY</th>\n",
       "      <td>49</td>\n",
       "      <td>0.403199</td>\n",
       "      <td>0.222171</td>\n",
       "      <td>1.036885</td>\n",
       "      <td>0.209349</td>\n",
       "    </tr>\n",
       "    <tr>\n",
       "      <th>TLT</th>\n",
       "      <td>49</td>\n",
       "      <td>2.179756</td>\n",
       "      <td>2.367078</td>\n",
       "      <td>0.847848</td>\n",
       "      <td>3.224333</td>\n",
       "    </tr>\n",
       "    <tr>\n",
       "      <th>VGLT</th>\n",
       "      <td>49</td>\n",
       "      <td>2.132684</td>\n",
       "      <td>2.330641</td>\n",
       "      <td>0.840906</td>\n",
       "      <td>3.096044</td>\n",
       "    </tr>\n",
       "    <tr>\n",
       "      <th>IEF</th>\n",
       "      <td>49</td>\n",
       "      <td>1.131289</td>\n",
       "      <td>1.143856</td>\n",
       "      <td>0.837916</td>\n",
       "      <td>1.474038</td>\n",
       "    </tr>\n",
       "    <tr>\n",
       "      <th>VWOB</th>\n",
       "      <td>49</td>\n",
       "      <td>0.612614</td>\n",
       "      <td>0.622872</td>\n",
       "      <td>0.706053</td>\n",
       "      <td>0.872573</td>\n",
       "    </tr>\n",
       "    <tr>\n",
       "      <th>EMB</th>\n",
       "      <td>49</td>\n",
       "      <td>0.637329</td>\n",
       "      <td>0.772710</td>\n",
       "      <td>0.601125</td>\n",
       "      <td>1.202512</td>\n",
       "    </tr>\n",
       "    <tr>\n",
       "      <th>HYG</th>\n",
       "      <td>49</td>\n",
       "      <td>0.478413</td>\n",
       "      <td>1.102055</td>\n",
       "      <td>0.277282</td>\n",
       "      <td>1.974367</td>\n",
       "    </tr>\n",
       "  </tbody>\n",
       "</table>\n",
       "</div>"
      ],
      "text/plain": [
       "         21-len   21-mean    21-std   21-shrp  drawdown\n",
       "Symbols                                                \n",
       "MUB          49  1.067598  0.398244  2.246773  0.409122\n",
       "VTEB         49  1.081739  0.405533  2.241262  0.333713\n",
       "VCIT         49  1.165268  0.661761  1.499686  0.502684\n",
       "LQD          49  1.331217  0.873500  1.326141  0.743382\n",
       "VCLT         49  1.873830  1.283240  1.325548  1.036422\n",
       "BLV          49  2.041889  1.503917  1.242792  1.732519\n",
       "VCSH         49  0.555295  0.311864  1.226374  0.282660\n",
       "PGX          49  0.680772  0.414408  1.225696  1.237112\n",
       "BND          49  0.934804  0.626915  1.215429  0.703167\n",
       "BIV          49  1.078591  0.761045  1.190151  0.804345\n",
       "SCHZ         49  0.904855  0.632420  1.157493  0.643092\n",
       "BNDX         49  0.764096  0.513490  1.151459  0.639687\n",
       "AGG          49  0.917976  0.669701  1.112650  0.705739\n",
       "VGSH         49  0.421704  0.228517  1.089071  0.221755\n",
       "BSV          49  0.525857  0.334986  1.053847  0.359614\n",
       "SHY          49  0.403199  0.222171  1.036885  0.209349\n",
       "TLT          49  2.179756  2.367078  0.847848  3.224333\n",
       "VGLT         49  2.132684  2.330641  0.840906  3.096044\n",
       "IEF          49  1.131289  1.143856  0.837916  1.474038\n",
       "VWOB         49  0.612614  0.622872  0.706053  0.872573\n",
       "EMB          49  0.637329  0.772710  0.601125  1.202512\n",
       "HYG          49  0.478413  1.102055  0.277282  1.974367"
      ]
     },
     "execution_count": 2,
     "metadata": {},
     "output_type": "execute_result"
    }
   ],
   "source": [
    "stat = quote.statistics(21)\n",
    "stat = stat[(stat['drawdown'] < 4) & (stat['21-mean'] > 0.4)]\n",
    "stat"
   ]
  },
  {
   "cell_type": "code",
   "execution_count": 3,
   "metadata": {},
   "outputs": [
    {
     "name": "stdout",
     "output_type": "stream",
     "text": [
      "['MUB', 'VTEB'] -2.3541868104615586 1.9481385946212995 0.185708812622997 -4.488034217705855\n",
      "['MUB', 'VCIT'] -2.6822445445413994 0.8362628316553984 0.22795142422600606 -3.746458800422804\n",
      "['MUB', 'LQD'] -2.899338865961136 0.3854485615736434 0.28812597108692173 -3.572913398621701\n",
      "['MUB', 'VCLT'] -2.9958400011973962 0.21509446644667385 0.36138611031545476 -3.572320577959525\n",
      "['MUB', 'PGX'] -3.827029949500796 -0.7661200946528055 0.41155855302381983 -3.47246840787181\n"
     ]
    },
    {
     "data": {
      "text/plain": [
       "['MUB', 'PGX']"
      ]
     },
     "execution_count": 3,
     "metadata": {},
     "output_type": "execute_result"
    }
   ],
   "source": [
    "quote.setup_mask(stat.index)\n",
    "quote.least_correlated_portfolio(21, 2)"
   ]
  },
  {
   "cell_type": "code",
   "execution_count": 4,
   "metadata": {},
   "outputs": [
    {
     "name": "stdout",
     "output_type": "stream",
     "text": [
      "['PGX', 'MUB'] -3.827029949500796 -0.7661200946528055 0.41155855302381983 -3.47246840787181\n"
     ]
    },
    {
     "data": {
      "text/plain": [
       "['PGX', 'MUB']"
      ]
     },
     "execution_count": 4,
     "metadata": {},
     "output_type": "execute_result"
    }
   ],
   "source": [
    "quote.setup_mask(stat.index)\n",
    "quote.least_correlated_portfolio(21, 2, ['BND', 'PGX'], 0, 1)"
   ]
  },
  {
   "cell_type": "code",
   "execution_count": 5,
   "metadata": {},
   "outputs": [
    {
     "name": "stderr",
     "output_type": "stream",
     "text": [
      "/Users/chaoyi/.local/share/virtualenvs/portfolio_analysis-bdMx2S3t/lib/python3.7/site-packages/scipy/optimize/minpack.py:162: RuntimeWarning: The iteration is not making good progress, as measured by the \n",
      "  improvement from the last ten iterations.\n",
      "  warnings.warn(msg, RuntimeWarning)\n"
     ]
    },
    {
     "data": {
      "text/plain": [
       "(Symbols\n",
       " PGX    0.485817\n",
       " MUB    0.514183\n",
       " dtype: float64, 0.8797, 0.2256)"
      ]
     },
     "execution_count": 5,
     "metadata": {},
     "output_type": "execute_result"
    }
   ],
   "source": [
    "quote.setup_mask(['PGX', 'MUB'])\n",
    "quote.find_optimal_ratio(21, 1)"
   ]
  },
  {
   "cell_type": "code",
   "execution_count": 6,
   "metadata": {},
   "outputs": [
    {
     "data": {
      "text/html": [
       "<div>\n",
       "<style scoped>\n",
       "    .dataframe tbody tr th:only-of-type {\n",
       "        vertical-align: middle;\n",
       "    }\n",
       "\n",
       "    .dataframe tbody tr th {\n",
       "        vertical-align: top;\n",
       "    }\n",
       "\n",
       "    .dataframe thead th {\n",
       "        text-align: right;\n",
       "    }\n",
       "</style>\n",
       "<table border=\"1\" class=\"dataframe\">\n",
       "  <thead>\n",
       "    <tr style=\"text-align: right;\">\n",
       "      <th></th>\n",
       "      <th>count</th>\n",
       "      <th>mean</th>\n",
       "      <th>std</th>\n",
       "      <th>min</th>\n",
       "      <th>25%</th>\n",
       "      <th>50%</th>\n",
       "      <th>75%</th>\n",
       "      <th>max</th>\n",
       "      <th>shrp</th>\n",
       "      <th>drawdown</th>\n",
       "    </tr>\n",
       "  </thead>\n",
       "  <tbody>\n",
       "    <tr>\n",
       "      <th>Portfolio</th>\n",
       "      <td>49.0</td>\n",
       "      <td>0.877230</td>\n",
       "      <td>0.225837</td>\n",
       "      <td>0.406553</td>\n",
       "      <td>0.730859</td>\n",
       "      <td>0.901849</td>\n",
       "      <td>1.050200</td>\n",
       "      <td>1.272276</td>\n",
       "      <td>3.119041</td>\n",
       "      <td>0.344844</td>\n",
       "    </tr>\n",
       "    <tr>\n",
       "      <th>MUB</th>\n",
       "      <td>49.0</td>\n",
       "      <td>1.067598</td>\n",
       "      <td>0.398244</td>\n",
       "      <td>0.256944</td>\n",
       "      <td>0.781171</td>\n",
       "      <td>1.125391</td>\n",
       "      <td>1.368073</td>\n",
       "      <td>1.685346</td>\n",
       "      <td>2.246773</td>\n",
       "      <td>0.409122</td>\n",
       "    </tr>\n",
       "    <tr>\n",
       "      <th>PGX</th>\n",
       "      <td>49.0</td>\n",
       "      <td>0.680772</td>\n",
       "      <td>0.414408</td>\n",
       "      <td>-0.362674</td>\n",
       "      <td>0.446277</td>\n",
       "      <td>0.599909</td>\n",
       "      <td>0.968863</td>\n",
       "      <td>1.719726</td>\n",
       "      <td>1.225696</td>\n",
       "      <td>1.237112</td>\n",
       "    </tr>\n",
       "  </tbody>\n",
       "</table>\n",
       "</div>"
      ],
      "text/plain": [
       "           count      mean       std       min       25%       50%       75%  \\\n",
       "Portfolio   49.0  0.877230  0.225837  0.406553  0.730859  0.901849  1.050200   \n",
       "MUB         49.0  1.067598  0.398244  0.256944  0.781171  1.125391  1.368073   \n",
       "PGX         49.0  0.680772  0.414408 -0.362674  0.446277  0.599909  0.968863   \n",
       "\n",
       "                max      shrp  drawdown  \n",
       "Portfolio  1.272276  3.119041  0.344844  \n",
       "MUB        1.685346  2.246773  0.409122  \n",
       "PGX        1.719726  1.225696  1.237112  "
      ]
     },
     "execution_count": 6,
     "metadata": {},
     "output_type": "execute_result"
    },
    {
     "data": {
      "image/png": "[encoded data removed]",
      "text/plain": [
       "<Figure size 864x576 with 1 Axes>"
      ]
     },
     "metadata": {
      "needs_background": "light"
     },
     "output_type": "display_data"
    }
   ],
   "source": [
    "quote.graph(21, {'MUB': .51, 'PGX': .49})"
   ]
  },
  {
   "cell_type": "code",
   "execution_count": null,
   "metadata": {},
   "outputs": [],
   "source": []
  }
 ],
 "metadata": {
  "kernelspec": {
   "display_name": "Python 3",
   "language": "python",
   "name": "python3"
  },
  "language_info": {
   "codemirror_mode": {
    "name": "ipython",
    "version": 3
   },
   "file_extension": ".py",
   "mimetype": "text/x-python",
   "name": "python",
   "nbconvert_exporter": "python",
   "pygments_lexer": "ipython3",
   "version": "3.7.3"
  }
 },
 "nbformat": 4,
 "nbformat_minor": 2
}
