{
 "cells": [
  {
   "cell_type": "code",
   "execution_count": 1,
   "metadata": {},
   "outputs": [
    {
     "name": "stdout",
     "output_type": "stream",
     "text": [
      "Populating the interactive namespace from numpy and matplotlib\n"
     ]
    },
    {
     "data": {
      "text/plain": [
       "'from 2019-02-27 to 2019-06-07'"
      ]
     },
     "execution_count": 1,
     "metadata": {},
     "output_type": "execute_result"
    }
   ],
   "source": [
    "%pylab inline\n",
    "from datetime import date\n",
    "from app import create_app\n",
    "from app.instrument import Instrument\n",
    "from app.analysis import Quote\n",
    "with create_app().app_context():\n",
    "    quote = Quote([b.symbol for b in Instrument.find_bonds()], 100)\n",
    "f'from {quote.start.date()} to {date.today()}'"
   ]
  },
  {
   "cell_type": "code",
   "execution_count": 2,
   "metadata": {},
   "outputs": [
    {
     "data": {
      "text/html": [
       "<div>\n",
       "<style scoped>\n",
       "    .dataframe tbody tr th:only-of-type {\n",
       "        vertical-align: middle;\n",
       "    }\n",
       "\n",
       "    .dataframe tbody tr th {\n",
       "        vertical-align: top;\n",
       "    }\n",
       "\n",
       "    .dataframe thead th {\n",
       "        text-align: right;\n",
       "    }\n",
       "</style>\n",
       "<table border=\"1\" class=\"dataframe\">\n",
       "  <thead>\n",
       "    <tr style=\"text-align: right;\">\n",
       "      <th></th>\n",
       "      <th>21-len</th>\n",
       "      <th>21-mean</th>\n",
       "      <th>21-std</th>\n",
       "      <th>21-shrp</th>\n",
       "      <th>drawdown</th>\n",
       "    </tr>\n",
       "    <tr>\n",
       "      <th>Symbols</th>\n",
       "      <th></th>\n",
       "      <th></th>\n",
       "      <th></th>\n",
       "      <th></th>\n",
       "      <th></th>\n",
       "    </tr>\n",
       "  </thead>\n",
       "  <tbody>\n",
       "    <tr>\n",
       "      <th>VTEB</th>\n",
       "      <td>50</td>\n",
       "      <td>1.077164</td>\n",
       "      <td>0.397517</td>\n",
       "      <td>2.264467</td>\n",
       "      <td>0.333713</td>\n",
       "    </tr>\n",
       "    <tr>\n",
       "      <th>MUB</th>\n",
       "      <td>50</td>\n",
       "      <td>1.056411</td>\n",
       "      <td>0.388981</td>\n",
       "      <td>2.260810</td>\n",
       "      <td>0.409122</td>\n",
       "    </tr>\n",
       "    <tr>\n",
       "      <th>VCIT</th>\n",
       "      <td>50</td>\n",
       "      <td>1.173348</td>\n",
       "      <td>0.656080</td>\n",
       "      <td>1.518639</td>\n",
       "      <td>0.502684</td>\n",
       "    </tr>\n",
       "    <tr>\n",
       "      <th>LQD</th>\n",
       "      <td>50</td>\n",
       "      <td>1.334886</td>\n",
       "      <td>0.864605</td>\n",
       "      <td>1.339208</td>\n",
       "      <td>0.743382</td>\n",
       "    </tr>\n",
       "    <tr>\n",
       "      <th>VCLT</th>\n",
       "      <td>50</td>\n",
       "      <td>1.855032</td>\n",
       "      <td>1.256575</td>\n",
       "      <td>1.335401</td>\n",
       "      <td>0.973805</td>\n",
       "    </tr>\n",
       "    <tr>\n",
       "      <th>VCSH</th>\n",
       "      <td>50</td>\n",
       "      <td>0.557974</td>\n",
       "      <td>0.304315</td>\n",
       "      <td>1.251905</td>\n",
       "      <td>0.282660</td>\n",
       "    </tr>\n",
       "    <tr>\n",
       "      <th>BLV</th>\n",
       "      <td>50</td>\n",
       "      <td>2.090256</td>\n",
       "      <td>1.529723</td>\n",
       "      <td>1.250721</td>\n",
       "      <td>1.732519</td>\n",
       "    </tr>\n",
       "    <tr>\n",
       "      <th>PGX</th>\n",
       "      <td>50</td>\n",
       "      <td>0.704657</td>\n",
       "      <td>0.423609</td>\n",
       "      <td>1.245621</td>\n",
       "      <td>1.237112</td>\n",
       "    </tr>\n",
       "    <tr>\n",
       "      <th>BND</th>\n",
       "      <td>50</td>\n",
       "      <td>0.962007</td>\n",
       "      <td>0.645789</td>\n",
       "      <td>1.215578</td>\n",
       "      <td>0.703167</td>\n",
       "    </tr>\n",
       "    <tr>\n",
       "      <th>BIV</th>\n",
       "      <td>50</td>\n",
       "      <td>1.116739</td>\n",
       "      <td>0.795462</td>\n",
       "      <td>1.181376</td>\n",
       "      <td>0.804345</td>\n",
       "    </tr>\n",
       "    <tr>\n",
       "      <th>SCHZ</th>\n",
       "      <td>50</td>\n",
       "      <td>0.930426</td>\n",
       "      <td>0.649994</td>\n",
       "      <td>1.159127</td>\n",
       "      <td>0.643092</td>\n",
       "    </tr>\n",
       "    <tr>\n",
       "      <th>BNDX</th>\n",
       "      <td>50</td>\n",
       "      <td>0.794936</td>\n",
       "      <td>0.544334</td>\n",
       "      <td>1.135216</td>\n",
       "      <td>0.639687</td>\n",
       "    </tr>\n",
       "    <tr>\n",
       "      <th>AGG</th>\n",
       "      <td>50</td>\n",
       "      <td>0.944917</td>\n",
       "      <td>0.686814</td>\n",
       "      <td>1.118085</td>\n",
       "      <td>0.705739</td>\n",
       "    </tr>\n",
       "    <tr>\n",
       "      <th>VGSH</th>\n",
       "      <td>50</td>\n",
       "      <td>0.443025</td>\n",
       "      <td>0.255324</td>\n",
       "      <td>1.041910</td>\n",
       "      <td>0.221755</td>\n",
       "    </tr>\n",
       "    <tr>\n",
       "      <th>BSV</th>\n",
       "      <td>50</td>\n",
       "      <td>0.546882</td>\n",
       "      <td>0.357312</td>\n",
       "      <td>1.035177</td>\n",
       "      <td>0.359614</td>\n",
       "    </tr>\n",
       "    <tr>\n",
       "      <th>SHY</th>\n",
       "      <td>50</td>\n",
       "      <td>0.423622</td>\n",
       "      <td>0.246667</td>\n",
       "      <td>0.999817</td>\n",
       "      <td>0.209349</td>\n",
       "    </tr>\n",
       "    <tr>\n",
       "      <th>TLT</th>\n",
       "      <td>50</td>\n",
       "      <td>2.315841</td>\n",
       "      <td>2.455386</td>\n",
       "      <td>0.871081</td>\n",
       "      <td>3.224333</td>\n",
       "    </tr>\n",
       "    <tr>\n",
       "      <th>VGLT</th>\n",
       "      <td>50</td>\n",
       "      <td>2.268147</td>\n",
       "      <td>2.420391</td>\n",
       "      <td>0.863971</td>\n",
       "      <td>3.096044</td>\n",
       "    </tr>\n",
       "    <tr>\n",
       "      <th>IEF</th>\n",
       "      <td>50</td>\n",
       "      <td>1.204857</td>\n",
       "      <td>1.209240</td>\n",
       "      <td>0.850002</td>\n",
       "      <td>1.474038</td>\n",
       "    </tr>\n",
       "    <tr>\n",
       "      <th>VWOB</th>\n",
       "      <td>50</td>\n",
       "      <td>0.638058</td>\n",
       "      <td>0.646296</td>\n",
       "      <td>0.713384</td>\n",
       "      <td>0.872573</td>\n",
       "    </tr>\n",
       "    <tr>\n",
       "      <th>EMB</th>\n",
       "      <td>50</td>\n",
       "      <td>0.672300</td>\n",
       "      <td>0.807547</td>\n",
       "      <td>0.613339</td>\n",
       "      <td>1.202512</td>\n",
       "    </tr>\n",
       "    <tr>\n",
       "      <th>HYG</th>\n",
       "      <td>50</td>\n",
       "      <td>0.436169</td>\n",
       "      <td>1.098962</td>\n",
       "      <td>0.235830</td>\n",
       "      <td>1.974367</td>\n",
       "    </tr>\n",
       "  </tbody>\n",
       "</table>\n",
       "</div>"
      ],
      "text/plain": [
       "         21-len   21-mean    21-std   21-shrp  drawdown\n",
       "Symbols                                                \n",
       "VTEB         50  1.077164  0.397517  2.264467  0.333713\n",
       "MUB          50  1.056411  0.388981  2.260810  0.409122\n",
       "VCIT         50  1.173348  0.656080  1.518639  0.502684\n",
       "LQD          50  1.334886  0.864605  1.339208  0.743382\n",
       "VCLT         50  1.855032  1.256575  1.335401  0.973805\n",
       "VCSH         50  0.557974  0.304315  1.251905  0.282660\n",
       "BLV          50  2.090256  1.529723  1.250721  1.732519\n",
       "PGX          50  0.704657  0.423609  1.245621  1.237112\n",
       "BND          50  0.962007  0.645789  1.215578  0.703167\n",
       "BIV          50  1.116739  0.795462  1.181376  0.804345\n",
       "SCHZ         50  0.930426  0.649994  1.159127  0.643092\n",
       "BNDX         50  0.794936  0.544334  1.135216  0.639687\n",
       "AGG          50  0.944917  0.686814  1.118085  0.705739\n",
       "VGSH         50  0.443025  0.255324  1.041910  0.221755\n",
       "BSV          50  0.546882  0.357312  1.035177  0.359614\n",
       "SHY          50  0.423622  0.246667  0.999817  0.209349\n",
       "TLT          50  2.315841  2.455386  0.871081  3.224333\n",
       "VGLT         50  2.268147  2.420391  0.863971  3.096044\n",
       "IEF          50  1.204857  1.209240  0.850002  1.474038\n",
       "VWOB         50  0.638058  0.646296  0.713384  0.872573\n",
       "EMB          50  0.672300  0.807547  0.613339  1.202512\n",
       "HYG          50  0.436169  1.098962  0.235830  1.974367"
      ]
     },
     "execution_count": 2,
     "metadata": {},
     "output_type": "execute_result"
    }
   ],
   "source": [
    "stat = quote.statistics(21)\n",
    "stat = stat[(stat['drawdown'] < 4) & (stat['21-mean'] > 0.4)]\n",
    "stat"
   ]
  },
  {
   "cell_type": "code",
   "execution_count": 3,
   "metadata": {},
   "outputs": [
    {
     "name": "stdout",
     "output_type": "stream",
     "text": [
      "['VTEB', 'MUB'] -2.398586664424219 1.9409814352491406 0.185708812622997 -4.5252769122963565\n",
      "['VTEB', 'VCIT'] -2.589937729751049 0.9840698164528172 0.20909914996766435 -3.7831066961715303\n",
      "['VTEB', 'LQD'] -2.7658687380519558 0.5685333725494863 0.26927369682858004 -3.603675807430022\n",
      "['VTEB', 'VCLT'] -2.886040278576258 0.3869488880564931 0.32687955225893106 -3.599868718891682\n",
      "['VTEB', 'PGX'] -3.6505469695896022 -0.5331649672504843 0.39270627876547815 -3.510088281104596\n",
      "['MUB', 'PGX'] -3.8226127063338886 -0.7277407085525116 0.41155855302381983 -3.506430550805197\n"
     ]
    },
    {
     "data": {
      "text/plain": [
       "['MUB', 'PGX']"
      ]
     },
     "execution_count": 3,
     "metadata": {},
     "output_type": "execute_result"
    }
   ],
   "source": [
    "quote.setup_mask(stat.index)\n",
    "quote.least_correlated_portfolio(21, 2)"
   ]
  },
  {
   "cell_type": "code",
   "execution_count": 4,
   "metadata": {},
   "outputs": [
    {
     "name": "stdout",
     "output_type": "stream",
     "text": [
      "['PGX', 'VTEB'] -3.6505469695896022 -0.5331649672504843 0.39270627876547815 -3.510088281104596\n",
      "['MUB', 'PGX'] -3.8226127063338886 -0.7277407085525116 0.41155855302381983 -3.506430550805197\n"
     ]
    },
    {
     "data": {
      "text/plain": [
       "['MUB', 'PGX']"
      ]
     },
     "execution_count": 4,
     "metadata": {},
     "output_type": "execute_result"
    }
   ],
   "source": [
    "quote.setup_mask(stat.index)\n",
    "quote.least_correlated_portfolio(21, 2, ['MUB', 'PGX'], 0, 1)"
   ]
  },
  {
   "cell_type": "code",
   "execution_count": 6,
   "metadata": {},
   "outputs": [
    {
     "data": {
      "text/plain": [
       "(Symbols\n",
       " PGX    0.468856\n",
       " MUB    0.531144\n",
       " dtype: float64, 0.8915, 0.2286)"
      ]
     },
     "execution_count": 6,
     "metadata": {},
     "output_type": "execute_result"
    }
   ],
   "source": [
    "quote.setup_mask(['PGX', 'MUB'])\n",
    "quote.find_optimal_ratio(21, 1)"
   ]
  },
  {
   "cell_type": "code",
   "execution_count": 6,
   "metadata": {},
   "outputs": [
    {
     "data": {
      "text/html": [
       "<div>\n",
       "<style scoped>\n",
       "    .dataframe tbody tr th:only-of-type {\n",
       "        vertical-align: middle;\n",
       "    }\n",
       "\n",
       "    .dataframe tbody tr th {\n",
       "        vertical-align: top;\n",
       "    }\n",
       "\n",
       "    .dataframe thead th {\n",
       "        text-align: right;\n",
       "    }\n",
       "</style>\n",
       "<table border=\"1\" class=\"dataframe\">\n",
       "  <thead>\n",
       "    <tr style=\"text-align: right;\">\n",
       "      <th></th>\n",
       "      <th>count</th>\n",
       "      <th>mean</th>\n",
       "      <th>std</th>\n",
       "      <th>min</th>\n",
       "      <th>25%</th>\n",
       "      <th>50%</th>\n",
       "      <th>75%</th>\n",
       "      <th>max</th>\n",
       "      <th>shrp</th>\n",
       "      <th>drawdown</th>\n",
       "    </tr>\n",
       "  </thead>\n",
       "  <tbody>\n",
       "    <tr>\n",
       "      <th>Portfolio</th>\n",
       "      <td>50.0</td>\n",
       "      <td>0.890624</td>\n",
       "      <td>0.228876</td>\n",
       "      <td>0.438389</td>\n",
       "      <td>0.732309</td>\n",
       "      <td>0.899643</td>\n",
       "      <td>1.054226</td>\n",
       "      <td>1.288132</td>\n",
       "      <td>3.117945</td>\n",
       "      <td>0.327811</td>\n",
       "    </tr>\n",
       "    <tr>\n",
       "      <th>MUB</th>\n",
       "      <td>50.0</td>\n",
       "      <td>1.056411</td>\n",
       "      <td>0.388981</td>\n",
       "      <td>0.256944</td>\n",
       "      <td>0.784552</td>\n",
       "      <td>1.121005</td>\n",
       "      <td>1.328064</td>\n",
       "      <td>1.685346</td>\n",
       "      <td>2.260810</td>\n",
       "      <td>0.409122</td>\n",
       "    </tr>\n",
       "    <tr>\n",
       "      <th>PGX</th>\n",
       "      <td>50.0</td>\n",
       "      <td>0.704657</td>\n",
       "      <td>0.423609</td>\n",
       "      <td>-0.362674</td>\n",
       "      <td>0.450043</td>\n",
       "      <td>0.633834</td>\n",
       "      <td>0.999413</td>\n",
       "      <td>1.719726</td>\n",
       "      <td>1.245621</td>\n",
       "      <td>1.237112</td>\n",
       "    </tr>\n",
       "  </tbody>\n",
       "</table>\n",
       "</div>"
      ],
      "text/plain": [
       "           count      mean       std       min       25%       50%       75%  \\\n",
       "Portfolio   50.0  0.890624  0.228876  0.438389  0.732309  0.899643  1.054226   \n",
       "MUB         50.0  1.056411  0.388981  0.256944  0.784552  1.121005  1.328064   \n",
       "PGX         50.0  0.704657  0.423609 -0.362674  0.450043  0.633834  0.999413   \n",
       "\n",
       "                max      shrp  drawdown  \n",
       "Portfolio  1.288132  3.117945  0.327811  \n",
       "MUB        1.685346  2.260810  0.409122  \n",
       "PGX        1.719726  1.245621  1.237112  "
      ]
     },
     "execution_count": 6,
     "metadata": {},
     "output_type": "execute_result"
    },
    {
     "data": {
      "image/png": "[encoded data removed]",
      "text/plain": [
       "<Figure size 864x576 with 1 Axes>"
      ]
     },
     "metadata": {
      "needs_background": "light"
     },
     "output_type": "display_data"
    }
   ],
   "source": [
    "quote.graph(21, {'MUB': 0.531144, 'PGX': 0.468856})"
   ]
  },
  {
   "cell_type": "code",
   "execution_count": null,
   "metadata": {},
   "outputs": [],
   "source": []
  }
 ],
 "metadata": {
  "kernelspec": {
   "display_name": "Python 3",
   "language": "python",
   "name": "python3"
  },
  "language_info": {
   "codemirror_mode": {
    "name": "ipython",
    "version": 3
   },
   "file_extension": ".py",
   "mimetype": "text/x-python",
   "name": "python",
   "nbconvert_exporter": "python",
   "pygments_lexer": "ipython3",
   "version": "3.7.3"
  }
 },
 "nbformat": 4,
 "nbformat_minor": 2
}
