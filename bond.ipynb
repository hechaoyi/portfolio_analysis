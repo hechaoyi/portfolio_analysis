{
 "cells": [
  {
   "cell_type": "code",
   "execution_count": 1,
   "metadata": {},
   "outputs": [
    {
     "name": "stdout",
     "output_type": "stream",
     "text": [
      "Populating the interactive namespace from numpy and matplotlib\n"
     ]
    },
    {
     "data": {
      "text/plain": [
       "'from 2019-02-19 to 2019-06-17'"
      ]
     },
     "execution_count": 1,
     "metadata": {},
     "output_type": "execute_result"
    }
   ],
   "source": [
    "%pylab inline\n",
    "from datetime import date\n",
    "from app import create_app\n",
    "from app.instrument import Instrument\n",
    "from app.analysis import Quote\n",
    "with create_app().app_context():\n",
    "    quote = Quote([b.symbol for b in Instrument.find_bonds()], 120)\n",
    "f'from {quote.start.date()} to {date.today()}'"
   ]
  },
  {
   "cell_type": "code",
   "execution_count": 2,
   "metadata": {},
   "outputs": [
    {
     "data": {
      "text/html": [
       "<div>\n",
       "<style scoped>\n",
       "    .dataframe tbody tr th:only-of-type {\n",
       "        vertical-align: middle;\n",
       "    }\n",
       "\n",
       "    .dataframe tbody tr th {\n",
       "        vertical-align: top;\n",
       "    }\n",
       "\n",
       "    .dataframe thead th {\n",
       "        text-align: right;\n",
       "    }\n",
       "</style>\n",
       "<table border=\"1\" class=\"dataframe\">\n",
       "  <thead>\n",
       "    <tr style=\"text-align: right;\">\n",
       "      <th></th>\n",
       "      <th>21-len</th>\n",
       "      <th>21-mean</th>\n",
       "      <th>21-std</th>\n",
       "      <th>21-shrp</th>\n",
       "      <th>drawdown</th>\n",
       "    </tr>\n",
       "    <tr>\n",
       "      <th>Symbols</th>\n",
       "      <th></th>\n",
       "      <th></th>\n",
       "      <th></th>\n",
       "      <th></th>\n",
       "      <th></th>\n",
       "    </tr>\n",
       "  </thead>\n",
       "  <tbody>\n",
       "    <tr>\n",
       "      <th>VTEB</th>\n",
       "      <td>62</td>\n",
       "      <td>1.059608</td>\n",
       "      <td>0.381465</td>\n",
       "      <td>2.318973</td>\n",
       "      <td>0.333713</td>\n",
       "    </tr>\n",
       "    <tr>\n",
       "      <th>MUB</th>\n",
       "      <td>62</td>\n",
       "      <td>1.041421</td>\n",
       "      <td>0.379795</td>\n",
       "      <td>2.281284</td>\n",
       "      <td>0.409122</td>\n",
       "    </tr>\n",
       "    <tr>\n",
       "      <th>VCIT</th>\n",
       "      <td>62</td>\n",
       "      <td>1.344805</td>\n",
       "      <td>0.691105</td>\n",
       "      <td>1.692659</td>\n",
       "      <td>0.502684</td>\n",
       "    </tr>\n",
       "    <tr>\n",
       "      <th>LQD</th>\n",
       "      <td>62</td>\n",
       "      <td>1.517095</td>\n",
       "      <td>0.873109</td>\n",
       "      <td>1.537144</td>\n",
       "      <td>0.743382</td>\n",
       "    </tr>\n",
       "    <tr>\n",
       "      <th>VCLT</th>\n",
       "      <td>62</td>\n",
       "      <td>2.067192</td>\n",
       "      <td>1.236572</td>\n",
       "      <td>1.530191</td>\n",
       "      <td>1.047603</td>\n",
       "    </tr>\n",
       "    <tr>\n",
       "      <th>BLV</th>\n",
       "      <td>62</td>\n",
       "      <td>2.304427</td>\n",
       "      <td>1.492137</td>\n",
       "      <td>1.427099</td>\n",
       "      <td>1.732519</td>\n",
       "    </tr>\n",
       "    <tr>\n",
       "      <th>VCSH</th>\n",
       "      <td>62</td>\n",
       "      <td>0.650007</td>\n",
       "      <td>0.335926</td>\n",
       "      <td>1.414021</td>\n",
       "      <td>0.282660</td>\n",
       "    </tr>\n",
       "    <tr>\n",
       "      <th>BND</th>\n",
       "      <td>62</td>\n",
       "      <td>1.067703</td>\n",
       "      <td>0.632372</td>\n",
       "      <td>1.411672</td>\n",
       "      <td>0.703167</td>\n",
       "    </tr>\n",
       "    <tr>\n",
       "      <th>PGX</th>\n",
       "      <td>62</td>\n",
       "      <td>0.738100</td>\n",
       "      <td>0.401310</td>\n",
       "      <td>1.403154</td>\n",
       "      <td>1.237112</td>\n",
       "    </tr>\n",
       "    <tr>\n",
       "      <th>BIV</th>\n",
       "      <td>62</td>\n",
       "      <td>1.284445</td>\n",
       "      <td>0.802553</td>\n",
       "      <td>1.382395</td>\n",
       "      <td>0.804345</td>\n",
       "    </tr>\n",
       "    <tr>\n",
       "      <th>AGG</th>\n",
       "      <td>62</td>\n",
       "      <td>1.058401</td>\n",
       "      <td>0.670323</td>\n",
       "      <td>1.317873</td>\n",
       "      <td>0.705739</td>\n",
       "    </tr>\n",
       "    <tr>\n",
       "      <th>BNDX</th>\n",
       "      <td>62</td>\n",
       "      <td>0.936056</td>\n",
       "      <td>0.579320</td>\n",
       "      <td>1.313706</td>\n",
       "      <td>0.639687</td>\n",
       "    </tr>\n",
       "    <tr>\n",
       "      <th>BSV</th>\n",
       "      <td>62</td>\n",
       "      <td>0.619827</td>\n",
       "      <td>0.358745</td>\n",
       "      <td>1.239952</td>\n",
       "      <td>0.359614</td>\n",
       "    </tr>\n",
       "    <tr>\n",
       "      <th>VGSH</th>\n",
       "      <td>62</td>\n",
       "      <td>0.485251</td>\n",
       "      <td>0.252584</td>\n",
       "      <td>1.228308</td>\n",
       "      <td>0.221755</td>\n",
       "    </tr>\n",
       "    <tr>\n",
       "      <th>SHY</th>\n",
       "      <td>62</td>\n",
       "      <td>0.464301</td>\n",
       "      <td>0.243741</td>\n",
       "      <td>1.186921</td>\n",
       "      <td>0.209349</td>\n",
       "    </tr>\n",
       "    <tr>\n",
       "      <th>IEF</th>\n",
       "      <td>62</td>\n",
       "      <td>1.396164</td>\n",
       "      <td>1.175795</td>\n",
       "      <td>1.038586</td>\n",
       "      <td>1.474038</td>\n",
       "    </tr>\n",
       "    <tr>\n",
       "      <th>VWOB</th>\n",
       "      <td>62</td>\n",
       "      <td>0.893203</td>\n",
       "      <td>0.804231</td>\n",
       "      <td>0.893031</td>\n",
       "      <td>0.872573</td>\n",
       "    </tr>\n",
       "    <tr>\n",
       "      <th>EMB</th>\n",
       "      <td>62</td>\n",
       "      <td>0.960452</td>\n",
       "      <td>0.961056</td>\n",
       "      <td>0.817280</td>\n",
       "      <td>1.202512</td>\n",
       "    </tr>\n",
       "    <tr>\n",
       "      <th>HYG</th>\n",
       "      <td>62</td>\n",
       "      <td>0.539655</td>\n",
       "      <td>1.014013</td>\n",
       "      <td>0.359616</td>\n",
       "      <td>1.974367</td>\n",
       "    </tr>\n",
       "  </tbody>\n",
       "</table>\n",
       "</div>"
      ],
      "text/plain": [
       "         21-len   21-mean    21-std   21-shrp  drawdown\n",
       "Symbols                                                \n",
       "VTEB         62  1.059608  0.381465  2.318973  0.333713\n",
       "MUB          62  1.041421  0.379795  2.281284  0.409122\n",
       "VCIT         62  1.344805  0.691105  1.692659  0.502684\n",
       "LQD          62  1.517095  0.873109  1.537144  0.743382\n",
       "VCLT         62  2.067192  1.236572  1.530191  1.047603\n",
       "BLV          62  2.304427  1.492137  1.427099  1.732519\n",
       "VCSH         62  0.650007  0.335926  1.414021  0.282660\n",
       "BND          62  1.067703  0.632372  1.411672  0.703167\n",
       "PGX          62  0.738100  0.401310  1.403154  1.237112\n",
       "BIV          62  1.284445  0.802553  1.382395  0.804345\n",
       "AGG          62  1.058401  0.670323  1.317873  0.705739\n",
       "BNDX         62  0.936056  0.579320  1.313706  0.639687\n",
       "BSV          62  0.619827  0.358745  1.239952  0.359614\n",
       "VGSH         62  0.485251  0.252584  1.228308  0.221755\n",
       "SHY          62  0.464301  0.243741  1.186921  0.209349\n",
       "IEF          62  1.396164  1.175795  1.038586  1.474038\n",
       "VWOB         62  0.893203  0.804231  0.893031  0.872573\n",
       "EMB          62  0.960452  0.961056  0.817280  1.202512\n",
       "HYG          62  0.539655  1.014013  0.359616  1.974367"
      ]
     },
     "execution_count": 2,
     "metadata": {},
     "output_type": "execute_result"
    }
   ],
   "source": [
    "stat = quote.statistics(21)\n",
    "stat = stat[(stat['drawdown'] < 2) & (stat['21-mean'] > 0.4)]\n",
    "stat"
   ]
  },
  {
   "cell_type": "code",
   "execution_count": 3,
   "metadata": {},
   "outputs": [
    {
     "name": "stdout",
     "output_type": "stream",
     "text": [
      "['VTEB', 'MUB'] -2.357814547448853 0.9726540276426983 0.1485670500983976 -4.600256702931045\n",
      "['VTEB', 'VCIT'] -2.9316270017763877 0.37272320674334436 0.16727931997413148 -4.011632055211339\n",
      "['VTEB', 'LQD'] -2.99481380502069 0.21523257838970844 0.21541895746286405 -3.8561168767258347\n",
      "['VTEB', 'VCLT'] -2.9952983763467076 0.15066978987561574 0.27626316035635956 -3.849164276810658\n",
      "['VTEB', 'PGX'] -3.6935939903772557 -0.2998984801411464 0.3141650230123825 -3.722127076119728\n",
      "['MUB', 'PGX'] -3.7961012783937242 -0.3850784171490539 0.3292468424190559 -3.6844381289337282\n"
     ]
    },
    {
     "data": {
      "text/plain": [
       "['MUB', 'PGX']"
      ]
     },
     "execution_count": 3,
     "metadata": {},
     "output_type": "execute_result"
    }
   ],
   "source": [
    "quote.setup_mask(stat.index)\n",
    "quote.least_correlated_portfolio(21, 2, cr=2, dr=2)"
   ]
  },
  {
   "cell_type": "code",
   "execution_count": 4,
   "metadata": {},
   "outputs": [
    {
     "name": "stdout",
     "output_type": "stream",
     "text": [
      "     fun: 0.04681055172979723\n",
      "     jac: array([0.09362232, 0.09361998])\n",
      " message: 'Optimization terminated successfully.'\n",
      "    nfev: 8\n",
      "     nit: 2\n",
      "    njev: 2\n",
      "  status: 0\n",
      " success: True\n",
      "       x: array([0.48012327, 0.51987673])\n"
     ]
    },
    {
     "name": "stderr",
     "output_type": "stream",
     "text": [
      "/Users/chaoyi/.local/share/virtualenvs/portfolio_analysis-bdMx2S3t/lib/python3.7/site-packages/scipy/optimize/minpack.py:162: RuntimeWarning: The iteration is not making good progress, as measured by the \n",
      "  improvement from the last ten iterations.\n",
      "  warnings.warn(msg, RuntimeWarning)\n"
     ]
    },
    {
     "data": {
      "text/plain": [
       "({'PGX': 0.48012327210889827, 'MUB': 0.5198767278911017}, 0.8958, 0.2164)"
      ]
     },
     "execution_count": 4,
     "metadata": {},
     "output_type": "execute_result"
    }
   ],
   "source": [
    "quote.setup_mask(['PGX', 'MUB'])\n",
    "quote.find_optimal_ratio(21, 1)"
   ]
  },
  {
   "cell_type": "code",
   "execution_count": null,
   "metadata": {},
   "outputs": [],
   "source": [
    "quote.graph(21, {'MUB': 0.5236422168150024, 'PGX': 0.47635778318499755})"
   ]
  },
  {
   "cell_type": "code",
   "execution_count": null,
   "metadata": {},
   "outputs": [],
   "source": []
  }
 ],
 "metadata": {
  "kernelspec": {
   "display_name": "Python 3",
   "language": "python",
   "name": "python3"
  },
  "language_info": {
   "codemirror_mode": {
    "name": "ipython",
    "version": 3
   },
   "file_extension": ".py",
   "mimetype": "text/x-python",
   "name": "python",
   "nbconvert_exporter": "python",
   "pygments_lexer": "ipython3",
   "version": "3.7.3"
  }
 },
 "nbformat": 4,
 "nbformat_minor": 2
}
