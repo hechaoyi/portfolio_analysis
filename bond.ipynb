{
 "cells": [
  {
   "cell_type": "code",
   "execution_count": 1,
   "metadata": {},
   "outputs": [
    {
     "name": "stdout",
     "output_type": "stream",
     "text": [
      "Populating the interactive namespace from numpy and matplotlib\n"
     ]
    },
    {
     "data": {
      "text/plain": [
       "'from 2019-02-19 to 2019-06-19'"
      ]
     },
     "execution_count": 1,
     "metadata": {},
     "output_type": "execute_result"
    }
   ],
   "source": [
    "%pylab inline\n",
    "from app import create_app\n",
    "from app.instrument import Instrument\n",
    "from app.analysis import Quote\n",
    "with create_app().app_context():\n",
    "    quote = Quote([b.symbol for b in Instrument.find_bonds()], 120)\n",
    "f'from {quote.start.date()} to {quote.end.date()}'"
   ]
  },
  {
   "cell_type": "code",
   "execution_count": 2,
   "metadata": {},
   "outputs": [
    {
     "data": {
      "text/html": [
       "<div>\n",
       "<style scoped>\n",
       "    .dataframe tbody tr th:only-of-type {\n",
       "        vertical-align: middle;\n",
       "    }\n",
       "\n",
       "    .dataframe tbody tr th {\n",
       "        vertical-align: top;\n",
       "    }\n",
       "\n",
       "    .dataframe thead th {\n",
       "        text-align: right;\n",
       "    }\n",
       "</style>\n",
       "<table border=\"1\" class=\"dataframe\">\n",
       "  <thead>\n",
       "    <tr style=\"text-align: right;\">\n",
       "      <th></th>\n",
       "      <th>21-len</th>\n",
       "      <th>21-mean</th>\n",
       "      <th>21-std</th>\n",
       "      <th>21-shrp</th>\n",
       "      <th>drawdown</th>\n",
       "    </tr>\n",
       "    <tr>\n",
       "      <th>symbol</th>\n",
       "      <th></th>\n",
       "      <th></th>\n",
       "      <th></th>\n",
       "      <th></th>\n",
       "      <th></th>\n",
       "    </tr>\n",
       "  </thead>\n",
       "  <tbody>\n",
       "    <tr>\n",
       "      <th>VTEB</th>\n",
       "      <td>64</td>\n",
       "      <td>1.045946</td>\n",
       "      <td>0.383495</td>\n",
       "      <td>2.271073</td>\n",
       "      <td>0.333008</td>\n",
       "    </tr>\n",
       "    <tr>\n",
       "      <th>MUB</th>\n",
       "      <td>64</td>\n",
       "      <td>1.027763</td>\n",
       "      <td>0.381192</td>\n",
       "      <td>2.237097</td>\n",
       "      <td>0.408876</td>\n",
       "    </tr>\n",
       "    <tr>\n",
       "      <th>VCIT</th>\n",
       "      <td>64</td>\n",
       "      <td>1.384937</td>\n",
       "      <td>0.718681</td>\n",
       "      <td>1.683552</td>\n",
       "      <td>0.501341</td>\n",
       "    </tr>\n",
       "    <tr>\n",
       "      <th>VCLT</th>\n",
       "      <td>64</td>\n",
       "      <td>2.156928</td>\n",
       "      <td>1.320135</td>\n",
       "      <td>1.501307</td>\n",
       "      <td>1.046446</td>\n",
       "    </tr>\n",
       "    <tr>\n",
       "      <th>LQD</th>\n",
       "      <td>64</td>\n",
       "      <td>1.583450</td>\n",
       "      <td>0.938395</td>\n",
       "      <td>1.500914</td>\n",
       "      <td>0.743602</td>\n",
       "    </tr>\n",
       "    <tr>\n",
       "      <th>BLV</th>\n",
       "      <td>64</td>\n",
       "      <td>2.388340</td>\n",
       "      <td>1.541261</td>\n",
       "      <td>1.436058</td>\n",
       "      <td>1.729332</td>\n",
       "    </tr>\n",
       "    <tr>\n",
       "      <th>VCSH</th>\n",
       "      <td>64</td>\n",
       "      <td>0.667948</td>\n",
       "      <td>0.346866</td>\n",
       "      <td>1.421151</td>\n",
       "      <td>0.282492</td>\n",
       "    </tr>\n",
       "    <tr>\n",
       "      <th>BND</th>\n",
       "      <td>64</td>\n",
       "      <td>1.102472</td>\n",
       "      <td>0.653215</td>\n",
       "      <td>1.419857</td>\n",
       "      <td>0.702686</td>\n",
       "    </tr>\n",
       "    <tr>\n",
       "      <th>PGX</th>\n",
       "      <td>64</td>\n",
       "      <td>0.761193</td>\n",
       "      <td>0.413585</td>\n",
       "      <td>1.417345</td>\n",
       "      <td>1.237113</td>\n",
       "    </tr>\n",
       "    <tr>\n",
       "      <th>BIV</th>\n",
       "      <td>64</td>\n",
       "      <td>1.326634</td>\n",
       "      <td>0.825592</td>\n",
       "      <td>1.394918</td>\n",
       "      <td>0.803737</td>\n",
       "    </tr>\n",
       "    <tr>\n",
       "      <th>AGG</th>\n",
       "      <td>64</td>\n",
       "      <td>1.092334</td>\n",
       "      <td>0.687379</td>\n",
       "      <td>1.334537</td>\n",
       "      <td>0.704716</td>\n",
       "    </tr>\n",
       "    <tr>\n",
       "      <th>BNDX</th>\n",
       "      <td>64</td>\n",
       "      <td>0.975487</td>\n",
       "      <td>0.611125</td>\n",
       "      <td>1.309858</td>\n",
       "      <td>0.639485</td>\n",
       "    </tr>\n",
       "    <tr>\n",
       "      <th>BSV</th>\n",
       "      <td>64</td>\n",
       "      <td>0.637808</td>\n",
       "      <td>0.368190</td>\n",
       "      <td>1.256979</td>\n",
       "      <td>0.359616</td>\n",
       "    </tr>\n",
       "    <tr>\n",
       "      <th>VGSH</th>\n",
       "      <td>64</td>\n",
       "      <td>0.496458</td>\n",
       "      <td>0.258296</td>\n",
       "      <td>1.244532</td>\n",
       "      <td>0.222220</td>\n",
       "    </tr>\n",
       "    <tr>\n",
       "      <th>SHY</th>\n",
       "      <td>64</td>\n",
       "      <td>0.475213</td>\n",
       "      <td>0.248252</td>\n",
       "      <td>1.209307</td>\n",
       "      <td>0.209406</td>\n",
       "    </tr>\n",
       "    <tr>\n",
       "      <th>IEF</th>\n",
       "      <td>64</td>\n",
       "      <td>1.447065</td>\n",
       "      <td>1.191792</td>\n",
       "      <td>1.067355</td>\n",
       "      <td>1.472788</td>\n",
       "    </tr>\n",
       "    <tr>\n",
       "      <th>VWOB</th>\n",
       "      <td>64</td>\n",
       "      <td>0.969448</td>\n",
       "      <td>0.900129</td>\n",
       "      <td>0.882593</td>\n",
       "      <td>0.872578</td>\n",
       "    </tr>\n",
       "    <tr>\n",
       "      <th>EMB</th>\n",
       "      <td>64</td>\n",
       "      <td>1.050404</td>\n",
       "      <td>1.073468</td>\n",
       "      <td>0.815492</td>\n",
       "      <td>1.202514</td>\n",
       "    </tr>\n",
       "    <tr>\n",
       "      <th>HYG</th>\n",
       "      <td>64</td>\n",
       "      <td>0.575325</td>\n",
       "      <td>1.018894</td>\n",
       "      <td>0.392902</td>\n",
       "      <td>1.974368</td>\n",
       "    </tr>\n",
       "  </tbody>\n",
       "</table>\n",
       "</div>"
      ],
      "text/plain": [
       "        21-len   21-mean    21-std   21-shrp  drawdown\n",
       "symbol                                                \n",
       "VTEB        64  1.045946  0.383495  2.271073  0.333008\n",
       "MUB         64  1.027763  0.381192  2.237097  0.408876\n",
       "VCIT        64  1.384937  0.718681  1.683552  0.501341\n",
       "VCLT        64  2.156928  1.320135  1.501307  1.046446\n",
       "LQD         64  1.583450  0.938395  1.500914  0.743602\n",
       "BLV         64  2.388340  1.541261  1.436058  1.729332\n",
       "VCSH        64  0.667948  0.346866  1.421151  0.282492\n",
       "BND         64  1.102472  0.653215  1.419857  0.702686\n",
       "PGX         64  0.761193  0.413585  1.417345  1.237113\n",
       "BIV         64  1.326634  0.825592  1.394918  0.803737\n",
       "AGG         64  1.092334  0.687379  1.334537  0.704716\n",
       "BNDX        64  0.975487  0.611125  1.309858  0.639485\n",
       "BSV         64  0.637808  0.368190  1.256979  0.359616\n",
       "VGSH        64  0.496458  0.258296  1.244532  0.222220\n",
       "SHY         64  0.475213  0.248252  1.209307  0.209406\n",
       "IEF         64  1.447065  1.191792  1.067355  1.472788\n",
       "VWOB        64  0.969448  0.900129  0.882593  0.872578\n",
       "EMB         64  1.050404  1.073468  0.815492  1.202514\n",
       "HYG         64  0.575325  1.018894  0.392902  1.974368"
      ]
     },
     "execution_count": 2,
     "metadata": {},
     "output_type": "execute_result"
    }
   ],
   "source": [
    "stat = quote.statistics(21)\n",
    "stat = stat[(stat['drawdown'] < 2) & (stat['21-mean'] > 0.4)]\n",
    "stat"
   ]
  },
  {
   "cell_type": "code",
   "execution_count": 3,
   "metadata": {},
   "outputs": [
    {
     "name": "stdout",
     "output_type": "stream",
     "text": [
      "['VTEB', 'MUB'] -2.41226614498147 0.9737636461805064 0.14837687015428958 -4.508170307496773\n",
      "['VTEB', 'VCIT'] -3.2259286675278385 0.28091363786866075 0.16686975108992014 -3.95462569435508\n",
      "['VTEB', 'VCLT'] -3.3811911200247464 0.05764945884037931 0.27589079680221945 -3.7723808345077243\n",
      "['VTEB', 'PGX'] -4.058122234884927 -0.3418642336342963 0.31402429197832354 -3.688418059594657\n",
      "['MUB', 'PGX'] -4.1647915460815685 -0.41977395888108615 0.32919793898469224 -3.654441567304089\n"
     ]
    },
    {
     "data": {
      "text/plain": [
       "['MUB', 'PGX']"
      ]
     },
     "execution_count": 3,
     "metadata": {},
     "output_type": "execute_result"
    }
   ],
   "source": [
    "quote.setup_mask(stat.index)\n",
    "quote.least_correlated_portfolio(21, 2, cr=2, dr=1)"
   ]
  },
  {
   "cell_type": "code",
   "execution_count": 4,
   "metadata": {},
   "outputs": [
    {
     "name": "stdout",
     "output_type": "stream",
     "text": [
      "     fun: 0.04554110385237775\n",
      "     jac: array([0.09096756, 0.09118451])\n",
      " message: 'Optimization terminated successfully.'\n",
      "    nfev: 8\n",
      "     nit: 2\n",
      "    njev: 2\n",
      "  status: 0\n",
      " success: True\n",
      "       x: array([0.47153673, 0.52846327])\n"
     ]
    },
    {
     "name": "stderr",
     "output_type": "stream",
     "text": [
      "/Users/chaoyi/.local/share/virtualenvs/portfolio_analysis-bdMx2S3t/lib/python3.7/site-packages/scipy/optimize/minpack.py:162: RuntimeWarning: The iteration is not making good progress, as measured by the \n",
      "  improvement from the last ten iterations.\n",
      "  warnings.warn(msg, RuntimeWarning)\n"
     ]
    },
    {
     "data": {
      "text/plain": [
       "({'PGX': 0.4715367290558691, 'MUB': 0.5284632709441309}, 0.9019, 0.2134)"
      ]
     },
     "execution_count": 4,
     "metadata": {},
     "output_type": "execute_result"
    }
   ],
   "source": [
    "quote.setup_mask(['PGX', 'MUB'])\n",
    "quote.find_optimal_ratio(21, 1)"
   ]
  },
  {
   "cell_type": "code",
   "execution_count": null,
   "metadata": {},
   "outputs": [],
   "source": [
    "quote.graph(21, {'MUB': 0.52, 'PGX': 0.48})"
   ]
  },
  {
   "cell_type": "code",
   "execution_count": null,
   "metadata": {},
   "outputs": [],
   "source": []
  }
 ],
 "metadata": {
  "kernelspec": {
   "display_name": "Python 3",
   "language": "python",
   "name": "python3"
  },
  "language_info": {
   "codemirror_mode": {
    "name": "ipython",
    "version": 3
   },
   "file_extension": ".py",
   "mimetype": "text/x-python",
   "name": "python",
   "nbconvert_exporter": "python",
   "pygments_lexer": "ipython3",
   "version": "3.7.3"
  }
 },
 "nbformat": 4,
 "nbformat_minor": 2
}
