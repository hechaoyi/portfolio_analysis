{
 "cells": [
  {
   "cell_type": "code",
   "execution_count": 1,
   "metadata": {},
   "outputs": [
    {
     "name": "stdout",
     "output_type": "stream",
     "text": [
      "Populating the interactive namespace from numpy and matplotlib\n"
     ]
    },
    {
     "data": {
      "text/plain": [
       "'from 2019-02-19 to 2019-06-18'"
      ]
     },
     "execution_count": 1,
     "metadata": {},
     "output_type": "execute_result"
    }
   ],
   "source": [
    "%pylab inline\n",
    "from app import create_app\n",
    "from app.instrument import Instrument\n",
    "from app.analysis import Quote\n",
    "with create_app().app_context():\n",
    "    quote = Quote([b.symbol for b in Instrument.find_bonds()], 120)\n",
    "f'from {quote.start.date()} to {quote.end.date()}'"
   ]
  },
  {
   "cell_type": "code",
   "execution_count": 2,
   "metadata": {},
   "outputs": [
    {
     "data": {
      "text/html": [
       "<div>\n",
       "<style scoped>\n",
       "    .dataframe tbody tr th:only-of-type {\n",
       "        vertical-align: middle;\n",
       "    }\n",
       "\n",
       "    .dataframe tbody tr th {\n",
       "        vertical-align: top;\n",
       "    }\n",
       "\n",
       "    .dataframe thead th {\n",
       "        text-align: right;\n",
       "    }\n",
       "</style>\n",
       "<table border=\"1\" class=\"dataframe\">\n",
       "  <thead>\n",
       "    <tr style=\"text-align: right;\">\n",
       "      <th></th>\n",
       "      <th>21-len</th>\n",
       "      <th>21-mean</th>\n",
       "      <th>21-std</th>\n",
       "      <th>21-shrp</th>\n",
       "      <th>drawdown</th>\n",
       "    </tr>\n",
       "    <tr>\n",
       "      <th>Symbols</th>\n",
       "      <th></th>\n",
       "      <th></th>\n",
       "      <th></th>\n",
       "      <th></th>\n",
       "      <th></th>\n",
       "    </tr>\n",
       "  </thead>\n",
       "  <tbody>\n",
       "    <tr>\n",
       "      <th>VTEB</th>\n",
       "      <td>63</td>\n",
       "      <td>1.052309</td>\n",
       "      <td>0.382786</td>\n",
       "      <td>2.291906</td>\n",
       "      <td>0.333713</td>\n",
       "    </tr>\n",
       "    <tr>\n",
       "      <th>MUB</th>\n",
       "      <td>63</td>\n",
       "      <td>1.034074</td>\n",
       "      <td>0.381248</td>\n",
       "      <td>2.253322</td>\n",
       "      <td>0.409122</td>\n",
       "    </tr>\n",
       "    <tr>\n",
       "      <th>VCIT</th>\n",
       "      <td>63</td>\n",
       "      <td>1.359673</td>\n",
       "      <td>0.695907</td>\n",
       "      <td>1.702343</td>\n",
       "      <td>0.502684</td>\n",
       "    </tr>\n",
       "    <tr>\n",
       "      <th>LQD</th>\n",
       "      <td>63</td>\n",
       "      <td>1.543031</td>\n",
       "      <td>0.889564</td>\n",
       "      <td>1.537868</td>\n",
       "      <td>0.743382</td>\n",
       "    </tr>\n",
       "    <tr>\n",
       "      <th>VCLT</th>\n",
       "      <td>63</td>\n",
       "      <td>2.102885</td>\n",
       "      <td>1.257744</td>\n",
       "      <td>1.532812</td>\n",
       "      <td>1.047603</td>\n",
       "    </tr>\n",
       "    <tr>\n",
       "      <th>BLV</th>\n",
       "      <td>63</td>\n",
       "      <td>2.340234</td>\n",
       "      <td>1.506335</td>\n",
       "      <td>1.437419</td>\n",
       "      <td>1.732519</td>\n",
       "    </tr>\n",
       "    <tr>\n",
       "      <th>VCSH</th>\n",
       "      <td>63</td>\n",
       "      <td>0.656380</td>\n",
       "      <td>0.337131</td>\n",
       "      <td>1.427876</td>\n",
       "      <td>0.282660</td>\n",
       "    </tr>\n",
       "    <tr>\n",
       "      <th>BND</th>\n",
       "      <td>63</td>\n",
       "      <td>1.081623</td>\n",
       "      <td>0.636875</td>\n",
       "      <td>1.423549</td>\n",
       "      <td>0.703167</td>\n",
       "    </tr>\n",
       "    <tr>\n",
       "      <th>PGX</th>\n",
       "      <td>63</td>\n",
       "      <td>0.747634</td>\n",
       "      <td>0.402932</td>\n",
       "      <td>1.421168</td>\n",
       "      <td>1.237112</td>\n",
       "    </tr>\n",
       "    <tr>\n",
       "      <th>BIV</th>\n",
       "      <td>63</td>\n",
       "      <td>1.300878</td>\n",
       "      <td>0.806877</td>\n",
       "      <td>1.395353</td>\n",
       "      <td>0.804345</td>\n",
       "    </tr>\n",
       "    <tr>\n",
       "      <th>AGG</th>\n",
       "      <td>63</td>\n",
       "      <td>1.071396</td>\n",
       "      <td>0.672972</td>\n",
       "      <td>1.331995</td>\n",
       "      <td>0.705739</td>\n",
       "    </tr>\n",
       "    <tr>\n",
       "      <th>BNDX</th>\n",
       "      <td>63</td>\n",
       "      <td>0.953762</td>\n",
       "      <td>0.591832</td>\n",
       "      <td>1.315850</td>\n",
       "      <td>0.639687</td>\n",
       "    </tr>\n",
       "    <tr>\n",
       "      <th>BSV</th>\n",
       "      <td>63</td>\n",
       "      <td>0.626807</td>\n",
       "      <td>0.360112</td>\n",
       "      <td>1.254629</td>\n",
       "      <td>0.359614</td>\n",
       "    </tr>\n",
       "    <tr>\n",
       "      <th>VGSH</th>\n",
       "      <td>63</td>\n",
       "      <td>0.489212</td>\n",
       "      <td>0.252521</td>\n",
       "      <td>1.244299</td>\n",
       "      <td>0.221755</td>\n",
       "    </tr>\n",
       "    <tr>\n",
       "      <th>SHY</th>\n",
       "      <td>63</td>\n",
       "      <td>0.467481</td>\n",
       "      <td>0.243025</td>\n",
       "      <td>1.203505</td>\n",
       "      <td>0.209349</td>\n",
       "    </tr>\n",
       "    <tr>\n",
       "      <th>IEF</th>\n",
       "      <td>63</td>\n",
       "      <td>1.418315</td>\n",
       "      <td>1.179478</td>\n",
       "      <td>1.054123</td>\n",
       "      <td>1.474038</td>\n",
       "    </tr>\n",
       "    <tr>\n",
       "      <th>VWOB</th>\n",
       "      <td>63</td>\n",
       "      <td>0.927669</td>\n",
       "      <td>0.843099</td>\n",
       "      <td>0.892741</td>\n",
       "      <td>0.872573</td>\n",
       "    </tr>\n",
       "    <tr>\n",
       "      <th>EMB</th>\n",
       "      <td>63</td>\n",
       "      <td>1.002481</td>\n",
       "      <td>1.010510</td>\n",
       "      <td>0.818875</td>\n",
       "      <td>1.202512</td>\n",
       "    </tr>\n",
       "    <tr>\n",
       "      <th>HYG</th>\n",
       "      <td>63</td>\n",
       "      <td>0.552719</td>\n",
       "      <td>1.011706</td>\n",
       "      <td>0.373348</td>\n",
       "      <td>1.974367</td>\n",
       "    </tr>\n",
       "  </tbody>\n",
       "</table>\n",
       "</div>"
      ],
      "text/plain": [
       "         21-len   21-mean    21-std   21-shrp  drawdown\n",
       "Symbols                                                \n",
       "VTEB         63  1.052309  0.382786  2.291906  0.333713\n",
       "MUB          63  1.034074  0.381248  2.253322  0.409122\n",
       "VCIT         63  1.359673  0.695907  1.702343  0.502684\n",
       "LQD          63  1.543031  0.889564  1.537868  0.743382\n",
       "VCLT         63  2.102885  1.257744  1.532812  1.047603\n",
       "BLV          63  2.340234  1.506335  1.437419  1.732519\n",
       "VCSH         63  0.656380  0.337131  1.427876  0.282660\n",
       "BND          63  1.081623  0.636875  1.423549  0.703167\n",
       "PGX          63  0.747634  0.402932  1.421168  1.237112\n",
       "BIV          63  1.300878  0.806877  1.395353  0.804345\n",
       "AGG          63  1.071396  0.672972  1.331995  0.705739\n",
       "BNDX         63  0.953762  0.591832  1.315850  0.639687\n",
       "BSV          63  0.626807  0.360112  1.254629  0.359614\n",
       "VGSH         63  0.489212  0.252521  1.244299  0.221755\n",
       "SHY          63  0.467481  0.243025  1.203505  0.209349\n",
       "IEF          63  1.418315  1.179478  1.054123  1.474038\n",
       "VWOB         63  0.927669  0.843099  0.892741  0.872573\n",
       "EMB          63  1.002481  1.010510  0.818875  1.202512\n",
       "HYG          63  0.552719  1.011706  0.373348  1.974367"
      ]
     },
     "execution_count": 2,
     "metadata": {},
     "output_type": "execute_result"
    }
   ],
   "source": [
    "stat = quote.statistics(21)\n",
    "stat = stat[(stat['drawdown'] < 2) & (stat['21-mean'] > 0.4)]\n",
    "stat"
   ]
  },
  {
   "cell_type": "code",
   "execution_count": 3,
   "metadata": {},
   "outputs": [
    {
     "name": "stdout",
     "output_type": "stream",
     "text": [
      "['VTEB', 'MUB'] -2.4500732586377025 0.9732940532933045 0.1485670500983976 -4.545228415322709\n",
      "['VTEB', 'VCIT'] -3.1516766095588205 0.33764645592966924 0.16727931997413148 -3.9942488413922903\n",
      "['VTEB', 'LQD'] -3.268965446060755 0.1726948384073821 0.21541895746286405 -3.8297740803383835\n",
      "['VTEB', 'VCLT'] -3.3250498517446125 0.11170233914791017 0.27626316035635956 -3.8247176903967923\n",
      "['VTEB', 'PGX'] -4.039854523679643 -0.320472566206893 0.3141650230123825 -3.7130744142782395\n",
      "['MUB', 'PGX'] -4.154503968792207 -0.404630174973984 0.3292468424190559 -3.674490461263295\n"
     ]
    },
    {
     "data": {
      "text/plain": [
       "['MUB', 'PGX']"
      ]
     },
     "execution_count": 3,
     "metadata": {},
     "output_type": "execute_result"
    }
   ],
   "source": [
    "quote.setup_mask(stat.index)\n",
    "quote.least_correlated_portfolio(21, 2, cr=2, dr=1)"
   ]
  },
  {
   "cell_type": "code",
   "execution_count": 4,
   "metadata": {},
   "outputs": [
    {
     "name": "stdout",
     "output_type": "stream",
     "text": [
      "     fun: 0.045679642566542035\n",
      "     jac: array([0.09140616, 0.09131595])\n",
      " message: 'Optimization terminated successfully.'\n",
      "    nfev: 8\n",
      "     nit: 2\n",
      "    njev: 2\n",
      "  status: 0\n",
      " success: True\n",
      "       x: array([0.48042438, 0.51957562])\n"
     ]
    },
    {
     "name": "stderr",
     "output_type": "stream",
     "text": [
      "/Users/chaoyi/.local/share/virtualenvs/portfolio_analysis-bdMx2S3t/lib/python3.7/site-packages/scipy/optimize/minpack.py:162: RuntimeWarning: The iteration is not making good progress, as measured by the \n",
      "  improvement from the last ten iterations.\n",
      "  warnings.warn(msg, RuntimeWarning)\n"
     ]
    },
    {
     "data": {
      "text/plain": [
       "({'PGX': 0.480424378178275, 'MUB': 0.519575621821725}, 0.8965, 0.2137)"
      ]
     },
     "execution_count": 4,
     "metadata": {},
     "output_type": "execute_result"
    }
   ],
   "source": [
    "quote.setup_mask(['PGX', 'MUB'])\n",
    "quote.find_optimal_ratio(21, 1)"
   ]
  },
  {
   "cell_type": "code",
   "execution_count": null,
   "metadata": {},
   "outputs": [],
   "source": [
    "quote.graph(21, {'MUB': 0.52, 'PGX': 0.48})"
   ]
  },
  {
   "cell_type": "code",
   "execution_count": null,
   "metadata": {},
   "outputs": [],
   "source": []
  }
 ],
 "metadata": {
  "kernelspec": {
   "display_name": "Python 3",
   "language": "python",
   "name": "python3"
  },
  "language_info": {
   "codemirror_mode": {
    "name": "ipython",
    "version": 3
   },
   "file_extension": ".py",
   "mimetype": "text/x-python",
   "name": "python",
   "nbconvert_exporter": "python",
   "pygments_lexer": "ipython3",
   "version": "3.7.3"
  }
 },
 "nbformat": 4,
 "nbformat_minor": 2
}
