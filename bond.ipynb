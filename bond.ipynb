{
 "cells": [
  {
   "cell_type": "code",
   "execution_count": 1,
   "metadata": {},
   "outputs": [
    {
     "name": "stdout",
     "output_type": "stream",
     "text": [
      "Populating the interactive namespace from numpy and matplotlib\n"
     ]
    },
    {
     "data": {
      "text/plain": [
       "'from 2019-02-26 to 2019-06-06'"
      ]
     },
     "execution_count": 1,
     "metadata": {},
     "output_type": "execute_result"
    }
   ],
   "source": [
    "%pylab inline\n",
    "from datetime import date\n",
    "from app import create_app\n",
    "from app.instrument import Instrument\n",
    "from app.analysis import Quote\n",
    "with create_app().app_context():\n",
    "    quote = Quote([b.symbol for b in Instrument.find_bonds()], 100)\n",
    "f'from {quote.start.date()} to {date.today()}'"
   ]
  },
  {
   "cell_type": "code",
   "execution_count": 2,
   "metadata": {},
   "outputs": [
    {
     "data": {
      "text/html": [
       "<div>\n",
       "<style scoped>\n",
       "    .dataframe tbody tr th:only-of-type {\n",
       "        vertical-align: middle;\n",
       "    }\n",
       "\n",
       "    .dataframe tbody tr th {\n",
       "        vertical-align: top;\n",
       "    }\n",
       "\n",
       "    .dataframe thead th {\n",
       "        text-align: right;\n",
       "    }\n",
       "</style>\n",
       "<table border=\"1\" class=\"dataframe\">\n",
       "  <thead>\n",
       "    <tr style=\"text-align: right;\">\n",
       "      <th></th>\n",
       "      <th>21-len</th>\n",
       "      <th>21-mean</th>\n",
       "      <th>21-std</th>\n",
       "      <th>21-shrp</th>\n",
       "      <th>drawdown</th>\n",
       "    </tr>\n",
       "    <tr>\n",
       "      <th>Symbols</th>\n",
       "      <th></th>\n",
       "      <th></th>\n",
       "      <th></th>\n",
       "      <th></th>\n",
       "      <th></th>\n",
       "    </tr>\n",
       "  </thead>\n",
       "  <tbody>\n",
       "    <tr>\n",
       "      <th>MUB</th>\n",
       "      <td>50</td>\n",
       "      <td>1.059900</td>\n",
       "      <td>0.389738</td>\n",
       "      <td>2.265583</td>\n",
       "      <td>0.409122</td>\n",
       "    </tr>\n",
       "    <tr>\n",
       "      <th>VTEB</th>\n",
       "      <td>50</td>\n",
       "      <td>1.080568</td>\n",
       "      <td>0.399310</td>\n",
       "      <td>2.263031</td>\n",
       "      <td>0.333713</td>\n",
       "    </tr>\n",
       "    <tr>\n",
       "      <th>VCIT</th>\n",
       "      <td>50</td>\n",
       "      <td>1.169885</td>\n",
       "      <td>0.649239</td>\n",
       "      <td>1.529435</td>\n",
       "      <td>0.502684</td>\n",
       "    </tr>\n",
       "    <tr>\n",
       "      <th>LQD</th>\n",
       "      <td>50</td>\n",
       "      <td>1.328175</td>\n",
       "      <td>0.855158</td>\n",
       "      <td>1.346251</td>\n",
       "      <td>0.743382</td>\n",
       "    </tr>\n",
       "    <tr>\n",
       "      <th>VCLT</th>\n",
       "      <td>50</td>\n",
       "      <td>1.859724</td>\n",
       "      <td>1.259648</td>\n",
       "      <td>1.335934</td>\n",
       "      <td>1.036422</td>\n",
       "    </tr>\n",
       "    <tr>\n",
       "      <th>BLV</th>\n",
       "      <td>50</td>\n",
       "      <td>2.071630</td>\n",
       "      <td>1.502998</td>\n",
       "      <td>1.260622</td>\n",
       "      <td>1.732519</td>\n",
       "    </tr>\n",
       "    <tr>\n",
       "      <th>VCSH</th>\n",
       "      <td>50</td>\n",
       "      <td>0.558881</td>\n",
       "      <td>0.305553</td>\n",
       "      <td>1.250076</td>\n",
       "      <td>0.282660</td>\n",
       "    </tr>\n",
       "    <tr>\n",
       "      <th>PGX</th>\n",
       "      <td>50</td>\n",
       "      <td>0.697043</td>\n",
       "      <td>0.417117</td>\n",
       "      <td>1.246953</td>\n",
       "      <td>1.237112</td>\n",
       "    </tr>\n",
       "    <tr>\n",
       "      <th>BND</th>\n",
       "      <td>50</td>\n",
       "      <td>0.956636</td>\n",
       "      <td>0.637970</td>\n",
       "      <td>1.222187</td>\n",
       "      <td>0.703167</td>\n",
       "    </tr>\n",
       "    <tr>\n",
       "      <th>BIV</th>\n",
       "      <td>50</td>\n",
       "      <td>1.105963</td>\n",
       "      <td>0.777403</td>\n",
       "      <td>1.195063</td>\n",
       "      <td>0.804345</td>\n",
       "    </tr>\n",
       "    <tr>\n",
       "      <th>SCHZ</th>\n",
       "      <td>50</td>\n",
       "      <td>0.924733</td>\n",
       "      <td>0.641366</td>\n",
       "      <td>1.165976</td>\n",
       "      <td>0.643092</td>\n",
       "    </tr>\n",
       "    <tr>\n",
       "      <th>BNDX</th>\n",
       "      <td>50</td>\n",
       "      <td>0.788312</td>\n",
       "      <td>0.532871</td>\n",
       "      <td>1.147362</td>\n",
       "      <td>0.639687</td>\n",
       "    </tr>\n",
       "    <tr>\n",
       "      <th>AGG</th>\n",
       "      <td>50</td>\n",
       "      <td>0.940974</td>\n",
       "      <td>0.681014</td>\n",
       "      <td>1.121942</td>\n",
       "      <td>0.705739</td>\n",
       "    </tr>\n",
       "    <tr>\n",
       "      <th>VGSH</th>\n",
       "      <td>50</td>\n",
       "      <td>0.438162</td>\n",
       "      <td>0.248102</td>\n",
       "      <td>1.052976</td>\n",
       "      <td>0.221755</td>\n",
       "    </tr>\n",
       "    <tr>\n",
       "      <th>BSV</th>\n",
       "      <td>50</td>\n",
       "      <td>0.542788</td>\n",
       "      <td>0.350719</td>\n",
       "      <td>1.043203</td>\n",
       "      <td>0.359614</td>\n",
       "    </tr>\n",
       "    <tr>\n",
       "      <th>SHY</th>\n",
       "      <td>50</td>\n",
       "      <td>0.419498</td>\n",
       "      <td>0.240681</td>\n",
       "      <td>1.007896</td>\n",
       "      <td>0.209349</td>\n",
       "    </tr>\n",
       "    <tr>\n",
       "      <th>TLT</th>\n",
       "      <td>50</td>\n",
       "      <td>2.276361</td>\n",
       "      <td>2.411734</td>\n",
       "      <td>0.870512</td>\n",
       "      <td>3.224333</td>\n",
       "    </tr>\n",
       "    <tr>\n",
       "      <th>VGLT</th>\n",
       "      <td>50</td>\n",
       "      <td>2.228861</td>\n",
       "      <td>2.376587</td>\n",
       "      <td>0.863400</td>\n",
       "      <td>3.096044</td>\n",
       "    </tr>\n",
       "    <tr>\n",
       "      <th>IEF</th>\n",
       "      <td>50</td>\n",
       "      <td>1.185328</td>\n",
       "      <td>1.183396</td>\n",
       "      <td>0.852134</td>\n",
       "      <td>1.474038</td>\n",
       "    </tr>\n",
       "    <tr>\n",
       "      <th>VWOB</th>\n",
       "      <td>50</td>\n",
       "      <td>0.616248</td>\n",
       "      <td>0.611154</td>\n",
       "      <td>0.718855</td>\n",
       "      <td>0.872573</td>\n",
       "    </tr>\n",
       "    <tr>\n",
       "      <th>EMB</th>\n",
       "      <td>50</td>\n",
       "      <td>0.645394</td>\n",
       "      <td>0.767490</td>\n",
       "      <td>0.610402</td>\n",
       "      <td>1.202512</td>\n",
       "    </tr>\n",
       "    <tr>\n",
       "      <th>HYG</th>\n",
       "      <td>50</td>\n",
       "      <td>0.439044</td>\n",
       "      <td>1.101734</td>\n",
       "      <td>0.237922</td>\n",
       "      <td>1.974367</td>\n",
       "    </tr>\n",
       "  </tbody>\n",
       "</table>\n",
       "</div>"
      ],
      "text/plain": [
       "         21-len   21-mean    21-std   21-shrp  drawdown\n",
       "Symbols                                                \n",
       "MUB          50  1.059900  0.389738  2.265583  0.409122\n",
       "VTEB         50  1.080568  0.399310  2.263031  0.333713\n",
       "VCIT         50  1.169885  0.649239  1.529435  0.502684\n",
       "LQD          50  1.328175  0.855158  1.346251  0.743382\n",
       "VCLT         50  1.859724  1.259648  1.335934  1.036422\n",
       "BLV          50  2.071630  1.502998  1.260622  1.732519\n",
       "VCSH         50  0.558881  0.305553  1.250076  0.282660\n",
       "PGX          50  0.697043  0.417117  1.246953  1.237112\n",
       "BND          50  0.956636  0.637970  1.222187  0.703167\n",
       "BIV          50  1.105963  0.777403  1.195063  0.804345\n",
       "SCHZ         50  0.924733  0.641366  1.165976  0.643092\n",
       "BNDX         50  0.788312  0.532871  1.147362  0.639687\n",
       "AGG          50  0.940974  0.681014  1.121942  0.705739\n",
       "VGSH         50  0.438162  0.248102  1.052976  0.221755\n",
       "BSV          50  0.542788  0.350719  1.043203  0.359614\n",
       "SHY          50  0.419498  0.240681  1.007896  0.209349\n",
       "TLT          50  2.276361  2.411734  0.870512  3.224333\n",
       "VGLT         50  2.228861  2.376587  0.863400  3.096044\n",
       "IEF          50  1.185328  1.183396  0.852134  1.474038\n",
       "VWOB         50  0.616248  0.611154  0.718855  0.872573\n",
       "EMB          50  0.645394  0.767490  0.610402  1.202512\n",
       "HYG          50  0.439044  1.101734  0.237922  1.974367"
      ]
     },
     "execution_count": 2,
     "metadata": {},
     "output_type": "execute_result"
    }
   ],
   "source": [
    "stat = quote.statistics(21)\n",
    "stat = stat[(stat['drawdown'] < 4) & (stat['21-mean'] > 0.4)]\n",
    "stat"
   ]
  },
  {
   "cell_type": "code",
   "execution_count": 3,
   "metadata": {},
   "outputs": [
    {
     "name": "stdout",
     "output_type": "stream",
     "text": [
      "['MUB', 'VTEB'] -2.4011403132763243 1.9417650504716741 0.185708812622997 -4.528614176370995\n",
      "['MUB', 'VCIT'] -2.7874388778732424 0.7796275993452015 0.22795142422600606 -3.7950179014444503\n",
      "['MUB', 'LQD'] -2.988228005343438 0.33548042307491466 0.28812597108692173 -3.611834399505274\n",
      "['MUB', 'VCLT'] -3.06653481040454 0.17359597537277116 0.36138611031545476 -3.6015168960927655\n",
      "['MUB', 'PGX'] -3.854408206373245 -0.7534304179934752 0.41155855302381983 -3.5125363414035897\n"
     ]
    },
    {
     "data": {
      "text/plain": [
       "['MUB', 'PGX']"
      ]
     },
     "execution_count": 3,
     "metadata": {},
     "output_type": "execute_result"
    }
   ],
   "source": [
    "quote.setup_mask(stat.index)\n",
    "quote.least_correlated_portfolio(21, 2)"
   ]
  },
  {
   "cell_type": "code",
   "execution_count": 4,
   "metadata": {},
   "outputs": [
    {
     "name": "stdout",
     "output_type": "stream",
     "text": [
      "['BND', 'MUB'] -1.7866842438887982 1.4230137762137165 0.2780722541009837 -3.4877702742034984\n",
      "['BND', 'PGX'] -1.9143108147259762 0.06976018232304426 0.48506972024346484 -2.4691407172924853\n"
     ]
    },
    {
     "data": {
      "text/plain": [
       "['BND', 'PGX']"
      ]
     },
     "execution_count": 4,
     "metadata": {},
     "output_type": "execute_result"
    }
   ],
   "source": [
    "quote.setup_mask(stat.index)\n",
    "quote.least_correlated_portfolio(21, 2, ['BND'])"
   ]
  },
  {
   "cell_type": "code",
   "execution_count": 5,
   "metadata": {},
   "outputs": [
    {
     "name": "stdout",
     "output_type": "stream",
     "text": [
      "['PGX', 'MUB'] -3.854408206373245 -0.7534304179934752 0.41155855302381983 -3.5125363414035897\n"
     ]
    },
    {
     "data": {
      "text/plain": [
       "['PGX', 'MUB']"
      ]
     },
     "execution_count": 5,
     "metadata": {},
     "output_type": "execute_result"
    }
   ],
   "source": [
    "quote.setup_mask(stat.index)\n",
    "quote.least_correlated_portfolio(21, 2, ['PGX'])"
   ]
  },
  {
   "cell_type": "code",
   "execution_count": 6,
   "metadata": {},
   "outputs": [
    {
     "name": "stderr",
     "output_type": "stream",
     "text": [
      "/Users/chaoyi/.local/share/virtualenvs/portfolio_analysis-bdMx2S3t/lib/python3.7/site-packages/scipy/optimize/minpack.py:162: RuntimeWarning: The iteration is not making good progress, as measured by the \n",
      "  improvement from the last ten iterations.\n",
      "  warnings.warn(msg, RuntimeWarning)\n"
     ]
    },
    {
     "data": {
      "text/plain": [
       "(Symbols\n",
       " PGX    0.475018\n",
       " MUB    0.524982\n",
       " dtype: float64, 0.8875, 0.2249)"
      ]
     },
     "execution_count": 6,
     "metadata": {},
     "output_type": "execute_result"
    }
   ],
   "source": [
    "quote.setup_mask(['PGX', 'MUB'])\n",
    "quote.find_optimal_ratio(21, 1)"
   ]
  },
  {
   "cell_type": "code",
   "execution_count": 7,
   "metadata": {},
   "outputs": [
    {
     "data": {
      "text/html": [
       "<div>\n",
       "<style scoped>\n",
       "    .dataframe tbody tr th:only-of-type {\n",
       "        vertical-align: middle;\n",
       "    }\n",
       "\n",
       "    .dataframe tbody tr th {\n",
       "        vertical-align: top;\n",
       "    }\n",
       "\n",
       "    .dataframe thead th {\n",
       "        text-align: right;\n",
       "    }\n",
       "</style>\n",
       "<table border=\"1\" class=\"dataframe\">\n",
       "  <thead>\n",
       "    <tr style=\"text-align: right;\">\n",
       "      <th></th>\n",
       "      <th>count</th>\n",
       "      <th>mean</th>\n",
       "      <th>std</th>\n",
       "      <th>min</th>\n",
       "      <th>25%</th>\n",
       "      <th>50%</th>\n",
       "      <th>75%</th>\n",
       "      <th>max</th>\n",
       "      <th>shrp</th>\n",
       "      <th>drawdown</th>\n",
       "    </tr>\n",
       "  </thead>\n",
       "  <tbody>\n",
       "    <tr>\n",
       "      <th>Portfolio</th>\n",
       "      <td>50.0</td>\n",
       "      <td>0.884587</td>\n",
       "      <td>0.225186</td>\n",
       "      <td>0.420316</td>\n",
       "      <td>0.734339</td>\n",
       "      <td>0.898459</td>\n",
       "      <td>1.059220</td>\n",
       "      <td>1.278754</td>\n",
       "      <td>3.142605</td>\n",
       "      <td>0.337480</td>\n",
       "    </tr>\n",
       "    <tr>\n",
       "      <th>MUB</th>\n",
       "      <td>50.0</td>\n",
       "      <td>1.059900</td>\n",
       "      <td>0.389738</td>\n",
       "      <td>0.256944</td>\n",
       "      <td>0.784552</td>\n",
       "      <td>1.121005</td>\n",
       "      <td>1.350647</td>\n",
       "      <td>1.685346</td>\n",
       "      <td>2.265583</td>\n",
       "      <td>0.409122</td>\n",
       "    </tr>\n",
       "    <tr>\n",
       "      <th>PGX</th>\n",
       "      <td>50.0</td>\n",
       "      <td>0.697043</td>\n",
       "      <td>0.417117</td>\n",
       "      <td>-0.362674</td>\n",
       "      <td>0.450043</td>\n",
       "      <td>0.633834</td>\n",
       "      <td>0.992653</td>\n",
       "      <td>1.719726</td>\n",
       "      <td>1.246953</td>\n",
       "      <td>1.237112</td>\n",
       "    </tr>\n",
       "  </tbody>\n",
       "</table>\n",
       "</div>"
      ],
      "text/plain": [
       "           count      mean       std       min       25%       50%       75%  \\\n",
       "Portfolio   50.0  0.884587  0.225186  0.420316  0.734339  0.898459  1.059220   \n",
       "MUB         50.0  1.059900  0.389738  0.256944  0.784552  1.121005  1.350647   \n",
       "PGX         50.0  0.697043  0.417117 -0.362674  0.450043  0.633834  0.992653   \n",
       "\n",
       "                max      shrp  drawdown  \n",
       "Portfolio  1.278754  3.142605  0.337480  \n",
       "MUB        1.685346  2.265583  0.409122  \n",
       "PGX        1.719726  1.246953  1.237112  "
      ]
     },
     "execution_count": 7,
     "metadata": {},
     "output_type": "execute_result"
    },
    {
     "data": {
      "image/png": "[encoded data removed]",
      "text/plain": [
       "<Figure size 864x576 with 1 Axes>"
      ]
     },
     "metadata": {
      "needs_background": "light"
     },
     "output_type": "display_data"
    }
   ],
   "source": [
    "quote.graph(21, {'MUB': .52, 'PGX': .48})"
   ]
  },
  {
   "cell_type": "code",
   "execution_count": null,
   "metadata": {},
   "outputs": [],
   "source": []
  }
 ],
 "metadata": {
  "kernelspec": {
   "display_name": "Python 3",
   "language": "python",
   "name": "python3"
  },
  "language_info": {
   "codemirror_mode": {
    "name": "ipython",
    "version": 3
   },
   "file_extension": ".py",
   "mimetype": "text/x-python",
   "name": "python",
   "nbconvert_exporter": "python",
   "pygments_lexer": "ipython3",
   "version": "3.7.3"
  }
 },
 "nbformat": 4,
 "nbformat_minor": 2
}
