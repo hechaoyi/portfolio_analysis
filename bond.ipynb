{
 "cells": [
  {
   "cell_type": "code",
   "execution_count": 1,
   "metadata": {},
   "outputs": [
    {
     "name": "stdout",
     "output_type": "stream",
     "text": [
      "Populating the interactive namespace from numpy and matplotlib\n"
     ]
    },
    {
     "data": {
      "text/plain": [
       "'from 2019-02-26 to 2019-06-06'"
      ]
     },
     "execution_count": 1,
     "metadata": {},
     "output_type": "execute_result"
    }
   ],
   "source": [
    "%pylab inline\n",
    "from datetime import date\n",
    "from app import create_app\n",
    "from app.instrument import Instrument\n",
    "from app.analysis import Quote\n",
    "with create_app().app_context():\n",
    "    quote = Quote([b.symbol for b in Instrument.find_bonds()], 100)\n",
    "f'from {quote.start.date()} to {date.today()}'"
   ]
  },
  {
   "cell_type": "code",
   "execution_count": 2,
   "metadata": {},
   "outputs": [
    {
     "data": {
      "text/html": [
       "<div>\n",
       "<style scoped>\n",
       "    .dataframe tbody tr th:only-of-type {\n",
       "        vertical-align: middle;\n",
       "    }\n",
       "\n",
       "    .dataframe tbody tr th {\n",
       "        vertical-align: top;\n",
       "    }\n",
       "\n",
       "    .dataframe thead th {\n",
       "        text-align: right;\n",
       "    }\n",
       "</style>\n",
       "<table border=\"1\" class=\"dataframe\">\n",
       "  <thead>\n",
       "    <tr style=\"text-align: right;\">\n",
       "      <th></th>\n",
       "      <th>21-len</th>\n",
       "      <th>21-mean</th>\n",
       "      <th>21-std</th>\n",
       "      <th>21-shrp</th>\n",
       "      <th>drawdown</th>\n",
       "    </tr>\n",
       "    <tr>\n",
       "      <th>Symbols</th>\n",
       "      <th></th>\n",
       "      <th></th>\n",
       "      <th></th>\n",
       "      <th></th>\n",
       "      <th></th>\n",
       "    </tr>\n",
       "  </thead>\n",
       "  <tbody>\n",
       "    <tr>\n",
       "      <th>VTEB</th>\n",
       "      <td>50</td>\n",
       "      <td>1.078846</td>\n",
       "      <td>0.398780</td>\n",
       "      <td>2.260047</td>\n",
       "      <td>0.333713</td>\n",
       "    </tr>\n",
       "    <tr>\n",
       "      <th>MUB</th>\n",
       "      <td>50</td>\n",
       "      <td>1.058080</td>\n",
       "      <td>0.390219</td>\n",
       "      <td>2.256415</td>\n",
       "      <td>0.409122</td>\n",
       "    </tr>\n",
       "    <tr>\n",
       "      <th>VCIT</th>\n",
       "      <td>50</td>\n",
       "      <td>1.168846</td>\n",
       "      <td>0.648186</td>\n",
       "      <td>1.529286</td>\n",
       "      <td>0.502684</td>\n",
       "    </tr>\n",
       "    <tr>\n",
       "      <th>LQD</th>\n",
       "      <td>50</td>\n",
       "      <td>1.328933</td>\n",
       "      <td>0.855696</td>\n",
       "      <td>1.345512</td>\n",
       "      <td>0.743382</td>\n",
       "    </tr>\n",
       "    <tr>\n",
       "      <th>VCLT</th>\n",
       "      <td>50</td>\n",
       "      <td>1.856651</td>\n",
       "      <td>1.258666</td>\n",
       "      <td>1.334006</td>\n",
       "      <td>1.036422</td>\n",
       "    </tr>\n",
       "    <tr>\n",
       "      <th>BLV</th>\n",
       "      <td>50</td>\n",
       "      <td>2.070120</td>\n",
       "      <td>1.501647</td>\n",
       "      <td>1.260308</td>\n",
       "      <td>1.732519</td>\n",
       "    </tr>\n",
       "    <tr>\n",
       "      <th>VCSH</th>\n",
       "      <td>50</td>\n",
       "      <td>0.558059</td>\n",
       "      <td>0.304484</td>\n",
       "      <td>1.249578</td>\n",
       "      <td>0.282660</td>\n",
       "    </tr>\n",
       "    <tr>\n",
       "      <th>PGX</th>\n",
       "      <td>50</td>\n",
       "      <td>0.695935</td>\n",
       "      <td>0.416031</td>\n",
       "      <td>1.245945</td>\n",
       "      <td>1.237112</td>\n",
       "    </tr>\n",
       "    <tr>\n",
       "      <th>BND</th>\n",
       "      <td>50</td>\n",
       "      <td>0.954531</td>\n",
       "      <td>0.635378</td>\n",
       "      <td>1.222812</td>\n",
       "      <td>0.703167</td>\n",
       "    </tr>\n",
       "    <tr>\n",
       "      <th>BIV</th>\n",
       "      <td>50</td>\n",
       "      <td>1.104290</td>\n",
       "      <td>0.775218</td>\n",
       "      <td>1.195414</td>\n",
       "      <td>0.804345</td>\n",
       "    </tr>\n",
       "    <tr>\n",
       "      <th>SCHZ</th>\n",
       "      <td>50</td>\n",
       "      <td>0.923376</td>\n",
       "      <td>0.639714</td>\n",
       "      <td>1.165823</td>\n",
       "      <td>0.643092</td>\n",
       "    </tr>\n",
       "    <tr>\n",
       "      <th>BNDX</th>\n",
       "      <td>50</td>\n",
       "      <td>0.788312</td>\n",
       "      <td>0.532871</td>\n",
       "      <td>1.146111</td>\n",
       "      <td>0.639687</td>\n",
       "    </tr>\n",
       "    <tr>\n",
       "      <th>AGG</th>\n",
       "      <td>50</td>\n",
       "      <td>0.938852</td>\n",
       "      <td>0.678352</td>\n",
       "      <td>1.122231</td>\n",
       "      <td>0.705739</td>\n",
       "    </tr>\n",
       "    <tr>\n",
       "      <th>VGSH</th>\n",
       "      <td>50</td>\n",
       "      <td>0.436668</td>\n",
       "      <td>0.245307</td>\n",
       "      <td>1.056165</td>\n",
       "      <td>0.221755</td>\n",
       "    </tr>\n",
       "    <tr>\n",
       "      <th>BSV</th>\n",
       "      <td>50</td>\n",
       "      <td>0.541022</td>\n",
       "      <td>0.347909</td>\n",
       "      <td>1.044637</td>\n",
       "      <td>0.359614</td>\n",
       "    </tr>\n",
       "    <tr>\n",
       "      <th>SHY</th>\n",
       "      <td>50</td>\n",
       "      <td>0.417827</td>\n",
       "      <td>0.237515</td>\n",
       "      <td>1.011488</td>\n",
       "      <td>0.209349</td>\n",
       "    </tr>\n",
       "    <tr>\n",
       "      <th>TLT</th>\n",
       "      <td>50</td>\n",
       "      <td>2.268799</td>\n",
       "      <td>2.403205</td>\n",
       "      <td>0.870178</td>\n",
       "      <td>3.224333</td>\n",
       "    </tr>\n",
       "    <tr>\n",
       "      <th>VGLT</th>\n",
       "      <td>50</td>\n",
       "      <td>2.221297</td>\n",
       "      <td>2.367975</td>\n",
       "      <td>0.863064</td>\n",
       "      <td>3.096044</td>\n",
       "    </tr>\n",
       "    <tr>\n",
       "      <th>IEF</th>\n",
       "      <td>50</td>\n",
       "      <td>1.181740</td>\n",
       "      <td>1.178304</td>\n",
       "      <td>0.852205</td>\n",
       "      <td>1.474038</td>\n",
       "    </tr>\n",
       "    <tr>\n",
       "      <th>VWOB</th>\n",
       "      <td>50</td>\n",
       "      <td>0.618446</td>\n",
       "      <td>0.614887</td>\n",
       "      <td>0.716982</td>\n",
       "      <td>0.872573</td>\n",
       "    </tr>\n",
       "    <tr>\n",
       "      <th>EMB</th>\n",
       "      <td>50</td>\n",
       "      <td>0.646774</td>\n",
       "      <td>0.769791</td>\n",
       "      <td>0.609503</td>\n",
       "      <td>1.202512</td>\n",
       "    </tr>\n",
       "    <tr>\n",
       "      <th>HYG</th>\n",
       "      <td>50</td>\n",
       "      <td>0.443711</td>\n",
       "      <td>1.100236</td>\n",
       "      <td>0.241883</td>\n",
       "      <td>1.974367</td>\n",
       "    </tr>\n",
       "  </tbody>\n",
       "</table>\n",
       "</div>"
      ],
      "text/plain": [
       "         21-len   21-mean    21-std   21-shrp  drawdown\n",
       "Symbols                                                \n",
       "VTEB         50  1.078846  0.398780  2.260047  0.333713\n",
       "MUB          50  1.058080  0.390219  2.256415  0.409122\n",
       "VCIT         50  1.168846  0.648186  1.529286  0.502684\n",
       "LQD          50  1.328933  0.855696  1.345512  0.743382\n",
       "VCLT         50  1.856651  1.258666  1.334006  1.036422\n",
       "BLV          50  2.070120  1.501647  1.260308  1.732519\n",
       "VCSH         50  0.558059  0.304484  1.249578  0.282660\n",
       "PGX          50  0.695935  0.416031  1.245945  1.237112\n",
       "BND          50  0.954531  0.635378  1.222812  0.703167\n",
       "BIV          50  1.104290  0.775218  1.195414  0.804345\n",
       "SCHZ         50  0.923376  0.639714  1.165823  0.643092\n",
       "BNDX         50  0.788312  0.532871  1.146111  0.639687\n",
       "AGG          50  0.938852  0.678352  1.122231  0.705739\n",
       "VGSH         50  0.436668  0.245307  1.056165  0.221755\n",
       "BSV          50  0.541022  0.347909  1.044637  0.359614\n",
       "SHY          50  0.417827  0.237515  1.011488  0.209349\n",
       "TLT          50  2.268799  2.403205  0.870178  3.224333\n",
       "VGLT         50  2.221297  2.367975  0.863064  3.096044\n",
       "IEF          50  1.181740  1.178304  0.852205  1.474038\n",
       "VWOB         50  0.618446  0.614887  0.716982  0.872573\n",
       "EMB          50  0.646774  0.769791  0.609503  1.202512\n",
       "HYG          50  0.443711  1.100236  0.241883  1.974367"
      ]
     },
     "execution_count": 2,
     "metadata": {},
     "output_type": "execute_result"
    }
   ],
   "source": [
    "stat = quote.statistics(21)\n",
    "stat = stat[(stat['drawdown'] < 4) & (stat['21-mean'] > 0.4)]\n",
    "stat"
   ]
  },
  {
   "cell_type": "code",
   "execution_count": 3,
   "metadata": {},
   "outputs": [
    {
     "name": "stdout",
     "output_type": "stream",
     "text": [
      "['VTEB', 'MUB'] -2.3893969697609045 1.941356214518584 0.185708812622997 -4.5164619969024855\n",
      "['VTEB', 'VCIT'] -2.582884589792644 0.9973495877867222 0.20909914996766435 -3.7893333275470304\n",
      "['VTEB', 'LQD'] -2.7614052920863577 0.5748805664246066 0.26927369682858004 -3.6055595553395445\n",
      "['VTEB', 'VCLT'] -2.8536239210418284 0.3978954393503913 0.3425338360571131 -3.5940531964493325\n",
      "['VTEB', 'PGX'] -3.6785004816371254 -0.5652140403250914 0.39270627876547815 -3.5059927200775123\n",
      "['MUB', 'PGX'] -3.8530226418184363 -0.7622210426867058 0.41155855302381983 -3.5023601521555503\n"
     ]
    },
    {
     "data": {
      "text/plain": [
       "['MUB', 'PGX']"
      ]
     },
     "execution_count": 3,
     "metadata": {},
     "output_type": "execute_result"
    }
   ],
   "source": [
    "quote.setup_mask(stat.index)\n",
    "quote.least_correlated_portfolio(21, 2)"
   ]
  },
  {
   "cell_type": "code",
   "execution_count": 4,
   "metadata": {},
   "outputs": [
    {
     "name": "stdout",
     "output_type": "stream",
     "text": [
      "['PGX', 'VTEB'] -3.6785004816371254 -0.5652140403250914 0.39270627876547815 -3.5059927200775123\n"
     ]
    },
    {
     "data": {
      "text/plain": [
       "['PGX', 'VTEB']"
      ]
     },
     "execution_count": 4,
     "metadata": {},
     "output_type": "execute_result"
    }
   ],
   "source": [
    "quote.setup_mask(stat.index)\n",
    "quote.least_correlated_portfolio(21, 2, ['MUB', 'PGX'], 0, 1)"
   ]
  },
  {
   "cell_type": "code",
   "execution_count": 5,
   "metadata": {},
   "outputs": [
    {
     "name": "stderr",
     "output_type": "stream",
     "text": [
      "/Users/chaoyi/.local/share/virtualenvs/portfolio_analysis-bdMx2S3t/lib/python3.7/site-packages/scipy/optimize/minpack.py:162: RuntimeWarning: The iteration is not making good progress, as measured by the \n",
      "  improvement from the last ten iterations.\n",
      "  warnings.warn(msg, RuntimeWarning)\n"
     ]
    },
    {
     "data": {
      "text/plain": [
       "(Symbols\n",
       " PGX    0.47678\n",
       " MUB    0.52322\n",
       " dtype: float64, 0.8854, 0.224)"
      ]
     },
     "execution_count": 5,
     "metadata": {},
     "output_type": "execute_result"
    }
   ],
   "source": [
    "quote.setup_mask(['PGX', 'MUB'])\n",
    "quote.find_optimal_ratio(21, 1)"
   ]
  },
  {
   "cell_type": "code",
   "execution_count": 6,
   "metadata": {},
   "outputs": [
    {
     "data": {
      "text/html": [
       "<div>\n",
       "<style scoped>\n",
       "    .dataframe tbody tr th:only-of-type {\n",
       "        vertical-align: middle;\n",
       "    }\n",
       "\n",
       "    .dataframe tbody tr th {\n",
       "        vertical-align: top;\n",
       "    }\n",
       "\n",
       "    .dataframe thead th {\n",
       "        text-align: right;\n",
       "    }\n",
       "</style>\n",
       "<table border=\"1\" class=\"dataframe\">\n",
       "  <thead>\n",
       "    <tr style=\"text-align: right;\">\n",
       "      <th></th>\n",
       "      <th>count</th>\n",
       "      <th>mean</th>\n",
       "      <th>std</th>\n",
       "      <th>min</th>\n",
       "      <th>25%</th>\n",
       "      <th>50%</th>\n",
       "      <th>75%</th>\n",
       "      <th>max</th>\n",
       "      <th>shrp</th>\n",
       "      <th>drawdown</th>\n",
       "    </tr>\n",
       "  </thead>\n",
       "  <tbody>\n",
       "    <tr>\n",
       "      <th>Portfolio</th>\n",
       "      <td>50.0</td>\n",
       "      <td>0.883109</td>\n",
       "      <td>0.224241</td>\n",
       "      <td>0.420316</td>\n",
       "      <td>0.734339</td>\n",
       "      <td>0.898459</td>\n",
       "      <td>1.051681</td>\n",
       "      <td>1.278754</td>\n",
       "      <td>3.146278</td>\n",
       "      <td>0.337480</td>\n",
       "    </tr>\n",
       "    <tr>\n",
       "      <th>MUB</th>\n",
       "      <td>50.0</td>\n",
       "      <td>1.058080</td>\n",
       "      <td>0.390219</td>\n",
       "      <td>0.256944</td>\n",
       "      <td>0.784552</td>\n",
       "      <td>1.121005</td>\n",
       "      <td>1.350647</td>\n",
       "      <td>1.685346</td>\n",
       "      <td>2.256415</td>\n",
       "      <td>0.409122</td>\n",
       "    </tr>\n",
       "    <tr>\n",
       "      <th>PGX</th>\n",
       "      <td>50.0</td>\n",
       "      <td>0.695935</td>\n",
       "      <td>0.416031</td>\n",
       "      <td>-0.362674</td>\n",
       "      <td>0.450043</td>\n",
       "      <td>0.633834</td>\n",
       "      <td>0.992653</td>\n",
       "      <td>1.719726</td>\n",
       "      <td>1.245945</td>\n",
       "      <td>1.237112</td>\n",
       "    </tr>\n",
       "  </tbody>\n",
       "</table>\n",
       "</div>"
      ],
      "text/plain": [
       "           count      mean       std       min       25%       50%       75%  \\\n",
       "Portfolio   50.0  0.883109  0.224241  0.420316  0.734339  0.898459  1.051681   \n",
       "MUB         50.0  1.058080  0.390219  0.256944  0.784552  1.121005  1.350647   \n",
       "PGX         50.0  0.695935  0.416031 -0.362674  0.450043  0.633834  0.992653   \n",
       "\n",
       "                max      shrp  drawdown  \n",
       "Portfolio  1.278754  3.146278  0.337480  \n",
       "MUB        1.685346  2.256415  0.409122  \n",
       "PGX        1.719726  1.245945  1.237112  "
      ]
     },
     "execution_count": 6,
     "metadata": {},
     "output_type": "execute_result"
    },
    {
     "data": {
      "image/png": "[encoded data removed]",
      "text/plain": [
       "<Figure size 864x576 with 1 Axes>"
      ]
     },
     "metadata": {
      "needs_background": "light"
     },
     "output_type": "display_data"
    }
   ],
   "source": [
    "quote.graph(21, {'MUB': .52, 'PGX': .48})"
   ]
  },
  {
   "cell_type": "code",
   "execution_count": null,
   "metadata": {},
   "outputs": [],
   "source": []
  }
 ],
 "metadata": {
  "kernelspec": {
   "display_name": "Python 3",
   "language": "python",
   "name": "python3"
  },
  "language_info": {
   "codemirror_mode": {
    "name": "ipython",
    "version": 3
   },
   "file_extension": ".py",
   "mimetype": "text/x-python",
   "name": "python",
   "nbconvert_exporter": "python",
   "pygments_lexer": "ipython3",
   "version": "3.7.3"
  }
 },
 "nbformat": 4,
 "nbformat_minor": 2
}
