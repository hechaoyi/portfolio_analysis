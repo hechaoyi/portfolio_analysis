{
 "cells": [
  {
   "cell_type": "code",
   "execution_count": 1,
   "metadata": {},
   "outputs": [
    {
     "name": "stdout",
     "output_type": "stream",
     "text": [
      "Populating the interactive namespace from numpy and matplotlib\n"
     ]
    },
    {
     "data": {
      "text/plain": [
       "'from 2019-02-27 to 2019-06-07'"
      ]
     },
     "execution_count": 1,
     "metadata": {},
     "output_type": "execute_result"
    }
   ],
   "source": [
    "%pylab inline\n",
    "from datetime import date\n",
    "from app import create_app\n",
    "from app.instrument import Instrument\n",
    "from app.analysis import Quote\n",
    "with create_app().app_context():\n",
    "    quote = Quote([b.symbol for b in Instrument.find_reits()], 100)\n",
    "f'from {quote.start.date()} to {date.today()}'"
   ]
  },
  {
   "cell_type": "code",
   "execution_count": 3,
   "metadata": {},
   "outputs": [
    {
     "data": {
      "text/html": [
       "<div>\n",
       "<style scoped>\n",
       "    .dataframe tbody tr th:only-of-type {\n",
       "        vertical-align: middle;\n",
       "    }\n",
       "\n",
       "    .dataframe tbody tr th {\n",
       "        vertical-align: top;\n",
       "    }\n",
       "\n",
       "    .dataframe thead th {\n",
       "        text-align: right;\n",
       "    }\n",
       "</style>\n",
       "<table border=\"1\" class=\"dataframe\">\n",
       "  <thead>\n",
       "    <tr style=\"text-align: right;\">\n",
       "      <th></th>\n",
       "      <th>21-len</th>\n",
       "      <th>21-mean</th>\n",
       "      <th>21-std</th>\n",
       "      <th>21-shrp</th>\n",
       "      <th>drawdown</th>\n",
       "    </tr>\n",
       "    <tr>\n",
       "      <th>Symbols</th>\n",
       "      <th></th>\n",
       "      <th></th>\n",
       "      <th></th>\n",
       "      <th></th>\n",
       "      <th></th>\n",
       "    </tr>\n",
       "  </thead>\n",
       "  <tbody>\n",
       "    <tr>\n",
       "      <th>BXMT</th>\n",
       "      <td>50</td>\n",
       "      <td>2.311529</td>\n",
       "      <td>1.212896</td>\n",
       "      <td>1.759862</td>\n",
       "      <td>2.677343</td>\n",
       "    </tr>\n",
       "    <tr>\n",
       "      <th>INVH</th>\n",
       "      <td>50</td>\n",
       "      <td>3.616657</td>\n",
       "      <td>2.080415</td>\n",
       "      <td>1.653351</td>\n",
       "      <td>3.809150</td>\n",
       "    </tr>\n",
       "    <tr>\n",
       "      <th>SOHO</th>\n",
       "      <td>50</td>\n",
       "      <td>3.695904</td>\n",
       "      <td>2.161749</td>\n",
       "      <td>1.627804</td>\n",
       "      <td>3.034683</td>\n",
       "    </tr>\n",
       "    <tr>\n",
       "      <th>EQIX</th>\n",
       "      <td>50</td>\n",
       "      <td>4.824280</td>\n",
       "      <td>3.405510</td>\n",
       "      <td>1.364635</td>\n",
       "      <td>4.324717</td>\n",
       "    </tr>\n",
       "    <tr>\n",
       "      <th>BRG</th>\n",
       "      <td>50</td>\n",
       "      <td>3.379426</td>\n",
       "      <td>2.363710</td>\n",
       "      <td>1.354830</td>\n",
       "      <td>4.035088</td>\n",
       "    </tr>\n",
       "    <tr>\n",
       "      <th>WPC</th>\n",
       "      <td>50</td>\n",
       "      <td>3.695158</td>\n",
       "      <td>2.903911</td>\n",
       "      <td>1.211524</td>\n",
       "      <td>4.296338</td>\n",
       "    </tr>\n",
       "    <tr>\n",
       "      <th>PMT</th>\n",
       "      <td>50</td>\n",
       "      <td>2.086223</td>\n",
       "      <td>1.840065</td>\n",
       "      <td>1.037585</td>\n",
       "      <td>4.901510</td>\n",
       "    </tr>\n",
       "    <tr>\n",
       "      <th>AMT</th>\n",
       "      <td>50</td>\n",
       "      <td>3.974452</td>\n",
       "      <td>4.169534</td>\n",
       "      <td>0.910762</td>\n",
       "      <td>4.096787</td>\n",
       "    </tr>\n",
       "    <tr>\n",
       "      <th>GLPI</th>\n",
       "      <td>50</td>\n",
       "      <td>3.436712</td>\n",
       "      <td>3.866656</td>\n",
       "      <td>0.843031</td>\n",
       "      <td>4.020723</td>\n",
       "    </tr>\n",
       "    <tr>\n",
       "      <th>EPR</th>\n",
       "      <td>50</td>\n",
       "      <td>2.448274</td>\n",
       "      <td>2.709228</td>\n",
       "      <td>0.838347</td>\n",
       "      <td>4.396561</td>\n",
       "    </tr>\n",
       "    <tr>\n",
       "      <th>ARI</th>\n",
       "      <td>50</td>\n",
       "      <td>1.786233</td>\n",
       "      <td>2.185624</td>\n",
       "      <td>0.736281</td>\n",
       "      <td>3.719230</td>\n",
       "    </tr>\n",
       "    <tr>\n",
       "      <th>STAG</th>\n",
       "      <td>50</td>\n",
       "      <td>2.337562</td>\n",
       "      <td>3.002585</td>\n",
       "      <td>0.719567</td>\n",
       "      <td>4.545462</td>\n",
       "    </tr>\n",
       "    <tr>\n",
       "      <th>DEA</th>\n",
       "      <td>50</td>\n",
       "      <td>1.857546</td>\n",
       "      <td>2.634371</td>\n",
       "      <td>0.637931</td>\n",
       "      <td>4.901962</td>\n",
       "    </tr>\n",
       "    <tr>\n",
       "      <th>VNQ</th>\n",
       "      <td>50</td>\n",
       "      <td>1.385469</td>\n",
       "      <td>2.135025</td>\n",
       "      <td>0.566021</td>\n",
       "      <td>3.975014</td>\n",
       "    </tr>\n",
       "    <tr>\n",
       "      <th>NYMT</th>\n",
       "      <td>50</td>\n",
       "      <td>1.930295</td>\n",
       "      <td>3.414876</td>\n",
       "      <td>0.513429</td>\n",
       "      <td>4.437397</td>\n",
       "    </tr>\n",
       "    <tr>\n",
       "      <th>SCHH</th>\n",
       "      <td>50</td>\n",
       "      <td>1.014571</td>\n",
       "      <td>1.965218</td>\n",
       "      <td>0.426198</td>\n",
       "      <td>4.332364</td>\n",
       "    </tr>\n",
       "    <tr>\n",
       "      <th>STWD</th>\n",
       "      <td>50</td>\n",
       "      <td>0.984862</td>\n",
       "      <td>2.197951</td>\n",
       "      <td>0.367552</td>\n",
       "      <td>4.338395</td>\n",
       "    </tr>\n",
       "    <tr>\n",
       "      <th>DRE</th>\n",
       "      <td>50</td>\n",
       "      <td>0.830015</td>\n",
       "      <td>2.298751</td>\n",
       "      <td>0.284074</td>\n",
       "      <td>4.068454</td>\n",
       "    </tr>\n",
       "    <tr>\n",
       "      <th>CIM</th>\n",
       "      <td>50</td>\n",
       "      <td>0.762491</td>\n",
       "      <td>2.200851</td>\n",
       "      <td>0.266030</td>\n",
       "      <td>4.851332</td>\n",
       "    </tr>\n",
       "    <tr>\n",
       "      <th>SRET</th>\n",
       "      <td>50</td>\n",
       "      <td>0.568763</td>\n",
       "      <td>2.287632</td>\n",
       "      <td>0.171253</td>\n",
       "      <td>4.302225</td>\n",
       "    </tr>\n",
       "  </tbody>\n",
       "</table>\n",
       "</div>"
      ],
      "text/plain": [
       "         21-len   21-mean    21-std   21-shrp  drawdown\n",
       "Symbols                                                \n",
       "BXMT         50  2.311529  1.212896  1.759862  2.677343\n",
       "INVH         50  3.616657  2.080415  1.653351  3.809150\n",
       "SOHO         50  3.695904  2.161749  1.627804  3.034683\n",
       "EQIX         50  4.824280  3.405510  1.364635  4.324717\n",
       "BRG          50  3.379426  2.363710  1.354830  4.035088\n",
       "WPC          50  3.695158  2.903911  1.211524  4.296338\n",
       "PMT          50  2.086223  1.840065  1.037585  4.901510\n",
       "AMT          50  3.974452  4.169534  0.910762  4.096787\n",
       "GLPI         50  3.436712  3.866656  0.843031  4.020723\n",
       "EPR          50  2.448274  2.709228  0.838347  4.396561\n",
       "ARI          50  1.786233  2.185624  0.736281  3.719230\n",
       "STAG         50  2.337562  3.002585  0.719567  4.545462\n",
       "DEA          50  1.857546  2.634371  0.637931  4.901962\n",
       "VNQ          50  1.385469  2.135025  0.566021  3.975014\n",
       "NYMT         50  1.930295  3.414876  0.513429  4.437397\n",
       "SCHH         50  1.014571  1.965218  0.426198  4.332364\n",
       "STWD         50  0.984862  2.197951  0.367552  4.338395\n",
       "DRE          50  0.830015  2.298751  0.284074  4.068454\n",
       "CIM          50  0.762491  2.200851  0.266030  4.851332\n",
       "SRET         50  0.568763  2.287632  0.171253  4.302225"
      ]
     },
     "execution_count": 3,
     "metadata": {},
     "output_type": "execute_result"
    }
   ],
   "source": [
    "stat = quote.statistics(21)\n",
    "stat = stat[(stat['drawdown'] < 5) & (stat['21-mean'] > 0.5)]\n",
    "stat"
   ]
  },
  {
   "cell_type": "code",
   "execution_count": 4,
   "metadata": {},
   "outputs": [
    {
     "name": "stdout",
     "output_type": "stream",
     "text": [
      "['BXMT', 'INVH'] -2.060310780737943 -0.26872005933543774 1.6216231080536982 -3.4132138294562036\n"
     ]
    },
    {
     "data": {
      "text/plain": [
       "['BXMT', 'INVH']"
      ]
     },
     "execution_count": 4,
     "metadata": {},
     "output_type": "execute_result"
    }
   ],
   "source": [
    "quote.setup_mask(stat.index)\n",
    "quote.least_correlated_portfolio(21, 2)"
   ]
  },
  {
   "cell_type": "code",
   "execution_count": 7,
   "metadata": {},
   "outputs": [
    {
     "name": "stdout",
     "output_type": "stream",
     "text": [
      "['VNQ', 'BXMT'] -0.2378027524941011 0.42499153638512777 1.663089170872795 -2.325883459752024\n"
     ]
    },
    {
     "data": {
      "text/plain": [
       "['VNQ', 'BXMT']"
      ]
     },
     "execution_count": 7,
     "metadata": {},
     "output_type": "execute_result"
    }
   ],
   "source": [
    "quote.setup_mask(stat.index)\n",
    "quote.least_correlated_portfolio(21, 2, ['VNQ'])"
   ]
  },
  {
   "cell_type": "code",
   "execution_count": 8,
   "metadata": {},
   "outputs": [
    {
     "name": "stderr",
     "output_type": "stream",
     "text": [
      "/Users/chaoyi/.local/share/virtualenvs/portfolio_analysis-bdMx2S3t/lib/python3.7/site-packages/scipy/optimize/minpack.py:162: RuntimeWarning: The iteration is not making good progress, as measured by the \n",
      "  improvement from the last ten iterations.\n",
      "  warnings.warn(msg, RuntimeWarning)\n"
     ]
    },
    {
     "data": {
      "text/plain": [
       "(Symbols\n",
       " BXMT    0.813174\n",
       " VNQ     0.186826\n",
       " dtype: float64, 2.1385, 1.1398)"
      ]
     },
     "execution_count": 8,
     "metadata": {},
     "output_type": "execute_result"
    }
   ],
   "source": [
    "quote.setup_mask(['BXMT', 'VNQ'])\n",
    "quote.find_optimal_ratio(21, 2)"
   ]
  },
  {
   "cell_type": "code",
   "execution_count": 6,
   "metadata": {},
   "outputs": [
    {
     "data": {
      "text/html": [
       "<div>\n",
       "<style scoped>\n",
       "    .dataframe tbody tr th:only-of-type {\n",
       "        vertical-align: middle;\n",
       "    }\n",
       "\n",
       "    .dataframe tbody tr th {\n",
       "        vertical-align: top;\n",
       "    }\n",
       "\n",
       "    .dataframe thead th {\n",
       "        text-align: right;\n",
       "    }\n",
       "</style>\n",
       "<table border=\"1\" class=\"dataframe\">\n",
       "  <thead>\n",
       "    <tr style=\"text-align: right;\">\n",
       "      <th></th>\n",
       "      <th>count</th>\n",
       "      <th>mean</th>\n",
       "      <th>std</th>\n",
       "      <th>min</th>\n",
       "      <th>25%</th>\n",
       "      <th>50%</th>\n",
       "      <th>75%</th>\n",
       "      <th>max</th>\n",
       "      <th>shrp</th>\n",
       "      <th>drawdown</th>\n",
       "    </tr>\n",
       "  </thead>\n",
       "  <tbody>\n",
       "    <tr>\n",
       "      <th>BXMT</th>\n",
       "      <td>50.0</td>\n",
       "      <td>2.311529</td>\n",
       "      <td>1.212896</td>\n",
       "      <td>-0.871525</td>\n",
       "      <td>1.843134</td>\n",
       "      <td>2.440569</td>\n",
       "      <td>3.279973</td>\n",
       "      <td>4.384921</td>\n",
       "      <td>1.759862</td>\n",
       "      <td>2.677343</td>\n",
       "    </tr>\n",
       "    <tr>\n",
       "      <th>Portfolio</th>\n",
       "      <td>50.0</td>\n",
       "      <td>2.134219</td>\n",
       "      <td>1.139480</td>\n",
       "      <td>-0.699426</td>\n",
       "      <td>1.592412</td>\n",
       "      <td>2.393823</td>\n",
       "      <td>2.855070</td>\n",
       "      <td>4.074016</td>\n",
       "      <td>1.717642</td>\n",
       "      <td>2.428422</td>\n",
       "    </tr>\n",
       "    <tr>\n",
       "      <th>VNQ</th>\n",
       "      <td>50.0</td>\n",
       "      <td>1.385469</td>\n",
       "      <td>2.135025</td>\n",
       "      <td>-2.311019</td>\n",
       "      <td>-0.126578</td>\n",
       "      <td>0.826831</td>\n",
       "      <td>3.235948</td>\n",
       "      <td>5.608280</td>\n",
       "      <td>0.566021</td>\n",
       "      <td>3.975014</td>\n",
       "    </tr>\n",
       "  </tbody>\n",
       "</table>\n",
       "</div>"
      ],
      "text/plain": [
       "           count      mean       std       min       25%       50%       75%  \\\n",
       "BXMT        50.0  2.311529  1.212896 -0.871525  1.843134  2.440569  3.279973   \n",
       "Portfolio   50.0  2.134219  1.139480 -0.699426  1.592412  2.393823  2.855070   \n",
       "VNQ         50.0  1.385469  2.135025 -2.311019 -0.126578  0.826831  3.235948   \n",
       "\n",
       "                max      shrp  drawdown  \n",
       "BXMT       4.384921  1.759862  2.677343  \n",
       "Portfolio  4.074016  1.717642  2.428422  \n",
       "VNQ        5.608280  0.566021  3.975014  "
      ]
     },
     "execution_count": 6,
     "metadata": {},
     "output_type": "execute_result"
    },
    {
     "data": {
      "image/png": "[encoded data removed]",
      "text/plain": [
       "<Figure size 864x576 with 1 Axes>"
      ]
     },
     "metadata": {
      "needs_background": "light"
     },
     "output_type": "display_data"
    }
   ],
   "source": [
    "quote.graph(21, {'BXMT': 0.813174, 'VNQ': 0.186826})"
   ]
  },
  {
   "cell_type": "code",
   "execution_count": null,
   "metadata": {},
   "outputs": [],
   "source": []
  }
 ],
 "metadata": {
  "kernelspec": {
   "display_name": "Python 3",
   "language": "python",
   "name": "python3"
  },
  "language_info": {
   "codemirror_mode": {
    "name": "ipython",
    "version": 3
   },
   "file_extension": ".py",
   "mimetype": "text/x-python",
   "name": "python",
   "nbconvert_exporter": "python",
   "pygments_lexer": "ipython3",
   "version": "3.7.3"
  }
 },
 "nbformat": 4,
 "nbformat_minor": 2
}
