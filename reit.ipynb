{
 "cells": [
  {
   "cell_type": "code",
   "execution_count": 1,
   "metadata": {},
   "outputs": [
    {
     "name": "stdout",
     "output_type": "stream",
     "text": [
      "Populating the interactive namespace from numpy and matplotlib\n"
     ]
    },
    {
     "data": {
      "text/plain": [
       "'from 2019-02-19 to 2019-06-17'"
      ]
     },
     "execution_count": 1,
     "metadata": {},
     "output_type": "execute_result"
    }
   ],
   "source": [
    "%pylab inline\n",
    "from datetime import date\n",
    "from app import create_app\n",
    "from app.instrument import Instrument\n",
    "from app.analysis import Quote\n",
    "with create_app().app_context():\n",
    "    quote = Quote([b.symbol for b in Instrument.find_reits()], 120)\n",
    "f'from {quote.start.date()} to {date.today()}'"
   ]
  },
  {
   "cell_type": "code",
   "execution_count": 2,
   "metadata": {},
   "outputs": [
    {
     "data": {
      "text/html": [
       "<div>\n",
       "<style scoped>\n",
       "    .dataframe tbody tr th:only-of-type {\n",
       "        vertical-align: middle;\n",
       "    }\n",
       "\n",
       "    .dataframe tbody tr th {\n",
       "        vertical-align: top;\n",
       "    }\n",
       "\n",
       "    .dataframe thead th {\n",
       "        text-align: right;\n",
       "    }\n",
       "</style>\n",
       "<table border=\"1\" class=\"dataframe\">\n",
       "  <thead>\n",
       "    <tr style=\"text-align: right;\">\n",
       "      <th></th>\n",
       "      <th>21-len</th>\n",
       "      <th>21-mean</th>\n",
       "      <th>21-std</th>\n",
       "      <th>21-shrp</th>\n",
       "      <th>drawdown</th>\n",
       "    </tr>\n",
       "    <tr>\n",
       "      <th>Symbols</th>\n",
       "      <th></th>\n",
       "      <th></th>\n",
       "      <th></th>\n",
       "      <th></th>\n",
       "      <th></th>\n",
       "    </tr>\n",
       "  </thead>\n",
       "  <tbody>\n",
       "    <tr>\n",
       "      <th>BXMT</th>\n",
       "      <td>62</td>\n",
       "      <td>2.242798</td>\n",
       "      <td>1.136737</td>\n",
       "      <td>1.819065</td>\n",
       "      <td>2.677343</td>\n",
       "    </tr>\n",
       "    <tr>\n",
       "      <th>EQIX</th>\n",
       "      <td>62</td>\n",
       "      <td>4.964285</td>\n",
       "      <td>3.088414</td>\n",
       "      <td>1.550727</td>\n",
       "      <td>4.324717</td>\n",
       "    </tr>\n",
       "    <tr>\n",
       "      <th>INVH</th>\n",
       "      <td>62</td>\n",
       "      <td>4.095498</td>\n",
       "      <td>2.558609</td>\n",
       "      <td>1.532277</td>\n",
       "      <td>3.809150</td>\n",
       "    </tr>\n",
       "    <tr>\n",
       "      <th>WPC</th>\n",
       "      <td>62</td>\n",
       "      <td>4.128284</td>\n",
       "      <td>2.844450</td>\n",
       "      <td>1.389824</td>\n",
       "      <td>4.296338</td>\n",
       "    </tr>\n",
       "    <tr>\n",
       "      <th>BRG</th>\n",
       "      <td>62</td>\n",
       "      <td>3.591874</td>\n",
       "      <td>2.658121</td>\n",
       "      <td>1.285447</td>\n",
       "      <td>4.035088</td>\n",
       "    </tr>\n",
       "    <tr>\n",
       "      <th>PSA</th>\n",
       "      <td>62</td>\n",
       "      <td>4.403425</td>\n",
       "      <td>3.732432</td>\n",
       "      <td>1.132888</td>\n",
       "      <td>4.410452</td>\n",
       "    </tr>\n",
       "    <tr>\n",
       "      <th>PMT</th>\n",
       "      <td>62</td>\n",
       "      <td>2.062678</td>\n",
       "      <td>1.693756</td>\n",
       "      <td>1.114492</td>\n",
       "      <td>4.901510</td>\n",
       "    </tr>\n",
       "    <tr>\n",
       "      <th>AMT</th>\n",
       "      <td>62</td>\n",
       "      <td>4.846282</td>\n",
       "      <td>4.267193</td>\n",
       "      <td>1.094697</td>\n",
       "      <td>4.096787</td>\n",
       "    </tr>\n",
       "    <tr>\n",
       "      <th>GLPI</th>\n",
       "      <td>62</td>\n",
       "      <td>3.259162</td>\n",
       "      <td>3.535525</td>\n",
       "      <td>0.872335</td>\n",
       "      <td>4.020722</td>\n",
       "    </tr>\n",
       "    <tr>\n",
       "      <th>STAG</th>\n",
       "      <td>62</td>\n",
       "      <td>2.702385</td>\n",
       "      <td>2.949453</td>\n",
       "      <td>0.856900</td>\n",
       "      <td>4.545455</td>\n",
       "    </tr>\n",
       "    <tr>\n",
       "      <th>EPR</th>\n",
       "      <td>62</td>\n",
       "      <td>2.360405</td>\n",
       "      <td>2.568135</td>\n",
       "      <td>0.850970</td>\n",
       "      <td>4.396561</td>\n",
       "    </tr>\n",
       "    <tr>\n",
       "      <th>ARI</th>\n",
       "      <td>62</td>\n",
       "      <td>1.691427</td>\n",
       "      <td>1.996970</td>\n",
       "      <td>0.759364</td>\n",
       "      <td>3.719230</td>\n",
       "    </tr>\n",
       "    <tr>\n",
       "      <th>DEA</th>\n",
       "      <td>62</td>\n",
       "      <td>1.914716</td>\n",
       "      <td>2.430071</td>\n",
       "      <td>0.715912</td>\n",
       "      <td>4.901962</td>\n",
       "    </tr>\n",
       "    <tr>\n",
       "      <th>VNQ</th>\n",
       "      <td>62</td>\n",
       "      <td>1.584074</td>\n",
       "      <td>1.989494</td>\n",
       "      <td>0.708258</td>\n",
       "      <td>3.975014</td>\n",
       "    </tr>\n",
       "    <tr>\n",
       "      <th>SCHH</th>\n",
       "      <td>62</td>\n",
       "      <td>1.118420</td>\n",
       "      <td>1.813464</td>\n",
       "      <td>0.520231</td>\n",
       "      <td>4.332364</td>\n",
       "    </tr>\n",
       "    <tr>\n",
       "      <th>STWD</th>\n",
       "      <td>62</td>\n",
       "      <td>1.171375</td>\n",
       "      <td>2.046206</td>\n",
       "      <td>0.486938</td>\n",
       "      <td>4.338395</td>\n",
       "    </tr>\n",
       "    <tr>\n",
       "      <th>DRE</th>\n",
       "      <td>62</td>\n",
       "      <td>1.266133</td>\n",
       "      <td>2.308965</td>\n",
       "      <td>0.472564</td>\n",
       "      <td>4.068454</td>\n",
       "    </tr>\n",
       "  </tbody>\n",
       "</table>\n",
       "</div>"
      ],
      "text/plain": [
       "         21-len   21-mean    21-std   21-shrp  drawdown\n",
       "Symbols                                                \n",
       "BXMT         62  2.242798  1.136737  1.819065  2.677343\n",
       "EQIX         62  4.964285  3.088414  1.550727  4.324717\n",
       "INVH         62  4.095498  2.558609  1.532277  3.809150\n",
       "WPC          62  4.128284  2.844450  1.389824  4.296338\n",
       "BRG          62  3.591874  2.658121  1.285447  4.035088\n",
       "PSA          62  4.403425  3.732432  1.132888  4.410452\n",
       "PMT          62  2.062678  1.693756  1.114492  4.901510\n",
       "AMT          62  4.846282  4.267193  1.094697  4.096787\n",
       "GLPI         62  3.259162  3.535525  0.872335  4.020722\n",
       "STAG         62  2.702385  2.949453  0.856900  4.545455\n",
       "EPR          62  2.360405  2.568135  0.850970  4.396561\n",
       "ARI          62  1.691427  1.996970  0.759364  3.719230\n",
       "DEA          62  1.914716  2.430071  0.715912  4.901962\n",
       "VNQ          62  1.584074  1.989494  0.708258  3.975014\n",
       "SCHH         62  1.118420  1.813464  0.520231  4.332364\n",
       "STWD         62  1.171375  2.046206  0.486938  4.338395\n",
       "DRE          62  1.266133  2.308965  0.472564  4.068454"
      ]
     },
     "execution_count": 2,
     "metadata": {},
     "output_type": "execute_result"
    }
   ],
   "source": [
    "stat = quote.statistics(21)\n",
    "stat = stat[(stat['drawdown'] < 5) & (stat['21-mean'] > 1)]\n",
    "stat"
   ]
  },
  {
   "cell_type": "code",
   "execution_count": 3,
   "metadata": {},
   "outputs": [
    {
     "name": "stdout",
     "output_type": "stream",
     "text": [
      "['BXMT', 'EQIX'] -0.7990584762816617 -0.11504536088562145 1.4004120055735494 -3.3697917656575176\n",
      "['BXMT', 'INVH'] -1.1179881899173725 -0.18062133649632162 1.2972984864429586 -3.3513424898106465\n"
     ]
    },
    {
     "data": {
      "text/plain": [
       "['BXMT', 'INVH']"
      ]
     },
     "execution_count": 3,
     "metadata": {},
     "output_type": "execute_result"
    }
   ],
   "source": [
    "quote.setup_mask(stat.index)\n",
    "quote.least_correlated_portfolio(21, 2, cr=2, dr=2)"
   ]
  },
  {
   "cell_type": "code",
   "execution_count": 4,
   "metadata": {},
   "outputs": [
    {
     "name": "stdout",
     "output_type": "stream",
     "text": [
      "['VNQ', 'BXMT'] 0.4774737919791301 0.1719269849095304 1.3304713366982361 -2.527322851236403\n"
     ]
    },
    {
     "data": {
      "text/plain": [
       "['VNQ', 'BXMT']"
      ]
     },
     "execution_count": 4,
     "metadata": {},
     "output_type": "execute_result"
    }
   ],
   "source": [
    "quote.setup_mask(stat.index)\n",
    "quote.least_correlated_portfolio(21, 2, ['VNQ'], cr=2, dr=2)"
   ]
  },
  {
   "cell_type": "code",
   "execution_count": 5,
   "metadata": {},
   "outputs": [
    {
     "name": "stdout",
     "output_type": "stream",
     "text": [
      "     fun: 1.1097167691776644\n",
      "     jac: array([2.21930955, 2.21992338])\n",
      " message: 'Optimization terminated successfully.'\n",
      "    nfev: 8\n",
      "     nit: 2\n",
      "    njev: 2\n",
      "  status: 0\n",
      " success: True\n",
      "       x: array([0.79795754, 0.20204246])\n"
     ]
    },
    {
     "name": "stderr",
     "output_type": "stream",
     "text": [
      "/Users/chaoyi/.local/share/virtualenvs/portfolio_analysis-bdMx2S3t/lib/python3.7/site-packages/scipy/optimize/minpack.py:162: RuntimeWarning: The iteration is not making good progress, as measured by the \n",
      "  improvement from the last ten iterations.\n",
      "  warnings.warn(msg, RuntimeWarning)\n"
     ]
    },
    {
     "data": {
      "text/plain": [
       "({'BXMT': 0.7979575432820266, 'VNQ': 0.20204245671797338}, 2.1097, 1.0534)"
      ]
     },
     "execution_count": 5,
     "metadata": {},
     "output_type": "execute_result"
    }
   ],
   "source": [
    "quote.setup_mask(['BXMT', 'VNQ'])\n",
    "quote.find_optimal_ratio(21, 2)"
   ]
  },
  {
   "cell_type": "code",
   "execution_count": null,
   "metadata": {},
   "outputs": [],
   "source": [
    "quote.graph(21, {'BXMT': 0.7972756874004041, 'VNQ': 0.20272431259959584})"
   ]
  },
  {
   "cell_type": "code",
   "execution_count": null,
   "metadata": {},
   "outputs": [],
   "source": []
  }
 ],
 "metadata": {
  "kernelspec": {
   "display_name": "Python 3",
   "language": "python",
   "name": "python3"
  },
  "language_info": {
   "codemirror_mode": {
    "name": "ipython",
    "version": 3
   },
   "file_extension": ".py",
   "mimetype": "text/x-python",
   "name": "python",
   "nbconvert_exporter": "python",
   "pygments_lexer": "ipython3",
   "version": "3.7.3"
  }
 },
 "nbformat": 4,
 "nbformat_minor": 2
}
