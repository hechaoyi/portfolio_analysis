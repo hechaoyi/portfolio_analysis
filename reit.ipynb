{
 "cells": [
  {
   "cell_type": "code",
   "execution_count": 1,
   "metadata": {},
   "outputs": [
    {
     "name": "stdout",
     "output_type": "stream",
     "text": [
      "Populating the interactive namespace from numpy and matplotlib\n"
     ]
    },
    {
     "data": {
      "text/plain": [
       "'from 2019-02-11 to 2019-06-11'"
      ]
     },
     "execution_count": 1,
     "metadata": {},
     "output_type": "execute_result"
    }
   ],
   "source": [
    "%pylab inline\n",
    "from datetime import date\n",
    "from app import create_app\n",
    "from app.instrument import Instrument\n",
    "from app.analysis import Quote\n",
    "with create_app().app_context():\n",
    "    quote = Quote([b.symbol for b in Instrument.find_reits()], 120)\n",
    "f'from {quote.start.date()} to {date.today()}'"
   ]
  },
  {
   "cell_type": "code",
   "execution_count": 2,
   "metadata": {},
   "outputs": [
    {
     "data": {
      "text/html": [
       "<div>\n",
       "<style scoped>\n",
       "    .dataframe tbody tr th:only-of-type {\n",
       "        vertical-align: middle;\n",
       "    }\n",
       "\n",
       "    .dataframe tbody tr th {\n",
       "        vertical-align: top;\n",
       "    }\n",
       "\n",
       "    .dataframe thead th {\n",
       "        text-align: right;\n",
       "    }\n",
       "</style>\n",
       "<table border=\"1\" class=\"dataframe\">\n",
       "  <thead>\n",
       "    <tr style=\"text-align: right;\">\n",
       "      <th></th>\n",
       "      <th>21-len</th>\n",
       "      <th>21-mean</th>\n",
       "      <th>21-std</th>\n",
       "      <th>21-shrp</th>\n",
       "      <th>drawdown</th>\n",
       "    </tr>\n",
       "    <tr>\n",
       "      <th>Symbols</th>\n",
       "      <th></th>\n",
       "      <th></th>\n",
       "      <th></th>\n",
       "      <th></th>\n",
       "      <th></th>\n",
       "    </tr>\n",
       "  </thead>\n",
       "  <tbody>\n",
       "    <tr>\n",
       "      <th>BXMT</th>\n",
       "      <td>63</td>\n",
       "      <td>2.245570</td>\n",
       "      <td>1.224939</td>\n",
       "      <td>1.691366</td>\n",
       "      <td>3.151201</td>\n",
       "    </tr>\n",
       "    <tr>\n",
       "      <th>INVH</th>\n",
       "      <td>63</td>\n",
       "      <td>3.692646</td>\n",
       "      <td>2.262609</td>\n",
       "      <td>1.555238</td>\n",
       "      <td>3.809150</td>\n",
       "    </tr>\n",
       "    <tr>\n",
       "      <th>EQIX</th>\n",
       "      <td>63</td>\n",
       "      <td>5.297732</td>\n",
       "      <td>3.397139</td>\n",
       "      <td>1.508323</td>\n",
       "      <td>4.324717</td>\n",
       "    </tr>\n",
       "    <tr>\n",
       "      <th>WPC</th>\n",
       "      <td>63</td>\n",
       "      <td>3.804465</td>\n",
       "      <td>2.790286</td>\n",
       "      <td>1.301198</td>\n",
       "      <td>4.296338</td>\n",
       "    </tr>\n",
       "    <tr>\n",
       "      <th>BRG</th>\n",
       "      <td>63</td>\n",
       "      <td>3.274351</td>\n",
       "      <td>2.414626</td>\n",
       "      <td>1.284092</td>\n",
       "      <td>4.035088</td>\n",
       "    </tr>\n",
       "    <tr>\n",
       "      <th>AMT</th>\n",
       "      <td>63</td>\n",
       "      <td>5.027682</td>\n",
       "      <td>4.315909</td>\n",
       "      <td>1.124661</td>\n",
       "      <td>4.096787</td>\n",
       "    </tr>\n",
       "    <tr>\n",
       "      <th>EPR</th>\n",
       "      <td>63</td>\n",
       "      <td>2.438065</td>\n",
       "      <td>2.513310</td>\n",
       "      <td>0.900929</td>\n",
       "      <td>4.396561</td>\n",
       "    </tr>\n",
       "    <tr>\n",
       "      <th>GLPI</th>\n",
       "      <td>63</td>\n",
       "      <td>3.084881</td>\n",
       "      <td>3.610909</td>\n",
       "      <td>0.806204</td>\n",
       "      <td>4.783679</td>\n",
       "    </tr>\n",
       "    <tr>\n",
       "      <th>ARI</th>\n",
       "      <td>63</td>\n",
       "      <td>1.715437</td>\n",
       "      <td>2.029544</td>\n",
       "      <td>0.759622</td>\n",
       "      <td>3.719230</td>\n",
       "    </tr>\n",
       "    <tr>\n",
       "      <th>STAG</th>\n",
       "      <td>63</td>\n",
       "      <td>2.316637</td>\n",
       "      <td>2.833382</td>\n",
       "      <td>0.756300</td>\n",
       "      <td>4.545455</td>\n",
       "    </tr>\n",
       "    <tr>\n",
       "      <th>VNQ</th>\n",
       "      <td>63</td>\n",
       "      <td>1.501723</td>\n",
       "      <td>1.967340</td>\n",
       "      <td>0.675009</td>\n",
       "      <td>3.975014</td>\n",
       "    </tr>\n",
       "    <tr>\n",
       "      <th>DEA</th>\n",
       "      <td>63</td>\n",
       "      <td>1.743555</td>\n",
       "      <td>2.482419</td>\n",
       "      <td>0.632369</td>\n",
       "      <td>4.901962</td>\n",
       "    </tr>\n",
       "    <tr>\n",
       "      <th>STWD</th>\n",
       "      <td>63</td>\n",
       "      <td>1.281766</td>\n",
       "      <td>2.085670</td>\n",
       "      <td>0.531252</td>\n",
       "      <td>4.338395</td>\n",
       "    </tr>\n",
       "    <tr>\n",
       "      <th>SCHH</th>\n",
       "      <td>63</td>\n",
       "      <td>1.044330</td>\n",
       "      <td>1.812555</td>\n",
       "      <td>0.480305</td>\n",
       "      <td>4.332364</td>\n",
       "    </tr>\n",
       "    <tr>\n",
       "      <th>DRE</th>\n",
       "      <td>63</td>\n",
       "      <td>1.189850</td>\n",
       "      <td>2.209167</td>\n",
       "      <td>0.459947</td>\n",
       "      <td>4.068454</td>\n",
       "    </tr>\n",
       "    <tr>\n",
       "      <th>CIM</th>\n",
       "      <td>63</td>\n",
       "      <td>1.035585</td>\n",
       "      <td>2.188443</td>\n",
       "      <td>0.393812</td>\n",
       "      <td>4.851332</td>\n",
       "    </tr>\n",
       "  </tbody>\n",
       "</table>\n",
       "</div>"
      ],
      "text/plain": [
       "         21-len   21-mean    21-std   21-shrp  drawdown\n",
       "Symbols                                                \n",
       "BXMT         63  2.245570  1.224939  1.691366  3.151201\n",
       "INVH         63  3.692646  2.262609  1.555238  3.809150\n",
       "EQIX         63  5.297732  3.397139  1.508323  4.324717\n",
       "WPC          63  3.804465  2.790286  1.301198  4.296338\n",
       "BRG          63  3.274351  2.414626  1.284092  4.035088\n",
       "AMT          63  5.027682  4.315909  1.124661  4.096787\n",
       "EPR          63  2.438065  2.513310  0.900929  4.396561\n",
       "GLPI         63  3.084881  3.610909  0.806204  4.783679\n",
       "ARI          63  1.715437  2.029544  0.759622  3.719230\n",
       "STAG         63  2.316637  2.833382  0.756300  4.545455\n",
       "VNQ          63  1.501723  1.967340  0.675009  3.975014\n",
       "DEA          63  1.743555  2.482419  0.632369  4.901962\n",
       "STWD         63  1.281766  2.085670  0.531252  4.338395\n",
       "SCHH         63  1.044330  1.812555  0.480305  4.332364\n",
       "DRE          63  1.189850  2.209167  0.459947  4.068454\n",
       "CIM          63  1.035585  2.188443  0.393812  4.851332"
      ]
     },
     "execution_count": 2,
     "metadata": {},
     "output_type": "execute_result"
    }
   ],
   "source": [
    "stat = quote.statistics(21)\n",
    "stat = stat[(stat['drawdown'] < 5) & (stat['21-mean'] > 1)]\n",
    "stat"
   ]
  },
  {
   "cell_type": "code",
   "execution_count": 3,
   "metadata": {},
   "outputs": [
    {
     "name": "stdout",
     "output_type": "stream",
     "text": [
      "['BXMT', 'INVH'] -2.0416796290821697 -0.1871455440305524 1.3920701463319425 -3.24660423138356\n"
     ]
    },
    {
     "data": {
      "text/plain": [
       "['BXMT', 'INVH']"
      ]
     },
     "execution_count": 3,
     "metadata": {},
     "output_type": "execute_result"
    }
   ],
   "source": [
    "quote.setup_mask(stat.index)\n",
    "quote.least_correlated_portfolio(21, 2)"
   ]
  },
  {
   "cell_type": "code",
   "execution_count": 4,
   "metadata": {},
   "outputs": [
    {
     "name": "stdout",
     "output_type": "stream",
     "text": [
      "['VNQ', 'BXMT'] -0.8116234574976324 0.12950851605329916 1.42524299658722 -2.3663749701381516\n"
     ]
    },
    {
     "data": {
      "text/plain": [
       "['VNQ', 'BXMT']"
      ]
     },
     "execution_count": 4,
     "metadata": {},
     "output_type": "execute_result"
    }
   ],
   "source": [
    "quote.setup_mask(stat.index)\n",
    "quote.least_correlated_portfolio(21, 2, ['VNQ'])"
   ]
  },
  {
   "cell_type": "code",
   "execution_count": 5,
   "metadata": {},
   "outputs": [
    {
     "name": "stdout",
     "output_type": "stream",
     "text": [
      "     fun: 1.2029601382716308\n",
      "     jac: array([2.40351729, 2.41307718])\n",
      " message: 'Optimization terminated successfully.'\n",
      "    nfev: 8\n",
      "     nit: 2\n",
      "    njev: 2\n",
      "  status: 0\n",
      " success: True\n",
      "       x: array([0.74863481, 0.25136519])\n"
     ]
    },
    {
     "name": "stderr",
     "output_type": "stream",
     "text": [
      "/Users/chaoyi/.local/share/virtualenvs/portfolio_analysis-bdMx2S3t/lib/python3.7/site-packages/scipy/optimize/minpack.py:162: RuntimeWarning: The iteration is not making good progress, as measured by the \n",
      "  improvement from the last ten iterations.\n",
      "  warnings.warn(msg, RuntimeWarning)\n"
     ]
    },
    {
     "data": {
      "text/plain": [
       "({'BXMT': 0.7486348050222835, 'VNQ': 0.25136519497771653}, 2.0586, 1.0968)"
      ]
     },
     "execution_count": 5,
     "metadata": {},
     "output_type": "execute_result"
    }
   ],
   "source": [
    "quote.setup_mask(['BXMT', 'VNQ'])\n",
    "quote.find_optimal_ratio(21, 2)"
   ]
  },
  {
   "cell_type": "code",
   "execution_count": 6,
   "metadata": {},
   "outputs": [
    {
     "data": {
      "text/html": [
       "<div>\n",
       "<style scoped>\n",
       "    .dataframe tbody tr th:only-of-type {\n",
       "        vertical-align: middle;\n",
       "    }\n",
       "\n",
       "    .dataframe tbody tr th {\n",
       "        vertical-align: top;\n",
       "    }\n",
       "\n",
       "    .dataframe thead th {\n",
       "        text-align: right;\n",
       "    }\n",
       "</style>\n",
       "<table border=\"1\" class=\"dataframe\">\n",
       "  <thead>\n",
       "    <tr style=\"text-align: right;\">\n",
       "      <th></th>\n",
       "      <th>count</th>\n",
       "      <th>mean</th>\n",
       "      <th>std</th>\n",
       "      <th>min</th>\n",
       "      <th>25%</th>\n",
       "      <th>50%</th>\n",
       "      <th>75%</th>\n",
       "      <th>max</th>\n",
       "      <th>shrp</th>\n",
       "      <th>drawdown</th>\n",
       "    </tr>\n",
       "  </thead>\n",
       "  <tbody>\n",
       "    <tr>\n",
       "      <th>Portfolio</th>\n",
       "      <td>63.0</td>\n",
       "      <td>2.053256</td>\n",
       "      <td>1.096548</td>\n",
       "      <td>-0.639755</td>\n",
       "      <td>1.320421</td>\n",
       "      <td>2.184993</td>\n",
       "      <td>2.742173</td>\n",
       "      <td>4.196689</td>\n",
       "      <td>1.714021</td>\n",
       "      <td>2.342020</td>\n",
       "    </tr>\n",
       "    <tr>\n",
       "      <th>BXMT</th>\n",
       "      <td>63.0</td>\n",
       "      <td>2.245570</td>\n",
       "      <td>1.224939</td>\n",
       "      <td>-0.871525</td>\n",
       "      <td>1.590127</td>\n",
       "      <td>2.421245</td>\n",
       "      <td>3.235643</td>\n",
       "      <td>4.384921</td>\n",
       "      <td>1.691366</td>\n",
       "      <td>3.151201</td>\n",
       "    </tr>\n",
       "    <tr>\n",
       "      <th>VNQ</th>\n",
       "      <td>63.0</td>\n",
       "      <td>1.501723</td>\n",
       "      <td>1.967340</td>\n",
       "      <td>-2.311019</td>\n",
       "      <td>0.065053</td>\n",
       "      <td>1.293051</td>\n",
       "      <td>3.053851</td>\n",
       "      <td>5.608280</td>\n",
       "      <td>0.675009</td>\n",
       "      <td>3.975014</td>\n",
       "    </tr>\n",
       "  </tbody>\n",
       "</table>\n",
       "</div>"
      ],
      "text/plain": [
       "           count      mean       std       min       25%       50%       75%  \\\n",
       "Portfolio   63.0  2.053256  1.096548 -0.639755  1.320421  2.184993  2.742173   \n",
       "BXMT        63.0  2.245570  1.224939 -0.871525  1.590127  2.421245  3.235643   \n",
       "VNQ         63.0  1.501723  1.967340 -2.311019  0.065053  1.293051  3.053851   \n",
       "\n",
       "                max      shrp  drawdown  \n",
       "Portfolio  4.196689  1.714021  2.342020  \n",
       "BXMT       4.384921  1.691366  3.151201  \n",
       "VNQ        5.608280  0.675009  3.975014  "
      ]
     },
     "execution_count": 6,
     "metadata": {},
     "output_type": "execute_result"
    },
    {
     "data": {
      "image/png": "[encoded data removed]",
      "text/plain": [
       "<Figure size 864x576 with 1 Axes>"
      ]
     },
     "metadata": {
      "needs_background": "light"
     },
     "output_type": "display_data"
    }
   ],
   "source": [
    "quote.graph(21, {'BXMT': 0.7486348050222835, 'VNQ': 0.25136519497771653})"
   ]
  },
  {
   "cell_type": "code",
   "execution_count": null,
   "metadata": {},
   "outputs": [],
   "source": []
  }
 ],
 "metadata": {
  "kernelspec": {
   "display_name": "Python 3",
   "language": "python",
   "name": "python3"
  },
  "language_info": {
   "codemirror_mode": {
    "name": "ipython",
    "version": 3
   },
   "file_extension": ".py",
   "mimetype": "text/x-python",
   "name": "python",
   "nbconvert_exporter": "python",
   "pygments_lexer": "ipython3",
   "version": "3.7.3"
  }
 },
 "nbformat": 4,
 "nbformat_minor": 2
}
