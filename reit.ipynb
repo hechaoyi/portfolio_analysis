{
 "cells": [
  {
   "cell_type": "code",
   "execution_count": 1,
   "metadata": {},
   "outputs": [
    {
     "name": "stdout",
     "output_type": "stream",
     "text": [
      "Populating the interactive namespace from numpy and matplotlib\n"
     ]
    },
    {
     "data": {
      "text/plain": [
       "'from 2019-02-19 to 2019-06-18'"
      ]
     },
     "execution_count": 1,
     "metadata": {},
     "output_type": "execute_result"
    }
   ],
   "source": [
    "%pylab inline\n",
    "from app import create_app\n",
    "from app.instrument import Instrument\n",
    "from app.analysis import Quote\n",
    "with create_app().app_context():\n",
    "    quote = Quote([b.symbol for b in Instrument.find_reits()], 120)\n",
    "f'from {quote.start.date()} to {quote.end.date()}'"
   ]
  },
  {
   "cell_type": "code",
   "execution_count": 2,
   "metadata": {},
   "outputs": [
    {
     "data": {
      "text/html": [
       "<div>\n",
       "<style scoped>\n",
       "    .dataframe tbody tr th:only-of-type {\n",
       "        vertical-align: middle;\n",
       "    }\n",
       "\n",
       "    .dataframe tbody tr th {\n",
       "        vertical-align: top;\n",
       "    }\n",
       "\n",
       "    .dataframe thead th {\n",
       "        text-align: right;\n",
       "    }\n",
       "</style>\n",
       "<table border=\"1\" class=\"dataframe\">\n",
       "  <thead>\n",
       "    <tr style=\"text-align: right;\">\n",
       "      <th></th>\n",
       "      <th>21-len</th>\n",
       "      <th>21-mean</th>\n",
       "      <th>21-std</th>\n",
       "      <th>21-shrp</th>\n",
       "      <th>drawdown</th>\n",
       "    </tr>\n",
       "    <tr>\n",
       "      <th>Symbols</th>\n",
       "      <th></th>\n",
       "      <th></th>\n",
       "      <th></th>\n",
       "      <th></th>\n",
       "      <th></th>\n",
       "    </tr>\n",
       "  </thead>\n",
       "  <tbody>\n",
       "    <tr>\n",
       "      <th>BXMT</th>\n",
       "      <td>63</td>\n",
       "      <td>2.228020</td>\n",
       "      <td>1.134396</td>\n",
       "      <td>1.809792</td>\n",
       "      <td>2.677343</td>\n",
       "    </tr>\n",
       "    <tr>\n",
       "      <th>EQIX</th>\n",
       "      <td>63</td>\n",
       "      <td>4.940865</td>\n",
       "      <td>3.070811</td>\n",
       "      <td>1.551989</td>\n",
       "      <td>4.324717</td>\n",
       "    </tr>\n",
       "    <tr>\n",
       "      <th>INVH</th>\n",
       "      <td>63</td>\n",
       "      <td>4.173265</td>\n",
       "      <td>2.610643</td>\n",
       "      <td>1.531525</td>\n",
       "      <td>3.809150</td>\n",
       "    </tr>\n",
       "    <tr>\n",
       "      <th>WPC</th>\n",
       "      <td>63</td>\n",
       "      <td>4.155951</td>\n",
       "      <td>2.830839</td>\n",
       "      <td>1.406279</td>\n",
       "      <td>4.296338</td>\n",
       "    </tr>\n",
       "    <tr>\n",
       "      <th>BRG</th>\n",
       "      <td>63</td>\n",
       "      <td>3.683884</td>\n",
       "      <td>2.717890</td>\n",
       "      <td>1.291032</td>\n",
       "      <td>4.035088</td>\n",
       "    </tr>\n",
       "    <tr>\n",
       "      <th>PMT</th>\n",
       "      <td>63</td>\n",
       "      <td>2.267863</td>\n",
       "      <td>1.774192</td>\n",
       "      <td>1.179615</td>\n",
       "      <td>4.901510</td>\n",
       "    </tr>\n",
       "    <tr>\n",
       "      <th>PSA</th>\n",
       "      <td>63</td>\n",
       "      <td>4.433551</td>\n",
       "      <td>3.712408</td>\n",
       "      <td>1.147113</td>\n",
       "      <td>4.410452</td>\n",
       "    </tr>\n",
       "    <tr>\n",
       "      <th>AMT</th>\n",
       "      <td>63</td>\n",
       "      <td>4.876435</td>\n",
       "      <td>4.238284</td>\n",
       "      <td>1.109278</td>\n",
       "      <td>4.096795</td>\n",
       "    </tr>\n",
       "    <tr>\n",
       "      <th>GLPI</th>\n",
       "      <td>63</td>\n",
       "      <td>3.256510</td>\n",
       "      <td>3.505519</td>\n",
       "      <td>0.879045</td>\n",
       "      <td>4.020722</td>\n",
       "    </tr>\n",
       "    <tr>\n",
       "      <th>STAG</th>\n",
       "      <td>63</td>\n",
       "      <td>2.754469</td>\n",
       "      <td>2.954078</td>\n",
       "      <td>0.873189</td>\n",
       "      <td>4.545462</td>\n",
       "    </tr>\n",
       "    <tr>\n",
       "      <th>EPR</th>\n",
       "      <td>63</td>\n",
       "      <td>2.347272</td>\n",
       "      <td>2.545867</td>\n",
       "      <td>0.853254</td>\n",
       "      <td>4.396561</td>\n",
       "    </tr>\n",
       "    <tr>\n",
       "      <th>ARI</th>\n",
       "      <td>63</td>\n",
       "      <td>1.679223</td>\n",
       "      <td>1.987179</td>\n",
       "      <td>0.756964</td>\n",
       "      <td>3.719230</td>\n",
       "    </tr>\n",
       "    <tr>\n",
       "      <th>VNQ</th>\n",
       "      <td>63</td>\n",
       "      <td>1.612758</td>\n",
       "      <td>1.985469</td>\n",
       "      <td>0.724140</td>\n",
       "      <td>3.975014</td>\n",
       "    </tr>\n",
       "    <tr>\n",
       "      <th>DEA</th>\n",
       "      <td>63</td>\n",
       "      <td>1.901202</td>\n",
       "      <td>2.411849</td>\n",
       "      <td>0.715717</td>\n",
       "      <td>4.901962</td>\n",
       "    </tr>\n",
       "    <tr>\n",
       "      <th>SCHH</th>\n",
       "      <td>63</td>\n",
       "      <td>1.137360</td>\n",
       "      <td>1.804518</td>\n",
       "      <td>0.533306</td>\n",
       "      <td>4.332364</td>\n",
       "    </tr>\n",
       "    <tr>\n",
       "      <th>DRE</th>\n",
       "      <td>63</td>\n",
       "      <td>1.325578</td>\n",
       "      <td>2.336314</td>\n",
       "      <td>0.492476</td>\n",
       "      <td>4.068454</td>\n",
       "    </tr>\n",
       "    <tr>\n",
       "      <th>STWD</th>\n",
       "      <td>63</td>\n",
       "      <td>1.172074</td>\n",
       "      <td>2.033716</td>\n",
       "      <td>0.490272</td>\n",
       "      <td>4.338395</td>\n",
       "    </tr>\n",
       "  </tbody>\n",
       "</table>\n",
       "</div>"
      ],
      "text/plain": [
       "         21-len   21-mean    21-std   21-shrp  drawdown\n",
       "Symbols                                                \n",
       "BXMT         63  2.228020  1.134396  1.809792  2.677343\n",
       "EQIX         63  4.940865  3.070811  1.551989  4.324717\n",
       "INVH         63  4.173265  2.610643  1.531525  3.809150\n",
       "WPC          63  4.155951  2.830839  1.406279  4.296338\n",
       "BRG          63  3.683884  2.717890  1.291032  4.035088\n",
       "PMT          63  2.267863  1.774192  1.179615  4.901510\n",
       "PSA          63  4.433551  3.712408  1.147113  4.410452\n",
       "AMT          63  4.876435  4.238284  1.109278  4.096795\n",
       "GLPI         63  3.256510  3.505519  0.879045  4.020722\n",
       "STAG         63  2.754469  2.954078  0.873189  4.545462\n",
       "EPR          63  2.347272  2.545867  0.853254  4.396561\n",
       "ARI          63  1.679223  1.987179  0.756964  3.719230\n",
       "VNQ          63  1.612758  1.985469  0.724140  3.975014\n",
       "DEA          63  1.901202  2.411849  0.715717  4.901962\n",
       "SCHH         63  1.137360  1.804518  0.533306  4.332364\n",
       "DRE          63  1.325578  2.336314  0.492476  4.068454\n",
       "STWD         63  1.172074  2.033716  0.490272  4.338395"
      ]
     },
     "execution_count": 2,
     "metadata": {},
     "output_type": "execute_result"
    }
   ],
   "source": [
    "stat = quote.statistics(21)\n",
    "stat = stat[(stat['drawdown'] < 5) & (stat['21-mean'] > 1)]\n",
    "stat"
   ]
  },
  {
   "cell_type": "code",
   "execution_count": 3,
   "metadata": {},
   "outputs": [
    {
     "name": "stdout",
     "output_type": "stream",
     "text": [
      "['VNQ', 'BXMT'] 0.44206520818128725 0.15752723475114738 1.3304713366982361 -2.53393193471748\n"
     ]
    },
    {
     "data": {
      "text/plain": [
       "['VNQ', 'BXMT']"
      ]
     },
     "execution_count": 3,
     "metadata": {},
     "output_type": "execute_result"
    }
   ],
   "source": [
    "quote.setup_mask(stat.index)\n",
    "quote.least_correlated_portfolio(21, 2, ['VNQ'], cr=2, dr=2)"
   ]
  },
  {
   "cell_type": "code",
   "execution_count": 4,
   "metadata": {},
   "outputs": [
    {
     "name": "stdout",
     "output_type": "stream",
     "text": [
      "     fun: 1.0946307565237814\n",
      "     jac: array([2.18997557, 2.18650688])\n",
      " message: 'Optimization terminated successfully.'\n",
      "    nfev: 8\n",
      "     nit: 2\n",
      "    njev: 2\n",
      "  status: 0\n",
      " success: True\n",
      "       x: array([0.79414709, 0.20585291])\n"
     ]
    },
    {
     "name": "stderr",
     "output_type": "stream",
     "text": [
      "/Users/chaoyi/.local/share/virtualenvs/portfolio_analysis-bdMx2S3t/lib/python3.7/site-packages/scipy/optimize/minpack.py:162: RuntimeWarning: The iteration is not making good progress, as measured by the \n",
      "  improvement from the last ten iterations.\n",
      "  warnings.warn(msg, RuntimeWarning)\n"
     ]
    },
    {
     "data": {
      "text/plain": [
       "({'BXMT': 0.7941470897116019, 'VNQ': 0.20585291028839814}, 2.1014, 1.0462)"
      ]
     },
     "execution_count": 4,
     "metadata": {},
     "output_type": "execute_result"
    }
   ],
   "source": [
    "quote.setup_mask(['BXMT', 'VNQ'])\n",
    "quote.find_optimal_ratio(21, 2)"
   ]
  },
  {
   "cell_type": "code",
   "execution_count": null,
   "metadata": {},
   "outputs": [],
   "source": [
    "quote.graph(21, {'BXMT': 0.79, 'VNQ': 0.21})"
   ]
  },
  {
   "cell_type": "code",
   "execution_count": null,
   "metadata": {},
   "outputs": [],
   "source": []
  }
 ],
 "metadata": {
  "kernelspec": {
   "display_name": "Python 3",
   "language": "python",
   "name": "python3"
  },
  "language_info": {
   "codemirror_mode": {
    "name": "ipython",
    "version": 3
   },
   "file_extension": ".py",
   "mimetype": "text/x-python",
   "name": "python",
   "nbconvert_exporter": "python",
   "pygments_lexer": "ipython3",
   "version": "3.7.3"
  }
 },
 "nbformat": 4,
 "nbformat_minor": 2
}
