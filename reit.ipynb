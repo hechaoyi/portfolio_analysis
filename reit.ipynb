{
 "cells": [
  {
   "cell_type": "code",
   "execution_count": 1,
   "metadata": {},
   "outputs": [
    {
     "name": "stdout",
     "output_type": "stream",
     "text": [
      "Populating the interactive namespace from numpy and matplotlib\n"
     ]
    },
    {
     "data": {
      "text/plain": [
       "'from 2019-02-19 to 2019-06-19'"
      ]
     },
     "execution_count": 1,
     "metadata": {},
     "output_type": "execute_result"
    }
   ],
   "source": [
    "%pylab inline\n",
    "from app import create_app\n",
    "from app.instrument import Instrument\n",
    "from app.analysis import Quote\n",
    "with create_app().app_context():\n",
    "    quote = Quote([b.symbol for b in Instrument.find_reits()], 120)\n",
    "f'from {quote.start.date()} to {quote.end.date()}'"
   ]
  },
  {
   "cell_type": "code",
   "execution_count": 2,
   "metadata": {},
   "outputs": [
    {
     "data": {
      "text/html": [
       "<div>\n",
       "<style scoped>\n",
       "    .dataframe tbody tr th:only-of-type {\n",
       "        vertical-align: middle;\n",
       "    }\n",
       "\n",
       "    .dataframe tbody tr th {\n",
       "        vertical-align: top;\n",
       "    }\n",
       "\n",
       "    .dataframe thead th {\n",
       "        text-align: right;\n",
       "    }\n",
       "</style>\n",
       "<table border=\"1\" class=\"dataframe\">\n",
       "  <thead>\n",
       "    <tr style=\"text-align: right;\">\n",
       "      <th></th>\n",
       "      <th>21-len</th>\n",
       "      <th>21-mean</th>\n",
       "      <th>21-std</th>\n",
       "      <th>21-shrp</th>\n",
       "      <th>drawdown</th>\n",
       "    </tr>\n",
       "    <tr>\n",
       "      <th>symbol</th>\n",
       "      <th></th>\n",
       "      <th></th>\n",
       "      <th></th>\n",
       "      <th></th>\n",
       "      <th></th>\n",
       "    </tr>\n",
       "  </thead>\n",
       "  <tbody>\n",
       "    <tr>\n",
       "      <th>BXMT</th>\n",
       "      <td>64</td>\n",
       "      <td>2.225363</td>\n",
       "      <td>1.125749</td>\n",
       "      <td>1.821332</td>\n",
       "      <td>2.677339</td>\n",
       "    </tr>\n",
       "    <tr>\n",
       "      <th>EQIX</th>\n",
       "      <td>64</td>\n",
       "      <td>4.970846</td>\n",
       "      <td>3.056064</td>\n",
       "      <td>1.569288</td>\n",
       "      <td>4.324718</td>\n",
       "    </tr>\n",
       "    <tr>\n",
       "      <th>INVH</th>\n",
       "      <td>64</td>\n",
       "      <td>4.270598</td>\n",
       "      <td>2.705076</td>\n",
       "      <td>1.514042</td>\n",
       "      <td>3.809142</td>\n",
       "    </tr>\n",
       "    <tr>\n",
       "      <th>WPC</th>\n",
       "      <td>64</td>\n",
       "      <td>4.192877</td>\n",
       "      <td>2.827495</td>\n",
       "      <td>1.421002</td>\n",
       "      <td>4.296334</td>\n",
       "    </tr>\n",
       "    <tr>\n",
       "      <th>BRG</th>\n",
       "      <td>64</td>\n",
       "      <td>3.743693</td>\n",
       "      <td>2.726859</td>\n",
       "      <td>1.308719</td>\n",
       "      <td>4.035088</td>\n",
       "    </tr>\n",
       "    <tr>\n",
       "      <th>PMT</th>\n",
       "      <td>64</td>\n",
       "      <td>2.299943</td>\n",
       "      <td>1.779286</td>\n",
       "      <td>1.194268</td>\n",
       "      <td>4.901512</td>\n",
       "    </tr>\n",
       "    <tr>\n",
       "      <th>PSA</th>\n",
       "      <td>64</td>\n",
       "      <td>4.456563</td>\n",
       "      <td>3.687444</td>\n",
       "      <td>1.161120</td>\n",
       "      <td>4.410453</td>\n",
       "    </tr>\n",
       "    <tr>\n",
       "      <th>AMT</th>\n",
       "      <td>64</td>\n",
       "      <td>4.948132</td>\n",
       "      <td>4.244758</td>\n",
       "      <td>1.124477</td>\n",
       "      <td>4.096787</td>\n",
       "    </tr>\n",
       "    <tr>\n",
       "      <th>GLPI</th>\n",
       "      <td>64</td>\n",
       "      <td>3.289139</td>\n",
       "      <td>3.487372</td>\n",
       "      <td>0.892976</td>\n",
       "      <td>4.020720</td>\n",
       "    </tr>\n",
       "    <tr>\n",
       "      <th>STAG</th>\n",
       "      <td>64</td>\n",
       "      <td>2.832475</td>\n",
       "      <td>2.994473</td>\n",
       "      <td>0.887460</td>\n",
       "      <td>4.545455</td>\n",
       "    </tr>\n",
       "    <tr>\n",
       "      <th>EPR</th>\n",
       "      <td>64</td>\n",
       "      <td>2.363296</td>\n",
       "      <td>2.525685</td>\n",
       "      <td>0.866417</td>\n",
       "      <td>4.396573</td>\n",
       "    </tr>\n",
       "    <tr>\n",
       "      <th>ARI</th>\n",
       "      <td>64</td>\n",
       "      <td>1.666553</td>\n",
       "      <td>1.964100</td>\n",
       "      <td>0.759408</td>\n",
       "      <td>3.719225</td>\n",
       "    </tr>\n",
       "    <tr>\n",
       "      <th>VNQ</th>\n",
       "      <td>64</td>\n",
       "      <td>1.665885</td>\n",
       "      <td>2.017895</td>\n",
       "      <td>0.738832</td>\n",
       "      <td>3.975014</td>\n",
       "    </tr>\n",
       "    <tr>\n",
       "      <th>DEA</th>\n",
       "      <td>64</td>\n",
       "      <td>1.910470</td>\n",
       "      <td>2.393508</td>\n",
       "      <td>0.725074</td>\n",
       "      <td>4.901961</td>\n",
       "    </tr>\n",
       "    <tr>\n",
       "      <th>SCHH</th>\n",
       "      <td>64</td>\n",
       "      <td>1.177161</td>\n",
       "      <td>1.818627</td>\n",
       "      <td>0.551054</td>\n",
       "      <td>4.332371</td>\n",
       "    </tr>\n",
       "    <tr>\n",
       "      <th>DRE</th>\n",
       "      <td>64</td>\n",
       "      <td>1.406038</td>\n",
       "      <td>2.410756</td>\n",
       "      <td>0.510644</td>\n",
       "      <td>4.068453</td>\n",
       "    </tr>\n",
       "    <tr>\n",
       "      <th>STWD</th>\n",
       "      <td>64</td>\n",
       "      <td>1.185143</td>\n",
       "      <td>2.018452</td>\n",
       "      <td>0.500454</td>\n",
       "      <td>4.338395</td>\n",
       "    </tr>\n",
       "  </tbody>\n",
       "</table>\n",
       "</div>"
      ],
      "text/plain": [
       "        21-len   21-mean    21-std   21-shrp  drawdown\n",
       "symbol                                                \n",
       "BXMT        64  2.225363  1.125749  1.821332  2.677339\n",
       "EQIX        64  4.970846  3.056064  1.569288  4.324718\n",
       "INVH        64  4.270598  2.705076  1.514042  3.809142\n",
       "WPC         64  4.192877  2.827495  1.421002  4.296334\n",
       "BRG         64  3.743693  2.726859  1.308719  4.035088\n",
       "PMT         64  2.299943  1.779286  1.194268  4.901512\n",
       "PSA         64  4.456563  3.687444  1.161120  4.410453\n",
       "AMT         64  4.948132  4.244758  1.124477  4.096787\n",
       "GLPI        64  3.289139  3.487372  0.892976  4.020720\n",
       "STAG        64  2.832475  2.994473  0.887460  4.545455\n",
       "EPR         64  2.363296  2.525685  0.866417  4.396573\n",
       "ARI         64  1.666553  1.964100  0.759408  3.719225\n",
       "VNQ         64  1.665885  2.017895  0.738832  3.975014\n",
       "DEA         64  1.910470  2.393508  0.725074  4.901961\n",
       "SCHH        64  1.177161  1.818627  0.551054  4.332371\n",
       "DRE         64  1.406038  2.410756  0.510644  4.068453\n",
       "STWD        64  1.185143  2.018452  0.500454  4.338395"
      ]
     },
     "execution_count": 2,
     "metadata": {},
     "output_type": "execute_result"
    }
   ],
   "source": [
    "stat = quote.statistics(21)\n",
    "stat = stat[(stat['drawdown'] < 5) & (stat['21-mean'] > 1)]\n",
    "stat"
   ]
  },
  {
   "cell_type": "code",
   "execution_count": 3,
   "metadata": {},
   "outputs": [
    {
     "name": "stdout",
     "output_type": "stream",
     "text": [
      "['VNQ', 'BXMT'] 0.3981995365181312 0.14871122925880176 1.3304706836237592 -2.5601642892469907\n"
     ]
    },
    {
     "data": {
      "text/plain": [
       "['VNQ', 'BXMT']"
      ]
     },
     "execution_count": 3,
     "metadata": {},
     "output_type": "execute_result"
    }
   ],
   "source": [
    "quote.setup_mask(stat.index)\n",
    "quote.least_correlated_portfolio(21, 2, ['VNQ'], cr=2, dr=2)"
   ]
  },
  {
   "cell_type": "code",
   "execution_count": 4,
   "metadata": {},
   "outputs": [
    {
     "name": "stdout",
     "output_type": "stream",
     "text": [
      "     fun: 1.0822544514973567\n",
      "     jac: array([2.16505092, 2.16232303])\n",
      " message: 'Optimization terminated successfully.'\n",
      "    nfev: 8\n",
      "     nit: 2\n",
      "    njev: 2\n",
      "  status: 0\n",
      " success: True\n",
      "       x: array([0.80131475, 0.19868525])\n"
     ]
    },
    {
     "name": "stderr",
     "output_type": "stream",
     "text": [
      "/Users/chaoyi/.local/share/virtualenvs/portfolio_analysis-bdMx2S3t/lib/python3.7/site-packages/scipy/optimize/minpack.py:162: RuntimeWarning: The iteration is not making good progress, as measured by the \n",
      "  improvement from the last ten iterations.\n",
      "  warnings.warn(msg, RuntimeWarning)\n"
     ]
    },
    {
     "data": {
      "text/plain": [
       "({'BXMT': 0.8013147491159618, 'VNQ': 0.19868525088403832}, 2.1144, 1.0403)"
      ]
     },
     "execution_count": 4,
     "metadata": {},
     "output_type": "execute_result"
    }
   ],
   "source": [
    "quote.setup_mask(['BXMT', 'VNQ'])\n",
    "quote.find_optimal_ratio(21, 2)"
   ]
  },
  {
   "cell_type": "code",
   "execution_count": null,
   "metadata": {},
   "outputs": [],
   "source": [
    "quote.graph(21, {'BXMT': 0.79, 'VNQ': 0.21})"
   ]
  },
  {
   "cell_type": "code",
   "execution_count": null,
   "metadata": {},
   "outputs": [],
   "source": []
  }
 ],
 "metadata": {
  "kernelspec": {
   "display_name": "Python 3",
   "language": "python",
   "name": "python3"
  },
  "language_info": {
   "codemirror_mode": {
    "name": "ipython",
    "version": 3
   },
   "file_extension": ".py",
   "mimetype": "text/x-python",
   "name": "python",
   "nbconvert_exporter": "python",
   "pygments_lexer": "ipython3",
   "version": "3.7.3"
  }
 },
 "nbformat": 4,
 "nbformat_minor": 2
}
