{
 "cells": [
  {
   "cell_type": "code",
   "execution_count": 2,
   "metadata": {},
   "outputs": [],
   "source": [
    "from IPython.display import JSON\n",
    "from app import create_app\n",
    "r = create_app().robinhood"
   ]
  },
  {
   "cell_type": "code",
   "execution_count": 7,
   "metadata": {},
   "outputs": [
    {
     "data": {
      "application/json": {
       "next": null,
       "previous": null,
       "results": [
        {
         "account_id": "be191e53-97f1-41f8-910e-73c6fca97e20",
         "equity": "67.74",
         "extended_hours_equity": null,
         "extended_hours_market_value": null,
         "id": "be191e53-97f1-41f8-910e-73c6fca97e20",
         "market_value": "67.74",
         "previous_close": "66.50",
         "updated_at": "2019-06-05T12:29:23.366310-04:00"
        }
       ]
      },
      "text/plain": [
       "<IPython.core.display.JSON object>"
      ]
     },
     "execution_count": 7,
     "metadata": {
      "application/json": {
       "expanded": false,
       "root": "root"
      }
     },
     "output_type": "execute_result"
    }
   ],
   "source": [
    "JSON(r.get('https://nummus.robinhood.com/portfolios/').json())"
   ]
  },
  {
   "cell_type": "code",
   "execution_count": 4,
   "metadata": {},
   "outputs": [
    {
     "data": {
      "application/json": {
       "ask_price": "7718.703966",
       "bid_price": "7692.250000",
       "high_price": "7936.500000",
       "id": "3d961844-d360-45fc-989b-f6fca761d511",
       "low_price": "7453.960000",
       "mark_price": "7705.476983",
       "open_price": "7793.880000",
       "symbol": "BTCUSD",
       "volume": "428887.862198"
      },
      "text/plain": [
       "<IPython.core.display.JSON object>"
      ]
     },
     "execution_count": 4,
     "metadata": {
      "application/json": {
       "expanded": false,
       "root": "root"
      }
     },
     "output_type": "execute_result"
    }
   ],
   "source": [
    "JSON(r.get('https://api.robinhood.com/marketdata/forex/quotes/3d961844-d360-45fc-989b-f6fca761d511/').json())"
   ]
  },
  {
   "cell_type": "code",
   "execution_count": 6,
   "metadata": {},
   "outputs": [
    {
     "data": {
      "application/json": {
       "adjusted_previous_close": "7.870000",
       "ask_price": "7.710000",
       "ask_size": 9800,
       "bid_price": "7.700000",
       "bid_size": 13500,
       "has_traded": true,
       "instrument": "https://api.robinhood.com/instruments/71d81e7d-783c-4b8c-b574-ee50fcc4ce3a/",
       "last_extended_hours_trade_price": null,
       "last_trade_price": "7.650000",
       "last_trade_price_source": "nls",
       "previous_close": "7.870000",
       "previous_close_date": "2019-06-04",
       "symbol": "ACB",
       "trading_halted": false,
       "updated_at": "2019-06-05T16:26:40Z"
      },
      "text/plain": [
       "<IPython.core.display.JSON object>"
      ]
     },
     "execution_count": 6,
     "metadata": {
      "application/json": {
       "expanded": false,
       "root": "root"
      }
     },
     "output_type": "execute_result"
    }
   ],
   "source": [
    "JSON(r.get('https://api.robinhood.com/quotes/71d81e7d-783c-4b8c-b574-ee50fcc4ce3a/').json())"
   ]
  },
  {
   "cell_type": "code",
   "execution_count": 3,
   "metadata": {},
   "outputs": [
    {
     "data": {
      "application/json": {
       "next": null,
       "previous": null,
       "results": [
        {
         "account": "https://api.robinhood.com/accounts/852985969/",
         "average_buy_price": "112.6700",
         "created_at": "2019-06-05T16:47:07.617422Z",
         "instrument": "https://api.robinhood.com/instruments/6529ff56-7653-4c02-8f69-02c36dd6858f/",
         "intraday_average_buy_price": "112.6700",
         "intraday_quantity": "2.0000",
         "pending_average_buy_price": "112.6700",
         "quantity": "2.0000",
         "shares_held_for_buys": "0.0000",
         "shares_held_for_options_collateral": "0.0000",
         "shares_held_for_options_events": "0.0000",
         "shares_held_for_sells": "0.0000",
         "shares_held_for_stock_grants": "0.0000",
         "shares_pending_from_options_events": "0.0000",
         "updated_at": "2019-06-05T16:47:08.300326Z",
         "url": "https://api.robinhood.com/positions/852985969/6529ff56-7653-4c02-8f69-02c36dd6858f/"
        },
        {
         "account": "https://api.robinhood.com/accounts/852985969/",
         "average_buy_price": "14.5640",
         "created_at": "2019-05-30T17:35:48.085994Z",
         "instrument": "https://api.robinhood.com/instruments/257e4dc9-f4b0-4e57-b6ab-afda86dac3e3/",
         "intraday_average_buy_price": "0.0000",
         "intraday_quantity": "0.0000",
         "pending_average_buy_price": "14.5640",
         "quantity": "20.0000",
         "shares_held_for_buys": "0.0000",
         "shares_held_for_options_collateral": "0.0000",
         "shares_held_for_options_events": "0.0000",
         "shares_held_for_sells": "0.0000",
         "shares_held_for_stock_grants": "0.0000",
         "shares_pending_from_options_events": "0.0000",
         "updated_at": "2019-06-03T13:45:37.189115Z",
         "url": "https://api.robinhood.com/positions/852985969/257e4dc9-f4b0-4e57-b6ab-afda86dac3e3/"
        },
        {
         "account": "https://api.robinhood.com/accounts/852985969/",
         "average_buy_price": "81.7200",
         "created_at": "2019-05-28T14:09:29.875797Z",
         "instrument": "https://api.robinhood.com/instruments/ee17a597-5d34-42be-b264-f5c50b12dffc/",
         "intraday_average_buy_price": "0.0000",
         "intraday_quantity": "0.0000",
         "pending_average_buy_price": "81.7200",
         "quantity": "5.0000",
         "shares_held_for_buys": "0.0000",
         "shares_held_for_options_collateral": "0.0000",
         "shares_held_for_options_events": "0.0000",
         "shares_held_for_sells": "0.0000",
         "shares_held_for_stock_grants": "0.0000",
         "shares_pending_from_options_events": "0.0000",
         "updated_at": "2019-05-30T16:37:16.833612Z",
         "url": "https://api.robinhood.com/positions/852985969/ee17a597-5d34-42be-b264-f5c50b12dffc/"
        },
        {
         "account": "https://api.robinhood.com/accounts/852985969/",
         "average_buy_price": "87.2400",
         "created_at": "2019-05-28T14:11:35.533651Z",
         "instrument": "https://api.robinhood.com/instruments/e6a6e495-3db9-4129-8baf-50d4247b1d9c/",
         "intraday_average_buy_price": "0.0000",
         "intraday_quantity": "0.0000",
         "pending_average_buy_price": "87.2400",
         "quantity": "3.0000",
         "shares_held_for_buys": "0.0000",
         "shares_held_for_options_collateral": "0.0000",
         "shares_held_for_options_events": "0.0000",
         "shares_held_for_sells": "0.0000",
         "shares_held_for_stock_grants": "0.0000",
         "shares_pending_from_options_events": "0.0000",
         "updated_at": "2019-06-03T13:43:05.618747Z",
         "url": "https://api.robinhood.com/positions/852985969/e6a6e495-3db9-4129-8baf-50d4247b1d9c/"
        },
        {
         "account": "https://api.robinhood.com/accounts/852985969/",
         "average_buy_price": "43.9467",
         "created_at": "2019-05-30T17:34:26.422864Z",
         "instrument": "https://api.robinhood.com/instruments/5c2dc035-d491-4252-afea-49ec3260aced/",
         "intraday_average_buy_price": "0.0000",
         "intraday_quantity": "0.0000",
         "pending_average_buy_price": "43.9467",
         "quantity": "3.0000",
         "shares_held_for_buys": "0.0000",
         "shares_held_for_options_collateral": "0.0000",
         "shares_held_for_options_events": "0.0000",
         "shares_held_for_sells": "0.0000",
         "shares_held_for_stock_grants": "0.0000",
         "shares_pending_from_options_events": "0.0000",
         "updated_at": "2019-06-03T13:46:57.702244Z",
         "url": "https://api.robinhood.com/positions/852985969/5c2dc035-d491-4252-afea-49ec3260aced/"
        },
        {
         "account": "https://api.robinhood.com/accounts/852985969/",
         "average_buy_price": "24.6050",
         "created_at": "2019-06-03T13:40:41.355563Z",
         "instrument": "https://api.robinhood.com/instruments/c72df552-439c-4821-94bd-a6769401672d/",
         "intraday_average_buy_price": "0.0000",
         "intraday_quantity": "0.0000",
         "pending_average_buy_price": "24.6050",
         "quantity": "8.0000",
         "shares_held_for_buys": "0.0000",
         "shares_held_for_options_collateral": "0.0000",
         "shares_held_for_options_events": "0.0000",
         "shares_held_for_sells": "0.0000",
         "shares_held_for_stock_grants": "0.0000",
         "shares_pending_from_options_events": "0.0000",
         "updated_at": "2019-06-03T13:44:00.644307Z",
         "url": "https://api.robinhood.com/positions/852985969/c72df552-439c-4821-94bd-a6769401672d/"
        },
        {
         "account": "https://api.robinhood.com/accounts/852985969/",
         "average_buy_price": "45.0500",
         "created_at": "2019-06-03T13:39:22.433257Z",
         "instrument": "https://api.robinhood.com/instruments/44b3fd21-a00b-4f90-8108-b50fcbcbba33/",
         "intraday_average_buy_price": "0.0000",
         "intraday_quantity": "0.0000",
         "pending_average_buy_price": "45.0500",
         "quantity": "2.0000",
         "shares_held_for_buys": "0.0000",
         "shares_held_for_options_collateral": "0.0000",
         "shares_held_for_options_events": "0.0000",
         "shares_held_for_sells": "0.0000",
         "shares_held_for_stock_grants": "0.0000",
         "shares_pending_from_options_events": "0.0000",
         "updated_at": "2019-06-03T13:39:23.260160Z",
         "url": "https://api.robinhood.com/positions/852985969/44b3fd21-a00b-4f90-8108-b50fcbcbba33/"
        },
        {
         "account": "https://api.robinhood.com/accounts/852985969/",
         "average_buy_price": "0.0000",
         "created_at": "2019-06-05T16:49:52.170889Z",
         "instrument": "https://api.robinhood.com/instruments/33f549cb-640f-48dd-8d4f-084aae0a5381/",
         "intraday_average_buy_price": "0.0000",
         "intraday_quantity": "0.0000",
         "pending_average_buy_price": "0.0000",
         "quantity": "0.0000",
         "shares_held_for_buys": "5.0000",
         "shares_held_for_options_collateral": "0.0000",
         "shares_held_for_options_events": "0.0000",
         "shares_held_for_sells": "0.0000",
         "shares_held_for_stock_grants": "0.0000",
         "shares_pending_from_options_events": "0.0000",
         "updated_at": "2019-06-05T16:49:52.229314Z",
         "url": "https://api.robinhood.com/positions/852985969/33f549cb-640f-48dd-8d4f-084aae0a5381/"
        }
       ]
      },
      "text/plain": [
       "<IPython.core.display.JSON object>"
      ]
     },
     "execution_count": 3,
     "metadata": {
      "application/json": {
       "expanded": false,
       "root": "root"
      }
     },
     "output_type": "execute_result"
    }
   ],
   "source": [
    "JSON(r.get('https://api.robinhood.com/positions/?nonzero=true').json())"
   ]
  },
  {
   "cell_type": "code",
   "execution_count": 3,
   "metadata": {},
   "outputs": [
    {
     "data": {
      "application/json": {
       "next": null,
       "previous": null,
       "results": [
        {
         "account": "https://api.robinhood.com/accounts/852985969/",
         "amount": "0.97",
         "id": "1577feaa-b9d1-4e1b-8529-75c666604e7c",
         "instrument": "https://api.robinhood.com/instruments/ee17a597-5d34-42be-b264-f5c50b12dffc/",
         "paid_at": "2019-06-06T09:17:11Z",
         "payable_date": "2019-06-06",
         "position": "5.0000",
         "rate": "0.1934800000",
         "record_date": "2019-06-04",
         "state": "paid",
         "url": "https://api.robinhood.com/dividends/1577feaa-b9d1-4e1b-8529-75c666604e7c/",
         "withholding": "0.00"
        }
       ]
      },
      "text/plain": [
       "<IPython.core.display.JSON object>"
      ]
     },
     "execution_count": 3,
     "metadata": {
      "application/json": {
       "expanded": false,
       "root": "root"
      }
     },
     "output_type": "execute_result"
    }
   ],
   "source": [
    "JSON(r.get('https://api.robinhood.com/dividends/').json())"
   ]
  },
  {
   "cell_type": "code",
   "execution_count": null,
   "metadata": {},
   "outputs": [],
   "source": []
  }
 ],
 "metadata": {
  "kernelspec": {
   "display_name": "Python 3",
   "language": "python",
   "name": "python3"
  },
  "language_info": {
   "codemirror_mode": {
    "name": "ipython",
    "version": 3
   },
   "file_extension": ".py",
   "mimetype": "text/x-python",
   "name": "python",
   "nbconvert_exporter": "python",
   "pygments_lexer": "ipython3",
   "version": "3.7.3"
  }
 },
 "nbformat": 4,
 "nbformat_minor": 2
}
