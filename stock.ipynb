{
 "cells": [
  {
   "cell_type": "code",
   "execution_count": 1,
   "metadata": {},
   "outputs": [
    {
     "name": "stdout",
     "output_type": "stream",
     "text": [
      "Populating the interactive namespace from numpy and matplotlib\n"
     ]
    },
    {
     "data": {
      "text/plain": [
       "'from 2019-02-19 to 2019-06-18'"
      ]
     },
     "execution_count": 1,
     "metadata": {},
     "output_type": "execute_result"
    }
   ],
   "source": [
    "%pylab inline\n",
    "from app import create_app\n",
    "from app.instrument import Instrument\n",
    "from app.analysis import Quote\n",
    "mappings= {'BRK.B': 'BRK-B'}\n",
    "with create_app().app_context():\n",
    "    provided = ['SPLV']\n",
    "    quote = Quote([b.symbol if b.symbol not in mappings else mappings[b.symbol]\n",
    "                   for b in Instrument.find_stocks(200)] + provided, 120)\n",
    "f'from {quote.start.date()} to {quote.end.date()}'"
   ]
  },
  {
   "cell_type": "code",
   "execution_count": 2,
   "metadata": {},
   "outputs": [
    {
     "data": {
      "text/html": [
       "<div>\n",
       "<style scoped>\n",
       "    .dataframe tbody tr th:only-of-type {\n",
       "        vertical-align: middle;\n",
       "    }\n",
       "\n",
       "    .dataframe tbody tr th {\n",
       "        vertical-align: top;\n",
       "    }\n",
       "\n",
       "    .dataframe thead th {\n",
       "        text-align: right;\n",
       "    }\n",
       "</style>\n",
       "<table border=\"1\" class=\"dataframe\">\n",
       "  <thead>\n",
       "    <tr style=\"text-align: right;\">\n",
       "      <th></th>\n",
       "      <th>21-len</th>\n",
       "      <th>21-mean</th>\n",
       "      <th>21-std</th>\n",
       "      <th>21-shrp</th>\n",
       "      <th>drawdown</th>\n",
       "    </tr>\n",
       "    <tr>\n",
       "      <th>Symbols</th>\n",
       "      <th></th>\n",
       "      <th></th>\n",
       "      <th></th>\n",
       "      <th></th>\n",
       "      <th></th>\n",
       "    </tr>\n",
       "  </thead>\n",
       "  <tbody>\n",
       "    <tr>\n",
       "      <th>MCD</th>\n",
       "      <td>63</td>\n",
       "      <td>3.513199</td>\n",
       "      <td>1.484287</td>\n",
       "      <td>2.249025</td>\n",
       "      <td>2.999196</td>\n",
       "    </tr>\n",
       "    <tr>\n",
       "      <th>MA</th>\n",
       "      <td>63</td>\n",
       "      <td>4.452883</td>\n",
       "      <td>1.976744</td>\n",
       "      <td>2.164106</td>\n",
       "      <td>5.698715</td>\n",
       "    </tr>\n",
       "    <tr>\n",
       "      <th>KO</th>\n",
       "      <td>63</td>\n",
       "      <td>3.713846</td>\n",
       "      <td>1.645587</td>\n",
       "      <td>2.150507</td>\n",
       "      <td>3.383609</td>\n",
       "    </tr>\n",
       "    <tr>\n",
       "      <th>WM</th>\n",
       "      <td>63</td>\n",
       "      <td>3.796518</td>\n",
       "      <td>1.995628</td>\n",
       "      <td>1.814727</td>\n",
       "      <td>3.316666</td>\n",
       "    </tr>\n",
       "    <tr>\n",
       "      <th>SHOP</th>\n",
       "      <td>63</td>\n",
       "      <td>14.796666</td>\n",
       "      <td>8.741026</td>\n",
       "      <td>1.672763</td>\n",
       "      <td>6.171438</td>\n",
       "    </tr>\n",
       "    <tr>\n",
       "      <th>SBUX</th>\n",
       "      <td>63</td>\n",
       "      <td>4.129771</td>\n",
       "      <td>2.706176</td>\n",
       "      <td>1.461387</td>\n",
       "      <td>4.600183</td>\n",
       "    </tr>\n",
       "    <tr>\n",
       "      <th>V</th>\n",
       "      <td>63</td>\n",
       "      <td>3.691861</td>\n",
       "      <td>2.461373</td>\n",
       "      <td>1.428821</td>\n",
       "      <td>4.317938</td>\n",
       "    </tr>\n",
       "    <tr>\n",
       "      <th>PYPL</th>\n",
       "      <td>63</td>\n",
       "      <td>4.930332</td>\n",
       "      <td>3.410043</td>\n",
       "      <td>1.394508</td>\n",
       "      <td>7.332929</td>\n",
       "    </tr>\n",
       "    <tr>\n",
       "      <th>ENPH</th>\n",
       "      <td>63</td>\n",
       "      <td>24.706768</td>\n",
       "      <td>18.087948</td>\n",
       "      <td>1.356249</td>\n",
       "      <td>6.875388</td>\n",
       "    </tr>\n",
       "    <tr>\n",
       "      <th>ZNGA</th>\n",
       "      <td>63</td>\n",
       "      <td>6.376118</td>\n",
       "      <td>4.620132</td>\n",
       "      <td>1.342195</td>\n",
       "      <td>7.241908</td>\n",
       "    </tr>\n",
       "    <tr>\n",
       "      <th>SPLV</th>\n",
       "      <td>63</td>\n",
       "      <td>1.881234</td>\n",
       "      <td>1.281758</td>\n",
       "      <td>1.331167</td>\n",
       "      <td>1.971361</td>\n",
       "    </tr>\n",
       "    <tr>\n",
       "      <th>PG</th>\n",
       "      <td>63</td>\n",
       "      <td>2.675566</td>\n",
       "      <td>1.912910</td>\n",
       "      <td>1.307205</td>\n",
       "      <td>4.809913</td>\n",
       "    </tr>\n",
       "    <tr>\n",
       "      <th>MSFT</th>\n",
       "      <td>63</td>\n",
       "      <td>4.669698</td>\n",
       "      <td>3.732230</td>\n",
       "      <td>1.204293</td>\n",
       "      <td>7.899243</td>\n",
       "    </tr>\n",
       "    <tr>\n",
       "      <th>NTDOY</th>\n",
       "      <td>63</td>\n",
       "      <td>8.700532</td>\n",
       "      <td>7.124760</td>\n",
       "      <td>1.196606</td>\n",
       "      <td>7.386100</td>\n",
       "    </tr>\n",
       "    <tr>\n",
       "      <th>COST</th>\n",
       "      <td>63</td>\n",
       "      <td>4.066003</td>\n",
       "      <td>4.100198</td>\n",
       "      <td>0.948979</td>\n",
       "      <td>4.141156</td>\n",
       "    </tr>\n",
       "    <tr>\n",
       "      <th>WMT</th>\n",
       "      <td>63</td>\n",
       "      <td>2.299247</td>\n",
       "      <td>3.053576</td>\n",
       "      <td>0.695659</td>\n",
       "      <td>4.647744</td>\n",
       "    </tr>\n",
       "    <tr>\n",
       "      <th>CMCSA</th>\n",
       "      <td>63</td>\n",
       "      <td>2.843017</td>\n",
       "      <td>4.070695</td>\n",
       "      <td>0.655420</td>\n",
       "      <td>5.925590</td>\n",
       "    </tr>\n",
       "    <tr>\n",
       "      <th>DIS</th>\n",
       "      <td>63</td>\n",
       "      <td>6.410852</td>\n",
       "      <td>9.905352</td>\n",
       "      <td>0.629544</td>\n",
       "      <td>6.132077</td>\n",
       "    </tr>\n",
       "    <tr>\n",
       "      <th>KMI</th>\n",
       "      <td>63</td>\n",
       "      <td>1.694727</td>\n",
       "      <td>2.492618</td>\n",
       "      <td>0.609691</td>\n",
       "      <td>5.044082</td>\n",
       "    </tr>\n",
       "    <tr>\n",
       "      <th>TMUS</th>\n",
       "      <td>63</td>\n",
       "      <td>1.697910</td>\n",
       "      <td>2.805359</td>\n",
       "      <td>0.542858</td>\n",
       "      <td>6.194914</td>\n",
       "    </tr>\n",
       "    <tr>\n",
       "      <th>T</th>\n",
       "      <td>63</td>\n",
       "      <td>2.141442</td>\n",
       "      <td>3.739021</td>\n",
       "      <td>0.525924</td>\n",
       "      <td>6.046514</td>\n",
       "    </tr>\n",
       "  </tbody>\n",
       "</table>\n",
       "</div>"
      ],
      "text/plain": [
       "         21-len    21-mean     21-std   21-shrp  drawdown\n",
       "Symbols                                                  \n",
       "MCD          63   3.513199   1.484287  2.249025  2.999196\n",
       "MA           63   4.452883   1.976744  2.164106  5.698715\n",
       "KO           63   3.713846   1.645587  2.150507  3.383609\n",
       "WM           63   3.796518   1.995628  1.814727  3.316666\n",
       "SHOP         63  14.796666   8.741026  1.672763  6.171438\n",
       "SBUX         63   4.129771   2.706176  1.461387  4.600183\n",
       "V            63   3.691861   2.461373  1.428821  4.317938\n",
       "PYPL         63   4.930332   3.410043  1.394508  7.332929\n",
       "ENPH         63  24.706768  18.087948  1.356249  6.875388\n",
       "ZNGA         63   6.376118   4.620132  1.342195  7.241908\n",
       "SPLV         63   1.881234   1.281758  1.331167  1.971361\n",
       "PG           63   2.675566   1.912910  1.307205  4.809913\n",
       "MSFT         63   4.669698   3.732230  1.204293  7.899243\n",
       "NTDOY        63   8.700532   7.124760  1.196606  7.386100\n",
       "COST         63   4.066003   4.100198  0.948979  4.141156\n",
       "WMT          63   2.299247   3.053576  0.695659  4.647744\n",
       "CMCSA        63   2.843017   4.070695  0.655420  5.925590\n",
       "DIS          63   6.410852   9.905352  0.629544  6.132077\n",
       "KMI          63   1.694727   2.492618  0.609691  5.044082\n",
       "TMUS         63   1.697910   2.805359  0.542858  6.194914\n",
       "T            63   2.141442   3.739021  0.525924  6.046514"
      ]
     },
     "execution_count": 2,
     "metadata": {},
     "output_type": "execute_result"
    }
   ],
   "source": [
    "stat = quote.statistics(21)\n",
    "stat = stat[(stat['drawdown'] < 8) & (stat['21-mean'] > 0.8)]\n",
    "stat"
   ]
  },
  {
   "cell_type": "code",
   "execution_count": 3,
   "metadata": {},
   "outputs": [
    {
     "name": "stdout",
     "output_type": "stream",
     "text": [
      "['SPLV', 'MCD', 'MA'] 9.964662632501836 3.463810929938184 2.528126554260313 -7.075465444415782\n",
      "['SPLV', 'MCD', 'KO'] 7.879674489553169 3.3405597721249514 2.0651053446844507 -7.0618664334345365\n",
      "['SPLV', 'MCD', 'WM'] 7.779480037187734 3.149349544715207 2.051716781232609 -6.726086177173117\n",
      "['SPLV', 'MCD', 'SHOP'] 6.833101419606462 1.4632698335030776 2.622671139547676 -6.584122805590398\n",
      "['SPLV', 'MCD', 'ENPH'] 6.6873946999398814 0.9505795032828113 2.763461171279085 -6.267608991742081\n"
     ]
    },
    {
     "data": {
      "text/plain": [
       "['SPLV', 'MCD', 'ENPH']"
      ]
     },
     "execution_count": 3,
     "metadata": {},
     "output_type": "execute_result"
    }
   ],
   "source": [
    "quote.setup_mask([*stat.index, *provided])\n",
    "quote.least_correlated_portfolio(21, 3, provided, cr=2, dr=4)"
   ]
  },
  {
   "cell_type": "code",
   "execution_count": 4,
   "metadata": {},
   "outputs": [
    {
     "name": "stdout",
     "output_type": "stream",
     "text": [
      "     fun: 1.7611204350182634\n",
      "     jac: array([3.52912259, 3.52198738])\n",
      " message: 'Optimization terminated successfully.'\n",
      "    nfev: 8\n",
      "     nit: 2\n",
      "    njev: 2\n",
      "  status: 0\n",
      " success: True\n",
      "       x: array([0.03555448, 0.96444552])\n"
     ]
    },
    {
     "name": "stderr",
     "output_type": "stream",
     "text": [
      "/Users/chaoyi/.local/share/virtualenvs/portfolio_analysis-bdMx2S3t/lib/python3.7/site-packages/scipy/optimize/minpack.py:162: RuntimeWarning: The iteration is not making good progress, as measured by the \n",
      "  improvement from the last ten iterations.\n",
      "  warnings.warn(msg, RuntimeWarning)\n"
     ]
    },
    {
     "data": {
      "text/plain": [
       "({'ENPH': 0.0355544778447171, 'MCD': 0.9644455221552829}, 4.2667, 1.3271)"
      ]
     },
     "execution_count": 4,
     "metadata": {},
     "output_type": "execute_result"
    }
   ],
   "source": [
    "quote.setup_mask(['ENPH', 'MCD'])\n",
    "quote.find_optimal_ratio(21, 8)"
   ]
  },
  {
   "cell_type": "code",
   "execution_count": null,
   "metadata": {},
   "outputs": [],
   "source": [
    "quote.setup_mask(['ENPH', 'MCD'])\n",
    "quote.graph(21, {'MCD': 0.96, 'ENPH': 0.04})"
   ]
  },
  {
   "cell_type": "code",
   "execution_count": null,
   "metadata": {},
   "outputs": [],
   "source": []
  }
 ],
 "metadata": {
  "kernelspec": {
   "display_name": "Python 3",
   "language": "python",
   "name": "python3"
  },
  "language_info": {
   "codemirror_mode": {
    "name": "ipython",
    "version": 3
   },
   "file_extension": ".py",
   "mimetype": "text/x-python",
   "name": "python",
   "nbconvert_exporter": "python",
   "pygments_lexer": "ipython3",
   "version": "3.7.3"
  }
 },
 "nbformat": 4,
 "nbformat_minor": 2
}
