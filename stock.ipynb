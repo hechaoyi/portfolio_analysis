{
 "cells": [
  {
   "cell_type": "code",
   "execution_count": 1,
   "metadata": {},
   "outputs": [
    {
     "name": "stdout",
     "output_type": "stream",
     "text": [
      "Populating the interactive namespace from numpy and matplotlib\n"
     ]
    },
    {
     "data": {
      "text/plain": [
       "'from 2019-02-26 to 2019-06-06'"
      ]
     },
     "execution_count": 1,
     "metadata": {},
     "output_type": "execute_result"
    }
   ],
   "source": [
    "%pylab inline\n",
    "from datetime import date\n",
    "from app import create_app\n",
    "from app.instrument import Instrument\n",
    "from app.analysis import Quote\n",
    "mappings= {'BRK.B': 'BRK-B'}\n",
    "with create_app().app_context():\n",
    "    provided = ['MUB', 'PGX', 'VNQ', 'SPLV']\n",
    "    quote = Quote([b.symbol if b.symbol not in mappings else mappings[b.symbol]\n",
    "                   for b in Instrument.find_stocks(100)] + provided, 100)\n",
    "f'from {quote.start.date()} to {date.today()}'"
   ]
  },
  {
   "cell_type": "code",
   "execution_count": 2,
   "metadata": {},
   "outputs": [
    {
     "data": {
      "text/html": [
       "<div>\n",
       "<style scoped>\n",
       "    .dataframe tbody tr th:only-of-type {\n",
       "        vertical-align: middle;\n",
       "    }\n",
       "\n",
       "    .dataframe tbody tr th {\n",
       "        vertical-align: top;\n",
       "    }\n",
       "\n",
       "    .dataframe thead th {\n",
       "        text-align: right;\n",
       "    }\n",
       "</style>\n",
       "<table border=\"1\" class=\"dataframe\">\n",
       "  <thead>\n",
       "    <tr style=\"text-align: right;\">\n",
       "      <th></th>\n",
       "      <th>21-len</th>\n",
       "      <th>21-mean</th>\n",
       "      <th>21-std</th>\n",
       "      <th>21-shrp</th>\n",
       "      <th>drawdown</th>\n",
       "    </tr>\n",
       "    <tr>\n",
       "      <th>Symbols</th>\n",
       "      <th></th>\n",
       "      <th></th>\n",
       "      <th></th>\n",
       "      <th></th>\n",
       "      <th></th>\n",
       "    </tr>\n",
       "  </thead>\n",
       "  <tbody>\n",
       "    <tr>\n",
       "      <th>KO</th>\n",
       "      <td>50</td>\n",
       "      <td>3.467480</td>\n",
       "      <td>1.311880</td>\n",
       "      <td>2.508281</td>\n",
       "      <td>3.383611</td>\n",
       "    </tr>\n",
       "    <tr>\n",
       "      <th>SHOP</th>\n",
       "      <td>50</td>\n",
       "      <td>14.848504</td>\n",
       "      <td>9.550523</td>\n",
       "      <td>1.536208</td>\n",
       "      <td>6.171438</td>\n",
       "    </tr>\n",
       "    <tr>\n",
       "      <th>ZNGA</th>\n",
       "      <td>50</td>\n",
       "      <td>6.990197</td>\n",
       "      <td>4.690543</td>\n",
       "      <td>1.452557</td>\n",
       "      <td>4.700161</td>\n",
       "    </tr>\n",
       "    <tr>\n",
       "      <th>NTDOY</th>\n",
       "      <td>50</td>\n",
       "      <td>10.220613</td>\n",
       "      <td>7.102790</td>\n",
       "      <td>1.414049</td>\n",
       "      <td>7.386100</td>\n",
       "    </tr>\n",
       "    <tr>\n",
       "      <th>SBUX</th>\n",
       "      <td>50</td>\n",
       "      <td>3.976485</td>\n",
       "      <td>2.765968</td>\n",
       "      <td>1.373685</td>\n",
       "      <td>4.600183</td>\n",
       "    </tr>\n",
       "    <tr>\n",
       "      <th>SPLV</th>\n",
       "      <td>50</td>\n",
       "      <td>1.538454</td>\n",
       "      <td>1.016868</td>\n",
       "      <td>1.338952</td>\n",
       "      <td>1.971361</td>\n",
       "    </tr>\n",
       "    <tr>\n",
       "      <th>V</th>\n",
       "      <td>50</td>\n",
       "      <td>3.117625</td>\n",
       "      <td>2.308153</td>\n",
       "      <td>1.274053</td>\n",
       "      <td>4.317938</td>\n",
       "    </tr>\n",
       "    <tr>\n",
       "      <th>ENPH</th>\n",
       "      <td>50</td>\n",
       "      <td>25.626499</td>\n",
       "      <td>20.047631</td>\n",
       "      <td>1.269456</td>\n",
       "      <td>6.875388</td>\n",
       "    </tr>\n",
       "    <tr>\n",
       "      <th>PYPL</th>\n",
       "      <td>50</td>\n",
       "      <td>4.731608</td>\n",
       "      <td>3.683034</td>\n",
       "      <td>1.236668</td>\n",
       "      <td>7.332929</td>\n",
       "    </tr>\n",
       "    <tr>\n",
       "      <th>MSFT</th>\n",
       "      <td>50</td>\n",
       "      <td>4.210589</td>\n",
       "      <td>3.940216</td>\n",
       "      <td>1.023718</td>\n",
       "      <td>7.899243</td>\n",
       "    </tr>\n",
       "    <tr>\n",
       "      <th>F</th>\n",
       "      <td>50</td>\n",
       "      <td>8.257370</td>\n",
       "      <td>8.128866</td>\n",
       "      <td>0.994044</td>\n",
       "      <td>8.899515</td>\n",
       "    </tr>\n",
       "    <tr>\n",
       "      <th>DIS</th>\n",
       "      <td>50</td>\n",
       "      <td>7.962439</td>\n",
       "      <td>10.375174</td>\n",
       "      <td>0.750399</td>\n",
       "      <td>6.132077</td>\n",
       "    </tr>\n",
       "    <tr>\n",
       "      <th>COST</th>\n",
       "      <td>50</td>\n",
       "      <td>3.194667</td>\n",
       "      <td>4.053475</td>\n",
       "      <td>0.744485</td>\n",
       "      <td>4.141156</td>\n",
       "    </tr>\n",
       "    <tr>\n",
       "      <th>WMT</th>\n",
       "      <td>50</td>\n",
       "      <td>1.739133</td>\n",
       "      <td>2.229985</td>\n",
       "      <td>0.700550</td>\n",
       "      <td>3.343207</td>\n",
       "    </tr>\n",
       "    <tr>\n",
       "      <th>AMD</th>\n",
       "      <td>50</td>\n",
       "      <td>6.785234</td>\n",
       "      <td>10.149478</td>\n",
       "      <td>0.651099</td>\n",
       "      <td>10.756544</td>\n",
       "    </tr>\n",
       "    <tr>\n",
       "      <th>VNQ</th>\n",
       "      <td>50</td>\n",
       "      <td>1.355313</td>\n",
       "      <td>2.107970</td>\n",
       "      <td>0.559020</td>\n",
       "      <td>3.975014</td>\n",
       "    </tr>\n",
       "    <tr>\n",
       "      <th>T</th>\n",
       "      <td>50</td>\n",
       "      <td>1.993616</td>\n",
       "      <td>3.995292</td>\n",
       "      <td>0.454710</td>\n",
       "      <td>6.046514</td>\n",
       "    </tr>\n",
       "    <tr>\n",
       "      <th>GRPN</th>\n",
       "      <td>50</td>\n",
       "      <td>1.567143</td>\n",
       "      <td>3.141726</td>\n",
       "      <td>0.442504</td>\n",
       "      <td>10.000000</td>\n",
       "    </tr>\n",
       "    <tr>\n",
       "      <th>CSCO</th>\n",
       "      <td>50</td>\n",
       "      <td>1.682137</td>\n",
       "      <td>5.348327</td>\n",
       "      <td>0.281438</td>\n",
       "      <td>9.920986</td>\n",
       "    </tr>\n",
       "  </tbody>\n",
       "</table>\n",
       "</div>"
      ],
      "text/plain": [
       "         21-len    21-mean     21-std   21-shrp   drawdown\n",
       "Symbols                                                   \n",
       "KO           50   3.467480   1.311880  2.508281   3.383611\n",
       "SHOP         50  14.848504   9.550523  1.536208   6.171438\n",
       "ZNGA         50   6.990197   4.690543  1.452557   4.700161\n",
       "NTDOY        50  10.220613   7.102790  1.414049   7.386100\n",
       "SBUX         50   3.976485   2.765968  1.373685   4.600183\n",
       "SPLV         50   1.538454   1.016868  1.338952   1.971361\n",
       "V            50   3.117625   2.308153  1.274053   4.317938\n",
       "ENPH         50  25.626499  20.047631  1.269456   6.875388\n",
       "PYPL         50   4.731608   3.683034  1.236668   7.332929\n",
       "MSFT         50   4.210589   3.940216  1.023718   7.899243\n",
       "F            50   8.257370   8.128866  0.994044   8.899515\n",
       "DIS          50   7.962439  10.375174  0.750399   6.132077\n",
       "COST         50   3.194667   4.053475  0.744485   4.141156\n",
       "WMT          50   1.739133   2.229985  0.700550   3.343207\n",
       "AMD          50   6.785234  10.149478  0.651099  10.756544\n",
       "VNQ          50   1.355313   2.107970  0.559020   3.975014\n",
       "T            50   1.993616   3.995292  0.454710   6.046514\n",
       "GRPN         50   1.567143   3.141726  0.442504  10.000000\n",
       "CSCO         50   1.682137   5.348327  0.281438   9.920986"
      ]
     },
     "execution_count": 2,
     "metadata": {},
     "output_type": "execute_result"
    }
   ],
   "source": [
    "stat = quote.statistics(21)\n",
    "stat = stat[(stat['drawdown'] < 12) & (stat['21-mean'] > 1.2)]\n",
    "stat"
   ]
  },
  {
   "cell_type": "code",
   "execution_count": 3,
   "metadata": {},
   "outputs": [
    {
     "name": "stdout",
     "output_type": "stream",
     "text": [
      "['MUB', 'PGX', 'VNQ', 'SPLV', 'KO', 'SHOP'] 7.911223185441553 13.492237623086531 5.773508304785777 -11.354522742430756\n",
      "['MUB', 'PGX', 'VNQ', 'SPLV', 'SHOP', 'ZNGA'] 6.1463426263991 10.342495827819967 6.102645779814783 -10.298798981235649\n",
      "['MUB', 'PGX', 'VNQ', 'SPLV', 'SHOP', 'NTDOY'] 4.270080763673741 7.756241907273445 6.774130483248827 -10.260291626848531\n",
      "['MUB', 'PGX', 'VNQ', 'SPLV', 'SHOP', 'DIS'] 3.6279741364504545 6.763990791441154 6.460624645419577 -9.596641300410276\n"
     ]
    },
    {
     "data": {
      "text/plain": [
       "['MUB', 'PGX', 'VNQ', 'SPLV', 'SHOP', 'DIS']"
      ]
     },
     "execution_count": 3,
     "metadata": {},
     "output_type": "execute_result"
    }
   ],
   "source": [
    "quote.setup_mask([*stat.index, *provided])\n",
    "quote.least_correlated_portfolio(21, 6, provided)"
   ]
  },
  {
   "cell_type": "code",
   "execution_count": 4,
   "metadata": {},
   "outputs": [
    {
     "name": "stdout",
     "output_type": "stream",
     "text": [
      "['MUB', 'PGX', 'VNQ', 'SPLV', 'NTDOY', 'KO'] 8.737023255317034 13.892213951698707 6.077173788329992 -11.232364484711667\n",
      "['MUB', 'PGX', 'VNQ', 'SPLV', 'NTDOY', 'SHOP'] 4.2700807636737395 7.756241907273443 6.774130483248827 -10.260291626848531\n"
     ]
    },
    {
     "data": {
      "text/plain": [
       "['MUB', 'PGX', 'VNQ', 'SPLV', 'NTDOY', 'SHOP']"
      ]
     },
     "execution_count": 4,
     "metadata": {},
     "output_type": "execute_result"
    }
   ],
   "source": [
    "quote.setup_mask([*stat.index, *provided])\n",
    "quote.least_correlated_portfolio(21, 6, provided + ['NTDOY'])"
   ]
  },
  {
   "cell_type": "code",
   "execution_count": 5,
   "metadata": {},
   "outputs": [
    {
     "name": "stderr",
     "output_type": "stream",
     "text": [
      "/Users/chaoyi/.local/share/virtualenvs/portfolio_analysis-bdMx2S3t/lib/python3.7/site-packages/scipy/optimize/minpack.py:162: RuntimeWarning: The iteration is not making good progress, as measured by the \n",
      "  improvement from the last ten iterations.\n",
      "  warnings.warn(msg, RuntimeWarning)\n"
     ]
    },
    {
     "data": {
      "text/plain": [
       "(Symbols\n",
       " NTDOY    0.675494\n",
       " SHOP     0.324506\n",
       " dtype: float64, 11.7224, 6.1829)"
      ]
     },
     "execution_count": 5,
     "metadata": {},
     "output_type": "execute_result"
    }
   ],
   "source": [
    "quote.setup_mask(['NTDOY', 'SHOP'])\n",
    "quote.find_optimal_ratio(21, 10)"
   ]
  },
  {
   "cell_type": "code",
   "execution_count": 6,
   "metadata": {},
   "outputs": [
    {
     "data": {
      "text/html": [
       "<div>\n",
       "<style scoped>\n",
       "    .dataframe tbody tr th:only-of-type {\n",
       "        vertical-align: middle;\n",
       "    }\n",
       "\n",
       "    .dataframe tbody tr th {\n",
       "        vertical-align: top;\n",
       "    }\n",
       "\n",
       "    .dataframe thead th {\n",
       "        text-align: right;\n",
       "    }\n",
       "</style>\n",
       "<table border=\"1\" class=\"dataframe\">\n",
       "  <thead>\n",
       "    <tr style=\"text-align: right;\">\n",
       "      <th></th>\n",
       "      <th>count</th>\n",
       "      <th>mean</th>\n",
       "      <th>std</th>\n",
       "      <th>min</th>\n",
       "      <th>25%</th>\n",
       "      <th>50%</th>\n",
       "      <th>75%</th>\n",
       "      <th>max</th>\n",
       "      <th>shrp</th>\n",
       "      <th>drawdown</th>\n",
       "    </tr>\n",
       "  </thead>\n",
       "  <tbody>\n",
       "    <tr>\n",
       "      <th>Portfolio</th>\n",
       "      <td>50.0</td>\n",
       "      <td>11.686164</td>\n",
       "      <td>6.176127</td>\n",
       "      <td>2.499173</td>\n",
       "      <td>6.047136</td>\n",
       "      <td>9.572014</td>\n",
       "      <td>16.983756</td>\n",
       "      <td>24.534714</td>\n",
       "      <td>1.863506</td>\n",
       "      <td>5.039477</td>\n",
       "    </tr>\n",
       "    <tr>\n",
       "      <th>SHOP</th>\n",
       "      <td>50.0</td>\n",
       "      <td>14.848504</td>\n",
       "      <td>9.550523</td>\n",
       "      <td>1.781530</td>\n",
       "      <td>7.434913</td>\n",
       "      <td>11.613205</td>\n",
       "      <td>23.085944</td>\n",
       "      <td>36.338890</td>\n",
       "      <td>1.536208</td>\n",
       "      <td>6.171438</td>\n",
       "    </tr>\n",
       "    <tr>\n",
       "      <th>NTDOY</th>\n",
       "      <td>50.0</td>\n",
       "      <td>10.220613</td>\n",
       "      <td>7.102790</td>\n",
       "      <td>-1.587664</td>\n",
       "      <td>4.247562</td>\n",
       "      <td>9.809697</td>\n",
       "      <td>14.693490</td>\n",
       "      <td>27.448683</td>\n",
       "      <td>1.414049</td>\n",
       "      <td>7.386100</td>\n",
       "    </tr>\n",
       "  </tbody>\n",
       "</table>\n",
       "</div>"
      ],
      "text/plain": [
       "           count       mean       std       min       25%        50%  \\\n",
       "Portfolio   50.0  11.686164  6.176127  2.499173  6.047136   9.572014   \n",
       "SHOP        50.0  14.848504  9.550523  1.781530  7.434913  11.613205   \n",
       "NTDOY       50.0  10.220613  7.102790 -1.587664  4.247562   9.809697   \n",
       "\n",
       "                 75%        max      shrp  drawdown  \n",
       "Portfolio  16.983756  24.534714  1.863506  5.039477  \n",
       "SHOP       23.085944  36.338890  1.536208  6.171438  \n",
       "NTDOY      14.693490  27.448683  1.414049  7.386100  "
      ]
     },
     "execution_count": 6,
     "metadata": {},
     "output_type": "execute_result"
    },
    {
     "data": {
      "image/png": "[encoded data removed]",
      "text/plain": [
       "<Figure size 864x576 with 1 Axes>"
      ]
     },
     "metadata": {
      "needs_background": "light"
     },
     "output_type": "display_data"
    }
   ],
   "source": [
    "quote.graph(21, {'NTDOY': .68, 'SHOP': .32})"
   ]
  },
  {
   "cell_type": "code",
   "execution_count": null,
   "metadata": {},
   "outputs": [],
   "source": []
  }
 ],
 "metadata": {
  "kernelspec": {
   "display_name": "Python 3",
   "language": "python",
   "name": "python3"
  },
  "language_info": {
   "codemirror_mode": {
    "name": "ipython",
    "version": 3
   },
   "file_extension": ".py",
   "mimetype": "text/x-python",
   "name": "python",
   "nbconvert_exporter": "python",
   "pygments_lexer": "ipython3",
   "version": "3.7.3"
  }
 },
 "nbformat": 4,
 "nbformat_minor": 2
}
