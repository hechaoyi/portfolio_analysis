{
 "cells": [
  {
   "cell_type": "code",
   "execution_count": 1,
   "metadata": {},
   "outputs": [
    {
     "name": "stdout",
     "output_type": "stream",
     "text": [
      "Populating the interactive namespace from numpy and matplotlib\n"
     ]
    },
    {
     "data": {
      "text/plain": [
       "'from 2019-02-25 to 2019-06-04'"
      ]
     },
     "execution_count": 1,
     "metadata": {},
     "output_type": "execute_result"
    }
   ],
   "source": [
    "%pylab inline\n",
    "from datetime import date\n",
    "from app import create_app\n",
    "from app.instrument import Instrument\n",
    "from app.analysis import Quote\n",
    "mappings= {'BRK.B': 'BRK-B'}\n",
    "with create_app().app_context():\n",
    "    provided = ['MUB', 'PGX', 'VNQ', 'SPLV']\n",
    "    quote = Quote([b.symbol if b.symbol not in mappings else mappings[b.symbol]\n",
    "                   for b in Instrument.find_stocks(100)] + provided, 100)\n",
    "f'from {quote.start.date()} to {date.today()}'"
   ]
  },
  {
   "cell_type": "code",
   "execution_count": 2,
   "metadata": {},
   "outputs": [
    {
     "data": {
      "text/html": [
       "<div>\n",
       "<style scoped>\n",
       "    .dataframe tbody tr th:only-of-type {\n",
       "        vertical-align: middle;\n",
       "    }\n",
       "\n",
       "    .dataframe tbody tr th {\n",
       "        vertical-align: top;\n",
       "    }\n",
       "\n",
       "    .dataframe thead th {\n",
       "        text-align: right;\n",
       "    }\n",
       "</style>\n",
       "<table border=\"1\" class=\"dataframe\">\n",
       "  <thead>\n",
       "    <tr style=\"text-align: right;\">\n",
       "      <th></th>\n",
       "      <th>21-len</th>\n",
       "      <th>21-mean</th>\n",
       "      <th>21-std</th>\n",
       "      <th>21-shrp</th>\n",
       "      <th>drawdown</th>\n",
       "    </tr>\n",
       "    <tr>\n",
       "      <th>Symbols</th>\n",
       "      <th></th>\n",
       "      <th></th>\n",
       "      <th></th>\n",
       "      <th></th>\n",
       "      <th></th>\n",
       "    </tr>\n",
       "  </thead>\n",
       "  <tbody>\n",
       "    <tr>\n",
       "      <th>KO</th>\n",
       "      <td>49</td>\n",
       "      <td>3.392115</td>\n",
       "      <td>1.214356</td>\n",
       "      <td>2.651021</td>\n",
       "      <td>3.383611</td>\n",
       "    </tr>\n",
       "    <tr>\n",
       "      <th>SHOP</th>\n",
       "      <td>49</td>\n",
       "      <td>14.819562</td>\n",
       "      <td>9.662693</td>\n",
       "      <td>1.515802</td>\n",
       "      <td>6.171438</td>\n",
       "    </tr>\n",
       "    <tr>\n",
       "      <th>ZNGA</th>\n",
       "      <td>49</td>\n",
       "      <td>7.029591</td>\n",
       "      <td>4.727509</td>\n",
       "      <td>1.450396</td>\n",
       "      <td>4.700161</td>\n",
       "    </tr>\n",
       "    <tr>\n",
       "      <th>NTDOY</th>\n",
       "      <td>49</td>\n",
       "      <td>10.337268</td>\n",
       "      <td>7.118377</td>\n",
       "      <td>1.427915</td>\n",
       "      <td>7.386100</td>\n",
       "    </tr>\n",
       "    <tr>\n",
       "      <th>SPLV</th>\n",
       "      <td>49</td>\n",
       "      <td>1.476678</td>\n",
       "      <td>0.945659</td>\n",
       "      <td>1.378768</td>\n",
       "      <td>1.971361</td>\n",
       "    </tr>\n",
       "    <tr>\n",
       "      <th>SBUX</th>\n",
       "      <td>49</td>\n",
       "      <td>3.952139</td>\n",
       "      <td>2.792942</td>\n",
       "      <td>1.353163</td>\n",
       "      <td>4.600183</td>\n",
       "    </tr>\n",
       "    <tr>\n",
       "      <th>PYPL</th>\n",
       "      <td>49</td>\n",
       "      <td>4.921761</td>\n",
       "      <td>3.642773</td>\n",
       "      <td>1.303657</td>\n",
       "      <td>7.332929</td>\n",
       "    </tr>\n",
       "    <tr>\n",
       "      <th>V</th>\n",
       "      <td>49</td>\n",
       "      <td>3.188678</td>\n",
       "      <td>2.369126</td>\n",
       "      <td>1.272978</td>\n",
       "      <td>4.317938</td>\n",
       "    </tr>\n",
       "    <tr>\n",
       "      <th>ENPH</th>\n",
       "      <td>49</td>\n",
       "      <td>25.780874</td>\n",
       "      <td>20.243454</td>\n",
       "      <td>1.265004</td>\n",
       "      <td>6.875388</td>\n",
       "    </tr>\n",
       "    <tr>\n",
       "      <th>F</th>\n",
       "      <td>49</td>\n",
       "      <td>8.682576</td>\n",
       "      <td>7.736904</td>\n",
       "      <td>1.099890</td>\n",
       "      <td>8.899515</td>\n",
       "    </tr>\n",
       "    <tr>\n",
       "      <th>MSFT</th>\n",
       "      <td>49</td>\n",
       "      <td>4.419145</td>\n",
       "      <td>3.870422</td>\n",
       "      <td>1.097118</td>\n",
       "      <td>7.899243</td>\n",
       "    </tr>\n",
       "    <tr>\n",
       "      <th>COST</th>\n",
       "      <td>49</td>\n",
       "      <td>3.337217</td>\n",
       "      <td>4.204730</td>\n",
       "      <td>0.752577</td>\n",
       "      <td>4.141156</td>\n",
       "    </tr>\n",
       "    <tr>\n",
       "      <th>DIS</th>\n",
       "      <td>49</td>\n",
       "      <td>7.998885</td>\n",
       "      <td>10.520055</td>\n",
       "      <td>0.743917</td>\n",
       "      <td>6.132077</td>\n",
       "    </tr>\n",
       "    <tr>\n",
       "      <th>WMT</th>\n",
       "      <td>49</td>\n",
       "      <td>1.624471</td>\n",
       "      <td>2.227700</td>\n",
       "      <td>0.651631</td>\n",
       "      <td>3.343207</td>\n",
       "    </tr>\n",
       "    <tr>\n",
       "      <th>AMD</th>\n",
       "      <td>49</td>\n",
       "      <td>6.474743</td>\n",
       "      <td>10.119842</td>\n",
       "      <td>0.622728</td>\n",
       "      <td>10.756544</td>\n",
       "    </tr>\n",
       "    <tr>\n",
       "      <th>GRPN</th>\n",
       "      <td>49</td>\n",
       "      <td>1.854951</td>\n",
       "      <td>2.870327</td>\n",
       "      <td>0.586037</td>\n",
       "      <td>6.849315</td>\n",
       "    </tr>\n",
       "    <tr>\n",
       "      <th>VNQ</th>\n",
       "      <td>49</td>\n",
       "      <td>1.364941</td>\n",
       "      <td>2.135706</td>\n",
       "      <td>0.558180</td>\n",
       "      <td>3.975014</td>\n",
       "    </tr>\n",
       "    <tr>\n",
       "      <th>T</th>\n",
       "      <td>49</td>\n",
       "      <td>1.877690</td>\n",
       "      <td>4.009517</td>\n",
       "      <td>0.425203</td>\n",
       "      <td>6.046514</td>\n",
       "    </tr>\n",
       "    <tr>\n",
       "      <th>CSCO</th>\n",
       "      <td>49</td>\n",
       "      <td>1.764237</td>\n",
       "      <td>5.417707</td>\n",
       "      <td>0.293741</td>\n",
       "      <td>9.920986</td>\n",
       "    </tr>\n",
       "  </tbody>\n",
       "</table>\n",
       "</div>"
      ],
      "text/plain": [
       "         21-len    21-mean     21-std   21-shrp   drawdown\n",
       "Symbols                                                   \n",
       "KO           49   3.392115   1.214356  2.651021   3.383611\n",
       "SHOP         49  14.819562   9.662693  1.515802   6.171438\n",
       "ZNGA         49   7.029591   4.727509  1.450396   4.700161\n",
       "NTDOY        49  10.337268   7.118377  1.427915   7.386100\n",
       "SPLV         49   1.476678   0.945659  1.378768   1.971361\n",
       "SBUX         49   3.952139   2.792942  1.353163   4.600183\n",
       "PYPL         49   4.921761   3.642773  1.303657   7.332929\n",
       "V            49   3.188678   2.369126  1.272978   4.317938\n",
       "ENPH         49  25.780874  20.243454  1.265004   6.875388\n",
       "F            49   8.682576   7.736904  1.099890   8.899515\n",
       "MSFT         49   4.419145   3.870422  1.097118   7.899243\n",
       "COST         49   3.337217   4.204730  0.752577   4.141156\n",
       "DIS          49   7.998885  10.520055  0.743917   6.132077\n",
       "WMT          49   1.624471   2.227700  0.651631   3.343207\n",
       "AMD          49   6.474743  10.119842  0.622728  10.756544\n",
       "GRPN         49   1.854951   2.870327  0.586037   6.849315\n",
       "VNQ          49   1.364941   2.135706  0.558180   3.975014\n",
       "T            49   1.877690   4.009517  0.425203   6.046514\n",
       "CSCO         49   1.764237   5.417707  0.293741   9.920986"
      ]
     },
     "execution_count": 2,
     "metadata": {},
     "output_type": "execute_result"
    }
   ],
   "source": [
    "stat = quote.statistics(21)\n",
    "stat = stat[(stat['drawdown'] < 12) & (stat['21-mean'] > 1.2)]\n",
    "stat"
   ]
  },
  {
   "cell_type": "code",
   "execution_count": 4,
   "metadata": {},
   "outputs": [
    {
     "name": "stdout",
     "output_type": "stream",
     "text": [
      "['MUB', 'PGX', 'VNQ', 'SPLV', 'KO', 'SHOP'] 7.406430118774164 13.146107349429723 5.773508304785777 -11.513185535441334\n",
      "['MUB', 'PGX', 'VNQ', 'SPLV', 'SHOP', 'ZNGA'] 6.203686116456575 10.413600819966856 6.102645779814783 -10.312560483325063\n",
      "['MUB', 'PGX', 'VNQ', 'SPLV', 'SHOP', 'NTDOY'] 4.486681322388607 8.002630380738605 6.774130483248827 -10.290079541598825\n",
      "['MUB', 'PGX', 'VNQ', 'SPLV', 'SHOP', 'DIS'] 3.8032689657062484 6.948726564961957 6.460624645419577 -9.606082244675285\n",
      "['MUB', 'PGX', 'VNQ', 'SPLV', 'SHOP', 'WMT'] 3.5370267222144154 7.287415305168892 5.7634070595142735 -9.51379564246875\n"
     ]
    },
    {
     "data": {
      "text/plain": [
       "['MUB', 'PGX', 'VNQ', 'SPLV', 'SHOP', 'WMT']"
      ]
     },
     "execution_count": 4,
     "metadata": {},
     "output_type": "execute_result"
    }
   ],
   "source": [
    "quote.setup_mask([*stat.index, *provided])\n",
    "quote.least_correlated_portfolio(21, 6, provided)"
   ]
  },
  {
   "cell_type": "code",
   "execution_count": 5,
   "metadata": {},
   "outputs": [
    {
     "name": "stdout",
     "output_type": "stream",
     "text": [
      "['MUB', 'PGX', 'VNQ', 'SPLV', 'NTDOY', 'KO'] 8.61863083238925 13.966755220290455 6.077173788329992 -11.425298176231195\n",
      "['MUB', 'PGX', 'VNQ', 'SPLV', 'NTDOY', 'SHOP'] 4.486681322388607 8.002630380738605 6.774130483248827 -10.290079541598825\n"
     ]
    },
    {
     "data": {
      "text/plain": [
       "['MUB', 'PGX', 'VNQ', 'SPLV', 'NTDOY', 'SHOP']"
      ]
     },
     "execution_count": 5,
     "metadata": {},
     "output_type": "execute_result"
    }
   ],
   "source": [
    "quote.setup_mask([*stat.index, *provided])\n",
    "quote.least_correlated_portfolio(21, 6, provided + ['NTDOY'])"
   ]
  },
  {
   "cell_type": "code",
   "execution_count": 6,
   "metadata": {},
   "outputs": [
    {
     "name": "stderr",
     "output_type": "stream",
     "text": [
      "/Users/chaoyi/.local/share/virtualenvs/portfolio_analysis-bdMx2S3t/lib/python3.7/site-packages/scipy/optimize/minpack.py:162: RuntimeWarning: The iteration is not making good progress, as measured by the \n",
      "  improvement from the last ten iterations.\n",
      "  warnings.warn(msg, RuntimeWarning)\n"
     ]
    },
    {
     "data": {
      "text/plain": [
       "(Symbols\n",
       " NTDOY    0.680901\n",
       " SHOP     0.319099\n",
       " dtype: float64, 11.7676, 6.2156)"
      ]
     },
     "execution_count": 6,
     "metadata": {},
     "output_type": "execute_result"
    }
   ],
   "source": [
    "quote.setup_mask(['NTDOY', 'SHOP'])\n",
    "quote.find_optimal_ratio(21, 10)"
   ]
  },
  {
   "cell_type": "code",
   "execution_count": 7,
   "metadata": {},
   "outputs": [
    {
     "data": {
      "text/html": [
       "<div>\n",
       "<style scoped>\n",
       "    .dataframe tbody tr th:only-of-type {\n",
       "        vertical-align: middle;\n",
       "    }\n",
       "\n",
       "    .dataframe tbody tr th {\n",
       "        vertical-align: top;\n",
       "    }\n",
       "\n",
       "    .dataframe thead th {\n",
       "        text-align: right;\n",
       "    }\n",
       "</style>\n",
       "<table border=\"1\" class=\"dataframe\">\n",
       "  <thead>\n",
       "    <tr style=\"text-align: right;\">\n",
       "      <th></th>\n",
       "      <th>count</th>\n",
       "      <th>mean</th>\n",
       "      <th>std</th>\n",
       "      <th>min</th>\n",
       "      <th>25%</th>\n",
       "      <th>50%</th>\n",
       "      <th>75%</th>\n",
       "      <th>max</th>\n",
       "      <th>shrp</th>\n",
       "      <th>drawdown</th>\n",
       "    </tr>\n",
       "  </thead>\n",
       "  <tbody>\n",
       "    <tr>\n",
       "      <th>Portfolio</th>\n",
       "      <td>49.0</td>\n",
       "      <td>11.722957</td>\n",
       "      <td>6.214594</td>\n",
       "      <td>2.488532</td>\n",
       "      <td>6.184793</td>\n",
       "      <td>9.305878</td>\n",
       "      <td>17.072381</td>\n",
       "      <td>24.444357</td>\n",
       "      <td>1.858548</td>\n",
       "      <td>5.376336</td>\n",
       "    </tr>\n",
       "    <tr>\n",
       "      <th>SHOP</th>\n",
       "      <td>49.0</td>\n",
       "      <td>14.819562</td>\n",
       "      <td>9.662693</td>\n",
       "      <td>1.781530</td>\n",
       "      <td>7.402646</td>\n",
       "      <td>11.095560</td>\n",
       "      <td>23.570355</td>\n",
       "      <td>36.338890</td>\n",
       "      <td>1.515802</td>\n",
       "      <td>6.171438</td>\n",
       "    </tr>\n",
       "    <tr>\n",
       "      <th>NTDOY</th>\n",
       "      <td>49.0</td>\n",
       "      <td>10.337268</td>\n",
       "      <td>7.118377</td>\n",
       "      <td>-1.587664</td>\n",
       "      <td>4.443372</td>\n",
       "      <td>9.850290</td>\n",
       "      <td>15.122880</td>\n",
       "      <td>27.448683</td>\n",
       "      <td>1.427915</td>\n",
       "      <td>7.386100</td>\n",
       "    </tr>\n",
       "  </tbody>\n",
       "</table>\n",
       "</div>"
      ],
      "text/plain": [
       "           count       mean       std       min       25%        50%  \\\n",
       "Portfolio   49.0  11.722957  6.214594  2.488532  6.184793   9.305878   \n",
       "SHOP        49.0  14.819562  9.662693  1.781530  7.402646  11.095560   \n",
       "NTDOY       49.0  10.337268  7.118377 -1.587664  4.443372   9.850290   \n",
       "\n",
       "                 75%        max      shrp  drawdown  \n",
       "Portfolio  17.072381  24.444357  1.858548  5.376336  \n",
       "SHOP       23.570355  36.338890  1.515802  6.171438  \n",
       "NTDOY      15.122880  27.448683  1.427915  7.386100  "
      ]
     },
     "execution_count": 7,
     "metadata": {},
     "output_type": "execute_result"
    },
    {
     "data": {
      "image/png": "[encoded data removed]",
      "text/plain": [
       "<Figure size 864x576 with 1 Axes>"
      ]
     },
     "metadata": {
      "needs_background": "light"
     },
     "output_type": "display_data"
    }
   ],
   "source": [
    "quote.graph(21, {'NTDOY': .68, 'SHOP': .32})"
   ]
  },
  {
   "cell_type": "code",
   "execution_count": null,
   "metadata": {},
   "outputs": [],
   "source": []
  }
 ],
 "metadata": {
  "kernelspec": {
   "display_name": "Python 3",
   "language": "python",
   "name": "python3"
  },
  "language_info": {
   "codemirror_mode": {
    "name": "ipython",
    "version": 3
   },
   "file_extension": ".py",
   "mimetype": "text/x-python",
   "name": "python",
   "nbconvert_exporter": "python",
   "pygments_lexer": "ipython3",
   "version": "3.7.3"
  }
 },
 "nbformat": 4,
 "nbformat_minor": 2
}
