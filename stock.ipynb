{
 "cells": [
  {
   "cell_type": "code",
   "execution_count": 1,
   "metadata": {},
   "outputs": [
    {
     "name": "stdout",
     "output_type": "stream",
     "text": [
      "Populating the interactive namespace from numpy and matplotlib\n"
     ]
    },
    {
     "data": {
      "text/plain": [
       "'from 2019-02-26 to 2019-06-06'"
      ]
     },
     "execution_count": 1,
     "metadata": {},
     "output_type": "execute_result"
    }
   ],
   "source": [
    "%pylab inline\n",
    "from datetime import date\n",
    "from app import create_app\n",
    "from app.instrument import Instrument\n",
    "from app.analysis import Quote\n",
    "mappings= {'BRK.B': 'BRK-B'}\n",
    "with create_app().app_context():\n",
    "    provided = ['MUB', 'PGX', 'BXMT', 'VNQ', 'SPLV']\n",
    "    quote = Quote([b.symbol if b.symbol not in mappings else mappings[b.symbol]\n",
    "                   for b in Instrument.find_stocks(100)] + provided, 100)\n",
    "f'from {quote.start.date()} to {date.today()}'"
   ]
  },
  {
   "cell_type": "code",
   "execution_count": 2,
   "metadata": {},
   "outputs": [
    {
     "data": {
      "text/html": [
       "<div>\n",
       "<style scoped>\n",
       "    .dataframe tbody tr th:only-of-type {\n",
       "        vertical-align: middle;\n",
       "    }\n",
       "\n",
       "    .dataframe tbody tr th {\n",
       "        vertical-align: top;\n",
       "    }\n",
       "\n",
       "    .dataframe thead th {\n",
       "        text-align: right;\n",
       "    }\n",
       "</style>\n",
       "<table border=\"1\" class=\"dataframe\">\n",
       "  <thead>\n",
       "    <tr style=\"text-align: right;\">\n",
       "      <th></th>\n",
       "      <th>21-len</th>\n",
       "      <th>21-mean</th>\n",
       "      <th>21-std</th>\n",
       "      <th>21-shrp</th>\n",
       "      <th>drawdown</th>\n",
       "    </tr>\n",
       "    <tr>\n",
       "      <th>Symbols</th>\n",
       "      <th></th>\n",
       "      <th></th>\n",
       "      <th></th>\n",
       "      <th></th>\n",
       "      <th></th>\n",
       "    </tr>\n",
       "  </thead>\n",
       "  <tbody>\n",
       "    <tr>\n",
       "      <th>KO</th>\n",
       "      <td>50</td>\n",
       "      <td>3.467480</td>\n",
       "      <td>1.311880</td>\n",
       "      <td>2.507772</td>\n",
       "      <td>3.383611</td>\n",
       "    </tr>\n",
       "    <tr>\n",
       "      <th>BXMT</th>\n",
       "      <td>50</td>\n",
       "      <td>2.305516</td>\n",
       "      <td>1.214537</td>\n",
       "      <td>1.752052</td>\n",
       "      <td>2.677343</td>\n",
       "    </tr>\n",
       "    <tr>\n",
       "      <th>SHOP</th>\n",
       "      <td>50</td>\n",
       "      <td>14.843247</td>\n",
       "      <td>9.550457</td>\n",
       "      <td>1.535598</td>\n",
       "      <td>6.171438</td>\n",
       "    </tr>\n",
       "    <tr>\n",
       "      <th>ZNGA</th>\n",
       "      <td>50</td>\n",
       "      <td>6.991839</td>\n",
       "      <td>4.690377</td>\n",
       "      <td>1.452816</td>\n",
       "      <td>4.700161</td>\n",
       "    </tr>\n",
       "    <tr>\n",
       "      <th>NTDOY</th>\n",
       "      <td>50</td>\n",
       "      <td>10.223728</td>\n",
       "      <td>7.101290</td>\n",
       "      <td>1.414693</td>\n",
       "      <td>7.386100</td>\n",
       "    </tr>\n",
       "    <tr>\n",
       "      <th>SBUX</th>\n",
       "      <td>50</td>\n",
       "      <td>3.975454</td>\n",
       "      <td>2.765608</td>\n",
       "      <td>1.373250</td>\n",
       "      <td>4.600183</td>\n",
       "    </tr>\n",
       "    <tr>\n",
       "      <th>SPLV</th>\n",
       "      <td>50</td>\n",
       "      <td>1.548317</td>\n",
       "      <td>1.044365</td>\n",
       "      <td>1.312504</td>\n",
       "      <td>1.971361</td>\n",
       "    </tr>\n",
       "    <tr>\n",
       "      <th>V</th>\n",
       "      <td>50</td>\n",
       "      <td>3.126814</td>\n",
       "      <td>2.312197</td>\n",
       "      <td>1.275510</td>\n",
       "      <td>4.317938</td>\n",
       "    </tr>\n",
       "    <tr>\n",
       "      <th>ENPH</th>\n",
       "      <td>50</td>\n",
       "      <td>25.626499</td>\n",
       "      <td>20.047631</td>\n",
       "      <td>1.269423</td>\n",
       "      <td>6.875388</td>\n",
       "    </tr>\n",
       "    <tr>\n",
       "      <th>PYPL</th>\n",
       "      <td>50</td>\n",
       "      <td>4.740431</td>\n",
       "      <td>3.677263</td>\n",
       "      <td>1.240827</td>\n",
       "      <td>7.332929</td>\n",
       "    </tr>\n",
       "    <tr>\n",
       "      <th>MSFT</th>\n",
       "      <td>50</td>\n",
       "      <td>4.232738</td>\n",
       "      <td>3.925469</td>\n",
       "      <td>1.033037</td>\n",
       "      <td>7.899243</td>\n",
       "    </tr>\n",
       "    <tr>\n",
       "      <th>F</th>\n",
       "      <td>50</td>\n",
       "      <td>8.273748</td>\n",
       "      <td>8.098496</td>\n",
       "      <td>0.999712</td>\n",
       "      <td>8.899515</td>\n",
       "    </tr>\n",
       "    <tr>\n",
       "      <th>DIS</th>\n",
       "      <td>50</td>\n",
       "      <td>7.970083</td>\n",
       "      <td>10.371165</td>\n",
       "      <td>0.751362</td>\n",
       "      <td>6.132077</td>\n",
       "    </tr>\n",
       "    <tr>\n",
       "      <th>COST</th>\n",
       "      <td>50</td>\n",
       "      <td>3.201096</td>\n",
       "      <td>4.055928</td>\n",
       "      <td>0.745455</td>\n",
       "      <td>4.141156</td>\n",
       "    </tr>\n",
       "    <tr>\n",
       "      <th>WMT</th>\n",
       "      <td>50</td>\n",
       "      <td>1.732782</td>\n",
       "      <td>2.222022</td>\n",
       "      <td>0.699902</td>\n",
       "      <td>3.343207</td>\n",
       "    </tr>\n",
       "    <tr>\n",
       "      <th>AMD</th>\n",
       "      <td>50</td>\n",
       "      <td>6.804738</td>\n",
       "      <td>10.173124</td>\n",
       "      <td>0.651438</td>\n",
       "      <td>10.756544</td>\n",
       "    </tr>\n",
       "    <tr>\n",
       "      <th>VNQ</th>\n",
       "      <td>50</td>\n",
       "      <td>1.369764</td>\n",
       "      <td>2.119358</td>\n",
       "      <td>0.562520</td>\n",
       "      <td>3.975014</td>\n",
       "    </tr>\n",
       "    <tr>\n",
       "      <th>T</th>\n",
       "      <td>50</td>\n",
       "      <td>1.997547</td>\n",
       "      <td>3.998351</td>\n",
       "      <td>0.455178</td>\n",
       "      <td>6.046514</td>\n",
       "    </tr>\n",
       "    <tr>\n",
       "      <th>GRPN</th>\n",
       "      <td>50</td>\n",
       "      <td>1.569913</td>\n",
       "      <td>3.134512</td>\n",
       "      <td>0.444193</td>\n",
       "      <td>9.866664</td>\n",
       "    </tr>\n",
       "    <tr>\n",
       "      <th>CSCO</th>\n",
       "      <td>50</td>\n",
       "      <td>1.700472</td>\n",
       "      <td>5.351605</td>\n",
       "      <td>0.284567</td>\n",
       "      <td>9.920986</td>\n",
       "    </tr>\n",
       "  </tbody>\n",
       "</table>\n",
       "</div>"
      ],
      "text/plain": [
       "         21-len    21-mean     21-std   21-shrp   drawdown\n",
       "Symbols                                                   \n",
       "KO           50   3.467480   1.311880  2.507772   3.383611\n",
       "BXMT         50   2.305516   1.214537  1.752052   2.677343\n",
       "SHOP         50  14.843247   9.550457  1.535598   6.171438\n",
       "ZNGA         50   6.991839   4.690377  1.452816   4.700161\n",
       "NTDOY        50  10.223728   7.101290  1.414693   7.386100\n",
       "SBUX         50   3.975454   2.765608  1.373250   4.600183\n",
       "SPLV         50   1.548317   1.044365  1.312504   1.971361\n",
       "V            50   3.126814   2.312197  1.275510   4.317938\n",
       "ENPH         50  25.626499  20.047631  1.269423   6.875388\n",
       "PYPL         50   4.740431   3.677263  1.240827   7.332929\n",
       "MSFT         50   4.232738   3.925469  1.033037   7.899243\n",
       "F            50   8.273748   8.098496  0.999712   8.899515\n",
       "DIS          50   7.970083  10.371165  0.751362   6.132077\n",
       "COST         50   3.201096   4.055928  0.745455   4.141156\n",
       "WMT          50   1.732782   2.222022  0.699902   3.343207\n",
       "AMD          50   6.804738  10.173124  0.651438  10.756544\n",
       "VNQ          50   1.369764   2.119358  0.562520   3.975014\n",
       "T            50   1.997547   3.998351  0.455178   6.046514\n",
       "GRPN         50   1.569913   3.134512  0.444193   9.866664\n",
       "CSCO         50   1.700472   5.351605  0.284567   9.920986"
      ]
     },
     "execution_count": 2,
     "metadata": {},
     "output_type": "execute_result"
    }
   ],
   "source": [
    "stat = quote.statistics(21)\n",
    "stat = stat[(stat['drawdown'] < 12) & (stat['21-mean'] > 1.2)]\n",
    "stat"
   ]
  },
  {
   "cell_type": "code",
   "execution_count": 3,
   "metadata": {},
   "outputs": [
    {
     "name": "stdout",
     "output_type": "stream",
     "text": [
      "['MUB', 'PGX', 'BXMT', 'VNQ', 'SPLV', 'KO', 'SHOP'] 14.946948954603648 22.634651748184698 7.1121796171774765 -14.799882410758528\n",
      "['MUB', 'PGX', 'BXMT', 'VNQ', 'SPLV', 'SHOP', 'ZNGA'] 11.864911227178418 18.168520206722558 7.441317092206484 -13.744926071750626\n",
      "['MUB', 'PGX', 'BXMT', 'VNQ', 'SPLV', 'SHOP', 'NTDOY'] 11.649873135191312 17.243874209312263 8.112801795640529 -13.70680286976148\n",
      "['MUB', 'PGX', 'BXMT', 'VNQ', 'SPLV', 'SHOP', 'DIS'] 10.98251850988342 16.226694564253044 7.799295957811278 -13.043472012180903\n",
      "['MUB', 'PGX', 'BXMT', 'VNQ', 'SPLV', 'SHOP', 'WMT'] 10.493728163974943 16.383662045041866 7.102078371905973 -12.992012252972899\n"
     ]
    },
    {
     "data": {
      "text/plain": [
       "['MUB', 'PGX', 'BXMT', 'VNQ', 'SPLV', 'SHOP', 'WMT']"
      ]
     },
     "execution_count": 3,
     "metadata": {},
     "output_type": "execute_result"
    }
   ],
   "source": [
    "quote.setup_mask([*stat.index, *provided])\n",
    "quote.least_correlated_portfolio(21, 7, provided)"
   ]
  },
  {
   "cell_type": "code",
   "execution_count": 4,
   "metadata": {},
   "outputs": [
    {
     "name": "stdout",
     "output_type": "stream",
     "text": [
      "['MUB', 'PGX', 'BXMT', 'VNQ', 'SPLV', 'NTDOY', 'KO'] 17.003936863936524 24.267068925671108 7.415845100721693 -14.67897716245628\n",
      "['MUB', 'PGX', 'BXMT', 'VNQ', 'SPLV', 'NTDOY', 'SHOP'] 11.649873135191312 17.243874209312263 8.112801795640529 -13.70680286976148\n",
      "['MUB', 'PGX', 'BXMT', 'VNQ', 'SPLV', 'NTDOY', 'ZNGA'] 11.609567091651035 17.488605339348712 7.744982575750701 -13.624020823448378\n"
     ]
    },
    {
     "data": {
      "text/plain": [
       "['MUB', 'PGX', 'BXMT', 'VNQ', 'SPLV', 'NTDOY', 'ZNGA']"
      ]
     },
     "execution_count": 4,
     "metadata": {},
     "output_type": "execute_result"
    }
   ],
   "source": [
    "quote.setup_mask([*stat.index, *provided])\n",
    "quote.least_correlated_portfolio(21, 7, provided + ['NTDOY'])"
   ]
  },
  {
   "cell_type": "code",
   "execution_count": 5,
   "metadata": {},
   "outputs": [
    {
     "name": "stderr",
     "output_type": "stream",
     "text": [
      "/Users/chaoyi/.local/share/virtualenvs/portfolio_analysis-bdMx2S3t/lib/python3.7/site-packages/scipy/optimize/minpack.py:162: RuntimeWarning: The iteration is not making good progress, as measured by the \n",
      "  improvement from the last ten iterations.\n",
      "  warnings.warn(msg, RuntimeWarning)\n"
     ]
    },
    {
     "data": {
      "text/plain": [
       "(Symbols\n",
       " NTDOY    0.315655\n",
       " ZNGA     0.684345\n",
       " dtype: float64, 8.012, 3.7838)"
      ]
     },
     "execution_count": 5,
     "metadata": {},
     "output_type": "execute_result"
    }
   ],
   "source": [
    "quote.setup_mask(['NTDOY', 'ZNGA'])\n",
    "quote.find_optimal_ratio(21, 8)"
   ]
  },
  {
   "cell_type": "code",
   "execution_count": 6,
   "metadata": {},
   "outputs": [
    {
     "data": {
      "text/html": [
       "<div>\n",
       "<style scoped>\n",
       "    .dataframe tbody tr th:only-of-type {\n",
       "        vertical-align: middle;\n",
       "    }\n",
       "\n",
       "    .dataframe tbody tr th {\n",
       "        vertical-align: top;\n",
       "    }\n",
       "\n",
       "    .dataframe thead th {\n",
       "        text-align: right;\n",
       "    }\n",
       "</style>\n",
       "<table border=\"1\" class=\"dataframe\">\n",
       "  <thead>\n",
       "    <tr style=\"text-align: right;\">\n",
       "      <th></th>\n",
       "      <th>count</th>\n",
       "      <th>mean</th>\n",
       "      <th>std</th>\n",
       "      <th>min</th>\n",
       "      <th>25%</th>\n",
       "      <th>50%</th>\n",
       "      <th>75%</th>\n",
       "      <th>max</th>\n",
       "      <th>shrp</th>\n",
       "      <th>drawdown</th>\n",
       "    </tr>\n",
       "  </thead>\n",
       "  <tbody>\n",
       "    <tr>\n",
       "      <th>Portfolio</th>\n",
       "      <td>50.0</td>\n",
       "      <td>7.930666</td>\n",
       "      <td>3.773026</td>\n",
       "      <td>1.152071</td>\n",
       "      <td>4.876505</td>\n",
       "      <td>8.062239</td>\n",
       "      <td>10.460070</td>\n",
       "      <td>16.626325</td>\n",
       "      <td>2.054871</td>\n",
       "      <td>4.686736</td>\n",
       "    </tr>\n",
       "    <tr>\n",
       "      <th>ZNGA</th>\n",
       "      <td>50.0</td>\n",
       "      <td>6.991839</td>\n",
       "      <td>4.690377</td>\n",
       "      <td>-1.129942</td>\n",
       "      <td>3.477169</td>\n",
       "      <td>5.690401</td>\n",
       "      <td>10.743593</td>\n",
       "      <td>17.904763</td>\n",
       "      <td>1.452816</td>\n",
       "      <td>4.700161</td>\n",
       "    </tr>\n",
       "    <tr>\n",
       "      <th>NTDOY</th>\n",
       "      <td>50.0</td>\n",
       "      <td>10.223728</td>\n",
       "      <td>7.101290</td>\n",
       "      <td>-1.587664</td>\n",
       "      <td>4.247562</td>\n",
       "      <td>9.809697</td>\n",
       "      <td>14.693490</td>\n",
       "      <td>27.448683</td>\n",
       "      <td>1.414693</td>\n",
       "      <td>7.386100</td>\n",
       "    </tr>\n",
       "  </tbody>\n",
       "</table>\n",
       "</div>"
      ],
      "text/plain": [
       "           count       mean       std       min       25%       50%  \\\n",
       "Portfolio   50.0   7.930666  3.773026  1.152071  4.876505  8.062239   \n",
       "ZNGA        50.0   6.991839  4.690377 -1.129942  3.477169  5.690401   \n",
       "NTDOY       50.0  10.223728  7.101290 -1.587664  4.247562  9.809697   \n",
       "\n",
       "                 75%        max      shrp  drawdown  \n",
       "Portfolio  10.460070  16.626325  2.054871  4.686736  \n",
       "ZNGA       10.743593  17.904763  1.452816  4.700161  \n",
       "NTDOY      14.693490  27.448683  1.414693  7.386100  "
      ]
     },
     "execution_count": 6,
     "metadata": {},
     "output_type": "execute_result"
    },
    {
     "data": {
      "image/png": "[encoded data removed]",
      "text/plain": [
       "<Figure size 864x576 with 1 Axes>"
      ]
     },
     "metadata": {
      "needs_background": "light"
     },
     "output_type": "display_data"
    }
   ],
   "source": [
    "quote.graph(21, {'NTDOY': .32, 'ZNGA': .68})"
   ]
  },
  {
   "cell_type": "code",
   "execution_count": null,
   "metadata": {},
   "outputs": [],
   "source": []
  }
 ],
 "metadata": {
  "kernelspec": {
   "display_name": "Python 3",
   "language": "python",
   "name": "python3"
  },
  "language_info": {
   "codemirror_mode": {
    "name": "ipython",
    "version": 3
   },
   "file_extension": ".py",
   "mimetype": "text/x-python",
   "name": "python",
   "nbconvert_exporter": "python",
   "pygments_lexer": "ipython3",
   "version": "3.7.3"
  }
 },
 "nbformat": 4,
 "nbformat_minor": 2
}
