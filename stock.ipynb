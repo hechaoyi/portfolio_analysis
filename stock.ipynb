{
 "cells": [
  {
   "cell_type": "code",
   "execution_count": 1,
   "metadata": {},
   "outputs": [
    {
     "name": "stdout",
     "output_type": "stream",
     "text": [
      "Populating the interactive namespace from numpy and matplotlib\n"
     ]
    },
    {
     "data": {
      "text/plain": [
       "'from 2019-02-19 to 2019-06-19'"
      ]
     },
     "execution_count": 1,
     "metadata": {},
     "output_type": "execute_result"
    }
   ],
   "source": [
    "%pylab inline\n",
    "from app import create_app\n",
    "from app.instrument import Instrument\n",
    "from app.analysis import Quote\n",
    "mappings= {'BRK.B': 'BRK-B'}\n",
    "with create_app().app_context():\n",
    "    provided = ['SPLV']\n",
    "    quote = Quote([b.symbol if b.symbol not in mappings else mappings[b.symbol]\n",
    "                   for b in Instrument.find_stocks(200)] + provided, 120)\n",
    "f'from {quote.start.date()} to {quote.end.date()}'"
   ]
  },
  {
   "cell_type": "code",
   "execution_count": 2,
   "metadata": {},
   "outputs": [
    {
     "data": {
      "text/html": [
       "<div>\n",
       "<style scoped>\n",
       "    .dataframe tbody tr th:only-of-type {\n",
       "        vertical-align: middle;\n",
       "    }\n",
       "\n",
       "    .dataframe tbody tr th {\n",
       "        vertical-align: top;\n",
       "    }\n",
       "\n",
       "    .dataframe thead th {\n",
       "        text-align: right;\n",
       "    }\n",
       "</style>\n",
       "<table border=\"1\" class=\"dataframe\">\n",
       "  <thead>\n",
       "    <tr style=\"text-align: right;\">\n",
       "      <th></th>\n",
       "      <th>21-len</th>\n",
       "      <th>21-mean</th>\n",
       "      <th>21-std</th>\n",
       "      <th>21-shrp</th>\n",
       "      <th>drawdown</th>\n",
       "    </tr>\n",
       "    <tr>\n",
       "      <th>symbol</th>\n",
       "      <th></th>\n",
       "      <th></th>\n",
       "      <th></th>\n",
       "      <th></th>\n",
       "      <th></th>\n",
       "    </tr>\n",
       "  </thead>\n",
       "  <tbody>\n",
       "    <tr>\n",
       "      <th>MCD</th>\n",
       "      <td>64</td>\n",
       "      <td>3.510606</td>\n",
       "      <td>1.472688</td>\n",
       "      <td>2.264978</td>\n",
       "      <td>2.999189</td>\n",
       "    </tr>\n",
       "    <tr>\n",
       "      <th>KO</th>\n",
       "      <td>64</td>\n",
       "      <td>3.741948</td>\n",
       "      <td>1.646910</td>\n",
       "      <td>2.165843</td>\n",
       "      <td>3.383612</td>\n",
       "    </tr>\n",
       "    <tr>\n",
       "      <th>MA</th>\n",
       "      <td>64</td>\n",
       "      <td>4.422639</td>\n",
       "      <td>1.975870</td>\n",
       "      <td>2.149756</td>\n",
       "      <td>5.698715</td>\n",
       "    </tr>\n",
       "    <tr>\n",
       "      <th>WM</th>\n",
       "      <td>64</td>\n",
       "      <td>3.830558</td>\n",
       "      <td>1.998513</td>\n",
       "      <td>1.829139</td>\n",
       "      <td>3.316670</td>\n",
       "    </tr>\n",
       "    <tr>\n",
       "      <th>SHOP</th>\n",
       "      <td>64</td>\n",
       "      <td>14.915348</td>\n",
       "      <td>8.723200</td>\n",
       "      <td>1.689787</td>\n",
       "      <td>6.171441</td>\n",
       "    </tr>\n",
       "    <tr>\n",
       "      <th>SBUX</th>\n",
       "      <td>64</td>\n",
       "      <td>4.210087</td>\n",
       "      <td>2.762895</td>\n",
       "      <td>1.460456</td>\n",
       "      <td>4.600177</td>\n",
       "    </tr>\n",
       "    <tr>\n",
       "      <th>V</th>\n",
       "      <td>64</td>\n",
       "      <td>3.702456</td>\n",
       "      <td>2.443742</td>\n",
       "      <td>1.443465</td>\n",
       "      <td>4.317947</td>\n",
       "    </tr>\n",
       "    <tr>\n",
       "      <th>PYPL</th>\n",
       "      <td>64</td>\n",
       "      <td>4.922111</td>\n",
       "      <td>3.384218</td>\n",
       "      <td>1.402720</td>\n",
       "      <td>7.332924</td>\n",
       "    </tr>\n",
       "    <tr>\n",
       "      <th>ENPH</th>\n",
       "      <td>64</td>\n",
       "      <td>24.792422</td>\n",
       "      <td>17.956897</td>\n",
       "      <td>1.370917</td>\n",
       "      <td>6.875384</td>\n",
       "    </tr>\n",
       "    <tr>\n",
       "      <th>SPLV</th>\n",
       "      <td>64</td>\n",
       "      <td>1.976495</td>\n",
       "      <td>1.315619</td>\n",
       "      <td>1.369313</td>\n",
       "      <td>1.971359</td>\n",
       "    </tr>\n",
       "    <tr>\n",
       "      <th>PG</th>\n",
       "      <td>64</td>\n",
       "      <td>2.678352</td>\n",
       "      <td>1.897896</td>\n",
       "      <td>1.319015</td>\n",
       "      <td>4.809916</td>\n",
       "    </tr>\n",
       "    <tr>\n",
       "      <th>ZNGA</th>\n",
       "      <td>64</td>\n",
       "      <td>6.256166</td>\n",
       "      <td>4.682698</td>\n",
       "      <td>1.298646</td>\n",
       "      <td>7.241911</td>\n",
       "    </tr>\n",
       "    <tr>\n",
       "      <th>MSFT</th>\n",
       "      <td>64</td>\n",
       "      <td>4.712295</td>\n",
       "      <td>3.720826</td>\n",
       "      <td>1.219432</td>\n",
       "      <td>7.903950</td>\n",
       "    </tr>\n",
       "    <tr>\n",
       "      <th>NTDOY</th>\n",
       "      <td>64</td>\n",
       "      <td>8.602769</td>\n",
       "      <td>7.111844</td>\n",
       "      <td>1.185033</td>\n",
       "      <td>7.386102</td>\n",
       "    </tr>\n",
       "    <tr>\n",
       "      <th>COST</th>\n",
       "      <td>64</td>\n",
       "      <td>4.094109</td>\n",
       "      <td>4.074949</td>\n",
       "      <td>0.961757</td>\n",
       "      <td>4.141160</td>\n",
       "    </tr>\n",
       "    <tr>\n",
       "      <th>WMT</th>\n",
       "      <td>64</td>\n",
       "      <td>2.388798</td>\n",
       "      <td>3.110795</td>\n",
       "      <td>0.711650</td>\n",
       "      <td>4.647750</td>\n",
       "    </tr>\n",
       "    <tr>\n",
       "      <th>CMCSA</th>\n",
       "      <td>64</td>\n",
       "      <td>2.812106</td>\n",
       "      <td>4.046322</td>\n",
       "      <td>0.651729</td>\n",
       "      <td>5.925586</td>\n",
       "    </tr>\n",
       "    <tr>\n",
       "      <th>DIS</th>\n",
       "      <td>64</td>\n",
       "      <td>6.392477</td>\n",
       "      <td>9.827523</td>\n",
       "      <td>0.632660</td>\n",
       "      <td>6.132075</td>\n",
       "    </tr>\n",
       "    <tr>\n",
       "      <th>KMI</th>\n",
       "      <td>64</td>\n",
       "      <td>1.720778</td>\n",
       "      <td>2.479315</td>\n",
       "      <td>0.623470</td>\n",
       "      <td>5.044074</td>\n",
       "    </tr>\n",
       "    <tr>\n",
       "      <th>TMUS</th>\n",
       "      <td>64</td>\n",
       "      <td>1.671181</td>\n",
       "      <td>2.791209</td>\n",
       "      <td>0.536033</td>\n",
       "      <td>6.194916</td>\n",
       "    </tr>\n",
       "    <tr>\n",
       "      <th>T</th>\n",
       "      <td>64</td>\n",
       "      <td>2.120824</td>\n",
       "      <td>3.713858</td>\n",
       "      <td>0.523936</td>\n",
       "      <td>6.046512</td>\n",
       "    </tr>\n",
       "  </tbody>\n",
       "</table>\n",
       "</div>"
      ],
      "text/plain": [
       "        21-len    21-mean     21-std   21-shrp  drawdown\n",
       "symbol                                                  \n",
       "MCD         64   3.510606   1.472688  2.264978  2.999189\n",
       "KO          64   3.741948   1.646910  2.165843  3.383612\n",
       "MA          64   4.422639   1.975870  2.149756  5.698715\n",
       "WM          64   3.830558   1.998513  1.829139  3.316670\n",
       "SHOP        64  14.915348   8.723200  1.689787  6.171441\n",
       "SBUX        64   4.210087   2.762895  1.460456  4.600177\n",
       "V           64   3.702456   2.443742  1.443465  4.317947\n",
       "PYPL        64   4.922111   3.384218  1.402720  7.332924\n",
       "ENPH        64  24.792422  17.956897  1.370917  6.875384\n",
       "SPLV        64   1.976495   1.315619  1.369313  1.971359\n",
       "PG          64   2.678352   1.897896  1.319015  4.809916\n",
       "ZNGA        64   6.256166   4.682698  1.298646  7.241911\n",
       "MSFT        64   4.712295   3.720826  1.219432  7.903950\n",
       "NTDOY       64   8.602769   7.111844  1.185033  7.386102\n",
       "COST        64   4.094109   4.074949  0.961757  4.141160\n",
       "WMT         64   2.388798   3.110795  0.711650  4.647750\n",
       "CMCSA       64   2.812106   4.046322  0.651729  5.925586\n",
       "DIS         64   6.392477   9.827523  0.632660  6.132075\n",
       "KMI         64   1.720778   2.479315  0.623470  5.044074\n",
       "TMUS        64   1.671181   2.791209  0.536033  6.194916\n",
       "T           64   2.120824   3.713858  0.523936  6.046512"
      ]
     },
     "execution_count": 2,
     "metadata": {},
     "output_type": "execute_result"
    }
   ],
   "source": [
    "stat = quote.statistics(21)\n",
    "stat = stat[(stat['drawdown'] < 8) & (stat['21-mean'] > 0.8)]\n",
    "stat"
   ]
  },
  {
   "cell_type": "code",
   "execution_count": 3,
   "metadata": {},
   "outputs": [
    {
     "name": "stdout",
     "output_type": "stream",
     "text": [
      "['SPLV', 'MCD', 'KO'] 7.718753869587859 3.3138925173572202 2.0651040600314374 -7.169447405252331\n",
      "['SPLV', 'MCD', 'WM'] 7.617566724310233 3.1217236013138425 2.0517156535269523 -6.832743092425261\n",
      "['SPLV', 'MCD', 'SHOP'] 6.6912205643634985 1.4469662091889255 2.6226698214873734 -6.693391139963846\n",
      "['SPLV', 'MCD', 'ENPH'] 6.5338370339157645 0.9272625321616443 2.763458413485602 -6.374521684349933\n"
     ]
    },
    {
     "data": {
      "text/plain": [
       "['SPLV', 'MCD', 'ENPH']"
      ]
     },
     "execution_count": 3,
     "metadata": {},
     "output_type": "execute_result"
    }
   ],
   "source": [
    "quote.setup_mask([*stat.index, *provided])\n",
    "quote.least_correlated_portfolio(21, 3, provided, cr=2, dr=4)"
   ]
  },
  {
   "cell_type": "code",
   "execution_count": 4,
   "metadata": {},
   "outputs": [
    {
     "name": "stdout",
     "output_type": "stream",
     "text": [
      "     fun: 1.7341309066418886\n",
      "     jac: array([3.45121193, 3.46888927])\n",
      " message: 'Optimization terminated successfully.'\n",
      "    nfev: 8\n",
      "     nit: 2\n",
      "    njev: 2\n",
      "  status: 0\n",
      " success: True\n",
      "       x: array([0.03548211, 0.96451789])\n"
     ]
    },
    {
     "name": "stderr",
     "output_type": "stream",
     "text": [
      "/Users/chaoyi/.local/share/virtualenvs/portfolio_analysis-bdMx2S3t/lib/python3.7/site-packages/scipy/optimize/minpack.py:162: RuntimeWarning: The iteration is not making good progress, as measured by the \n",
      "  improvement from the last ten iterations.\n",
      "  warnings.warn(msg, RuntimeWarning)\n"
     ]
    },
    {
     "data": {
      "text/plain": [
       "({'ENPH': 0.03548210538538238, 'MCD': 0.9645178946146176}, 4.2657, 1.3169)"
      ]
     },
     "execution_count": 4,
     "metadata": {},
     "output_type": "execute_result"
    }
   ],
   "source": [
    "quote.setup_mask(['ENPH', 'MCD'])\n",
    "quote.find_optimal_ratio(21, 8)"
   ]
  },
  {
   "cell_type": "code",
   "execution_count": null,
   "metadata": {},
   "outputs": [],
   "source": [
    "quote.graph(21, {'MCD': 0.96, 'ENPH': 0.04})"
   ]
  },
  {
   "cell_type": "code",
   "execution_count": null,
   "metadata": {},
   "outputs": [],
   "source": []
  }
 ],
 "metadata": {
  "kernelspec": {
   "display_name": "Python 3",
   "language": "python",
   "name": "python3"
  },
  "language_info": {
   "codemirror_mode": {
    "name": "ipython",
    "version": 3
   },
   "file_extension": ".py",
   "mimetype": "text/x-python",
   "name": "python",
   "nbconvert_exporter": "python",
   "pygments_lexer": "ipython3",
   "version": "3.7.3"
  }
 },
 "nbformat": 4,
 "nbformat_minor": 2
}
